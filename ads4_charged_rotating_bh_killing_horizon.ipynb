{
 "cells": [
  {
   "cell_type": "code",
   "execution_count": 1,
   "metadata": {},
   "outputs": [],
   "source": [
    "from einsteinpy.symbolic import MetricTensor, ChristoffelSymbols\n",
    "import sympy\n",
    "from sympy.tensor.tensor import TensorIndexType, TensorHead, tensor_indices\n",
    "\n",
    "sympy.init_printing()"
   ]
  },
  {
   "attachments": {},
   "cell_type": "markdown",
   "metadata": {},
   "source": [
    "### Variable Definitions"
   ]
  },
  {
   "cell_type": "code",
   "execution_count": 2,
   "metadata": {},
   "outputs": [],
   "source": [
    "t, r, theta, phi = sympy.symbols(\"t r theta phi\")"
   ]
  },
  {
   "cell_type": "code",
   "execution_count": 3,
   "metadata": {},
   "outputs": [],
   "source": [
    "dt, dr, dtheta, dphi = sympy.symbols(r\"dt dr d\\theta d\\phi\")"
   ]
  },
  {
   "cell_type": "code",
   "execution_count": 4,
   "metadata": {},
   "outputs": [],
   "source": [
    "a, delta, m = sympy.symbols(\"a delta m\")"
   ]
  },
  {
   "cell_type": "code",
   "execution_count": 5,
   "metadata": {},
   "outputs": [],
   "source": [
    "r_tilde, delta_r, delta_theta, W, xi = sympy.symbols(\"\\\\tilde{r} Delta_r Delta_theta W Xi\")"
   ]
  },
  {
   "cell_type": "code",
   "execution_count": 6,
   "metadata": {},
   "outputs": [],
   "source": [
    "dr_tilde = sympy.symbols(\"d\\\\tilde{r}\")"
   ]
  },
  {
   "cell_type": "code",
   "execution_count": 7,
   "metadata": {},
   "outputs": [],
   "source": [
    "omega = sympy.symbols(\"Omega\")"
   ]
  },
  {
   "cell_type": "code",
   "execution_count": 8,
   "metadata": {},
   "outputs": [],
   "source": [
    "r_tilde_plus = sympy.symbols(\"\\\\tilde{r}_+\")"
   ]
  },
  {
   "attachments": {},
   "cell_type": "markdown",
   "metadata": {},
   "source": [
    "### Metric"
   ]
  },
  {
   "cell_type": "code",
   "execution_count": 9,
   "metadata": {},
   "outputs": [],
   "source": [
    "metric_orig = -delta_r / W * (dt - a * sympy.sin(theta) ** 2 * dphi / xi) ** 2\n",
    "metric_orig += delta_theta * sympy.sin(theta) ** 2 / W * (a * dt - (r_tilde ** 2 + a ** 2) * dphi / xi) ** 2\n",
    "metric_orig += W * (dr_tilde ** 2 / delta_r + dtheta ** 2 / delta_theta)"
   ]
  },
  {
   "cell_type": "code",
   "execution_count": 10,
   "metadata": {},
   "outputs": [
    {
     "data": {
      "image/png": "[encoded data removed]",
      "text/latex": [
       "$\\displaystyle - \\frac{\\Delta_{r} \\left(dt - \\frac{a d\\phi \\sin^{2}{\\left(\\theta \\right)}}{\\Xi}\\right)^{2}}{W} + \\frac{\\Delta_{\\theta} \\left(a dt - \\frac{d\\phi \\left(\\tilde{r}^{2} + a^{2}\\right)}{\\Xi}\\right)^{2} \\sin^{2}{\\left(\\theta \\right)}}{W} + W \\left(\\frac{d\\theta^{2}}{\\Delta_{\\theta}} + \\frac{d\\tilde{r}^{2}}{\\Delta_{r}}\\right)$"
      ],
      "text/plain": [
       "                           2                                          2       \n",
       "     ⎛                2   ⎞           ⎛             ⎛         2    2⎞⎞        \n",
       "     ⎜     a⋅d\\phi⋅sin (θ)⎟           ⎜       d\\phi⋅⎝\\tilde{r}  + a ⎠⎟     2  \n",
       "  Δᵣ⋅⎜dt - ───────────────⎟    Δₜₕₑₜₐ⋅⎜a⋅dt - ───────────────────────⎟ ⋅sin (θ\n",
       "     ⎝            Ξ       ⎠           ⎝                  Ξ           ⎠        \n",
       "- ────────────────────────── + ───────────────────────────────────────────────\n",
       "              W                                       W                       \n",
       "\n",
       "                              \n",
       "                              \n",
       "                              \n",
       ")     ⎛       2             2⎞\n",
       "      ⎜d\\theta    d\\tilde{r} ⎟\n",
       "─ + W⋅⎜──────── + ───────────⎟\n",
       "      ⎝ Δₜₕₑₜₐ         Δᵣ    ⎠"
      ]
     },
     "execution_count": 10,
     "metadata": {},
     "output_type": "execute_result"
    }
   ],
   "source": [
    "metric_orig"
   ]
  },
  {
   "cell_type": "code",
   "execution_count": 11,
   "metadata": {},
   "outputs": [
    {
     "data": {
      "image/png": "[encoded data removed]",
      "text/latex": [
       "$\\displaystyle - \\frac{\\Delta_{r} dt^{2}}{W} + \\frac{2 \\Delta_{r} a d\\phi dt \\sin^{2}{\\left(\\theta \\right)}}{W \\Xi} - \\frac{\\Delta_{r} a^{2} d\\phi^{2} \\sin^{4}{\\left(\\theta \\right)}}{W \\Xi^{2}} + \\frac{\\Delta_{\\theta} a^{2} dt^{2} \\sin^{2}{\\left(\\theta \\right)}}{W} - \\frac{2 \\Delta_{\\theta} \\tilde{r}^{2} a d\\phi dt \\sin^{2}{\\left(\\theta \\right)}}{W \\Xi} - \\frac{2 \\Delta_{\\theta} a^{3} d\\phi dt \\sin^{2}{\\left(\\theta \\right)}}{W \\Xi} + \\frac{\\Delta_{\\theta} \\tilde{r}^{4} d\\phi^{2} \\sin^{2}{\\left(\\theta \\right)}}{W \\Xi^{2}} + \\frac{2 \\Delta_{\\theta} \\tilde{r}^{2} a^{2} d\\phi^{2} \\sin^{2}{\\left(\\theta \\right)}}{W \\Xi^{2}} + \\frac{\\Delta_{\\theta} a^{4} d\\phi^{2} \\sin^{2}{\\left(\\theta \\right)}}{W \\Xi^{2}} + \\frac{W d\\theta^{2}}{\\Delta_{\\theta}} + \\frac{W d\\tilde{r}^{2}}{\\Delta_{r}}$"
      ],
      "text/plain": [
       "       2                      2          2      2    4              2   2    2\n",
       "  Δᵣ⋅dt    2⋅Δᵣ⋅a⋅d\\phi⋅dt⋅sin (θ)   Δᵣ⋅a ⋅d\\phi ⋅sin (θ)   Δₜₕₑₜₐ⋅a ⋅dt ⋅sin \n",
       "- ────── + ─────────────────────── - ──────────────────── + ──────────────────\n",
       "    W                W⋅Ξ                        2                     W       \n",
       "                                             W⋅Ξ                              \n",
       "\n",
       "                        2               2                3             2      \n",
       "(θ)   2⋅Δₜₕₑₜₐ⋅\\tilde{r} ⋅a⋅d\\phi⋅dt⋅sin (θ)   2⋅Δₜₕₑₜₐ⋅a ⋅d\\phi⋅dt⋅sin (θ)   \n",
       "─── - ────────────────────────────────────── - ──────────────────────────── + \n",
       "                       W⋅Ξ                                 W⋅Ξ                \n",
       "                                                                              \n",
       "\n",
       "                4      2    2                        2  2      2    2         \n",
       "Δₜₕₑₜₐ⋅\\tilde{r} ⋅d\\phi ⋅sin (θ)   2⋅Δₜₕₑₜₐ⋅\\tilde{r} ⋅a ⋅d\\phi ⋅sin (θ)   Δₜₕ\n",
       "──────────────────────────────── + ───────────────────────────────────── + ───\n",
       "                 2                                     2                      \n",
       "              W⋅Ξ                                   W⋅Ξ                       \n",
       "\n",
       "     4      2    2               2               2\n",
       "ₑₜₐ⋅a ⋅d\\phi ⋅sin (θ)   W⋅d\\theta    W⋅d\\tilde{r} \n",
       "───────────────────── + ────────── + ─────────────\n",
       "          2               Δₜₕₑₜₐ           Δᵣ     \n",
       "       W⋅Ξ                                        "
      ]
     },
     "execution_count": 11,
     "metadata": {},
     "output_type": "execute_result"
    }
   ],
   "source": [
    "metric = metric_orig.expand()\n",
    "metric"
   ]
  },
  {
   "cell_type": "code",
   "execution_count": 12,
   "metadata": {},
   "outputs": [],
   "source": [
    "metric_list_matrix = [[0 for i in range(4)] for i in range(4)]\n",
    "\n",
    "# dt\n",
    "metric_list_matrix[0][0] = metric.coeff(dt ** 2)\n",
    "metric_list_matrix[0][1] = metric.coeff(dt * dr_tilde) / 2\n",
    "metric_list_matrix[0][2] = metric.coeff(dt * dtheta) / 2\n",
    "metric_list_matrix[0][3] = metric.coeff(dt * dphi) / 2\n",
    "\n",
    "# dr_tilde\n",
    "metric_list_matrix[1][0] = metric.coeff(dr_tilde * dt) / 2\n",
    "metric_list_matrix[1][1] = metric.coeff(dr_tilde ** 2)\n",
    "metric_list_matrix[1][2] = metric.coeff(dr_tilde * dtheta) / 2\n",
    "metric_list_matrix[1][3] = metric.coeff(dr_tilde * dphi) / 2\n",
    "\n",
    "# dtheta\n",
    "metric_list_matrix[2][0] = metric.coeff(dtheta * dt) / 2\n",
    "metric_list_matrix[2][1] = metric.coeff(dtheta * dr_tilde) / 2\n",
    "metric_list_matrix[2][2] = metric.coeff(dtheta ** 2)\n",
    "metric_list_matrix[2][3] = metric.coeff(dtheta * dphi) / 2\n",
    "\n",
    "# dphi\n",
    "metric_list_matrix[3][0] = metric.coeff(dphi * dt) / 2\n",
    "metric_list_matrix[3][1] = metric.coeff(dphi * dr_tilde) / 2\n",
    "metric_list_matrix[3][2] = metric.coeff(dphi * dtheta) / 2\n",
    "metric_list_matrix[3][3] = metric.coeff(dphi ** 2)"
   ]
  },
  {
   "cell_type": "code",
   "execution_count": 13,
   "metadata": {},
   "outputs": [
    {
     "data": {
      "text/latex": [
       "$\\displaystyle \\left[\\begin{matrix}\\frac{- \\Delta_{r} + \\Delta_{\\theta} a^{2} \\sin^{2}{\\left(\\theta \\right)}}{W} & 0 & 0 & \\frac{a \\left(\\Delta_{r} - \\Delta_{\\theta} \\tilde{r}^{2} - \\Delta_{\\theta} a^{2}\\right) \\sin^{2}{\\left(\\theta \\right)}}{W \\Xi}\\\\0 & \\frac{W}{\\Delta_{r}} & 0 & 0\\\\0 & 0 & \\frac{W}{\\Delta_{\\theta}} & 0\\\\\\frac{a \\left(\\Delta_{r} - \\Delta_{\\theta} \\tilde{r}^{2} - \\Delta_{\\theta} a^{2}\\right) \\sin^{2}{\\left(\\theta \\right)}}{W \\Xi} & 0 & 0 & \\frac{\\left(- \\Delta_{r} a^{2} \\sin^{2}{\\left(\\theta \\right)} + \\Delta_{\\theta} \\tilde{r}^{4} + 2 \\Delta_{\\theta} \\tilde{r}^{2} a^{2} + \\Delta_{\\theta} a^{4}\\right) \\sin^{2}{\\left(\\theta \\right)}}{W \\Xi^{2}}\\end{matrix}\\right]$"
      ],
      "text/plain": [
       "⎡                         2    2                                              \n",
       "⎢           -Δᵣ + Δₜₕₑₜₐ⋅a ⋅sin (θ)                                           \n",
       "⎢           ───────────────────────              0     0                      \n",
       "⎢                      W                                                      \n",
       "⎢                                                                             \n",
       "⎢                                                W                            \n",
       "⎢                      0                         ──    0                      \n",
       "⎢                                                Δᵣ                           \n",
       "⎢                                                                             \n",
       "⎢                                                      W                      \n",
       "⎢                      0                         0   ──────                   \n",
       "⎢                                                    Δₜₕₑₜₐ                   \n",
       "⎢                                                                             \n",
       "⎢  ⎛                     2           2⎞    2                 ⎛      2    2    \n",
       "⎢a⋅⎝Δᵣ - Δₜₕₑₜₐ⋅\\tilde{r}  - Δₜₕₑₜₐ⋅a ⎠⋅sin (θ)              ⎝- Δᵣ⋅a ⋅sin (θ) \n",
       "⎢──────────────────────────────────────────────  0     0     ─────────────────\n",
       "⎢                     W⋅Ξ                                                     \n",
       "⎣                                                                             \n",
       "\n",
       "   ⎛                     2           2⎞    2                     ⎤\n",
       " a⋅⎝Δᵣ - Δₜₕₑₜₐ⋅\\tilde{r}  - Δₜₕₑₜₐ⋅a ⎠⋅sin (θ)                  ⎥\n",
       " ──────────────────────────────────────────────                  ⎥\n",
       "                      W⋅Ξ                                        ⎥\n",
       "                                                                 ⎥\n",
       "                                                                 ⎥\n",
       "                       0                                         ⎥\n",
       "                                                                 ⎥\n",
       "                                                                 ⎥\n",
       "                                                                 ⎥\n",
       "                       0                                         ⎥\n",
       "                                                                 ⎥\n",
       "                                                                 ⎥\n",
       "                  4                     2  2           4⎞    2   ⎥\n",
       "+ Δₜₕₑₜₐ⋅\\tilde{r}  + 2⋅Δₜₕₑₜₐ⋅\\tilde{r} ⋅a  + Δₜₕₑₜₐ⋅a ⎠⋅sin (θ)⎥\n",
       "─────────────────────────────────────────────────────────────────⎥\n",
       "                         2                                       ⎥\n",
       "                      W⋅Ξ                                        ⎦"
      ]
     },
     "execution_count": 13,
     "metadata": {},
     "output_type": "execute_result"
    }
   ],
   "source": [
    "syms = sympy.symbols(\"t \\\\tilde{r} theta phi\")\n",
    "sch = MetricTensor(metric_list_matrix, syms)\n",
    "sch.tensor().simplify()"
   ]
  },
  {
   "cell_type": "code",
   "execution_count": 14,
   "metadata": {},
   "outputs": [
    {
     "data": {
      "text/latex": [
       "$\\displaystyle \\left[\\begin{matrix}\\left[\\begin{matrix}0 & - \\frac{\\Delta_{\\theta} \\tilde{r} a \\left(\\Delta_{r} W \\Xi a - \\Delta_{\\theta} W \\Xi \\tilde{r}^{2} a - \\Delta_{\\theta} W \\Xi a^{3}\\right) \\sin^{2}{\\left(\\theta \\right)}}{W \\Xi \\left(\\Delta_{r} \\Delta_{\\theta} \\tilde{r}^{4} - 2 \\Delta_{r} \\Delta_{\\theta} \\tilde{r}^{2} a^{2} \\sin^{2}{\\left(\\theta \\right)} + 2 \\Delta_{r} \\Delta_{\\theta} \\tilde{r}^{2} a^{2} + \\Delta_{r} \\Delta_{\\theta} a^{4} \\sin^{4}{\\left(\\theta \\right)} - 2 \\Delta_{r} \\Delta_{\\theta} a^{4} \\sin^{2}{\\left(\\theta \\right)} + \\Delta_{r} \\Delta_{\\theta} a^{4}\\right)} & \\frac{\\Delta_{\\theta} a^{2} \\left(\\Delta_{r} W a^{2} \\sin^{2}{\\left(\\theta \\right)} - \\Delta_{\\theta} W \\tilde{r}^{4} - 2 \\Delta_{\\theta} W \\tilde{r}^{2} a^{2} - \\Delta_{\\theta} W a^{4}\\right) \\sin{\\left(\\theta \\right)} \\cos{\\left(\\theta \\right)}}{W \\left(\\Delta_{r} \\Delta_{\\theta} \\tilde{r}^{4} - 2 \\Delta_{r} \\Delta_{\\theta} \\tilde{r}^{2} a^{2} \\sin^{2}{\\left(\\theta \\right)} + 2 \\Delta_{r} \\Delta_{\\theta} \\tilde{r}^{2} a^{2} + \\Delta_{r} \\Delta_{\\theta} a^{4} \\sin^{4}{\\left(\\theta \\right)} - 2 \\Delta_{r} \\Delta_{\\theta} a^{4} \\sin^{2}{\\left(\\theta \\right)} + \\Delta_{r} \\Delta_{\\theta} a^{4}\\right)} + \\frac{\\left(\\Delta_{r} W \\Xi a - \\Delta_{\\theta} W \\Xi \\tilde{r}^{2} a - \\Delta_{\\theta} W \\Xi a^{3}\\right) \\left(\\frac{2 \\Delta_{r} a \\sin{\\left(\\theta \\right)} \\cos{\\left(\\theta \\right)}}{W \\Xi} - \\frac{2 \\Delta_{\\theta} \\tilde{r}^{2} a \\sin{\\left(\\theta \\right)} \\cos{\\left(\\theta \\right)}}{W \\Xi} - \\frac{2 \\Delta_{\\theta} a^{3} \\sin{\\left(\\theta \\right)} \\cos{\\left(\\theta \\right)}}{W \\Xi}\\right)}{2 \\left(\\Delta_{r} \\Delta_{\\theta} \\tilde{r}^{4} - 2 \\Delta_{r} \\Delta_{\\theta} \\tilde{r}^{2} a^{2} \\sin^{2}{\\left(\\theta \\right)} + 2 \\Delta_{r} \\Delta_{\\theta} \\tilde{r}^{2} a^{2} + \\Delta_{r} \\Delta_{\\theta} a^{4} \\sin^{4}{\\left(\\theta \\right)} - 2 \\Delta_{r} \\Delta_{\\theta} a^{4} \\sin^{2}{\\left(\\theta \\right)} + \\Delta_{r} \\Delta_{\\theta} a^{4}\\right)} & 0\\\\- \\frac{\\Delta_{\\theta} \\tilde{r} a \\left(\\Delta_{r} W \\Xi a - \\Delta_{\\theta} W \\Xi \\tilde{r}^{2} a - \\Delta_{\\theta} W \\Xi a^{3}\\right) \\sin^{2}{\\left(\\theta \\right)}}{W \\Xi \\left(\\Delta_{r} \\Delta_{\\theta} \\tilde{r}^{4} - 2 \\Delta_{r} \\Delta_{\\theta} \\tilde{r}^{2} a^{2} \\sin^{2}{\\left(\\theta \\right)} + 2 \\Delta_{r} \\Delta_{\\theta} \\tilde{r}^{2} a^{2} + \\Delta_{r} \\Delta_{\\theta} a^{4} \\sin^{4}{\\left(\\theta \\right)} - 2 \\Delta_{r} \\Delta_{\\theta} a^{4} \\sin^{2}{\\left(\\theta \\right)} + \\Delta_{r} \\Delta_{\\theta} a^{4}\\right)} & 0 & 0 & - \\frac{\\Delta_{\\theta} \\tilde{r} a \\left(\\Delta_{r} W a^{2} \\sin^{2}{\\left(\\theta \\right)} - \\Delta_{\\theta} W \\tilde{r}^{4} - 2 \\Delta_{\\theta} W \\tilde{r}^{2} a^{2} - \\Delta_{\\theta} W a^{4}\\right) \\sin^{2}{\\left(\\theta \\right)}}{W \\Xi \\left(\\Delta_{r} \\Delta_{\\theta} \\tilde{r}^{4} - 2 \\Delta_{r} \\Delta_{\\theta} \\tilde{r}^{2} a^{2} \\sin^{2}{\\left(\\theta \\right)} + 2 \\Delta_{r} \\Delta_{\\theta} \\tilde{r}^{2} a^{2} + \\Delta_{r} \\Delta_{\\theta} a^{4} \\sin^{4}{\\left(\\theta \\right)} - 2 \\Delta_{r} \\Delta_{\\theta} a^{4} \\sin^{2}{\\left(\\theta \\right)} + \\Delta_{r} \\Delta_{\\theta} a^{4}\\right)} + \\frac{\\left(\\frac{4 \\Delta_{\\theta} \\tilde{r}^{3} \\sin^{2}{\\left(\\theta \\right)}}{W \\Xi^{2}} + \\frac{4 \\Delta_{\\theta} \\tilde{r} a^{2} \\sin^{2}{\\left(\\theta \\right)}}{W \\Xi^{2}}\\right) \\left(\\Delta_{r} W \\Xi a - \\Delta_{\\theta} W \\Xi \\tilde{r}^{2} a - \\Delta_{\\theta} W \\Xi a^{3}\\right)}{2 \\left(\\Delta_{r} \\Delta_{\\theta} \\tilde{r}^{4} - 2 \\Delta_{r} \\Delta_{\\theta} \\tilde{r}^{2} a^{2} \\sin^{2}{\\left(\\theta \\right)} + 2 \\Delta_{r} \\Delta_{\\theta} \\tilde{r}^{2} a^{2} + \\Delta_{r} \\Delta_{\\theta} a^{4} \\sin^{4}{\\left(\\theta \\right)} - 2 \\Delta_{r} \\Delta_{\\theta} a^{4} \\sin^{2}{\\left(\\theta \\right)} + \\Delta_{r} \\Delta_{\\theta} a^{4}\\right)}\\\\\\frac{\\Delta_{\\theta} a^{2} \\left(\\Delta_{r} W a^{2} \\sin^{2}{\\left(\\theta \\right)} - \\Delta_{\\theta} W \\tilde{r}^{4} - 2 \\Delta_{\\theta} W \\tilde{r}^{2} a^{2} - \\Delta_{\\theta} W a^{4}\\right) \\sin{\\left(\\theta \\right)} \\cos{\\left(\\theta \\right)}}{W \\left(\\Delta_{r} \\Delta_{\\theta} \\tilde{r}^{4} - 2 \\Delta_{r} \\Delta_{\\theta} \\tilde{r}^{2} a^{2} \\sin^{2}{\\left(\\theta \\right)} + 2 \\Delta_{r} \\Delta_{\\theta} \\tilde{r}^{2} a^{2} + \\Delta_{r} \\Delta_{\\theta} a^{4} \\sin^{4}{\\left(\\theta \\right)} - 2 \\Delta_{r} \\Delta_{\\theta} a^{4} \\sin^{2}{\\left(\\theta \\right)} + \\Delta_{r} \\Delta_{\\theta} a^{4}\\right)} + \\frac{\\left(\\Delta_{r} W \\Xi a - \\Delta_{\\theta} W \\Xi \\tilde{r}^{2} a - \\Delta_{\\theta} W \\Xi a^{3}\\right) \\left(\\frac{2 \\Delta_{r} a \\sin{\\left(\\theta \\right)} \\cos{\\left(\\theta \\right)}}{W \\Xi} - \\frac{2 \\Delta_{\\theta} \\tilde{r}^{2} a \\sin{\\left(\\theta \\right)} \\cos{\\left(\\theta \\right)}}{W \\Xi} - \\frac{2 \\Delta_{\\theta} a^{3} \\sin{\\left(\\theta \\right)} \\cos{\\left(\\theta \\right)}}{W \\Xi}\\right)}{2 \\left(\\Delta_{r} \\Delta_{\\theta} \\tilde{r}^{4} - 2 \\Delta_{r} \\Delta_{\\theta} \\tilde{r}^{2} a^{2} \\sin^{2}{\\left(\\theta \\right)} + 2 \\Delta_{r} \\Delta_{\\theta} \\tilde{r}^{2} a^{2} + \\Delta_{r} \\Delta_{\\theta} a^{4} \\sin^{4}{\\left(\\theta \\right)} - 2 \\Delta_{r} \\Delta_{\\theta} a^{4} \\sin^{2}{\\left(\\theta \\right)} + \\Delta_{r} \\Delta_{\\theta} a^{4}\\right)} & 0 & 0 & \\frac{\\left(\\Delta_{r} W \\Xi a - \\Delta_{\\theta} W \\Xi \\tilde{r}^{2} a - \\Delta_{\\theta} W \\Xi a^{3}\\right) \\left(- \\frac{4 \\Delta_{r} a^{2} \\sin^{3}{\\left(\\theta \\right)} \\cos{\\left(\\theta \\right)}}{W \\Xi^{2}} + \\frac{2 \\Delta_{\\theta} \\tilde{r}^{4} \\sin{\\left(\\theta \\right)} \\cos{\\left(\\theta \\right)}}{W \\Xi^{2}} + \\frac{4 \\Delta_{\\theta} \\tilde{r}^{2} a^{2} \\sin{\\left(\\theta \\right)} \\cos{\\left(\\theta \\right)}}{W \\Xi^{2}} + \\frac{2 \\Delta_{\\theta} a^{4} \\sin{\\left(\\theta \\right)} \\cos{\\left(\\theta \\right)}}{W \\Xi^{2}}\\right)}{2 \\left(\\Delta_{r} \\Delta_{\\theta} \\tilde{r}^{4} - 2 \\Delta_{r} \\Delta_{\\theta} \\tilde{r}^{2} a^{2} \\sin^{2}{\\left(\\theta \\right)} + 2 \\Delta_{r} \\Delta_{\\theta} \\tilde{r}^{2} a^{2} + \\Delta_{r} \\Delta_{\\theta} a^{4} \\sin^{4}{\\left(\\theta \\right)} - 2 \\Delta_{r} \\Delta_{\\theta} a^{4} \\sin^{2}{\\left(\\theta \\right)} + \\Delta_{r} \\Delta_{\\theta} a^{4}\\right)} + \\frac{\\left(\\frac{2 \\Delta_{r} a \\sin{\\left(\\theta \\right)} \\cos{\\left(\\theta \\right)}}{W \\Xi} - \\frac{2 \\Delta_{\\theta} \\tilde{r}^{2} a \\sin{\\left(\\theta \\right)} \\cos{\\left(\\theta \\right)}}{W \\Xi} - \\frac{2 \\Delta_{\\theta} a^{3} \\sin{\\left(\\theta \\right)} \\cos{\\left(\\theta \\right)}}{W \\Xi}\\right) \\left(\\Delta_{r} W a^{2} \\sin^{2}{\\left(\\theta \\right)} - \\Delta_{\\theta} W \\tilde{r}^{4} - 2 \\Delta_{\\theta} W \\tilde{r}^{2} a^{2} - \\Delta_{\\theta} W a^{4}\\right)}{2 \\left(\\Delta_{r} \\Delta_{\\theta} \\tilde{r}^{4} - 2 \\Delta_{r} \\Delta_{\\theta} \\tilde{r}^{2} a^{2} \\sin^{2}{\\left(\\theta \\right)} + 2 \\Delta_{r} \\Delta_{\\theta} \\tilde{r}^{2} a^{2} + \\Delta_{r} \\Delta_{\\theta} a^{4} \\sin^{4}{\\left(\\theta \\right)} - 2 \\Delta_{r} \\Delta_{\\theta} a^{4} \\sin^{2}{\\left(\\theta \\right)} + \\Delta_{r} \\Delta_{\\theta} a^{4}\\right)}\\\\0 & - \\frac{\\Delta_{\\theta} \\tilde{r} a \\left(\\Delta_{r} W a^{2} \\sin^{2}{\\left(\\theta \\right)} - \\Delta_{\\theta} W \\tilde{r}^{4} - 2 \\Delta_{\\theta} W \\tilde{r}^{2} a^{2} - \\Delta_{\\theta} W a^{4}\\right) \\sin^{2}{\\left(\\theta \\right)}}{W \\Xi \\left(\\Delta_{r} \\Delta_{\\theta} \\tilde{r}^{4} - 2 \\Delta_{r} \\Delta_{\\theta} \\tilde{r}^{2} a^{2} \\sin^{2}{\\left(\\theta \\right)} + 2 \\Delta_{r} \\Delta_{\\theta} \\tilde{r}^{2} a^{2} + \\Delta_{r} \\Delta_{\\theta} a^{4} \\sin^{4}{\\left(\\theta \\right)} - 2 \\Delta_{r} \\Delta_{\\theta} a^{4} \\sin^{2}{\\left(\\theta \\right)} + \\Delta_{r} \\Delta_{\\theta} a^{4}\\right)} + \\frac{\\left(\\frac{4 \\Delta_{\\theta} \\tilde{r}^{3} \\sin^{2}{\\left(\\theta \\right)}}{W \\Xi^{2}} + \\frac{4 \\Delta_{\\theta} \\tilde{r} a^{2} \\sin^{2}{\\left(\\theta \\right)}}{W \\Xi^{2}}\\right) \\left(\\Delta_{r} W \\Xi a - \\Delta_{\\theta} W \\Xi \\tilde{r}^{2} a - \\Delta_{\\theta} W \\Xi a^{3}\\right)}{2 \\left(\\Delta_{r} \\Delta_{\\theta} \\tilde{r}^{4} - 2 \\Delta_{r} \\Delta_{\\theta} \\tilde{r}^{2} a^{2} \\sin^{2}{\\left(\\theta \\right)} + 2 \\Delta_{r} \\Delta_{\\theta} \\tilde{r}^{2} a^{2} + \\Delta_{r} \\Delta_{\\theta} a^{4} \\sin^{4}{\\left(\\theta \\right)} - 2 \\Delta_{r} \\Delta_{\\theta} a^{4} \\sin^{2}{\\left(\\theta \\right)} + \\Delta_{r} \\Delta_{\\theta} a^{4}\\right)} & \\frac{\\left(\\Delta_{r} W \\Xi a - \\Delta_{\\theta} W \\Xi \\tilde{r}^{2} a - \\Delta_{\\theta} W \\Xi a^{3}\\right) \\left(- \\frac{4 \\Delta_{r} a^{2} \\sin^{3}{\\left(\\theta \\right)} \\cos{\\left(\\theta \\right)}}{W \\Xi^{2}} + \\frac{2 \\Delta_{\\theta} \\tilde{r}^{4} \\sin{\\left(\\theta \\right)} \\cos{\\left(\\theta \\right)}}{W \\Xi^{2}} + \\frac{4 \\Delta_{\\theta} \\tilde{r}^{2} a^{2} \\sin{\\left(\\theta \\right)} \\cos{\\left(\\theta \\right)}}{W \\Xi^{2}} + \\frac{2 \\Delta_{\\theta} a^{4} \\sin{\\left(\\theta \\right)} \\cos{\\left(\\theta \\right)}}{W \\Xi^{2}}\\right)}{2 \\left(\\Delta_{r} \\Delta_{\\theta} \\tilde{r}^{4} - 2 \\Delta_{r} \\Delta_{\\theta} \\tilde{r}^{2} a^{2} \\sin^{2}{\\left(\\theta \\right)} + 2 \\Delta_{r} \\Delta_{\\theta} \\tilde{r}^{2} a^{2} + \\Delta_{r} \\Delta_{\\theta} a^{4} \\sin^{4}{\\left(\\theta \\right)} - 2 \\Delta_{r} \\Delta_{\\theta} a^{4} \\sin^{2}{\\left(\\theta \\right)} + \\Delta_{r} \\Delta_{\\theta} a^{4}\\right)} + \\frac{\\left(\\frac{2 \\Delta_{r} a \\sin{\\left(\\theta \\right)} \\cos{\\left(\\theta \\right)}}{W \\Xi} - \\frac{2 \\Delta_{\\theta} \\tilde{r}^{2} a \\sin{\\left(\\theta \\right)} \\cos{\\left(\\theta \\right)}}{W \\Xi} - \\frac{2 \\Delta_{\\theta} a^{3} \\sin{\\left(\\theta \\right)} \\cos{\\left(\\theta \\right)}}{W \\Xi}\\right) \\left(\\Delta_{r} W a^{2} \\sin^{2}{\\left(\\theta \\right)} - \\Delta_{\\theta} W \\tilde{r}^{4} - 2 \\Delta_{\\theta} W \\tilde{r}^{2} a^{2} - \\Delta_{\\theta} W a^{4}\\right)}{2 \\left(\\Delta_{r} \\Delta_{\\theta} \\tilde{r}^{4} - 2 \\Delta_{r} \\Delta_{\\theta} \\tilde{r}^{2} a^{2} \\sin^{2}{\\left(\\theta \\right)} + 2 \\Delta_{r} \\Delta_{\\theta} \\tilde{r}^{2} a^{2} + \\Delta_{r} \\Delta_{\\theta} a^{4} \\sin^{4}{\\left(\\theta \\right)} - 2 \\Delta_{r} \\Delta_{\\theta} a^{4} \\sin^{2}{\\left(\\theta \\right)} + \\Delta_{r} \\Delta_{\\theta} a^{4}\\right)} & 0\\end{matrix}\\right] & \\left[\\begin{matrix}0 & 0 & 0 & \\frac{\\Delta_{r} \\Delta_{\\theta} \\tilde{r} a \\sin^{2}{\\left(\\theta \\right)}}{W^{2} \\Xi}\\\\0 & 0 & 0 & 0\\\\0 & 0 & 0 & 0\\\\\\frac{\\Delta_{r} \\Delta_{\\theta} \\tilde{r} a \\sin^{2}{\\left(\\theta \\right)}}{W^{2} \\Xi} & 0 & 0 & \\frac{\\Delta_{r} \\left(- \\frac{4 \\Delta_{\\theta} \\tilde{r}^{3} \\sin^{2}{\\left(\\theta \\right)}}{W \\Xi^{2}} - \\frac{4 \\Delta_{\\theta} \\tilde{r} a^{2} \\sin^{2}{\\left(\\theta \\right)}}{W \\Xi^{2}}\\right)}{2 W}\\end{matrix}\\right] & \\left[\\begin{matrix}- \\frac{\\Delta_{\\theta}^{2} a^{2} \\sin{\\left(\\theta \\right)} \\cos{\\left(\\theta \\right)}}{W^{2}} & 0 & 0 & \\frac{\\Delta_{\\theta} \\left(- \\frac{2 \\Delta_{r} a \\sin{\\left(\\theta \\right)} \\cos{\\left(\\theta \\right)}}{W \\Xi} + \\frac{2 \\Delta_{\\theta} \\tilde{r}^{2} a \\sin{\\left(\\theta \\right)} \\cos{\\left(\\theta \\right)}}{W \\Xi} + \\frac{2 \\Delta_{\\theta} a^{3} \\sin{\\left(\\theta \\right)} \\cos{\\left(\\theta \\right)}}{W \\Xi}\\right)}{2 W}\\\\0 & 0 & 0 & 0\\\\0 & 0 & 0 & 0\\\\\\frac{\\Delta_{\\theta} \\left(- \\frac{2 \\Delta_{r} a \\sin{\\left(\\theta \\right)} \\cos{\\left(\\theta \\right)}}{W \\Xi} + \\frac{2 \\Delta_{\\theta} \\tilde{r}^{2} a \\sin{\\left(\\theta \\right)} \\cos{\\left(\\theta \\right)}}{W \\Xi} + \\frac{2 \\Delta_{\\theta} a^{3} \\sin{\\left(\\theta \\right)} \\cos{\\left(\\theta \\right)}}{W \\Xi}\\right)}{2 W} & 0 & 0 & \\frac{\\Delta_{\\theta} \\left(\\frac{4 \\Delta_{r} a^{2} \\sin^{3}{\\left(\\theta \\right)} \\cos{\\left(\\theta \\right)}}{W \\Xi^{2}} - \\frac{2 \\Delta_{\\theta} \\tilde{r}^{4} \\sin{\\left(\\theta \\right)} \\cos{\\left(\\theta \\right)}}{W \\Xi^{2}} - \\frac{4 \\Delta_{\\theta} \\tilde{r}^{2} a^{2} \\sin{\\left(\\theta \\right)} \\cos{\\left(\\theta \\right)}}{W \\Xi^{2}} - \\frac{2 \\Delta_{\\theta} a^{4} \\sin{\\left(\\theta \\right)} \\cos{\\left(\\theta \\right)}}{W \\Xi^{2}}\\right)}{2 W}\\end{matrix}\\right] & \\left[\\begin{matrix}0 & - \\frac{\\Delta_{\\theta} \\tilde{r} a \\left(\\Delta_{r} W \\Xi^{2} - \\Delta_{\\theta} W \\Xi^{2} a^{2} \\sin^{2}{\\left(\\theta \\right)}\\right) \\sin^{2}{\\left(\\theta \\right)}}{W \\Xi \\left(\\Delta_{r} \\Delta_{\\theta} \\tilde{r}^{4} \\sin^{2}{\\left(\\theta \\right)} - 2 \\Delta_{r} \\Delta_{\\theta} \\tilde{r}^{2} a^{2} \\sin^{4}{\\left(\\theta \\right)} + 2 \\Delta_{r} \\Delta_{\\theta} \\tilde{r}^{2} a^{2} \\sin^{2}{\\left(\\theta \\right)} + \\Delta_{r} \\Delta_{\\theta} a^{4} \\sin^{6}{\\left(\\theta \\right)} - 2 \\Delta_{r} \\Delta_{\\theta} a^{4} \\sin^{4}{\\left(\\theta \\right)} + \\Delta_{r} \\Delta_{\\theta} a^{4} \\sin^{2}{\\left(\\theta \\right)}\\right)} & \\frac{\\Delta_{\\theta} a^{2} \\left(\\Delta_{r} W \\Xi a - \\Delta_{\\theta} W \\Xi \\tilde{r}^{2} a - \\Delta_{\\theta} W \\Xi a^{3}\\right) \\sin{\\left(\\theta \\right)} \\cos{\\left(\\theta \\right)}}{W \\left(\\Delta_{r} \\Delta_{\\theta} \\tilde{r}^{4} - 2 \\Delta_{r} \\Delta_{\\theta} \\tilde{r}^{2} a^{2} \\sin^{2}{\\left(\\theta \\right)} + 2 \\Delta_{r} \\Delta_{\\theta} \\tilde{r}^{2} a^{2} + \\Delta_{r} \\Delta_{\\theta} a^{4} \\sin^{4}{\\left(\\theta \\right)} - 2 \\Delta_{r} \\Delta_{\\theta} a^{4} \\sin^{2}{\\left(\\theta \\right)} + \\Delta_{r} \\Delta_{\\theta} a^{4}\\right)} + \\frac{\\left(\\Delta_{r} W \\Xi^{2} - \\Delta_{\\theta} W \\Xi^{2} a^{2} \\sin^{2}{\\left(\\theta \\right)}\\right) \\left(\\frac{2 \\Delta_{r} a \\sin{\\left(\\theta \\right)} \\cos{\\left(\\theta \\right)}}{W \\Xi} - \\frac{2 \\Delta_{\\theta} \\tilde{r}^{2} a \\sin{\\left(\\theta \\right)} \\cos{\\left(\\theta \\right)}}{W \\Xi} - \\frac{2 \\Delta_{\\theta} a^{3} \\sin{\\left(\\theta \\right)} \\cos{\\left(\\theta \\right)}}{W \\Xi}\\right)}{2 \\left(\\Delta_{r} \\Delta_{\\theta} \\tilde{r}^{4} \\sin^{2}{\\left(\\theta \\right)} - 2 \\Delta_{r} \\Delta_{\\theta} \\tilde{r}^{2} a^{2} \\sin^{4}{\\left(\\theta \\right)} + 2 \\Delta_{r} \\Delta_{\\theta} \\tilde{r}^{2} a^{2} \\sin^{2}{\\left(\\theta \\right)} + \\Delta_{r} \\Delta_{\\theta} a^{4} \\sin^{6}{\\left(\\theta \\right)} - 2 \\Delta_{r} \\Delta_{\\theta} a^{4} \\sin^{4}{\\left(\\theta \\right)} + \\Delta_{r} \\Delta_{\\theta} a^{4} \\sin^{2}{\\left(\\theta \\right)}\\right)} & 0\\\\- \\frac{\\Delta_{\\theta} \\tilde{r} a \\left(\\Delta_{r} W \\Xi^{2} - \\Delta_{\\theta} W \\Xi^{2} a^{2} \\sin^{2}{\\left(\\theta \\right)}\\right) \\sin^{2}{\\left(\\theta \\right)}}{W \\Xi \\left(\\Delta_{r} \\Delta_{\\theta} \\tilde{r}^{4} \\sin^{2}{\\left(\\theta \\right)} - 2 \\Delta_{r} \\Delta_{\\theta} \\tilde{r}^{2} a^{2} \\sin^{4}{\\left(\\theta \\right)} + 2 \\Delta_{r} \\Delta_{\\theta} \\tilde{r}^{2} a^{2} \\sin^{2}{\\left(\\theta \\right)} + \\Delta_{r} \\Delta_{\\theta} a^{4} \\sin^{6}{\\left(\\theta \\right)} - 2 \\Delta_{r} \\Delta_{\\theta} a^{4} \\sin^{4}{\\left(\\theta \\right)} + \\Delta_{r} \\Delta_{\\theta} a^{4} \\sin^{2}{\\left(\\theta \\right)}\\right)} & 0 & 0 & - \\frac{\\Delta_{\\theta} \\tilde{r} a \\left(\\Delta_{r} W \\Xi a - \\Delta_{\\theta} W \\Xi \\tilde{r}^{2} a - \\Delta_{\\theta} W \\Xi a^{3}\\right) \\sin^{2}{\\left(\\theta \\right)}}{W \\Xi \\left(\\Delta_{r} \\Delta_{\\theta} \\tilde{r}^{4} - 2 \\Delta_{r} \\Delta_{\\theta} \\tilde{r}^{2} a^{2} \\sin^{2}{\\left(\\theta \\right)} + 2 \\Delta_{r} \\Delta_{\\theta} \\tilde{r}^{2} a^{2} + \\Delta_{r} \\Delta_{\\theta} a^{4} \\sin^{4}{\\left(\\theta \\right)} - 2 \\Delta_{r} \\Delta_{\\theta} a^{4} \\sin^{2}{\\left(\\theta \\right)} + \\Delta_{r} \\Delta_{\\theta} a^{4}\\right)} + \\frac{\\left(\\Delta_{r} W \\Xi^{2} - \\Delta_{\\theta} W \\Xi^{2} a^{2} \\sin^{2}{\\left(\\theta \\right)}\\right) \\left(\\frac{4 \\Delta_{\\theta} \\tilde{r}^{3} \\sin^{2}{\\left(\\theta \\right)}}{W \\Xi^{2}} + \\frac{4 \\Delta_{\\theta} \\tilde{r} a^{2} \\sin^{2}{\\left(\\theta \\right)}}{W \\Xi^{2}}\\right)}{2 \\left(\\Delta_{r} \\Delta_{\\theta} \\tilde{r}^{4} \\sin^{2}{\\left(\\theta \\right)} - 2 \\Delta_{r} \\Delta_{\\theta} \\tilde{r}^{2} a^{2} \\sin^{4}{\\left(\\theta \\right)} + 2 \\Delta_{r} \\Delta_{\\theta} \\tilde{r}^{2} a^{2} \\sin^{2}{\\left(\\theta \\right)} + \\Delta_{r} \\Delta_{\\theta} a^{4} \\sin^{6}{\\left(\\theta \\right)} - 2 \\Delta_{r} \\Delta_{\\theta} a^{4} \\sin^{4}{\\left(\\theta \\right)} + \\Delta_{r} \\Delta_{\\theta} a^{4} \\sin^{2}{\\left(\\theta \\right)}\\right)}\\\\\\frac{\\Delta_{\\theta} a^{2} \\left(\\Delta_{r} W \\Xi a - \\Delta_{\\theta} W \\Xi \\tilde{r}^{2} a - \\Delta_{\\theta} W \\Xi a^{3}\\right) \\sin{\\left(\\theta \\right)} \\cos{\\left(\\theta \\right)}}{W \\left(\\Delta_{r} \\Delta_{\\theta} \\tilde{r}^{4} - 2 \\Delta_{r} \\Delta_{\\theta} \\tilde{r}^{2} a^{2} \\sin^{2}{\\left(\\theta \\right)} + 2 \\Delta_{r} \\Delta_{\\theta} \\tilde{r}^{2} a^{2} + \\Delta_{r} \\Delta_{\\theta} a^{4} \\sin^{4}{\\left(\\theta \\right)} - 2 \\Delta_{r} \\Delta_{\\theta} a^{4} \\sin^{2}{\\left(\\theta \\right)} + \\Delta_{r} \\Delta_{\\theta} a^{4}\\right)} + \\frac{\\left(\\Delta_{r} W \\Xi^{2} - \\Delta_{\\theta} W \\Xi^{2} a^{2} \\sin^{2}{\\left(\\theta \\right)}\\right) \\left(\\frac{2 \\Delta_{r} a \\sin{\\left(\\theta \\right)} \\cos{\\left(\\theta \\right)}}{W \\Xi} - \\frac{2 \\Delta_{\\theta} \\tilde{r}^{2} a \\sin{\\left(\\theta \\right)} \\cos{\\left(\\theta \\right)}}{W \\Xi} - \\frac{2 \\Delta_{\\theta} a^{3} \\sin{\\left(\\theta \\right)} \\cos{\\left(\\theta \\right)}}{W \\Xi}\\right)}{2 \\left(\\Delta_{r} \\Delta_{\\theta} \\tilde{r}^{4} \\sin^{2}{\\left(\\theta \\right)} - 2 \\Delta_{r} \\Delta_{\\theta} \\tilde{r}^{2} a^{2} \\sin^{4}{\\left(\\theta \\right)} + 2 \\Delta_{r} \\Delta_{\\theta} \\tilde{r}^{2} a^{2} \\sin^{2}{\\left(\\theta \\right)} + \\Delta_{r} \\Delta_{\\theta} a^{4} \\sin^{6}{\\left(\\theta \\right)} - 2 \\Delta_{r} \\Delta_{\\theta} a^{4} \\sin^{4}{\\left(\\theta \\right)} + \\Delta_{r} \\Delta_{\\theta} a^{4} \\sin^{2}{\\left(\\theta \\right)}\\right)} & 0 & 0 & \\frac{\\left(\\Delta_{r} W \\Xi^{2} - \\Delta_{\\theta} W \\Xi^{2} a^{2} \\sin^{2}{\\left(\\theta \\right)}\\right) \\left(- \\frac{4 \\Delta_{r} a^{2} \\sin^{3}{\\left(\\theta \\right)} \\cos{\\left(\\theta \\right)}}{W \\Xi^{2}} + \\frac{2 \\Delta_{\\theta} \\tilde{r}^{4} \\sin{\\left(\\theta \\right)} \\cos{\\left(\\theta \\right)}}{W \\Xi^{2}} + \\frac{4 \\Delta_{\\theta} \\tilde{r}^{2} a^{2} \\sin{\\left(\\theta \\right)} \\cos{\\left(\\theta \\right)}}{W \\Xi^{2}} + \\frac{2 \\Delta_{\\theta} a^{4} \\sin{\\left(\\theta \\right)} \\cos{\\left(\\theta \\right)}}{W \\Xi^{2}}\\right)}{2 \\left(\\Delta_{r} \\Delta_{\\theta} \\tilde{r}^{4} \\sin^{2}{\\left(\\theta \\right)} - 2 \\Delta_{r} \\Delta_{\\theta} \\tilde{r}^{2} a^{2} \\sin^{4}{\\left(\\theta \\right)} + 2 \\Delta_{r} \\Delta_{\\theta} \\tilde{r}^{2} a^{2} \\sin^{2}{\\left(\\theta \\right)} + \\Delta_{r} \\Delta_{\\theta} a^{4} \\sin^{6}{\\left(\\theta \\right)} - 2 \\Delta_{r} \\Delta_{\\theta} a^{4} \\sin^{4}{\\left(\\theta \\right)} + \\Delta_{r} \\Delta_{\\theta} a^{4} \\sin^{2}{\\left(\\theta \\right)}\\right)} + \\frac{\\left(\\Delta_{r} W \\Xi a - \\Delta_{\\theta} W \\Xi \\tilde{r}^{2} a - \\Delta_{\\theta} W \\Xi a^{3}\\right) \\left(\\frac{2 \\Delta_{r} a \\sin{\\left(\\theta \\right)} \\cos{\\left(\\theta \\right)}}{W \\Xi} - \\frac{2 \\Delta_{\\theta} \\tilde{r}^{2} a \\sin{\\left(\\theta \\right)} \\cos{\\left(\\theta \\right)}}{W \\Xi} - \\frac{2 \\Delta_{\\theta} a^{3} \\sin{\\left(\\theta \\right)} \\cos{\\left(\\theta \\right)}}{W \\Xi}\\right)}{2 \\left(\\Delta_{r} \\Delta_{\\theta} \\tilde{r}^{4} - 2 \\Delta_{r} \\Delta_{\\theta} \\tilde{r}^{2} a^{2} \\sin^{2}{\\left(\\theta \\right)} + 2 \\Delta_{r} \\Delta_{\\theta} \\tilde{r}^{2} a^{2} + \\Delta_{r} \\Delta_{\\theta} a^{4} \\sin^{4}{\\left(\\theta \\right)} - 2 \\Delta_{r} \\Delta_{\\theta} a^{4} \\sin^{2}{\\left(\\theta \\right)} + \\Delta_{r} \\Delta_{\\theta} a^{4}\\right)}\\\\0 & - \\frac{\\Delta_{\\theta} \\tilde{r} a \\left(\\Delta_{r} W \\Xi a - \\Delta_{\\theta} W \\Xi \\tilde{r}^{2} a - \\Delta_{\\theta} W \\Xi a^{3}\\right) \\sin^{2}{\\left(\\theta \\right)}}{W \\Xi \\left(\\Delta_{r} \\Delta_{\\theta} \\tilde{r}^{4} - 2 \\Delta_{r} \\Delta_{\\theta} \\tilde{r}^{2} a^{2} \\sin^{2}{\\left(\\theta \\right)} + 2 \\Delta_{r} \\Delta_{\\theta} \\tilde{r}^{2} a^{2} + \\Delta_{r} \\Delta_{\\theta} a^{4} \\sin^{4}{\\left(\\theta \\right)} - 2 \\Delta_{r} \\Delta_{\\theta} a^{4} \\sin^{2}{\\left(\\theta \\right)} + \\Delta_{r} \\Delta_{\\theta} a^{4}\\right)} + \\frac{\\left(\\Delta_{r} W \\Xi^{2} - \\Delta_{\\theta} W \\Xi^{2} a^{2} \\sin^{2}{\\left(\\theta \\right)}\\right) \\left(\\frac{4 \\Delta_{\\theta} \\tilde{r}^{3} \\sin^{2}{\\left(\\theta \\right)}}{W \\Xi^{2}} + \\frac{4 \\Delta_{\\theta} \\tilde{r} a^{2} \\sin^{2}{\\left(\\theta \\right)}}{W \\Xi^{2}}\\right)}{2 \\left(\\Delta_{r} \\Delta_{\\theta} \\tilde{r}^{4} \\sin^{2}{\\left(\\theta \\right)} - 2 \\Delta_{r} \\Delta_{\\theta} \\tilde{r}^{2} a^{2} \\sin^{4}{\\left(\\theta \\right)} + 2 \\Delta_{r} \\Delta_{\\theta} \\tilde{r}^{2} a^{2} \\sin^{2}{\\left(\\theta \\right)} + \\Delta_{r} \\Delta_{\\theta} a^{4} \\sin^{6}{\\left(\\theta \\right)} - 2 \\Delta_{r} \\Delta_{\\theta} a^{4} \\sin^{4}{\\left(\\theta \\right)} + \\Delta_{r} \\Delta_{\\theta} a^{4} \\sin^{2}{\\left(\\theta \\right)}\\right)} & \\frac{\\left(\\Delta_{r} W \\Xi^{2} - \\Delta_{\\theta} W \\Xi^{2} a^{2} \\sin^{2}{\\left(\\theta \\right)}\\right) \\left(- \\frac{4 \\Delta_{r} a^{2} \\sin^{3}{\\left(\\theta \\right)} \\cos{\\left(\\theta \\right)}}{W \\Xi^{2}} + \\frac{2 \\Delta_{\\theta} \\tilde{r}^{4} \\sin{\\left(\\theta \\right)} \\cos{\\left(\\theta \\right)}}{W \\Xi^{2}} + \\frac{4 \\Delta_{\\theta} \\tilde{r}^{2} a^{2} \\sin{\\left(\\theta \\right)} \\cos{\\left(\\theta \\right)}}{W \\Xi^{2}} + \\frac{2 \\Delta_{\\theta} a^{4} \\sin{\\left(\\theta \\right)} \\cos{\\left(\\theta \\right)}}{W \\Xi^{2}}\\right)}{2 \\left(\\Delta_{r} \\Delta_{\\theta} \\tilde{r}^{4} \\sin^{2}{\\left(\\theta \\right)} - 2 \\Delta_{r} \\Delta_{\\theta} \\tilde{r}^{2} a^{2} \\sin^{4}{\\left(\\theta \\right)} + 2 \\Delta_{r} \\Delta_{\\theta} \\tilde{r}^{2} a^{2} \\sin^{2}{\\left(\\theta \\right)} + \\Delta_{r} \\Delta_{\\theta} a^{4} \\sin^{6}{\\left(\\theta \\right)} - 2 \\Delta_{r} \\Delta_{\\theta} a^{4} \\sin^{4}{\\left(\\theta \\right)} + \\Delta_{r} \\Delta_{\\theta} a^{4} \\sin^{2}{\\left(\\theta \\right)}\\right)} + \\frac{\\left(\\Delta_{r} W \\Xi a - \\Delta_{\\theta} W \\Xi \\tilde{r}^{2} a - \\Delta_{\\theta} W \\Xi a^{3}\\right) \\left(\\frac{2 \\Delta_{r} a \\sin{\\left(\\theta \\right)} \\cos{\\left(\\theta \\right)}}{W \\Xi} - \\frac{2 \\Delta_{\\theta} \\tilde{r}^{2} a \\sin{\\left(\\theta \\right)} \\cos{\\left(\\theta \\right)}}{W \\Xi} - \\frac{2 \\Delta_{\\theta} a^{3} \\sin{\\left(\\theta \\right)} \\cos{\\left(\\theta \\right)}}{W \\Xi}\\right)}{2 \\left(\\Delta_{r} \\Delta_{\\theta} \\tilde{r}^{4} - 2 \\Delta_{r} \\Delta_{\\theta} \\tilde{r}^{2} a^{2} \\sin^{2}{\\left(\\theta \\right)} + 2 \\Delta_{r} \\Delta_{\\theta} \\tilde{r}^{2} a^{2} + \\Delta_{r} \\Delta_{\\theta} a^{4} \\sin^{4}{\\left(\\theta \\right)} - 2 \\Delta_{r} \\Delta_{\\theta} a^{4} \\sin^{2}{\\left(\\theta \\right)} + \\Delta_{r} \\Delta_{\\theta} a^{4}\\right)} & 0\\end{matrix}\\right]\\end{matrix}\\right]$"
      ],
      "text/plain": [
       "⎡⎡                                                                            \n",
       "⎢⎢                                                                            \n",
       "⎢⎢                                                                            \n",
       "⎢⎢                                                                            \n",
       "⎢⎢                                                                            \n",
       "⎢⎢                                                                            \n",
       "⎢⎢                                                                            \n",
       "⎢⎢                                                                            \n",
       "⎢⎢                                                                            \n",
       "⎢⎢                                                                            \n",
       "⎢⎢                                                                            \n",
       "⎢⎢                                                                            \n",
       "⎢⎢                                                                            \n",
       "⎢⎢                                                                            \n",
       "⎢⎢                                                                            \n",
       "⎢⎢                                                                            \n",
       "⎢⎢                                                                            \n",
       "⎢⎢                                                                            \n",
       "⎢⎢                                                                            \n",
       "⎢⎢                                                                            \n",
       "⎢⎢                                2 ⎛      2    2                        4    \n",
       "⎢⎢                        Δₜₕₑₜₐ⋅a ⋅⎝Δᵣ⋅W⋅a ⋅sin (θ) - Δₜₕₑₜₐ⋅W⋅\\tilde{r}  - 2\n",
       "⎢⎢────────────────────────────────────────────────────────────────────────────\n",
       "⎢⎢  ⎛                   4                        2  2    2                    \n",
       "⎢⎢W⋅⎝Δᵣ⋅Δₜₕₑₜₐ⋅\\tilde{r}  - 2⋅Δᵣ⋅Δₜₕₑₜₐ⋅\\tilde{r} ⋅a ⋅sin (θ) + 2⋅Δᵣ⋅Δₜₕₑₜₐ⋅\\t\n",
       "⎢⎢                                                                            \n",
       "⎢⎢                                                                            \n",
       "⎢⎢                                                                            \n",
       "⎢⎢                                                                            \n",
       "⎢⎢                                                                            \n",
       "⎢⎢                                                                            \n",
       "⎢⎢                                                                            \n",
       "⎢⎢                                                                            \n",
       "⎣⎣                                                                            \n",
       "\n",
       "                                                                              \n",
       "                                                                              \n",
       "                                                                              \n",
       "                                                                              \n",
       "                                                                            0 \n",
       "                                                                              \n",
       "                                                                              \n",
       "                                                                              \n",
       "                                                                              \n",
       "                                                                              \n",
       "                                                                              \n",
       "                                                        ⎛                     \n",
       "                                    -Δₜₕₑₜₐ⋅\\tilde{r}⋅a⋅⎝Δᵣ⋅W⋅Ξ⋅a - Δₜₕₑₜₐ⋅W⋅Ξ\n",
       "──────────────────────────────────────────────────────────────────────────────\n",
       "    ⎛                   4                        2  2    2                    \n",
       "W⋅Ξ⋅⎝Δᵣ⋅Δₜₕₑₜₐ⋅\\tilde{r}  - 2⋅Δᵣ⋅Δₜₕₑₜₐ⋅\\tilde{r} ⋅a ⋅sin (θ) + 2⋅Δᵣ⋅Δₜₕₑₜₐ⋅\\t\n",
       "                                                                              \n",
       "                                                                              \n",
       "                                                                              \n",
       "                                                                              \n",
       "                   2  2             4⎞                                        \n",
       "⋅Δₜₕₑₜₐ⋅W⋅\\tilde{r} ⋅a  - Δₜₕₑₜₐ⋅W⋅a ⎠⋅sin(θ)⋅cos(θ)                          \n",
       "─────────────────────────────────────────────────────────────────────────── + \n",
       "       2  2              4    4                   4    2                 4⎞   \n",
       "ilde{r} ⋅a  + Δᵣ⋅Δₜₕₑₜₐ⋅a ⋅sin (θ) - 2⋅Δᵣ⋅Δₜₕₑₜₐ⋅a ⋅sin (θ) + Δᵣ⋅Δₜₕₑₜₐ⋅a ⎠   \n",
       "                                                                              \n",
       "                                                                              \n",
       "                                                                              \n",
       "                                                                              \n",
       "                                                                              \n",
       "                                                                              \n",
       "                                                                            0 \n",
       "                                                                              \n",
       "                                                                              \n",
       "\n",
       "                                                                              \n",
       "                                                                              \n",
       "                                                                              \n",
       "                                                                              \n",
       "                                                                              \n",
       "                                                                              \n",
       "                                                                              \n",
       "                                                                              \n",
       "                                                                              \n",
       "                                                                              \n",
       "                                                                              \n",
       "          2                 3⎞    2                                           \n",
       "⋅\\tilde{r} ⋅a - Δₜₕₑₜₐ⋅W⋅Ξ⋅a ⎠⋅sin (θ)                                        \n",
       "───────────────────────────────────────────────────────────────────────────   \n",
       "       2  2              4    4                   4    2                 4⎞   \n",
       "ilde{r} ⋅a  + Δᵣ⋅Δₜₕₑₜₐ⋅a ⋅sin (θ) - 2⋅Δᵣ⋅Δₜₕₑₜₐ⋅a ⋅sin (θ) + Δᵣ⋅Δₜₕₑₜₐ⋅a ⎠   \n",
       "                                                                              \n",
       "                                                                              \n",
       "                                                          ⎛                   \n",
       "     ⎛                               2                 3⎞ ⎜2⋅Δᵣ⋅a⋅sin(θ)⋅cos(θ\n",
       "     ⎝Δᵣ⋅W⋅Ξ⋅a - Δₜₕₑₜₐ⋅W⋅Ξ⋅\\tilde{r} ⋅a - Δₜₕₑₜₐ⋅W⋅Ξ⋅a ⎠⋅⎜───────────────────\n",
       "                                                          ⎝        W⋅Ξ        \n",
       "──────────────────────────────────────────────────────────────────────────────\n",
       "  ⎛                   4                        2  2    2                      \n",
       "2⋅⎝Δᵣ⋅Δₜₕₑₜₐ⋅\\tilde{r}  - 2⋅Δᵣ⋅Δₜₕₑₜₐ⋅\\tilde{r} ⋅a ⋅sin (θ) + 2⋅Δᵣ⋅Δₜₕₑₜₐ⋅\\til\n",
       "                                                                              \n",
       "                                                                              \n",
       "                                                                              \n",
       "                                                                              \n",
       "                                                                              \n",
       "                                                                              \n",
       "                                                                              \n",
       "                                                                              \n",
       "                                                                              \n",
       "\n",
       "                                                                              \n",
       "                                                                              \n",
       "                                                                              \n",
       "                                                                              \n",
       "                                                                              \n",
       "                                                                              \n",
       "                                                                              \n",
       "                                                                              \n",
       "                                                                              \n",
       "                                                                              \n",
       "                                                                              \n",
       "                                                                              \n",
       "                                                                              \n",
       "                                                                              \n",
       "                                                                              \n",
       "                                                                              \n",
       "                                                                              \n",
       "                                                                              \n",
       "                      2                             3              ⎞          \n",
       ")   2⋅Δₜₕₑₜₐ⋅\\tilde{r} ⋅a⋅sin(θ)⋅cos(θ)   2⋅Δₜₕₑₜₐ⋅a ⋅sin(θ)⋅cos(θ)⎟          \n",
       "─ - ─────────────────────────────────── - ─────────────────────────⎟          \n",
       "                    W⋅Ξ                              W⋅Ξ           ⎠          \n",
       "─────────────────────────────────────────────────────────────────────────     \n",
       "     2  2              4    4                   4    2                 4⎞     \n",
       "de{r} ⋅a  + Δᵣ⋅Δₜₕₑₜₐ⋅a ⋅sin (θ) - 2⋅Δᵣ⋅Δₜₕₑₜₐ⋅a ⋅sin (θ) + Δᵣ⋅Δₜₕₑₜₐ⋅a ⎠     \n",
       "                                                                              \n",
       "                                                                              \n",
       "                                                                              \n",
       "                                                                              \n",
       "                                                                              \n",
       "                                                                              \n",
       "                                                                           - ─\n",
       "                                                                              \n",
       "                                                                             W\n",
       "\n",
       "                                                                              \n",
       "                                                                              \n",
       "                                                                              \n",
       "                                                                              \n",
       "                                                                           ───\n",
       "                                                                              \n",
       "                                                                           W⋅Ξ\n",
       "                                                                              \n",
       "                                                                              \n",
       "                                                                              \n",
       "                                                                              \n",
       "                                                                              \n",
       "                                                                              \n",
       "                                                                              \n",
       "                                                                              \n",
       "                                                                              \n",
       "                                                                              \n",
       "                                                                              \n",
       "                                                                              \n",
       "                                                                              \n",
       "                                                                              \n",
       "                                                                              \n",
       "                                                                              \n",
       "                                                                              \n",
       "                                                                              \n",
       "                                                                              \n",
       "                                                                              \n",
       "                                                                              \n",
       "                                                                              \n",
       "                                         ⎛      2    2                        \n",
       "                      Δₜₕₑₜₐ⋅\\tilde{r}⋅a⋅⎝Δᵣ⋅W⋅a ⋅sin (θ) - Δₜₕₑₜₐ⋅W⋅\\tilde{r}\n",
       "──────────────────────────────────────────────────────────────────────────────\n",
       "   ⎛                   4                        2  2    2                     \n",
       "⋅Ξ⋅⎝Δᵣ⋅Δₜₕₑₜₐ⋅\\tilde{r}  - 2⋅Δᵣ⋅Δₜₕₑₜₐ⋅\\tilde{r} ⋅a ⋅sin (θ) + 2⋅Δᵣ⋅Δₜₕₑₜₐ⋅\\ti\n",
       "\n",
       "                                                                              \n",
       "                                                                              \n",
       "                                                     ⎛                        \n",
       "                                 -Δₜₕₑₜₐ⋅\\tilde{r}⋅a⋅⎝Δᵣ⋅W⋅Ξ⋅a - Δₜₕₑₜₐ⋅W⋅Ξ⋅\\t\n",
       "──────────────────────────────────────────────────────────────────────────────\n",
       " ⎛                   4                        2  2    2                       \n",
       "⋅⎝Δᵣ⋅Δₜₕₑₜₐ⋅\\tilde{r}  - 2⋅Δᵣ⋅Δₜₕₑₜₐ⋅\\tilde{r} ⋅a ⋅sin (θ) + 2⋅Δᵣ⋅Δₜₕₑₜₐ⋅\\tild\n",
       "                                                                              \n",
       "                                                                              \n",
       "                                                                              \n",
       "                                                                              \n",
       "                                                                              \n",
       "                                                                              \n",
       "                                                                         0    \n",
       "                                                                              \n",
       "                                                                              \n",
       "                                                                              \n",
       "                                                                              \n",
       "                                                                              \n",
       "                                                                              \n",
       "                                                                              \n",
       "                                                                              \n",
       "                                                                         0    \n",
       "                                                                              \n",
       "                                                                              \n",
       "                                                                              \n",
       "                                                                              \n",
       "                                                                              \n",
       "                                                                              \n",
       "4                       2  2             4⎞    2                              \n",
       "  - 2⋅Δₜₕₑₜₐ⋅W⋅\\tilde{r} ⋅a  - Δₜₕₑₜₐ⋅W⋅a ⎠⋅sin (θ)                           \n",
       "────────────────────────────────────────────────────────────────────────── + ─\n",
       "      2  2              4    4                   4    2                 4⎞    \n",
       "lde{r} ⋅a  + Δᵣ⋅Δₜₕₑₜₐ⋅a ⋅sin (θ) - 2⋅Δᵣ⋅Δₜₕₑₜₐ⋅a ⋅sin (θ) + Δᵣ⋅Δₜₕₑₜₐ⋅a ⎠   2\n",
       "\n",
       "                                                                              \n",
       "                                                                              \n",
       "       2                 3⎞    2                                              \n",
       "ilde{r} ⋅a - Δₜₕₑₜₐ⋅W⋅Ξ⋅a ⎠⋅sin (θ)                                           \n",
       "────────────────────────────────────────────────────────────────────────      \n",
       "    2  2              4    4                   4    2                 4⎞      \n",
       "e{r} ⋅a  + Δᵣ⋅Δₜₕₑₜₐ⋅a ⋅sin (θ) - 2⋅Δᵣ⋅Δₜₕₑₜₐ⋅a ⋅sin (θ) + Δᵣ⋅Δₜₕₑₜₐ⋅a ⎠      \n",
       "                                                                              \n",
       "                                                                              \n",
       "                                                                              \n",
       "                                                                              \n",
       "                                                                              \n",
       "                                                                              \n",
       "                                                                              \n",
       "                                                                              \n",
       "                                                                              \n",
       "                                                                              \n",
       "                                                                              \n",
       "                                                                              \n",
       "                                                                              \n",
       "                                                                              \n",
       "                                                                              \n",
       "                                                                              \n",
       "                                                                              \n",
       "                                                                              \n",
       "                                                                              \n",
       "                  ⎛                  3    2                          2    2   \n",
       "                  ⎜4⋅Δₜₕₑₜₐ⋅\\tilde{r} ⋅sin (θ)   4⋅Δₜₕₑₜₐ⋅\\tilde{r}⋅a ⋅sin (θ)\n",
       "                  ⎜─────────────────────────── + ─────────────────────────────\n",
       "                  ⎜               2                              2            \n",
       "                  ⎝            W⋅Ξ                            W⋅Ξ             \n",
       "──────────────────────────────────────────────────────────────────────────────\n",
       " ⎛                   4                        2  2    2                       \n",
       "⋅⎝Δᵣ⋅Δₜₕₑₜₐ⋅\\tilde{r}  - 2⋅Δᵣ⋅Δₜₕₑₜₐ⋅\\tilde{r} ⋅a ⋅sin (θ) + 2⋅Δᵣ⋅Δₜₕₑₜₐ⋅\\tild\n",
       "\n",
       "                                                                              \n",
       "                                                                              \n",
       "                                                                              \n",
       "                                                                              \n",
       "                                                                              \n",
       "                                                                              \n",
       "                                                                              \n",
       "                                                                              \n",
       "                                                                              \n",
       "                                                                              \n",
       "                                                                              \n",
       "                                                                              \n",
       "                                                                              \n",
       "                                                                              \n",
       "                                                                              \n",
       "                                                                              \n",
       "                                                                              \n",
       "                                                                              \n",
       "                                                                              \n",
       "                                                                              \n",
       "                                                                              \n",
       "                                                                              \n",
       "                                                                              \n",
       "                                                                              \n",
       "                                                                              \n",
       "                                                                              \n",
       "⎞                                                                             \n",
       "⎟ ⎛                               2                 3⎞                    ⎛   \n",
       "⎟⋅⎝Δᵣ⋅W⋅Ξ⋅a - Δₜₕₑₜₐ⋅W⋅Ξ⋅\\tilde{r} ⋅a - Δₜₕₑₜₐ⋅W⋅Ξ⋅a ⎠                    ⎝Δᵣ⋅\n",
       "⎟                                                                             \n",
       "⎠                                                                             \n",
       "────────────────────────────────────────────────────────────────────────  ────\n",
       "    2  2              4    4                   4    2                 4⎞      \n",
       "e{r} ⋅a  + Δᵣ⋅Δₜₕₑₜₐ⋅a ⋅sin (θ) - 2⋅Δᵣ⋅Δₜₕₑₜₐ⋅a ⋅sin (θ) + Δᵣ⋅Δₜₕₑₜₐ⋅a ⎠      \n",
       "\n",
       "                                                                              \n",
       "                                                                              \n",
       "                                                    2 ⎛      2    2           \n",
       "                                            Δₜₕₑₜₐ⋅a ⋅⎝Δᵣ⋅W⋅a ⋅sin (θ) - Δₜₕₑₜ\n",
       "                    ──────────────────────────────────────────────────────────\n",
       "                      ⎛                   4                        2  2    2  \n",
       "                    W⋅⎝Δᵣ⋅Δₜₕₑₜₐ⋅\\tilde{r}  - 2⋅Δᵣ⋅Δₜₕₑₜₐ⋅\\tilde{r} ⋅a ⋅sin (θ\n",
       "                                                                              \n",
       "                                                                              \n",
       "                                                                              \n",
       "                                                                              \n",
       "                                                                              \n",
       "                                                                              \n",
       "                                                                              \n",
       "                                                                              \n",
       "                                                                              \n",
       "                                                                              \n",
       "                                                                              \n",
       "                                                                              \n",
       "                                                                              \n",
       "                                                                              \n",
       "                                                                              \n",
       "                                                                              \n",
       "                                                                              \n",
       "                                                                              \n",
       "                                                                              \n",
       "                                                 ⎛        2    3              \n",
       "                            2                 3⎞ ⎜  4⋅Δᵣ⋅a ⋅sin (θ)⋅cos(θ)   2\n",
       "W⋅Ξ⋅a - Δₜₕₑₜₐ⋅W⋅Ξ⋅\\tilde{r} ⋅a - Δₜₕₑₜₐ⋅W⋅Ξ⋅a ⎠⋅⎜- ────────────────────── + ─\n",
       "                                                 ⎜              2             \n",
       "                                                 ⎝           W⋅Ξ              \n",
       "──────────────────────────────────────────────────────────────────────────────\n",
       "             ⎛                   4                        2  2    2           \n",
       "           2⋅⎝Δᵣ⋅Δₜₕₑₜₐ⋅\\tilde{r}  - 2⋅Δᵣ⋅Δₜₕₑₜₐ⋅\\tilde{r} ⋅a ⋅sin (θ) + 2⋅Δᵣ⋅\n",
       "\n",
       "                                                                              \n",
       "                                                                              \n",
       "             4                       2  2             4⎞                      \n",
       "ₐ⋅W⋅\\tilde{r}  - 2⋅Δₜₕₑₜₐ⋅W⋅\\tilde{r} ⋅a  - Δₜₕₑₜₐ⋅W⋅a ⎠⋅sin(θ)⋅cos(θ)        \n",
       "──────────────────────────────────────────────────────────────────────────────\n",
       "                         2  2              4    4                   4    2    \n",
       ") + 2⋅Δᵣ⋅Δₜₕₑₜₐ⋅\\tilde{r} ⋅a  + Δᵣ⋅Δₜₕₑₜₐ⋅a ⋅sin (θ) - 2⋅Δᵣ⋅Δₜₕₑₜₐ⋅a ⋅sin (θ) \n",
       "                                                                              \n",
       "                                                                              \n",
       "                                                                              \n",
       "                                                                              \n",
       "                                                                              \n",
       "                                                                              \n",
       "                                                                              \n",
       "                                                                              \n",
       "                                                                              \n",
       "                                                                              \n",
       "                                                                              \n",
       "                                                                              \n",
       "                                                                              \n",
       "                                                                              \n",
       "                                                                              \n",
       "                                                                              \n",
       "                                                                              \n",
       "                                                                              \n",
       "                                                                              \n",
       "                 4                                   2  2                     \n",
       "⋅Δₜₕₑₜₐ⋅\\tilde{r} ⋅sin(θ)⋅cos(θ)   4⋅Δₜₕₑₜₐ⋅\\tilde{r} ⋅a ⋅sin(θ)⋅cos(θ)   2⋅Δₜ\n",
       "──────────────────────────────── + ──────────────────────────────────── + ────\n",
       "                 2                                    2                       \n",
       "              W⋅Ξ                                  W⋅Ξ                        \n",
       "──────────────────────────────────────────────────────────────────────────────\n",
       "                2  2              4    4                   4    2             \n",
       "Δₜₕₑₜₐ⋅\\tilde{r} ⋅a  + Δᵣ⋅Δₜₕₑₜₐ⋅a ⋅sin (θ) - 2⋅Δᵣ⋅Δₜₕₑₜₐ⋅a ⋅sin (θ) + Δᵣ⋅Δₜₕₑ\n",
       "\n",
       "                                                                            ⎛ \n",
       "                       ⎛                               2                 3⎞ ⎜2\n",
       "                       ⎝Δᵣ⋅W⋅Ξ⋅a - Δₜₕₑₜₐ⋅W⋅Ξ⋅\\tilde{r} ⋅a - Δₜₕₑₜₐ⋅W⋅Ξ⋅a ⎠⋅⎜─\n",
       "                                                                            ⎝ \n",
       "─────────────── + ────────────────────────────────────────────────────────────\n",
       "             4⎞     ⎛                   4                        2  2    2    \n",
       "+ Δᵣ⋅Δₜₕₑₜₐ⋅a ⎠   2⋅⎝Δᵣ⋅Δₜₕₑₜₐ⋅\\tilde{r}  - 2⋅Δᵣ⋅Δₜₕₑₜₐ⋅\\tilde{r} ⋅a ⋅sin (θ) \n",
       "                                                                              \n",
       "                                                                              \n",
       "                                                                              \n",
       "                                                                              \n",
       "                                                                              \n",
       "                                                                              \n",
       "                0                                                             \n",
       "                                                                              \n",
       "                                                                              \n",
       "                                                                              \n",
       "                                                                              \n",
       "                                                                              \n",
       "                                                                              \n",
       "                                                                              \n",
       "                                                                              \n",
       "                0                                                             \n",
       "                                                                              \n",
       "                                                                              \n",
       "                                                                              \n",
       "      4              ⎞                                                        \n",
       "ₕₑₜₐ⋅a ⋅sin(θ)⋅cos(θ)⎟   ⎛                                         2          \n",
       "─────────────────────⎟   ⎜2⋅Δᵣ⋅a⋅sin(θ)⋅cos(θ)   2⋅Δₜₕₑₜₐ⋅\\tilde{r} ⋅a⋅sin(θ)⋅\n",
       "          2          ⎟   ⎜──────────────────── - ─────────────────────────────\n",
       "       W⋅Ξ           ⎠   ⎝        W⋅Ξ                            W⋅Ξ          \n",
       "────────────────────── + ─────────────────────────────────────────────────────\n",
       "    4⎞                              ⎛                   4                     \n",
       "ₜₐ⋅a ⎠                            2⋅⎝Δᵣ⋅Δₜₕₑₜₐ⋅\\tilde{r}  - 2⋅Δᵣ⋅Δₜₕₑₜₐ⋅\\tilde\n",
       "\n",
       "                                        2                             3       \n",
       "⋅Δᵣ⋅a⋅sin(θ)⋅cos(θ)   2⋅Δₜₕₑₜₐ⋅\\tilde{r} ⋅a⋅sin(θ)⋅cos(θ)   2⋅Δₜₕₑₜₐ⋅a ⋅sin(θ)\n",
       "─────────────────── - ─────────────────────────────────── - ──────────────────\n",
       "       W⋅Ξ                            W⋅Ξ                              W⋅Ξ    \n",
       "──────────────────────────────────────────────────────────────────────────────\n",
       "                       2  2              4    4                   4    2      \n",
       "+ 2⋅Δᵣ⋅Δₜₕₑₜₐ⋅\\tilde{r} ⋅a  + Δᵣ⋅Δₜₕₑₜₐ⋅a ⋅sin (θ) - 2⋅Δᵣ⋅Δₜₕₑₜₐ⋅a ⋅sin (θ) + \n",
       "                                                                              \n",
       "                                                                              \n",
       "                                                                              \n",
       "                                                                              \n",
       "                                                                              \n",
       "                                                                              \n",
       "                                                                              \n",
       "                                                                              \n",
       "                                                                              \n",
       "                                                                              \n",
       "                                                                              \n",
       "                                                                              \n",
       "                                                                              \n",
       "                                                                              \n",
       "                                                                              \n",
       "                                                                              \n",
       "                                                                              \n",
       "                                                                              \n",
       "                                                                              \n",
       "                                                                              \n",
       "                   3              ⎞                                           \n",
       "cos(θ)   2⋅Δₜₕₑₜₐ⋅a ⋅sin(θ)⋅cos(θ)⎟ ⎛      2    2                        4    \n",
       "────── - ─────────────────────────⎟⋅⎝Δᵣ⋅W⋅a ⋅sin (θ) - Δₜₕₑₜₐ⋅W⋅\\tilde{r}  - 2\n",
       "                    W⋅Ξ           ⎠                                           \n",
       "──────────────────────────────────────────────────────────────────────────────\n",
       "   2  2    2                           2  2              4    4               \n",
       "{r} ⋅a ⋅sin (θ) + 2⋅Δᵣ⋅Δₜₕₑₜₐ⋅\\tilde{r} ⋅a  + Δᵣ⋅Δₜₕₑₜₐ⋅a ⋅sin (θ) - 2⋅Δᵣ⋅Δₜₕₑ\n",
       "\n",
       "       ⎞                                                                      \n",
       "⋅cos(θ)⎟                                                                      \n",
       "───────⎟                                                                      \n",
       "       ⎠                                                                      \n",
       "─────────────                                                                 \n",
       "           4⎞                                                                 \n",
       "Δᵣ⋅Δₜₕₑₜₐ⋅a ⎠                                                                 \n",
       "                                                                              \n",
       "                                                                              \n",
       "                                                                              \n",
       "                                                                              \n",
       "                                                                              \n",
       "                                                                              \n",
       "                                                              - ──────────────\n",
       "                                                                    ⎛         \n",
       "                                                                W⋅Ξ⋅⎝Δᵣ⋅Δₜₕₑₜₐ\n",
       "                                                                              \n",
       "                                                                              \n",
       "                                        ⎛                               2     \n",
       "                                        ⎝Δᵣ⋅W⋅Ξ⋅a - Δₜₕₑₜₐ⋅W⋅Ξ⋅\\tilde{r} ⋅a - \n",
       "                                                                              \n",
       "                                                                              \n",
       "                                        ──────────────────────────────────────\n",
       "                                                         ⎛                   4\n",
       "                                                       2⋅⎝Δᵣ⋅Δₜₕₑₜₐ⋅\\tilde{r} \n",
       "                                                                              \n",
       "                                                                              \n",
       "                                                                              \n",
       "                   2  2             4⎞                                        \n",
       "⋅Δₜₕₑₜₐ⋅W⋅\\tilde{r} ⋅a  - Δₜₕₑₜₐ⋅W⋅a ⎠                                        \n",
       "                                                                              \n",
       "──────────────────────────────────────                                        \n",
       "    4    2                 4⎞                                                 \n",
       "ₜₐ⋅a ⋅sin (θ) + Δᵣ⋅Δₜₕₑₜₐ⋅a ⎠                                                 \n",
       "\n",
       "                                                                              \n",
       "                                                                              \n",
       "                                                                              \n",
       "                                                                              \n",
       "                                                                              \n",
       "                                                                              \n",
       "                                                                              \n",
       "                                                                              \n",
       "                                                                              \n",
       "                                                                              \n",
       "                                                                              \n",
       "                            ⎛      2    2                        4            \n",
       "         Δₜₕₑₜₐ⋅\\tilde{r}⋅a⋅⎝Δᵣ⋅W⋅a ⋅sin (θ) - Δₜₕₑₜₐ⋅W⋅\\tilde{r}  - 2⋅Δₜₕₑₜₐ⋅\n",
       "──────────────────────────────────────────────────────────────────────────────\n",
       "          4                        2  2    2                           2  2   \n",
       "⋅\\tilde{r}  - 2⋅Δᵣ⋅Δₜₕₑₜₐ⋅\\tilde{r} ⋅a ⋅sin (θ) + 2⋅Δᵣ⋅Δₜₕₑₜₐ⋅\\tilde{r} ⋅a  + \n",
       "                                                                              \n",
       "               ⎛        2    3                               4                \n",
       "            3⎞ ⎜  4⋅Δᵣ⋅a ⋅sin (θ)⋅cos(θ)   2⋅Δₜₕₑₜₐ⋅\\tilde{r} ⋅sin(θ)⋅cos(θ)  \n",
       "Δₜₕₑₜₐ⋅W⋅Ξ⋅a ⎠⋅⎜- ────────────────────── + ───────────────────────────────── +\n",
       "               ⎜              2                              2                \n",
       "               ⎝           W⋅Ξ                            W⋅Ξ                 \n",
       "──────────────────────────────────────────────────────────────────────────────\n",
       "                        2  2    2                           2  2              \n",
       " - 2⋅Δᵣ⋅Δₜₕₑₜₐ⋅\\tilde{r} ⋅a ⋅sin (θ) + 2⋅Δᵣ⋅Δₜₕₑₜₐ⋅\\tilde{r} ⋅a  + Δᵣ⋅Δₜₕₑₜₐ⋅a\n",
       "                                                                              \n",
       "                                                                              \n",
       "                                                                              \n",
       "                                                                              \n",
       "                                                                              \n",
       "                                                                              \n",
       "                                                                              \n",
       "                                                                              \n",
       "                                                                              \n",
       "\n",
       "                                                                              \n",
       "                                                                              \n",
       "                                                                              \n",
       "                                                                              \n",
       "                                                            0                 \n",
       "                                                                              \n",
       "                                                                              \n",
       "                                                                              \n",
       "                                                                              \n",
       "                                                                              \n",
       "                                                                              \n",
       "           2  2             4⎞    2                                           \n",
       "W⋅\\tilde{r} ⋅a  - Δₜₕₑₜₐ⋅W⋅a ⎠⋅sin (θ)                                        \n",
       "───────────────────────────────────────────────────────────── + ──────────────\n",
       "           4    4                   4    2                 4⎞     ⎛           \n",
       "Δᵣ⋅Δₜₕₑₜₐ⋅a ⋅sin (θ) - 2⋅Δᵣ⋅Δₜₕₑₜₐ⋅a ⋅sin (θ) + Δᵣ⋅Δₜₕₑₜₐ⋅a ⎠   2⋅⎝Δᵣ⋅Δₜₕₑₜₐ⋅\\\n",
       "                                                                              \n",
       "                   2  2                           4              ⎞            \n",
       " 4⋅Δₜₕₑₜₐ⋅\\tilde{r} ⋅a ⋅sin(θ)⋅cos(θ)   2⋅Δₜₕₑₜₐ⋅a ⋅sin(θ)⋅cos(θ)⎟   ⎛        \n",
       " ──────────────────────────────────── + ─────────────────────────⎟   ⎜2⋅Δᵣ⋅a⋅s\n",
       "                    2                                 2          ⎟   ⎜────────\n",
       "                 W⋅Ξ                               W⋅Ξ           ⎠   ⎝        \n",
       "────────────────────────────────────────────────────────────────── + ─────────\n",
       "4    4                   4    2                 4⎞                            \n",
       " ⋅sin (θ) - 2⋅Δᵣ⋅Δₜₕₑₜₐ⋅a ⋅sin (θ) + Δᵣ⋅Δₜₕₑₜₐ⋅a ⎠                            \n",
       "                                                                              \n",
       "                                                                              \n",
       "                                                                              \n",
       "                                                                              \n",
       "                                                                              \n",
       "                                                                              \n",
       "                                                            0                 \n",
       "                                                                              \n",
       "                                                                              \n",
       "\n",
       "                                                                              \n",
       "                                                                              \n",
       "                                                                              \n",
       "                                                                              \n",
       "                                                                              \n",
       "                                                                              \n",
       "                                                                              \n",
       "                                                                              \n",
       "     ⎛                  3    2                          2    2   ⎞            \n",
       "     ⎜4⋅Δₜₕₑₜₐ⋅\\tilde{r} ⋅sin (θ)   4⋅Δₜₕₑₜₐ⋅\\tilde{r}⋅a ⋅sin (θ)⎟ ⎛          \n",
       "     ⎜─────────────────────────── + ─────────────────────────────⎟⋅⎝Δᵣ⋅W⋅Ξ⋅a -\n",
       "     ⎜               2                              2            ⎟            \n",
       "     ⎝            W⋅Ξ                            W⋅Ξ             ⎠            \n",
       "──────────────────────────────────────────────────────────────────────────────\n",
       "        4                        2  2    2                           2  2     \n",
       "tilde{r}  - 2⋅Δᵣ⋅Δₜₕₑₜₐ⋅\\tilde{r} ⋅a ⋅sin (θ) + 2⋅Δᵣ⋅Δₜₕₑₜₐ⋅\\tilde{r} ⋅a  + Δᵣ\n",
       "                                                                              \n",
       "                                                                              \n",
       "                                 2                             3              \n",
       "in(θ)⋅cos(θ)   2⋅Δₜₕₑₜₐ⋅\\tilde{r} ⋅a⋅sin(θ)⋅cos(θ)   2⋅Δₜₕₑₜₐ⋅a ⋅sin(θ)⋅cos(θ)\n",
       "──────────── - ─────────────────────────────────── - ─────────────────────────\n",
       "W⋅Ξ                            W⋅Ξ                              W⋅Ξ           \n",
       "──────────────────────────────────────────────────────────────────────────────\n",
       "  ⎛                   4                        2  2    2                      \n",
       "2⋅⎝Δᵣ⋅Δₜₕₑₜₐ⋅\\tilde{r}  - 2⋅Δᵣ⋅Δₜₕₑₜₐ⋅\\tilde{r} ⋅a ⋅sin (θ) + 2⋅Δᵣ⋅Δₜₕₑₜₐ⋅\\til\n",
       "                                                                              \n",
       "                                                                              \n",
       "                                                                              \n",
       "                                                                              \n",
       "                                                                              \n",
       "                                                                              \n",
       "                                                                              \n",
       "                                                                              \n",
       "                                                                              \n",
       "\n",
       "                                                                              \n",
       "                                                                              \n",
       "                                                                              \n",
       "                                                                              \n",
       "                                                                              \n",
       "                                                                              \n",
       "                                                                              \n",
       "                                                                              \n",
       "                                                                              \n",
       "                     2                 3⎞                                     \n",
       " Δₜₕₑₜₐ⋅W⋅Ξ⋅\\tilde{r} ⋅a - Δₜₕₑₜₐ⋅W⋅Ξ⋅a ⎠                                     \n",
       "                                                                              \n",
       "                                                                              \n",
       "───────────────────────────────────────────────────────────                   \n",
       "         4    4                   4    2                 4⎞                   \n",
       "⋅Δₜₕₑₜₐ⋅a ⋅sin (θ) - 2⋅Δᵣ⋅Δₜₕₑₜₐ⋅a ⋅sin (θ) + Δᵣ⋅Δₜₕₑₜₐ⋅a ⎠                   \n",
       "                                                                              \n",
       "                                                                              \n",
       "⎞                                                                             \n",
       "⎟ ⎛      2    2                        4                       2  2           \n",
       "⎟⋅⎝Δᵣ⋅W⋅a ⋅sin (θ) - Δₜₕₑₜₐ⋅W⋅\\tilde{r}  - 2⋅Δₜₕₑₜₐ⋅W⋅\\tilde{r} ⋅a  - Δₜₕₑₜₐ⋅W\n",
       "⎠                                                                             \n",
       "──────────────────────────────────────────────────────────────────────────────\n",
       "     2  2              4    4                   4    2                 4⎞     \n",
       "de{r} ⋅a  + Δᵣ⋅Δₜₕₑₜₐ⋅a ⋅sin (θ) - 2⋅Δᵣ⋅Δₜₕₑₜₐ⋅a ⋅sin (θ) + Δᵣ⋅Δₜₕₑₜₐ⋅a ⎠     \n",
       "                                                                              \n",
       "                                                                              \n",
       "                                                                              \n",
       "                                                                              \n",
       "                                                                              \n",
       "                                                                              \n",
       "                                                                              \n",
       "                                                                              \n",
       "                                                                              \n",
       "\n",
       "    ⎤                                                                         \n",
       "    ⎥                                                                         \n",
       "    ⎥                                                                         \n",
       "    ⎥                                                                         \n",
       "    ⎥                                                                         \n",
       "    ⎥                                                                         \n",
       "    ⎥                                                                         \n",
       "    ⎥                                                                         \n",
       "    ⎥  ⎡                                                                      \n",
       "    ⎥  ⎢                                                       Δᵣ⋅Δₜₕₑₜₐ⋅\\tild\n",
       "    ⎥  ⎢              0                0  0                    ───────────────\n",
       "    ⎥  ⎢                                                                     2\n",
       "    ⎥  ⎢                                                                    W \n",
       "    ⎥  ⎢                                                                      \n",
       "    ⎥  ⎢              0                0  0                                  0\n",
       "    ⎥  ⎢                                                                      \n",
       "    ⎥  ⎢              0                0  0                                  0\n",
       "    ⎥  ⎢                                                                      \n",
       "    ⎥  ⎢                                        ⎛                    3    2   \n",
       "  4⎞⎥  ⎢                                        ⎜  4⋅Δₜₕₑₜₐ⋅\\tilde{r} ⋅sin (θ)\n",
       "⋅a ⎠⎥  ⎢                                     Δᵣ⋅⎜- ───────────────────────────\n",
       "    ⎥  ⎢                         2              ⎜                 2           \n",
       "────⎥  ⎢Δᵣ⋅Δₜₕₑₜₐ⋅\\tilde{r}⋅a⋅sin (θ)           ⎝              W⋅Ξ            \n",
       "    ⎥  ⎢─────────────────────────────  0  0  ─────────────────────────────────\n",
       "    ⎥  ⎢              2                                                     2⋅\n",
       "    ⎥  ⎣             W ⋅Ξ                                                     \n",
       "    ⎥                                                                         \n",
       "    ⎥                                                                         \n",
       "    ⎥                                                                         \n",
       "    ⎥                                                                         \n",
       "    ⎥                                                                         \n",
       "    ⎥                                                                         \n",
       "    ⎥                                                                         \n",
       "    ⎦                                                                         \n",
       "\n",
       "                                                                              \n",
       "                                                                              \n",
       "                                                                              \n",
       "                                                                              \n",
       "                                                                              \n",
       "                                                                              \n",
       "                                                                              \n",
       "                                                                              \n",
       "          2                      ⎤  ⎡                                         \n",
       "e{r}⋅a⋅sin (θ)                   ⎥  ⎢                                         \n",
       "──────────────                   ⎥  ⎢                                         \n",
       "                                 ⎥  ⎢                                   -Δₜₕₑₜ\n",
       "⋅Ξ                               ⎥  ⎢                                   ──────\n",
       "                                 ⎥  ⎢                                         \n",
       "                                 ⎥  ⎢                                         \n",
       "                                 ⎥  ⎢                                         \n",
       "                                 ⎥  ⎢                                         \n",
       "                                 ⎥  ⎢                                         \n",
       "                       2    2   ⎞⎥  ⎢                                         \n",
       "   4⋅Δₜₕₑₜₐ⋅\\tilde{r}⋅a ⋅sin (θ)⎟⎥  ⎢                                         \n",
       " - ─────────────────────────────⎟⎥  ⎢                                         \n",
       "                   2            ⎟⎥  ⎢       ⎛                                 \n",
       "                W⋅Ξ             ⎠⎥  ⎢       ⎜  2⋅Δᵣ⋅a⋅sin(θ)⋅cos(θ)   2⋅Δₜₕₑₜₐ\n",
       "─────────────────────────────────⎥  ⎢Δₜₕₑₜₐ⋅⎜- ──────────────────── + ────────\n",
       "W                                ⎥  ⎢       ⎝          W⋅Ξ                    \n",
       "                                 ⎦  ⎢─────────────────────────────────────────\n",
       "                                    ⎣                                         \n",
       "                                                                              \n",
       "                                                                              \n",
       "                                                                              \n",
       "                                                                              \n",
       "                                                                              \n",
       "                                                                              \n",
       "                                                                              \n",
       "\n",
       "                                                                              \n",
       "                                                                              \n",
       "                                                                              \n",
       "                                                                              \n",
       "                                                                              \n",
       "                                                                              \n",
       "                                                                              \n",
       "                                                                              \n",
       "                                                                              \n",
       "                                                                              \n",
       " 2  2                                                                         \n",
       "ₐ ⋅a ⋅sin(θ)⋅cos(θ)                                                           \n",
       "────────────────────                                      0  0                \n",
       "       2                                                                      \n",
       "      W                                                                       \n",
       "                                                                              \n",
       "       0                                                  0  0                \n",
       "                                                                              \n",
       "       0                                                  0  0                \n",
       "                                                                              \n",
       "                                                                       ⎛      \n",
       "          2                             3              ⎞               ⎜4⋅Δᵣ⋅a\n",
       "⋅\\tilde{r} ⋅a⋅sin(θ)⋅cos(θ)   2⋅Δₜₕₑₜₐ⋅a ⋅sin(θ)⋅cos(θ)⎟        Δₜₕₑₜₐ⋅⎜──────\n",
       "─────────────────────────── + ─────────────────────────⎟               ⎜      \n",
       "        W⋅Ξ                              W⋅Ξ           ⎠               ⎝      \n",
       "────────────────────────────────────────────────────────  0  0  ──────────────\n",
       "      2⋅W                                                                     \n",
       "                                                                              \n",
       "                                                                              \n",
       "                                                                              \n",
       "                                                                              \n",
       "                                                                              \n",
       "                                                                              \n",
       "                                                                              \n",
       "\n",
       "                                                                              \n",
       "                                                                              \n",
       "                                                                              \n",
       "                                                                              \n",
       "                                                                              \n",
       "                                                                              \n",
       "                                                                              \n",
       "                                                                              \n",
       "           ⎛                                           2                      \n",
       "           ⎜  2⋅Δᵣ⋅a⋅sin(θ)⋅cos(θ)   2⋅Δₜₕₑₜₐ⋅\\tilde{r} ⋅a⋅sin(θ)⋅cos(θ)   2⋅Δ\n",
       "    Δₜₕₑₜₐ⋅⎜- ──────────────────── + ─────────────────────────────────── + ───\n",
       "           ⎝          W⋅Ξ                            W⋅Ξ                      \n",
       "    ──────────────────────────────────────────────────────────────────────────\n",
       "                                                   2⋅W                        \n",
       "                                                                              \n",
       "                                                                              \n",
       "                                                    0                         \n",
       "                                                                              \n",
       "                                                    0                         \n",
       "                                                                              \n",
       "2    3                               4                                   2  2 \n",
       " ⋅sin (θ)⋅cos(θ)   2⋅Δₜₕₑₜₐ⋅\\tilde{r} ⋅sin(θ)⋅cos(θ)   4⋅Δₜₕₑₜₐ⋅\\tilde{r} ⋅a ⋅\n",
       "──────────────── - ───────────────────────────────── - ───────────────────────\n",
       "      2                              2                                    2   \n",
       "   W⋅Ξ                            W⋅Ξ                                  W⋅Ξ    \n",
       "──────────────────────────────────────────────────────────────────────────────\n",
       "                                                   2⋅W                        \n",
       "                                                                              \n",
       "                                                                              \n",
       "                                                                              \n",
       "                                                                              \n",
       "                                                                              \n",
       "                                                                              \n",
       "                                                                              \n",
       "\n",
       "                                             ⎡                                \n",
       "                                             ⎢                                \n",
       "                                             ⎢                                \n",
       "                                             ⎢                                \n",
       "                                             ⎢                                \n",
       "                                             ⎢                                \n",
       "                                             ⎢                                \n",
       "                                             ⎢                                \n",
       "       3              ⎞                   ⎤  ⎢                                \n",
       "ₜₕₑₜₐ⋅a ⋅sin(θ)⋅cos(θ)⎟                   ⎥  ⎢                                \n",
       "──────────────────────⎟                   ⎥  ⎢                                \n",
       "        W⋅Ξ           ⎠                   ⎥  ⎢                                \n",
       "───────────────────────                   ⎥  ⎢                                \n",
       "                                          ⎥  ⎢                                \n",
       "                                          ⎥  ⎢                                \n",
       "                                          ⎥  ⎢                                \n",
       "                                          ⎥  ⎢                                \n",
       "                                          ⎥  ⎢                                \n",
       "                                          ⎥  ⎢                                \n",
       "                                          ⎥  ⎢                                \n",
       "                          4              ⎞⎥  ⎢                                \n",
       "sin(θ)⋅cos(θ)   2⋅Δₜₕₑₜₐ⋅a ⋅sin(θ)⋅cos(θ)⎟⎥  ⎢                                \n",
       "───────────── - ─────────────────────────⎟⎥  ⎢────────────────────────────────\n",
       "                              2          ⎟⎥  ⎢  ⎛                   4         \n",
       "                           W⋅Ξ           ⎠⎥  ⎢W⋅⎝Δᵣ⋅Δₜₕₑₜₐ⋅\\tilde{r}  - 2⋅Δᵣ⋅Δ\n",
       "──────────────────────────────────────────⎥  ⎢                                \n",
       "                                          ⎦  ⎢                                \n",
       "                                             ⎢                                \n",
       "                                             ⎢                                \n",
       "                                             ⎢                                \n",
       "                                             ⎢                                \n",
       "                                             ⎢                                \n",
       "                                             ⎢                                \n",
       "                                             ⎣                                \n",
       "\n",
       "                                                                              \n",
       "                                                                              \n",
       "                                                                              \n",
       "                                                                              \n",
       "                                                                              \n",
       "                                                                              \n",
       "                                                                              \n",
       "                                                                              \n",
       "                                                                              \n",
       "                                                                              \n",
       "                                                                              \n",
       "                                                                              \n",
       "                                                                              \n",
       "                                            ──────────────────────────────────\n",
       "                                                ⎛                   4    2    \n",
       "                                            W⋅Ξ⋅⎝Δᵣ⋅Δₜₕₑₜₐ⋅\\tilde{r} ⋅sin (θ) \n",
       "                                                                              \n",
       "                                                                              \n",
       "                                                                              \n",
       "                                                                              \n",
       "              2 ⎛                               2                 3⎞          \n",
       "      Δₜₕₑₜₐ⋅a ⋅⎝Δᵣ⋅W⋅Ξ⋅a - Δₜₕₑₜₐ⋅W⋅Ξ⋅\\tilde{r} ⋅a - Δₜₕₑₜₐ⋅W⋅Ξ⋅a ⎠⋅sin(θ)⋅co\n",
       "──────────────────────────────────────────────────────────────────────────────\n",
       "               2  2    2                           2  2              4    4   \n",
       "ₜₕₑₜₐ⋅\\tilde{r} ⋅a ⋅sin (θ) + 2⋅Δᵣ⋅Δₜₕₑₜₐ⋅\\tilde{r} ⋅a  + Δᵣ⋅Δₜₕₑₜₐ⋅a ⋅sin (θ)\n",
       "                                                                              \n",
       "                                                                              \n",
       "                                                                              \n",
       "                                                                              \n",
       "                                                                              \n",
       "                                                                              \n",
       "                                                                              \n",
       "                                                                              \n",
       "                                                                              \n",
       "\n",
       "                                                                              \n",
       "                                                                              \n",
       "                                                                              \n",
       "                                                                              \n",
       "                                                      0                       \n",
       "                                                                              \n",
       "                                                                              \n",
       "                                                                              \n",
       "                                                                              \n",
       "                                                                              \n",
       "                                                                              \n",
       "                                           ⎛      2             2  2    2   ⎞ \n",
       "                       -Δₜₕₑₜₐ⋅\\tilde{r}⋅a⋅⎝Δᵣ⋅W⋅Ξ  - Δₜₕₑₜₐ⋅W⋅Ξ ⋅a ⋅sin (θ)⎠⋅\n",
       "──────────────────────────────────────────────────────────────────────────────\n",
       "                       2  2    4                           2  2    2          \n",
       "- 2⋅Δᵣ⋅Δₜₕₑₜₐ⋅\\tilde{r} ⋅a ⋅sin (θ) + 2⋅Δᵣ⋅Δₜₕₑₜₐ⋅\\tilde{r} ⋅a ⋅sin (θ) + Δᵣ⋅Δ\n",
       "                                                                              \n",
       "                                                                              \n",
       "                                                                              \n",
       "                                                                      ⎛      2\n",
       "                                                                      ⎝Δᵣ⋅W⋅Ξ \n",
       "s(θ)                                                                          \n",
       "───────────────────────────────────────── + ──────────────────────────────────\n",
       "                4    2                 4⎞     ⎛                   4    2      \n",
       " - 2⋅Δᵣ⋅Δₜₕₑₜₐ⋅a ⋅sin (θ) + Δᵣ⋅Δₜₕₑₜₐ⋅a ⎠   2⋅⎝Δᵣ⋅Δₜₕₑₜₐ⋅\\tilde{r} ⋅sin (θ) - \n",
       "                                                                              \n",
       "                                                                              \n",
       "                                                                              \n",
       "                                                                              \n",
       "                                                                              \n",
       "                                                                              \n",
       "                                                      0                       \n",
       "                                                                              \n",
       "                                                                              \n",
       "\n",
       "                                                                              \n",
       "                                                                              \n",
       "                                                                              \n",
       "                                                                              \n",
       "                                                                              \n",
       "                                                                              \n",
       "                                                                              \n",
       "                                                                              \n",
       "                                                                              \n",
       "                                                                              \n",
       "                                                                              \n",
       "   2                                                                          \n",
       "sin (θ)                                                                       \n",
       "─────────────────────────────────────────────────────────────────             \n",
       "       4    6                   4    4                 4    2   ⎞             \n",
       "ₜₕₑₜₐ⋅a ⋅sin (θ) - 2⋅Δᵣ⋅Δₜₕₑₜₐ⋅a ⋅sin (θ) + Δᵣ⋅Δₜₕₑₜₐ⋅a ⋅sin (θ)⎠             \n",
       "                                                                              \n",
       "                                                                              \n",
       "                           ⎛                                         2        \n",
       "             2  2    2   ⎞ ⎜2⋅Δᵣ⋅a⋅sin(θ)⋅cos(θ)   2⋅Δₜₕₑₜₐ⋅\\tilde{r} ⋅a⋅sin(θ\n",
       " - Δₜₕₑₜₐ⋅W⋅Ξ ⋅a ⋅sin (θ)⎠⋅⎜──────────────────── - ───────────────────────────\n",
       "                           ⎝        W⋅Ξ                            W⋅Ξ        \n",
       "──────────────────────────────────────────────────────────────────────────────\n",
       "                     2  2    4                           2  2    2            \n",
       "2⋅Δᵣ⋅Δₜₕₑₜₐ⋅\\tilde{r} ⋅a ⋅sin (θ) + 2⋅Δᵣ⋅Δₜₕₑₜₐ⋅\\tilde{r} ⋅a ⋅sin (θ) + Δᵣ⋅Δₜₕ\n",
       "                                                                              \n",
       "                                                                              \n",
       "                                                                              \n",
       "                                                                              \n",
       "                                                                              \n",
       "                                                                              \n",
       "                                                                              \n",
       "                                                                              \n",
       "                                                                              \n",
       "\n",
       "                                                                              \n",
       "                                                                              \n",
       "                                                                              \n",
       "                                                                              \n",
       "                                                                              \n",
       "                                                                              \n",
       "                                                                              \n",
       "                                                                              \n",
       "                                                                              \n",
       "                                                                              \n",
       "                                                                              \n",
       "                                                                              \n",
       "                                                                              \n",
       "                                                                              \n",
       "                                                                              \n",
       "                                                                              \n",
       "                                                                              \n",
       "                                                                              \n",
       "                     3              ⎞                                         \n",
       ")⋅cos(θ)   2⋅Δₜₕₑₜₐ⋅a ⋅sin(θ)⋅cos(θ)⎟                                         \n",
       "──────── - ─────────────────────────⎟                                         \n",
       "                      W⋅Ξ           ⎠                                         \n",
       "───────────────────────────────────────────────────────────────               \n",
       "     4    6                   4    4                 4    2   ⎞               \n",
       "ₑₜₐ⋅a ⋅sin (θ) - 2⋅Δᵣ⋅Δₜₕₑₜₐ⋅a ⋅sin (θ) + Δᵣ⋅Δₜₕₑₜₐ⋅a ⋅sin (θ)⎠               \n",
       "                                                                              \n",
       "                                                                              \n",
       "                                                                              \n",
       "                                                                              \n",
       "                                                                              \n",
       "                                                                              \n",
       "                                                                 - ───────────\n",
       "                                                                       ⎛      \n",
       "                                                                   W⋅Ξ⋅⎝Δᵣ⋅Δₜₕ\n",
       "\n",
       "                                                                              \n",
       "                                                                              \n",
       "                                                                              \n",
       "                                                                              \n",
       "                                                                 ─────────────\n",
       "                                                                     ⎛        \n",
       "                                                                 W⋅Ξ⋅⎝Δᵣ⋅Δₜₕₑₜ\n",
       "                                                                              \n",
       "                                                                              \n",
       "                                                                              \n",
       "                                                                              \n",
       "                                                                              \n",
       "                                                                              \n",
       "                                                                              \n",
       "                                                                              \n",
       "                                                                              \n",
       "                                                                              \n",
       "                                                                              \n",
       "                                                                              \n",
       "                                                                              \n",
       "                                                                              \n",
       "                                                                              \n",
       "                                                                              \n",
       "                                                                              \n",
       "                                                                              \n",
       "                                                                              \n",
       "                                                                              \n",
       "                                                                              \n",
       "                                                                              \n",
       "                                             ⎛                               2\n",
       "                          Δₜₕₑₜₐ⋅\\tilde{r}⋅a⋅⎝Δᵣ⋅W⋅Ξ⋅a - Δₜₕₑₜₐ⋅W⋅Ξ⋅\\tilde{r} \n",
       "──────────────────────────────────────────────────────────────────────────────\n",
       "             4                        2  2    2                           2  2\n",
       "ₑₜₐ⋅\\tilde{r}  - 2⋅Δᵣ⋅Δₜₕₑₜₐ⋅\\tilde{r} ⋅a ⋅sin (θ) + 2⋅Δᵣ⋅Δₜₕₑₜₐ⋅\\tilde{r} ⋅a \n",
       "\n",
       "                                                                              \n",
       "                                                                              \n",
       "                                                                ⎛      2      \n",
       "                                            -Δₜₕₑₜₐ⋅\\tilde{r}⋅a⋅⎝Δᵣ⋅W⋅Ξ  - Δₜₕ\n",
       "──────────────────────────────────────────────────────────────────────────────\n",
       "           4    2                           2  2    4                         \n",
       "ₐ⋅\\tilde{r} ⋅sin (θ) - 2⋅Δᵣ⋅Δₜₕₑₜₐ⋅\\tilde{r} ⋅a ⋅sin (θ) + 2⋅Δᵣ⋅Δₜₕₑₜₐ⋅\\tilde{\n",
       "                                                                              \n",
       "                                                                              \n",
       "                                                                              \n",
       "                                                                              \n",
       "                                                                              \n",
       "                                                                              \n",
       "                                                                           0  \n",
       "                                                                              \n",
       "                                                                              \n",
       "                                                                              \n",
       "                                                                              \n",
       "                                                                              \n",
       "                                                                              \n",
       "                                                                              \n",
       "                                                                              \n",
       "                                                                           0  \n",
       "                                                                              \n",
       "                                                                              \n",
       "                                                                              \n",
       "                                                                              \n",
       "                                                                              \n",
       "                                                                              \n",
       "                 3⎞    2                                                      \n",
       "⋅a - Δₜₕₑₜₐ⋅W⋅Ξ⋅a ⎠⋅sin (θ)                                                   \n",
       "──────────────────────────────────────────────────────────────── + ───────────\n",
       "              4    4                   4    2                 4⎞     ⎛        \n",
       " + Δᵣ⋅Δₜₕₑₜₐ⋅a ⋅sin (θ) - 2⋅Δᵣ⋅Δₜₕₑₜₐ⋅a ⋅sin (θ) + Δᵣ⋅Δₜₕₑₜₐ⋅a ⎠   2⋅⎝Δᵣ⋅Δₜₕₑₜ\n",
       "\n",
       "                                                                              \n",
       "                                                                              \n",
       "       2  2    2   ⎞    2                                                     \n",
       "ₑₜₐ⋅W⋅Ξ ⋅a ⋅sin (θ)⎠⋅sin (θ)                                                  \n",
       "──────────────────────────────────────────────────────────────────────────────\n",
       "  2  2    2                 4    6                   4    4                 4 \n",
       "r} ⋅a ⋅sin (θ) + Δᵣ⋅Δₜₕₑₜₐ⋅a ⋅sin (θ) - 2⋅Δᵣ⋅Δₜₕₑₜₐ⋅a ⋅sin (θ) + Δᵣ⋅Δₜₕₑₜₐ⋅a ⋅\n",
       "                                                                              \n",
       "                                                                              \n",
       "                                                                              \n",
       "                                                                              \n",
       "                                                                              \n",
       "                                                                              \n",
       "                                                                              \n",
       "                                                                              \n",
       "                                                                              \n",
       "                                                                              \n",
       "                                                                              \n",
       "                                                                              \n",
       "                                                                              \n",
       "                                                                              \n",
       "                                                                              \n",
       "                                                                              \n",
       "                                                                              \n",
       "                                                                              \n",
       "                                                                              \n",
       "                                                                ⎛             \n",
       "                             ⎛      2             2  2    2   ⎞ ⎜4⋅Δₜₕₑₜₐ⋅\\til\n",
       "                             ⎝Δᵣ⋅W⋅Ξ  - Δₜₕₑₜₐ⋅W⋅Ξ ⋅a ⋅sin (θ)⎠⋅⎜─────────────\n",
       "                                                                ⎜             \n",
       "                                                                ⎝            W\n",
       "──────────────────────────────────────────────────────────────────────────────\n",
       "           4    2                           2  2    4                         \n",
       "ₐ⋅\\tilde{r} ⋅sin (θ) - 2⋅Δᵣ⋅Δₜₕₑₜₐ⋅\\tilde{r} ⋅a ⋅sin (θ) + 2⋅Δᵣ⋅Δₜₕₑₜₐ⋅\\tilde{\n",
       "\n",
       "                                                                              \n",
       "                                                                              \n",
       "                                                                              \n",
       "                                                                              \n",
       "────────                                                                      \n",
       "   2   ⎞                                                                      \n",
       "sin (θ)⎠                                                                      \n",
       "                                                                              \n",
       "                                                                              \n",
       "                                                                              \n",
       "                                                                              \n",
       "                                                                              \n",
       "                                                                              \n",
       "                                                                              \n",
       "                                                                              \n",
       "                                                                              \n",
       "                                                                              \n",
       "                                                                              \n",
       "                                                                              \n",
       "                                                                              \n",
       "                                                                              \n",
       "                                                                              \n",
       "                                                                              \n",
       "                                                                              \n",
       "                                                                              \n",
       "                                                                              \n",
       "     3    2                          2    2   ⎞                               \n",
       "de{r} ⋅sin (θ)   4⋅Δₜₕₑₜₐ⋅\\tilde{r}⋅a ⋅sin (θ)⎟                               \n",
       "────────────── + ─────────────────────────────⎟                               \n",
       "  2                              2            ⎟                               \n",
       "⋅Ξ                            W⋅Ξ             ⎠                               \n",
       "──────────────────────────────────────────────────────────────────────────────\n",
       "  2  2    2                 4    6                   4    4                 4 \n",
       "r} ⋅a ⋅sin (θ) + Δᵣ⋅Δₜₕₑₜₐ⋅a ⋅sin (θ) - 2⋅Δᵣ⋅Δₜₕₑₜₐ⋅a ⋅sin (θ) + Δᵣ⋅Δₜₕₑₜₐ⋅a ⋅\n",
       "\n",
       "                                                                              \n",
       "                                                                              \n",
       "                                                        2 ⎛                   \n",
       "                                                Δₜₕₑₜₐ⋅a ⋅⎝Δᵣ⋅W⋅Ξ⋅a - Δₜₕₑₜₐ⋅W\n",
       "          ────────────────────────────────────────────────────────────────────\n",
       "            ⎛                   4                        2  2    2            \n",
       "          W⋅⎝Δᵣ⋅Δₜₕₑₜₐ⋅\\tilde{r}  - 2⋅Δᵣ⋅Δₜₕₑₜₐ⋅\\tilde{r} ⋅a ⋅sin (θ) + 2⋅Δᵣ⋅Δ\n",
       "                                                                              \n",
       "                                                                              \n",
       "                                                                              \n",
       "                                                                              \n",
       "                                                                              \n",
       "                                                                              \n",
       "                                                                              \n",
       "                                                                              \n",
       "                                                                              \n",
       "                                                                              \n",
       "                                                                              \n",
       "                                                                              \n",
       "                                                                              \n",
       "                                                                              \n",
       "                                                                              \n",
       "                                                                              \n",
       "                                                                              \n",
       "                                                                              \n",
       "                                                                              \n",
       "                                                   ⎛        2    3            \n",
       "                ⎛      2             2  2    2   ⎞ ⎜  4⋅Δᵣ⋅a ⋅sin (θ)⋅cos(θ)  \n",
       "                ⎝Δᵣ⋅W⋅Ξ  - Δₜₕₑₜₐ⋅W⋅Ξ ⋅a ⋅sin (θ)⎠⋅⎜- ────────────────────── +\n",
       "                                                   ⎜              2           \n",
       "                                                   ⎝           W⋅Ξ            \n",
       "────────  ────────────────────────────────────────────────────────────────────\n",
       "   2   ⎞    ⎛                   4    2                           2  2    4    \n",
       "sin (θ)⎠  2⋅⎝Δᵣ⋅Δₜₕₑₜₐ⋅\\tilde{r} ⋅sin (θ) - 2⋅Δᵣ⋅Δₜₕₑₜₐ⋅\\tilde{r} ⋅a ⋅sin (θ) \n",
       "\n",
       "                                                                              \n",
       "                                                                              \n",
       "            2                 3⎞                                              \n",
       "⋅Ξ⋅\\tilde{r} ⋅a - Δₜₕₑₜₐ⋅W⋅Ξ⋅a ⎠⋅sin(θ)⋅cos(θ)                                \n",
       "──────────────────────────────────────────────────────────────────────────────\n",
       "               2  2              4    4                   4    2              \n",
       "ₜₕₑₜₐ⋅\\tilde{r} ⋅a  + Δᵣ⋅Δₜₕₑₜₐ⋅a ⋅sin (θ) - 2⋅Δᵣ⋅Δₜₕₑₜₐ⋅a ⋅sin (θ) + Δᵣ⋅Δₜₕₑₜ\n",
       "                                                                              \n",
       "                                                                              \n",
       "                                                                              \n",
       "                                                                              \n",
       "                                                                              \n",
       "                                                                              \n",
       "                                                                              \n",
       "                                                                              \n",
       "                                                                              \n",
       "                                                                              \n",
       "                                                                              \n",
       "                                                                              \n",
       "                                                                              \n",
       "                                                                              \n",
       "                                                                              \n",
       "                                                                              \n",
       "                                                                              \n",
       "                                                                              \n",
       "                                                                              \n",
       "                   4                                   2  2                   \n",
       " 2⋅Δₜₕₑₜₐ⋅\\tilde{r} ⋅sin(θ)⋅cos(θ)   4⋅Δₜₕₑₜₐ⋅\\tilde{r} ⋅a ⋅sin(θ)⋅cos(θ)   2⋅\n",
       " ───────────────────────────────── + ──────────────────────────────────── + ──\n",
       "                   2                                    2                     \n",
       "                W⋅Ξ                                  W⋅Ξ                      \n",
       "──────────────────────────────────────────────────────────────────────────────\n",
       "                       2  2    2                 4    6                   4   \n",
       "+ 2⋅Δᵣ⋅Δₜₕₑₜₐ⋅\\tilde{r} ⋅a ⋅sin (θ) + Δᵣ⋅Δₜₕₑₜₐ⋅a ⋅sin (θ) - 2⋅Δᵣ⋅Δₜₕₑₜₐ⋅a ⋅si\n",
       "\n",
       "                                                                     ⎛        \n",
       "                                  ⎛      2             2  2    2   ⎞ ⎜2⋅Δᵣ⋅a⋅s\n",
       "                                  ⎝Δᵣ⋅W⋅Ξ  - Δₜₕₑₜₐ⋅W⋅Ξ ⋅a ⋅sin (θ)⎠⋅⎜────────\n",
       "                                                                     ⎝        \n",
       "───── + ──────────────────────────────────────────────────────────────────────\n",
       "   4⎞     ⎛                   4    2                           2  2    4      \n",
       "ₐ⋅a ⎠   2⋅⎝Δᵣ⋅Δₜₕₑₜₐ⋅\\tilde{r} ⋅sin (θ) - 2⋅Δᵣ⋅Δₜₕₑₜₐ⋅\\tilde{r} ⋅a ⋅sin (θ) + \n",
       "                                                                              \n",
       "                                                                              \n",
       "                                                                              \n",
       "                                                                              \n",
       "                                                                              \n",
       "                                                                              \n",
       "                  0                                                           \n",
       "                                                                              \n",
       "                                                                              \n",
       "                                                                              \n",
       "                                                                              \n",
       "                                                                              \n",
       "                                                                              \n",
       "                                                                              \n",
       "                                                                              \n",
       "                  0                                                           \n",
       "                                                                              \n",
       "                                                                              \n",
       "                                                                              \n",
       "        4              ⎞                                                      \n",
       "Δₜₕₑₜₐ⋅a ⋅sin(θ)⋅cos(θ)⎟                                                      \n",
       "───────────────────────⎟             ⎛                               2        \n",
       "            2          ⎟             ⎝Δᵣ⋅W⋅Ξ⋅a - Δₜₕₑₜₐ⋅W⋅Ξ⋅\\tilde{r} ⋅a - Δₜₕ\n",
       "         W⋅Ξ           ⎠                                                      \n",
       "───────────────────────────── + ──────────────────────────────────────────────\n",
       " 4                 4    2   ⎞     ⎛                   4                       \n",
       "n (θ) + Δᵣ⋅Δₜₕₑₜₐ⋅a ⋅sin (θ)⎠   2⋅⎝Δᵣ⋅Δₜₕₑₜₐ⋅\\tilde{r}  - 2⋅Δᵣ⋅Δₜₕₑₜₐ⋅\\tilde{r\n",
       "\n",
       "                                 2                             3              \n",
       "in(θ)⋅cos(θ)   2⋅Δₜₕₑₜₐ⋅\\tilde{r} ⋅a⋅sin(θ)⋅cos(θ)   2⋅Δₜₕₑₜₐ⋅a ⋅sin(θ)⋅cos(θ)\n",
       "──────────── - ─────────────────────────────────── - ─────────────────────────\n",
       "W⋅Ξ                            W⋅Ξ                              W⋅Ξ           \n",
       "──────────────────────────────────────────────────────────────────────────────\n",
       "                     2  2    2                 4    6                   4    4\n",
       "2⋅Δᵣ⋅Δₜₕₑₜₐ⋅\\tilde{r} ⋅a ⋅sin (θ) + Δᵣ⋅Δₜₕₑₜₐ⋅a ⋅sin (θ) - 2⋅Δᵣ⋅Δₜₕₑₜₐ⋅a ⋅sin \n",
       "                                                                              \n",
       "                                                                              \n",
       "                                                                              \n",
       "                                                                              \n",
       "                                                                              \n",
       "                                                                              \n",
       "                                                                              \n",
       "                                                                              \n",
       "                                                                              \n",
       "                                                                              \n",
       "                                                                              \n",
       "                                                                              \n",
       "                                                                              \n",
       "                                                                              \n",
       "                                                                              \n",
       "                                                                              \n",
       "                                                                              \n",
       "                                                                              \n",
       "                                                                              \n",
       "                                                                              \n",
       "            ⎛                                         2                       \n",
       "         3⎞ ⎜2⋅Δᵣ⋅a⋅sin(θ)⋅cos(θ)   2⋅Δₜₕₑₜₐ⋅\\tilde{r} ⋅a⋅sin(θ)⋅cos(θ)   2⋅Δₜ\n",
       "ₑₜₐ⋅W⋅Ξ⋅a ⎠⋅⎜──────────────────── - ─────────────────────────────────── - ────\n",
       "            ⎝        W⋅Ξ                            W⋅Ξ                       \n",
       "──────────────────────────────────────────────────────────────────────────────\n",
       " 2  2    2                           2  2              4    4                 \n",
       "} ⋅a ⋅sin (θ) + 2⋅Δᵣ⋅Δₜₕₑₜₐ⋅\\tilde{r} ⋅a  + Δᵣ⋅Δₜₕₑₜₐ⋅a ⋅sin (θ) - 2⋅Δᵣ⋅Δₜₕₑₜₐ\n",
       "\n",
       "⎞                                                                             \n",
       "⎟                                                                             \n",
       "⎟                                                                             \n",
       "⎠                                                                             \n",
       "───────────────────────────                                                   \n",
       "                 4    2   ⎞                                                   \n",
       "(θ) + Δᵣ⋅Δₜₕₑₜₐ⋅a ⋅sin (θ)⎠                                                   \n",
       "                                                                              \n",
       "                                                                              \n",
       "                                                                              \n",
       "                                                                              \n",
       "                                                                              \n",
       "                                                                    Δₜₕₑₜₐ⋅\\ti\n",
       "                             - ───────────────────────────────────────────────\n",
       "                                   ⎛                   4                      \n",
       "                               W⋅Ξ⋅⎝Δᵣ⋅Δₜₕₑₜₐ⋅\\tilde{r}  - 2⋅Δᵣ⋅Δₜₕₑₜₐ⋅\\tilde{\n",
       "                                                                              \n",
       "                                                                        ⎛     \n",
       "                                     ⎛      2             2  2    2   ⎞ ⎜  4⋅Δ\n",
       "                                     ⎝Δᵣ⋅W⋅Ξ  - Δₜₕₑₜₐ⋅W⋅Ξ ⋅a ⋅sin (θ)⎠⋅⎜- ───\n",
       "                                                                        ⎜     \n",
       "                                                                        ⎝     \n",
       "                               ───────────────────────────────────────────────\n",
       "                                 ⎛                   4    2                   \n",
       "                               2⋅⎝Δᵣ⋅Δₜₕₑₜₐ⋅\\tilde{r} ⋅sin (θ) - 2⋅Δᵣ⋅Δₜₕₑₜₐ⋅\\\n",
       "                                                                              \n",
       "                                                                              \n",
       "      3              ⎞                                                        \n",
       "ₕₑₜₐ⋅a ⋅sin(θ)⋅cos(θ)⎟                                                        \n",
       "─────────────────────⎟                                                        \n",
       "       W⋅Ξ           ⎠                                                        \n",
       "───────────────────────────                                                   \n",
       "  4    2                 4⎞                                                   \n",
       "⋅a ⋅sin (θ) + Δᵣ⋅Δₜₕₑₜₐ⋅a ⎠                                                   \n",
       "\n",
       "                                                                              \n",
       "                                                                              \n",
       "                                                                              \n",
       "                                                                              \n",
       "                                                                              \n",
       "                                                                              \n",
       "                                                                              \n",
       "                                                                              \n",
       "                                                                              \n",
       "                                                                              \n",
       "                                                                              \n",
       "         ⎛                               2                 3⎞    2            \n",
       "lde{r}⋅a⋅⎝Δᵣ⋅W⋅Ξ⋅a - Δₜₕₑₜₐ⋅W⋅Ξ⋅\\tilde{r} ⋅a - Δₜₕₑₜₐ⋅W⋅Ξ⋅a ⎠⋅sin (θ)         \n",
       "──────────────────────────────────────────────────────────────────────────────\n",
       "  2  2    2                           2  2              4    4                \n",
       "r} ⋅a ⋅sin (θ) + 2⋅Δᵣ⋅Δₜₕₑₜₐ⋅\\tilde{r} ⋅a  + Δᵣ⋅Δₜₕₑₜₐ⋅a ⋅sin (θ) - 2⋅Δᵣ⋅Δₜₕₑₜ\n",
       "                                                                              \n",
       "   2    3                               4                                   2 \n",
       "ᵣ⋅a ⋅sin (θ)⋅cos(θ)   2⋅Δₜₕₑₜₐ⋅\\tilde{r} ⋅sin(θ)⋅cos(θ)   4⋅Δₜₕₑₜₐ⋅\\tilde{r} ⋅\n",
       "─────────────────── + ───────────────────────────────── + ────────────────────\n",
       "         2                              2                                    2\n",
       "      W⋅Ξ                            W⋅Ξ                                  W⋅Ξ \n",
       "──────────────────────────────────────────────────────────────────────────────\n",
       "        2  2    4                           2  2    2                 4    6  \n",
       "tilde{r} ⋅a ⋅sin (θ) + 2⋅Δᵣ⋅Δₜₕₑₜₐ⋅\\tilde{r} ⋅a ⋅sin (θ) + Δᵣ⋅Δₜₕₑₜₐ⋅a ⋅sin (θ\n",
       "                                                                              \n",
       "                                                                              \n",
       "                                                                              \n",
       "                                                                              \n",
       "                                                                              \n",
       "                                                                              \n",
       "                                                                              \n",
       "                                                                              \n",
       "                                                                              \n",
       "\n",
       "                                                                              \n",
       "                                                                              \n",
       "                                                                              \n",
       "                                                                              \n",
       "                                       0                                      \n",
       "                                                                              \n",
       "                                                                              \n",
       "                                                                              \n",
       "                                                                              \n",
       "                                                                       ⎛      \n",
       "                                                                       ⎝Δᵣ⋅W⋅Ξ\n",
       "                                                                              \n",
       "                                                                              \n",
       "──────────────────────────── + ───────────────────────────────────────────────\n",
       "   4    2                 4⎞     ⎛                   4    2                   \n",
       "ₐ⋅a ⋅sin (θ) + Δᵣ⋅Δₜₕₑₜₐ⋅a ⎠   2⋅⎝Δᵣ⋅Δₜₕₑₜₐ⋅\\tilde{r} ⋅sin (θ) - 2⋅Δᵣ⋅Δₜₕₑₜₐ⋅\\\n",
       "                                                                              \n",
       " 2                           4              ⎞                                 \n",
       "a ⋅sin(θ)⋅cos(θ)   2⋅Δₜₕₑₜₐ⋅a ⋅sin(θ)⋅cos(θ)⎟                                 \n",
       "──────────────── + ─────────────────────────⎟             ⎛                   \n",
       "                                 2          ⎟             ⎝Δᵣ⋅W⋅Ξ⋅a - Δₜₕₑₜₐ⋅W\n",
       "                              W⋅Ξ           ⎠                                 \n",
       "────────────────────────────────────────────────── + ─────────────────────────\n",
       "                 4    4                 4    2   ⎞     ⎛                   4  \n",
       ") - 2⋅Δᵣ⋅Δₜₕₑₜₐ⋅a ⋅sin (θ) + Δᵣ⋅Δₜₕₑₜₐ⋅a ⋅sin (θ)⎠   2⋅⎝Δᵣ⋅Δₜₕₑₜₐ⋅\\tilde{r}  -\n",
       "                                                                              \n",
       "                                                                              \n",
       "                                                                              \n",
       "                                                                              \n",
       "                                                                              \n",
       "                                                                              \n",
       "                                       0                                      \n",
       "                                                                              \n",
       "                                                                              \n",
       "\n",
       "                                                                              \n",
       "                                                                              \n",
       "                                                                              \n",
       "                                                                              \n",
       "                                                                              \n",
       "                                                                              \n",
       "                                                                              \n",
       "                                                                              \n",
       "                            ⎛                  3    2                         \n",
       "2             2  2    2   ⎞ ⎜4⋅Δₜₕₑₜₐ⋅\\tilde{r} ⋅sin (θ)   4⋅Δₜₕₑₜₐ⋅\\tilde{r}⋅\n",
       "  - Δₜₕₑₜₐ⋅W⋅Ξ ⋅a ⋅sin (θ)⎠⋅⎜─────────────────────────── + ───────────────────\n",
       "                            ⎜               2                              2  \n",
       "                            ⎝            W⋅Ξ                            W⋅Ξ   \n",
       "──────────────────────────────────────────────────────────────────────────────\n",
       "        2  2    4                           2  2    2                 4    6  \n",
       "tilde{r} ⋅a ⋅sin (θ) + 2⋅Δᵣ⋅Δₜₕₑₜₐ⋅\\tilde{r} ⋅a ⋅sin (θ) + Δᵣ⋅Δₜₕₑₜₐ⋅a ⋅sin (θ\n",
       "                                                                              \n",
       "                                                                              \n",
       "                                 ⎛                                         2  \n",
       "            2                 3⎞ ⎜2⋅Δᵣ⋅a⋅sin(θ)⋅cos(θ)   2⋅Δₜₕₑₜₐ⋅\\tilde{r} ⋅a\n",
       "⋅Ξ⋅\\tilde{r} ⋅a - Δₜₕₑₜₐ⋅W⋅Ξ⋅a ⎠⋅⎜──────────────────── - ─────────────────────\n",
       "                                 ⎝        W⋅Ξ                            W⋅Ξ  \n",
       "──────────────────────────────────────────────────────────────────────────────\n",
       "                      2  2    2                           2  2              4 \n",
       " 2⋅Δᵣ⋅Δₜₕₑₜₐ⋅\\tilde{r} ⋅a ⋅sin (θ) + 2⋅Δᵣ⋅Δₜₕₑₜₐ⋅\\tilde{r} ⋅a  + Δᵣ⋅Δₜₕₑₜₐ⋅a ⋅\n",
       "                                                                              \n",
       "                                                                              \n",
       "                                                                              \n",
       "                                                                              \n",
       "                                                                              \n",
       "                                                                              \n",
       "                                                                              \n",
       "                                                                              \n",
       "                                                                              \n",
       "\n",
       "                                                  ⎤⎤\n",
       "                                                  ⎥⎥\n",
       "                                                  ⎥⎥\n",
       "                                                  ⎥⎥\n",
       "                                                  ⎥⎥\n",
       "                                                  ⎥⎥\n",
       "                                                  ⎥⎥\n",
       "                                                  ⎥⎥\n",
       " 2    2   ⎞                                       ⎥⎥\n",
       "a ⋅sin (θ)⎟                                       ⎥⎥\n",
       "──────────⎟                                       ⎥⎥\n",
       "          ⎟                                       ⎥⎥\n",
       "          ⎠                                       ⎥⎥\n",
       "──────────────────────────────────────────────────⎥⎥\n",
       "                 4    4                 4    2   ⎞⎥⎥\n",
       ") - 2⋅Δᵣ⋅Δₜₕₑₜₐ⋅a ⋅sin (θ) + Δᵣ⋅Δₜₕₑₜₐ⋅a ⋅sin (θ)⎠⎥⎥\n",
       "                                                  ⎥⎥\n",
       "                                                  ⎥⎥\n",
       "                           3              ⎞       ⎥⎥\n",
       "⋅sin(θ)⋅cos(θ)   2⋅Δₜₕₑₜₐ⋅a ⋅sin(θ)⋅cos(θ)⎟       ⎥⎥\n",
       "────────────── - ─────────────────────────⎟       ⎥⎥\n",
       "                            W⋅Ξ           ⎠       ⎥⎥\n",
       "────────────────────────────────────────────────  ⎥⎥\n",
       "   4                   4    2                 4⎞  ⎥⎥\n",
       "sin (θ) - 2⋅Δᵣ⋅Δₜₕₑₜₐ⋅a ⋅sin (θ) + Δᵣ⋅Δₜₕₑₜₐ⋅a ⎠  ⎥⎥\n",
       "                                                  ⎥⎥\n",
       "                                                  ⎥⎥\n",
       "                                                  ⎥⎥\n",
       "                                                  ⎥⎥\n",
       "                                                  ⎥⎥\n",
       "                                                  ⎥⎥\n",
       "                                                  ⎥⎥\n",
       "                                                  ⎥⎥\n",
       "                                                  ⎦⎦"
      ]
     },
     "execution_count": 14,
     "metadata": {},
     "output_type": "execute_result"
    }
   ],
   "source": [
    "ch = ChristoffelSymbols.from_metric(sch)\n",
    "ch = ch.tensor()\n",
    "ch"
   ]
  },
  {
   "cell_type": "code",
   "execution_count": 15,
   "metadata": {},
   "outputs": [],
   "source": [
    "Lorentzian = TensorIndexType('Lorentzian', dummy_name='L')\n",
    "i0, i1, i2, i3 = tensor_indices('i0:4', Lorentzian)"
   ]
  },
  {
   "cell_type": "code",
   "execution_count": 16,
   "metadata": {},
   "outputs": [
    {
     "data": {
      "image/png": "[encoded data removed]",
      "text/latex": [
       "$\\displaystyle \\left[ 1, \\  0, \\  0, \\  \\Omega\\right]$"
      ],
      "text/plain": [
       "[1, 0, 0, Ω]"
      ]
     },
     "execution_count": 16,
     "metadata": {},
     "output_type": "execute_result"
    }
   ],
   "source": [
    "K = [1, 0, 0, omega]\n",
    "K"
   ]
  },
  {
   "cell_type": "code",
   "execution_count": 17,
   "metadata": {},
   "outputs": [],
   "source": [
    "gKK_tensor = TensorHead('gKK', [Lorentzian] * 4)\n",
    "repl = {gKK_tensor(-i0, -i1, i2, i3): sympy.tensorproduct(sympy.tensorproduct(sch.tensor(), K), K)}"
   ]
  },
  {
   "cell_type": "code",
   "execution_count": 18,
   "metadata": {},
   "outputs": [
    {
     "data": {
      "image/png": "[encoded data removed]",
      "text/latex": [
       "$\\displaystyle \\frac{\\Omega^{2} \\left(- \\Delta_{r} a^{2} \\sin^{2}{\\left(\\theta \\right)} + \\Delta_{\\theta} \\tilde{r}^{4} + 2 \\Delta_{\\theta} \\tilde{r}^{2} a^{2} + \\Delta_{\\theta} a^{4}\\right) \\sin^{2}{\\left(\\theta \\right)} - 2 \\Omega \\Xi a \\left(- \\Delta_{r} + \\Delta_{\\theta} \\tilde{r}^{2} + \\Delta_{\\theta} a^{2}\\right) \\sin^{2}{\\left(\\theta \\right)} + \\Xi^{2} \\left(- \\Delta_{r} + \\Delta_{\\theta} a^{2} \\sin^{2}{\\left(\\theta \\right)}\\right)}{W \\Xi^{2}}$"
      ],
      "text/plain": [
       " 2 ⎛      2    2                      4                     2  2           4⎞ \n",
       "Ω ⋅⎝- Δᵣ⋅a ⋅sin (θ) + Δₜₕₑₜₐ⋅\\tilde{r}  + 2⋅Δₜₕₑₜₐ⋅\\tilde{r} ⋅a  + Δₜₕₑₜₐ⋅a ⎠⋅\n",
       "──────────────────────────────────────────────────────────────────────────────\n",
       "                                                                              \n",
       "                                                                              \n",
       "\n",
       "   2              ⎛                      2           2⎞    2       2 ⎛        \n",
       "sin (θ) - 2⋅Ω⋅Ξ⋅a⋅⎝-Δᵣ + Δₜₕₑₜₐ⋅\\tilde{r}  + Δₜₕₑₜₐ⋅a ⎠⋅sin (θ) + Ξ ⋅⎝-Δᵣ + Δₜ\n",
       "──────────────────────────────────────────────────────────────────────────────\n",
       "         2                                                                    \n",
       "      W⋅Ξ                                                                     \n",
       "\n",
       "      2    2   ⎞\n",
       "ₕₑₜₐ⋅a ⋅sin (θ)⎠\n",
       "────────────────\n",
       "                \n",
       "                "
      ]
     },
     "execution_count": 18,
     "metadata": {},
     "output_type": "execute_result"
    }
   ],
   "source": [
    "K_squared = gKK_tensor(-i0, -i1, i1, i0).replace_with_arrays(repl)\n",
    "K_squared = sympy.simplify(K_squared)\n",
    "K_squared"
   ]
  },
  {
   "cell_type": "code",
   "execution_count": 19,
   "metadata": {},
   "outputs": [
    {
     "data": {
      "image/png": "[encoded data removed]",
      "text/latex": [
       "$\\displaystyle \\Omega^{2} \\left(- \\Delta_{r} a^{2} \\sin^{2}{\\left(\\theta \\right)} + \\Delta_{\\theta} \\tilde{r}^{4} + 2 \\Delta_{\\theta} \\tilde{r}^{2} a^{2} + \\Delta_{\\theta} a^{4}\\right) \\sin^{2}{\\left(\\theta \\right)} - 2 \\Omega \\Xi a \\left(- \\Delta_{r} + \\Delta_{\\theta} \\tilde{r}^{2} + \\Delta_{\\theta} a^{2}\\right) \\sin^{2}{\\left(\\theta \\right)} + \\Xi^{2} \\left(- \\Delta_{r} + \\Delta_{\\theta} a^{2} \\sin^{2}{\\left(\\theta \\right)}\\right)$"
      ],
      "text/plain": [
       " 2 ⎛      2    2                      4                     2  2           4⎞ \n",
       "Ω ⋅⎝- Δᵣ⋅a ⋅sin (θ) + Δₜₕₑₜₐ⋅\\tilde{r}  + 2⋅Δₜₕₑₜₐ⋅\\tilde{r} ⋅a  + Δₜₕₑₜₐ⋅a ⎠⋅\n",
       "\n",
       "   2              ⎛                      2           2⎞    2       2 ⎛        \n",
       "sin (θ) - 2⋅Ω⋅Ξ⋅a⋅⎝-Δᵣ + Δₜₕₑₜₐ⋅\\tilde{r}  + Δₜₕₑₜₐ⋅a ⎠⋅sin (θ) + Ξ ⋅⎝-Δᵣ + Δₜ\n",
       "\n",
       "      2    2   ⎞\n",
       "ₕₑₜₐ⋅a ⋅sin (θ)⎠"
      ]
     },
     "execution_count": 19,
     "metadata": {},
     "output_type": "execute_result"
    }
   ],
   "source": [
    "K_squared_num = sympy.fraction(K_squared)[0]\n",
    "K_squared_num"
   ]
  },
  {
   "cell_type": "code",
   "execution_count": 20,
   "metadata": {},
   "outputs": [
    {
     "data": {
      "image/png": "[encoded data removed]",
      "text/latex": [
       "$\\displaystyle \\left[ \\frac{\\Xi \\left(a \\left(- \\Delta_{r} + \\Delta_{\\theta} \\tilde{r}^{2} + \\Delta_{\\theta} a^{2}\\right) \\sin{\\left(\\theta \\right)} - \\sqrt{\\Delta_{r} \\Delta_{\\theta}} \\left(\\tilde{r}^{2} + a^{2} \\cos^{2}{\\left(\\theta \\right)}\\right)\\right)}{\\left(- \\Delta_{r} a^{2} \\sin^{2}{\\left(\\theta \\right)} + \\Delta_{\\theta} \\tilde{r}^{4} + 2 \\Delta_{\\theta} \\tilde{r}^{2} a^{2} + \\Delta_{\\theta} a^{4}\\right) \\sin{\\left(\\theta \\right)}}, \\  \\frac{\\Xi \\left(a \\left(- \\Delta_{r} + \\Delta_{\\theta} \\tilde{r}^{2} + \\Delta_{\\theta} a^{2}\\right) \\sin{\\left(\\theta \\right)} + \\sqrt{\\Delta_{r} \\Delta_{\\theta}} \\left(\\tilde{r}^{2} + a^{2} \\cos^{2}{\\left(\\theta \\right)}\\right)\\right)}{\\left(- \\Delta_{r} a^{2} \\sin^{2}{\\left(\\theta \\right)} + \\Delta_{\\theta} \\tilde{r}^{4} + 2 \\Delta_{\\theta} \\tilde{r}^{2} a^{2} + \\Delta_{\\theta} a^{4}\\right) \\sin{\\left(\\theta \\right)}}\\right]$"
      ],
      "text/plain": [
       "⎡  ⎛  ⎛                      2           2⎞            ___________ ⎛         2\n",
       "⎢Ξ⋅⎝a⋅⎝-Δᵣ + Δₜₕₑₜₐ⋅\\tilde{r}  + Δₜₕₑₜₐ⋅a ⎠⋅sin(θ) - ╲╱ Δᵣ⋅Δₜₕₑₜₐ ⋅⎝\\tilde{r} \n",
       "⎢─────────────────────────────────────────────────────────────────────────────\n",
       "⎢     ⎛      2    2                      4                     2  2           \n",
       "⎣     ⎝- Δᵣ⋅a ⋅sin (θ) + Δₜₕₑₜₐ⋅\\tilde{r}  + 2⋅Δₜₕₑₜₐ⋅\\tilde{r} ⋅a  + Δₜₕₑₜₐ⋅a\n",
       "\n",
       "    2    2   ⎞⎞    ⎛  ⎛                      2           2⎞            _______\n",
       " + a ⋅cos (θ)⎠⎠  Ξ⋅⎝a⋅⎝-Δᵣ + Δₜₕₑₜₐ⋅\\tilde{r}  + Δₜₕₑₜₐ⋅a ⎠⋅sin(θ) + ╲╱ Δᵣ⋅Δₜₕ\n",
       "───────────────, ─────────────────────────────────────────────────────────────\n",
       "4⎞                    ⎛      2    2                      4                    \n",
       " ⎠⋅sin(θ)             ⎝- Δᵣ⋅a ⋅sin (θ) + Δₜₕₑₜₐ⋅\\tilde{r}  + 2⋅Δₜₕₑₜₐ⋅\\tilde{r\n",
       "\n",
       "____ ⎛         2    2    2   ⎞⎞⎤\n",
       "ₑₜₐ ⋅⎝\\tilde{r}  + a ⋅cos (θ)⎠⎠⎥\n",
       "───────────────────────────────⎥\n",
       " 2  2           4⎞             ⎥\n",
       "} ⋅a  + Δₜₕₑₜₐ⋅a ⎠⋅sin(θ)      ⎦"
      ]
     },
     "execution_count": 20,
     "metadata": {},
     "output_type": "execute_result"
    }
   ],
   "source": [
    "sols = sympy.solve(K_squared_num, omega)\n",
    "sols"
   ]
  },
  {
   "cell_type": "code",
   "execution_count": 21,
   "metadata": {},
   "outputs": [
    {
     "data": {
      "image/png": "[encoded data removed]",
      "text/latex": [
       "$\\displaystyle \\frac{\\Xi a}{\\tilde{r}_+^{2} + a^{2}}$"
      ],
      "text/plain": [
       "      Ξ⋅a       \n",
       "────────────────\n",
       "          2    2\n",
       "\\tilde{r}₊  + a "
      ]
     },
     "execution_count": 21,
     "metadata": {},
     "output_type": "execute_result"
    }
   ],
   "source": [
    "omega_val = a * xi / (r_tilde_plus ** 2 + a ** 2)\n",
    "omega_val\n"
   ]
  },
  {
   "cell_type": "code",
   "execution_count": 22,
   "metadata": {},
   "outputs": [
    {
     "data": {
      "image/png": "[encoded data removed]",
      "text/latex": [
       "$\\displaystyle - \\frac{\\Delta_{r} \\Xi^{2} \\left(\\tilde{r}_+^{2} + a^{2} \\cos^{2}{\\left(\\theta \\right)}\\right)^{2}}{\\tilde{r}_+^{4} + 2 \\tilde{r}_+^{2} a^{2} + a^{4}}$"
      ],
      "text/plain": [
       "                                 2 \n",
       "     2 ⎛          2    2    2   ⎞  \n",
       "-Δᵣ⋅Ξ ⋅⎝\\tilde{r}₊  + a ⋅cos (θ)⎠  \n",
       "───────────────────────────────────\n",
       "          4               2  2    4\n",
       "\\tilde{r}₊  + 2⋅\\tilde{r}₊ ⋅a  + a "
      ]
     },
     "execution_count": 22,
     "metadata": {},
     "output_type": "execute_result"
    }
   ],
   "source": [
    "x = K_squared_num.subs({r_tilde: r_tilde_plus, omega: omega_val}).simplify().expand().simplify()\n",
    "x"
   ]
  },
  {
   "cell_type": "code",
   "execution_count": 23,
   "metadata": {},
   "outputs": [
    {
     "data": {
      "image/png": "[encoded data removed]",
      "text/latex": [
       "$\\displaystyle - \\Delta_{r} \\Xi^{2} \\left(\\tilde{r}_+^{2} + a^{2} \\cos^{2}{\\left(\\theta \\right)}\\right)^{2}$"
      ],
      "text/plain": [
       "                                 2\n",
       "     2 ⎛          2    2    2   ⎞ \n",
       "-Δᵣ⋅Ξ ⋅⎝\\tilde{r}₊  + a ⋅cos (θ)⎠ "
      ]
     },
     "execution_count": 23,
     "metadata": {},
     "output_type": "execute_result"
    }
   ],
   "source": [
    "sympy.fraction(x)[0].simplify().trigsimp().factor().simplify()"
   ]
  },
  {
   "attachments": {},
   "cell_type": "markdown",
   "metadata": {},
   "source": [
    "Because $\\Delta_r = 0$ when $\\tilde{r}=\\tilde{r}_+$, the Killing vector field is indeed a Killing horizon."
   ]
  },
  {
   "attachments": {},
   "cell_type": "markdown",
   "metadata": {},
   "source": [
    "#### Non-rotating Frame at Infinity"
   ]
  },
  {
   "attachments": {},
   "cell_type": "markdown",
   "metadata": {},
   "source": [
    "Make a change of coordinates."
   ]
  },
  {
   "cell_type": "code",
   "execution_count": 25,
   "metadata": {},
   "outputs": [
    {
     "data": {
      "image/png": "[encoded data removed]",
      "text/latex": [
       "$\\displaystyle a t + \\phi$"
      ],
      "text/plain": [
       "a⋅t + φ"
      ]
     },
     "execution_count": 25,
     "metadata": {},
     "output_type": "execute_result"
    }
   ],
   "source": [
    "phi_prime = phi + a * t\n",
    "phi_prime"
   ]
  },
  {
   "cell_type": "code",
   "execution_count": 26,
   "metadata": {},
   "outputs": [
    {
     "data": {
      "image/png": "[encoded data removed]",
      "text/latex": [
       "$\\displaystyle - a dt + d\\phi'$"
      ],
      "text/plain": [
       "-a⋅dt + d\\phi'"
      ]
     },
     "execution_count": 26,
     "metadata": {},
     "output_type": "execute_result"
    }
   ],
   "source": [
    "dphi_prime = sympy.symbols(\"d\\phi'\")\n",
    "dphi_val = dphi_prime - a * dt\n",
    "dphi_val"
   ]
  },
  {
   "cell_type": "code",
   "execution_count": 27,
   "metadata": {},
   "outputs": [
    {
     "data": {
      "image/png": "[encoded data removed]",
      "text/latex": [
       "$\\displaystyle - \\frac{\\Delta_{r} dt^{2}}{W} - \\frac{2 \\Delta_{r} a^{2} dt^{2} \\sin^{2}{\\left(\\theta \\right)}}{W \\Xi} + \\frac{2 \\Delta_{r} a d\\phi' dt \\sin^{2}{\\left(\\theta \\right)}}{W \\Xi} - \\frac{\\Delta_{r} a^{4} dt^{2} \\sin^{4}{\\left(\\theta \\right)}}{W \\Xi^{2}} + \\frac{2 \\Delta_{r} a^{3} d\\phi' dt \\sin^{4}{\\left(\\theta \\right)}}{W \\Xi^{2}} - \\frac{\\Delta_{r} a^{2} d\\phi'^{2} \\sin^{4}{\\left(\\theta \\right)}}{W \\Xi^{2}} + \\frac{\\Delta_{\\theta} a^{2} dt^{2} \\sin^{2}{\\left(\\theta \\right)}}{W} + \\frac{2 \\Delta_{\\theta} \\tilde{r}^{2} a^{2} dt^{2} \\sin^{2}{\\left(\\theta \\right)}}{W \\Xi} - \\frac{2 \\Delta_{\\theta} \\tilde{r}^{2} a d\\phi' dt \\sin^{2}{\\left(\\theta \\right)}}{W \\Xi} + \\frac{2 \\Delta_{\\theta} a^{4} dt^{2} \\sin^{2}{\\left(\\theta \\right)}}{W \\Xi} - \\frac{2 \\Delta_{\\theta} a^{3} d\\phi' dt \\sin^{2}{\\left(\\theta \\right)}}{W \\Xi} + \\frac{\\Delta_{\\theta} \\tilde{r}^{4} a^{2} dt^{2} \\sin^{2}{\\left(\\theta \\right)}}{W \\Xi^{2}} - \\frac{2 \\Delta_{\\theta} \\tilde{r}^{4} a d\\phi' dt \\sin^{2}{\\left(\\theta \\right)}}{W \\Xi^{2}} + \\frac{\\Delta_{\\theta} \\tilde{r}^{4} d\\phi'^{2} \\sin^{2}{\\left(\\theta \\right)}}{W \\Xi^{2}} + \\frac{2 \\Delta_{\\theta} \\tilde{r}^{2} a^{4} dt^{2} \\sin^{2}{\\left(\\theta \\right)}}{W \\Xi^{2}} - \\frac{4 \\Delta_{\\theta} \\tilde{r}^{2} a^{3} d\\phi' dt \\sin^{2}{\\left(\\theta \\right)}}{W \\Xi^{2}} + \\frac{2 \\Delta_{\\theta} \\tilde{r}^{2} a^{2} d\\phi'^{2} \\sin^{2}{\\left(\\theta \\right)}}{W \\Xi^{2}} + \\frac{\\Delta_{\\theta} a^{6} dt^{2} \\sin^{2}{\\left(\\theta \\right)}}{W \\Xi^{2}} - \\frac{2 \\Delta_{\\theta} a^{5} d\\phi' dt \\sin^{2}{\\left(\\theta \\right)}}{W \\Xi^{2}} + \\frac{\\Delta_{\\theta} a^{4} d\\phi'^{2} \\sin^{2}{\\left(\\theta \\right)}}{W \\Xi^{2}} + \\frac{W d\\theta^{2}}{\\Delta_{\\theta}} + \\frac{W d\\tilde{r}^{2}}{\\Delta_{r}}$"
      ],
      "text/plain": [
       "       2         2   2    2                          2          4   2    4    \n",
       "  Δᵣ⋅dt    2⋅Δᵣ⋅a ⋅dt ⋅sin (θ)   2⋅Δᵣ⋅a⋅d\\phi'⋅dt⋅sin (θ)   Δᵣ⋅a ⋅dt ⋅sin (θ) \n",
       "- ────── - ─────────────────── + ──────────────────────── - ───────────────── \n",
       "    W              W⋅Ξ                     W⋅Ξ                        2       \n",
       "                                                                   W⋅Ξ        \n",
       "\n",
       "        3              4          2       2    4              2   2    2      \n",
       "  2⋅Δᵣ⋅a ⋅d\\phi'⋅dt⋅sin (θ)   Δᵣ⋅a ⋅d\\phi' ⋅sin (θ)   Δₜₕₑₜₐ⋅a ⋅dt ⋅sin (θ)   \n",
       "+ ───────────────────────── - ───────────────────── + ───────────────────── + \n",
       "                2                         2                     W             \n",
       "             W⋅Ξ                       W⋅Ξ                                    \n",
       "\n",
       "                  2  2   2    2                        2                2     \n",
       "2⋅Δₜₕₑₜₐ⋅\\tilde{r} ⋅a ⋅dt ⋅sin (θ)   2⋅Δₜₕₑₜₐ⋅\\tilde{r} ⋅a⋅d\\phi'⋅dt⋅sin (θ)  \n",
       "────────────────────────────────── - ─────────────────────────────────────── +\n",
       "               W⋅Ξ                                     W⋅Ξ                    \n",
       "                                                                              \n",
       "\n",
       "           4   2    2                3              2                      4  \n",
       " 2⋅Δₜₕₑₜₐ⋅a ⋅dt ⋅sin (θ)   2⋅Δₜₕₑₜₐ⋅a ⋅d\\phi'⋅dt⋅sin (θ)   Δₜₕₑₜₐ⋅\\tilde{r} ⋅a\n",
       " ─────────────────────── - ───────────────────────────── + ───────────────────\n",
       "           W⋅Ξ                          W⋅Ξ                                 2 \n",
       "                                                                         W⋅Ξ  \n",
       "\n",
       "2   2    2                        4                2                      4   \n",
       " ⋅dt ⋅sin (θ)   2⋅Δₜₕₑₜₐ⋅\\tilde{r} ⋅a⋅d\\phi'⋅dt⋅sin (θ)   Δₜₕₑₜₐ⋅\\tilde{r} ⋅d\\\n",
       "───────────── - ─────────────────────────────────────── + ────────────────────\n",
       "                                     2                                      2 \n",
       "                                  W⋅Ξ                                    W⋅Ξ  \n",
       "\n",
       "    2    2                        2  4   2    2                        2  3   \n",
       "phi' ⋅sin (θ)   2⋅Δₜₕₑₜₐ⋅\\tilde{r} ⋅a ⋅dt ⋅sin (θ)   4⋅Δₜₕₑₜₐ⋅\\tilde{r} ⋅a ⋅d\\\n",
       "───────────── + ────────────────────────────────── - ─────────────────────────\n",
       "                                  2                                       2   \n",
       "                               W⋅Ξ                                     W⋅Ξ    \n",
       "\n",
       "           2                        2  2       2    2              6   2    2 \n",
       "phi'⋅dt⋅sin (θ)   2⋅Δₜₕₑₜₐ⋅\\tilde{r} ⋅a ⋅d\\phi' ⋅sin (θ)   Δₜₕₑₜₐ⋅a ⋅dt ⋅sin (\n",
       "─────────────── + ────────────────────────────────────── + ───────────────────\n",
       "                                      2                                2      \n",
       "                                   W⋅Ξ                              W⋅Ξ       \n",
       "\n",
       "               5              2              4       2    2               2   \n",
       "θ)   2⋅Δₜₕₑₜₐ⋅a ⋅d\\phi'⋅dt⋅sin (θ)   Δₜₕₑₜₐ⋅a ⋅d\\phi' ⋅sin (θ)   W⋅d\\theta    \n",
       "── - ───────────────────────────── + ───────────────────────── + ────────── + \n",
       "                     2                             2               Δₜₕₑₜₐ     \n",
       "                  W⋅Ξ                           W⋅Ξ                           \n",
       "\n",
       "            2\n",
       "W⋅d\\tilde{r} \n",
       "─────────────\n",
       "      Δᵣ     \n",
       "             "
      ]
     },
     "execution_count": 27,
     "metadata": {},
     "output_type": "execute_result"
    }
   ],
   "source": [
    "metric_phi_prime = metric.subs({dphi: dphi_val}).expand()\n",
    "metric_phi_prime"
   ]
  },
  {
   "cell_type": "code",
   "execution_count": 28,
   "metadata": {},
   "outputs": [],
   "source": [
    "metric_list_matrix = [[0 for i in range(4)] for i in range(4)]\n",
    "\n",
    "# dt\n",
    "metric_list_matrix[0][0] = metric_phi_prime.coeff(dt ** 2)\n",
    "metric_list_matrix[0][1] = metric_phi_prime.coeff(dt * dr_tilde) / 2\n",
    "metric_list_matrix[0][2] = metric_phi_prime.coeff(dt * dtheta) / 2\n",
    "metric_list_matrix[0][3] = metric_phi_prime.coeff(dt * dphi_prime) / 2\n",
    "\n",
    "# dr_tilde\n",
    "metric_list_matrix[1][0] = metric_phi_prime.coeff(dr_tilde * dt) / 2\n",
    "metric_list_matrix[1][1] = metric_phi_prime.coeff(dr_tilde ** 2)\n",
    "metric_list_matrix[1][2] = metric_phi_prime.coeff(dr_tilde * dtheta) / 2\n",
    "metric_list_matrix[1][3] = metric_phi_prime.coeff(dr_tilde * dphi_prime) / 2\n",
    "\n",
    "# dtheta\n",
    "metric_list_matrix[2][0] = metric_phi_prime.coeff(dtheta * dt) / 2\n",
    "metric_list_matrix[2][1] = metric_phi_prime.coeff(dtheta * dr_tilde) / 2\n",
    "metric_list_matrix[2][2] = metric_phi_prime.coeff(dtheta ** 2)\n",
    "metric_list_matrix[2][3] = metric_phi_prime.coeff(dtheta * dphi_prime) / 2\n",
    "\n",
    "# dphi_prime\n",
    "metric_list_matrix[3][0] = metric_phi_prime.coeff(dphi_prime * dt) / 2\n",
    "metric_list_matrix[3][1] = metric_phi_prime.coeff(dphi_prime * dr_tilde) / 2\n",
    "metric_list_matrix[3][2] = metric_phi_prime.coeff(dphi_prime * dtheta) / 2\n",
    "metric_list_matrix[3][3] = metric_phi_prime.coeff(dphi_prime ** 2)"
   ]
  },
  {
   "cell_type": "code",
   "execution_count": 29,
   "metadata": {},
   "outputs": [
    {
     "data": {
      "text/latex": [
       "$\\displaystyle \\left[\\begin{matrix}\\frac{\\Xi^{2} \\left(- \\Delta_{r} + \\Delta_{\\theta} a^{2} \\sin^{2}{\\left(\\theta \\right)}\\right) + 2 \\Xi a^{2} \\left(- \\Delta_{r} + \\Delta_{\\theta} \\tilde{r}^{2} + \\Delta_{\\theta} a^{2}\\right) \\sin^{2}{\\left(\\theta \\right)} + a^{2} \\left(- \\Delta_{r} a^{2} \\sin^{2}{\\left(\\theta \\right)} + \\Delta_{\\theta} \\tilde{r}^{4} + 2 \\Delta_{\\theta} \\tilde{r}^{2} a^{2} + \\Delta_{\\theta} a^{4}\\right) \\sin^{2}{\\left(\\theta \\right)}}{W \\Xi^{2}} & 0 & 0 & \\frac{a \\left(\\Delta_{r} a^{2} \\sin^{2}{\\left(\\theta \\right)} - \\Delta_{\\theta} \\tilde{r}^{4} - 2 \\Delta_{\\theta} \\tilde{r}^{2} a^{2} - \\Delta_{\\theta} a^{4} + \\Xi \\left(\\Delta_{r} - \\Delta_{\\theta} \\tilde{r}^{2} - \\Delta_{\\theta} a^{2}\\right)\\right) \\sin^{2}{\\left(\\theta \\right)}}{W \\Xi^{2}}\\\\0 & \\frac{W}{\\Delta_{r}} & 0 & 0\\\\0 & 0 & \\frac{W}{\\Delta_{\\theta}} & 0\\\\\\frac{a \\left(\\Delta_{r} a^{2} \\sin^{2}{\\left(\\theta \\right)} - \\Delta_{\\theta} \\tilde{r}^{4} - 2 \\Delta_{\\theta} \\tilde{r}^{2} a^{2} - \\Delta_{\\theta} a^{4} + \\Xi \\left(\\Delta_{r} - \\Delta_{\\theta} \\tilde{r}^{2} - \\Delta_{\\theta} a^{2}\\right)\\right) \\sin^{2}{\\left(\\theta \\right)}}{W \\Xi^{2}} & 0 & 0 & \\frac{\\left(- \\Delta_{r} a^{2} \\sin^{2}{\\left(\\theta \\right)} + \\Delta_{\\theta} \\tilde{r}^{4} + 2 \\Delta_{\\theta} \\tilde{r}^{2} a^{2} + \\Delta_{\\theta} a^{4}\\right) \\sin^{2}{\\left(\\theta \\right)}}{W \\Xi^{2}}\\end{matrix}\\right]$"
      ],
      "text/plain": [
       "⎡ 2 ⎛              2    2   ⎞        2 ⎛                      2           2⎞  \n",
       "⎢Ξ ⋅⎝-Δᵣ + Δₜₕₑₜₐ⋅a ⋅sin (θ)⎠ + 2⋅Ξ⋅a ⋅⎝-Δᵣ + Δₜₕₑₜₐ⋅\\tilde{r}  + Δₜₕₑₜₐ⋅a ⎠⋅s\n",
       "⎢─────────────────────────────────────────────────────────────────────────────\n",
       "⎢                                                                             \n",
       "⎢                                                                             \n",
       "⎢                                                                             \n",
       "⎢                                                                             \n",
       "⎢                                                                             \n",
       "⎢                                                                             \n",
       "⎢                                                                             \n",
       "⎢                                                                             \n",
       "⎢                                                                             \n",
       "⎢                                                                             \n",
       "⎢                                                                             \n",
       "⎢                          ⎛    2    2                      4                 \n",
       "⎢                        a⋅⎝Δᵣ⋅a ⋅sin (θ) - Δₜₕₑₜₐ⋅\\tilde{r}  - 2⋅Δₜₕₑₜₐ⋅\\tild\n",
       "⎢                        ─────────────────────────────────────────────────────\n",
       "⎢                                                                             \n",
       "⎣                                                                             \n",
       "\n",
       "  2       2 ⎛      2    2                      4                     2  2     \n",
       "in (θ) + a ⋅⎝- Δᵣ⋅a ⋅sin (θ) + Δₜₕₑₜₐ⋅\\tilde{r}  + 2⋅Δₜₕₑₜₐ⋅\\tilde{r} ⋅a  + Δₜ\n",
       "──────────────────────────────────────────────────────────────────────────────\n",
       "          2                                                                   \n",
       "       W⋅Ξ                                                                    \n",
       "                                                                              \n",
       "                                                                              \n",
       "        0                                                                     \n",
       "                                                                              \n",
       "                                                                              \n",
       "                                                                              \n",
       "        0                                                                     \n",
       "                                                                              \n",
       "                                                                              \n",
       "    2  2           4     ⎛                     2           2⎞⎞    2           \n",
       "e{r} ⋅a  - Δₜₕₑₜₐ⋅a  + Ξ⋅⎝Δᵣ - Δₜₕₑₜₐ⋅\\tilde{r}  - Δₜₕₑₜₐ⋅a ⎠⎠⋅sin (θ)        \n",
       "──────────────────────────────────────────────────────────────────────        \n",
       "          2                                                                   \n",
       "       W⋅Ξ                                                                    \n",
       "\n",
       "      4⎞    2                   ⎛    2    2                      4            \n",
       "ₕₑₜₐ⋅a ⎠⋅sin (θ)              a⋅⎝Δᵣ⋅a ⋅sin (θ) - Δₜₕₑₜₐ⋅\\tilde{r}  - 2⋅Δₜₕₑₜₐ⋅\n",
       "────────────────  0     0     ────────────────────────────────────────────────\n",
       "                                                                              \n",
       "                                                                              \n",
       "                                                                              \n",
       "                  W                                                           \n",
       "                  ──    0                                                     \n",
       "                  Δᵣ                                                          \n",
       "                                                                              \n",
       "                        W                                                     \n",
       "                  0   ──────                                                  \n",
       "                      Δₜₕₑₜₐ                                                  \n",
       "                                                                              \n",
       "                                                  ⎛      2    2               \n",
       "                                                  ⎝- Δᵣ⋅a ⋅sin (θ) + Δₜₕₑₜₐ⋅\\t\n",
       "                  0     0                         ────────────────────────────\n",
       "                                                                              \n",
       "                                                                              \n",
       "\n",
       "         2  2           4     ⎛                     2           2⎞⎞    2   ⎤\n",
       "\\tilde{r} ⋅a  - Δₜₕₑₜₐ⋅a  + Ξ⋅⎝Δᵣ - Δₜₕₑₜₐ⋅\\tilde{r}  - Δₜₕₑₜₐ⋅a ⎠⎠⋅sin (θ)⎥\n",
       "───────────────────────────────────────────────────────────────────────────⎥\n",
       "               2                                                           ⎥\n",
       "            W⋅Ξ                                                            ⎥\n",
       "                                                                           ⎥\n",
       "                                                                           ⎥\n",
       "             0                                                             ⎥\n",
       "                                                                           ⎥\n",
       "                                                                           ⎥\n",
       "                                                                           ⎥\n",
       "             0                                                             ⎥\n",
       "                                                                           ⎥\n",
       "                                                                           ⎥\n",
       "       4                     2  2           4⎞    2                        ⎥\n",
       "ilde{r}  + 2⋅Δₜₕₑₜₐ⋅\\tilde{r} ⋅a  + Δₜₕₑₜₐ⋅a ⎠⋅sin (θ)                     ⎥\n",
       "──────────────────────────────────────────────────────                     ⎥\n",
       "              2                                                            ⎥\n",
       "           W⋅Ξ                                                             ⎦"
      ]
     },
     "execution_count": 29,
     "metadata": {},
     "output_type": "execute_result"
    }
   ],
   "source": [
    "syms = sympy.symbols(\"t \\\\tilde{r} theta phi'\")\n",
    "sch = MetricTensor(metric_list_matrix, syms)\n",
    "sch.tensor().simplify()"
   ]
  },
  {
   "cell_type": "code",
   "execution_count": 30,
   "metadata": {},
   "outputs": [
    {
     "data": {
      "image/png": "[encoded data removed]",
      "text/latex": [
       "$\\displaystyle \\left[ 1, \\  0, \\  0, \\  \\Omega\\right]$"
      ],
      "text/plain": [
       "[1, 0, 0, Ω]"
      ]
     },
     "execution_count": 30,
     "metadata": {},
     "output_type": "execute_result"
    }
   ],
   "source": [
    "K = [1, 0, 0, omega]\n",
    "K"
   ]
  },
  {
   "cell_type": "code",
   "execution_count": 31,
   "metadata": {},
   "outputs": [
    {
     "data": {
      "image/png": "[encoded data removed]",
      "text/latex": [
       "$\\displaystyle \\frac{- 2 \\Omega a \\left(- \\Delta_{r} a^{2} \\sin^{2}{\\left(\\theta \\right)} + \\Delta_{\\theta} \\tilde{r}^{4} + 2 \\Delta_{\\theta} \\tilde{r}^{2} a^{2} + \\Delta_{\\theta} a^{4} + \\Xi \\left(- \\Delta_{r} + \\Delta_{\\theta} \\tilde{r}^{2} + \\Delta_{\\theta} a^{2}\\right)\\right) \\sin^{2}{\\left(\\theta \\right)} + \\Xi^{2} \\left(- \\Delta_{r} + \\Delta_{\\theta} a^{2} \\sin^{2}{\\left(\\theta \\right)}\\right) + 2 \\Xi a^{2} \\left(- \\Delta_{r} + \\Delta_{\\theta} \\tilde{r}^{2} + \\Delta_{\\theta} a^{2}\\right) \\sin^{2}{\\left(\\theta \\right)} + \\left(- \\Delta_{r} a^{4} \\sin^{2}{\\left(\\theta \\right)} + \\Delta_{\\theta} \\tilde{r}^{4} a^{2} + 2 \\Delta_{\\theta} \\tilde{r}^{2} a^{4} + \\Delta_{\\theta} a^{6} + \\Omega^{2} \\left(- \\Delta_{r} a^{2} \\sin^{2}{\\left(\\theta \\right)} + \\Delta_{\\theta} \\tilde{r}^{4} + 2 \\Delta_{\\theta} \\tilde{r}^{2} a^{2} + \\Delta_{\\theta} a^{4}\\right)\\right) \\sin^{2}{\\left(\\theta \\right)}}{W \\Xi^{2}}$"
      ],
      "text/plain": [
       "        ⎛      2    2                      4                     2  2         \n",
       "- 2⋅Ω⋅a⋅⎝- Δᵣ⋅a ⋅sin (θ) + Δₜₕₑₜₐ⋅\\tilde{r}  + 2⋅Δₜₕₑₜₐ⋅\\tilde{r} ⋅a  + Δₜₕₑₜₐ\n",
       "──────────────────────────────────────────────────────────────────────────────\n",
       "                                                                              \n",
       "                                                                              \n",
       "\n",
       "  4     ⎛                      2           2⎞⎞    2       2 ⎛              2  \n",
       "⋅a  + Ξ⋅⎝-Δᵣ + Δₜₕₑₜₐ⋅\\tilde{r}  + Δₜₕₑₜₐ⋅a ⎠⎠⋅sin (θ) + Ξ ⋅⎝-Δᵣ + Δₜₕₑₜₐ⋅a ⋅s\n",
       "──────────────────────────────────────────────────────────────────────────────\n",
       "                                                                              \n",
       "                                                                              \n",
       "\n",
       "  2   ⎞        2 ⎛                      2           2⎞    2      ⎛      4    2\n",
       "in (θ)⎠ + 2⋅Ξ⋅a ⋅⎝-Δᵣ + Δₜₕₑₜₐ⋅\\tilde{r}  + Δₜₕₑₜₐ⋅a ⎠⋅sin (θ) + ⎝- Δᵣ⋅a ⋅sin \n",
       "──────────────────────────────────────────────────────────────────────────────\n",
       "                                      2                                       \n",
       "                                   W⋅Ξ                                        \n",
       "\n",
       "                      4  2                     2  4           6    2 ⎛      2 \n",
       "(θ) + Δₜₕₑₜₐ⋅\\tilde{r} ⋅a  + 2⋅Δₜₕₑₜₐ⋅\\tilde{r} ⋅a  + Δₜₕₑₜₐ⋅a  + Ω ⋅⎝- Δᵣ⋅a ⋅\n",
       "──────────────────────────────────────────────────────────────────────────────\n",
       "                                                                              \n",
       "                                                                              \n",
       "\n",
       "   2                      4                     2  2           4⎞⎞    2   \n",
       "sin (θ) + Δₜₕₑₜₐ⋅\\tilde{r}  + 2⋅Δₜₕₑₜₐ⋅\\tilde{r} ⋅a  + Δₜₕₑₜₐ⋅a ⎠⎠⋅sin (θ)\n",
       "──────────────────────────────────────────────────────────────────────────\n",
       "                                                                          \n",
       "                                                                          "
      ]
     },
     "execution_count": 31,
     "metadata": {},
     "output_type": "execute_result"
    }
   ],
   "source": [
    "gKK_tensor = TensorHead('gKK', [Lorentzian] * 4)\n",
    "repl = {gKK_tensor(-i0, -i1, i2, i3): sympy.tensorproduct(sympy.tensorproduct(sch.tensor(), K), K)}\n",
    "K_squared = gKK_tensor(-i0, -i1, i1, i0).replace_with_arrays(repl).simplify()\n",
    "K_squared"
   ]
  },
  {
   "cell_type": "code",
   "execution_count": 32,
   "metadata": {},
   "outputs": [
    {
     "data": {
      "image/png": "[encoded data removed]",
      "text/latex": [
       "$\\displaystyle \\frac{\\Delta_{\\theta} \\left(\\Omega^{2} \\left(\\tilde{r}^{4} + 2 \\tilde{r}^{2} a^{2} + a^{4}\\right) - 2 \\Omega a \\left(\\Xi \\left(\\tilde{r}^{2} + a^{2}\\right) + \\tilde{r}^{4} + 2 \\tilde{r}^{2} a^{2} + a^{4}\\right) + \\Xi^{2} a^{2} + 2 \\Xi a^{2} \\left(\\tilde{r}^{2} + a^{2}\\right) + \\tilde{r}^{4} a^{2} + 2 \\tilde{r}^{2} a^{4} + a^{6}\\right) \\sin^{2}{\\left(\\theta \\right)}}{W \\Xi^{2}}$"
      ],
      "text/plain": [
       "       ⎛ 2 ⎛         4              2  2    4⎞         ⎛  ⎛         2    2⎞   \n",
       "Δₜₕₑₜₐ⋅⎝Ω ⋅⎝\\tilde{r}  + 2⋅\\tilde{r} ⋅a  + a ⎠ - 2⋅Ω⋅a⋅⎝Ξ⋅⎝\\tilde{r}  + a ⎠ + \n",
       "──────────────────────────────────────────────────────────────────────────────\n",
       "                                                                              \n",
       "                                                                              \n",
       "\n",
       "         4              2  2    4⎞    2  2        2 ⎛         2    2⎞         \n",
       "\\tilde{r}  + 2⋅\\tilde{r} ⋅a  + a ⎠ + Ξ ⋅a  + 2⋅Ξ⋅a ⋅⎝\\tilde{r}  + a ⎠ + \\tilde\n",
       "──────────────────────────────────────────────────────────────────────────────\n",
       "                     2                                                        \n",
       "                  W⋅Ξ                                                         \n",
       "\n",
       "   4  2              2  4    6⎞    2   \n",
       "{r} ⋅a  + 2⋅\\tilde{r} ⋅a  + a ⎠⋅sin (θ)\n",
       "───────────────────────────────────────\n",
       "                                       \n",
       "                                       "
      ]
     },
     "execution_count": 32,
     "metadata": {},
     "output_type": "execute_result"
    }
   ],
   "source": [
    "K_squared = K_squared.subs({delta_r: 0}).simplify()\n",
    "K_squared"
   ]
  },
  {
   "cell_type": "code",
   "execution_count": 33,
   "metadata": {},
   "outputs": [
    {
     "data": {
      "image/png": "[encoded data removed]",
      "text/latex": [
       "$\\displaystyle \\frac{a \\left(\\tilde{r}^{2} + 1\\right)}{\\tilde{r}^{2} + a^{2}}$"
      ],
      "text/plain": [
       "  ⎛         2    ⎞\n",
       "a⋅⎝\\tilde{r}  + 1⎠\n",
       "──────────────────\n",
       "          2    2  \n",
       " \\tilde{r}  + a   "
      ]
     },
     "execution_count": 33,
     "metadata": {},
     "output_type": "execute_result"
    }
   ],
   "source": [
    "omega_val = a * (1 + r_tilde ** 2) / (r_tilde ** 2 + a ** 2)\n",
    "omega_val"
   ]
  },
  {
   "cell_type": "code",
   "execution_count": 34,
   "metadata": {},
   "outputs": [
    {
     "data": {
      "image/png": "[encoded data removed]",
      "text/latex": [
       "$\\displaystyle 0$"
      ],
      "text/plain": [
       "0"
      ]
     },
     "execution_count": 34,
     "metadata": {},
     "output_type": "execute_result"
    }
   ],
   "source": [
    "K_squared.subs({omega: omega_val}).simplify().subs({xi: 1 - a ** 2}).simplify()"
   ]
  },
  {
   "attachments": {},
   "cell_type": "markdown",
   "metadata": {},
   "source": [
    "Make another change of coordinates."
   ]
  },
  {
   "cell_type": "code",
   "execution_count": 35,
   "metadata": {},
   "outputs": [
    {
     "data": {
      "image/png": "[encoded data removed]",
      "text/latex": [
       "$\\displaystyle \\Omega dt + d\\phi''$"
      ],
      "text/plain": [
       "Ω⋅dt + d\\phi''"
      ]
     },
     "execution_count": 35,
     "metadata": {},
     "output_type": "execute_result"
    }
   ],
   "source": [
    "dphi_double_prime = sympy.symbols(\"d\\phi''\")\n",
    "dphi_prime_val = dphi_double_prime + omega * dt\n",
    "dphi_prime_val"
   ]
  },
  {
   "cell_type": "code",
   "execution_count": 36,
   "metadata": {},
   "outputs": [
    {
     "data": {
      "image/png": "[encoded data removed]",
      "text/latex": [
       "$\\displaystyle - \\frac{\\Delta_{r} \\Omega^{2} a^{2} dt^{2} \\sin^{4}{\\left(\\theta \\right)}}{W \\Xi^{2}} + \\frac{2 \\Delta_{r} \\Omega a dt^{2} \\sin^{2}{\\left(\\theta \\right)}}{W \\Xi} + \\frac{2 \\Delta_{r} \\Omega a^{3} dt^{2} \\sin^{4}{\\left(\\theta \\right)}}{W \\Xi^{2}} - \\frac{2 \\Delta_{r} \\Omega a^{2} d\\phi'' dt \\sin^{4}{\\left(\\theta \\right)}}{W \\Xi^{2}} - \\frac{\\Delta_{r} dt^{2}}{W} - \\frac{2 \\Delta_{r} a^{2} dt^{2} \\sin^{2}{\\left(\\theta \\right)}}{W \\Xi} + \\frac{2 \\Delta_{r} a d\\phi'' dt \\sin^{2}{\\left(\\theta \\right)}}{W \\Xi} - \\frac{\\Delta_{r} a^{4} dt^{2} \\sin^{4}{\\left(\\theta \\right)}}{W \\Xi^{2}} + \\frac{2 \\Delta_{r} a^{3} d\\phi'' dt \\sin^{4}{\\left(\\theta \\right)}}{W \\Xi^{2}} - \\frac{\\Delta_{r} a^{2} d\\phi''^{2} \\sin^{4}{\\left(\\theta \\right)}}{W \\Xi^{2}} + \\frac{\\Delta_{\\theta} \\Omega^{2} \\tilde{r}^{4} dt^{2} \\sin^{2}{\\left(\\theta \\right)}}{W \\Xi^{2}} + \\frac{2 \\Delta_{\\theta} \\Omega^{2} \\tilde{r}^{2} a^{2} dt^{2} \\sin^{2}{\\left(\\theta \\right)}}{W \\Xi^{2}} + \\frac{\\Delta_{\\theta} \\Omega^{2} a^{4} dt^{2} \\sin^{2}{\\left(\\theta \\right)}}{W \\Xi^{2}} - \\frac{2 \\Delta_{\\theta} \\Omega \\tilde{r}^{2} a dt^{2} \\sin^{2}{\\left(\\theta \\right)}}{W \\Xi} - \\frac{2 \\Delta_{\\theta} \\Omega a^{3} dt^{2} \\sin^{2}{\\left(\\theta \\right)}}{W \\Xi} - \\frac{2 \\Delta_{\\theta} \\Omega \\tilde{r}^{4} a dt^{2} \\sin^{2}{\\left(\\theta \\right)}}{W \\Xi^{2}} + \\frac{2 \\Delta_{\\theta} \\Omega \\tilde{r}^{4} d\\phi'' dt \\sin^{2}{\\left(\\theta \\right)}}{W \\Xi^{2}} - \\frac{4 \\Delta_{\\theta} \\Omega \\tilde{r}^{2} a^{3} dt^{2} \\sin^{2}{\\left(\\theta \\right)}}{W \\Xi^{2}} + \\frac{4 \\Delta_{\\theta} \\Omega \\tilde{r}^{2} a^{2} d\\phi'' dt \\sin^{2}{\\left(\\theta \\right)}}{W \\Xi^{2}} - \\frac{2 \\Delta_{\\theta} \\Omega a^{5} dt^{2} \\sin^{2}{\\left(\\theta \\right)}}{W \\Xi^{2}} + \\frac{2 \\Delta_{\\theta} \\Omega a^{4} d\\phi'' dt \\sin^{2}{\\left(\\theta \\right)}}{W \\Xi^{2}} + \\frac{\\Delta_{\\theta} a^{2} dt^{2} \\sin^{2}{\\left(\\theta \\right)}}{W} + \\frac{2 \\Delta_{\\theta} \\tilde{r}^{2} a^{2} dt^{2} \\sin^{2}{\\left(\\theta \\right)}}{W \\Xi} - \\frac{2 \\Delta_{\\theta} \\tilde{r}^{2} a d\\phi'' dt \\sin^{2}{\\left(\\theta \\right)}}{W \\Xi} + \\frac{2 \\Delta_{\\theta} a^{4} dt^{2} \\sin^{2}{\\left(\\theta \\right)}}{W \\Xi} - \\frac{2 \\Delta_{\\theta} a^{3} d\\phi'' dt \\sin^{2}{\\left(\\theta \\right)}}{W \\Xi} + \\frac{\\Delta_{\\theta} \\tilde{r}^{4} a^{2} dt^{2} \\sin^{2}{\\left(\\theta \\right)}}{W \\Xi^{2}} - \\frac{2 \\Delta_{\\theta} \\tilde{r}^{4} a d\\phi'' dt \\sin^{2}{\\left(\\theta \\right)}}{W \\Xi^{2}} + \\frac{\\Delta_{\\theta} \\tilde{r}^{4} d\\phi''^{2} \\sin^{2}{\\left(\\theta \\right)}}{W \\Xi^{2}} + \\frac{2 \\Delta_{\\theta} \\tilde{r}^{2} a^{4} dt^{2} \\sin^{2}{\\left(\\theta \\right)}}{W \\Xi^{2}} - \\frac{4 \\Delta_{\\theta} \\tilde{r}^{2} a^{3} d\\phi'' dt \\sin^{2}{\\left(\\theta \\right)}}{W \\Xi^{2}} + \\frac{2 \\Delta_{\\theta} \\tilde{r}^{2} a^{2} d\\phi''^{2} \\sin^{2}{\\left(\\theta \\right)}}{W \\Xi^{2}} + \\frac{\\Delta_{\\theta} a^{6} dt^{2} \\sin^{2}{\\left(\\theta \\right)}}{W \\Xi^{2}} - \\frac{2 \\Delta_{\\theta} a^{5} d\\phi'' dt \\sin^{2}{\\left(\\theta \\right)}}{W \\Xi^{2}} + \\frac{\\Delta_{\\theta} a^{4} d\\phi''^{2} \\sin^{2}{\\left(\\theta \\right)}}{W \\Xi^{2}} + \\frac{W d\\theta^{2}}{\\Delta_{\\theta}} + \\frac{W d\\tilde{r}^{2}}{\\Delta_{r}}$"
      ],
      "text/plain": [
       "      2  2   2    4                 2    2              3   2    4            \n",
       "  Δᵣ⋅Ω ⋅a ⋅dt ⋅sin (θ)   2⋅Δᵣ⋅Ω⋅a⋅dt ⋅sin (θ)   2⋅Δᵣ⋅Ω⋅a ⋅dt ⋅sin (θ)   2⋅Δᵣ⋅Ω\n",
       "- ──────────────────── + ──────────────────── + ───────────────────── - ──────\n",
       "             2                   W⋅Ξ                        2                 \n",
       "          W⋅Ξ                                            W⋅Ξ                  \n",
       "\n",
       "  2               4           2         2   2    2                           2\n",
       "⋅a ⋅d\\phi''⋅dt⋅sin (θ)   Δᵣ⋅dt    2⋅Δᵣ⋅a ⋅dt ⋅sin (θ)   2⋅Δᵣ⋅a⋅d\\phi''⋅dt⋅sin \n",
       "────────────────────── - ────── - ─────────────────── + ──────────────────────\n",
       "         2                 W              W⋅Ξ                      W⋅Ξ        \n",
       "      W⋅Ξ                                                                     \n",
       "\n",
       "          4   2    4            3               4          2        2    4    \n",
       "(θ)   Δᵣ⋅a ⋅dt ⋅sin (θ)   2⋅Δᵣ⋅a ⋅d\\phi''⋅dt⋅sin (θ)   Δᵣ⋅a ⋅d\\phi'' ⋅sin (θ) \n",
       "─── - ───────────────── + ────────────────────────── - ────────────────────── \n",
       "                2                       2                          2          \n",
       "             W⋅Ξ                     W⋅Ξ                        W⋅Ξ           \n",
       "\n",
       "          2          4   2    2                2          2  2   2    2       \n",
       "  Δₜₕₑₜₐ⋅Ω ⋅\\tilde{r} ⋅dt ⋅sin (θ)   2⋅Δₜₕₑₜₐ⋅Ω ⋅\\tilde{r} ⋅a ⋅dt ⋅sin (θ)   Δ\n",
       "+ ──────────────────────────────── + ───────────────────────────────────── + ─\n",
       "                   2                                     2                    \n",
       "                W⋅Ξ                                   W⋅Ξ                     \n",
       "\n",
       "       2  4   2    2                          2     2    2                  3 \n",
       "ₜₕₑₜₐ⋅Ω ⋅a ⋅dt ⋅sin (θ)   2⋅Δₜₕₑₜₐ⋅Ω⋅\\tilde{r} ⋅a⋅dt ⋅sin (θ)   2⋅Δₜₕₑₜₐ⋅Ω⋅a ⋅\n",
       "─────────────────────── - ─────────────────────────────────── - ──────────────\n",
       "            2                             W⋅Ξ                              W⋅Ξ\n",
       "         W⋅Ξ                                                                  \n",
       "\n",
       "  2    2                          4     2    2                          4     \n",
       "dt ⋅sin (θ)   2⋅Δₜₕₑₜₐ⋅Ω⋅\\tilde{r} ⋅a⋅dt ⋅sin (θ)   2⋅Δₜₕₑₜₐ⋅Ω⋅\\tilde{r} ⋅d\\ph\n",
       "─────────── - ─────────────────────────────────── + ──────────────────────────\n",
       "                                 2                                       2    \n",
       "                              W⋅Ξ                                     W⋅Ξ     \n",
       "\n",
       "          2                          2  3   2    2                          2 \n",
       "i''⋅dt⋅sin (θ)   4⋅Δₜₕₑₜₐ⋅Ω⋅\\tilde{r} ⋅a ⋅dt ⋅sin (θ)   4⋅Δₜₕₑₜₐ⋅Ω⋅\\tilde{r} ⋅\n",
       "────────────── - ──────────────────────────────────── + ──────────────────────\n",
       "                                    2                                         \n",
       "                                 W⋅Ξ                                        W⋅\n",
       "\n",
       " 2               2                  5   2    2                  4             \n",
       "a ⋅d\\phi''⋅dt⋅sin (θ)   2⋅Δₜₕₑₜₐ⋅Ω⋅a ⋅dt ⋅sin (θ)   2⋅Δₜₕₑₜₐ⋅Ω⋅a ⋅d\\phi''⋅dt⋅s\n",
       "───────────────────── - ───────────────────────── + ──────────────────────────\n",
       " 2                                    2                              2        \n",
       "Ξ                                  W⋅Ξ                            W⋅Ξ         \n",
       "\n",
       "  2              2   2    2                        2  2   2    2              \n",
       "in (θ)   Δₜₕₑₜₐ⋅a ⋅dt ⋅sin (θ)   2⋅Δₜₕₑₜₐ⋅\\tilde{r} ⋅a ⋅dt ⋅sin (θ)   2⋅Δₜₕₑₜₐ\n",
       "────── + ───────────────────── + ────────────────────────────────── - ────────\n",
       "                   W                            W⋅Ξ                           \n",
       "                                                                              \n",
       "\n",
       "          2                 2                4   2    2                3      \n",
       "⋅\\tilde{r} ⋅a⋅d\\phi''⋅dt⋅sin (θ)   2⋅Δₜₕₑₜₐ⋅a ⋅dt ⋅sin (θ)   2⋅Δₜₕₑₜₐ⋅a ⋅d\\phi\n",
       "──────────────────────────────── + ─────────────────────── - ─────────────────\n",
       "          W⋅Ξ                                W⋅Ξ                          W⋅Ξ \n",
       "                                                                              \n",
       "\n",
       "         2                      4  2   2    2                        4        \n",
       "''⋅dt⋅sin (θ)   Δₜₕₑₜₐ⋅\\tilde{r} ⋅a ⋅dt ⋅sin (θ)   2⋅Δₜₕₑₜₐ⋅\\tilde{r} ⋅a⋅d\\phi\n",
       "───────────── + ──────────────────────────────── - ───────────────────────────\n",
       "                                 2                                      2     \n",
       "                              W⋅Ξ                                    W⋅Ξ      \n",
       "\n",
       "         2                      4        2    2                        2  4   \n",
       "''⋅dt⋅sin (θ)   Δₜₕₑₜₐ⋅\\tilde{r} ⋅d\\phi'' ⋅sin (θ)   2⋅Δₜₕₑₜₐ⋅\\tilde{r} ⋅a ⋅dt\n",
       "───────────── + ────────────────────────────────── + ─────────────────────────\n",
       "                                  2                                    2      \n",
       "                               W⋅Ξ                                  W⋅Ξ       \n",
       "\n",
       "2    2                        2  3               2                        2  2\n",
       " ⋅sin (θ)   4⋅Δₜₕₑₜₐ⋅\\tilde{r} ⋅a ⋅d\\phi''⋅dt⋅sin (θ)   2⋅Δₜₕₑₜₐ⋅\\tilde{r} ⋅a \n",
       "───────── - ───────────────────────────────────────── + ──────────────────────\n",
       "                                  2                                          2\n",
       "                               W⋅Ξ                                        W⋅Ξ \n",
       "\n",
       "        2    2              6   2    2                5               2       \n",
       "⋅d\\phi'' ⋅sin (θ)   Δₜₕₑₜₐ⋅a ⋅dt ⋅sin (θ)   2⋅Δₜₕₑₜₐ⋅a ⋅d\\phi''⋅dt⋅sin (θ)   Δ\n",
       "───────────────── + ───────────────────── - ────────────────────────────── + ─\n",
       "                                2                           2                 \n",
       "                             W⋅Ξ                         W⋅Ξ                  \n",
       "\n",
       "       4        2    2               2               2\n",
       "ₜₕₑₜₐ⋅a ⋅d\\phi'' ⋅sin (θ)   W⋅d\\theta    W⋅d\\tilde{r} \n",
       "───────────────────────── + ────────── + ─────────────\n",
       "             2                Δₜₕₑₜₐ           Δᵣ     \n",
       "          W⋅Ξ                                         "
      ]
     },
     "execution_count": 36,
     "metadata": {},
     "output_type": "execute_result"
    }
   ],
   "source": [
    "metric_phi_double_prime = metric_phi_prime.subs({dphi_prime: dphi_prime_val}).expand()\n",
    "metric_phi_double_prime"
   ]
  },
  {
   "cell_type": "code",
   "execution_count": 37,
   "metadata": {},
   "outputs": [
    {
     "data": {
      "image/png": "[encoded data removed]",
      "text/latex": [
       "$\\displaystyle - \\frac{\\Delta_{r} \\Omega^{2} a^{2} \\sin^{4}{\\left(\\theta \\right)}}{W \\Xi^{2}} + \\frac{2 \\Delta_{r} \\Omega a \\sin^{2}{\\left(\\theta \\right)}}{W \\Xi} + \\frac{2 \\Delta_{r} \\Omega a^{3} \\sin^{4}{\\left(\\theta \\right)}}{W \\Xi^{2}} - \\frac{\\Delta_{r}}{W} - \\frac{2 \\Delta_{r} a^{2} \\sin^{2}{\\left(\\theta \\right)}}{W \\Xi} - \\frac{\\Delta_{r} a^{4} \\sin^{4}{\\left(\\theta \\right)}}{W \\Xi^{2}} + \\frac{\\Delta_{\\theta} \\Omega^{2} \\tilde{r}^{4} \\sin^{2}{\\left(\\theta \\right)}}{W \\Xi^{2}} + \\frac{2 \\Delta_{\\theta} \\Omega^{2} \\tilde{r}^{2} a^{2} \\sin^{2}{\\left(\\theta \\right)}}{W \\Xi^{2}} + \\frac{\\Delta_{\\theta} \\Omega^{2} a^{4} \\sin^{2}{\\left(\\theta \\right)}}{W \\Xi^{2}} - \\frac{2 \\Delta_{\\theta} \\Omega \\tilde{r}^{2} a \\sin^{2}{\\left(\\theta \\right)}}{W \\Xi} - \\frac{2 \\Delta_{\\theta} \\Omega a^{3} \\sin^{2}{\\left(\\theta \\right)}}{W \\Xi} - \\frac{2 \\Delta_{\\theta} \\Omega \\tilde{r}^{4} a \\sin^{2}{\\left(\\theta \\right)}}{W \\Xi^{2}} - \\frac{4 \\Delta_{\\theta} \\Omega \\tilde{r}^{2} a^{3} \\sin^{2}{\\left(\\theta \\right)}}{W \\Xi^{2}} - \\frac{2 \\Delta_{\\theta} \\Omega a^{5} \\sin^{2}{\\left(\\theta \\right)}}{W \\Xi^{2}} + \\frac{\\Delta_{\\theta} a^{2} \\sin^{2}{\\left(\\theta \\right)}}{W} + \\frac{2 \\Delta_{\\theta} \\tilde{r}^{2} a^{2} \\sin^{2}{\\left(\\theta \\right)}}{W \\Xi} + \\frac{2 \\Delta_{\\theta} a^{4} \\sin^{2}{\\left(\\theta \\right)}}{W \\Xi} + \\frac{\\Delta_{\\theta} \\tilde{r}^{4} a^{2} \\sin^{2}{\\left(\\theta \\right)}}{W \\Xi^{2}} + \\frac{2 \\Delta_{\\theta} \\tilde{r}^{2} a^{4} \\sin^{2}{\\left(\\theta \\right)}}{W \\Xi^{2}} + \\frac{\\Delta_{\\theta} a^{6} \\sin^{2}{\\left(\\theta \\right)}}{W \\Xi^{2}}$"
      ],
      "text/plain": [
       "      2  2    4                  2              3    4                 2    2 \n",
       "  Δᵣ⋅Ω ⋅a ⋅sin (θ)   2⋅Δᵣ⋅Ω⋅a⋅sin (θ)   2⋅Δᵣ⋅Ω⋅a ⋅sin (θ)   Δᵣ   2⋅Δᵣ⋅a ⋅sin (\n",
       "- ──────────────── + ──────────────── + ───────────────── - ── - ─────────────\n",
       "           2               W⋅Ξ                    2         W          W⋅Ξ    \n",
       "        W⋅Ξ                                    W⋅Ξ                            \n",
       "\n",
       "         4    4              2          4    2                2          2  2 \n",
       "θ)   Δᵣ⋅a ⋅sin (θ)   Δₜₕₑₜₐ⋅Ω ⋅\\tilde{r} ⋅sin (θ)   2⋅Δₜₕₑₜₐ⋅Ω ⋅\\tilde{r} ⋅a ⋅\n",
       "── - ───────────── + ──────────────────────────── + ──────────────────────────\n",
       "             2                      2                                 2       \n",
       "          W⋅Ξ                    W⋅Ξ                               W⋅Ξ        \n",
       "\n",
       "   2              2  4    2                          2      2                 \n",
       "sin (θ)   Δₜₕₑₜₐ⋅Ω ⋅a ⋅sin (θ)   2⋅Δₜₕₑₜₐ⋅Ω⋅\\tilde{r} ⋅a⋅sin (θ)   2⋅Δₜₕₑₜₐ⋅Ω⋅\n",
       "─────── + ──────────────────── - ─────────────────────────────── - ───────────\n",
       "                     2                         W⋅Ξ                          W⋅\n",
       "                  W⋅Ξ                                                         \n",
       "\n",
       " 3    2                          4      2                          2  3    2  \n",
       "a ⋅sin (θ)   2⋅Δₜₕₑₜₐ⋅Ω⋅\\tilde{r} ⋅a⋅sin (θ)   4⋅Δₜₕₑₜₐ⋅Ω⋅\\tilde{r} ⋅a ⋅sin (θ\n",
       "────────── - ─────────────────────────────── - ───────────────────────────────\n",
       "Ξ                             2                                 2             \n",
       "                           W⋅Ξ                               W⋅Ξ              \n",
       "\n",
       "                5    2              2    2                        2  2    2   \n",
       ")   2⋅Δₜₕₑₜₐ⋅Ω⋅a ⋅sin (θ)   Δₜₕₑₜₐ⋅a ⋅sin (θ)   2⋅Δₜₕₑₜₐ⋅\\tilde{r} ⋅a ⋅sin (θ)\n",
       "─ - ───────────────────── + ───────────────── + ──────────────────────────────\n",
       "                2                   W                        W⋅Ξ              \n",
       "             W⋅Ξ                                                              \n",
       "\n",
       "             4    2                      4  2    2                        2  4\n",
       "   2⋅Δₜₕₑₜₐ⋅a ⋅sin (θ)   Δₜₕₑₜₐ⋅\\tilde{r} ⋅a ⋅sin (θ)   2⋅Δₜₕₑₜₐ⋅\\tilde{r} ⋅a \n",
       " + ─────────────────── + ──────────────────────────── + ──────────────────────\n",
       "           W⋅Ξ                          2                               2     \n",
       "                                     W⋅Ξ                             W⋅Ξ      \n",
       "\n",
       "    2              6    2   \n",
       "⋅sin (θ)   Δₜₕₑₜₐ⋅a ⋅sin (θ)\n",
       "──────── + ─────────────────\n",
       "                     2      \n",
       "                  W⋅Ξ       "
      ]
     },
     "execution_count": 37,
     "metadata": {},
     "output_type": "execute_result"
    }
   ],
   "source": [
    "g_tt = metric_phi_double_prime.coeff(dt ** 2)\n",
    "g_tt"
   ]
  },
  {
   "cell_type": "code",
   "execution_count": 38,
   "metadata": {},
   "outputs": [
    {
     "data": {
      "image/png": "[encoded data removed]",
      "text/latex": [
       "$\\displaystyle - \\Delta_{r} \\left(\\Xi + a \\left(- \\Omega + a\\right) \\sin^{2}{\\left(\\theta \\right)}\\right)^{2} + \\Delta_{\\theta} \\left(\\Xi a + \\left(- \\Omega + a\\right) \\left(\\tilde{r}^{2} + a^{2}\\right)\\right)^{2} \\sin^{2}{\\left(\\theta \\right)}$"
      ],
      "text/plain": [
       "                             2                                            2   \n",
       "     ⎛                  2   ⎞           ⎛               ⎛         2    2⎞⎞    \n",
       "- Δᵣ⋅⎝Ξ + a⋅(-Ω + a)⋅sin (θ)⎠  + Δₜₕₑₜₐ⋅⎝Ξ⋅a + (-Ω + a)⋅⎝\\tilde{r}  + a ⎠⎠ ⋅si\n",
       "\n",
       "     \n",
       " 2   \n",
       "n (θ)"
      ]
     },
     "execution_count": 38,
     "metadata": {},
     "output_type": "execute_result"
    }
   ],
   "source": [
    "g_tt_simp = -delta_r * (xi + a * (a - omega) * sympy.sin(theta) ** 2) ** 2 + delta_theta * sympy.sin(theta) ** 2 * (a * xi + (a - omega) * (r_tilde ** 2 + a ** 2)) ** 2\n",
    "g_tt_simp"
   ]
  },
  {
   "cell_type": "code",
   "execution_count": 39,
   "metadata": {},
   "outputs": [
    {
     "data": {
      "image/png": "[encoded data removed]",
      "text/latex": [
       "$\\displaystyle 0$"
      ],
      "text/plain": [
       "0"
      ]
     },
     "execution_count": 39,
     "metadata": {},
     "output_type": "execute_result"
    }
   ],
   "source": [
    "(g_tt_simp / (W * xi ** 2) - g_tt).subs({xi: 1 - a ** 2}).expand().simplify()"
   ]
  },
  {
   "attachments": {},
   "cell_type": "markdown",
   "metadata": {},
   "source": [
    "Verify in the BPS limit, $\\Omega^* = 1$."
   ]
  },
  {
   "cell_type": "code",
   "execution_count": 40,
   "metadata": {},
   "outputs": [
    {
     "data": {
      "image/png": "[encoded data removed]",
      "text/latex": [
       "$\\displaystyle \\frac{m \\left(\\cosh{\\left(4 \\delta \\right)} - 1\\right)}{2 \\cosh{\\left(2 \\delta \\right)}}$"
      ],
      "text/plain": [
       "m⋅(cosh(4⋅δ) - 1)\n",
       "─────────────────\n",
       "   2⋅cosh(2⋅δ)   "
      ]
     },
     "execution_count": 40,
     "metadata": {},
     "output_type": "execute_result"
    }
   ],
   "source": [
    "r_tilde_val = 2 * m * sympy.sinh(delta) ** 2 / sympy.cosh(2 * delta)\n",
    "r_tilde_val += 2 * m * sympy.sinh(delta) ** 2\n",
    "r_tilde_val.simplify()"
   ]
  },
  {
   "cell_type": "code",
   "execution_count": 41,
   "metadata": {},
   "outputs": [
    {
     "data": {
      "image/png": "[encoded data removed]",
      "text/latex": [
       "$\\displaystyle \\frac{e^{- \\delta} \\cosh{\\left(2 \\delta \\right)}}{\\sinh^{\\frac{5}{2}}{\\left(2 \\delta \\right)}}$"
      ],
      "text/plain": [
       " -δ          \n",
       "ℯ  ⋅cosh(2⋅δ)\n",
       "─────────────\n",
       "     5/2     \n",
       " sinh   (2⋅δ)"
      ]
     },
     "execution_count": 41,
     "metadata": {},
     "output_type": "execute_result"
    }
   ],
   "source": [
    "# m_val = sympy.cosh(2 * delta) / (sympy.exp(delta) * sympy.sinh(2 * delta) ** 4)\n",
    "m_val = sympy.cosh(2 * delta) / (sympy.exp(delta) * sympy.sinh(2 * delta) ** 2 * sympy.sqrt(sympy.sinh(2 * delta)))\n",
    "m_val"
   ]
  },
  {
   "cell_type": "code",
   "execution_count": 42,
   "metadata": {},
   "outputs": [
    {
     "data": {
      "image/png": "[encoded data removed]",
      "text/latex": [
       "$\\displaystyle \\frac{\\left(\\cosh{\\left(4 \\delta \\right)} - 1\\right) e^{- \\delta}}{2 \\sinh^{\\frac{5}{2}}{\\left(2 \\delta \\right)}}$"
      ],
      "text/plain": [
       "                 -δ\n",
       "(cosh(4⋅δ) - 1)⋅ℯ  \n",
       "───────────────────\n",
       "         5/2       \n",
       "   2⋅sinh   (2⋅δ)  "
      ]
     },
     "execution_count": 42,
     "metadata": {},
     "output_type": "execute_result"
    }
   ],
   "source": [
    "r_tilde_val = r_tilde_val.subs({m: m_val}).simplify()\n",
    "r_tilde_val"
   ]
  },
  {
   "cell_type": "code",
   "execution_count": 43,
   "metadata": {},
   "outputs": [
    {
     "data": {
      "image/png": "[encoded data removed]",
      "text/latex": [
       "$\\displaystyle \\frac{2}{e^{4 \\delta} - 1}$"
      ],
      "text/plain": [
       "   2    \n",
       "────────\n",
       " 4⋅δ    \n",
       "ℯ    - 1"
      ]
     },
     "execution_count": 43,
     "metadata": {},
     "output_type": "execute_result"
    }
   ],
   "source": [
    "a_val = 2 / (sympy.exp(4 * delta) - 1)\n",
    "a_val"
   ]
  },
  {
   "cell_type": "code",
   "execution_count": 44,
   "metadata": {},
   "outputs": [],
   "source": [
    "sinh_2_delta_val = (sympy.exp(2 * delta) - sympy.exp(-2 * delta)) / 2\n",
    "sinh_delta_val = (sympy.exp(delta) - sympy.exp(-delta)) / 2\n",
    "cosh_4_delta_val = (sympy.exp(4 * delta) + sympy.exp(-4 * delta)) / 2"
   ]
  },
  {
   "cell_type": "code",
   "execution_count": 45,
   "metadata": {},
   "outputs": [
    {
     "data": {
      "image/png": "[encoded data removed]",
      "text/latex": [
       "$\\displaystyle \\frac{a \\left(\\tilde{r}^{2} + 1\\right)}{\\tilde{r}^{2} + a^{2}}$"
      ],
      "text/plain": [
       "  ⎛         2    ⎞\n",
       "a⋅⎝\\tilde{r}  + 1⎠\n",
       "──────────────────\n",
       "          2    2  \n",
       " \\tilde{r}  + a   "
      ]
     },
     "execution_count": 45,
     "metadata": {},
     "output_type": "execute_result"
    }
   ],
   "source": [
    "omega_val"
   ]
  },
  {
   "cell_type": "code",
   "execution_count": 46,
   "metadata": {},
   "outputs": [
    {
     "data": {
      "image/png": "[encoded data removed]",
      "text/latex": [
       "$\\displaystyle 1$"
      ],
      "text/plain": [
       "1"
      ]
     },
     "execution_count": 46,
     "metadata": {},
     "output_type": "execute_result"
    }
   ],
   "source": [
    "omega_val_bps = omega_val.subs({r_tilde: r_tilde_val, a: a_val}).simplify()\n",
    "omega_val_bps = omega_val_bps.subs({sympy.cosh(4 * delta): cosh_4_delta_val, sympy.sinh(2 * delta): sinh_2_delta_val}).expand().simplify()\n",
    "omega_val_bps"
   ]
  },
  {
   "attachments": {},
   "cell_type": "markdown",
   "metadata": {},
   "source": [
    "You indeed get 1. This is what you get before the change of coordinates:"
   ]
  },
  {
   "cell_type": "code",
   "execution_count": 63,
   "metadata": {},
   "outputs": [
    {
     "data": {
      "image/png": "[encoded data removed]",
      "text/latex": [
       "$\\displaystyle \\frac{\\Xi a}{\\tilde{r}^{2} + a^{2}}$"
      ],
      "text/plain": [
       "      Ξ⋅a      \n",
       "───────────────\n",
       "         2    2\n",
       "\\tilde{r}  + a "
      ]
     },
     "execution_count": 63,
     "metadata": {},
     "output_type": "execute_result"
    }
   ],
   "source": [
    "omega_val_2 = a * xi / (r_tilde ** 2 + a ** 2)\n",
    "omega_val_2"
   ]
  },
  {
   "cell_type": "code",
   "execution_count": 64,
   "metadata": {},
   "outputs": [
    {
     "data": {
      "image/png": "[encoded data removed]",
      "text/latex": [
       "$\\displaystyle \\Xi \\tanh{\\left(2 \\delta \\right)}$"
      ],
      "text/plain": [
       "Ξ⋅tanh(2⋅δ)"
      ]
     },
     "execution_count": 64,
     "metadata": {},
     "output_type": "execute_result"
    }
   ],
   "source": [
    "omega_val_bps_2 = omega_val_2.subs({r_tilde: r_tilde_val, a: a_val}).simplify()\n",
    "omega_val_bps_2 = omega_val_bps_2.subs({sympy.cosh(4 * delta): cosh_4_delta_val, sympy.sinh(2 * delta): sinh_2_delta_val}).expand().simplify()\n",
    "omega_val_bps_2"
   ]
  },
  {
   "attachments": {},
   "cell_type": "markdown",
   "metadata": {},
   "source": [
    "Try to solve for $m$ directly."
   ]
  },
  {
   "cell_type": "code",
   "execution_count": 49,
   "metadata": {},
   "outputs": [
    {
     "data": {
      "image/png": "[encoded data removed]",
      "text/latex": [
       "$\\displaystyle \\frac{2 m \\sinh^{2}{\\left(\\delta \\right)}}{\\cosh{\\left(2 \\delta \\right)}}$"
      ],
      "text/plain": [
       "        2   \n",
       "2⋅m⋅sinh (δ)\n",
       "────────────\n",
       " cosh(2⋅δ)  "
      ]
     },
     "execution_count": 49,
     "metadata": {},
     "output_type": "execute_result"
    }
   ],
   "source": [
    "r_val = 2 * m * sympy.sinh(delta) ** 2 / sympy.cosh(2 * delta)\n",
    "r_val"
   ]
  },
  {
   "cell_type": "code",
   "execution_count": 50,
   "metadata": {},
   "outputs": [
    {
     "data": {
      "image/png": "[encoded data removed]",
      "text/latex": [
       "$\\displaystyle 4 m^{2} \\sinh^{4}{\\left(\\delta \\right)} + \\frac{4 m^{2} \\sinh^{4}{\\left(\\delta \\right)}}{\\cosh{\\left(2 \\delta \\right)}} + \\frac{4 m^{2} \\sinh^{4}{\\left(\\delta \\right)}}{\\cosh^{2}{\\left(2 \\delta \\right)}} + \\coth{\\left(2 \\delta \\right)} - 1$"
      ],
      "text/plain": [
       "                   2     4         2     4                   \n",
       "   2     4      4⋅m ⋅sinh (δ)   4⋅m ⋅sinh (δ)                \n",
       "4⋅m ⋅sinh (δ) + ───────────── + ───────────── + coth(2⋅δ) - 1\n",
       "                  cosh(2⋅δ)           2                      \n",
       "                                  cosh (2⋅δ)                 "
      ]
     },
     "execution_count": 50,
     "metadata": {},
     "output_type": "execute_result"
    }
   ],
   "source": [
    "X = r ** 2 + 2 * m * sympy.sinh(delta) ** 2 * r + 4 * m ** 2 * sympy.sinh(delta) ** 4 + sympy.coth(2 * delta) - 1\n",
    "X = X.subs({r: r_val}).simplify()\n",
    "X"
   ]
  },
  {
   "cell_type": "code",
   "execution_count": 51,
   "metadata": {},
   "outputs": [
    {
     "data": {
      "image/png": "[encoded data removed]",
      "text/latex": [
       "$\\displaystyle \\left[ - \\frac{\\left(\\coth{\\left(2 \\delta \\right)} - 1\\right) \\cosh^{2}{\\left(2 \\delta \\right)}}{4 \\left(\\cosh^{2}{\\left(2 \\delta \\right)} + \\cosh{\\left(2 \\delta \\right)} + 1\\right) \\sinh^{4}{\\left(\\delta \\right)}}\\right]$"
      ],
      "text/plain": [
       "⎡                           2           ⎤\n",
       "⎢      -(coth(2⋅δ) - 1)⋅cosh (2⋅δ)      ⎥\n",
       "⎢───────────────────────────────────────⎥\n",
       "⎢  ⎛    2                     ⎞     4   ⎥\n",
       "⎣4⋅⎝cosh (2⋅δ) + cosh(2⋅δ) + 1⎠⋅sinh (δ)⎦"
      ]
     },
     "execution_count": 51,
     "metadata": {},
     "output_type": "execute_result"
    }
   ],
   "source": [
    "sols_m = sympy.solve(X, m ** 2)\n",
    "sols_m"
   ]
  },
  {
   "cell_type": "code",
   "execution_count": 52,
   "metadata": {},
   "outputs": [
    {
     "data": {
      "image/png": "[encoded data removed]",
      "text/latex": [
       "$\\displaystyle -89.2916150296133$"
      ],
      "text/plain": [
       "-89.2916150296133"
      ]
     },
     "execution_count": 52,
     "metadata": {},
     "output_type": "execute_result"
    }
   ],
   "source": [
    "sols_m[0].subs({delta: 0.2}).evalf()"
   ]
  },
  {
   "cell_type": "code",
   "execution_count": 53,
   "metadata": {},
   "outputs": [
    {
     "data": {
      "image/png": "[encoded data removed]",
      "text/latex": [
       "$\\displaystyle 0.000949946371973782$"
      ],
      "text/plain": [
       "0.000949946371973782"
      ]
     },
     "execution_count": 53,
     "metadata": {},
     "output_type": "execute_result"
    }
   ],
   "source": [
    "m_val.subs({delta: 2}).evalf()"
   ]
  },
  {
   "cell_type": "code",
   "execution_count": 54,
   "metadata": {},
   "outputs": [
    {
     "data": {
      "image/png": "[encoded data removed]",
      "text/latex": [
       "$\\displaystyle \\frac{e^{- \\delta} \\cosh{\\left(2 \\delta \\right)}}{\\sinh^{4}{\\left(2 \\delta \\right)}}$"
      ],
      "text/plain": [
       " -δ          \n",
       "ℯ  ⋅cosh(2⋅δ)\n",
       "─────────────\n",
       "      4      \n",
       "  sinh (2⋅δ) "
      ]
     },
     "execution_count": 54,
     "metadata": {},
     "output_type": "execute_result"
    }
   ],
   "source": [
    "m_val_2 = sympy.cosh(2 * delta) / (sympy.exp(delta) * sympy.sinh(2 * delta) ** 4)\n",
    "m_val_2"
   ]
  },
  {
   "cell_type": "code",
   "execution_count": 55,
   "metadata": {},
   "outputs": [
    {
     "data": {
      "image/png": "[encoded data removed]",
      "text/latex": [
       "$\\displaystyle 6.6633981132763 \\cdot 10^{-6}$"
      ],
      "text/plain": [
       "6.66339811327630e-6"
      ]
     },
     "execution_count": 55,
     "metadata": {},
     "output_type": "execute_result"
    }
   ],
   "source": [
    "m_val_2.subs({delta: 2}).evalf()"
   ]
  },
  {
   "attachments": {},
   "cell_type": "markdown",
   "metadata": {},
   "source": [
    "Try to compute angular velocity directly."
   ]
  },
  {
   "cell_type": "code",
   "execution_count": 56,
   "metadata": {},
   "outputs": [],
   "source": [
    "g_tt = sch[0, 0]\n",
    "g_tphi = sch[0, 3]\n",
    "g_phiphi = sch[3, 3]"
   ]
  },
  {
   "cell_type": "code",
   "execution_count": 57,
   "metadata": {},
   "outputs": [
    {
     "data": {
      "image/png": "[encoded data removed]",
      "text/latex": [
       "$\\displaystyle \\frac{\\Delta_{r} \\Delta_{\\theta} \\Xi^{2} \\left(\\tilde{r}^{2} + a^{2} \\cos^{2}{\\left(\\theta \\right)}\\right)^{2}}{\\left(- \\Delta_{r} a^{2} \\sin^{2}{\\left(\\theta \\right)} + \\Delta_{\\theta} \\tilde{r}^{4} + 2 \\Delta_{\\theta} \\tilde{r}^{2} a^{2} + \\Delta_{\\theta} a^{4}\\right)^{2} \\sin^{2}{\\left(\\theta \\right)}}$"
      ],
      "text/plain": [
       "                                                            2                 \n",
       "                                 2 ⎛         2    2    2   ⎞                  \n",
       "                      Δᵣ⋅Δₜₕₑₜₐ⋅Ξ ⋅⎝\\tilde{r}  + a ⋅cos (θ)⎠                  \n",
       "──────────────────────────────────────────────────────────────────────────────\n",
       "                                                                          2   \n",
       "⎛      2    2                      4                     2  2           4⎞    \n",
       "⎝- Δᵣ⋅a ⋅sin (θ) + Δₜₕₑₜₐ⋅\\tilde{r}  + 2⋅Δₜₕₑₜₐ⋅\\tilde{r} ⋅a  + Δₜₕₑₜₐ⋅a ⎠ ⋅si\n",
       "\n",
       "     \n",
       "     \n",
       "     \n",
       "─────\n",
       "     \n",
       " 2   \n",
       "n (θ)"
      ]
     },
     "execution_count": 57,
     "metadata": {},
     "output_type": "execute_result"
    }
   ],
   "source": [
    "part1 = ((g_tphi / g_phiphi) ** 2 - g_tt / g_phiphi).simplify()\n",
    "part1"
   ]
  },
  {
   "cell_type": "code",
   "execution_count": 58,
   "metadata": {},
   "outputs": [
    {
     "data": {
      "image/png": "[encoded data removed]",
      "text/latex": [
       "$\\displaystyle \\frac{\\Xi \\sqrt{\\Delta_{r} \\Delta_{\\theta}} \\left(\\tilde{r}^{2} + a^{2} \\cos^{2}{\\left(\\theta \\right)}\\right)}{\\left(- \\Delta_{r} a^{2} \\sin^{2}{\\left(\\theta \\right)} + \\Delta_{\\theta} \\tilde{r}^{4} + 2 \\Delta_{\\theta} \\tilde{r}^{2} a^{2} + \\Delta_{\\theta} a^{4}\\right) \\sin{\\left(\\theta \\right)}}$"
      ],
      "text/plain": [
       "                        ___________ ⎛         2    2    2   ⎞                 \n",
       "                    Ξ⋅╲╱ Δᵣ⋅Δₜₕₑₜₐ ⋅⎝\\tilde{r}  + a ⋅cos (θ)⎠                 \n",
       "──────────────────────────────────────────────────────────────────────────────\n",
       "⎛      2    2                      4                     2  2           4⎞    \n",
       "⎝- Δᵣ⋅a ⋅sin (θ) + Δₜₕₑₜₐ⋅\\tilde{r}  + 2⋅Δₜₕₑₜₐ⋅\\tilde{r} ⋅a  + Δₜₕₑₜₐ⋅a ⎠⋅sin\n",
       "\n",
       "   \n",
       "   \n",
       "───\n",
       "   \n",
       "(θ)"
      ]
     },
     "execution_count": 58,
     "metadata": {},
     "output_type": "execute_result"
    }
   ],
   "source": [
    "part1_sqrt = xi * sympy.sqrt(delta_r * delta_theta) * (r_tilde ** 2 + a ** 2 * sympy.cos(theta) ** 2)\n",
    "part1_sqrt /= sympy.sin(theta) * (-delta_r * a ** 2 * sympy.sin(theta) ** 2 + delta_theta * r_tilde ** 4 + 2 * delta_theta * r_tilde ** 2 * a ** 2 + delta_theta * a ** 4)\n",
    "part1_sqrt"
   ]
  },
  {
   "cell_type": "code",
   "execution_count": 59,
   "metadata": {},
   "outputs": [
    {
     "data": {
      "image/png": "[encoded data removed]",
      "text/latex": [
       "$\\displaystyle \\frac{a \\left(- \\Delta_{r} a^{2} \\sin^{2}{\\left(\\theta \\right)} + \\Delta_{\\theta} \\tilde{r}^{4} + 2 \\Delta_{\\theta} \\tilde{r}^{2} a^{2} + \\Delta_{\\theta} a^{4} + \\Xi \\left(- \\Delta_{r} + \\Delta_{\\theta} \\tilde{r}^{2} + \\Delta_{\\theta} a^{2}\\right)\\right)}{- \\Delta_{r} a^{2} \\sin^{2}{\\left(\\theta \\right)} + \\Delta_{\\theta} \\tilde{r}^{4} + 2 \\Delta_{\\theta} \\tilde{r}^{2} a^{2} + \\Delta_{\\theta} a^{4}}$"
      ],
      "text/plain": [
       "  ⎛      2    2                      4                     2  2           4   \n",
       "a⋅⎝- Δᵣ⋅a ⋅sin (θ) + Δₜₕₑₜₐ⋅\\tilde{r}  + 2⋅Δₜₕₑₜₐ⋅\\tilde{r} ⋅a  + Δₜₕₑₜₐ⋅a  + \n",
       "──────────────────────────────────────────────────────────────────────────────\n",
       "                             2    2                      4                    \n",
       "                       - Δᵣ⋅a ⋅sin (θ) + Δₜₕₑₜₐ⋅\\tilde{r}  + 2⋅Δₜₕₑₜₐ⋅\\tilde{r\n",
       "\n",
       "  ⎛                      2           2⎞⎞\n",
       "Ξ⋅⎝-Δᵣ + Δₜₕₑₜₐ⋅\\tilde{r}  + Δₜₕₑₜₐ⋅a ⎠⎠\n",
       "────────────────────────────────────────\n",
       " 2  2           4                       \n",
       "} ⋅a  + Δₜₕₑₜₐ⋅a                        "
      ]
     },
     "execution_count": 59,
     "metadata": {},
     "output_type": "execute_result"
    }
   ],
   "source": [
    "part2 = (-g_tphi / g_phiphi).simplify()\n",
    "part2"
   ]
  },
  {
   "cell_type": "code",
   "execution_count": 60,
   "metadata": {},
   "outputs": [
    {
     "data": {
      "image/png": "[encoded data removed]",
      "text/latex": [
       "$\\displaystyle \\frac{\\Xi \\sqrt{\\Delta_{r} \\Delta_{\\theta}} \\left(\\tilde{r}^{2} + a^{2} \\cos^{2}{\\left(\\theta \\right)}\\right) + a \\left(- \\Delta_{r} a^{2} \\sin^{2}{\\left(\\theta \\right)} + \\Delta_{\\theta} \\tilde{r}^{4} + 2 \\Delta_{\\theta} \\tilde{r}^{2} a^{2} + \\Delta_{\\theta} a^{4} + \\Xi \\left(- \\Delta_{r} + \\Delta_{\\theta} \\tilde{r}^{2} + \\Delta_{\\theta} a^{2}\\right)\\right) \\sin{\\left(\\theta \\right)}}{\\left(- \\Delta_{r} a^{2} \\sin^{2}{\\left(\\theta \\right)} + \\Delta_{\\theta} \\tilde{r}^{4} + 2 \\Delta_{\\theta} \\tilde{r}^{2} a^{2} + \\Delta_{\\theta} a^{4}\\right) \\sin{\\left(\\theta \\right)}}$"
      ],
      "text/plain": [
       "    ___________ ⎛         2    2    2   ⎞     ⎛      2    2                   \n",
       "Ξ⋅╲╱ Δᵣ⋅Δₜₕₑₜₐ ⋅⎝\\tilde{r}  + a ⋅cos (θ)⎠ + a⋅⎝- Δᵣ⋅a ⋅sin (θ) + Δₜₕₑₜₐ⋅\\tilde\n",
       "──────────────────────────────────────────────────────────────────────────────\n",
       "                                            ⎛      2    2                     \n",
       "                                            ⎝- Δᵣ⋅a ⋅sin (θ) + Δₜₕₑₜₐ⋅\\tilde{r\n",
       "\n",
       "   4                     2  2           4     ⎛                      2        \n",
       "{r}  + 2⋅Δₜₕₑₜₐ⋅\\tilde{r} ⋅a  + Δₜₕₑₜₐ⋅a  + Ξ⋅⎝-Δᵣ + Δₜₕₑₜₐ⋅\\tilde{r}  + Δₜₕₑₜ\n",
       "──────────────────────────────────────────────────────────────────────────────\n",
       " 4                     2  2           4⎞                                      \n",
       "}  + 2⋅Δₜₕₑₜₐ⋅\\tilde{r} ⋅a  + Δₜₕₑₜₐ⋅a ⎠⋅sin(θ)                               \n",
       "\n",
       "   2⎞⎞       \n",
       "ₐ⋅a ⎠⎠⋅sin(θ)\n",
       "─────────────\n",
       "             \n",
       "             "
      ]
     },
     "execution_count": 60,
     "metadata": {},
     "output_type": "execute_result"
    }
   ],
   "source": [
    "(part2 + part1_sqrt).simplify()"
   ]
  },
  {
   "cell_type": "code",
   "execution_count": 61,
   "metadata": {},
   "outputs": [
    {
     "data": {
      "image/png": "[encoded data removed]",
      "text/latex": [
       "$\\displaystyle \\left[ \\frac{\\Xi \\left(a \\left(- \\Delta_{r} + \\Delta_{\\theta} \\tilde{r}^{2} + \\Delta_{\\theta} a^{2}\\right) \\sin{\\left(\\theta \\right)} - \\sqrt{\\Delta_{r} \\Delta_{\\theta}} \\left(\\tilde{r}^{2} + a^{2} \\cos^{2}{\\left(\\theta \\right)}\\right)\\right)}{\\left(- \\Delta_{r} a^{2} \\sin^{2}{\\left(\\theta \\right)} + \\Delta_{\\theta} \\tilde{r}^{4} + 2 \\Delta_{\\theta} \\tilde{r}^{2} a^{2} + \\Delta_{\\theta} a^{4}\\right) \\sin{\\left(\\theta \\right)}}, \\  \\frac{\\Xi \\left(a \\left(- \\Delta_{r} + \\Delta_{\\theta} \\tilde{r}^{2} + \\Delta_{\\theta} a^{2}\\right) \\sin{\\left(\\theta \\right)} + \\sqrt{\\Delta_{r} \\Delta_{\\theta}} \\left(\\tilde{r}^{2} + a^{2} \\cos^{2}{\\left(\\theta \\right)}\\right)\\right)}{\\left(- \\Delta_{r} a^{2} \\sin^{2}{\\left(\\theta \\right)} + \\Delta_{\\theta} \\tilde{r}^{4} + 2 \\Delta_{\\theta} \\tilde{r}^{2} a^{2} + \\Delta_{\\theta} a^{4}\\right) \\sin{\\left(\\theta \\right)}}\\right]$"
      ],
      "text/plain": [
       "⎡  ⎛  ⎛                      2           2⎞            ___________ ⎛         2\n",
       "⎢Ξ⋅⎝a⋅⎝-Δᵣ + Δₜₕₑₜₐ⋅\\tilde{r}  + Δₜₕₑₜₐ⋅a ⎠⋅sin(θ) - ╲╱ Δᵣ⋅Δₜₕₑₜₐ ⋅⎝\\tilde{r} \n",
       "⎢─────────────────────────────────────────────────────────────────────────────\n",
       "⎢     ⎛      2    2                      4                     2  2           \n",
       "⎣     ⎝- Δᵣ⋅a ⋅sin (θ) + Δₜₕₑₜₐ⋅\\tilde{r}  + 2⋅Δₜₕₑₜₐ⋅\\tilde{r} ⋅a  + Δₜₕₑₜₐ⋅a\n",
       "\n",
       "    2    2   ⎞⎞    ⎛  ⎛                      2           2⎞            _______\n",
       " + a ⋅cos (θ)⎠⎠  Ξ⋅⎝a⋅⎝-Δᵣ + Δₜₕₑₜₐ⋅\\tilde{r}  + Δₜₕₑₜₐ⋅a ⎠⋅sin(θ) + ╲╱ Δᵣ⋅Δₜₕ\n",
       "───────────────, ─────────────────────────────────────────────────────────────\n",
       "4⎞                    ⎛      2    2                      4                    \n",
       " ⎠⋅sin(θ)             ⎝- Δᵣ⋅a ⋅sin (θ) + Δₜₕₑₜₐ⋅\\tilde{r}  + 2⋅Δₜₕₑₜₐ⋅\\tilde{r\n",
       "\n",
       "____ ⎛         2    2    2   ⎞⎞⎤\n",
       "ₑₜₐ ⋅⎝\\tilde{r}  + a ⋅cos (θ)⎠⎠⎥\n",
       "───────────────────────────────⎥\n",
       " 2  2           4⎞             ⎥\n",
       "} ⋅a  + Δₜₕₑₜₐ⋅a ⎠⋅sin(θ)      ⎦"
      ]
     },
     "execution_count": 61,
     "metadata": {},
     "output_type": "execute_result"
    }
   ],
   "source": [
    "sols"
   ]
  },
  {
   "cell_type": "code",
   "execution_count": 62,
   "metadata": {},
   "outputs": [
    {
     "data": {
      "image/png": "[encoded data removed]",
      "text/latex": [
       "$\\displaystyle \\frac{\\Xi a}{\\tilde{r}^{2} + a^{2}}$"
      ],
      "text/plain": [
       "      Ξ⋅a      \n",
       "───────────────\n",
       "         2    2\n",
       "\\tilde{r}  + a "
      ]
     },
     "execution_count": 62,
     "metadata": {},
     "output_type": "execute_result"
    }
   ],
   "source": [
    "sols[0].subs({delta_r: 0}).simplify()"
   ]
  },
  {
   "attachments": {},
   "cell_type": "markdown",
   "metadata": {},
   "source": [
    "These produce the same results."
   ]
  }
 ],
 "metadata": {
  "kernelspec": {
   "display_name": "env",
   "language": "python",
   "name": "python3"
  },
  "language_info": {
   "codemirror_mode": {
    "name": "ipython",
    "version": 3
   },
   "file_extension": ".py",
   "mimetype": "text/x-python",
   "name": "python",
   "nbconvert_exporter": "python",
   "pygments_lexer": "ipython3",
   "version": "3.10.3"
  },
  "orig_nbformat": 4
 },
 "nbformat": 4,
 "nbformat_minor": 2
}
