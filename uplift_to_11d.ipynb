{
 "cells": [
  {
   "cell_type": "code",
   "execution_count": 1,
   "metadata": {},
   "outputs": [],
   "source": [
    "import sympy"
   ]
  },
  {
   "cell_type": "code",
   "execution_count": 2,
   "metadata": {},
   "outputs": [],
   "source": [
    "# coordinates\n",
    "r_tilde, theta, psi = sympy.symbols(\"\\\\tilde{r} theta psi\", real=True)\n",
    "\n",
    "# differentials\n",
    "dt, dr_tilde, dphi, dphi_tilde, dtau, dtheta, dpsi = sympy.symbols(r\"dt d\\tilde{r} d\\phi d\\tilde{\\phi} d\\tau, d\\theta, d\\psi\")\n",
    "\n",
    "# functions of coordinates\n",
    "delta_r = sympy.symbols(\"Delta_r\")\n",
    "delta_theta, W = sympy.symbols(\"Delta_theta W\", real=True)\n",
    "\n",
    "# parameters\n",
    "a, m, delta, xi, omega, r_tilde_plus = sympy.symbols(\"a m delta Xi Omega \\\\tilde{r}_+\", real=True)"
   ]
  },
  {
   "cell_type": "code",
   "execution_count": 3,
   "metadata": {},
   "outputs": [
    {
     "data": {
      "text/latex": [
       "$\\displaystyle \\frac{\\sqrt{2} \\tilde{r} m \\left(dt - \\frac{a d\\phi \\sin^{2}{\\left(\\theta \\right)}}{\\Xi}\\right) \\sinh{\\left(2 \\delta \\right)}}{W}$"
      ],
      "text/plain": [
       "sqrt(2)*\\tilde{r}*m*(dt - a*d\\phi*sin(theta)**2/Xi)*sinh(2*delta)/W"
      ]
     },
     "execution_count": 3,
     "metadata": {},
     "output_type": "execute_result"
    }
   ],
   "source": [
    "# gauge field\n",
    "A = sympy.sqrt(2) * m * sympy.sinh(2 * delta) * r_tilde / W * (dt - a * sympy.sin(theta) ** 2 / xi * dphi)\n",
    "A"
   ]
  },
  {
   "cell_type": "code",
   "execution_count": 4,
   "metadata": {},
   "outputs": [],
   "source": [
    "metric = -delta_r / W * (dt - a * sympy.sin(theta) ** 2 * dphi / xi) ** 2\n",
    "metric += delta_theta * sympy.sin(theta) ** 2 / W * (a * dt - (r_tilde ** 2 + a ** 2) * dphi / xi) ** 2\n",
    "metric += W * dr_tilde ** 2 / delta_r\n",
    "metric += W * dtheta ** 2 / delta_theta\n",
    "metric += (dpsi + A / 2) ** 2"
   ]
  },
  {
   "cell_type": "code",
   "execution_count": 5,
   "metadata": {},
   "outputs": [
    {
     "data": {
      "text/latex": [
       "$\\displaystyle - \\frac{\\Delta_{r} \\left(dt - \\frac{a d\\phi \\sin^{2}{\\left(\\theta \\right)}}{\\Xi}\\right)^{2}}{W} + \\frac{\\Delta_{\\theta} \\left(a dt - \\frac{d\\phi \\left(\\tilde{r}^{2} + a^{2}\\right)}{\\Xi}\\right)^{2} \\sin^{2}{\\left(\\theta \\right)}}{W} + \\left(d\\psi + \\frac{\\sqrt{2} \\tilde{r} m \\left(dt - \\frac{a d\\phi \\sin^{2}{\\left(\\theta \\right)}}{\\Xi}\\right) \\sinh{\\left(2 \\delta \\right)}}{2 W}\\right)^{2} + \\frac{W d\\theta^{2}}{\\Delta_{\\theta}} + \\frac{W d\\tilde{r}^{2}}{\\Delta_{r}}$"
      ],
      "text/plain": [
       "-Delta_r*(dt - a*d\\phi*sin(theta)**2/Xi)**2/W + Delta_theta*(a*dt - d\\phi*(\\tilde{r}**2 + a**2)/Xi)**2*sin(theta)**2/W + (d\\psi + sqrt(2)*\\tilde{r}*m*(dt - a*d\\phi*sin(theta)**2/Xi)*sinh(2*delta)/(2*W))**2 + W*d\\theta**2/Delta_theta + W*d\\tilde{r}**2/Delta_r"
      ]
     },
     "execution_count": 5,
     "metadata": {},
     "output_type": "execute_result"
    }
   ],
   "source": [
    "metric"
   ]
  },
  {
   "cell_type": "code",
   "execution_count": 6,
   "metadata": {},
   "outputs": [],
   "source": [
    "# omega shift\n",
    "dphi_val = dphi_tilde + omega * dt\n",
    "metric = metric.subs({dphi: dphi_val}).expand().collect(\n",
    "    [dt ** 2, dt * dphi_tilde, dphi_tilde ** 2]\n",
    ")"
   ]
  },
  {
   "cell_type": "code",
   "execution_count": 7,
   "metadata": {},
   "outputs": [],
   "source": [
    "# Wick rotate\n",
    "dt_val = sympy.I * dtau\n",
    "metric = metric.subs({dt: dt_val}).expand().collect([dtau ** 2, dtau * dphi_tilde, dphi_tilde ** 2])"
   ]
  },
  {
   "cell_type": "code",
   "execution_count": 8,
   "metadata": {},
   "outputs": [
    {
     "data": {
      "text/latex": [
       "$\\displaystyle - \\frac{\\sqrt{2} i \\Omega \\tilde{r} a d\\psi d\\tau m \\sin^{2}{\\left(\\theta \\right)} \\sinh{\\left(2 \\delta \\right)}}{W \\Xi} + d\\psi^{2} + d\\tau^{2} \\left(\\frac{\\Delta_{r} \\Omega^{2} a^{2} \\sin^{4}{\\left(\\theta \\right)}}{W \\Xi^{2}} - \\frac{2 \\Delta_{r} \\Omega a \\sin^{2}{\\left(\\theta \\right)}}{W \\Xi} + \\frac{\\Delta_{r}}{W} - \\frac{\\Delta_{\\theta} \\Omega^{2} \\tilde{r}^{4} \\sin^{2}{\\left(\\theta \\right)}}{W \\Xi^{2}} - \\frac{2 \\Delta_{\\theta} \\Omega^{2} \\tilde{r}^{2} a^{2} \\sin^{2}{\\left(\\theta \\right)}}{W \\Xi^{2}} - \\frac{\\Delta_{\\theta} \\Omega^{2} a^{4} \\sin^{2}{\\left(\\theta \\right)}}{W \\Xi^{2}} + \\frac{2 \\Delta_{\\theta} \\Omega \\tilde{r}^{2} a \\sin^{2}{\\left(\\theta \\right)}}{W \\Xi} + \\frac{2 \\Delta_{\\theta} \\Omega a^{3} \\sin^{2}{\\left(\\theta \\right)}}{W \\Xi} - \\frac{\\Delta_{\\theta} a^{2} \\sin^{2}{\\left(\\theta \\right)}}{W} - \\frac{\\Omega^{2} \\tilde{r}^{2} a^{2} m^{2} \\sin^{4}{\\left(\\theta \\right)} \\sinh^{2}{\\left(2 \\delta \\right)}}{2 W^{2} \\Xi^{2}} + \\frac{\\Omega \\tilde{r}^{2} a m^{2} \\sin^{2}{\\left(\\theta \\right)} \\sinh^{2}{\\left(2 \\delta \\right)}}{W^{2} \\Xi} - \\frac{\\tilde{r}^{2} m^{2} \\sinh^{2}{\\left(2 \\delta \\right)}}{2 W^{2}}\\right) + d\\tau d\\tilde{\\phi} \\left(- \\frac{2 i \\Delta_{r} \\Omega a^{2} \\sin^{4}{\\left(\\theta \\right)}}{W \\Xi^{2}} + \\frac{2 i \\Delta_{r} a \\sin^{2}{\\left(\\theta \\right)}}{W \\Xi} + \\frac{2 i \\Delta_{\\theta} \\Omega \\tilde{r}^{4} \\sin^{2}{\\left(\\theta \\right)}}{W \\Xi^{2}} + \\frac{4 i \\Delta_{\\theta} \\Omega \\tilde{r}^{2} a^{2} \\sin^{2}{\\left(\\theta \\right)}}{W \\Xi^{2}} + \\frac{2 i \\Delta_{\\theta} \\Omega a^{4} \\sin^{2}{\\left(\\theta \\right)}}{W \\Xi^{2}} - \\frac{2 i \\Delta_{\\theta} \\tilde{r}^{2} a \\sin^{2}{\\left(\\theta \\right)}}{W \\Xi} - \\frac{2 i \\Delta_{\\theta} a^{3} \\sin^{2}{\\left(\\theta \\right)}}{W \\Xi} + \\frac{i \\Omega \\tilde{r}^{2} a^{2} m^{2} \\sin^{4}{\\left(\\theta \\right)} \\sinh^{2}{\\left(2 \\delta \\right)}}{W^{2} \\Xi^{2}} - \\frac{i \\tilde{r}^{2} a m^{2} \\sin^{2}{\\left(\\theta \\right)} \\sinh^{2}{\\left(2 \\delta \\right)}}{W^{2} \\Xi}\\right) + d\\tilde{\\phi}^{2} \\left(- \\frac{\\Delta_{r} a^{2} \\sin^{4}{\\left(\\theta \\right)}}{W \\Xi^{2}} + \\frac{\\Delta_{\\theta} \\tilde{r}^{4} \\sin^{2}{\\left(\\theta \\right)}}{W \\Xi^{2}} + \\frac{2 \\Delta_{\\theta} \\tilde{r}^{2} a^{2} \\sin^{2}{\\left(\\theta \\right)}}{W \\Xi^{2}} + \\frac{\\Delta_{\\theta} a^{4} \\sin^{2}{\\left(\\theta \\right)}}{W \\Xi^{2}} + \\frac{\\tilde{r}^{2} a^{2} m^{2} \\sin^{4}{\\left(\\theta \\right)} \\sinh^{2}{\\left(2 \\delta \\right)}}{2 W^{2} \\Xi^{2}}\\right) + \\frac{\\sqrt{2} i \\tilde{r} d\\psi d\\tau m \\sinh{\\left(2 \\delta \\right)}}{W} - \\frac{\\sqrt{2} \\tilde{r} a d\\psi d\\tilde{\\phi} m \\sin^{2}{\\left(\\theta \\right)} \\sinh{\\left(2 \\delta \\right)}}{W \\Xi} + \\frac{W d\\theta^{2}}{\\Delta_{\\theta}} + \\frac{W d\\tilde{r}^{2}}{\\Delta_{r}}$"
      ],
      "text/plain": [
       "-sqrt(2)*I*Omega*\\tilde{r}*a*d\\psi*d\\tau*m*sin(theta)**2*sinh(2*delta)/(W*Xi) + d\\psi**2 + d\\tau**2*(Delta_r*Omega**2*a**2*sin(theta)**4/(W*Xi**2) - 2*Delta_r*Omega*a*sin(theta)**2/(W*Xi) + Delta_r/W - Delta_theta*Omega**2*\\tilde{r}**4*sin(theta)**2/(W*Xi**2) - 2*Delta_theta*Omega**2*\\tilde{r}**2*a**2*sin(theta)**2/(W*Xi**2) - Delta_theta*Omega**2*a**4*sin(theta)**2/(W*Xi**2) + 2*Delta_theta*Omega*\\tilde{r}**2*a*sin(theta)**2/(W*Xi) + 2*Delta_theta*Omega*a**3*sin(theta)**2/(W*Xi) - Delta_theta*a**2*sin(theta)**2/W - Omega**2*\\tilde{r}**2*a**2*m**2*sin(theta)**4*sinh(2*delta)**2/(2*W**2*Xi**2) + Omega*\\tilde{r}**2*a*m**2*sin(theta)**2*sinh(2*delta)**2/(W**2*Xi) - \\tilde{r}**2*m**2*sinh(2*delta)**2/(2*W**2)) + d\\tau*d\\tilde{\\phi}*(-2*I*Delta_r*Omega*a**2*sin(theta)**4/(W*Xi**2) + 2*I*Delta_r*a*sin(theta)**2/(W*Xi) + 2*I*Delta_theta*Omega*\\tilde{r}**4*sin(theta)**2/(W*Xi**2) + 4*I*Delta_theta*Omega*\\tilde{r}**2*a**2*sin(theta)**2/(W*Xi**2) + 2*I*Delta_theta*Omega*a**4*sin(theta)**2/(W*Xi**2) - 2*I*Delta_theta*\\tilde{r}**2*a*sin(theta)**2/(W*Xi) - 2*I*Delta_theta*a**3*sin(theta)**2/(W*Xi) + I*Omega*\\tilde{r}**2*a**2*m**2*sin(theta)**4*sinh(2*delta)**2/(W**2*Xi**2) - I*\\tilde{r}**2*a*m**2*sin(theta)**2*sinh(2*delta)**2/(W**2*Xi)) + d\\tilde{\\phi}**2*(-Delta_r*a**2*sin(theta)**4/(W*Xi**2) + Delta_theta*\\tilde{r}**4*sin(theta)**2/(W*Xi**2) + 2*Delta_theta*\\tilde{r}**2*a**2*sin(theta)**2/(W*Xi**2) + Delta_theta*a**4*sin(theta)**2/(W*Xi**2) + \\tilde{r}**2*a**2*m**2*sin(theta)**4*sinh(2*delta)**2/(2*W**2*Xi**2)) + sqrt(2)*I*\\tilde{r}*d\\psi*d\\tau*m*sinh(2*delta)/W - sqrt(2)*\\tilde{r}*a*d\\psi*d\\tilde{\\phi}*m*sin(theta)**2*sinh(2*delta)/(W*Xi) + W*d\\theta**2/Delta_theta + W*d\\tilde{r}**2/Delta_r"
      ]
     },
     "execution_count": 8,
     "metadata": {},
     "output_type": "execute_result"
    }
   ],
   "source": [
    "metric"
   ]
  },
  {
   "cell_type": "code",
   "execution_count": 9,
   "metadata": {},
   "outputs": [],
   "source": [
    "metric_matrix = [[0 for _ in range(5)] for _ in range(5)]\n",
    "\n",
    "# tau\n",
    "metric_matrix[0][0] = metric.coeff(dtau ** 2)\n",
    "metric_matrix[0][1] = metric.coeff(dtau * dphi_tilde) / 2\n",
    "metric_matrix[0][2] = metric.coeff(dtau * dr_tilde) / 2\n",
    "metric_matrix[0][3] = metric.coeff(dtau * dtheta) / 2\n",
    "metric_matrix[0][4] = metric.coeff(dtau * dpsi) / 2\n",
    "\n",
    "# phi_tilde\n",
    "metric_matrix[1][0] = metric.coeff(dphi_tilde * dtau) / 2\n",
    "metric_matrix[1][1] = metric.coeff(dphi_tilde ** 2)\n",
    "metric_matrix[1][2] = metric.coeff(dphi_tilde * dr_tilde) / 2\n",
    "metric_matrix[1][3] = metric.coeff(dphi_tilde * dtheta) / 2\n",
    "metric_matrix[1][4] = metric.coeff(dphi_tilde * dpsi) / 2\n",
    "\n",
    "# r_tilde\n",
    "metric_matrix[2][0] = metric.coeff(dr_tilde * dtau) / 2\n",
    "metric_matrix[2][1] = metric.coeff(dr_tilde * dphi_tilde) / 2\n",
    "metric_matrix[2][2] = metric.coeff(dr_tilde ** 2)\n",
    "metric_matrix[2][3] = metric.coeff(dr_tilde * dtheta) / 2\n",
    "metric_matrix[2][4] = metric.coeff(dr_tilde * dpsi) / 2\n",
    "\n",
    "# theta\n",
    "metric_matrix[3][0] = metric.coeff(dtheta * dtau) / 2\n",
    "metric_matrix[3][1] = metric.coeff(dtheta * dphi_tilde) / 2\n",
    "metric_matrix[3][2] = metric.coeff(dtheta ** dr_tilde) / 2\n",
    "metric_matrix[3][3] = metric.coeff(dtheta ** 2)\n",
    "metric_matrix[3][4] = metric.coeff(dtheta * dpsi) / 2\n",
    "\n",
    "# psi\n",
    "metric_matrix[4][0] = metric.coeff(dpsi * dtau) / 2\n",
    "metric_matrix[4][1] = metric.coeff(dpsi * dphi_tilde) / 2\n",
    "metric_matrix[4][2] = metric.coeff(dpsi ** dr_tilde) / 2\n",
    "metric_matrix[4][3] = metric.coeff(dpsi ** dtheta) / 2\n",
    "metric_matrix[4][4] = metric.coeff(dpsi ** 2)\n",
    "\n",
    "g_mat = sympy.Matrix(metric_matrix)\n",
    "g_mat.simplify()"
   ]
  },
  {
   "cell_type": "code",
   "execution_count": 10,
   "metadata": {},
   "outputs": [
    {
     "data": {
      "text/latex": [
       "$\\displaystyle \\left[\\begin{matrix}- \\frac{\\Omega^{2} W \\left(- \\Delta_{r} a^{2} \\sin^{2}{\\left(\\theta \\right)} + \\Delta_{\\theta} \\tilde{r}^{4} + 2 \\Delta_{\\theta} \\tilde{r}^{2} a^{2} + \\Delta_{\\theta} a^{4}\\right) \\sin^{2}{\\left(\\theta \\right)} + \\frac{\\Omega^{2} \\tilde{r}^{2} a^{2} m^{2} \\sin^{4}{\\left(\\theta \\right)} \\sinh^{2}{\\left(2 \\delta \\right)}}{2} - 2 \\Omega W \\Xi a \\left(- \\Delta_{r} + \\Delta_{\\theta} \\tilde{r}^{2} + \\Delta_{\\theta} a^{2}\\right) \\sin^{2}{\\left(\\theta \\right)} - \\Omega \\Xi \\tilde{r}^{2} a m^{2} \\sin^{2}{\\left(\\theta \\right)} \\sinh^{2}{\\left(2 \\delta \\right)} - W \\Xi^{2} \\left(\\Delta_{r} - \\Delta_{\\theta} a^{2} \\sin^{2}{\\left(\\theta \\right)}\\right) + \\frac{\\Xi^{2} \\tilde{r}^{2} m^{2} \\sinh^{2}{\\left(2 \\delta \\right)}}{2}}{W^{2} \\Xi^{2}} & \\frac{i \\left(\\Omega W \\left(- \\Delta_{r} a^{2} \\sin^{2}{\\left(\\theta \\right)} + \\Delta_{\\theta} \\tilde{r}^{4} + 2 \\Delta_{\\theta} \\tilde{r}^{2} a^{2} + \\Delta_{\\theta} a^{4}\\right) + \\frac{\\Omega \\tilde{r}^{2} a^{2} m^{2} \\sin^{2}{\\left(\\theta \\right)} \\sinh^{2}{\\left(2 \\delta \\right)}}{2} - W \\Xi a \\left(- \\Delta_{r} + \\Delta_{\\theta} \\tilde{r}^{2} + \\Delta_{\\theta} a^{2}\\right) - \\frac{\\Xi \\tilde{r}^{2} a m^{2} \\sinh^{2}{\\left(2 \\delta \\right)}}{2}\\right) \\sin^{2}{\\left(\\theta \\right)}}{W^{2} \\Xi^{2}} & 0 & 0 & - \\frac{\\sqrt{2} i \\tilde{r} m \\left(\\Omega a \\sin^{2}{\\left(\\theta \\right)} - \\Xi\\right) \\sinh{\\left(2 \\delta \\right)}}{2 W \\Xi}\\\\\\frac{i \\left(\\Omega W \\left(- \\Delta_{r} a^{2} \\sin^{2}{\\left(\\theta \\right)} + \\Delta_{\\theta} \\tilde{r}^{4} + 2 \\Delta_{\\theta} \\tilde{r}^{2} a^{2} + \\Delta_{\\theta} a^{4}\\right) + \\frac{\\Omega \\tilde{r}^{2} a^{2} m^{2} \\sin^{2}{\\left(\\theta \\right)} \\sinh^{2}{\\left(2 \\delta \\right)}}{2} - W \\Xi a \\left(- \\Delta_{r} + \\Delta_{\\theta} \\tilde{r}^{2} + \\Delta_{\\theta} a^{2}\\right) - \\frac{\\Xi \\tilde{r}^{2} a m^{2} \\sinh^{2}{\\left(2 \\delta \\right)}}{2}\\right) \\sin^{2}{\\left(\\theta \\right)}}{W^{2} \\Xi^{2}} & \\frac{\\left(W \\left(- \\Delta_{r} a^{2} \\sin^{2}{\\left(\\theta \\right)} + \\Delta_{\\theta} \\tilde{r}^{4} + 2 \\Delta_{\\theta} \\tilde{r}^{2} a^{2} + \\Delta_{\\theta} a^{4}\\right) + \\frac{\\tilde{r}^{2} a^{2} m^{2} \\sin^{2}{\\left(\\theta \\right)} \\sinh^{2}{\\left(2 \\delta \\right)}}{2}\\right) \\sin^{2}{\\left(\\theta \\right)}}{W^{2} \\Xi^{2}} & 0 & 0 & - \\frac{\\sqrt{2} \\tilde{r} a m \\sin^{2}{\\left(\\theta \\right)} \\sinh{\\left(2 \\delta \\right)}}{2 W \\Xi}\\\\0 & 0 & \\frac{W}{\\Delta_{r}} & 0 & 0\\\\0 & 0 & 0 & \\frac{W}{\\Delta_{\\theta}} & 0\\\\- \\frac{\\sqrt{2} i \\tilde{r} m \\left(\\Omega a \\sin^{2}{\\left(\\theta \\right)} - \\Xi\\right) \\sinh{\\left(2 \\delta \\right)}}{2 W \\Xi} & - \\frac{\\sqrt{2} \\tilde{r} a m \\sin^{2}{\\left(\\theta \\right)} \\sinh{\\left(2 \\delta \\right)}}{2 W \\Xi} & 0 & 0 & 1\\end{matrix}\\right]$"
      ],
      "text/plain": [
       "Matrix([\n",
       "[-(Omega**2*W*(-Delta_r*a**2*sin(theta)**2 + Delta_theta*\\tilde{r}**4 + 2*Delta_theta*\\tilde{r}**2*a**2 + Delta_theta*a**4)*sin(theta)**2 + Omega**2*\\tilde{r}**2*a**2*m**2*sin(theta)**4*sinh(2*delta)**2/2 - 2*Omega*W*Xi*a*(-Delta_r + Delta_theta*\\tilde{r}**2 + Delta_theta*a**2)*sin(theta)**2 - Omega*Xi*\\tilde{r}**2*a*m**2*sin(theta)**2*sinh(2*delta)**2 - W*Xi**2*(Delta_r - Delta_theta*a**2*sin(theta)**2) + Xi**2*\\tilde{r}**2*m**2*sinh(2*delta)**2/2)/(W**2*Xi**2), I*(Omega*W*(-Delta_r*a**2*sin(theta)**2 + Delta_theta*\\tilde{r}**4 + 2*Delta_theta*\\tilde{r}**2*a**2 + Delta_theta*a**4) + Omega*\\tilde{r}**2*a**2*m**2*sin(theta)**2*sinh(2*delta)**2/2 - W*Xi*a*(-Delta_r + Delta_theta*\\tilde{r}**2 + Delta_theta*a**2) - Xi*\\tilde{r}**2*a*m**2*sinh(2*delta)**2/2)*sin(theta)**2/(W**2*Xi**2),         0,             0, -sqrt(2)*I*\\tilde{r}*m*(Omega*a*sin(theta)**2 - Xi)*sinh(2*delta)/(2*W*Xi)],\n",
       "[                                                                                                                                               I*(Omega*W*(-Delta_r*a**2*sin(theta)**2 + Delta_theta*\\tilde{r}**4 + 2*Delta_theta*\\tilde{r}**2*a**2 + Delta_theta*a**4) + Omega*\\tilde{r}**2*a**2*m**2*sin(theta)**2*sinh(2*delta)**2/2 - W*Xi*a*(-Delta_r + Delta_theta*\\tilde{r}**2 + Delta_theta*a**2) - Xi*\\tilde{r}**2*a*m**2*sinh(2*delta)**2/2)*sin(theta)**2/(W**2*Xi**2),                                                                                                                             (W*(-Delta_r*a**2*sin(theta)**2 + Delta_theta*\\tilde{r}**4 + 2*Delta_theta*\\tilde{r}**2*a**2 + Delta_theta*a**4) + \\tilde{r}**2*a**2*m**2*sin(theta)**2*sinh(2*delta)**2/2)*sin(theta)**2/(W**2*Xi**2),         0,             0,                -sqrt(2)*\\tilde{r}*a*m*sin(theta)**2*sinh(2*delta)/(2*W*Xi)],\n",
       "[                                                                                                                                                                                                                                                                                                                                                                                                                                                                                0,                                                                                                                                                                                                                                                                                                                                  0, W/Delta_r,             0,                                                                          0],\n",
       "[                                                                                                                                                                                                                                                                                                                                                                                                                                                                                0,                                                                                                                                                                                                                                                                                                                                  0,         0, W/Delta_theta,                                                                          0],\n",
       "[                                                                                                                                                                                                                                                                                                                                                                                                       -sqrt(2)*I*\\tilde{r}*m*(Omega*a*sin(theta)**2 - Xi)*sinh(2*delta)/(2*W*Xi),                                                                                                                                                                                                                                                                        -sqrt(2)*\\tilde{r}*a*m*sin(theta)**2*sinh(2*delta)/(2*W*Xi),         0,             0,                                                                          1]])"
      ]
     },
     "execution_count": 10,
     "metadata": {},
     "output_type": "execute_result"
    }
   ],
   "source": [
    "g_mat"
   ]
  },
  {
   "cell_type": "code",
   "execution_count": 11,
   "metadata": {},
   "outputs": [
    {
     "data": {
      "text/latex": [
       "$\\displaystyle \\frac{\\left(\\tilde{r}^{2} + a^{2} \\cos^{2}{\\left(\\theta \\right)}\\right)^{2} \\sin^{2}{\\left(\\theta \\right)}}{\\Xi^{2}}$"
      ],
      "text/plain": [
       "(\\tilde{r}**2 + a**2*cos(theta)**2)**2*sin(theta)**2/Xi**2"
      ]
     },
     "execution_count": 11,
     "metadata": {},
     "output_type": "execute_result"
    }
   ],
   "source": [
    "g_mat.det().simplify()"
   ]
  }
 ],
 "metadata": {
  "kernelspec": {
   "display_name": "env",
   "language": "python",
   "name": "python3"
  },
  "language_info": {
   "codemirror_mode": {
    "name": "ipython",
    "version": 3
   },
   "file_extension": ".py",
   "mimetype": "text/x-python",
   "name": "python",
   "nbconvert_exporter": "python",
   "pygments_lexer": "ipython3",
   "version": "3.10.3"
  },
  "orig_nbformat": 4
 },
 "nbformat": 4,
 "nbformat_minor": 2
}
