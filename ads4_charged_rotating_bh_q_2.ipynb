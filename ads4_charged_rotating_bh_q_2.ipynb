{
 "cells": [
  {
   "cell_type": "code",
   "execution_count": 3,
   "metadata": {},
   "outputs": [],
   "source": [
    "import sympy\n",
    "from sympy.tensor.tensor import TensorIndexType, TensorHead, tensor_indices\n",
    "\n",
    "sympy.init_printing()"
   ]
  },
  {
   "cell_type": "code",
   "execution_count": 4,
   "metadata": {},
   "outputs": [],
   "source": [
    "A, B, C, D, E, F, G, H = sympy.symbols(\"A B C D E F G H\")\n",
    "F_01, F_02, F_12 = sympy.symbols(\"F_{01} F_{02} F_{12}\")"
   ]
  },
  {
   "cell_type": "code",
   "execution_count": 5,
   "metadata": {},
   "outputs": [
    {
     "data": {
      "text/latex": [
       "$\\displaystyle \\left[\\begin{matrix}A + i B & C + i D & 0\\\\C + i D & E + i F & 0\\\\0 & 0 & G + i H\\end{matrix}\\right]$"
      ],
      "text/plain": [
       "⎡A + ⅈ⋅B  C + ⅈ⋅D     0   ⎤\n",
       "⎢                         ⎥\n",
       "⎢C + ⅈ⋅D  E + ⅈ⋅F     0   ⎥\n",
       "⎢                         ⎥\n",
       "⎣   0        0     G + ⅈ⋅H⎦"
      ]
     },
     "execution_count": 5,
     "metadata": {},
     "output_type": "execute_result"
    }
   ],
   "source": [
    "g_mat = sympy.Matrix([\n",
    "    [A + sympy.I * B, C + sympy.I * D, 0],\n",
    "    [C + sympy.I * D, E + sympy.I * F, 0],\n",
    "    [0, 0, G + sympy.I * H]\n",
    "])\n",
    "g_mat"
   ]
  },
  {
   "attachments": {},
   "cell_type": "markdown",
   "metadata": {},
   "source": [
    "### $q=2$"
   ]
  },
  {
   "cell_type": "code",
   "execution_count": 14,
   "metadata": {},
   "outputs": [
    {
     "data": {
      "text/latex": [
       "$\\displaystyle \\left[\\begin{matrix}0 & F_{01} & F_{02}\\\\- F_{01} & 0 & F_{12}\\\\- F_{02} & - F_{12} & 0\\end{matrix}\\right]$"
      ],
      "text/plain": [
       "⎡   0     F_{01}   F_{02}⎤\n",
       "⎢                        ⎥\n",
       "⎢-F_{01}     0     F_{12}⎥\n",
       "⎢                        ⎥\n",
       "⎣-F_{02}  -F_{12}    0   ⎦"
      ]
     },
     "execution_count": 14,
     "metadata": {},
     "output_type": "execute_result"
    }
   ],
   "source": [
    "F_mat = sympy.Matrix([\n",
    "    [0, F_01, F_02],\n",
    "    [-F_01, 0, F_12],\n",
    "    [-F_02, -F_12, 0]\n",
    "])\n",
    "F_mat"
   ]
  },
  {
   "cell_type": "code",
   "execution_count": 6,
   "metadata": {},
   "outputs": [],
   "source": [
    "Lorentzian = TensorIndexType('Lorentzian', dummy_name='L')\n",
    "i0, i1, i2, i3 = tensor_indices('i0:4', Lorentzian)\n",
    "j0, j1, j2, j3 = tensor_indices('j0:4', Lorentzian)"
   ]
  },
  {
   "cell_type": "code",
   "execution_count": 16,
   "metadata": {},
   "outputs": [],
   "source": [
    "ggFF_mat = sympy.tensorproduct(sympy.tensorproduct(g_mat, g_mat), sympy.tensorproduct(F_mat, F_mat))"
   ]
  },
  {
   "cell_type": "code",
   "execution_count": 17,
   "metadata": {},
   "outputs": [],
   "source": [
    "ggFF_tensor = TensorHead('ggFF', [Lorentzian] * 8)\n",
    "repl = {ggFF_tensor(i0, j0, i1, j1, -i2, -j2, -i3, -j3): ggFF_mat}"
   ]
  },
  {
   "attachments": {},
   "cell_type": "markdown",
   "metadata": {},
   "source": [
    "Compute the quadratic form."
   ]
  },
  {
   "cell_type": "code",
   "execution_count": 21,
   "metadata": {},
   "outputs": [
    {
     "data": {
      "image/png": "[encoded data removed]",
      "text/latex": [
       "$\\displaystyle 2 F_{01}^{2} \\left(A + i B\\right) \\left(E + i F\\right) - 2 F_{01}^{2} \\left(C + i D\\right)^{2} + 2 F_{02}^{2} \\left(A + i B\\right) \\left(G + i H\\right) + 4 F_{02} F_{12} \\left(C + i D\\right) \\left(G + i H\\right) + 2 F_{12}^{2} \\left(E + i F\\right) \\left(G + i H\\right)$"
      ],
      "text/plain": [
       "        2                               2          2           2              \n",
       "2⋅F_{01} ⋅(A + ⅈ⋅B)⋅(E + ⅈ⋅F) - 2⋅F_{01} ⋅(C + ⅈ⋅D)  + 2⋅F_{02} ⋅(A + ⅈ⋅B)⋅(G \n",
       "\n",
       "                                                       2                    \n",
       "+ ⅈ⋅H) + 4⋅F_{02}⋅F_{12}⋅(C + ⅈ⋅D)⋅(G + ⅈ⋅H) + 2⋅F_{12} ⋅(E + ⅈ⋅F)⋅(G + ⅈ⋅H)"
      ]
     },
     "execution_count": 21,
     "metadata": {},
     "output_type": "execute_result"
    }
   ],
   "source": [
    "quadratic_form = ggFF_tensor(i0, j0, i1, j1, -i0, -i1, -j0, -j1).replace_with_arrays(repl)\n",
    "quadratic_form"
   ]
  },
  {
   "cell_type": "code",
   "execution_count": 25,
   "metadata": {},
   "outputs": [
    {
     "data": {
      "image/png": "[encoded data removed]",
      "text/latex": [
       "$\\displaystyle 2 A E F_{01}^{2} + 2 A F_{02}^{2} G - 2 B F F_{01}^{2} - 2 B F_{02}^{2} H - 2 C^{2} F_{01}^{2} + 4 C F_{02} F_{12} G + 2 D^{2} F_{01}^{2} - 4 D F_{02} F_{12} H + 2 E F_{12}^{2} G - 2 F F_{12}^{2} H + i \\left(2 A F F_{01}^{2} + 2 A F_{02}^{2} H + 2 B E F_{01}^{2} + 2 B F_{02}^{2} G - 4 C D F_{01}^{2} + 4 C F_{02} F_{12} H + 4 D F_{02} F_{12} G + 2 E F_{12}^{2} H + 2 F F_{12}^{2} G\\right)$"
      ],
      "text/plain": [
       "            2             2                 2             2        2       2  \n",
       "2⋅A⋅E⋅F_{01}  + 2⋅A⋅F_{02} ⋅G - 2⋅B⋅F⋅F_{01}  - 2⋅B⋅F_{02} ⋅H - 2⋅C ⋅F_{01}  +\n",
       "\n",
       "                          2       2                                   2       \n",
       " 4⋅C⋅F_{02}⋅F_{12}⋅G + 2⋅D ⋅F_{01}  - 4⋅D⋅F_{02}⋅F_{12}⋅H + 2⋅E⋅F_{12} ⋅G - 2⋅\n",
       "\n",
       "        2       ⎛            2             2                 2             2  \n",
       "F⋅F_{12} ⋅H + ⅈ⋅⎝2⋅A⋅F⋅F_{01}  + 2⋅A⋅F_{02} ⋅H + 2⋅B⋅E⋅F_{01}  + 2⋅B⋅F_{02} ⋅G\n",
       "\n",
       "               2                                                         2    \n",
       " - 4⋅C⋅D⋅F_{01}  + 4⋅C⋅F_{02}⋅F_{12}⋅H + 4⋅D⋅F_{02}⋅F_{12}⋅G + 2⋅E⋅F_{12} ⋅H +\n",
       "\n",
       "           2  ⎞\n",
       " 2⋅F⋅F_{12} ⋅G⎠"
      ]
     },
     "execution_count": 25,
     "metadata": {},
     "output_type": "execute_result"
    }
   ],
   "source": [
    "quadratic_form = quadratic_form.expand().simplify().collect(sympy.I)\n",
    "quadratic_form"
   ]
  },
  {
   "attachments": {},
   "cell_type": "markdown",
   "metadata": {},
   "source": [
    "Take the real part."
   ]
  },
  {
   "cell_type": "code",
   "execution_count": 29,
   "metadata": {},
   "outputs": [
    {
     "data": {
      "image/png": "[encoded data removed]",
      "text/latex": [
       "$\\displaystyle 2 A E F_{01}^{2} + 2 A F_{02}^{2} G - 2 B F F_{01}^{2} - 2 B F_{02}^{2} H - 2 C^{2} F_{01}^{2} + 4 C F_{02} F_{12} G + 2 D^{2} F_{01}^{2} - 4 D F_{02} F_{12} H + 2 E F_{12}^{2} G - 2 F F_{12}^{2} H$"
      ],
      "text/plain": [
       "            2             2                 2             2        2       2  \n",
       "2⋅A⋅E⋅F_{01}  + 2⋅A⋅F_{02} ⋅G - 2⋅B⋅F⋅F_{01}  - 2⋅B⋅F_{02} ⋅H - 2⋅C ⋅F_{01}  +\n",
       "\n",
       "                          2       2                                   2       \n",
       " 4⋅C⋅F_{02}⋅F_{12}⋅G + 2⋅D ⋅F_{01}  - 4⋅D⋅F_{02}⋅F_{12}⋅H + 2⋅E⋅F_{12} ⋅G - 2⋅\n",
       "\n",
       "        2  \n",
       "F⋅F_{12} ⋅H"
      ]
     },
     "execution_count": 29,
     "metadata": {},
     "output_type": "execute_result"
    }
   ],
   "source": [
    "real_quadratic_form = quadratic_form - quadratic_form.coeff(sympy.I) * sympy.I\n",
    "real_quadratic_form"
   ]
  },
  {
   "cell_type": "code",
   "execution_count": 48,
   "metadata": {},
   "outputs": [
    {
     "data": {
      "image/png": "[encoded data removed]",
      "text/latex": [
       "$\\displaystyle 2 F_{01}^{2} \\left(A E - B F - C^{2} + D^{2}\\right) + 2 F_{02}^{2} \\left(A G - B H\\right) + 2 F_{02} \\cdot \\left(2 C F_{12} G - 2 D F_{12} H\\right) + 2 F_{12}^{2} \\left(E G - F H\\right)$"
      ],
      "text/plain": [
       "        2 ⎛             2    2⎞           2                                   \n",
       "2⋅F_{01} ⋅⎝A⋅E - B⋅F - C  + D ⎠ + 2⋅F_{02} ⋅(A⋅G - B⋅H) + 2⋅F_{02}⋅(2⋅C⋅F_{12}\n",
       "\n",
       "                             2            \n",
       "⋅G - 2⋅D⋅F_{12}⋅H) + 2⋅F_{12} ⋅(E⋅G - F⋅H)"
      ]
     },
     "execution_count": 48,
     "metadata": {},
     "output_type": "execute_result"
    }
   ],
   "source": [
    "real_quadratic_form.factor().collect([F_01, F_02, F_12])"
   ]
  },
  {
   "cell_type": "code",
   "execution_count": 44,
   "metadata": {},
   "outputs": [
    {
     "data": {
      "image/png": "[encoded data removed]",
      "text/latex": [
       "$\\displaystyle 2 F_{01}^{2} \\left(A E - B F - C^{2} + D^{2}\\right)$"
      ],
      "text/plain": [
       "        2 ⎛             2    2⎞\n",
       "2⋅F_{01} ⋅⎝A⋅E - B⋅F - C  + D ⎠"
      ]
     },
     "execution_count": 44,
     "metadata": {},
     "output_type": "execute_result"
    }
   ],
   "source": [
    "real_quadratic_form.subs({F_02: 0, F_12: 0}).factor()"
   ]
  },
  {
   "cell_type": "code",
   "execution_count": 45,
   "metadata": {},
   "outputs": [
    {
     "data": {
      "image/png": "[encoded data removed]",
      "text/latex": [
       "$\\displaystyle 2 F_{02}^{2} \\left(A G - B H\\right)$"
      ],
      "text/plain": [
       "        2            \n",
       "2⋅F_{02} ⋅(A⋅G - B⋅H)"
      ]
     },
     "execution_count": 45,
     "metadata": {},
     "output_type": "execute_result"
    }
   ],
   "source": [
    "real_quadratic_form.subs({F_01: 0, F_12: 0}).factor()"
   ]
  },
  {
   "cell_type": "code",
   "execution_count": 46,
   "metadata": {},
   "outputs": [
    {
     "data": {
      "image/png": "[encoded data removed]",
      "text/latex": [
       "$\\displaystyle 2 F_{12}^{2} \\left(E G - F H\\right)$"
      ],
      "text/plain": [
       "        2            \n",
       "2⋅F_{12} ⋅(E⋅G - F⋅H)"
      ]
     },
     "execution_count": 46,
     "metadata": {},
     "output_type": "execute_result"
    }
   ],
   "source": [
    "real_quadratic_form.subs({F_01: 0, F_02: 0}).factor()"
   ]
  },
  {
   "attachments": {},
   "cell_type": "markdown",
   "metadata": {},
   "source": [
    "Compute the real part when the metric is real."
   ]
  },
  {
   "cell_type": "code",
   "execution_count": 50,
   "metadata": {},
   "outputs": [
    {
     "data": {
      "image/png": "[encoded data removed]",
      "text/latex": [
       "$\\displaystyle 2 A F_{02}^{2} G + 4 C F_{02} F_{12} G + 2 E F_{12}^{2} G + F_{01}^{2} \\cdot \\left(2 A E - 2 C^{2}\\right)$"
      ],
      "text/plain": [
       "          2                                     2           2 ⎛           2⎞\n",
       "2⋅A⋅F_{02} ⋅G + 4⋅C⋅F_{02}⋅F_{12}⋅G + 2⋅E⋅F_{12} ⋅G + F_{01} ⋅⎝2⋅A⋅E - 2⋅C ⎠"
      ]
     },
     "execution_count": 50,
     "metadata": {},
     "output_type": "execute_result"
    }
   ],
   "source": [
    "real_quadratic_form_g_real = real_quadratic_form.subs({B: 0, D: 0, F: 0, H: 0}).collect([F_01, F_02, F_12])\n",
    "real_quadratic_form_g_real"
   ]
  },
  {
   "cell_type": "code",
   "execution_count": 39,
   "metadata": {},
   "outputs": [
    {
     "data": {
      "image/png": "[encoded data removed]",
      "text/latex": [
       "$\\displaystyle 2 A E F_{01}^{2} - 2 C^{2} F_{01}^{2}$"
      ],
      "text/plain": [
       "            2      2       2\n",
       "2⋅A⋅E⋅F_{01}  - 2⋅C ⋅F_{01} "
      ]
     },
     "execution_count": 39,
     "metadata": {},
     "output_type": "execute_result"
    }
   ],
   "source": [
    "real_quadratic_form_g_real.subs({F_02: 0, F_12: 0})"
   ]
  },
  {
   "cell_type": "code",
   "execution_count": 40,
   "metadata": {},
   "outputs": [
    {
     "data": {
      "image/png": "[encoded data removed]",
      "text/latex": [
       "$\\displaystyle 2 A F_{02}^{2} G$"
      ],
      "text/plain": [
       "          2  \n",
       "2⋅A⋅F_{02} ⋅G"
      ]
     },
     "execution_count": 40,
     "metadata": {},
     "output_type": "execute_result"
    }
   ],
   "source": [
    "real_quadratic_form_g_real.subs({F_01: 0, F_12: 0})"
   ]
  },
  {
   "cell_type": "code",
   "execution_count": 41,
   "metadata": {},
   "outputs": [
    {
     "data": {
      "image/png": "[encoded data removed]",
      "text/latex": [
       "$\\displaystyle 2 E F_{12}^{2} G$"
      ],
      "text/plain": [
       "          2  \n",
       "2⋅E⋅F_{12} ⋅G"
      ]
     },
     "execution_count": 41,
     "metadata": {},
     "output_type": "execute_result"
    }
   ],
   "source": [
    "real_quadratic_form_g_real.subs({F_01: 0, F_02: 0})"
   ]
  },
  {
   "cell_type": "code",
   "execution_count": 54,
   "metadata": {},
   "outputs": [
    {
     "data": {
      "image/png": "[encoded data removed]",
      "text/latex": [
       "$\\displaystyle A E G^{2} - A F G H - B E G H + B F H^{2} - C^{2} G^{2} + 2 C D G H - D^{2} H^{2}$"
      ],
      "text/plain": [
       "     2                            2    2  2                2  2\n",
       "A⋅E⋅G  - A⋅F⋅G⋅H - B⋅E⋅G⋅H + B⋅F⋅H  - C ⋅G  + 2⋅C⋅D⋅G⋅H - D ⋅H "
      ]
     },
     "execution_count": 54,
     "metadata": {},
     "output_type": "execute_result"
    }
   ],
   "source": [
    "((A * G - B * H) * (E * G - F * H) - (C * G - D * H) ** 2).expand().simplify().factor()"
   ]
  },
  {
   "attachments": {},
   "cell_type": "markdown",
   "metadata": {},
   "source": [
    "### $q=3$"
   ]
  },
  {
   "cell_type": "code",
   "execution_count": 58,
   "metadata": {},
   "outputs": [],
   "source": [
    "import numpy as np"
   ]
  },
  {
   "cell_type": "code",
   "execution_count": 59,
   "metadata": {},
   "outputs": [],
   "source": [
    "F_012 = sympy.symbols(\"F_{012}\")"
   ]
  },
  {
   "cell_type": "code",
   "execution_count": 80,
   "metadata": {},
   "outputs": [
    {
     "data": {
      "image/png": "[encoded data removed]",
      "text/latex": [
       "$\\displaystyle \\left[ \\left[ \\left[ 0, \\  0, \\  0\\right], \\  \\left[ 0, \\  0, \\  F_{012}\\right], \\  \\left[ 0, \\  - F_{012}, \\  0\\right]\\right], \\  \\left[ \\left[ 0, \\  0, \\  - F_{012}\\right], \\  \\left[ 0, \\  0, \\  0\\right], \\  \\left[ F_{012}, \\  0, \\  0\\right]\\right], \\  \\left[ \\left[ 0, \\  F_{012}, \\  0\\right], \\  \\left[ - F_{012}, \\  0, \\  0\\right], \\  \\left[ 0, \\  0, \\  0\\right]\\right]\\right]$"
      ],
      "text/plain": [
       "[[[0, 0, 0], [0, 0, F_{012}], [0, -F_{012}, 0]], [[0, 0, -F_{012}], [0, 0, 0],\n",
       " [F_{012}, 0, 0]], [[0, F_{012}, 0], [-F_{012}, 0, 0], [0, 0, 0]]]"
      ]
     },
     "execution_count": 80,
     "metadata": {},
     "output_type": "execute_result"
    }
   ],
   "source": [
    "F_tensor = [\n",
    "    # F_0XX\n",
    "    [[0, 0, 0],\n",
    "     [0, 0, F_012],\n",
    "     [0, -F_012, 0]],\n",
    "    # F_1XX\n",
    "    [[0, 0, -F_012],\n",
    "     [0, 0, 0],\n",
    "     [F_012, 0, 0]],\n",
    "    # F_2XX\n",
    "    [[0, F_012, 0],\n",
    "    [-F_012, 0, 0],\n",
    "    [0, 0, 0]]\n",
    "]\n",
    "F_tensor"
   ]
  },
  {
   "cell_type": "code",
   "execution_count": 81,
   "metadata": {},
   "outputs": [],
   "source": [
    "i0, i1, i2, i3, i4, i5 = tensor_indices('i0:6', Lorentzian)\n",
    "j0, j1, j2, j3, j4, j5 = tensor_indices('j0:6', Lorentzian)"
   ]
  },
  {
   "cell_type": "code",
   "execution_count": 82,
   "metadata": {},
   "outputs": [],
   "source": [
    "gggFF_mat = sympy.tensorproduct(sympy.tensorproduct(sympy.tensorproduct(g_mat, g_mat), g_mat), sympy.tensorproduct(F_tensor, F_tensor))"
   ]
  },
  {
   "cell_type": "code",
   "execution_count": 83,
   "metadata": {},
   "outputs": [],
   "source": [
    "gggFF_tensor = TensorHead('gggFF', [Lorentzian] * 12)\n",
    "repl = {gggFF_tensor(i0, j0, i1, j1, i2, j2, -i3, -i4, -i5, -j3, -j4, -j5): gggFF_mat}"
   ]
  },
  {
   "cell_type": "code",
   "execution_count": 84,
   "metadata": {},
   "outputs": [
    {
     "data": {
      "image/png": "[encoded data removed]",
      "text/latex": [
       "$\\displaystyle 6 F_{012}^{2} \\left(A + i B\\right) \\left(E + i F\\right) \\left(G + i H\\right) - 6 F_{012}^{2} \\left(C + i D\\right)^{2} \\left(G + i H\\right)$"
      ],
      "text/plain": [
       "         2                                          2          2          \n",
       "6⋅F_{012} ⋅(A + ⅈ⋅B)⋅(E + ⅈ⋅F)⋅(G + ⅈ⋅H) - 6⋅F_{012} ⋅(C + ⅈ⋅D) ⋅(G + ⅈ⋅H)"
      ]
     },
     "execution_count": 84,
     "metadata": {},
     "output_type": "execute_result"
    }
   ],
   "source": [
    "quadratic_form_q_2 = gggFF_tensor(i0, j0, i1, j1, i2, j2, -i0, -i1, -i2, -j0, -j1, -j2).replace_with_arrays(repl)\n",
    "quadratic_form_q_2"
   ]
  },
  {
   "cell_type": "code",
   "execution_count": 87,
   "metadata": {},
   "outputs": [
    {
     "data": {
      "image/png": "[encoded data removed]",
      "text/latex": [
       "$\\displaystyle 6 F_{012}^{2} \\left(A E G - A F H - B E H - B F G - C^{2} G + 2 C D H + D^{2} G + i \\left(A E H + A F G + B E G - B F H - C^{2} H - 2 C D G + D^{2} H\\right)\\right)$"
      ],
      "text/plain": [
       "         2 ⎛                                 2                2       ⎛       \n",
       "6⋅F_{012} ⋅⎝A⋅E⋅G - A⋅F⋅H - B⋅E⋅H - B⋅F⋅G - C ⋅G + 2⋅C⋅D⋅H + D ⋅G + ⅈ⋅⎝A⋅E⋅H +\n",
       "\n",
       "                          2                2  ⎞⎞\n",
       " A⋅F⋅G + B⋅E⋅G - B⋅F⋅H - C ⋅H - 2⋅C⋅D⋅G + D ⋅H⎠⎠"
      ]
     },
     "execution_count": 87,
     "metadata": {},
     "output_type": "execute_result"
    }
   ],
   "source": [
    "quadratic_form_q_2_simp = quadratic_form_q_2.expand().simplify().collect(sympy.I)\n",
    "quadratic_form_q_2_simp"
   ]
  },
  {
   "cell_type": "code",
   "execution_count": 102,
   "metadata": {},
   "outputs": [
    {
     "data": {
      "image/png": "[encoded data removed]",
      "text/latex": [
       "$\\displaystyle A E G - A F H - B E H - B F G - C^{2} G + 2 C D H + D^{2} G$"
      ],
      "text/plain": [
       "                                 2                2  \n",
       "A⋅E⋅G - A⋅F⋅H - B⋅E⋅H - B⋅F⋅G - C ⋅G + 2⋅C⋅D⋅H + D ⋅G"
      ]
     },
     "execution_count": 102,
     "metadata": {},
     "output_type": "execute_result"
    }
   ],
   "source": [
    "sum(quadratic_form_q_2_simp.args[2].args[1:])#.collect([A, B, C])"
   ]
  },
  {
   "cell_type": "code",
   "execution_count": 105,
   "metadata": {},
   "outputs": [
    {
     "data": {
      "image/png": "[encoded data removed]",
      "text/latex": [
       "$\\displaystyle A E G - A F H - B E H - B F G - C^{2} G + 2 C D H + D^{2} G + i \\left(A E H + A F G + B E G - B F H - C^{2} H - 2 C D G + D^{2} H\\right)$"
      ],
      "text/plain": [
       "                                 2                2       ⎛                   \n",
       "A⋅E⋅G - A⋅F⋅H - B⋅E⋅H - B⋅F⋅G - C ⋅G + 2⋅C⋅D⋅H + D ⋅G + ⅈ⋅⎝A⋅E⋅H + A⋅F⋅G + B⋅E\n",
       "\n",
       "              2                2  ⎞\n",
       "⋅G - B⋅F⋅H - C ⋅H - 2⋅C⋅D⋅G + D ⋅H⎠"
      ]
     },
     "execution_count": 105,
     "metadata": {},
     "output_type": "execute_result"
    }
   ],
   "source": [
    "g_mat.det().collect(sympy.I)"
   ]
  }
 ],
 "metadata": {
  "kernelspec": {
   "display_name": "env",
   "language": "python",
   "name": "python3"
  },
  "language_info": {
   "codemirror_mode": {
    "name": "ipython",
    "version": 3
   },
   "file_extension": ".py",
   "mimetype": "text/x-python",
   "name": "python",
   "nbconvert_exporter": "python",
   "pygments_lexer": "ipython3",
   "version": "3.10.3"
  },
  "orig_nbformat": 4
 },
 "nbformat": 4,
 "nbformat_minor": 2
}
