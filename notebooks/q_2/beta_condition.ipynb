{
 "cells": [
  {
   "cell_type": "code",
   "execution_count": 1,
   "metadata": {},
   "outputs": [],
   "source": [
    "import time\n",
    "\n",
    "import numpy as np\n",
    "import sympy\n",
    "\n",
    "from complex_spacetime_metrics import config\n",
    "from complex_spacetime_metrics import metric as metric_utils\n",
    "from complex_spacetime_metrics.admissibility import AnalyticalRoots\n",
    "from complex_spacetime_metrics.plot import plot_admissibility"
   ]
  },
  {
   "cell_type": "code",
   "execution_count": 2,
   "metadata": {},
   "outputs": [],
   "source": [
    "q_val = \"q_2\"\n",
    "filename_base = \"beta_condition\""
   ]
  },
  {
   "cell_type": "code",
   "execution_count": 3,
   "metadata": {},
   "outputs": [],
   "source": [
    "data_dir_path = f\"../../data/{q_val}\"\n",
    "figure_dir_path = f\"../../figures/{q_val}\""
   ]
  },
  {
   "cell_type": "code",
   "execution_count": 4,
   "metadata": {},
   "outputs": [],
   "source": [
    "metric = metric_utils.Metric3D()\n",
    "metric_coeffs = metric.coefficients()"
   ]
  },
  {
   "cell_type": "code",
   "execution_count": 5,
   "metadata": {},
   "outputs": [],
   "source": [
    "A = metric_coeffs[metric_utils.A]\n",
    "B = metric_coeffs[metric_utils.B]\n",
    "C = metric_coeffs[metric_utils.C]\n",
    "D = metric_coeffs[metric_utils.D]\n",
    "E = metric_coeffs[metric_utils.E]\n",
    "F = metric_coeffs[metric_utils.F]"
   ]
  },
  {
   "cell_type": "code",
   "execution_count": 7,
   "metadata": {},
   "outputs": [
    {
     "data": {
      "text/latex": [
       "$\\displaystyle \\frac{\\left(\\tilde{r} - \\tilde{r}_+\\right) \\left(- \\tilde{r}^{3} a^{2} \\cos^{2}{\\left(\\theta \\right)} + \\tilde{r}^{3} - \\tilde{r}^{2} \\tilde{r}_+ a^{2} \\cos^{2}{\\left(\\theta \\right)} + \\tilde{r}^{2} \\tilde{r}_+ - \\tilde{r} \\tilde{r}_+^{2} a^{2} \\cos^{2}{\\left(\\theta \\right)} + \\tilde{r} \\tilde{r}_+^{2} - \\tilde{r} a^{4} \\cos^{2}{\\left(\\theta \\right)} - \\tilde{r} a^{2} \\cos^{2}{\\left(\\theta \\right)} + \\tilde{r} a^{2} + \\tilde{r} - \\tilde{r}_+^{3} a^{2} \\cos^{2}{\\left(\\theta \\right)} + \\tilde{r}_+^{3} + \\tilde{r}_+ a^{4} \\cos^{2}{\\left(\\theta \\right)} + 4 \\tilde{r}_+ a^{3} \\cos^{2}{\\left(\\theta \\right)} + \\tilde{r}_+ a^{2} \\cos^{2}{\\left(\\theta \\right)} - \\tilde{r}_+ a^{2} - 4 \\tilde{r}_+ a - \\tilde{r}_+\\right) \\sin^{2}{\\left(\\theta \\right)}}{\\left(a - 1\\right)^{2} \\left(a + 1\\right)^{2}}$"
      ],
      "text/plain": [
       "(\\tilde{r} - \\tilde{r}_+)*(-\\tilde{r}**3*a**2*cos(theta)**2 + \\tilde{r}**3 - \\tilde{r}**2*\\tilde{r}_+*a**2*cos(theta)**2 + \\tilde{r}**2*\\tilde{r}_+ - \\tilde{r}*\\tilde{r}_+**2*a**2*cos(theta)**2 + \\tilde{r}*\\tilde{r}_+**2 - \\tilde{r}*a**4*cos(theta)**2 - \\tilde{r}*a**2*cos(theta)**2 + \\tilde{r}*a**2 + \\tilde{r} - \\tilde{r}_+**3*a**2*cos(theta)**2 + \\tilde{r}_+**3 + \\tilde{r}_+*a**4*cos(theta)**2 + 4*\\tilde{r}_+*a**3*cos(theta)**2 + \\tilde{r}_+*a**2*cos(theta)**2 - \\tilde{r}_+*a**2 - 4*\\tilde{r}_+*a - \\tilde{r}_+)*sin(theta)**2/((a - 1)**2*(a + 1)**2)"
      ]
     },
     "execution_count": 7,
     "metadata": {},
     "output_type": "execute_result"
    }
   ],
   "source": [
    "condition = (A * E - C ** 2) - (B * F - D ** 2)\n",
    "condition = condition.simplify()\n",
    "condition"
   ]
  },
  {
   "attachments": {},
   "cell_type": "markdown",
   "metadata": {},
   "source": [
    "Remove positive denominator."
   ]
  },
  {
   "cell_type": "code",
   "execution_count": 8,
   "metadata": {},
   "outputs": [
    {
     "data": {
      "text/latex": [
       "$\\displaystyle \\left(\\tilde{r} - \\tilde{r}_+\\right) \\left(- \\tilde{r}^{3} a^{2} \\cos^{2}{\\left(\\theta \\right)} + \\tilde{r}^{3} - \\tilde{r}^{2} \\tilde{r}_+ a^{2} \\cos^{2}{\\left(\\theta \\right)} + \\tilde{r}^{2} \\tilde{r}_+ - \\tilde{r} \\tilde{r}_+^{2} a^{2} \\cos^{2}{\\left(\\theta \\right)} + \\tilde{r} \\tilde{r}_+^{2} - \\tilde{r} a^{4} \\cos^{2}{\\left(\\theta \\right)} - \\tilde{r} a^{2} \\cos^{2}{\\left(\\theta \\right)} + \\tilde{r} a^{2} + \\tilde{r} - \\tilde{r}_+^{3} a^{2} \\cos^{2}{\\left(\\theta \\right)} + \\tilde{r}_+^{3} + \\tilde{r}_+ a^{4} \\cos^{2}{\\left(\\theta \\right)} + 4 \\tilde{r}_+ a^{3} \\cos^{2}{\\left(\\theta \\right)} + \\tilde{r}_+ a^{2} \\cos^{2}{\\left(\\theta \\right)} - \\tilde{r}_+ a^{2} - 4 \\tilde{r}_+ a - \\tilde{r}_+\\right) \\sin^{2}{\\left(\\theta \\right)}$"
      ],
      "text/plain": [
       "(\\tilde{r} - \\tilde{r}_+)*(-\\tilde{r}**3*a**2*cos(theta)**2 + \\tilde{r}**3 - \\tilde{r}**2*\\tilde{r}_+*a**2*cos(theta)**2 + \\tilde{r}**2*\\tilde{r}_+ - \\tilde{r}*\\tilde{r}_+**2*a**2*cos(theta)**2 + \\tilde{r}*\\tilde{r}_+**2 - \\tilde{r}*a**4*cos(theta)**2 - \\tilde{r}*a**2*cos(theta)**2 + \\tilde{r}*a**2 + \\tilde{r} - \\tilde{r}_+**3*a**2*cos(theta)**2 + \\tilde{r}_+**3 + \\tilde{r}_+*a**4*cos(theta)**2 + 4*\\tilde{r}_+*a**3*cos(theta)**2 + \\tilde{r}_+*a**2*cos(theta)**2 - \\tilde{r}_+*a**2 - 4*\\tilde{r}_+*a - \\tilde{r}_+)*sin(theta)**2"
      ]
     },
     "execution_count": 8,
     "metadata": {},
     "output_type": "execute_result"
    }
   ],
   "source": [
    "condition = sympy.fraction(condition)[0]\n",
    "condition"
   ]
  },
  {
   "attachments": {},
   "cell_type": "markdown",
   "metadata": {},
   "source": [
    "Remove $\\sin^2(\\theta)$ and $r-\\tilde{r}$."
   ]
  },
  {
   "cell_type": "code",
   "execution_count": 15,
   "metadata": {},
   "outputs": [
    {
     "data": {
      "text/latex": [
       "$\\displaystyle - \\left(a \\cos{\\left(\\theta \\right)} - 1\\right) \\left(a \\cos{\\left(\\theta \\right)} + 1\\right) \\left(\\tilde{r}^{3} + \\tilde{r}^{2} \\tilde{r}_+ + \\tilde{r} \\left(\\tilde{r}_+^{2} + a^{2} + 1\\right) + \\tilde{r}_+^{3} - \\tilde{r}_+ a^{2} - 4 \\tilde{r}_+ a - \\tilde{r}_+\\right)$"
      ],
      "text/plain": [
       "-(a*cos(theta) - 1)*(a*cos(theta) + 1)*(\\tilde{r}**3 + \\tilde{r}**2*\\tilde{r}_+ + \\tilde{r}*(\\tilde{r}_+**2 + a**2 + 1) + \\tilde{r}_+**3 - \\tilde{r}_+*a**2 - 4*\\tilde{r}_+*a - \\tilde{r}_+)"
      ]
     },
     "execution_count": 15,
     "metadata": {},
     "output_type": "execute_result"
    }
   ],
   "source": [
    "condition = condition.args[2].expand().simplify().factor().collect(metric_utils.r_tilde)\n",
    "condition"
   ]
  },
  {
   "cell_type": "code",
   "execution_count": 19,
   "metadata": {},
   "outputs": [
    {
     "data": {
      "text/latex": [
       "$\\displaystyle \\tilde{r}^{3} + \\tilde{r}^{2} \\tilde{r}_+ + \\tilde{r} \\left(\\tilde{r}_+^{2} + a^{2} + 1\\right) + \\tilde{r}_+^{3} - \\tilde{r}_+ a^{2} - 4 \\tilde{r}_+ a - \\tilde{r}_+$"
      ],
      "text/plain": [
       "\\tilde{r}**3 + \\tilde{r}**2*\\tilde{r}_+ + \\tilde{r}*(\\tilde{r}_+**2 + a**2 + 1) + \\tilde{r}_+**3 - \\tilde{r}_+*a**2 - 4*\\tilde{r}_+*a - \\tilde{r}_+"
      ]
     },
     "execution_count": 19,
     "metadata": {},
     "output_type": "execute_result"
    }
   ],
   "source": [
    "condition = condition.args[3]\n",
    "condition"
   ]
  },
  {
   "attachments": {},
   "cell_type": "markdown",
   "metadata": {},
   "source": [
    "Try to solve for roots in advance."
   ]
  },
  {
   "cell_type": "code",
   "execution_count": 20,
   "metadata": {},
   "outputs": [],
   "source": [
    "roots = sympy.solve(condition, metric_utils.r_tilde)"
   ]
  },
  {
   "cell_type": "code",
   "execution_count": 21,
   "metadata": {},
   "outputs": [
    {
     "data": {
      "text/latex": [
       "$\\displaystyle - \\frac{\\tilde{r}_+}{3} - \\frac{- 2 \\tilde{r}_+^{2} - 3 a^{2} - 3}{3 \\sqrt[3]{\\frac{29 \\tilde{r}_+^{3}}{2} - \\frac{27 \\tilde{r}_+ a^{2}}{2} - 54 \\tilde{r}_+ a - \\frac{9 \\tilde{r}_+ \\left(\\tilde{r}_+^{2} + a^{2} + 1\\right)}{2} - \\frac{27 \\tilde{r}_+}{2} + \\frac{\\sqrt{- 4 \\left(- 2 \\tilde{r}_+^{2} - 3 a^{2} - 3\\right)^{3} + \\left(29 \\tilde{r}_+^{3} - 27 \\tilde{r}_+ a^{2} - 108 \\tilde{r}_+ a - 9 \\tilde{r}_+ \\left(\\tilde{r}_+^{2} + a^{2} + 1\\right) - 27 \\tilde{r}_+\\right)^{2}}}{2}}} - \\frac{\\sqrt[3]{\\frac{29 \\tilde{r}_+^{3}}{2} - \\frac{27 \\tilde{r}_+ a^{2}}{2} - 54 \\tilde{r}_+ a - \\frac{9 \\tilde{r}_+ \\left(\\tilde{r}_+^{2} + a^{2} + 1\\right)}{2} - \\frac{27 \\tilde{r}_+}{2} + \\frac{\\sqrt{- 4 \\left(- 2 \\tilde{r}_+^{2} - 3 a^{2} - 3\\right)^{3} + \\left(29 \\tilde{r}_+^{3} - 27 \\tilde{r}_+ a^{2} - 108 \\tilde{r}_+ a - 9 \\tilde{r}_+ \\left(\\tilde{r}_+^{2} + a^{2} + 1\\right) - 27 \\tilde{r}_+\\right)^{2}}}{2}}}{3}$"
      ],
      "text/plain": [
       "-\\tilde{r}_+/3 - (-2*\\tilde{r}_+**2 - 3*a**2 - 3)/(3*(29*\\tilde{r}_+**3/2 - 27*\\tilde{r}_+*a**2/2 - 54*\\tilde{r}_+*a - 9*\\tilde{r}_+*(\\tilde{r}_+**2 + a**2 + 1)/2 - 27*\\tilde{r}_+/2 + sqrt(-4*(-2*\\tilde{r}_+**2 - 3*a**2 - 3)**3 + (29*\\tilde{r}_+**3 - 27*\\tilde{r}_+*a**2 - 108*\\tilde{r}_+*a - 9*\\tilde{r}_+*(\\tilde{r}_+**2 + a**2 + 1) - 27*\\tilde{r}_+)**2)/2)**(1/3)) - (29*\\tilde{r}_+**3/2 - 27*\\tilde{r}_+*a**2/2 - 54*\\tilde{r}_+*a - 9*\\tilde{r}_+*(\\tilde{r}_+**2 + a**2 + 1)/2 - 27*\\tilde{r}_+/2 + sqrt(-4*(-2*\\tilde{r}_+**2 - 3*a**2 - 3)**3 + (29*\\tilde{r}_+**3 - 27*\\tilde{r}_+*a**2 - 108*\\tilde{r}_+*a - 9*\\tilde{r}_+*(\\tilde{r}_+**2 + a**2 + 1) - 27*\\tilde{r}_+)**2)/2)**(1/3)/3"
      ]
     },
     "execution_count": 21,
     "metadata": {},
     "output_type": "execute_result"
    }
   ],
   "source": [
    "roots[0]"
   ]
  },
  {
   "cell_type": "code",
   "execution_count": 22,
   "metadata": {},
   "outputs": [
    {
     "data": {
      "text/latex": [
       "$\\displaystyle - \\frac{\\tilde{r}_+}{3} - \\frac{- 2 \\tilde{r}_+^{2} - 3 a^{2} - 3}{3 \\left(- \\frac{1}{2} - \\frac{\\sqrt{3} i}{2}\\right) \\sqrt[3]{\\frac{29 \\tilde{r}_+^{3}}{2} - \\frac{27 \\tilde{r}_+ a^{2}}{2} - 54 \\tilde{r}_+ a - \\frac{9 \\tilde{r}_+ \\left(\\tilde{r}_+^{2} + a^{2} + 1\\right)}{2} - \\frac{27 \\tilde{r}_+}{2} + \\frac{\\sqrt{- 4 \\left(- 2 \\tilde{r}_+^{2} - 3 a^{2} - 3\\right)^{3} + \\left(29 \\tilde{r}_+^{3} - 27 \\tilde{r}_+ a^{2} - 108 \\tilde{r}_+ a - 9 \\tilde{r}_+ \\left(\\tilde{r}_+^{2} + a^{2} + 1\\right) - 27 \\tilde{r}_+\\right)^{2}}}{2}}} - \\frac{\\left(- \\frac{1}{2} - \\frac{\\sqrt{3} i}{2}\\right) \\sqrt[3]{\\frac{29 \\tilde{r}_+^{3}}{2} - \\frac{27 \\tilde{r}_+ a^{2}}{2} - 54 \\tilde{r}_+ a - \\frac{9 \\tilde{r}_+ \\left(\\tilde{r}_+^{2} + a^{2} + 1\\right)}{2} - \\frac{27 \\tilde{r}_+}{2} + \\frac{\\sqrt{- 4 \\left(- 2 \\tilde{r}_+^{2} - 3 a^{2} - 3\\right)^{3} + \\left(29 \\tilde{r}_+^{3} - 27 \\tilde{r}_+ a^{2} - 108 \\tilde{r}_+ a - 9 \\tilde{r}_+ \\left(\\tilde{r}_+^{2} + a^{2} + 1\\right) - 27 \\tilde{r}_+\\right)^{2}}}{2}}}{3}$"
      ],
      "text/plain": [
       "-\\tilde{r}_+/3 - (-2*\\tilde{r}_+**2 - 3*a**2 - 3)/(3*(-1/2 - sqrt(3)*I/2)*(29*\\tilde{r}_+**3/2 - 27*\\tilde{r}_+*a**2/2 - 54*\\tilde{r}_+*a - 9*\\tilde{r}_+*(\\tilde{r}_+**2 + a**2 + 1)/2 - 27*\\tilde{r}_+/2 + sqrt(-4*(-2*\\tilde{r}_+**2 - 3*a**2 - 3)**3 + (29*\\tilde{r}_+**3 - 27*\\tilde{r}_+*a**2 - 108*\\tilde{r}_+*a - 9*\\tilde{r}_+*(\\tilde{r}_+**2 + a**2 + 1) - 27*\\tilde{r}_+)**2)/2)**(1/3)) - (-1/2 - sqrt(3)*I/2)*(29*\\tilde{r}_+**3/2 - 27*\\tilde{r}_+*a**2/2 - 54*\\tilde{r}_+*a - 9*\\tilde{r}_+*(\\tilde{r}_+**2 + a**2 + 1)/2 - 27*\\tilde{r}_+/2 + sqrt(-4*(-2*\\tilde{r}_+**2 - 3*a**2 - 3)**3 + (29*\\tilde{r}_+**3 - 27*\\tilde{r}_+*a**2 - 108*\\tilde{r}_+*a - 9*\\tilde{r}_+*(\\tilde{r}_+**2 + a**2 + 1) - 27*\\tilde{r}_+)**2)/2)**(1/3)/3"
      ]
     },
     "execution_count": 22,
     "metadata": {},
     "output_type": "execute_result"
    }
   ],
   "source": [
    "roots[1]"
   ]
  },
  {
   "cell_type": "code",
   "execution_count": 25,
   "metadata": {},
   "outputs": [
    {
     "data": {
      "text/latex": [
       "$\\displaystyle - \\frac{\\tilde{r}_+}{3} - \\frac{- 2 \\tilde{r}_+^{2} - 3 a^{2} - 3}{3 \\left(- \\frac{1}{2} + \\frac{\\sqrt{3} i}{2}\\right) \\sqrt[3]{\\frac{29 \\tilde{r}_+^{3}}{2} - \\frac{27 \\tilde{r}_+ a^{2}}{2} - 54 \\tilde{r}_+ a - \\frac{9 \\tilde{r}_+ \\left(\\tilde{r}_+^{2} + a^{2} + 1\\right)}{2} - \\frac{27 \\tilde{r}_+}{2} + \\frac{\\sqrt{- 4 \\left(- 2 \\tilde{r}_+^{2} - 3 a^{2} - 3\\right)^{3} + \\left(29 \\tilde{r}_+^{3} - 27 \\tilde{r}_+ a^{2} - 108 \\tilde{r}_+ a - 9 \\tilde{r}_+ \\left(\\tilde{r}_+^{2} + a^{2} + 1\\right) - 27 \\tilde{r}_+\\right)^{2}}}{2}}} - \\frac{\\left(- \\frac{1}{2} + \\frac{\\sqrt{3} i}{2}\\right) \\sqrt[3]{\\frac{29 \\tilde{r}_+^{3}}{2} - \\frac{27 \\tilde{r}_+ a^{2}}{2} - 54 \\tilde{r}_+ a - \\frac{9 \\tilde{r}_+ \\left(\\tilde{r}_+^{2} + a^{2} + 1\\right)}{2} - \\frac{27 \\tilde{r}_+}{2} + \\frac{\\sqrt{- 4 \\left(- 2 \\tilde{r}_+^{2} - 3 a^{2} - 3\\right)^{3} + \\left(29 \\tilde{r}_+^{3} - 27 \\tilde{r}_+ a^{2} - 108 \\tilde{r}_+ a - 9 \\tilde{r}_+ \\left(\\tilde{r}_+^{2} + a^{2} + 1\\right) - 27 \\tilde{r}_+\\right)^{2}}}{2}}}{3}$"
      ],
      "text/plain": [
       "-\\tilde{r}_+/3 - (-2*\\tilde{r}_+**2 - 3*a**2 - 3)/(3*(-1/2 + sqrt(3)*I/2)*(29*\\tilde{r}_+**3/2 - 27*\\tilde{r}_+*a**2/2 - 54*\\tilde{r}_+*a - 9*\\tilde{r}_+*(\\tilde{r}_+**2 + a**2 + 1)/2 - 27*\\tilde{r}_+/2 + sqrt(-4*(-2*\\tilde{r}_+**2 - 3*a**2 - 3)**3 + (29*\\tilde{r}_+**3 - 27*\\tilde{r}_+*a**2 - 108*\\tilde{r}_+*a - 9*\\tilde{r}_+*(\\tilde{r}_+**2 + a**2 + 1) - 27*\\tilde{r}_+)**2)/2)**(1/3)) - (-1/2 + sqrt(3)*I/2)*(29*\\tilde{r}_+**3/2 - 27*\\tilde{r}_+*a**2/2 - 54*\\tilde{r}_+*a - 9*\\tilde{r}_+*(\\tilde{r}_+**2 + a**2 + 1)/2 - 27*\\tilde{r}_+/2 + sqrt(-4*(-2*\\tilde{r}_+**2 - 3*a**2 - 3)**3 + (29*\\tilde{r}_+**3 - 27*\\tilde{r}_+*a**2 - 108*\\tilde{r}_+*a - 9*\\tilde{r}_+*(\\tilde{r}_+**2 + a**2 + 1) - 27*\\tilde{r}_+)**2)/2)**(1/3)/3"
      ]
     },
     "execution_count": 25,
     "metadata": {},
     "output_type": "execute_result"
    }
   ],
   "source": [
    "roots[2]"
   ]
  },
  {
   "cell_type": "code",
   "execution_count": 29,
   "metadata": {},
   "outputs": [
    {
     "data": {
      "text/latex": [
       "$\\displaystyle 1$"
      ],
      "text/plain": [
       "1"
      ]
     },
     "execution_count": 29,
     "metadata": {},
     "output_type": "execute_result"
    }
   ],
   "source": [
    "cond_coeffs = sympy.Poly(condition, metric_utils.r_tilde).all_coeffs()\n",
    "leading_coeff = cond_coeffs[0].simplify().factor()\n",
    "leading_coeff"
   ]
  },
  {
   "cell_type": "code",
   "execution_count": 30,
   "metadata": {},
   "outputs": [],
   "source": [
    "admissible_evaluator = AnalyticalRoots()"
   ]
  },
  {
   "cell_type": "code",
   "execution_count": 31,
   "metadata": {},
   "outputs": [],
   "source": [
    "parameter_grid = config.grids['fine']"
   ]
  },
  {
   "cell_type": "code",
   "execution_count": 32,
   "metadata": {},
   "outputs": [
    {
     "name": "stderr",
     "output_type": "stream",
     "text": [
      "100%|██████████| 40401/40401 [02:05<00:00, 320.84it/s]\n"
     ]
    }
   ],
   "source": [
    "filename_data = f\"{data_dir_path}/{filename_base}.pk\"\n",
    "admissible_map = admissible_evaluator.admissibility(parameter_grid, roots, leading_coeff, filename=filename_data)"
   ]
  },
  {
   "cell_type": "code",
   "execution_count": 33,
   "metadata": {},
   "outputs": [],
   "source": [
    "filename_plot = f\"{figure_dir_path}/{filename_base}.pdf\"\n",
    "plot_admissibility(parameter_grid, admissible_map, filename_plot)"
   ]
  }
 ],
 "metadata": {
  "kernelspec": {
   "display_name": "env",
   "language": "python",
   "name": "python3"
  },
  "language_info": {
   "codemirror_mode": {
    "name": "ipython",
    "version": 3
   },
   "file_extension": ".py",
   "mimetype": "text/x-python",
   "name": "python",
   "nbconvert_exporter": "python",
   "pygments_lexer": "ipython3",
   "version": "3.10.3"
  },
  "orig_nbformat": 4
 },
 "nbformat": 4,
 "nbformat_minor": 2
}
