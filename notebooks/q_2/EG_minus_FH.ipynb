{
 "cells": [
  {
   "cell_type": "code",
   "execution_count": 2,
   "metadata": {},
   "outputs": [],
   "source": [
    "import time\n",
    "\n",
    "import numpy as np\n",
    "import sympy\n",
    "\n",
    "from complex_spacetime_metrics import config\n",
    "from complex_spacetime_metrics import metric as metric_utils\n",
    "from complex_spacetime_metrics.admissibility import PointwiseAnalyticalRoots\n",
    "from complex_spacetime_metrics.plot import plot_admissibility"
   ]
  },
  {
   "cell_type": "code",
   "execution_count": 3,
   "metadata": {},
   "outputs": [],
   "source": [
    "q_val = \"q_2\"\n",
    "filename_base = \"EG_minus_FH\""
   ]
  },
  {
   "cell_type": "code",
   "execution_count": 4,
   "metadata": {},
   "outputs": [],
   "source": [
    "data_dir_path = f\"../../data/{q_val}\"\n",
    "figure_dir_path = f\"../../figures/{q_val}\""
   ]
  },
  {
   "cell_type": "code",
   "execution_count": 5,
   "metadata": {},
   "outputs": [],
   "source": [
    "metric = metric_utils.Metric3D()\n",
    "metric_coeffs = metric.coefficients()"
   ]
  },
  {
   "cell_type": "code",
   "execution_count": 17,
   "metadata": {},
   "outputs": [],
   "source": [
    "E = metric_coeffs[metric_utils.E]\n",
    "F = metric_coeffs[metric_utils.F]\n",
    "G = metric_coeffs[metric_utils.G]\n",
    "H = metric_coeffs[metric_utils.H]"
   ]
  },
  {
   "cell_type": "code",
   "execution_count": 18,
   "metadata": {},
   "outputs": [
    {
     "data": {
      "text/latex": [
       "$\\displaystyle \\frac{\\left(\\tilde{r} - \\tilde{r}_+\\right) \\left(- 4 a^{2} \\left(\\tilde{r} - \\tilde{r}_+\\right) \\left(\\tilde{r}_+^{2} - a\\right)^{2} \\left(a + 1\\right)^{2} \\sin^{2}{\\left(\\theta \\right)} + \\left(\\tilde{r}^{3} + \\tilde{r}^{2} \\tilde{r}_+ + \\tilde{r} \\tilde{r}_+^{2} + \\tilde{r} a^{2} + \\tilde{r} + \\tilde{r}_+^{3} - \\tilde{r}_+ a^{2} - 4 \\tilde{r}_+ a - \\tilde{r}_+\\right) \\left(- \\tilde{r}^{4} a^{2} + \\tilde{r}^{4} + \\tilde{r}^{2} a^{4} \\sin^{2}{\\left(\\theta \\right)} - 2 \\tilde{r}^{2} a^{4} - \\tilde{r}^{2} a^{2} \\sin^{2}{\\left(\\theta \\right)} + 2 \\tilde{r}^{2} a^{2} + 2 \\tilde{r} \\tilde{r}_+ a^{4} \\sin^{2}{\\left(\\theta \\right)} + 4 \\tilde{r} \\tilde{r}_+ a^{3} \\sin^{2}{\\left(\\theta \\right)} + 2 \\tilde{r} \\tilde{r}_+ a^{2} \\sin^{2}{\\left(\\theta \\right)} + \\tilde{r}_+^{4} a^{2} \\sin^{2}{\\left(\\theta \\right)} - \\tilde{r}_+^{2} a^{4} \\sin^{2}{\\left(\\theta \\right)} - 4 \\tilde{r}_+^{2} a^{3} \\sin^{2}{\\left(\\theta \\right)} - \\tilde{r}_+^{2} a^{2} \\sin^{2}{\\left(\\theta \\right)} + a^{6} \\sin^{2}{\\left(\\theta \\right)} - a^{6} + a^{4}\\right)\\right) \\sin^{2}{\\left(\\theta \\right)}}{\\left(a - 1\\right)^{2} \\left(a + 1\\right)^{2} \\cdot \\left(4 \\left(\\tilde{r} - \\tilde{r}_+\\right)^{2} \\left(\\tilde{r}_+^{2} - a\\right)^{2} \\left(a + 1\\right)^{2} + \\left(\\tilde{r}^{4} - \\tilde{r}_+^{4} - 2 a \\left(\\tilde{r}^{2} - \\tilde{r}_+^{2}\\right) + \\left(\\tilde{r} - \\tilde{r}_+\\right)^{2} \\left(a + 1\\right)^{2}\\right)^{2}\\right)}$"
      ],
      "text/plain": [
       "(\\tilde{r} - \\tilde{r}_+)*(-4*a**2*(\\tilde{r} - \\tilde{r}_+)*(\\tilde{r}_+**2 - a)**2*(a + 1)**2*sin(theta)**2 + (\\tilde{r}**3 + \\tilde{r}**2*\\tilde{r}_+ + \\tilde{r}*\\tilde{r}_+**2 + \\tilde{r}*a**2 + \\tilde{r} + \\tilde{r}_+**3 - \\tilde{r}_+*a**2 - 4*\\tilde{r}_+*a - \\tilde{r}_+)*(-\\tilde{r}**4*a**2 + \\tilde{r}**4 + \\tilde{r}**2*a**4*sin(theta)**2 - 2*\\tilde{r}**2*a**4 - \\tilde{r}**2*a**2*sin(theta)**2 + 2*\\tilde{r}**2*a**2 + 2*\\tilde{r}*\\tilde{r}_+*a**4*sin(theta)**2 + 4*\\tilde{r}*\\tilde{r}_+*a**3*sin(theta)**2 + 2*\\tilde{r}*\\tilde{r}_+*a**2*sin(theta)**2 + \\tilde{r}_+**4*a**2*sin(theta)**2 - \\tilde{r}_+**2*a**4*sin(theta)**2 - 4*\\tilde{r}_+**2*a**3*sin(theta)**2 - \\tilde{r}_+**2*a**2*sin(theta)**2 + a**6*sin(theta)**2 - a**6 + a**4))*sin(theta)**2/((a - 1)**2*(a + 1)**2*(4*(\\tilde{r} - \\tilde{r}_+)**2*(\\tilde{r}_+**2 - a)**2*(a + 1)**2 + (\\tilde{r}**4 - \\tilde{r}_+**4 - 2*a*(\\tilde{r}**2 - \\tilde{r}_+**2) + (\\tilde{r} - \\tilde{r}_+)**2*(a + 1)**2)**2))"
      ]
     },
     "execution_count": 18,
     "metadata": {},
     "output_type": "execute_result"
    }
   ],
   "source": [
    "condition = E * G - F * H\n",
    "condition = condition.simplify()\n",
    "condition"
   ]
  },
  {
   "attachments": {},
   "cell_type": "markdown",
   "metadata": {},
   "source": [
    "Remove positive denominator."
   ]
  },
  {
   "cell_type": "code",
   "execution_count": 19,
   "metadata": {},
   "outputs": [
    {
     "data": {
      "text/latex": [
       "$\\displaystyle \\left(\\tilde{r} - \\tilde{r}_+\\right) \\left(- 4 a^{2} \\left(\\tilde{r} - \\tilde{r}_+\\right) \\left(\\tilde{r}_+^{2} - a\\right)^{2} \\left(a + 1\\right)^{2} \\sin^{2}{\\left(\\theta \\right)} + \\left(\\tilde{r}^{3} + \\tilde{r}^{2} \\tilde{r}_+ + \\tilde{r} \\tilde{r}_+^{2} + \\tilde{r} a^{2} + \\tilde{r} + \\tilde{r}_+^{3} - \\tilde{r}_+ a^{2} - 4 \\tilde{r}_+ a - \\tilde{r}_+\\right) \\left(- \\tilde{r}^{4} a^{2} + \\tilde{r}^{4} + \\tilde{r}^{2} a^{4} \\sin^{2}{\\left(\\theta \\right)} - 2 \\tilde{r}^{2} a^{4} - \\tilde{r}^{2} a^{2} \\sin^{2}{\\left(\\theta \\right)} + 2 \\tilde{r}^{2} a^{2} + 2 \\tilde{r} \\tilde{r}_+ a^{4} \\sin^{2}{\\left(\\theta \\right)} + 4 \\tilde{r} \\tilde{r}_+ a^{3} \\sin^{2}{\\left(\\theta \\right)} + 2 \\tilde{r} \\tilde{r}_+ a^{2} \\sin^{2}{\\left(\\theta \\right)} + \\tilde{r}_+^{4} a^{2} \\sin^{2}{\\left(\\theta \\right)} - \\tilde{r}_+^{2} a^{4} \\sin^{2}{\\left(\\theta \\right)} - 4 \\tilde{r}_+^{2} a^{3} \\sin^{2}{\\left(\\theta \\right)} - \\tilde{r}_+^{2} a^{2} \\sin^{2}{\\left(\\theta \\right)} + a^{6} \\sin^{2}{\\left(\\theta \\right)} - a^{6} + a^{4}\\right)\\right) \\sin^{2}{\\left(\\theta \\right)}$"
      ],
      "text/plain": [
       "(\\tilde{r} - \\tilde{r}_+)*(-4*a**2*(\\tilde{r} - \\tilde{r}_+)*(\\tilde{r}_+**2 - a)**2*(a + 1)**2*sin(theta)**2 + (\\tilde{r}**3 + \\tilde{r}**2*\\tilde{r}_+ + \\tilde{r}*\\tilde{r}_+**2 + \\tilde{r}*a**2 + \\tilde{r} + \\tilde{r}_+**3 - \\tilde{r}_+*a**2 - 4*\\tilde{r}_+*a - \\tilde{r}_+)*(-\\tilde{r}**4*a**2 + \\tilde{r}**4 + \\tilde{r}**2*a**4*sin(theta)**2 - 2*\\tilde{r}**2*a**4 - \\tilde{r}**2*a**2*sin(theta)**2 + 2*\\tilde{r}**2*a**2 + 2*\\tilde{r}*\\tilde{r}_+*a**4*sin(theta)**2 + 4*\\tilde{r}*\\tilde{r}_+*a**3*sin(theta)**2 + 2*\\tilde{r}*\\tilde{r}_+*a**2*sin(theta)**2 + \\tilde{r}_+**4*a**2*sin(theta)**2 - \\tilde{r}_+**2*a**4*sin(theta)**2 - 4*\\tilde{r}_+**2*a**3*sin(theta)**2 - \\tilde{r}_+**2*a**2*sin(theta)**2 + a**6*sin(theta)**2 - a**6 + a**4))*sin(theta)**2"
      ]
     },
     "execution_count": 19,
     "metadata": {},
     "output_type": "execute_result"
    }
   ],
   "source": [
    "condition = sympy.fraction(condition)[0]\n",
    "condition"
   ]
  },
  {
   "attachments": {},
   "cell_type": "markdown",
   "metadata": {},
   "source": [
    "Remove $\\sin^2(\\theta)$ and $r-\\tilde{r}$."
   ]
  },
  {
   "cell_type": "code",
   "execution_count": 20,
   "metadata": {},
   "outputs": [
    {
     "data": {
      "text/latex": [
       "$\\displaystyle \\tilde{r}^{7} \\cdot \\left(1 - a^{2}\\right) + \\tilde{r}^{6} \\left(- \\tilde{r}_+ a^{2} + \\tilde{r}_+\\right) + \\tilde{r}^{5} \\left(- \\tilde{r}_+^{2} a^{2} + \\tilde{r}_+^{2} + a^{4} \\sin^{2}{\\left(\\theta \\right)} - 3 a^{4} - a^{2} \\sin^{2}{\\left(\\theta \\right)} + 2 a^{2} + 1\\right) + \\tilde{r}^{4} \\left(- \\tilde{r}_+^{3} a^{2} + \\tilde{r}_+^{3} + 3 \\tilde{r}_+ a^{4} \\sin^{2}{\\left(\\theta \\right)} - \\tilde{r}_+ a^{4} + 4 \\tilde{r}_+ a^{3} \\sin^{2}{\\left(\\theta \\right)} + 4 \\tilde{r}_+ a^{3} + \\tilde{r}_+ a^{2} \\sin^{2}{\\left(\\theta \\right)} + 2 \\tilde{r}_+ a^{2} - 4 \\tilde{r}_+ a - \\tilde{r}_+\\right) + \\tilde{r}^{3} \\left(\\tilde{r}_+^{4} a^{2} \\sin^{2}{\\left(\\theta \\right)} + 2 \\tilde{r}_+^{2} a^{4} \\sin^{2}{\\left(\\theta \\right)} - 2 \\tilde{r}_+^{2} a^{4} + 2 \\tilde{r}_+^{2} a^{2} + 2 a^{6} \\sin^{2}{\\left(\\theta \\right)} - 3 a^{6} + a^{4} - a^{2} \\sin^{2}{\\left(\\theta \\right)} + 2 a^{2}\\right) + \\tilde{r}^{2} \\left(\\tilde{r}_+^{5} a^{2} \\sin^{2}{\\left(\\theta \\right)} + 2 \\tilde{r}_+^{3} a^{4} \\sin^{2}{\\left(\\theta \\right)} - 2 \\tilde{r}_+^{3} a^{4} + 2 \\tilde{r}_+^{3} a^{2} + 2 \\tilde{r}_+ a^{6} \\sin^{2}{\\left(\\theta \\right)} + \\tilde{r}_+ a^{6} + 8 \\tilde{r}_+ a^{5} + 4 \\tilde{r}_+ a^{4} \\sin^{2}{\\left(\\theta \\right)} + \\tilde{r}_+ a^{4} + 8 \\tilde{r}_+ a^{3} \\sin^{2}{\\left(\\theta \\right)} - 8 \\tilde{r}_+ a^{3} + 3 \\tilde{r}_+ a^{2} \\sin^{2}{\\left(\\theta \\right)} - 2 \\tilde{r}_+ a^{2}\\right) + \\tilde{r} \\left(\\tilde{r}_+^{6} a^{2} \\sin^{2}{\\left(\\theta \\right)} - 2 \\tilde{r}_+^{4} a^{4} \\sin^{2}{\\left(\\theta \\right)} - 8 \\tilde{r}_+^{4} a^{3} \\sin^{2}{\\left(\\theta \\right)} - 2 \\tilde{r}_+^{4} a^{2} \\sin^{2}{\\left(\\theta \\right)} - 2 \\tilde{r}_+^{2} a^{6} \\sin^{2}{\\left(\\theta \\right)} - \\tilde{r}_+^{2} a^{6} - 8 \\tilde{r}_+^{2} a^{5} \\sin^{2}{\\left(\\theta \\right)} - 6 \\tilde{r}_+^{2} a^{4} \\sin^{2}{\\left(\\theta \\right)} + \\tilde{r}_+^{2} a^{4} - 8 \\tilde{r}_+^{2} a^{3} \\sin^{2}{\\left(\\theta \\right)} - 3 \\tilde{r}_+^{2} a^{2} \\sin^{2}{\\left(\\theta \\right)} + a^{8} \\sin^{2}{\\left(\\theta \\right)} - a^{8} - 3 a^{6} \\sin^{2}{\\left(\\theta \\right)} - 8 a^{5} \\sin^{2}{\\left(\\theta \\right)} - 4 a^{4} \\sin^{2}{\\left(\\theta \\right)} + a^{4}\\right) + \\tilde{r}_+^{7} a^{2} \\sin^{2}{\\left(\\theta \\right)} + 2 \\tilde{r}_+^{5} a^{4} \\sin^{2}{\\left(\\theta \\right)} + 2 \\tilde{r}_+^{5} a^{2} \\sin^{2}{\\left(\\theta \\right)} + 2 \\tilde{r}_+^{3} a^{6} \\sin^{2}{\\left(\\theta \\right)} - \\tilde{r}_+^{3} a^{6} + 2 \\tilde{r}_+^{3} a^{4} \\sin^{2}{\\left(\\theta \\right)} + \\tilde{r}_+^{3} a^{4} + \\tilde{r}_+^{3} a^{2} \\sin^{2}{\\left(\\theta \\right)} - \\tilde{r}_+ a^{8} \\sin^{2}{\\left(\\theta \\right)} + \\tilde{r}_+ a^{8} - 4 \\tilde{r}_+ a^{7} \\sin^{2}{\\left(\\theta \\right)} + 4 \\tilde{r}_+ a^{7} + 3 \\tilde{r}_+ a^{6} \\sin^{2}{\\left(\\theta \\right)} + 8 \\tilde{r}_+ a^{5} \\sin^{2}{\\left(\\theta \\right)} - 4 \\tilde{r}_+ a^{5} + 4 \\tilde{r}_+ a^{4} \\sin^{2}{\\left(\\theta \\right)} - \\tilde{r}_+ a^{4}$"
      ],
      "text/plain": [
       "\\tilde{r}**7*(1 - a**2) + \\tilde{r}**6*(-\\tilde{r}_+*a**2 + \\tilde{r}_+) + \\tilde{r}**5*(-\\tilde{r}_+**2*a**2 + \\tilde{r}_+**2 + a**4*sin(theta)**2 - 3*a**4 - a**2*sin(theta)**2 + 2*a**2 + 1) + \\tilde{r}**4*(-\\tilde{r}_+**3*a**2 + \\tilde{r}_+**3 + 3*\\tilde{r}_+*a**4*sin(theta)**2 - \\tilde{r}_+*a**4 + 4*\\tilde{r}_+*a**3*sin(theta)**2 + 4*\\tilde{r}_+*a**3 + \\tilde{r}_+*a**2*sin(theta)**2 + 2*\\tilde{r}_+*a**2 - 4*\\tilde{r}_+*a - \\tilde{r}_+) + \\tilde{r}**3*(\\tilde{r}_+**4*a**2*sin(theta)**2 + 2*\\tilde{r}_+**2*a**4*sin(theta)**2 - 2*\\tilde{r}_+**2*a**4 + 2*\\tilde{r}_+**2*a**2 + 2*a**6*sin(theta)**2 - 3*a**6 + a**4 - a**2*sin(theta)**2 + 2*a**2) + \\tilde{r}**2*(\\tilde{r}_+**5*a**2*sin(theta)**2 + 2*\\tilde{r}_+**3*a**4*sin(theta)**2 - 2*\\tilde{r}_+**3*a**4 + 2*\\tilde{r}_+**3*a**2 + 2*\\tilde{r}_+*a**6*sin(theta)**2 + \\tilde{r}_+*a**6 + 8*\\tilde{r}_+*a**5 + 4*\\tilde{r}_+*a**4*sin(theta)**2 + \\tilde{r}_+*a**4 + 8*\\tilde{r}_+*a**3*sin(theta)**2 - 8*\\tilde{r}_+*a**3 + 3*\\tilde{r}_+*a**2*sin(theta)**2 - 2*\\tilde{r}_+*a**2) + \\tilde{r}*(\\tilde{r}_+**6*a**2*sin(theta)**2 - 2*\\tilde{r}_+**4*a**4*sin(theta)**2 - 8*\\tilde{r}_+**4*a**3*sin(theta)**2 - 2*\\tilde{r}_+**4*a**2*sin(theta)**2 - 2*\\tilde{r}_+**2*a**6*sin(theta)**2 - \\tilde{r}_+**2*a**6 - 8*\\tilde{r}_+**2*a**5*sin(theta)**2 - 6*\\tilde{r}_+**2*a**4*sin(theta)**2 + \\tilde{r}_+**2*a**4 - 8*\\tilde{r}_+**2*a**3*sin(theta)**2 - 3*\\tilde{r}_+**2*a**2*sin(theta)**2 + a**8*sin(theta)**2 - a**8 - 3*a**6*sin(theta)**2 - 8*a**5*sin(theta)**2 - 4*a**4*sin(theta)**2 + a**4) + \\tilde{r}_+**7*a**2*sin(theta)**2 + 2*\\tilde{r}_+**5*a**4*sin(theta)**2 + 2*\\tilde{r}_+**5*a**2*sin(theta)**2 + 2*\\tilde{r}_+**3*a**6*sin(theta)**2 - \\tilde{r}_+**3*a**6 + 2*\\tilde{r}_+**3*a**4*sin(theta)**2 + \\tilde{r}_+**3*a**4 + \\tilde{r}_+**3*a**2*sin(theta)**2 - \\tilde{r}_+*a**8*sin(theta)**2 + \\tilde{r}_+*a**8 - 4*\\tilde{r}_+*a**7*sin(theta)**2 + 4*\\tilde{r}_+*a**7 + 3*\\tilde{r}_+*a**6*sin(theta)**2 + 8*\\tilde{r}_+*a**5*sin(theta)**2 - 4*\\tilde{r}_+*a**5 + 4*\\tilde{r}_+*a**4*sin(theta)**2 - \\tilde{r}_+*a**4"
      ]
     },
     "execution_count": 20,
     "metadata": {},
     "output_type": "execute_result"
    }
   ],
   "source": [
    "condition = condition.args[2].expand().simplify().factor().collect(metric_utils.r_tilde)\n",
    "condition"
   ]
  },
  {
   "attachments": {},
   "cell_type": "markdown",
   "metadata": {},
   "source": [
    "Try to solve for roots in advance."
   ]
  },
  {
   "cell_type": "code",
   "execution_count": 21,
   "metadata": {},
   "outputs": [
    {
     "data": {
      "text/plain": [
       "[]"
      ]
     },
     "execution_count": 21,
     "metadata": {},
     "output_type": "execute_result"
    }
   ],
   "source": [
    "sympy.solve(condition, metric_utils.r_tilde)"
   ]
  },
  {
   "attachments": {},
   "cell_type": "markdown",
   "metadata": {},
   "source": [
    "It takes O(1 s) to solve for roots for given parameter and $\\theta$ values."
   ]
  },
  {
   "cell_type": "code",
   "execution_count": 29,
   "metadata": {},
   "outputs": [
    {
     "data": {
      "text/latex": [
       "$\\displaystyle 0.99 \\tilde{r}^{7} + 0.396 \\tilde{r}^{6} + 1.170675 \\tilde{r}^{5} - 0.48279 \\tilde{r}^{4} + 0.0159825 \\tilde{r}^{3} + 0.0017466 \\tilde{r}^{2} - 0.0053989725 \\tilde{r} + 0.000752397$"
      ],
      "text/plain": [
       "0.99*\\tilde{r}**7 + 0.396*\\tilde{r}**6 + 1.170675*\\tilde{r}**5 - 0.48279*\\tilde{r}**4 + 0.0159825*\\tilde{r}**3 + 0.0017466*\\tilde{r}**2 - 0.0053989725*\\tilde{r} + 0.000752397"
      ]
     },
     "execution_count": 29,
     "metadata": {},
     "output_type": "execute_result"
    }
   ],
   "source": [
    "condition_pt = condition.subs({metric_utils.a: 0.1, metric_utils.r_tilde_plus: 0.4, metric_utils.theta: np.pi / 3})\n",
    "condition_pt"
   ]
  },
  {
   "cell_type": "code",
   "execution_count": 30,
   "metadata": {},
   "outputs": [
    {
     "name": "stdout",
     "output_type": "stream",
     "text": [
      "Took 0.08703899383544922 seconds to solve\n",
      "[-0.224497564838165, 0.133510565365379, 0.349031297367816]\n"
     ]
    }
   ],
   "source": [
    "t0 = time.time()\n",
    "roots = sympy.solve(condition_pt, metric_utils.r_tilde)\n",
    "print(f\"Took {time.time() - t0} seconds to solve\")\n",
    "print(roots)"
   ]
  },
  {
   "attachments": {},
   "cell_type": "markdown",
   "metadata": {},
   "source": [
    "Get leading coefficient."
   ]
  },
  {
   "cell_type": "code",
   "execution_count": 32,
   "metadata": {},
   "outputs": [
    {
     "data": {
      "text/latex": [
       "$\\displaystyle 1 - a^{2}$"
      ],
      "text/plain": [
       "1 - a**2"
      ]
     },
     "execution_count": 32,
     "metadata": {},
     "output_type": "execute_result"
    }
   ],
   "source": [
    "condition_coeffs = sympy.Poly(condition, metric_utils.r_tilde).all_coeffs()\n",
    "leading_coeff = condition_coeffs[0].simplify()\n",
    "leading_coeff"
   ]
  },
  {
   "attachments": {},
   "cell_type": "markdown",
   "metadata": {},
   "source": [
    "Evaluate admissibility."
   ]
  },
  {
   "cell_type": "code",
   "execution_count": 33,
   "metadata": {},
   "outputs": [],
   "source": [
    "admissible_evaluator = PointwiseAnalyticalRoots()\n",
    "admissible_maps = {}"
   ]
  },
  {
   "cell_type": "code",
   "execution_count": 34,
   "metadata": {},
   "outputs": [],
   "source": [
    "parameter_grid = config.grids['medium']"
   ]
  },
  {
   "cell_type": "code",
   "execution_count": 37,
   "metadata": {},
   "outputs": [
    {
     "name": "stdout",
     "output_type": "stream",
     "text": [
      "Running theta_0 ...\n"
     ]
    },
    {
     "name": "stderr",
     "output_type": "stream",
     "text": [
      " 32%|███▏      | 6482/20301 [00:11<00:00, 64385.33it/s]"
     ]
    },
    {
     "name": "stdout",
     "output_type": "stream",
     "text": [
      "No roots found for a = 1.0, r_tilde_plus = -1.0\n",
      "No roots found for a = 1.0, r_tilde_plus = -0.7999999999999998\n",
      "No roots found for a = 1.0, r_tilde_plus = -0.98\n",
      "No roots found for a = 1.0, r_tilde_plus = -0.7399999999999998\n",
      "No roots found for a = 1.0, r_tilde_plus = -0.94\n",
      "No roots found for a = 1.0, r_tilde_plus = -0.9199999999999999\n",
      "No roots found for a = 1.0, r_tilde_plus = -0.8199999999999998\n",
      "No roots found for a = 1.0, r_tilde_plus = -0.5199999999999996\n"
     ]
    },
    {
     "name": "stderr",
     "output_type": "stream",
     "text": [
      " 40%|████      | 8128/20301 [1:13:53<2:15:56,  1.49it/s]"
     ]
    },
    {
     "name": "stdout",
     "output_type": "stream",
     "text": [
      "No roots found for a = 1.0, r_tilde_plus = -0.8099999999999998\n"
     ]
    },
    {
     "name": "stderr",
     "output_type": "stream",
     "text": [
      " 55%|█████▌    | 11176/20301 [1:20:26<57:34,  2.64it/s]  "
     ]
    },
    {
     "name": "stdout",
     "output_type": "stream",
     "text": [
      "No roots found for a = 1.0, r_tilde_plus = -0.39999999999999947\n",
      "No roots found for a = 1.0, r_tilde_plus = -0.4499999999999995\n",
      "No roots found for a = 1.0, r_tilde_plus = -0.3299999999999994\n"
     ]
    },
    {
     "name": "stderr",
     "output_type": "stream",
     "text": [
      " 80%|████████  | 16256/20301 [3:19:07<51:23,  1.31it/s]  "
     ]
    },
    {
     "name": "stdout",
     "output_type": "stream",
     "text": [
      "No roots found for a = 1.0, r_tilde_plus = 0.21000000000000107\n",
      "No roots found for a = 1.0, r_tilde_plus = 0.40000000000000124\n",
      "No roots found for a = 1.0, r_tilde_plus = 0.41000000000000125\n",
      "No roots found for a = 1.0, r_tilde_plus = 0.3400000000000012\n",
      "No roots found for a = 1.0, r_tilde_plus = 0.140000000000001\n",
      "No roots found for a = 1.0, r_tilde_plus = 0.43000000000000127\n",
      "No roots found for a = 1.0, r_tilde_plus = 0.4500000000000013\n",
      "No roots found for a = 1.0, r_tilde_plus = 0.07000000000000095\n",
      "No roots found for a = 1.0, r_tilde_plus = 0.3700000000000012\n",
      "No roots found for a = 1.0, r_tilde_plus = 0.4600000000000013\n",
      "No roots found for a = 1.0, r_tilde_plus = 0.4700000000000013\n",
      "No roots found for a = 1.0, r_tilde_plus = 0.29000000000000115\n",
      "No roots found for a = 1.0, r_tilde_plus = 0.4800000000000013\n"
     ]
    },
    {
     "name": "stderr",
     "output_type": "stream",
     "text": [
      "100%|██████████| 20301/20301 [4:56:00<00:00,  1.14it/s]  \n"
     ]
    },
    {
     "name": "stdout",
     "output_type": "stream",
     "text": [
      "No roots found for a = 1.0, r_tilde_plus = 0.4900000000000013\n",
      "No roots found for a = 1.0, r_tilde_plus = 0.8100000000000016\n",
      "No roots found for a = 1.0, r_tilde_plus = 0.8200000000000016\n",
      "No roots found for a = 1.0, r_tilde_plus = 0.5300000000000014\n",
      "No roots found for a = 1.0, r_tilde_plus = 0.8300000000000016\n",
      "No roots found for a = 1.0, r_tilde_plus = 0.9200000000000017\n",
      "No roots found for a = 1.0, r_tilde_plus = 0.5400000000000014\n",
      "No roots found for a = 1.0, r_tilde_plus = 0.6500000000000015\n",
      "No roots found for a = 1.0, r_tilde_plus = 0.8500000000000016\n",
      "No roots found for a = 1.0, r_tilde_plus = 0.5600000000000014\n",
      "No roots found for a = 1.0, r_tilde_plus = 0.7600000000000016\n",
      "No roots found for a = 1.0, r_tilde_plus = 0.5700000000000014\n",
      "No roots found for a = 1.0, r_tilde_plus = 0.9600000000000017\n",
      "No roots found for a = 1.0, r_tilde_plus = 0.5900000000000014\n",
      "No roots found for a = 1.0, r_tilde_plus = 0.7900000000000016\n",
      "No roots found for a = 1.0, r_tilde_plus = 0.9800000000000018\n",
      "No roots found for a = 1.0, r_tilde_plus = 0.8000000000000016\n",
      "No roots found for a = 1.0, r_tilde_plus = 0.9000000000000017\n",
      "No roots found for a = 1.0, r_tilde_plus = 0.9900000000000018\n",
      "No roots found for a = 1.0, r_tilde_plus = 1.0000000000000018\n",
      "Running theta_pi_4 ...\n"
     ]
    },
    {
     "name": "stderr",
     "output_type": "stream",
     "text": [
      " 65%|██████▌   | 13208/20301 [1:59:20<1:21:24,  1.45it/s]"
     ]
    },
    {
     "name": "stdout",
     "output_type": "stream",
     "text": [
      "No roots found for a = 1.0, r_tilde_plus = 8.881784197001252e-16\n"
     ]
    },
    {
     "name": "stderr",
     "output_type": "stream",
     "text": [
      " 70%|███████   | 14224/20301 [2:03:54<58:36,  1.73it/s]  "
     ]
    },
    {
     "name": "stdout",
     "output_type": "stream",
     "text": [
      "No roots found for a = 1.0, r_tilde_plus = 0.010000000000000897\n"
     ]
    },
    {
     "name": "stderr",
     "output_type": "stream",
     "text": [
      " 75%|███████▌  | 15240/20301 [2:08:01<40:49,  2.07it/s]"
     ]
    },
    {
     "name": "stdout",
     "output_type": "stream",
     "text": [
      "No roots found for a = 1.0, r_tilde_plus = -0.00999999999999912\n"
     ]
    },
    {
     "name": "stderr",
     "output_type": "stream",
     "text": [
      "100%|██████████| 20301/20301 [3:03:45<00:00,  1.84it/s]\n"
     ]
    },
    {
     "name": "stdout",
     "output_type": "stream",
     "text": [
      "Running theta_pi_2 ...\n"
     ]
    },
    {
     "name": "stderr",
     "output_type": "stream",
     "text": [
      " 60%|██████    | 12192/20301 [2:00:21<2:04:32,  1.09it/s]"
     ]
    },
    {
     "name": "stdout",
     "output_type": "stream",
     "text": [
      "No roots found for a = 1.0, r_tilde_plus = 8.881784197001252e-16\n"
     ]
    },
    {
     "name": "stderr",
     "output_type": "stream",
     "text": [
      " 70%|███████   | 14224/20301 [2:07:12<59:05,  1.71it/s]  "
     ]
    },
    {
     "name": "stdout",
     "output_type": "stream",
     "text": [
      "No roots found for a = 1.0, r_tilde_plus = 0.010000000000000897\n"
     ]
    },
    {
     "name": "stderr",
     "output_type": "stream",
     "text": [
      " 75%|███████▌  | 15240/20301 [2:11:32<41:24,  2.04it/s]"
     ]
    },
    {
     "name": "stdout",
     "output_type": "stream",
     "text": [
      "No roots found for a = 1.0, r_tilde_plus = -0.00999999999999912\n"
     ]
    },
    {
     "name": "stderr",
     "output_type": "stream",
     "text": [
      "100%|██████████| 20301/20301 [3:07:41<00:00,  1.80it/s]\n"
     ]
    },
    {
     "name": "stdout",
     "output_type": "stream",
     "text": [
      "Running theta_3_pi_4 ...\n"
     ]
    },
    {
     "name": "stderr",
     "output_type": "stream",
     "text": [
      " 40%|████      | 8127/20301 [00:47<01:10, 172.70it/s]\n"
     ]
    },
    {
     "ename": "KeyboardInterrupt",
     "evalue": "",
     "output_type": "error",
     "traceback": [
      "\u001b[0;31m---------------------------------------------------------------------------\u001b[0m",
      "\u001b[0;31mKeyboardInterrupt\u001b[0m                         Traceback (most recent call last)",
      "Cell \u001b[0;32mIn[37], line 6\u001b[0m\n\u001b[1;32m      4\u001b[0m \u001b[39m# conduct sweep\u001b[39;00m\n\u001b[1;32m      5\u001b[0m filename_data \u001b[39m=\u001b[39m \u001b[39mf\u001b[39m\u001b[39m\"\u001b[39m\u001b[39m{\u001b[39;00mdata_dir_path\u001b[39m}\u001b[39;00m\u001b[39m/\u001b[39m\u001b[39m{\u001b[39;00mfilename_base\u001b[39m}\u001b[39;00m\u001b[39m.\u001b[39m\u001b[39m{\u001b[39;00mtheta_name\u001b[39m}\u001b[39;00m\u001b[39m.pk\u001b[39m\u001b[39m\"\u001b[39m\n\u001b[0;32m----> 6\u001b[0m admissible_maps[theta_val] \u001b[39m=\u001b[39m admissible_evaluator\u001b[39m.\u001b[39;49madmissibility_parallel(\n\u001b[1;32m      7\u001b[0m     parameter_grid, theta_val, condition, leading_coeff, filename_data, proc_count\u001b[39m=\u001b[39;49m\u001b[39m5\u001b[39;49m\n\u001b[1;32m      8\u001b[0m )\n\u001b[1;32m     10\u001b[0m \u001b[39m# save plot\u001b[39;00m\n\u001b[1;32m     11\u001b[0m filename_plot \u001b[39m=\u001b[39m \u001b[39mf\u001b[39m\u001b[39m\"\u001b[39m\u001b[39m{\u001b[39;00mfigure_dir_path\u001b[39m}\u001b[39;00m\u001b[39m/\u001b[39m\u001b[39m{\u001b[39;00mfilename_base\u001b[39m}\u001b[39;00m\u001b[39m.\u001b[39m\u001b[39m{\u001b[39;00mtheta_name\u001b[39m}\u001b[39;00m\u001b[39m.pdf\u001b[39m\u001b[39m\"\u001b[39m\n",
      "File \u001b[0;32m~/src/complex_spacetime_metrics/complex_spacetime_metrics/admissibility.py:155\u001b[0m, in \u001b[0;36mPointwiseAnalyticalRoots.admissibility_parallel\u001b[0;34m(self, pgrid, theta_val, condition, discrim, filename, proc_count)\u001b[0m\n\u001b[1;32m    149\u001b[0m args_parallel \u001b[39m=\u001b[39m [\n\u001b[1;32m    150\u001b[0m     (a_val, r_tilde_plus_val, condition_theta, discrim_theta)\n\u001b[1;32m    151\u001b[0m     \u001b[39mfor\u001b[39;00m a_val, r_tilde_plus_val \u001b[39min\u001b[39;00m \u001b[39mzip\u001b[39m(pgrid\u001b[39m.\u001b[39ma_vals_grid\u001b[39m.\u001b[39mflatten(), pgrid\u001b[39m.\u001b[39mr_tilde_plus_vals_grid\u001b[39m.\u001b[39mflatten())\n\u001b[1;32m    152\u001b[0m ]\n\u001b[1;32m    154\u001b[0m \u001b[39mwith\u001b[39;00m Pool(proc_count) \u001b[39mas\u001b[39;00m pool:\n\u001b[0;32m--> 155\u001b[0m     results \u001b[39m=\u001b[39m pool\u001b[39m.\u001b[39;49mstarmap(\u001b[39mself\u001b[39;49m\u001b[39m.\u001b[39;49m_check_if_admissible, tqdm(args_parallel, total\u001b[39m=\u001b[39;49m\u001b[39mlen\u001b[39;49m(args_parallel)))\n\u001b[1;32m    157\u001b[0m admissible_map \u001b[39m=\u001b[39m np\u001b[39m.\u001b[39marray(results)\u001b[39m.\u001b[39mreshape(pgrid\u001b[39m.\u001b[39mgrid_size)\n\u001b[1;32m    159\u001b[0m \u001b[39mif\u001b[39;00m filename:\n",
      "File \u001b[0;32m~/.pyenv/versions/3.10.3/lib/python3.10/multiprocessing/pool.py:372\u001b[0m, in \u001b[0;36mPool.starmap\u001b[0;34m(self, func, iterable, chunksize)\u001b[0m\n\u001b[1;32m    366\u001b[0m \u001b[39mdef\u001b[39;00m \u001b[39mstarmap\u001b[39m(\u001b[39mself\u001b[39m, func, iterable, chunksize\u001b[39m=\u001b[39m\u001b[39mNone\u001b[39;00m):\n\u001b[1;32m    367\u001b[0m \u001b[39m    \u001b[39m\u001b[39m'''\u001b[39;00m\n\u001b[1;32m    368\u001b[0m \u001b[39m    Like `map()` method but the elements of the `iterable` are expected to\u001b[39;00m\n\u001b[1;32m    369\u001b[0m \u001b[39m    be iterables as well and will be unpacked as arguments. Hence\u001b[39;00m\n\u001b[1;32m    370\u001b[0m \u001b[39m    `func` and (a, b) becomes func(a, b).\u001b[39;00m\n\u001b[1;32m    371\u001b[0m \u001b[39m    '''\u001b[39;00m\n\u001b[0;32m--> 372\u001b[0m     \u001b[39mreturn\u001b[39;00m \u001b[39mself\u001b[39;49m\u001b[39m.\u001b[39;49m_map_async(func, iterable, starmapstar, chunksize)\u001b[39m.\u001b[39;49mget()\n",
      "File \u001b[0;32m~/.pyenv/versions/3.10.3/lib/python3.10/multiprocessing/pool.py:765\u001b[0m, in \u001b[0;36mApplyResult.get\u001b[0;34m(self, timeout)\u001b[0m\n\u001b[1;32m    764\u001b[0m \u001b[39mdef\u001b[39;00m \u001b[39mget\u001b[39m(\u001b[39mself\u001b[39m, timeout\u001b[39m=\u001b[39m\u001b[39mNone\u001b[39;00m):\n\u001b[0;32m--> 765\u001b[0m     \u001b[39mself\u001b[39;49m\u001b[39m.\u001b[39;49mwait(timeout)\n\u001b[1;32m    766\u001b[0m     \u001b[39mif\u001b[39;00m \u001b[39mnot\u001b[39;00m \u001b[39mself\u001b[39m\u001b[39m.\u001b[39mready():\n\u001b[1;32m    767\u001b[0m         \u001b[39mraise\u001b[39;00m \u001b[39mTimeoutError\u001b[39;00m\n",
      "File \u001b[0;32m~/.pyenv/versions/3.10.3/lib/python3.10/multiprocessing/pool.py:762\u001b[0m, in \u001b[0;36mApplyResult.wait\u001b[0;34m(self, timeout)\u001b[0m\n\u001b[1;32m    761\u001b[0m \u001b[39mdef\u001b[39;00m \u001b[39mwait\u001b[39m(\u001b[39mself\u001b[39m, timeout\u001b[39m=\u001b[39m\u001b[39mNone\u001b[39;00m):\n\u001b[0;32m--> 762\u001b[0m     \u001b[39mself\u001b[39;49m\u001b[39m.\u001b[39;49m_event\u001b[39m.\u001b[39;49mwait(timeout)\n",
      "File \u001b[0;32m~/.pyenv/versions/3.10.3/lib/python3.10/threading.py:600\u001b[0m, in \u001b[0;36mEvent.wait\u001b[0;34m(self, timeout)\u001b[0m\n\u001b[1;32m    598\u001b[0m signaled \u001b[39m=\u001b[39m \u001b[39mself\u001b[39m\u001b[39m.\u001b[39m_flag\n\u001b[1;32m    599\u001b[0m \u001b[39mif\u001b[39;00m \u001b[39mnot\u001b[39;00m signaled:\n\u001b[0;32m--> 600\u001b[0m     signaled \u001b[39m=\u001b[39m \u001b[39mself\u001b[39;49m\u001b[39m.\u001b[39;49m_cond\u001b[39m.\u001b[39;49mwait(timeout)\n\u001b[1;32m    601\u001b[0m \u001b[39mreturn\u001b[39;00m signaled\n",
      "File \u001b[0;32m~/.pyenv/versions/3.10.3/lib/python3.10/threading.py:320\u001b[0m, in \u001b[0;36mCondition.wait\u001b[0;34m(self, timeout)\u001b[0m\n\u001b[1;32m    318\u001b[0m \u001b[39mtry\u001b[39;00m:    \u001b[39m# restore state no matter what (e.g., KeyboardInterrupt)\u001b[39;00m\n\u001b[1;32m    319\u001b[0m     \u001b[39mif\u001b[39;00m timeout \u001b[39mis\u001b[39;00m \u001b[39mNone\u001b[39;00m:\n\u001b[0;32m--> 320\u001b[0m         waiter\u001b[39m.\u001b[39;49macquire()\n\u001b[1;32m    321\u001b[0m         gotit \u001b[39m=\u001b[39m \u001b[39mTrue\u001b[39;00m\n\u001b[1;32m    322\u001b[0m     \u001b[39melse\u001b[39;00m:\n",
      "\u001b[0;31mKeyboardInterrupt\u001b[0m: "
     ]
    }
   ],
   "source": [
    "for theta_name, theta_val in config.thetas.items():\n",
    "    print(f\"Running {theta_name} ...\")\n",
    "\n",
    "    # conduct sweep\n",
    "    filename_data = f\"{data_dir_path}/{filename_base}.{theta_name}.pk\"\n",
    "    admissible_maps[theta_val] = admissible_evaluator.admissibility_parallel(\n",
    "        parameter_grid, theta_val, condition, leading_coeff, filename_data, proc_count=5\n",
    "    )\n",
    "\n",
    "    # save plot\n",
    "    filename_plot = f\"{figure_dir_path}/{filename_base}.{theta_name}.pdf\"\n",
    "    plot_admissibility(parameter_grid, admissible_maps[theta_val], filename_plot)"
   ]
  }
 ],
 "metadata": {
  "kernelspec": {
   "display_name": "env",
   "language": "python",
   "name": "python3"
  },
  "language_info": {
   "codemirror_mode": {
    "name": "ipython",
    "version": 3
   },
   "file_extension": ".py",
   "mimetype": "text/x-python",
   "name": "python",
   "nbconvert_exporter": "python",
   "pygments_lexer": "ipython3",
   "version": "3.10.3"
  },
  "orig_nbformat": 4
 },
 "nbformat": 4,
 "nbformat_minor": 2
}
