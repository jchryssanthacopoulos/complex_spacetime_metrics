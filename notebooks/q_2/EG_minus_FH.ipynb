{
 "cells": [
  {
   "cell_type": "code",
   "execution_count": 1,
   "metadata": {},
   "outputs": [],
   "source": [
    "import time\n",
    "\n",
    "import numpy as np\n",
    "import sympy\n",
    "\n",
    "from complex_spacetime_metrics import config\n",
    "from complex_spacetime_metrics import metric as metric_utils\n",
    "from complex_spacetime_metrics.admissibility import PointwiseAnalyticalRoots\n",
    "from complex_spacetime_metrics.plot import plot_admissibility"
   ]
  },
  {
   "cell_type": "code",
   "execution_count": 2,
   "metadata": {},
   "outputs": [],
   "source": [
    "q_val = \"q_2\"\n",
    "filename_base = \"EG_minus_FH\""
   ]
  },
  {
   "cell_type": "code",
   "execution_count": 3,
   "metadata": {},
   "outputs": [],
   "source": [
    "data_dir_path = f\"../../data/{q_val}\"\n",
    "figure_dir_path = f\"../../figures/{q_val}\""
   ]
  },
  {
   "cell_type": "code",
   "execution_count": 4,
   "metadata": {},
   "outputs": [],
   "source": [
    "metric = metric_utils.Metric3D()\n",
    "metric_coeffs = metric.coefficients()"
   ]
  },
  {
   "cell_type": "code",
   "execution_count": 5,
   "metadata": {},
   "outputs": [],
   "source": [
    "E = metric_coeffs[metric_utils.E]\n",
    "F = metric_coeffs[metric_utils.F]\n",
    "G = metric_coeffs[metric_utils.G]\n",
    "H = metric_coeffs[metric_utils.H]"
   ]
  },
  {
   "cell_type": "code",
   "execution_count": 6,
   "metadata": {},
   "outputs": [
    {
     "data": {
      "text/latex": [
       "$\\displaystyle \\frac{\\left(\\tilde{r} - \\tilde{r}_+\\right) \\left(- 4 a^{2} \\left(\\tilde{r} - \\tilde{r}_+\\right) \\left(\\tilde{r}_+^{2} - a\\right)^{2} \\left(a + 1\\right)^{2} \\sin^{2}{\\left(\\theta \\right)} + \\left(\\tilde{r}^{3} + \\tilde{r}^{2} \\tilde{r}_+ + \\tilde{r} \\tilde{r}_+^{2} + \\tilde{r} a^{2} + \\tilde{r} + \\tilde{r}_+^{3} - \\tilde{r}_+ a^{2} - 4 \\tilde{r}_+ a - \\tilde{r}_+\\right) \\left(- \\tilde{r}^{4} a^{2} + \\tilde{r}^{4} + \\tilde{r}^{2} a^{4} \\sin^{2}{\\left(\\theta \\right)} - 2 \\tilde{r}^{2} a^{4} - \\tilde{r}^{2} a^{2} \\sin^{2}{\\left(\\theta \\right)} + 2 \\tilde{r}^{2} a^{2} + 2 \\tilde{r} \\tilde{r}_+ a^{4} \\sin^{2}{\\left(\\theta \\right)} + 4 \\tilde{r} \\tilde{r}_+ a^{3} \\sin^{2}{\\left(\\theta \\right)} + 2 \\tilde{r} \\tilde{r}_+ a^{2} \\sin^{2}{\\left(\\theta \\right)} + \\tilde{r}_+^{4} a^{2} \\sin^{2}{\\left(\\theta \\right)} - \\tilde{r}_+^{2} a^{4} \\sin^{2}{\\left(\\theta \\right)} - 4 \\tilde{r}_+^{2} a^{3} \\sin^{2}{\\left(\\theta \\right)} - \\tilde{r}_+^{2} a^{2} \\sin^{2}{\\left(\\theta \\right)} + a^{6} \\sin^{2}{\\left(\\theta \\right)} - a^{6} + a^{4}\\right)\\right) \\sin^{2}{\\left(\\theta \\right)}}{\\left(a - 1\\right)^{2} \\left(a + 1\\right)^{2} \\cdot \\left(4 \\left(\\tilde{r} - \\tilde{r}_+\\right)^{2} \\left(\\tilde{r}_+^{2} - a\\right)^{2} \\left(a + 1\\right)^{2} + \\left(\\tilde{r}^{4} - \\tilde{r}_+^{4} - 2 a \\left(\\tilde{r}^{2} - \\tilde{r}_+^{2}\\right) + \\left(\\tilde{r} - \\tilde{r}_+\\right)^{2} \\left(a + 1\\right)^{2}\\right)^{2}\\right)}$"
      ],
      "text/plain": [
       "(\\tilde{r} - \\tilde{r}_+)*(-4*a**2*(\\tilde{r} - \\tilde{r}_+)*(\\tilde{r}_+**2 - a)**2*(a + 1)**2*sin(theta)**2 + (\\tilde{r}**3 + \\tilde{r}**2*\\tilde{r}_+ + \\tilde{r}*\\tilde{r}_+**2 + \\tilde{r}*a**2 + \\tilde{r} + \\tilde{r}_+**3 - \\tilde{r}_+*a**2 - 4*\\tilde{r}_+*a - \\tilde{r}_+)*(-\\tilde{r}**4*a**2 + \\tilde{r}**4 + \\tilde{r}**2*a**4*sin(theta)**2 - 2*\\tilde{r}**2*a**4 - \\tilde{r}**2*a**2*sin(theta)**2 + 2*\\tilde{r}**2*a**2 + 2*\\tilde{r}*\\tilde{r}_+*a**4*sin(theta)**2 + 4*\\tilde{r}*\\tilde{r}_+*a**3*sin(theta)**2 + 2*\\tilde{r}*\\tilde{r}_+*a**2*sin(theta)**2 + \\tilde{r}_+**4*a**2*sin(theta)**2 - \\tilde{r}_+**2*a**4*sin(theta)**2 - 4*\\tilde{r}_+**2*a**3*sin(theta)**2 - \\tilde{r}_+**2*a**2*sin(theta)**2 + a**6*sin(theta)**2 - a**6 + a**4))*sin(theta)**2/((a - 1)**2*(a + 1)**2*(4*(\\tilde{r} - \\tilde{r}_+)**2*(\\tilde{r}_+**2 - a)**2*(a + 1)**2 + (\\tilde{r}**4 - \\tilde{r}_+**4 - 2*a*(\\tilde{r}**2 - \\tilde{r}_+**2) + (\\tilde{r} - \\tilde{r}_+)**2*(a + 1)**2)**2))"
      ]
     },
     "execution_count": 6,
     "metadata": {},
     "output_type": "execute_result"
    }
   ],
   "source": [
    "condition = E * G - F * H\n",
    "condition = condition.simplify()\n",
    "condition"
   ]
  },
  {
   "attachments": {},
   "cell_type": "markdown",
   "metadata": {},
   "source": [
    "Remove positive denominator."
   ]
  },
  {
   "cell_type": "code",
   "execution_count": 7,
   "metadata": {},
   "outputs": [
    {
     "data": {
      "text/latex": [
       "$\\displaystyle \\left(\\tilde{r} - \\tilde{r}_+\\right) \\left(- 4 a^{2} \\left(\\tilde{r} - \\tilde{r}_+\\right) \\left(\\tilde{r}_+^{2} - a\\right)^{2} \\left(a + 1\\right)^{2} \\sin^{2}{\\left(\\theta \\right)} + \\left(\\tilde{r}^{3} + \\tilde{r}^{2} \\tilde{r}_+ + \\tilde{r} \\tilde{r}_+^{2} + \\tilde{r} a^{2} + \\tilde{r} + \\tilde{r}_+^{3} - \\tilde{r}_+ a^{2} - 4 \\tilde{r}_+ a - \\tilde{r}_+\\right) \\left(- \\tilde{r}^{4} a^{2} + \\tilde{r}^{4} + \\tilde{r}^{2} a^{4} \\sin^{2}{\\left(\\theta \\right)} - 2 \\tilde{r}^{2} a^{4} - \\tilde{r}^{2} a^{2} \\sin^{2}{\\left(\\theta \\right)} + 2 \\tilde{r}^{2} a^{2} + 2 \\tilde{r} \\tilde{r}_+ a^{4} \\sin^{2}{\\left(\\theta \\right)} + 4 \\tilde{r} \\tilde{r}_+ a^{3} \\sin^{2}{\\left(\\theta \\right)} + 2 \\tilde{r} \\tilde{r}_+ a^{2} \\sin^{2}{\\left(\\theta \\right)} + \\tilde{r}_+^{4} a^{2} \\sin^{2}{\\left(\\theta \\right)} - \\tilde{r}_+^{2} a^{4} \\sin^{2}{\\left(\\theta \\right)} - 4 \\tilde{r}_+^{2} a^{3} \\sin^{2}{\\left(\\theta \\right)} - \\tilde{r}_+^{2} a^{2} \\sin^{2}{\\left(\\theta \\right)} + a^{6} \\sin^{2}{\\left(\\theta \\right)} - a^{6} + a^{4}\\right)\\right) \\sin^{2}{\\left(\\theta \\right)}$"
      ],
      "text/plain": [
       "(\\tilde{r} - \\tilde{r}_+)*(-4*a**2*(\\tilde{r} - \\tilde{r}_+)*(\\tilde{r}_+**2 - a)**2*(a + 1)**2*sin(theta)**2 + (\\tilde{r}**3 + \\tilde{r}**2*\\tilde{r}_+ + \\tilde{r}*\\tilde{r}_+**2 + \\tilde{r}*a**2 + \\tilde{r} + \\tilde{r}_+**3 - \\tilde{r}_+*a**2 - 4*\\tilde{r}_+*a - \\tilde{r}_+)*(-\\tilde{r}**4*a**2 + \\tilde{r}**4 + \\tilde{r}**2*a**4*sin(theta)**2 - 2*\\tilde{r}**2*a**4 - \\tilde{r}**2*a**2*sin(theta)**2 + 2*\\tilde{r}**2*a**2 + 2*\\tilde{r}*\\tilde{r}_+*a**4*sin(theta)**2 + 4*\\tilde{r}*\\tilde{r}_+*a**3*sin(theta)**2 + 2*\\tilde{r}*\\tilde{r}_+*a**2*sin(theta)**2 + \\tilde{r}_+**4*a**2*sin(theta)**2 - \\tilde{r}_+**2*a**4*sin(theta)**2 - 4*\\tilde{r}_+**2*a**3*sin(theta)**2 - \\tilde{r}_+**2*a**2*sin(theta)**2 + a**6*sin(theta)**2 - a**6 + a**4))*sin(theta)**2"
      ]
     },
     "execution_count": 7,
     "metadata": {},
     "output_type": "execute_result"
    }
   ],
   "source": [
    "condition = sympy.fraction(condition)[0]\n",
    "condition"
   ]
  },
  {
   "attachments": {},
   "cell_type": "markdown",
   "metadata": {},
   "source": [
    "Remove $\\sin^2(\\theta)$ and $r-\\tilde{r}$."
   ]
  },
  {
   "cell_type": "code",
   "execution_count": 8,
   "metadata": {},
   "outputs": [
    {
     "data": {
      "text/latex": [
       "$\\displaystyle \\tilde{r}^{7} \\cdot \\left(1 - a^{2}\\right) + \\tilde{r}^{6} \\left(- \\tilde{r}_+ a^{2} + \\tilde{r}_+\\right) + \\tilde{r}^{5} \\left(- \\tilde{r}_+^{2} a^{2} + \\tilde{r}_+^{2} + a^{4} \\sin^{2}{\\left(\\theta \\right)} - 3 a^{4} - a^{2} \\sin^{2}{\\left(\\theta \\right)} + 2 a^{2} + 1\\right) + \\tilde{r}^{4} \\left(- \\tilde{r}_+^{3} a^{2} + \\tilde{r}_+^{3} + 3 \\tilde{r}_+ a^{4} \\sin^{2}{\\left(\\theta \\right)} - \\tilde{r}_+ a^{4} + 4 \\tilde{r}_+ a^{3} \\sin^{2}{\\left(\\theta \\right)} + 4 \\tilde{r}_+ a^{3} + \\tilde{r}_+ a^{2} \\sin^{2}{\\left(\\theta \\right)} + 2 \\tilde{r}_+ a^{2} - 4 \\tilde{r}_+ a - \\tilde{r}_+\\right) + \\tilde{r}^{3} \\left(\\tilde{r}_+^{4} a^{2} \\sin^{2}{\\left(\\theta \\right)} + 2 \\tilde{r}_+^{2} a^{4} \\sin^{2}{\\left(\\theta \\right)} - 2 \\tilde{r}_+^{2} a^{4} + 2 \\tilde{r}_+^{2} a^{2} + 2 a^{6} \\sin^{2}{\\left(\\theta \\right)} - 3 a^{6} + a^{4} - a^{2} \\sin^{2}{\\left(\\theta \\right)} + 2 a^{2}\\right) + \\tilde{r}^{2} \\left(\\tilde{r}_+^{5} a^{2} \\sin^{2}{\\left(\\theta \\right)} + 2 \\tilde{r}_+^{3} a^{4} \\sin^{2}{\\left(\\theta \\right)} - 2 \\tilde{r}_+^{3} a^{4} + 2 \\tilde{r}_+^{3} a^{2} + 2 \\tilde{r}_+ a^{6} \\sin^{2}{\\left(\\theta \\right)} + \\tilde{r}_+ a^{6} + 8 \\tilde{r}_+ a^{5} + 4 \\tilde{r}_+ a^{4} \\sin^{2}{\\left(\\theta \\right)} + \\tilde{r}_+ a^{4} + 8 \\tilde{r}_+ a^{3} \\sin^{2}{\\left(\\theta \\right)} - 8 \\tilde{r}_+ a^{3} + 3 \\tilde{r}_+ a^{2} \\sin^{2}{\\left(\\theta \\right)} - 2 \\tilde{r}_+ a^{2}\\right) + \\tilde{r} \\left(\\tilde{r}_+^{6} a^{2} \\sin^{2}{\\left(\\theta \\right)} - 2 \\tilde{r}_+^{4} a^{4} \\sin^{2}{\\left(\\theta \\right)} - 8 \\tilde{r}_+^{4} a^{3} \\sin^{2}{\\left(\\theta \\right)} - 2 \\tilde{r}_+^{4} a^{2} \\sin^{2}{\\left(\\theta \\right)} - 2 \\tilde{r}_+^{2} a^{6} \\sin^{2}{\\left(\\theta \\right)} - \\tilde{r}_+^{2} a^{6} - 8 \\tilde{r}_+^{2} a^{5} \\sin^{2}{\\left(\\theta \\right)} - 6 \\tilde{r}_+^{2} a^{4} \\sin^{2}{\\left(\\theta \\right)} + \\tilde{r}_+^{2} a^{4} - 8 \\tilde{r}_+^{2} a^{3} \\sin^{2}{\\left(\\theta \\right)} - 3 \\tilde{r}_+^{2} a^{2} \\sin^{2}{\\left(\\theta \\right)} + a^{8} \\sin^{2}{\\left(\\theta \\right)} - a^{8} - 3 a^{6} \\sin^{2}{\\left(\\theta \\right)} - 8 a^{5} \\sin^{2}{\\left(\\theta \\right)} - 4 a^{4} \\sin^{2}{\\left(\\theta \\right)} + a^{4}\\right) + \\tilde{r}_+^{7} a^{2} \\sin^{2}{\\left(\\theta \\right)} + 2 \\tilde{r}_+^{5} a^{4} \\sin^{2}{\\left(\\theta \\right)} + 2 \\tilde{r}_+^{5} a^{2} \\sin^{2}{\\left(\\theta \\right)} + 2 \\tilde{r}_+^{3} a^{6} \\sin^{2}{\\left(\\theta \\right)} - \\tilde{r}_+^{3} a^{6} + 2 \\tilde{r}_+^{3} a^{4} \\sin^{2}{\\left(\\theta \\right)} + \\tilde{r}_+^{3} a^{4} + \\tilde{r}_+^{3} a^{2} \\sin^{2}{\\left(\\theta \\right)} - \\tilde{r}_+ a^{8} \\sin^{2}{\\left(\\theta \\right)} + \\tilde{r}_+ a^{8} - 4 \\tilde{r}_+ a^{7} \\sin^{2}{\\left(\\theta \\right)} + 4 \\tilde{r}_+ a^{7} + 3 \\tilde{r}_+ a^{6} \\sin^{2}{\\left(\\theta \\right)} + 8 \\tilde{r}_+ a^{5} \\sin^{2}{\\left(\\theta \\right)} - 4 \\tilde{r}_+ a^{5} + 4 \\tilde{r}_+ a^{4} \\sin^{2}{\\left(\\theta \\right)} - \\tilde{r}_+ a^{4}$"
      ],
      "text/plain": [
       "\\tilde{r}**7*(1 - a**2) + \\tilde{r}**6*(-\\tilde{r}_+*a**2 + \\tilde{r}_+) + \\tilde{r}**5*(-\\tilde{r}_+**2*a**2 + \\tilde{r}_+**2 + a**4*sin(theta)**2 - 3*a**4 - a**2*sin(theta)**2 + 2*a**2 + 1) + \\tilde{r}**4*(-\\tilde{r}_+**3*a**2 + \\tilde{r}_+**3 + 3*\\tilde{r}_+*a**4*sin(theta)**2 - \\tilde{r}_+*a**4 + 4*\\tilde{r}_+*a**3*sin(theta)**2 + 4*\\tilde{r}_+*a**3 + \\tilde{r}_+*a**2*sin(theta)**2 + 2*\\tilde{r}_+*a**2 - 4*\\tilde{r}_+*a - \\tilde{r}_+) + \\tilde{r}**3*(\\tilde{r}_+**4*a**2*sin(theta)**2 + 2*\\tilde{r}_+**2*a**4*sin(theta)**2 - 2*\\tilde{r}_+**2*a**4 + 2*\\tilde{r}_+**2*a**2 + 2*a**6*sin(theta)**2 - 3*a**6 + a**4 - a**2*sin(theta)**2 + 2*a**2) + \\tilde{r}**2*(\\tilde{r}_+**5*a**2*sin(theta)**2 + 2*\\tilde{r}_+**3*a**4*sin(theta)**2 - 2*\\tilde{r}_+**3*a**4 + 2*\\tilde{r}_+**3*a**2 + 2*\\tilde{r}_+*a**6*sin(theta)**2 + \\tilde{r}_+*a**6 + 8*\\tilde{r}_+*a**5 + 4*\\tilde{r}_+*a**4*sin(theta)**2 + \\tilde{r}_+*a**4 + 8*\\tilde{r}_+*a**3*sin(theta)**2 - 8*\\tilde{r}_+*a**3 + 3*\\tilde{r}_+*a**2*sin(theta)**2 - 2*\\tilde{r}_+*a**2) + \\tilde{r}*(\\tilde{r}_+**6*a**2*sin(theta)**2 - 2*\\tilde{r}_+**4*a**4*sin(theta)**2 - 8*\\tilde{r}_+**4*a**3*sin(theta)**2 - 2*\\tilde{r}_+**4*a**2*sin(theta)**2 - 2*\\tilde{r}_+**2*a**6*sin(theta)**2 - \\tilde{r}_+**2*a**6 - 8*\\tilde{r}_+**2*a**5*sin(theta)**2 - 6*\\tilde{r}_+**2*a**4*sin(theta)**2 + \\tilde{r}_+**2*a**4 - 8*\\tilde{r}_+**2*a**3*sin(theta)**2 - 3*\\tilde{r}_+**2*a**2*sin(theta)**2 + a**8*sin(theta)**2 - a**8 - 3*a**6*sin(theta)**2 - 8*a**5*sin(theta)**2 - 4*a**4*sin(theta)**2 + a**4) + \\tilde{r}_+**7*a**2*sin(theta)**2 + 2*\\tilde{r}_+**5*a**4*sin(theta)**2 + 2*\\tilde{r}_+**5*a**2*sin(theta)**2 + 2*\\tilde{r}_+**3*a**6*sin(theta)**2 - \\tilde{r}_+**3*a**6 + 2*\\tilde{r}_+**3*a**4*sin(theta)**2 + \\tilde{r}_+**3*a**4 + \\tilde{r}_+**3*a**2*sin(theta)**2 - \\tilde{r}_+*a**8*sin(theta)**2 + \\tilde{r}_+*a**8 - 4*\\tilde{r}_+*a**7*sin(theta)**2 + 4*\\tilde{r}_+*a**7 + 3*\\tilde{r}_+*a**6*sin(theta)**2 + 8*\\tilde{r}_+*a**5*sin(theta)**2 - 4*\\tilde{r}_+*a**5 + 4*\\tilde{r}_+*a**4*sin(theta)**2 - \\tilde{r}_+*a**4"
      ]
     },
     "execution_count": 8,
     "metadata": {},
     "output_type": "execute_result"
    }
   ],
   "source": [
    "condition = condition.args[2].expand().simplify().factor().collect(metric_utils.r_tilde)\n",
    "condition"
   ]
  },
  {
   "attachments": {},
   "cell_type": "markdown",
   "metadata": {},
   "source": [
    "Try to solve for roots in advance."
   ]
  },
  {
   "cell_type": "code",
   "execution_count": 9,
   "metadata": {},
   "outputs": [
    {
     "data": {
      "text/plain": [
       "[]"
      ]
     },
     "execution_count": 9,
     "metadata": {},
     "output_type": "execute_result"
    }
   ],
   "source": [
    "sympy.solve(condition, metric_utils.r_tilde)"
   ]
  },
  {
   "attachments": {},
   "cell_type": "markdown",
   "metadata": {},
   "source": [
    "It takes O(1 s) to solve for roots for given parameter and $\\theta$ values."
   ]
  },
  {
   "cell_type": "code",
   "execution_count": 10,
   "metadata": {},
   "outputs": [
    {
     "data": {
      "text/latex": [
       "$\\displaystyle 0.99 \\tilde{r}^{7} + 0.396 \\tilde{r}^{6} + 1.170675 \\tilde{r}^{5} - 0.48279 \\tilde{r}^{4} + 0.0159825 \\tilde{r}^{3} + 0.0017466 \\tilde{r}^{2} - 0.0053989725 \\tilde{r} + 0.000752397$"
      ],
      "text/plain": [
       "0.99*\\tilde{r}**7 + 0.396*\\tilde{r}**6 + 1.170675*\\tilde{r}**5 - 0.48279*\\tilde{r}**4 + 0.0159825*\\tilde{r}**3 + 0.0017466*\\tilde{r}**2 - 0.0053989725*\\tilde{r} + 0.000752397"
      ]
     },
     "execution_count": 10,
     "metadata": {},
     "output_type": "execute_result"
    }
   ],
   "source": [
    "condition_pt = condition.subs({metric_utils.a: 0.1, metric_utils.r_tilde_plus: 0.4, metric_utils.theta: np.pi / 3})\n",
    "condition_pt"
   ]
  },
  {
   "cell_type": "code",
   "execution_count": 11,
   "metadata": {},
   "outputs": [
    {
     "name": "stdout",
     "output_type": "stream",
     "text": [
      "Took 3.571946859359741 seconds to solve\n",
      "[-0.224497564838165, 0.133510565365379, 0.349031297367816]\n"
     ]
    }
   ],
   "source": [
    "t0 = time.time()\n",
    "roots = sympy.solve(condition_pt, metric_utils.r_tilde)\n",
    "print(f\"Took {time.time() - t0} seconds to solve\")\n",
    "print(roots)"
   ]
  },
  {
   "attachments": {},
   "cell_type": "markdown",
   "metadata": {},
   "source": [
    "Get leading coefficient."
   ]
  },
  {
   "cell_type": "code",
   "execution_count": 13,
   "metadata": {},
   "outputs": [
    {
     "data": {
      "text/latex": [
       "$\\displaystyle 1 - a^{2}$"
      ],
      "text/plain": [
       "1 - a**2"
      ]
     },
     "execution_count": 13,
     "metadata": {},
     "output_type": "execute_result"
    }
   ],
   "source": [
    "condition_coeffs = sympy.Poly(condition, metric_utils.r_tilde).all_coeffs()\n",
    "leading_coeff = condition_coeffs[0].simplify()\n",
    "leading_coeff"
   ]
  },
  {
   "attachments": {},
   "cell_type": "markdown",
   "metadata": {},
   "source": [
    "Evaluate admissibility."
   ]
  },
  {
   "cell_type": "code",
   "execution_count": 14,
   "metadata": {},
   "outputs": [],
   "source": [
    "admissible_evaluator = PointwiseAnalyticalRoots()\n",
    "admissible_maps = {}"
   ]
  },
  {
   "cell_type": "code",
   "execution_count": 15,
   "metadata": {},
   "outputs": [],
   "source": [
    "parameter_grid = config.grids['medium']"
   ]
  },
  {
   "cell_type": "code",
   "execution_count": 17,
   "metadata": {},
   "outputs": [
    {
     "name": "stdout",
     "output_type": "stream",
     "text": [
      "Running theta_pi_8 ...\n"
     ]
    },
    {
     "name": "stderr",
     "output_type": "stream",
     "text": [
      " 60%|██████    | 12192/20301 [3:17:10<4:09:50,  1.85s/it]"
     ]
    },
    {
     "name": "stdout",
     "output_type": "stream",
     "text": [
      "No roots found for a = 1.0, r_tilde_plus = 8.881784197001252e-16\n"
     ]
    },
    {
     "name": "stderr",
     "output_type": "stream",
     "text": [
      " 65%|██████▌   | 13208/20301 [3:23:00<2:48:29,  1.43s/it]"
     ]
    },
    {
     "name": "stdout",
     "output_type": "stream",
     "text": [
      "No roots found for a = 1.0, r_tilde_plus = -0.00999999999999912\n",
      "No roots found for a = 1.0, r_tilde_plus = 0.010000000000000897\n"
     ]
    },
    {
     "name": "stderr",
     "output_type": "stream",
     "text": [
      "100%|██████████| 20301/20301 [5:24:21<00:00,  1.04it/s]  \n"
     ]
    }
   ],
   "source": [
    "for theta_name, theta_val in config.thetas.items():\n",
    "    print(f\"Running {theta_name} ...\")\n",
    "\n",
    "    # conduct sweep\n",
    "    filename_data = f\"{data_dir_path}/{filename_base}.{theta_name}.pk\"\n",
    "    admissible_maps[theta_val] = admissible_evaluator.admissibility_parallel(\n",
    "        parameter_grid, theta_val, condition, leading_coeff, filename_data, proc_count=5\n",
    "    )\n",
    "\n",
    "    # save plot\n",
    "    filename_plot = f\"{figure_dir_path}/{filename_base}.{theta_name}.pdf\"\n",
    "    plot_admissibility(parameter_grid, admissible_maps[theta_val], filename_plot)"
   ]
  }
 ],
 "metadata": {
  "kernelspec": {
   "display_name": "env",
   "language": "python",
   "name": "python3"
  },
  "language_info": {
   "codemirror_mode": {
    "name": "ipython",
    "version": 3
   },
   "file_extension": ".py",
   "mimetype": "text/x-python",
   "name": "python",
   "nbconvert_exporter": "python",
   "pygments_lexer": "ipython3",
   "version": "3.10.3"
  },
  "orig_nbformat": 4
 },
 "nbformat": 4,
 "nbformat_minor": 2
}
