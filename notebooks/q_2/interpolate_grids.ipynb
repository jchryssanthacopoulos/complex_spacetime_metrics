{
 "cells": [
  {
   "cell_type": "code",
   "execution_count": 2,
   "metadata": {},
   "outputs": [],
   "source": [
    "from complex_spacetime_metrics.utils import interpolate_admissible_maps"
   ]
  },
  {
   "cell_type": "code",
   "execution_count": 3,
   "metadata": {},
   "outputs": [],
   "source": [
    "q_val = \"q_2\""
   ]
  },
  {
   "cell_type": "code",
   "execution_count": 4,
   "metadata": {},
   "outputs": [],
   "source": [
    "data_dir_path = f\"../../data/{q_val}\""
   ]
  },
  {
   "cell_type": "code",
   "execution_count": 5,
   "metadata": {},
   "outputs": [],
   "source": [
    "ref_grid_file = f'../../data/q_1/A_gt_0.theta_0.pk'"
   ]
  },
  {
   "attachments": {},
   "cell_type": "markdown",
   "metadata": {},
   "source": [
    "### $\\theta=0$"
   ]
  },
  {
   "cell_type": "code",
   "execution_count": 5,
   "metadata": {},
   "outputs": [],
   "source": [
    "file_orig = f'{data_dir_path}/AG_minus_BH.theta_0.pk'\n",
    "file_new = f'{data_dir_path}/AG_minus_BH.theta_0.interp.pk'\n",
    "interpolate_admissible_maps(file_orig, ref_grid_file, file_new)"
   ]
  },
  {
   "cell_type": "code",
   "execution_count": 6,
   "metadata": {},
   "outputs": [],
   "source": [
    "file_orig = f'{data_dir_path}/EG_minus_FH.theta_0.pk'\n",
    "file_new = f'{data_dir_path}/EG_minus_FH.theta_0.interp.pk'\n",
    "interpolate_admissible_maps(file_orig, ref_grid_file, file_new)"
   ]
  },
  {
   "attachments": {},
   "cell_type": "markdown",
   "metadata": {},
   "source": [
    "### $\\theta=\\pi/8$"
   ]
  },
  {
   "cell_type": "code",
   "execution_count": 6,
   "metadata": {},
   "outputs": [],
   "source": [
    "file_orig = f'{data_dir_path}/AG_minus_BH.theta_pi_8.pk'\n",
    "file_new = f'{data_dir_path}/AG_minus_BH.theta_pi_8.interp.pk'\n",
    "interpolate_admissible_maps(file_orig, ref_grid_file, file_new)"
   ]
  },
  {
   "cell_type": "code",
   "execution_count": null,
   "metadata": {},
   "outputs": [],
   "source": [
    "file_orig = f'{data_dir_path}/EG_minus_FH.theta_pi_8.pk'\n",
    "file_new = f'{data_dir_path}/EG_minus_FH.theta_pi_8.interp.pk'\n",
    "interpolate_admissible_maps(file_orig, ref_grid_file, file_new)"
   ]
  },
  {
   "attachments": {},
   "cell_type": "markdown",
   "metadata": {},
   "source": [
    "### $\\theta=\\pi/4$"
   ]
  },
  {
   "cell_type": "code",
   "execution_count": 7,
   "metadata": {},
   "outputs": [],
   "source": [
    "file_orig = f'{data_dir_path}/AG_minus_BH.theta_pi_4.pk'\n",
    "file_new = f'{data_dir_path}/AG_minus_BH.theta_pi_4.interp.pk'\n",
    "interpolate_admissible_maps(file_orig, ref_grid_file, file_new)"
   ]
  },
  {
   "cell_type": "code",
   "execution_count": 8,
   "metadata": {},
   "outputs": [],
   "source": [
    "file_orig = f'{data_dir_path}/EG_minus_FH.theta_pi_4.pk'\n",
    "file_new = f'{data_dir_path}/EG_minus_FH.theta_pi_4.interp.pk'\n",
    "interpolate_admissible_maps(file_orig, ref_grid_file, file_new)"
   ]
  }
 ],
 "metadata": {
  "kernelspec": {
   "display_name": "env",
   "language": "python",
   "name": "python3"
  },
  "language_info": {
   "codemirror_mode": {
    "name": "ipython",
    "version": 3
   },
   "file_extension": ".py",
   "mimetype": "text/x-python",
   "name": "python",
   "nbconvert_exporter": "python",
   "pygments_lexer": "ipython3",
   "version": "3.10.3"
  },
  "orig_nbformat": 4
 },
 "nbformat": 4,
 "nbformat_minor": 2
}
