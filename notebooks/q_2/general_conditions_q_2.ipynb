{
 "cells": [
  {
   "cell_type": "code",
   "execution_count": 1,
   "metadata": {},
   "outputs": [],
   "source": [
    "import numpy as np\n",
    "import sympy\n",
    "from sympy.tensor.tensor import TensorIndexType, TensorHead, tensor_indices\n",
    "from tqdm import tqdm\n",
    "\n",
    "sympy.init_printing()"
   ]
  },
  {
   "cell_type": "code",
   "execution_count": 2,
   "metadata": {},
   "outputs": [],
   "source": [
    "A, B, C, D, E, F, G, H, I = sympy.symbols(\"A B C D E F G H I\")\n",
    "F_01, F_02, F_03, F_12, F_13, F_23 = sympy.symbols(\"F_{01} F_{02} F_{03} F_{12} F_{13} F_{23}\")"
   ]
  },
  {
   "cell_type": "code",
   "execution_count": 3,
   "metadata": {},
   "outputs": [
    {
     "data": {
      "text/latex": [
       "$\\displaystyle \\left[\\begin{matrix}A + i B & C + i D & 0 & 0\\\\C + i D & E + i F & 0 & 0\\\\0 & 0 & G + i H & 0\\\\0 & 0 & 0 & I\\end{matrix}\\right]$"
      ],
      "text/plain": [
       "⎡A + ⅈ⋅B  C + ⅈ⋅D     0     0⎤\n",
       "⎢                            ⎥\n",
       "⎢C + ⅈ⋅D  E + ⅈ⋅F     0     0⎥\n",
       "⎢                            ⎥\n",
       "⎢   0        0     G + ⅈ⋅H  0⎥\n",
       "⎢                            ⎥\n",
       "⎣   0        0        0     I⎦"
      ]
     },
     "execution_count": 3,
     "metadata": {},
     "output_type": "execute_result"
    }
   ],
   "source": [
    "g_mat = sympy.Matrix([\n",
    "    [A + sympy.I * B, C + sympy.I * D, 0, 0],\n",
    "    [C + sympy.I * D, E + sympy.I * F, 0, 0],\n",
    "    [0, 0, G + sympy.I * H, 0],\n",
    "    [0, 0, 0, I]\n",
    "])\n",
    "g_mat"
   ]
  },
  {
   "cell_type": "code",
   "execution_count": 4,
   "metadata": {},
   "outputs": [
    {
     "data": {
      "text/latex": [
       "$\\displaystyle \\left[\\begin{matrix}0 & F_{01} & F_{02} & F_{03}\\\\- F_{01} & 0 & F_{12} & F_{13}\\\\- F_{02} & - F_{12} & 0 & F_{23}\\\\- F_{03} & - F_{13} & - F_{23} & 0\\end{matrix}\\right]$"
      ],
      "text/plain": [
       "⎡   0     F_{01}   F_{02}   F_{03}⎤\n",
       "⎢                                 ⎥\n",
       "⎢-F_{01}     0     F_{12}   F_{13}⎥\n",
       "⎢                                 ⎥\n",
       "⎢-F_{02}  -F_{12}     0     F_{23}⎥\n",
       "⎢                                 ⎥\n",
       "⎣-F_{03}  -F_{13}  -F_{23}    0   ⎦"
      ]
     },
     "execution_count": 4,
     "metadata": {},
     "output_type": "execute_result"
    }
   ],
   "source": [
    "F_mat = sympy.Matrix([\n",
    "    [0, F_01, F_02, F_03],\n",
    "    [-F_01, 0, F_12, F_13],\n",
    "    [-F_02, -F_12, 0, F_23],\n",
    "    [-F_03, -F_13, -F_23, 0]\n",
    "])\n",
    "F_mat"
   ]
  },
  {
   "cell_type": "code",
   "execution_count": 5,
   "metadata": {},
   "outputs": [],
   "source": [
    "Lorentzian = TensorIndexType('Lorentzian', dummy_name='L')\n",
    "i0, i1, i2, i3 = tensor_indices('i0:4', Lorentzian)\n",
    "j0, j1, j2, j3 = tensor_indices('j0:4', Lorentzian)"
   ]
  },
  {
   "cell_type": "code",
   "execution_count": 6,
   "metadata": {},
   "outputs": [],
   "source": [
    "ggFF_mat = sympy.tensorproduct(sympy.tensorproduct(g_mat, g_mat), sympy.tensorproduct(F_mat, F_mat))"
   ]
  },
  {
   "cell_type": "code",
   "execution_count": 7,
   "metadata": {},
   "outputs": [],
   "source": [
    "ggFF_tensor = TensorHead('ggFF', [Lorentzian] * 8)\n",
    "repl = {ggFF_tensor(i0, j0, i1, j1, -i2, -j2, -i3, -j3): ggFF_mat}"
   ]
  },
  {
   "attachments": {},
   "cell_type": "markdown",
   "metadata": {},
   "source": [
    "Compute the quadratic form."
   ]
  },
  {
   "cell_type": "code",
   "execution_count": 8,
   "metadata": {},
   "outputs": [
    {
     "data": {
      "image/png": "[encoded data removed]",
      "text/latex": [
       "$\\displaystyle 2 F_{01}^{2} \\left(A + i B\\right) \\left(E + i F\\right) - 2 F_{01}^{2} \\left(C + i D\\right)^{2} + 2 F_{02}^{2} \\left(A + i B\\right) \\left(G + i H\\right) + 4 F_{02} F_{12} \\left(C + i D\\right) \\left(G + i H\\right) + 2 F_{03}^{2} I \\left(A + i B\\right) + 4 F_{03} F_{13} I \\left(C + i D\\right) + 2 F_{12}^{2} \\left(E + i F\\right) \\left(G + i H\\right) + 2 F_{13}^{2} I \\left(E + i F\\right) + 2 F_{23}^{2} I \\left(G + i H\\right)$"
      ],
      "text/plain": [
       "        2                               2          2           2              \n",
       "2⋅F_{01} ⋅(A + ⅈ⋅B)⋅(E + ⅈ⋅F) - 2⋅F_{01} ⋅(C + ⅈ⋅D)  + 2⋅F_{02} ⋅(A + ⅈ⋅B)⋅(G \n",
       "\n",
       "                                                       2                      \n",
       "+ ⅈ⋅H) + 4⋅F_{02}⋅F_{12}⋅(C + ⅈ⋅D)⋅(G + ⅈ⋅H) + 2⋅F_{03} ⋅I⋅(A + ⅈ⋅B) + 4⋅F_{03\n",
       "\n",
       "                               2                               2              \n",
       "}⋅F_{13}⋅I⋅(C + ⅈ⋅D) + 2⋅F_{12} ⋅(E + ⅈ⋅F)⋅(G + ⅈ⋅H) + 2⋅F_{13} ⋅I⋅(E + ⅈ⋅F) +\n",
       "\n",
       "         2            \n",
       " 2⋅F_{23} ⋅I⋅(G + ⅈ⋅H)"
      ]
     },
     "execution_count": 8,
     "metadata": {},
     "output_type": "execute_result"
    }
   ],
   "source": [
    "quadratic_form = ggFF_tensor(i0, j0, i1, j1, -i0, -i1, -j0, -j1).replace_with_arrays(repl)\n",
    "quadratic_form"
   ]
  },
  {
   "cell_type": "code",
   "execution_count": 9,
   "metadata": {},
   "outputs": [
    {
     "data": {
      "image/png": "[encoded data removed]",
      "text/latex": [
       "$\\displaystyle 2 A E F_{01}^{2} + 2 A F_{02}^{2} G + 2 A F_{03}^{2} I - 2 B F F_{01}^{2} - 2 B F_{02}^{2} H - 2 C^{2} F_{01}^{2} + 4 C F_{02} F_{12} G + 4 C F_{03} F_{13} I + 2 D^{2} F_{01}^{2} - 4 D F_{02} F_{12} H + 2 E F_{12}^{2} G + 2 E F_{13}^{2} I - 2 F F_{12}^{2} H + 2 F_{23}^{2} G I + i \\left(2 A F F_{01}^{2} + 2 A F_{02}^{2} H + 2 B E F_{01}^{2} + 2 B F_{02}^{2} G + 2 B F_{03}^{2} I - 4 C D F_{01}^{2} + 4 C F_{02} F_{12} H + 4 D F_{02} F_{12} G + 4 D F_{03} F_{13} I + 2 E F_{12}^{2} H + 2 F F_{12}^{2} G + 2 F F_{13}^{2} I + 2 F_{23}^{2} H I\\right)$"
      ],
      "text/plain": [
       "            2             2               2                 2             2   \n",
       "2⋅A⋅E⋅F_{01}  + 2⋅A⋅F_{02} ⋅G + 2⋅A⋅F_{03} ⋅I - 2⋅B⋅F⋅F_{01}  - 2⋅B⋅F_{02} ⋅H \n",
       "\n",
       "     2       2                                                  2       2     \n",
       "- 2⋅C ⋅F_{01}  + 4⋅C⋅F_{02}⋅F_{12}⋅G + 4⋅C⋅F_{03}⋅F_{13}⋅I + 2⋅D ⋅F_{01}  - 4⋅\n",
       "\n",
       "                              2               2               2             2 \n",
       "D⋅F_{02}⋅F_{12}⋅H + 2⋅E⋅F_{12} ⋅G + 2⋅E⋅F_{13} ⋅I - 2⋅F⋅F_{12} ⋅H + 2⋅F_{23} ⋅\n",
       "\n",
       "        ⎛            2             2                 2             2          \n",
       "G⋅I + ⅈ⋅⎝2⋅A⋅F⋅F_{01}  + 2⋅A⋅F_{02} ⋅H + 2⋅B⋅E⋅F_{01}  + 2⋅B⋅F_{02} ⋅G + 2⋅B⋅F\n",
       "\n",
       "     2                 2                                                      \n",
       "_{03} ⋅I - 4⋅C⋅D⋅F_{01}  + 4⋅C⋅F_{02}⋅F_{12}⋅H + 4⋅D⋅F_{02}⋅F_{12}⋅G + 4⋅D⋅F_{\n",
       "\n",
       "                         2               2               2             2    ⎞\n",
       "03}⋅F_{13}⋅I + 2⋅E⋅F_{12} ⋅H + 2⋅F⋅F_{12} ⋅G + 2⋅F⋅F_{13} ⋅I + 2⋅F_{23} ⋅H⋅I⎠"
      ]
     },
     "execution_count": 9,
     "metadata": {},
     "output_type": "execute_result"
    }
   ],
   "source": [
    "quadratic_form = quadratic_form.expand().simplify().collect(sympy.I)\n",
    "quadratic_form"
   ]
  },
  {
   "attachments": {},
   "cell_type": "markdown",
   "metadata": {},
   "source": [
    "Take the real part."
   ]
  },
  {
   "cell_type": "code",
   "execution_count": 10,
   "metadata": {},
   "outputs": [
    {
     "data": {
      "image/png": "[encoded data removed]",
      "text/latex": [
       "$\\displaystyle 2 A E F_{01}^{2} + 2 A F_{02}^{2} G + 2 A F_{03}^{2} I - 2 B F F_{01}^{2} - 2 B F_{02}^{2} H - 2 C^{2} F_{01}^{2} + 4 C F_{02} F_{12} G + 4 C F_{03} F_{13} I + 2 D^{2} F_{01}^{2} - 4 D F_{02} F_{12} H + 2 E F_{12}^{2} G + 2 E F_{13}^{2} I - 2 F F_{12}^{2} H + 2 F_{23}^{2} G I$"
      ],
      "text/plain": [
       "            2             2               2                 2             2   \n",
       "2⋅A⋅E⋅F_{01}  + 2⋅A⋅F_{02} ⋅G + 2⋅A⋅F_{03} ⋅I - 2⋅B⋅F⋅F_{01}  - 2⋅B⋅F_{02} ⋅H \n",
       "\n",
       "     2       2                                                  2       2     \n",
       "- 2⋅C ⋅F_{01}  + 4⋅C⋅F_{02}⋅F_{12}⋅G + 4⋅C⋅F_{03}⋅F_{13}⋅I + 2⋅D ⋅F_{01}  - 4⋅\n",
       "\n",
       "                              2               2               2             2 \n",
       "D⋅F_{02}⋅F_{12}⋅H + 2⋅E⋅F_{12} ⋅G + 2⋅E⋅F_{13} ⋅I - 2⋅F⋅F_{12} ⋅H + 2⋅F_{23} ⋅\n",
       "\n",
       "   \n",
       "G⋅I"
      ]
     },
     "execution_count": 10,
     "metadata": {},
     "output_type": "execute_result"
    }
   ],
   "source": [
    "real_quadratic_form = quadratic_form - quadratic_form.coeff(sympy.I) * sympy.I\n",
    "real_quadratic_form"
   ]
  },
  {
   "cell_type": "code",
   "execution_count": 11,
   "metadata": {},
   "outputs": [
    {
     "data": {
      "image/png": "[encoded data removed]",
      "text/latex": [
       "$\\displaystyle 2 A F_{03}^{2} I + 4 C F_{03} F_{13} I + 2 E F_{13}^{2} I + 2 F_{01}^{2} \\left(A E - B F - C^{2} + D^{2}\\right) + 2 F_{02}^{2} \\left(A G - B H\\right) + 2 F_{02} \\cdot \\left(2 C F_{12} G - 2 D F_{12} H\\right) + 2 F_{12}^{2} \\left(E G - F H\\right) + 2 F_{23}^{2} G I$"
      ],
      "text/plain": [
       "          2                                     2             2 ⎛             \n",
       "2⋅A⋅F_{03} ⋅I + 4⋅C⋅F_{03}⋅F_{13}⋅I + 2⋅E⋅F_{13} ⋅I + 2⋅F_{01} ⋅⎝A⋅E - B⋅F - C\n",
       "\n",
       "2    2⎞           2                                                           \n",
       "  + D ⎠ + 2⋅F_{02} ⋅(A⋅G - B⋅H) + 2⋅F_{02}⋅(2⋅C⋅F_{12}⋅G - 2⋅D⋅F_{12}⋅H) + 2⋅F\n",
       "\n",
       "     2                       2    \n",
       "_{12} ⋅(E⋅G - F⋅H) + 2⋅F_{23} ⋅G⋅I"
      ]
     },
     "execution_count": 11,
     "metadata": {},
     "output_type": "execute_result"
    }
   ],
   "source": [
    "real_quadratic_form.factor().collect([F_01, F_02, F_03, F_12, F_13, F_23])"
   ]
  },
  {
   "attachments": {},
   "cell_type": "markdown",
   "metadata": {},
   "source": [
    "Compute the real part when the metric is real."
   ]
  },
  {
   "cell_type": "code",
   "execution_count": 12,
   "metadata": {},
   "outputs": [
    {
     "data": {
      "image/png": "[encoded data removed]",
      "text/latex": [
       "$\\displaystyle 2 A F_{02}^{2} G + 2 A F_{03}^{2} I + 4 C F_{02} F_{12} G + 4 C F_{03} F_{13} I + 2 E F_{12}^{2} G + 2 E F_{13}^{2} I + F_{01}^{2} \\cdot \\left(2 A E - 2 C^{2}\\right) + 2 F_{23}^{2} G I$"
      ],
      "text/plain": [
       "          2               2                                                   \n",
       "2⋅A⋅F_{02} ⋅G + 2⋅A⋅F_{03} ⋅I + 4⋅C⋅F_{02}⋅F_{12}⋅G + 4⋅C⋅F_{03}⋅F_{13}⋅I + 2⋅\n",
       "\n",
       "        2               2           2 ⎛           2⎞           2    \n",
       "E⋅F_{12} ⋅G + 2⋅E⋅F_{13} ⋅I + F_{01} ⋅⎝2⋅A⋅E - 2⋅C ⎠ + 2⋅F_{23} ⋅G⋅I"
      ]
     },
     "execution_count": 12,
     "metadata": {},
     "output_type": "execute_result"
    }
   ],
   "source": [
    "real_quadratic_form_g_real = real_quadratic_form.subs({B: 0, D: 0, F: 0, H: 0}).collect([F_01, F_02, F_03, F_12, F_13, F_23])\n",
    "real_quadratic_form_g_real"
   ]
  },
  {
   "attachments": {},
   "cell_type": "markdown",
   "metadata": {},
   "source": [
    "#### $g$ Inverse"
   ]
  },
  {
   "cell_type": "code",
   "execution_count": 13,
   "metadata": {},
   "outputs": [
    {
     "data": {
      "text/latex": [
       "$\\displaystyle \\left[\\begin{matrix}\\frac{E + i F}{A E + i A F + i B E - B F - C^{2} - 2 i C D + D^{2}} & \\frac{- C - i D}{A E + i A F + i B E - B F - C^{2} - 2 i C D + D^{2}} & 0 & 0\\\\\\frac{- C - i D}{A E + i A F + i B E - B F - C^{2} - 2 i C D + D^{2}} & \\frac{A + i B}{A E + i A F + i B E - B F - C^{2} - 2 i C D + D^{2}} & 0 & 0\\\\0 & 0 & \\frac{1}{G + i H} & 0\\\\0 & 0 & 0 & \\frac{1}{I}\\end{matrix}\\right]$"
      ],
      "text/plain": [
       "⎡                   E + ⅈ⋅F                                        -C - ⅈ⋅D   \n",
       "⎢─────────────────────────────────────────────  ──────────────────────────────\n",
       "⎢                             2              2                               2\n",
       "⎢A⋅E + ⅈ⋅A⋅F + ⅈ⋅B⋅E - B⋅F - C  - 2⋅ⅈ⋅C⋅D + D   A⋅E + ⅈ⋅A⋅F + ⅈ⋅B⋅E - B⋅F - C \n",
       "⎢                                                                             \n",
       "⎢                   -C - ⅈ⋅D                                       A + ⅈ⋅B    \n",
       "⎢─────────────────────────────────────────────  ──────────────────────────────\n",
       "⎢                             2              2                               2\n",
       "⎢A⋅E + ⅈ⋅A⋅F + ⅈ⋅B⋅E - B⋅F - C  - 2⋅ⅈ⋅C⋅D + D   A⋅E + ⅈ⋅A⋅F + ⅈ⋅B⋅E - B⋅F - C \n",
       "⎢                                                                             \n",
       "⎢                                                                             \n",
       "⎢                      0                                              0       \n",
       "⎢                                                                             \n",
       "⎢                                                                             \n",
       "⎢                                                                             \n",
       "⎢                      0                                              0       \n",
       "⎣                                                                             \n",
       "\n",
       "                           ⎤\n",
       "───────────────     0     0⎥\n",
       "              2            ⎥\n",
       " - 2⋅ⅈ⋅C⋅D + D             ⎥\n",
       "                           ⎥\n",
       "                           ⎥\n",
       "───────────────     0     0⎥\n",
       "              2            ⎥\n",
       " - 2⋅ⅈ⋅C⋅D + D             ⎥\n",
       "                           ⎥\n",
       "                    1      ⎥\n",
       "                 ───────  0⎥\n",
       "                 G + ⅈ⋅H   ⎥\n",
       "                           ⎥\n",
       "                          1⎥\n",
       "                    0     ─⎥\n",
       "                          I⎦"
      ]
     },
     "execution_count": 13,
     "metadata": {},
     "output_type": "execute_result"
    }
   ],
   "source": [
    "g_mat_inv = g_mat.inv()\n",
    "g_mat_inv"
   ]
  },
  {
   "cell_type": "code",
   "execution_count": 14,
   "metadata": {},
   "outputs": [
    {
     "data": {
      "image/png": "[encoded data removed]",
      "text/latex": [
       "$\\displaystyle A E - B F - C^{2} + D^{2} + i \\left(A F + B E - 2 C D\\right)$"
      ],
      "text/plain": [
       "             2    2                        \n",
       "A⋅E - B⋅F - C  + D  + ⅈ⋅(A⋅F + B⋅E - 2⋅C⋅D)"
      ]
     },
     "execution_count": 14,
     "metadata": {},
     "output_type": "execute_result"
    }
   ],
   "source": [
    "k = sympy.fraction(g_mat_inv[0, 0])[1].collect(sympy.I)\n",
    "k"
   ]
  },
  {
   "cell_type": "code",
   "execution_count": 16,
   "metadata": {},
   "outputs": [
    {
     "data": {
      "image/png": "[encoded data removed]",
      "text/latex": [
       "$\\displaystyle A E - B F - C^{2} + D^{2} - i \\left(A F + B E - 2 C D\\right)$"
      ],
      "text/plain": [
       "             2    2                        \n",
       "A⋅E - B⋅F - C  + D  - ⅈ⋅(A⋅F + B⋅E - 2⋅C⋅D)"
      ]
     },
     "execution_count": 16,
     "metadata": {},
     "output_type": "execute_result"
    }
   ],
   "source": [
    "k_star = A * E - B * F - C ** 2 + D ** 2 - sympy.I * k.coeff(sympy.I)\n",
    "k_star"
   ]
  },
  {
   "cell_type": "code",
   "execution_count": 17,
   "metadata": {},
   "outputs": [
    {
     "data": {
      "image/png": "[encoded data removed]",
      "text/latex": [
       "$\\displaystyle A^{2} E^{2} + A^{2} F^{2} - 2 A C^{2} E - 4 A C D F + 2 A D^{2} E + B^{2} E^{2} + B^{2} F^{2} + 2 B C^{2} F - 4 B C D E - 2 B D^{2} F + C^{4} + 2 C^{2} D^{2} + D^{4}$"
      ],
      "text/plain": [
       " 2  2    2  2        2                      2      2  2    2  2        2      \n",
       "A ⋅E  + A ⋅F  - 2⋅A⋅C ⋅E - 4⋅A⋅C⋅D⋅F + 2⋅A⋅D ⋅E + B ⋅E  + B ⋅F  + 2⋅B⋅C ⋅F - 4\n",
       "\n",
       "                2      4      2  2    4\n",
       "⋅B⋅C⋅D⋅E - 2⋅B⋅D ⋅F + C  + 2⋅C ⋅D  + D "
      ]
     },
     "execution_count": 17,
     "metadata": {},
     "output_type": "execute_result"
    }
   ],
   "source": [
    "kappa = sympy.symbols(\"kappa\")\n",
    "kappa_val = (k * k_star).expand().simplify().factor()\n",
    "kappa_val"
   ]
  },
  {
   "cell_type": "code",
   "execution_count": 18,
   "metadata": {},
   "outputs": [
    {
     "data": {
      "image/png": "[encoded data removed]",
      "text/latex": [
       "$\\displaystyle G^{2} + H^{2}$"
      ],
      "text/plain": [
       " 2    2\n",
       "G  + H "
      ]
     },
     "execution_count": 18,
     "metadata": {},
     "output_type": "execute_result"
    }
   ],
   "source": [
    "delta = sympy.symbols(\"delta\")\n",
    "delta_val = G ** 2 + H ** 2\n",
    "delta_val"
   ]
  },
  {
   "attachments": {},
   "cell_type": "markdown",
   "metadata": {},
   "source": [
    "These are the matrix elements of the inverse."
   ]
  },
  {
   "cell_type": "code",
   "execution_count": 19,
   "metadata": {},
   "outputs": [],
   "source": [
    "A_inv = (A * (E ** 2 + F ** 2) + E * (D ** 2 - C ** 2) - 2 * C * D * F) / kappa_val\n",
    "B_inv = (F * (D ** 2 - C ** 2) - B * (E ** 2 + F ** 2) + 2 * C * D * E) / kappa_val\n",
    "C_inv = (B * (C * F - D * E) - A * (C * E + D * F) + C * (C ** 2 + D ** 2)) / kappa_val\n",
    "D_inv = (A * (C * F - D * E) + B * (C * E + D * F) - D * (C ** 2 + D ** 2)) / kappa_val\n",
    "E_inv = (E * (A ** 2 + B ** 2) + A * (D ** 2 - C ** 2) - 2 * B * C * D) / kappa_val\n",
    "F_inv = (B * (D ** 2 - C ** 2) - F * (A ** 2 + B ** 2) + 2 * A * C * D) / kappa_val\n",
    "G_inv = G / delta_val\n",
    "H_inv = -H / delta_val\n",
    "I_inv = 1 / I"
   ]
  },
  {
   "attachments": {},
   "cell_type": "markdown",
   "metadata": {},
   "source": [
    "#### Sample matrices"
   ]
  },
  {
   "attachments": {},
   "cell_type": "markdown",
   "metadata": {},
   "source": [
    "It is difficult to prove analytically that the conditions for $g^{\\mu\\nu}$ are the same as the conditions for $g_{\\mu\\nu}$. However, it can be validated numerically by sampling matrices that fulfill the conditions, inverting them, then checking whether they also satisfy the conditions."
   ]
  },
  {
   "cell_type": "code",
   "execution_count": 23,
   "metadata": {},
   "outputs": [],
   "source": [
    "def _is_q_2_satisfied(A_val, B_val, C_val, D_val, E_val, F_val, G_val, H_val, I_val):\n",
    "    \"\"\"Determine whether the q = 2 conditions are satisfied for the given matrix elements.\"\"\"\n",
    "    if A_val <= 0 or E_val <= 0 or G_val <= 0 or I_val <= 0:\n",
    "        return False\n",
    "\n",
    "    cond1 = A_val * E_val - C_val ** 2\n",
    "    if cond1 <= 0:\n",
    "        return False\n",
    "\n",
    "    cond2 = A_val * E_val - C_val ** 2 - B_val * F_val + D_val ** 2\n",
    "    if cond2 <= 0:\n",
    "        return False\n",
    "\n",
    "    cond3 = A_val * G_val - B_val * H_val\n",
    "    if cond3 <= 0:\n",
    "        return False\n",
    "\n",
    "    cond4 = E_val * G_val - F_val * H_val\n",
    "    if cond4 <= 0:\n",
    "        return False\n",
    "\n",
    "    cond5 = cond3 * cond4 - (C_val * G_val - D_val * H_val) ** 2\n",
    "    if cond5 <= 0:\n",
    "        return False\n",
    "\n",
    "    return True"
   ]
  },
  {
   "cell_type": "code",
   "execution_count": 24,
   "metadata": {},
   "outputs": [],
   "source": [
    "num_samples = int(1e6)\n",
    "max_num_range = 1e6"
   ]
  },
  {
   "cell_type": "code",
   "execution_count": 25,
   "metadata": {},
   "outputs": [],
   "source": [
    "non_q_2_inv_matrices = []\n",
    "num_q_2_inv_matrices = 0\n",
    "total_q_2_matrices = 0"
   ]
  },
  {
   "cell_type": "code",
   "execution_count": 26,
   "metadata": {},
   "outputs": [
    {
     "name": "stderr",
     "output_type": "stream",
     "text": [
      "100%|██████████| 1000000/1000000 [2:33:59<00:00, 108.23it/s]  \n"
     ]
    }
   ],
   "source": [
    "for i in tqdm(range(num_samples)):\n",
    "    # A, E, G, I > 0\n",
    "    A_val, E_val, G_val, I_val = np.random.uniform(0, max_num_range, size=4)\n",
    "\n",
    "    # sample imaginary parts\n",
    "    B_val, C_val, D_val, F_val, H_val = np.random.uniform(-max_num_range, max_num_range, size=5)\n",
    "\n",
    "    # only proceed if the matrix satisfies the q = 2 conditions\n",
    "    if not _is_q_2_satisfied(A_val, B_val, C_val, D_val, E_val, F_val, G_val, H_val, I_val):\n",
    "        continue\n",
    "\n",
    "    vals_dict = {\n",
    "        A: A_val, B: B_val, C: C_val, D: D_val, E: E_val, F: F_val, G: G_val, H: H_val, I: I_val\n",
    "    }\n",
    "\n",
    "    # compute the matrix elements of the inverse\n",
    "    A_val_inv = A_inv.subs(vals_dict)\n",
    "    B_val_inv = B_inv.subs(vals_dict)\n",
    "    C_val_inv = C_inv.subs(vals_dict)\n",
    "    D_val_inv = D_inv.subs(vals_dict)\n",
    "    E_val_inv = E_inv.subs(vals_dict)\n",
    "    F_val_inv = F_inv.subs(vals_dict)\n",
    "    G_val_inv = G_inv.subs(vals_dict)\n",
    "    H_val_inv = H_inv.subs(vals_dict)\n",
    "    I_val_inv = I_inv.subs(vals_dict)\n",
    "\n",
    "    if not _is_q_2_satisfied(A_val_inv, B_val_inv, C_val_inv, D_val_inv, E_val_inv, F_val_inv, G_val_inv, H_val_inv, I_val_inv):\n",
    "        # log matrix for which the inverse does not satisfy q = 2 conditions\n",
    "        non_q_2_inv_matrices.append(vals_dict)\n",
    "    else:\n",
    "        # increment number of q = 2 inverse matrices\n",
    "        num_q_2_inv_matrices += 1\n",
    "\n",
    "    # increment number of q = 2 sampled\n",
    "    total_q_2_matrices += 1"
   ]
  },
  {
   "cell_type": "code",
   "execution_count": 27,
   "metadata": {},
   "outputs": [
    {
     "data": {
      "image/png": "[encoded data removed]",
      "text/latex": [
       "$\\displaystyle 0$"
      ],
      "text/plain": [
       "0"
      ]
     },
     "execution_count": 27,
     "metadata": {},
     "output_type": "execute_result"
    }
   ],
   "source": [
    "len(non_q_2_inv_matrices)"
   ]
  },
  {
   "cell_type": "code",
   "execution_count": 28,
   "metadata": {},
   "outputs": [
    {
     "data": {
      "image/png": "[encoded data removed]",
      "text/latex": [
       "$\\displaystyle 172127$"
      ],
      "text/plain": [
       "172127"
      ]
     },
     "execution_count": 28,
     "metadata": {},
     "output_type": "execute_result"
    }
   ],
   "source": [
    "num_q_2_inv_matrices"
   ]
  },
  {
   "cell_type": "code",
   "execution_count": 29,
   "metadata": {},
   "outputs": [
    {
     "data": {
      "image/png": "[encoded data removed]",
      "text/latex": [
       "$\\displaystyle 172127$"
      ],
      "text/plain": [
       "172127"
      ]
     },
     "execution_count": 29,
     "metadata": {},
     "output_type": "execute_result"
    }
   ],
   "source": [
    "total_q_2_matrices"
   ]
  }
 ],
 "metadata": {
  "kernelspec": {
   "display_name": "env",
   "language": "python",
   "name": "python3"
  },
  "language_info": {
   "codemirror_mode": {
    "name": "ipython",
    "version": 3
   },
   "file_extension": ".py",
   "mimetype": "text/x-python",
   "name": "python",
   "nbconvert_exporter": "python",
   "pygments_lexer": "ipython3",
   "version": "3.10.3"
  },
  "orig_nbformat": 4
 },
 "nbformat": 4,
 "nbformat_minor": 2
}
