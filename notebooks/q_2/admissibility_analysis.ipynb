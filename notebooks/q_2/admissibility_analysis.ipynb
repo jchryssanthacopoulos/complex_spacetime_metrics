{
 "cells": [
  {
   "cell_type": "code",
   "execution_count": 1,
   "metadata": {},
   "outputs": [],
   "source": [
    "import sympy\n",
    "\n",
    "from complex_spacetime_metrics import metric as metric_utils"
   ]
  },
  {
   "cell_type": "code",
   "execution_count": 56,
   "metadata": {},
   "outputs": [],
   "source": [
    "import importlib\n",
    "importlib.reload(metric_utils);"
   ]
  },
  {
   "attachments": {},
   "cell_type": "markdown",
   "metadata": {},
   "source": [
    "Build metric."
   ]
  },
  {
   "cell_type": "code",
   "execution_count": 2,
   "metadata": {},
   "outputs": [],
   "source": [
    "base_metric = metric_utils.metric_3d()"
   ]
  },
  {
   "cell_type": "code",
   "execution_count": 3,
   "metadata": {},
   "outputs": [
    {
     "data": {
      "text/latex": [
       "$\\displaystyle - \\frac{\\Delta_{r} \\left(dt - \\frac{a d\\phi \\sin^{2}{\\left(\\theta \\right)}}{\\Xi}\\right)^{2}}{W} + \\frac{\\Delta_{\\theta} \\left(a dt - \\frac{d\\phi \\left(\\tilde{r}^{2} + a^{2}\\right)}{\\Xi}\\right)^{2} \\sin^{2}{\\left(\\theta \\right)}}{W} + \\frac{W d\\tilde{r}^{2}}{\\Delta_{r}}$"
      ],
      "text/plain": [
       "-Delta_r*(dt - a*d\\phi*sin(theta)**2/Xi)**2/W + Delta_theta*(a*dt - d\\phi*(\\tilde{r}**2 + a**2)/Xi)**2*sin(theta)**2/W + W*d\\tilde{r}**2/Delta_r"
      ]
     },
     "execution_count": 3,
     "metadata": {},
     "output_type": "execute_result"
    }
   ],
   "source": [
    "base_metric"
   ]
  },
  {
   "cell_type": "code",
   "execution_count": 4,
   "metadata": {},
   "outputs": [
    {
     "data": {
      "text/latex": [
       "$\\displaystyle - \\frac{2 i \\Delta_{r} \\Omega a^{2} d\\tau d\\tilde{\\phi} \\sin^{4}{\\left(\\theta \\right)}}{W \\Xi^{2}} + \\frac{2 i \\Delta_{r} a d\\tau d\\tilde{\\phi} \\sin^{2}{\\left(\\theta \\right)}}{W \\Xi} - \\frac{\\Delta_{r} a^{2} d\\tilde{\\phi}^{2} \\sin^{4}{\\left(\\theta \\right)}}{W \\Xi^{2}} + \\frac{2 i \\Delta_{\\theta} \\Omega \\tilde{r}^{4} d\\tau d\\tilde{\\phi} \\sin^{2}{\\left(\\theta \\right)}}{W \\Xi^{2}} + \\frac{4 i \\Delta_{\\theta} \\Omega \\tilde{r}^{2} a^{2} d\\tau d\\tilde{\\phi} \\sin^{2}{\\left(\\theta \\right)}}{W \\Xi^{2}} + \\frac{2 i \\Delta_{\\theta} \\Omega a^{4} d\\tau d\\tilde{\\phi} \\sin^{2}{\\left(\\theta \\right)}}{W \\Xi^{2}} - \\frac{2 i \\Delta_{\\theta} \\tilde{r}^{2} a d\\tau d\\tilde{\\phi} \\sin^{2}{\\left(\\theta \\right)}}{W \\Xi} - \\frac{2 i \\Delta_{\\theta} a^{3} d\\tau d\\tilde{\\phi} \\sin^{2}{\\left(\\theta \\right)}}{W \\Xi} + \\frac{\\Delta_{\\theta} \\tilde{r}^{4} d\\tilde{\\phi}^{2} \\sin^{2}{\\left(\\theta \\right)}}{W \\Xi^{2}} + \\frac{2 \\Delta_{\\theta} \\tilde{r}^{2} a^{2} d\\tilde{\\phi}^{2} \\sin^{2}{\\left(\\theta \\right)}}{W \\Xi^{2}} + \\frac{\\Delta_{\\theta} a^{4} d\\tilde{\\phi}^{2} \\sin^{2}{\\left(\\theta \\right)}}{W \\Xi^{2}} + d\\tau^{2} \\left(\\frac{\\Delta_{r} \\Omega^{2} a^{2} \\sin^{4}{\\left(\\theta \\right)}}{W \\Xi^{2}} - \\frac{2 \\Delta_{r} \\Omega a \\sin^{2}{\\left(\\theta \\right)}}{W \\Xi} + \\frac{\\Delta_{r}}{W} - \\frac{\\Delta_{\\theta} \\Omega^{2} \\tilde{r}^{4} \\sin^{2}{\\left(\\theta \\right)}}{W \\Xi^{2}} - \\frac{2 \\Delta_{\\theta} \\Omega^{2} \\tilde{r}^{2} a^{2} \\sin^{2}{\\left(\\theta \\right)}}{W \\Xi^{2}} - \\frac{\\Delta_{\\theta} \\Omega^{2} a^{4} \\sin^{2}{\\left(\\theta \\right)}}{W \\Xi^{2}} + \\frac{2 \\Delta_{\\theta} \\Omega \\tilde{r}^{2} a \\sin^{2}{\\left(\\theta \\right)}}{W \\Xi} + \\frac{2 \\Delta_{\\theta} \\Omega a^{3} \\sin^{2}{\\left(\\theta \\right)}}{W \\Xi} - \\frac{\\Delta_{\\theta} a^{2} \\sin^{2}{\\left(\\theta \\right)}}{W}\\right) + \\frac{W d\\tilde{r}^{2}}{\\Delta_{r}}$"
      ],
      "text/plain": [
       "-2*I*Delta_r*Omega*a**2*d\\tau*d\\tilde{\\phi}*sin(theta)**4/(W*Xi**2) + 2*I*Delta_r*a*d\\tau*d\\tilde{\\phi}*sin(theta)**2/(W*Xi) - Delta_r*a**2*d\\tilde{\\phi}**2*sin(theta)**4/(W*Xi**2) + 2*I*Delta_theta*Omega*\\tilde{r}**4*d\\tau*d\\tilde{\\phi}*sin(theta)**2/(W*Xi**2) + 4*I*Delta_theta*Omega*\\tilde{r}**2*a**2*d\\tau*d\\tilde{\\phi}*sin(theta)**2/(W*Xi**2) + 2*I*Delta_theta*Omega*a**4*d\\tau*d\\tilde{\\phi}*sin(theta)**2/(W*Xi**2) - 2*I*Delta_theta*\\tilde{r}**2*a*d\\tau*d\\tilde{\\phi}*sin(theta)**2/(W*Xi) - 2*I*Delta_theta*a**3*d\\tau*d\\tilde{\\phi}*sin(theta)**2/(W*Xi) + Delta_theta*\\tilde{r}**4*d\\tilde{\\phi}**2*sin(theta)**2/(W*Xi**2) + 2*Delta_theta*\\tilde{r}**2*a**2*d\\tilde{\\phi}**2*sin(theta)**2/(W*Xi**2) + Delta_theta*a**4*d\\tilde{\\phi}**2*sin(theta)**2/(W*Xi**2) + d\\tau**2*(Delta_r*Omega**2*a**2*sin(theta)**4/(W*Xi**2) - 2*Delta_r*Omega*a*sin(theta)**2/(W*Xi) + Delta_r/W - Delta_theta*Omega**2*\\tilde{r}**4*sin(theta)**2/(W*Xi**2) - 2*Delta_theta*Omega**2*\\tilde{r}**2*a**2*sin(theta)**2/(W*Xi**2) - Delta_theta*Omega**2*a**4*sin(theta)**2/(W*Xi**2) + 2*Delta_theta*Omega*\\tilde{r}**2*a*sin(theta)**2/(W*Xi) + 2*Delta_theta*Omega*a**3*sin(theta)**2/(W*Xi) - Delta_theta*a**2*sin(theta)**2/W) + W*d\\tilde{r}**2/Delta_r"
      ]
     },
     "execution_count": 4,
     "metadata": {},
     "output_type": "execute_result"
    }
   ],
   "source": [
    "metric = metric_utils.omega_shift_wick_rotate(base_metric)\n",
    "metric"
   ]
  },
  {
   "attachments": {},
   "cell_type": "markdown",
   "metadata": {},
   "source": [
    "Get coefficients."
   ]
  },
  {
   "cell_type": "code",
   "execution_count": 42,
   "metadata": {},
   "outputs": [],
   "source": [
    "metric_coeffs = metric_utils.metric_coefficients(metric)"
   ]
  },
  {
   "cell_type": "code",
   "execution_count": 49,
   "metadata": {},
   "outputs": [
    {
     "data": {
      "text/latex": [
       "$\\displaystyle \\frac{\\left(\\tilde{r} - \\tilde{r}_+\\right) \\left(\\tilde{r}^{3} \\tilde{r}_+^{4} + 2 \\tilde{r}^{3} \\tilde{r}_+^{2} a^{2} \\cos^{2}{\\left(\\theta \\right)} + \\tilde{r}^{3} a^{4} \\cos^{2}{\\left(\\theta \\right)} + \\tilde{r}^{3} a^{2} \\cos^{2}{\\left(\\theta \\right)} - \\tilde{r}^{3} a^{2} + \\tilde{r}^{2} \\tilde{r}_+^{5} + 2 \\tilde{r}^{2} \\tilde{r}_+^{3} a^{2} \\cos^{2}{\\left(\\theta \\right)} + \\tilde{r}^{2} \\tilde{r}_+ a^{4} \\cos^{2}{\\left(\\theta \\right)} + \\tilde{r}^{2} \\tilde{r}_+ a^{2} \\cos^{2}{\\left(\\theta \\right)} - \\tilde{r}^{2} \\tilde{r}_+ a^{2} + \\tilde{r} \\tilde{r}_+^{6} + 2 \\tilde{r} \\tilde{r}_+^{4} a^{2} \\cos^{2}{\\left(\\theta \\right)} + \\tilde{r} \\tilde{r}_+^{4} a^{2} + \\tilde{r} \\tilde{r}_+^{4} + 2 \\tilde{r} \\tilde{r}_+^{2} a^{4} \\cos^{4}{\\left(\\theta \\right)} + \\tilde{r} \\tilde{r}_+^{2} a^{4} \\cos^{2}{\\left(\\theta \\right)} + \\tilde{r} \\tilde{r}_+^{2} a^{2} \\cos^{2}{\\left(\\theta \\right)} + \\tilde{r} \\tilde{r}_+^{2} a^{2} + \\tilde{r} a^{6} \\cos^{4}{\\left(\\theta \\right)} + \\tilde{r} a^{4} \\cos^{4}{\\left(\\theta \\right)} + \\tilde{r}_+^{7} + 2 \\tilde{r}_+^{5} a^{2} \\cos^{2}{\\left(\\theta \\right)} - \\tilde{r}_+^{5} a^{2} - 4 \\tilde{r}_+^{5} a - \\tilde{r}_+^{5} + 2 \\tilde{r}_+^{3} a^{4} \\cos^{4}{\\left(\\theta \\right)} - 3 \\tilde{r}_+^{3} a^{4} \\cos^{2}{\\left(\\theta \\right)} - 8 \\tilde{r}_+^{3} a^{3} \\cos^{2}{\\left(\\theta \\right)} - 3 \\tilde{r}_+^{3} a^{2} \\cos^{2}{\\left(\\theta \\right)} + \\tilde{r}_+^{3} a^{2} - \\tilde{r}_+ a^{6} \\cos^{4}{\\left(\\theta \\right)} - 4 \\tilde{r}_+ a^{5} \\cos^{4}{\\left(\\theta \\right)} - \\tilde{r}_+ a^{4} \\cos^{4}{\\left(\\theta \\right)}\\right)}{\\left(\\tilde{r}^{2} + a^{2} \\cos^{2}{\\left(\\theta \\right)}\\right) \\left(\\tilde{r}_+^{2} + a^{2}\\right)^{2}}$"
      ],
      "text/plain": [
       "(\\tilde{r} - \\tilde{r}_+)*(\\tilde{r}**3*\\tilde{r}_+**4 + 2*\\tilde{r}**3*\\tilde{r}_+**2*a**2*cos(theta)**2 + \\tilde{r}**3*a**4*cos(theta)**2 + \\tilde{r}**3*a**2*cos(theta)**2 - \\tilde{r}**3*a**2 + \\tilde{r}**2*\\tilde{r}_+**5 + 2*\\tilde{r}**2*\\tilde{r}_+**3*a**2*cos(theta)**2 + \\tilde{r}**2*\\tilde{r}_+*a**4*cos(theta)**2 + \\tilde{r}**2*\\tilde{r}_+*a**2*cos(theta)**2 - \\tilde{r}**2*\\tilde{r}_+*a**2 + \\tilde{r}*\\tilde{r}_+**6 + 2*\\tilde{r}*\\tilde{r}_+**4*a**2*cos(theta)**2 + \\tilde{r}*\\tilde{r}_+**4*a**2 + \\tilde{r}*\\tilde{r}_+**4 + 2*\\tilde{r}*\\tilde{r}_+**2*a**4*cos(theta)**4 + \\tilde{r}*\\tilde{r}_+**2*a**4*cos(theta)**2 + \\tilde{r}*\\tilde{r}_+**2*a**2*cos(theta)**2 + \\tilde{r}*\\tilde{r}_+**2*a**2 + \\tilde{r}*a**6*cos(theta)**4 + \\tilde{r}*a**4*cos(theta)**4 + \\tilde{r}_+**7 + 2*\\tilde{r}_+**5*a**2*cos(theta)**2 - \\tilde{r}_+**5*a**2 - 4*\\tilde{r}_+**5*a - \\tilde{r}_+**5 + 2*\\tilde{r}_+**3*a**4*cos(theta)**4 - 3*\\tilde{r}_+**3*a**4*cos(theta)**2 - 8*\\tilde{r}_+**3*a**3*cos(theta)**2 - 3*\\tilde{r}_+**3*a**2*cos(theta)**2 + \\tilde{r}_+**3*a**2 - \\tilde{r}_+*a**6*cos(theta)**4 - 4*\\tilde{r}_+*a**5*cos(theta)**4 - \\tilde{r}_+*a**4*cos(theta)**4)/((\\tilde{r}**2 + a**2*cos(theta)**2)*(\\tilde{r}_+**2 + a**2)**2)"
      ]
     },
     "execution_count": 49,
     "metadata": {},
     "output_type": "execute_result"
    }
   ],
   "source": [
    "metric_coeffs[metric_utils.A]"
   ]
  },
  {
   "cell_type": "code",
   "execution_count": 50,
   "metadata": {},
   "outputs": [
    {
     "data": {
      "text/latex": [
       "$\\displaystyle \\frac{2 \\left(\\tilde{r} - \\tilde{r}_+\\right) \\left(- \\tilde{r}_+^{2} + a\\right) \\left(\\tilde{r}_+^{2} + a^{2} \\cos^{2}{\\left(\\theta \\right)}\\right)^{2} \\left(a + 1\\right)}{\\left(\\tilde{r}^{2} + a^{2} \\cos^{2}{\\left(\\theta \\right)}\\right) \\left(\\tilde{r}_+^{2} + a^{2}\\right)^{2}}$"
      ],
      "text/plain": [
       "2*(\\tilde{r} - \\tilde{r}_+)*(-\\tilde{r}_+**2 + a)*(\\tilde{r}_+**2 + a**2*cos(theta)**2)**2*(a + 1)/((\\tilde{r}**2 + a**2*cos(theta)**2)*(\\tilde{r}_+**2 + a**2)**2)"
      ]
     },
     "execution_count": 50,
     "metadata": {},
     "output_type": "execute_result"
    }
   ],
   "source": [
    "metric_coeffs[metric_utils.B]"
   ]
  },
  {
   "cell_type": "code",
   "execution_count": 51,
   "metadata": {},
   "outputs": [
    {
     "data": {
      "text/latex": [
       "$\\displaystyle \\frac{2 a \\left(\\tilde{r} - \\tilde{r}_+\\right) \\left(- \\tilde{r}_+^{2} + a\\right) \\left(\\tilde{r}_+^{2} + a^{2} \\cos^{2}{\\left(\\theta \\right)}\\right) \\sin^{2}{\\left(\\theta \\right)}}{\\left(\\tilde{r}^{2} + a^{2} \\cos^{2}{\\left(\\theta \\right)}\\right) \\left(\\tilde{r}_+^{2} + a^{2}\\right) \\left(a - 1\\right)}$"
      ],
      "text/plain": [
       "2*a*(\\tilde{r} - \\tilde{r}_+)*(-\\tilde{r}_+**2 + a)*(\\tilde{r}_+**2 + a**2*cos(theta)**2)*sin(theta)**2/((\\tilde{r}**2 + a**2*cos(theta)**2)*(\\tilde{r}_+**2 + a**2)*(a - 1))"
      ]
     },
     "execution_count": 51,
     "metadata": {},
     "output_type": "execute_result"
    }
   ],
   "source": [
    "metric_coeffs[metric_utils.C]"
   ]
  },
  {
   "cell_type": "code",
   "execution_count": 52,
   "metadata": {},
   "outputs": [
    {
     "data": {
      "text/latex": [
       "$\\displaystyle \\frac{a \\left(\\tilde{r} - \\tilde{r}_+\\right) \\left(- \\tilde{r}^{3} \\tilde{r}_+^{2} - \\tilde{r}^{3} - \\tilde{r}^{2} \\tilde{r}_+^{3} - \\tilde{r}^{2} \\tilde{r}_+ - \\tilde{r} \\tilde{r}_+^{4} - \\tilde{r} \\tilde{r}_+^{2} a^{2} \\cos^{2}{\\left(\\theta \\right)} - \\tilde{r} \\tilde{r}_+^{2} a^{2} - \\tilde{r} \\tilde{r}_+^{2} - \\tilde{r} a^{2} \\cos^{2}{\\left(\\theta \\right)} - \\tilde{r} a^{2} - \\tilde{r}_+^{5} - \\tilde{r}_+^{3} a^{2} \\cos^{2}{\\left(\\theta \\right)} + \\tilde{r}_+^{3} a^{2} + 4 \\tilde{r}_+^{3} a + \\tilde{r}_+^{3} + 2 \\tilde{r}_+ a^{4} \\cos^{2}{\\left(\\theta \\right)} + 4 \\tilde{r}_+ a^{3} \\cos^{2}{\\left(\\theta \\right)} + \\tilde{r}_+ a^{2} \\cos^{2}{\\left(\\theta \\right)} - \\tilde{r}_+ a^{2}\\right) \\sin^{2}{\\left(\\theta \\right)}}{\\left(\\tilde{r}^{2} + a^{2} \\cos^{2}{\\left(\\theta \\right)}\\right) \\left(\\tilde{r}_+^{2} + a^{2}\\right) \\left(a - 1\\right) \\left(a + 1\\right)}$"
      ],
      "text/plain": [
       "a*(\\tilde{r} - \\tilde{r}_+)*(-\\tilde{r}**3*\\tilde{r}_+**2 - \\tilde{r}**3 - \\tilde{r}**2*\\tilde{r}_+**3 - \\tilde{r}**2*\\tilde{r}_+ - \\tilde{r}*\\tilde{r}_+**4 - \\tilde{r}*\\tilde{r}_+**2*a**2*cos(theta)**2 - \\tilde{r}*\\tilde{r}_+**2*a**2 - \\tilde{r}*\\tilde{r}_+**2 - \\tilde{r}*a**2*cos(theta)**2 - \\tilde{r}*a**2 - \\tilde{r}_+**5 - \\tilde{r}_+**3*a**2*cos(theta)**2 + \\tilde{r}_+**3*a**2 + 4*\\tilde{r}_+**3*a + \\tilde{r}_+**3 + 2*\\tilde{r}_+*a**4*cos(theta)**2 + 4*\\tilde{r}_+*a**3*cos(theta)**2 + \\tilde{r}_+*a**2*cos(theta)**2 - \\tilde{r}_+*a**2)*sin(theta)**2/((\\tilde{r}**2 + a**2*cos(theta)**2)*(\\tilde{r}_+**2 + a**2)*(a - 1)*(a + 1))"
      ]
     },
     "execution_count": 52,
     "metadata": {},
     "output_type": "execute_result"
    }
   ],
   "source": [
    "metric_coeffs[metric_utils.D]"
   ]
  },
  {
   "cell_type": "code",
   "execution_count": 53,
   "metadata": {},
   "outputs": [
    {
     "data": {
      "text/latex": [
       "$\\displaystyle \\frac{\\left(- \\tilde{r}^{4} a^{2} + \\tilde{r}^{4} + \\tilde{r}^{2} a^{4} \\sin^{2}{\\left(\\theta \\right)} - 2 \\tilde{r}^{2} a^{4} - \\tilde{r}^{2} a^{2} \\sin^{2}{\\left(\\theta \\right)} + 2 \\tilde{r}^{2} a^{2} + 2 \\tilde{r} \\tilde{r}_+ a^{4} \\sin^{2}{\\left(\\theta \\right)} + 4 \\tilde{r} \\tilde{r}_+ a^{3} \\sin^{2}{\\left(\\theta \\right)} + 2 \\tilde{r} \\tilde{r}_+ a^{2} \\sin^{2}{\\left(\\theta \\right)} + \\tilde{r}_+^{4} a^{2} \\sin^{2}{\\left(\\theta \\right)} - \\tilde{r}_+^{2} a^{4} \\sin^{2}{\\left(\\theta \\right)} - 4 \\tilde{r}_+^{2} a^{3} \\sin^{2}{\\left(\\theta \\right)} - \\tilde{r}_+^{2} a^{2} \\sin^{2}{\\left(\\theta \\right)} + a^{6} \\sin^{2}{\\left(\\theta \\right)} - a^{6} + a^{4}\\right) \\sin^{2}{\\left(\\theta \\right)}}{\\left(\\tilde{r}^{2} + a^{2} \\cos^{2}{\\left(\\theta \\right)}\\right) \\left(a - 1\\right)^{2} \\left(a + 1\\right)^{2}}$"
      ],
      "text/plain": [
       "(-\\tilde{r}**4*a**2 + \\tilde{r}**4 + \\tilde{r}**2*a**4*sin(theta)**2 - 2*\\tilde{r}**2*a**4 - \\tilde{r}**2*a**2*sin(theta)**2 + 2*\\tilde{r}**2*a**2 + 2*\\tilde{r}*\\tilde{r}_+*a**4*sin(theta)**2 + 4*\\tilde{r}*\\tilde{r}_+*a**3*sin(theta)**2 + 2*\\tilde{r}*\\tilde{r}_+*a**2*sin(theta)**2 + \\tilde{r}_+**4*a**2*sin(theta)**2 - \\tilde{r}_+**2*a**4*sin(theta)**2 - 4*\\tilde{r}_+**2*a**3*sin(theta)**2 - \\tilde{r}_+**2*a**2*sin(theta)**2 + a**6*sin(theta)**2 - a**6 + a**4)*sin(theta)**2/((\\tilde{r}**2 + a**2*cos(theta)**2)*(a - 1)**2*(a + 1)**2)"
      ]
     },
     "execution_count": 53,
     "metadata": {},
     "output_type": "execute_result"
    }
   ],
   "source": [
    "metric_coeffs[metric_utils.E]"
   ]
  },
  {
   "cell_type": "code",
   "execution_count": 54,
   "metadata": {},
   "outputs": [
    {
     "data": {
      "text/latex": [
       "$\\displaystyle - \\frac{2 a^{2} \\left(\\tilde{r} - \\tilde{r}_+\\right) \\left(- \\tilde{r}_+^{2} + a\\right) \\sin^{4}{\\left(\\theta \\right)}}{\\left(\\tilde{r}^{2} + a^{2} \\cos^{2}{\\left(\\theta \\right)}\\right) \\left(a - 1\\right)^{2} \\left(a + 1\\right)}$"
      ],
      "text/plain": [
       "-2*a**2*(\\tilde{r} - \\tilde{r}_+)*(-\\tilde{r}_+**2 + a)*sin(theta)**4/((\\tilde{r}**2 + a**2*cos(theta)**2)*(a - 1)**2*(a + 1))"
      ]
     },
     "execution_count": 54,
     "metadata": {},
     "output_type": "execute_result"
    }
   ],
   "source": [
    "metric_coeffs[metric_utils.F]"
   ]
  },
  {
   "cell_type": "code",
   "execution_count": 55,
   "metadata": {},
   "outputs": [
    {
     "data": {
      "text/latex": [
       "$\\displaystyle - \\frac{2 \\left(\\tilde{r} - \\tilde{r}_+\\right) \\left(\\tilde{r}^{2} + a^{2} \\cos^{2}{\\left(\\theta \\right)}\\right) \\left(- \\tilde{r}_+^{2} + a\\right) \\left(a + 1\\right)}{\\left(- 2 \\tilde{r} + 2 \\tilde{r}_+\\right)^{2} \\left(\\tilde{r}_+^{2} - a\\right)^{2} \\left(a + 1\\right)^{2} + \\left(\\tilde{r}^{4} - \\tilde{r}_+^{4} + 2 a \\left(- \\tilde{r}^{2} + \\tilde{r}_+^{2}\\right) + \\left(- \\tilde{r} + \\tilde{r}_+\\right)^{2} \\left(a + 1\\right)^{2}\\right)^{2}}$"
      ],
      "text/plain": [
       "-2*(\\tilde{r} - \\tilde{r}_+)*(\\tilde{r}**2 + a**2*cos(theta)**2)*(-\\tilde{r}_+**2 + a)*(a + 1)/((-2*\\tilde{r} + 2*\\tilde{r}_+)**2*(\\tilde{r}_+**2 - a)**2*(a + 1)**2 + (\\tilde{r}**4 - \\tilde{r}_+**4 + 2*a*(-\\tilde{r}**2 + \\tilde{r}_+**2) + (-\\tilde{r} + \\tilde{r}_+)**2*(a + 1)**2)**2)"
      ]
     },
     "execution_count": 55,
     "metadata": {},
     "output_type": "execute_result"
    }
   ],
   "source": [
    "metric_coeffs[metric_utils.H]"
   ]
  }
 ],
 "metadata": {
  "kernelspec": {
   "display_name": "env",
   "language": "python",
   "name": "python3"
  },
  "language_info": {
   "codemirror_mode": {
    "name": "ipython",
    "version": 3
   },
   "file_extension": ".py",
   "mimetype": "text/x-python",
   "name": "python",
   "nbconvert_exporter": "python",
   "pygments_lexer": "ipython3",
   "version": "3.10.3"
  },
  "orig_nbformat": 4
 },
 "nbformat": 4,
 "nbformat_minor": 2
}
