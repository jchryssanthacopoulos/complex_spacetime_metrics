{
 "cells": [
  {
   "cell_type": "code",
   "execution_count": 1,
   "metadata": {},
   "outputs": [],
   "source": [
    "from complex_spacetime_metrics import metric"
   ]
  },
  {
   "cell_type": "code",
   "execution_count": 2,
   "metadata": {},
   "outputs": [],
   "source": [
    "base_metric = metric.metric_3d()"
   ]
  },
  {
   "cell_type": "code",
   "execution_count": 3,
   "metadata": {},
   "outputs": [
    {
     "data": {
      "text/latex": [
       "$\\displaystyle - \\frac{\\Delta_{r} \\left(dt - \\frac{a d\\phi \\sin^{2}{\\left(\\theta \\right)}}{\\Xi}\\right)^{2}}{W} + \\frac{\\Delta_{\\theta} \\left(a dt - \\frac{d\\phi \\left(\\tilde{r}^{2} + a^{2}\\right)}{\\Xi}\\right)^{2} \\sin^{2}{\\left(\\theta \\right)}}{W} + \\frac{W d\\tilde{r}^{2}}{\\Delta_{r}}$"
      ],
      "text/plain": [
       "-Delta_r*(dt - a*d\\phi*sin(theta)**2/Xi)**2/W + Delta_theta*(a*dt - d\\phi*(\\tilde{r}**2 + a**2)/Xi)**2*sin(theta)**2/W + W*d\\tilde{r}**2/Delta_r"
      ]
     },
     "execution_count": 3,
     "metadata": {},
     "output_type": "execute_result"
    }
   ],
   "source": [
    "base_metric"
   ]
  },
  {
   "cell_type": "code",
   "execution_count": 5,
   "metadata": {},
   "outputs": [
    {
     "data": {
      "text/latex": [
       "$\\displaystyle d\\phi^{2} \\left(- \\frac{\\Delta_{r} a^{2} \\sin^{4}{\\left(\\theta \\right)}}{W \\Xi^{2}} + \\frac{\\Delta_{\\theta} \\tilde{r}^{4} \\sin^{2}{\\left(\\theta \\right)}}{W \\Xi^{2}} + \\frac{2 \\Delta_{\\theta} \\tilde{r}^{2} a^{2} \\sin^{2}{\\left(\\theta \\right)}}{W \\Xi^{2}} + \\frac{\\Delta_{\\theta} a^{4} \\sin^{2}{\\left(\\theta \\right)}}{W \\Xi^{2}}\\right) + d\\phi d\\tau \\left(\\frac{2 i \\Delta_{r} a \\sin^{2}{\\left(\\theta \\right)}}{W \\Xi} - \\frac{2 i \\Delta_{\\theta} \\tilde{r}^{2} a \\sin^{2}{\\left(\\theta \\right)}}{W \\Xi} - \\frac{2 i \\Delta_{\\theta} a^{3} \\sin^{2}{\\left(\\theta \\right)}}{W \\Xi}\\right) + d\\tau^{2} \\left(\\frac{\\Delta_{r}}{W} - \\frac{\\Delta_{\\theta} a^{2} \\sin^{2}{\\left(\\theta \\right)}}{W}\\right) + \\frac{W d\\tilde{r}^{2}}{\\Delta_{r}}$"
      ],
      "text/plain": [
       "d\\phi**2*(-Delta_r*a**2*sin(theta)**4/(W*Xi**2) + Delta_theta*\\tilde{r}**4*sin(theta)**2/(W*Xi**2) + 2*Delta_theta*\\tilde{r}**2*a**2*sin(theta)**2/(W*Xi**2) + Delta_theta*a**4*sin(theta)**2/(W*Xi**2)) + d\\phi*d\\tau*(2*I*Delta_r*a*sin(theta)**2/(W*Xi) - 2*I*Delta_theta*\\tilde{r}**2*a*sin(theta)**2/(W*Xi) - 2*I*Delta_theta*a**3*sin(theta)**2/(W*Xi)) + d\\tau**2*(Delta_r/W - Delta_theta*a**2*sin(theta)**2/W) + W*d\\tilde{r}**2/Delta_r"
      ]
     },
     "execution_count": 5,
     "metadata": {},
     "output_type": "execute_result"
    }
   ],
   "source": [
    "euclidean_metric = metric.wick_rotate(base_metric)\n",
    "euclidean_metric"
   ]
  },
  {
   "cell_type": "code",
   "execution_count": null,
   "metadata": {},
   "outputs": [],
   "source": []
  }
 ],
 "metadata": {
  "kernelspec": {
   "display_name": "env",
   "language": "python",
   "name": "python3"
  },
  "language_info": {
   "codemirror_mode": {
    "name": "ipython",
    "version": 3
   },
   "file_extension": ".py",
   "mimetype": "text/x-python",
   "name": "python",
   "nbconvert_exporter": "python",
   "pygments_lexer": "ipython3",
   "version": "3.10.3"
  },
  "orig_nbformat": 4
 },
 "nbformat": 4,
 "nbformat_minor": 2
}
