{
 "cells": [
  {
   "cell_type": "code",
   "execution_count": 1,
   "metadata": {},
   "outputs": [],
   "source": [
    "import sympy\n",
    "\n",
    "from complex_spacetime_metrics import config\n",
    "from complex_spacetime_metrics import metric as metric_utils\n",
    "from complex_spacetime_metrics.admissibility import AnalyticalRoots\n",
    "from complex_spacetime_metrics.plot import plot_admissibility"
   ]
  },
  {
   "cell_type": "code",
   "execution_count": 2,
   "metadata": {},
   "outputs": [],
   "source": [
    "q_val = \"q_1\"\n",
    "filename_base = \"G_gt_0\""
   ]
  },
  {
   "cell_type": "code",
   "execution_count": 3,
   "metadata": {},
   "outputs": [],
   "source": [
    "data_dir_path = f\"../../data/{q_val}\"\n",
    "figure_dir_path = f\"../../figures/{q_val}\""
   ]
  },
  {
   "attachments": {},
   "cell_type": "markdown",
   "metadata": {},
   "source": [
    "Build metric."
   ]
  },
  {
   "cell_type": "code",
   "execution_count": 4,
   "metadata": {},
   "outputs": [],
   "source": [
    "metric = metric_utils.Metric3D()\n",
    "metric_coeffs = metric.coefficients()"
   ]
  },
  {
   "cell_type": "code",
   "execution_count": 5,
   "metadata": {},
   "outputs": [
    {
     "data": {
      "text/latex": [
       "$\\displaystyle \\frac{\\left(\\tilde{r} - \\tilde{r}_+\\right) \\left(\\tilde{r}^{2} + a^{2} \\cos^{2}{\\left(\\theta \\right)}\\right) \\left(\\tilde{r}^{3} + \\tilde{r}^{2} \\tilde{r}_+ + \\tilde{r} \\tilde{r}_+^{2} + \\tilde{r} a^{2} + \\tilde{r} + \\tilde{r}_+^{3} - \\tilde{r}_+ a^{2} - 4 \\tilde{r}_+ a - \\tilde{r}_+\\right)}{\\left(- 2 \\tilde{r} + 2 \\tilde{r}_+\\right)^{2} \\left(\\tilde{r}_+^{2} - a\\right)^{2} \\left(a + 1\\right)^{2} + \\left(\\tilde{r}^{4} - \\tilde{r}_+^{4} + 2 a \\left(- \\tilde{r}^{2} + \\tilde{r}_+^{2}\\right) + \\left(- \\tilde{r} + \\tilde{r}_+\\right)^{2} \\left(a + 1\\right)^{2}\\right)^{2}}$"
      ],
      "text/plain": [
       "(\\tilde{r} - \\tilde{r}_+)*(\\tilde{r}**2 + a**2*cos(theta)**2)*(\\tilde{r}**3 + \\tilde{r}**2*\\tilde{r}_+ + \\tilde{r}*\\tilde{r}_+**2 + \\tilde{r}*a**2 + \\tilde{r} + \\tilde{r}_+**3 - \\tilde{r}_+*a**2 - 4*\\tilde{r}_+*a - \\tilde{r}_+)/((-2*\\tilde{r} + 2*\\tilde{r}_+)**2*(\\tilde{r}_+**2 - a)**2*(a + 1)**2 + (\\tilde{r}**4 - \\tilde{r}_+**4 + 2*a*(-\\tilde{r}**2 + \\tilde{r}_+**2) + (-\\tilde{r} + \\tilde{r}_+)**2*(a + 1)**2)**2)"
      ]
     },
     "execution_count": 5,
     "metadata": {},
     "output_type": "execute_result"
    }
   ],
   "source": [
    "metric_coeffs[metric_utils.G]"
   ]
  },
  {
   "cell_type": "code",
   "execution_count": 6,
   "metadata": {},
   "outputs": [
    {
     "data": {
      "text/latex": [
       "$\\displaystyle \\left(\\tilde{r} - \\tilde{r}_+\\right) \\left(\\tilde{r}^{2} + a^{2} \\cos^{2}{\\left(\\theta \\right)}\\right) \\left(\\tilde{r}^{3} + \\tilde{r}^{2} \\tilde{r}_+ + \\tilde{r} \\tilde{r}_+^{2} + \\tilde{r} a^{2} + \\tilde{r} + \\tilde{r}_+^{3} - \\tilde{r}_+ a^{2} - 4 \\tilde{r}_+ a - \\tilde{r}_+\\right)$"
      ],
      "text/plain": [
       "(\\tilde{r} - \\tilde{r}_+)*(\\tilde{r}**2 + a**2*cos(theta)**2)*(\\tilde{r}**3 + \\tilde{r}**2*\\tilde{r}_+ + \\tilde{r}*\\tilde{r}_+**2 + \\tilde{r}*a**2 + \\tilde{r} + \\tilde{r}_+**3 - \\tilde{r}_+*a**2 - 4*\\tilde{r}_+*a - \\tilde{r}_+)"
      ]
     },
     "execution_count": 6,
     "metadata": {},
     "output_type": "execute_result"
    }
   ],
   "source": [
    "G = sympy.fraction(metric_coeffs[metric_utils.G])[0]\n",
    "G"
   ]
  },
  {
   "cell_type": "code",
   "execution_count": 7,
   "metadata": {},
   "outputs": [
    {
     "data": {
      "text/latex": [
       "$\\displaystyle \\tilde{r}^{3} + \\tilde{r}^{2} \\tilde{r}_+ + \\tilde{r} \\tilde{r}_+^{2} + \\tilde{r} a^{2} + \\tilde{r} + \\tilde{r}_+^{3} - \\tilde{r}_+ a^{2} - 4 \\tilde{r}_+ a - \\tilde{r}_+$"
      ],
      "text/plain": [
       "\\tilde{r}**3 + \\tilde{r}**2*\\tilde{r}_+ + \\tilde{r}*\\tilde{r}_+**2 + \\tilde{r}*a**2 + \\tilde{r} + \\tilde{r}_+**3 - \\tilde{r}_+*a**2 - 4*\\tilde{r}_+*a - \\tilde{r}_+"
      ]
     },
     "execution_count": 7,
     "metadata": {},
     "output_type": "execute_result"
    }
   ],
   "source": [
    "G = G.args[2]\n",
    "G"
   ]
  },
  {
   "cell_type": "code",
   "execution_count": 8,
   "metadata": {},
   "outputs": [],
   "source": [
    "roots = sympy.solve(G, metric_utils.r_tilde)"
   ]
  },
  {
   "cell_type": "code",
   "execution_count": 9,
   "metadata": {},
   "outputs": [
    {
     "data": {
      "text/latex": [
       "$\\displaystyle 1$"
      ],
      "text/plain": [
       "1"
      ]
     },
     "execution_count": 9,
     "metadata": {},
     "output_type": "execute_result"
    }
   ],
   "source": [
    "G_coeffs = sympy.Poly(G, metric_utils.r_tilde).all_coeffs()\n",
    "leading_coeff = G_coeffs[0].simplify().factor()\n",
    "leading_coeff"
   ]
  },
  {
   "attachments": {},
   "cell_type": "markdown",
   "metadata": {},
   "source": [
    "Evaluate admissibility."
   ]
  },
  {
   "cell_type": "code",
   "execution_count": 11,
   "metadata": {},
   "outputs": [],
   "source": [
    "admissible_evaluator = AnalyticalRoots()"
   ]
  },
  {
   "cell_type": "code",
   "execution_count": 12,
   "metadata": {},
   "outputs": [],
   "source": [
    "parameter_grid = config.grids['fine']"
   ]
  },
  {
   "cell_type": "code",
   "execution_count": 14,
   "metadata": {},
   "outputs": [
    {
     "name": "stderr",
     "output_type": "stream",
     "text": [
      "100%|██████████| 40401/40401 [02:02<00:00, 330.83it/s]\n"
     ]
    }
   ],
   "source": [
    "filename_data = f\"{data_dir_path}/{filename_base}.pk\"\n",
    "admissible_map = admissible_evaluator.admissibility(parameter_grid, roots, leading_coeff, filename=filename_data)"
   ]
  },
  {
   "cell_type": "code",
   "execution_count": 15,
   "metadata": {},
   "outputs": [],
   "source": [
    "filename_plot = f\"{figure_dir_path}/{filename_base}.pdf\"\n",
    "plot_admissibility(parameter_grid, admissible_map, filename_plot)"
   ]
  }
 ],
 "metadata": {
  "kernelspec": {
   "display_name": "env",
   "language": "python",
   "name": "python3"
  },
  "language_info": {
   "codemirror_mode": {
    "name": "ipython",
    "version": 3
   },
   "file_extension": ".py",
   "mimetype": "text/x-python",
   "name": "python",
   "nbconvert_exporter": "python",
   "pygments_lexer": "ipython3",
   "version": "3.10.3"
  },
  "orig_nbformat": 4
 },
 "nbformat": 4,
 "nbformat_minor": 2
}
