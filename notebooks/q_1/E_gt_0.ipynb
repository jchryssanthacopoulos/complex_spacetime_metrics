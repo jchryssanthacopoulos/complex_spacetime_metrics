{
 "cells": [
  {
   "cell_type": "code",
   "execution_count": 1,
   "metadata": {},
   "outputs": [],
   "source": [
    "import sympy\n",
    "\n",
    "from complex_spacetime_metrics import config\n",
    "from complex_spacetime_metrics import metric as metric_utils\n",
    "from complex_spacetime_metrics.admissibility import AnalyticalRootsAngular\n",
    "from complex_spacetime_metrics.plot import plot_admissibility"
   ]
  },
  {
   "cell_type": "code",
   "execution_count": null,
   "metadata": {},
   "outputs": [],
   "source": [
    "q_val = \"q_1\"\n",
    "filename_base = \"E_gt_0\""
   ]
  },
  {
   "cell_type": "code",
   "execution_count": null,
   "metadata": {},
   "outputs": [],
   "source": [
    "data_dir_path = f\"../../data/{q_val}\"\n",
    "figure_dir_path = f\"../../figures/{q_val}\""
   ]
  },
  {
   "cell_type": "code",
   "execution_count": 3,
   "metadata": {},
   "outputs": [],
   "source": [
    "metric = metric_utils.Metric3D()\n",
    "metric_coeffs = metric.coefficients()"
   ]
  },
  {
   "cell_type": "code",
   "execution_count": 4,
   "metadata": {},
   "outputs": [
    {
     "data": {
      "text/latex": [
       "$\\displaystyle \\frac{\\left(- \\tilde{r}^{4} a^{2} + \\tilde{r}^{4} + \\tilde{r}^{2} a^{4} \\sin^{2}{\\left(\\theta \\right)} - 2 \\tilde{r}^{2} a^{4} - \\tilde{r}^{2} a^{2} \\sin^{2}{\\left(\\theta \\right)} + 2 \\tilde{r}^{2} a^{2} + 2 \\tilde{r} \\tilde{r}_+ a^{4} \\sin^{2}{\\left(\\theta \\right)} + 4 \\tilde{r} \\tilde{r}_+ a^{3} \\sin^{2}{\\left(\\theta \\right)} + 2 \\tilde{r} \\tilde{r}_+ a^{2} \\sin^{2}{\\left(\\theta \\right)} + \\tilde{r}_+^{4} a^{2} \\sin^{2}{\\left(\\theta \\right)} - \\tilde{r}_+^{2} a^{4} \\sin^{2}{\\left(\\theta \\right)} - 4 \\tilde{r}_+^{2} a^{3} \\sin^{2}{\\left(\\theta \\right)} - \\tilde{r}_+^{2} a^{2} \\sin^{2}{\\left(\\theta \\right)} + a^{6} \\sin^{2}{\\left(\\theta \\right)} - a^{6} + a^{4}\\right) \\sin^{2}{\\left(\\theta \\right)}}{\\left(\\tilde{r}^{2} + a^{2} \\cos^{2}{\\left(\\theta \\right)}\\right) \\left(a - 1\\right)^{2} \\left(a + 1\\right)^{2}}$"
      ],
      "text/plain": [
       "(-\\tilde{r}**4*a**2 + \\tilde{r}**4 + \\tilde{r}**2*a**4*sin(theta)**2 - 2*\\tilde{r}**2*a**4 - \\tilde{r}**2*a**2*sin(theta)**2 + 2*\\tilde{r}**2*a**2 + 2*\\tilde{r}*\\tilde{r}_+*a**4*sin(theta)**2 + 4*\\tilde{r}*\\tilde{r}_+*a**3*sin(theta)**2 + 2*\\tilde{r}*\\tilde{r}_+*a**2*sin(theta)**2 + \\tilde{r}_+**4*a**2*sin(theta)**2 - \\tilde{r}_+**2*a**4*sin(theta)**2 - 4*\\tilde{r}_+**2*a**3*sin(theta)**2 - \\tilde{r}_+**2*a**2*sin(theta)**2 + a**6*sin(theta)**2 - a**6 + a**4)*sin(theta)**2/((\\tilde{r}**2 + a**2*cos(theta)**2)*(a - 1)**2*(a + 1)**2)"
      ]
     },
     "execution_count": 4,
     "metadata": {},
     "output_type": "execute_result"
    }
   ],
   "source": [
    "metric_coeffs[metric_utils.E]"
   ]
  },
  {
   "cell_type": "code",
   "execution_count": 5,
   "metadata": {},
   "outputs": [
    {
     "data": {
      "text/latex": [
       "$\\displaystyle \\left(- \\tilde{r}^{4} a^{2} + \\tilde{r}^{4} + \\tilde{r}^{2} a^{4} \\sin^{2}{\\left(\\theta \\right)} - 2 \\tilde{r}^{2} a^{4} - \\tilde{r}^{2} a^{2} \\sin^{2}{\\left(\\theta \\right)} + 2 \\tilde{r}^{2} a^{2} + 2 \\tilde{r} \\tilde{r}_+ a^{4} \\sin^{2}{\\left(\\theta \\right)} + 4 \\tilde{r} \\tilde{r}_+ a^{3} \\sin^{2}{\\left(\\theta \\right)} + 2 \\tilde{r} \\tilde{r}_+ a^{2} \\sin^{2}{\\left(\\theta \\right)} + \\tilde{r}_+^{4} a^{2} \\sin^{2}{\\left(\\theta \\right)} - \\tilde{r}_+^{2} a^{4} \\sin^{2}{\\left(\\theta \\right)} - 4 \\tilde{r}_+^{2} a^{3} \\sin^{2}{\\left(\\theta \\right)} - \\tilde{r}_+^{2} a^{2} \\sin^{2}{\\left(\\theta \\right)} + a^{6} \\sin^{2}{\\left(\\theta \\right)} - a^{6} + a^{4}\\right) \\sin^{2}{\\left(\\theta \\right)}$"
      ],
      "text/plain": [
       "(-\\tilde{r}**4*a**2 + \\tilde{r}**4 + \\tilde{r}**2*a**4*sin(theta)**2 - 2*\\tilde{r}**2*a**4 - \\tilde{r}**2*a**2*sin(theta)**2 + 2*\\tilde{r}**2*a**2 + 2*\\tilde{r}*\\tilde{r}_+*a**4*sin(theta)**2 + 4*\\tilde{r}*\\tilde{r}_+*a**3*sin(theta)**2 + 2*\\tilde{r}*\\tilde{r}_+*a**2*sin(theta)**2 + \\tilde{r}_+**4*a**2*sin(theta)**2 - \\tilde{r}_+**2*a**4*sin(theta)**2 - 4*\\tilde{r}_+**2*a**3*sin(theta)**2 - \\tilde{r}_+**2*a**2*sin(theta)**2 + a**6*sin(theta)**2 - a**6 + a**4)*sin(theta)**2"
      ]
     },
     "execution_count": 5,
     "metadata": {},
     "output_type": "execute_result"
    }
   ],
   "source": [
    "E = sympy.fraction(metric_coeffs[metric_utils.E])[0]\n",
    "E"
   ]
  },
  {
   "cell_type": "code",
   "execution_count": 6,
   "metadata": {},
   "outputs": [
    {
     "data": {
      "text/latex": [
       "$\\displaystyle - \\tilde{r}^{4} a^{2} + \\tilde{r}^{4} + \\tilde{r}^{2} a^{4} \\sin^{2}{\\left(\\theta \\right)} - 2 \\tilde{r}^{2} a^{4} - \\tilde{r}^{2} a^{2} \\sin^{2}{\\left(\\theta \\right)} + 2 \\tilde{r}^{2} a^{2} + 2 \\tilde{r} \\tilde{r}_+ a^{4} \\sin^{2}{\\left(\\theta \\right)} + 4 \\tilde{r} \\tilde{r}_+ a^{3} \\sin^{2}{\\left(\\theta \\right)} + 2 \\tilde{r} \\tilde{r}_+ a^{2} \\sin^{2}{\\left(\\theta \\right)} + \\tilde{r}_+^{4} a^{2} \\sin^{2}{\\left(\\theta \\right)} - \\tilde{r}_+^{2} a^{4} \\sin^{2}{\\left(\\theta \\right)} - 4 \\tilde{r}_+^{2} a^{3} \\sin^{2}{\\left(\\theta \\right)} - \\tilde{r}_+^{2} a^{2} \\sin^{2}{\\left(\\theta \\right)} + a^{6} \\sin^{2}{\\left(\\theta \\right)} - a^{6} + a^{4}$"
      ],
      "text/plain": [
       "-\\tilde{r}**4*a**2 + \\tilde{r}**4 + \\tilde{r}**2*a**4*sin(theta)**2 - 2*\\tilde{r}**2*a**4 - \\tilde{r}**2*a**2*sin(theta)**2 + 2*\\tilde{r}**2*a**2 + 2*\\tilde{r}*\\tilde{r}_+*a**4*sin(theta)**2 + 4*\\tilde{r}*\\tilde{r}_+*a**3*sin(theta)**2 + 2*\\tilde{r}*\\tilde{r}_+*a**2*sin(theta)**2 + \\tilde{r}_+**4*a**2*sin(theta)**2 - \\tilde{r}_+**2*a**4*sin(theta)**2 - 4*\\tilde{r}_+**2*a**3*sin(theta)**2 - \\tilde{r}_+**2*a**2*sin(theta)**2 + a**6*sin(theta)**2 - a**6 + a**4"
      ]
     },
     "execution_count": 6,
     "metadata": {},
     "output_type": "execute_result"
    }
   ],
   "source": [
    "E /= sympy.sin(metric_utils.theta) ** 2\n",
    "E"
   ]
  },
  {
   "cell_type": "code",
   "execution_count": 7,
   "metadata": {},
   "outputs": [],
   "source": [
    "roots = sympy.solve(E, metric_utils.r_tilde)"
   ]
  },
  {
   "cell_type": "code",
   "execution_count": 10,
   "metadata": {},
   "outputs": [
    {
     "data": {
      "text/latex": [
       "$\\displaystyle 1 - a^{2}$"
      ],
      "text/plain": [
       "1 - a**2"
      ]
     },
     "execution_count": 10,
     "metadata": {},
     "output_type": "execute_result"
    }
   ],
   "source": [
    "A_coeffs = sympy.Poly(E, metric_utils.r_tilde).all_coeffs()\n",
    "leading_coeff = A_coeffs[0].simplify()\n",
    "leading_coeff"
   ]
  },
  {
   "cell_type": "code",
   "execution_count": 11,
   "metadata": {},
   "outputs": [],
   "source": [
    "admissible_evaluator = AnalyticalRootsAngular()\n",
    "admissible_maps = {}"
   ]
  },
  {
   "cell_type": "code",
   "execution_count": 13,
   "metadata": {},
   "outputs": [
    {
     "name": "stdout",
     "output_type": "stream",
     "text": [
      "Running theta_0 ...\n"
     ]
    },
    {
     "name": "stderr",
     "output_type": "stream",
     "text": [
      "100%|██████████| 40401/40401 [06:36<00:00, 101.79it/s]\n"
     ]
    },
    {
     "name": "stdout",
     "output_type": "stream",
     "text": [
      "Running theta_pi_12 ...\n"
     ]
    },
    {
     "name": "stderr",
     "output_type": "stream",
     "text": [
      "100%|██████████| 40401/40401 [10:10<00:00, 66.15it/s] \n"
     ]
    },
    {
     "name": "stdout",
     "output_type": "stream",
     "text": [
      "Running theta_pi_6 ...\n"
     ]
    },
    {
     "name": "stderr",
     "output_type": "stream",
     "text": [
      "100%|██████████| 40401/40401 [07:09<00:00, 94.15it/s] \n"
     ]
    },
    {
     "name": "stdout",
     "output_type": "stream",
     "text": [
      "Running theta_pi_4 ...\n"
     ]
    },
    {
     "name": "stderr",
     "output_type": "stream",
     "text": [
      "100%|██████████| 40401/40401 [06:16<00:00, 107.20it/s]\n"
     ]
    },
    {
     "name": "stdout",
     "output_type": "stream",
     "text": [
      "Running theta_pi_2 ...\n"
     ]
    },
    {
     "name": "stderr",
     "output_type": "stream",
     "text": [
      "100%|██████████| 40401/40401 [05:50<00:00, 115.38it/s]\n"
     ]
    },
    {
     "name": "stdout",
     "output_type": "stream",
     "text": [
      "Running theta_3_pi_4 ...\n"
     ]
    },
    {
     "name": "stderr",
     "output_type": "stream",
     "text": [
      "100%|██████████| 40401/40401 [06:19<00:00, 106.46it/s]\n"
     ]
    },
    {
     "name": "stdout",
     "output_type": "stream",
     "text": [
      "Running theta_pi ...\n"
     ]
    },
    {
     "name": "stderr",
     "output_type": "stream",
     "text": [
      "100%|██████████| 40401/40401 [12:07<00:00, 55.53it/s]\n"
     ]
    }
   ],
   "source": [
    "for theta_name, theta_val in config.thetas.items():\n",
    "    print(f\"Running {theta_name} ...\")\n",
    "\n",
    "    # conduct sweep\n",
    "    filename_data = f\"{data_dir_path}/{filename_base}.{theta_name}.pk\"\n",
    "    admissible_maps[theta_val] = admissible_evaluator.admissibility(\n",
    "        config.a_vals_grid, config.r_tilde_plus_vals_grid, theta_val, roots, leading_coeff, filename_data\n",
    "    )\n",
    "\n",
    "    # save plot\n",
    "    filename_plot = f\"{figure_dir_path}/{filename_base}.{theta_name}.pdf\"\n",
    "    plot_admissibility(config.a_vals_grid, config.r_tilde_plus_vals_grid, admissible_maps[theta_val], filename_plot)"
   ]
  }
 ],
 "metadata": {
  "kernelspec": {
   "display_name": "env",
   "language": "python",
   "name": "python3"
  },
  "language_info": {
   "codemirror_mode": {
    "name": "ipython",
    "version": 3
   },
   "file_extension": ".py",
   "mimetype": "text/x-python",
   "name": "python",
   "nbconvert_exporter": "python",
   "pygments_lexer": "ipython3",
   "version": "3.10.3"
  },
  "orig_nbformat": 4
 },
 "nbformat": 4,
 "nbformat_minor": 2
}
