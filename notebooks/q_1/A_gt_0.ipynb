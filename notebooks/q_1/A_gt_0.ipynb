{
 "cells": [
  {
   "cell_type": "code",
   "execution_count": 16,
   "metadata": {},
   "outputs": [],
   "source": [
    "import numpy as np\n",
    "import pickle\n",
    "import sympy\n",
    "\n",
    "from complex_spacetime_metrics import metric as metric_utils\n",
    "from complex_spacetime_metrics.admissibility import AnalyticalRootsAngular"
   ]
  },
  {
   "cell_type": "code",
   "execution_count": 2,
   "metadata": {},
   "outputs": [],
   "source": [
    "data_dir_path = \"../../data\""
   ]
  },
  {
   "attachments": {},
   "cell_type": "markdown",
   "metadata": {},
   "source": [
    "Build metric."
   ]
  },
  {
   "cell_type": "code",
   "execution_count": 3,
   "metadata": {},
   "outputs": [],
   "source": [
    "metric = metric_utils.Metric3D()"
   ]
  },
  {
   "cell_type": "code",
   "execution_count": 4,
   "metadata": {},
   "outputs": [],
   "source": [
    "metric_coeffs = metric.coefficients()"
   ]
  },
  {
   "cell_type": "code",
   "execution_count": 5,
   "metadata": {},
   "outputs": [
    {
     "data": {
      "text/latex": [
       "$\\displaystyle \\frac{\\left(\\tilde{r} - \\tilde{r}_+\\right) \\left(\\tilde{r}^{3} \\tilde{r}_+^{4} + 2 \\tilde{r}^{3} \\tilde{r}_+^{2} a^{2} \\cos^{2}{\\left(\\theta \\right)} + \\tilde{r}^{3} a^{4} \\cos^{2}{\\left(\\theta \\right)} + \\tilde{r}^{3} a^{2} \\cos^{2}{\\left(\\theta \\right)} - \\tilde{r}^{3} a^{2} + \\tilde{r}^{2} \\tilde{r}_+^{5} + 2 \\tilde{r}^{2} \\tilde{r}_+^{3} a^{2} \\cos^{2}{\\left(\\theta \\right)} + \\tilde{r}^{2} \\tilde{r}_+ a^{4} \\cos^{2}{\\left(\\theta \\right)} + \\tilde{r}^{2} \\tilde{r}_+ a^{2} \\cos^{2}{\\left(\\theta \\right)} - \\tilde{r}^{2} \\tilde{r}_+ a^{2} + \\tilde{r} \\tilde{r}_+^{6} + 2 \\tilde{r} \\tilde{r}_+^{4} a^{2} \\cos^{2}{\\left(\\theta \\right)} + \\tilde{r} \\tilde{r}_+^{4} a^{2} + \\tilde{r} \\tilde{r}_+^{4} + 2 \\tilde{r} \\tilde{r}_+^{2} a^{4} \\cos^{4}{\\left(\\theta \\right)} + \\tilde{r} \\tilde{r}_+^{2} a^{4} \\cos^{2}{\\left(\\theta \\right)} + \\tilde{r} \\tilde{r}_+^{2} a^{2} \\cos^{2}{\\left(\\theta \\right)} + \\tilde{r} \\tilde{r}_+^{2} a^{2} + \\tilde{r} a^{6} \\cos^{4}{\\left(\\theta \\right)} + \\tilde{r} a^{4} \\cos^{4}{\\left(\\theta \\right)} + \\tilde{r}_+^{7} + 2 \\tilde{r}_+^{5} a^{2} \\cos^{2}{\\left(\\theta \\right)} - \\tilde{r}_+^{5} a^{2} - 4 \\tilde{r}_+^{5} a - \\tilde{r}_+^{5} + 2 \\tilde{r}_+^{3} a^{4} \\cos^{4}{\\left(\\theta \\right)} - 3 \\tilde{r}_+^{3} a^{4} \\cos^{2}{\\left(\\theta \\right)} - 8 \\tilde{r}_+^{3} a^{3} \\cos^{2}{\\left(\\theta \\right)} - 3 \\tilde{r}_+^{3} a^{2} \\cos^{2}{\\left(\\theta \\right)} + \\tilde{r}_+^{3} a^{2} - \\tilde{r}_+ a^{6} \\cos^{4}{\\left(\\theta \\right)} - 4 \\tilde{r}_+ a^{5} \\cos^{4}{\\left(\\theta \\right)} - \\tilde{r}_+ a^{4} \\cos^{4}{\\left(\\theta \\right)}\\right)}{\\left(\\tilde{r}^{2} + a^{2} \\cos^{2}{\\left(\\theta \\right)}\\right) \\left(\\tilde{r}_+^{2} + a^{2}\\right)^{2}}$"
      ],
      "text/plain": [
       "(\\tilde{r} - \\tilde{r}_+)*(\\tilde{r}**3*\\tilde{r}_+**4 + 2*\\tilde{r}**3*\\tilde{r}_+**2*a**2*cos(theta)**2 + \\tilde{r}**3*a**4*cos(theta)**2 + \\tilde{r}**3*a**2*cos(theta)**2 - \\tilde{r}**3*a**2 + \\tilde{r}**2*\\tilde{r}_+**5 + 2*\\tilde{r}**2*\\tilde{r}_+**3*a**2*cos(theta)**2 + \\tilde{r}**2*\\tilde{r}_+*a**4*cos(theta)**2 + \\tilde{r}**2*\\tilde{r}_+*a**2*cos(theta)**2 - \\tilde{r}**2*\\tilde{r}_+*a**2 + \\tilde{r}*\\tilde{r}_+**6 + 2*\\tilde{r}*\\tilde{r}_+**4*a**2*cos(theta)**2 + \\tilde{r}*\\tilde{r}_+**4*a**2 + \\tilde{r}*\\tilde{r}_+**4 + 2*\\tilde{r}*\\tilde{r}_+**2*a**4*cos(theta)**4 + \\tilde{r}*\\tilde{r}_+**2*a**4*cos(theta)**2 + \\tilde{r}*\\tilde{r}_+**2*a**2*cos(theta)**2 + \\tilde{r}*\\tilde{r}_+**2*a**2 + \\tilde{r}*a**6*cos(theta)**4 + \\tilde{r}*a**4*cos(theta)**4 + \\tilde{r}_+**7 + 2*\\tilde{r}_+**5*a**2*cos(theta)**2 - \\tilde{r}_+**5*a**2 - 4*\\tilde{r}_+**5*a - \\tilde{r}_+**5 + 2*\\tilde{r}_+**3*a**4*cos(theta)**4 - 3*\\tilde{r}_+**3*a**4*cos(theta)**2 - 8*\\tilde{r}_+**3*a**3*cos(theta)**2 - 3*\\tilde{r}_+**3*a**2*cos(theta)**2 + \\tilde{r}_+**3*a**2 - \\tilde{r}_+*a**6*cos(theta)**4 - 4*\\tilde{r}_+*a**5*cos(theta)**4 - \\tilde{r}_+*a**4*cos(theta)**4)/((\\tilde{r}**2 + a**2*cos(theta)**2)*(\\tilde{r}_+**2 + a**2)**2)"
      ]
     },
     "execution_count": 5,
     "metadata": {},
     "output_type": "execute_result"
    }
   ],
   "source": [
    "metric_coeffs[metric_utils.A]"
   ]
  },
  {
   "cell_type": "code",
   "execution_count": 6,
   "metadata": {},
   "outputs": [
    {
     "data": {
      "text/latex": [
       "$\\displaystyle \\left(\\tilde{r} - \\tilde{r}_+\\right) \\left(\\tilde{r}^{3} \\tilde{r}_+^{4} + 2 \\tilde{r}^{3} \\tilde{r}_+^{2} a^{2} \\cos^{2}{\\left(\\theta \\right)} + \\tilde{r}^{3} a^{4} \\cos^{2}{\\left(\\theta \\right)} + \\tilde{r}^{3} a^{2} \\cos^{2}{\\left(\\theta \\right)} - \\tilde{r}^{3} a^{2} + \\tilde{r}^{2} \\tilde{r}_+^{5} + 2 \\tilde{r}^{2} \\tilde{r}_+^{3} a^{2} \\cos^{2}{\\left(\\theta \\right)} + \\tilde{r}^{2} \\tilde{r}_+ a^{4} \\cos^{2}{\\left(\\theta \\right)} + \\tilde{r}^{2} \\tilde{r}_+ a^{2} \\cos^{2}{\\left(\\theta \\right)} - \\tilde{r}^{2} \\tilde{r}_+ a^{2} + \\tilde{r} \\tilde{r}_+^{6} + 2 \\tilde{r} \\tilde{r}_+^{4} a^{2} \\cos^{2}{\\left(\\theta \\right)} + \\tilde{r} \\tilde{r}_+^{4} a^{2} + \\tilde{r} \\tilde{r}_+^{4} + 2 \\tilde{r} \\tilde{r}_+^{2} a^{4} \\cos^{4}{\\left(\\theta \\right)} + \\tilde{r} \\tilde{r}_+^{2} a^{4} \\cos^{2}{\\left(\\theta \\right)} + \\tilde{r} \\tilde{r}_+^{2} a^{2} \\cos^{2}{\\left(\\theta \\right)} + \\tilde{r} \\tilde{r}_+^{2} a^{2} + \\tilde{r} a^{6} \\cos^{4}{\\left(\\theta \\right)} + \\tilde{r} a^{4} \\cos^{4}{\\left(\\theta \\right)} + \\tilde{r}_+^{7} + 2 \\tilde{r}_+^{5} a^{2} \\cos^{2}{\\left(\\theta \\right)} - \\tilde{r}_+^{5} a^{2} - 4 \\tilde{r}_+^{5} a - \\tilde{r}_+^{5} + 2 \\tilde{r}_+^{3} a^{4} \\cos^{4}{\\left(\\theta \\right)} - 3 \\tilde{r}_+^{3} a^{4} \\cos^{2}{\\left(\\theta \\right)} - 8 \\tilde{r}_+^{3} a^{3} \\cos^{2}{\\left(\\theta \\right)} - 3 \\tilde{r}_+^{3} a^{2} \\cos^{2}{\\left(\\theta \\right)} + \\tilde{r}_+^{3} a^{2} - \\tilde{r}_+ a^{6} \\cos^{4}{\\left(\\theta \\right)} - 4 \\tilde{r}_+ a^{5} \\cos^{4}{\\left(\\theta \\right)} - \\tilde{r}_+ a^{4} \\cos^{4}{\\left(\\theta \\right)}\\right)$"
      ],
      "text/plain": [
       "(\\tilde{r} - \\tilde{r}_+)*(\\tilde{r}**3*\\tilde{r}_+**4 + 2*\\tilde{r}**3*\\tilde{r}_+**2*a**2*cos(theta)**2 + \\tilde{r}**3*a**4*cos(theta)**2 + \\tilde{r}**3*a**2*cos(theta)**2 - \\tilde{r}**3*a**2 + \\tilde{r}**2*\\tilde{r}_+**5 + 2*\\tilde{r}**2*\\tilde{r}_+**3*a**2*cos(theta)**2 + \\tilde{r}**2*\\tilde{r}_+*a**4*cos(theta)**2 + \\tilde{r}**2*\\tilde{r}_+*a**2*cos(theta)**2 - \\tilde{r}**2*\\tilde{r}_+*a**2 + \\tilde{r}*\\tilde{r}_+**6 + 2*\\tilde{r}*\\tilde{r}_+**4*a**2*cos(theta)**2 + \\tilde{r}*\\tilde{r}_+**4*a**2 + \\tilde{r}*\\tilde{r}_+**4 + 2*\\tilde{r}*\\tilde{r}_+**2*a**4*cos(theta)**4 + \\tilde{r}*\\tilde{r}_+**2*a**4*cos(theta)**2 + \\tilde{r}*\\tilde{r}_+**2*a**2*cos(theta)**2 + \\tilde{r}*\\tilde{r}_+**2*a**2 + \\tilde{r}*a**6*cos(theta)**4 + \\tilde{r}*a**4*cos(theta)**4 + \\tilde{r}_+**7 + 2*\\tilde{r}_+**5*a**2*cos(theta)**2 - \\tilde{r}_+**5*a**2 - 4*\\tilde{r}_+**5*a - \\tilde{r}_+**5 + 2*\\tilde{r}_+**3*a**4*cos(theta)**4 - 3*\\tilde{r}_+**3*a**4*cos(theta)**2 - 8*\\tilde{r}_+**3*a**3*cos(theta)**2 - 3*\\tilde{r}_+**3*a**2*cos(theta)**2 + \\tilde{r}_+**3*a**2 - \\tilde{r}_+*a**6*cos(theta)**4 - 4*\\tilde{r}_+*a**5*cos(theta)**4 - \\tilde{r}_+*a**4*cos(theta)**4)"
      ]
     },
     "execution_count": 6,
     "metadata": {},
     "output_type": "execute_result"
    }
   ],
   "source": [
    "A = sympy.fraction(metric_coeffs[metric_utils.A])[0]\n",
    "A"
   ]
  },
  {
   "cell_type": "code",
   "execution_count": 7,
   "metadata": {},
   "outputs": [],
   "source": [
    "roots = sympy.solve(A, metric_utils.r_tilde)"
   ]
  },
  {
   "cell_type": "code",
   "execution_count": 9,
   "metadata": {},
   "outputs": [
    {
     "data": {
      "text/latex": [
       "$\\displaystyle \\tilde{r}_+^{4} + 2 \\tilde{r}_+^{2} a^{2} \\cos^{2}{\\left(\\theta \\right)} + a^{4} \\cos^{2}{\\left(\\theta \\right)} + a^{2} \\cos^{2}{\\left(\\theta \\right)} - a^{2}$"
      ],
      "text/plain": [
       "\\tilde{r}_+**4 + 2*\\tilde{r}_+**2*a**2*cos(theta)**2 + a**4*cos(theta)**2 + a**2*cos(theta)**2 - a**2"
      ]
     },
     "execution_count": 9,
     "metadata": {},
     "output_type": "execute_result"
    }
   ],
   "source": [
    "A_coeffs = sympy.Poly(A, metric_utils.r_tilde).all_coeffs()\n",
    "leading_coeff = A_coeffs[0].simplify().factor()\n",
    "leading_coeff"
   ]
  },
  {
   "attachments": {},
   "cell_type": "markdown",
   "metadata": {},
   "source": [
    "Create grid."
   ]
  },
  {
   "cell_type": "code",
   "execution_count": 10,
   "metadata": {},
   "outputs": [],
   "source": [
    "a_vals = np.arange(0, 1.005, 0.005)\n",
    "r_tilde_plus_vals = np.arange(-1, 1.01, 0.01)\n",
    "a_vals_grid, r_tilde_plus_vals_grid = np.meshgrid(a_vals, r_tilde_plus_vals)"
   ]
  },
  {
   "attachments": {},
   "cell_type": "markdown",
   "metadata": {},
   "source": [
    "Evaluate admissibility."
   ]
  },
  {
   "cell_type": "code",
   "execution_count": 11,
   "metadata": {},
   "outputs": [],
   "source": [
    "admissible_evaluator = AnalyticalRootsAngular()\n",
    "admissible_maps = {}"
   ]
  },
  {
   "cell_type": "code",
   "execution_count": 12,
   "metadata": {},
   "outputs": [
    {
     "name": "stderr",
     "output_type": "stream",
     "text": [
      "100%|██████████| 40401/40401 [02:23<00:00, 281.19it/s] \n"
     ]
    }
   ],
   "source": [
    "theta_val = np.pi / 4\n",
    "filename = f\"{data_dir_path}/q_1.A_gt_0.theta_pi_4.pk\"\n",
    "admissible_maps[theta_val] = admissible_evaluator.admissibility(\n",
    "    a_vals_grid, r_tilde_plus_vals_grid, theta_val, roots, leading_coeff, filename\n",
    ")"
   ]
  },
  {
   "cell_type": "code",
   "execution_count": 14,
   "metadata": {},
   "outputs": [
    {
     "data": {
      "text/plain": [
       "Text(0.5, 1.0, '$\\\\theta = \\\\pi/4$')"
      ]
     },
     "execution_count": 14,
     "metadata": {},
     "output_type": "execute_result"
    },
    {
     "data": {
      "image/png": "[encoded data removed]",
      "text/plain": [
       "<Figure size 640x480 with 2 Axes>"
      ]
     },
     "metadata": {},
     "output_type": "display_data"
    }
   ],
   "source": [
    "import matplotlib.pyplot as plt\n",
    "plt.contourf(a_vals_grid, r_tilde_plus_vals_grid, admissible_maps[theta_val], cmap='Set2')\n",
    "plt.plot(a_vals, [sympy.sqrt(a_val) for a_val in a_vals], 'k-')\n",
    "plt.plot(a_vals, [-sympy.sqrt(a_val) for a_val in a_vals], 'k-')\n",
    "plt.xlabel(\"$a$\")\n",
    "plt.ylabel(\"$\\\\tilde{r}_+$\")\n",
    "plt.xlim([0, 1])\n",
    "plt.ylim([-1, 1])\n",
    "plt.yticks([-1, -0.5, 0, 0.5, 1])\n",
    "plt.colorbar()\n",
    "plt.title('$\\\\theta = \\pi/4$')"
   ]
  },
  {
   "cell_type": "code",
   "execution_count": 17,
   "metadata": {},
   "outputs": [],
   "source": [
    "with open(filename, \"rb\") as input_file:\n",
    "    X = pickle.load(input_file)"
   ]
  }
 ],
 "metadata": {
  "kernelspec": {
   "display_name": "env",
   "language": "python",
   "name": "python3"
  },
  "language_info": {
   "codemirror_mode": {
    "name": "ipython",
    "version": 3
   },
   "file_extension": ".py",
   "mimetype": "text/x-python",
   "name": "python",
   "nbconvert_exporter": "python",
   "pygments_lexer": "ipython3",
   "version": "3.10.3"
  },
  "orig_nbformat": 4
 },
 "nbformat": 4,
 "nbformat_minor": 2
}
