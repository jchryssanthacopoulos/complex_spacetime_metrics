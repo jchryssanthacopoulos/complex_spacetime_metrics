{
 "cells": [
  {
   "cell_type": "code",
   "execution_count": 1,
   "metadata": {},
   "outputs": [],
   "source": [
    "import sympy\n",
    "\n",
    "from complex_spacetime_metrics import config\n",
    "from complex_spacetime_metrics import metric as metric_utils\n",
    "from complex_spacetime_metrics.admissibility import AnalyticalRootsAngular\n",
    "from complex_spacetime_metrics.plot import plot_admissibility"
   ]
  },
  {
   "cell_type": "code",
   "execution_count": 12,
   "metadata": {},
   "outputs": [],
   "source": [
    "q_val = \"q_1\"\n",
    "filename_base = \"A_gt_0\""
   ]
  },
  {
   "cell_type": "code",
   "execution_count": 13,
   "metadata": {},
   "outputs": [],
   "source": [
    "data_dir_path = f\"../../data/{q_val}\"\n",
    "figure_dir_path = f\"../../figures/{q_val}\""
   ]
  },
  {
   "attachments": {},
   "cell_type": "markdown",
   "metadata": {},
   "source": [
    "Build metric."
   ]
  },
  {
   "cell_type": "code",
   "execution_count": 3,
   "metadata": {},
   "outputs": [],
   "source": [
    "metric = metric_utils.Metric3D()\n",
    "metric_coeffs = metric.coefficients()"
   ]
  },
  {
   "cell_type": "code",
   "execution_count": 4,
   "metadata": {},
   "outputs": [
    {
     "data": {
      "text/latex": [
       "$\\displaystyle \\frac{\\left(\\tilde{r} - \\tilde{r}_+\\right) \\left(\\tilde{r}^{3} \\tilde{r}_+^{4} + 2 \\tilde{r}^{3} \\tilde{r}_+^{2} a^{2} \\cos^{2}{\\left(\\theta \\right)} + \\tilde{r}^{3} a^{4} \\cos^{2}{\\left(\\theta \\right)} + \\tilde{r}^{3} a^{2} \\cos^{2}{\\left(\\theta \\right)} - \\tilde{r}^{3} a^{2} + \\tilde{r}^{2} \\tilde{r}_+^{5} + 2 \\tilde{r}^{2} \\tilde{r}_+^{3} a^{2} \\cos^{2}{\\left(\\theta \\right)} + \\tilde{r}^{2} \\tilde{r}_+ a^{4} \\cos^{2}{\\left(\\theta \\right)} + \\tilde{r}^{2} \\tilde{r}_+ a^{2} \\cos^{2}{\\left(\\theta \\right)} - \\tilde{r}^{2} \\tilde{r}_+ a^{2} + \\tilde{r} \\tilde{r}_+^{6} + 2 \\tilde{r} \\tilde{r}_+^{4} a^{2} \\cos^{2}{\\left(\\theta \\right)} + \\tilde{r} \\tilde{r}_+^{4} a^{2} + \\tilde{r} \\tilde{r}_+^{4} + 2 \\tilde{r} \\tilde{r}_+^{2} a^{4} \\cos^{4}{\\left(\\theta \\right)} + \\tilde{r} \\tilde{r}_+^{2} a^{4} \\cos^{2}{\\left(\\theta \\right)} + \\tilde{r} \\tilde{r}_+^{2} a^{2} \\cos^{2}{\\left(\\theta \\right)} + \\tilde{r} \\tilde{r}_+^{2} a^{2} + \\tilde{r} a^{6} \\cos^{4}{\\left(\\theta \\right)} + \\tilde{r} a^{4} \\cos^{4}{\\left(\\theta \\right)} + \\tilde{r}_+^{7} + 2 \\tilde{r}_+^{5} a^{2} \\cos^{2}{\\left(\\theta \\right)} - \\tilde{r}_+^{5} a^{2} - 4 \\tilde{r}_+^{5} a - \\tilde{r}_+^{5} + 2 \\tilde{r}_+^{3} a^{4} \\cos^{4}{\\left(\\theta \\right)} - 3 \\tilde{r}_+^{3} a^{4} \\cos^{2}{\\left(\\theta \\right)} - 8 \\tilde{r}_+^{3} a^{3} \\cos^{2}{\\left(\\theta \\right)} - 3 \\tilde{r}_+^{3} a^{2} \\cos^{2}{\\left(\\theta \\right)} + \\tilde{r}_+^{3} a^{2} - \\tilde{r}_+ a^{6} \\cos^{4}{\\left(\\theta \\right)} - 4 \\tilde{r}_+ a^{5} \\cos^{4}{\\left(\\theta \\right)} - \\tilde{r}_+ a^{4} \\cos^{4}{\\left(\\theta \\right)}\\right)}{\\left(\\tilde{r}^{2} + a^{2} \\cos^{2}{\\left(\\theta \\right)}\\right) \\left(\\tilde{r}_+^{2} + a^{2}\\right)^{2}}$"
      ],
      "text/plain": [
       "(\\tilde{r} - \\tilde{r}_+)*(\\tilde{r}**3*\\tilde{r}_+**4 + 2*\\tilde{r}**3*\\tilde{r}_+**2*a**2*cos(theta)**2 + \\tilde{r}**3*a**4*cos(theta)**2 + \\tilde{r}**3*a**2*cos(theta)**2 - \\tilde{r}**3*a**2 + \\tilde{r}**2*\\tilde{r}_+**5 + 2*\\tilde{r}**2*\\tilde{r}_+**3*a**2*cos(theta)**2 + \\tilde{r}**2*\\tilde{r}_+*a**4*cos(theta)**2 + \\tilde{r}**2*\\tilde{r}_+*a**2*cos(theta)**2 - \\tilde{r}**2*\\tilde{r}_+*a**2 + \\tilde{r}*\\tilde{r}_+**6 + 2*\\tilde{r}*\\tilde{r}_+**4*a**2*cos(theta)**2 + \\tilde{r}*\\tilde{r}_+**4*a**2 + \\tilde{r}*\\tilde{r}_+**4 + 2*\\tilde{r}*\\tilde{r}_+**2*a**4*cos(theta)**4 + \\tilde{r}*\\tilde{r}_+**2*a**4*cos(theta)**2 + \\tilde{r}*\\tilde{r}_+**2*a**2*cos(theta)**2 + \\tilde{r}*\\tilde{r}_+**2*a**2 + \\tilde{r}*a**6*cos(theta)**4 + \\tilde{r}*a**4*cos(theta)**4 + \\tilde{r}_+**7 + 2*\\tilde{r}_+**5*a**2*cos(theta)**2 - \\tilde{r}_+**5*a**2 - 4*\\tilde{r}_+**5*a - \\tilde{r}_+**5 + 2*\\tilde{r}_+**3*a**4*cos(theta)**4 - 3*\\tilde{r}_+**3*a**4*cos(theta)**2 - 8*\\tilde{r}_+**3*a**3*cos(theta)**2 - 3*\\tilde{r}_+**3*a**2*cos(theta)**2 + \\tilde{r}_+**3*a**2 - \\tilde{r}_+*a**6*cos(theta)**4 - 4*\\tilde{r}_+*a**5*cos(theta)**4 - \\tilde{r}_+*a**4*cos(theta)**4)/((\\tilde{r}**2 + a**2*cos(theta)**2)*(\\tilde{r}_+**2 + a**2)**2)"
      ]
     },
     "execution_count": 4,
     "metadata": {},
     "output_type": "execute_result"
    }
   ],
   "source": [
    "metric_coeffs[metric_utils.A]"
   ]
  },
  {
   "cell_type": "code",
   "execution_count": 5,
   "metadata": {},
   "outputs": [
    {
     "data": {
      "text/latex": [
       "$\\displaystyle \\left(\\tilde{r} - \\tilde{r}_+\\right) \\left(\\tilde{r}^{3} \\tilde{r}_+^{4} + 2 \\tilde{r}^{3} \\tilde{r}_+^{2} a^{2} \\cos^{2}{\\left(\\theta \\right)} + \\tilde{r}^{3} a^{4} \\cos^{2}{\\left(\\theta \\right)} + \\tilde{r}^{3} a^{2} \\cos^{2}{\\left(\\theta \\right)} - \\tilde{r}^{3} a^{2} + \\tilde{r}^{2} \\tilde{r}_+^{5} + 2 \\tilde{r}^{2} \\tilde{r}_+^{3} a^{2} \\cos^{2}{\\left(\\theta \\right)} + \\tilde{r}^{2} \\tilde{r}_+ a^{4} \\cos^{2}{\\left(\\theta \\right)} + \\tilde{r}^{2} \\tilde{r}_+ a^{2} \\cos^{2}{\\left(\\theta \\right)} - \\tilde{r}^{2} \\tilde{r}_+ a^{2} + \\tilde{r} \\tilde{r}_+^{6} + 2 \\tilde{r} \\tilde{r}_+^{4} a^{2} \\cos^{2}{\\left(\\theta \\right)} + \\tilde{r} \\tilde{r}_+^{4} a^{2} + \\tilde{r} \\tilde{r}_+^{4} + 2 \\tilde{r} \\tilde{r}_+^{2} a^{4} \\cos^{4}{\\left(\\theta \\right)} + \\tilde{r} \\tilde{r}_+^{2} a^{4} \\cos^{2}{\\left(\\theta \\right)} + \\tilde{r} \\tilde{r}_+^{2} a^{2} \\cos^{2}{\\left(\\theta \\right)} + \\tilde{r} \\tilde{r}_+^{2} a^{2} + \\tilde{r} a^{6} \\cos^{4}{\\left(\\theta \\right)} + \\tilde{r} a^{4} \\cos^{4}{\\left(\\theta \\right)} + \\tilde{r}_+^{7} + 2 \\tilde{r}_+^{5} a^{2} \\cos^{2}{\\left(\\theta \\right)} - \\tilde{r}_+^{5} a^{2} - 4 \\tilde{r}_+^{5} a - \\tilde{r}_+^{5} + 2 \\tilde{r}_+^{3} a^{4} \\cos^{4}{\\left(\\theta \\right)} - 3 \\tilde{r}_+^{3} a^{4} \\cos^{2}{\\left(\\theta \\right)} - 8 \\tilde{r}_+^{3} a^{3} \\cos^{2}{\\left(\\theta \\right)} - 3 \\tilde{r}_+^{3} a^{2} \\cos^{2}{\\left(\\theta \\right)} + \\tilde{r}_+^{3} a^{2} - \\tilde{r}_+ a^{6} \\cos^{4}{\\left(\\theta \\right)} - 4 \\tilde{r}_+ a^{5} \\cos^{4}{\\left(\\theta \\right)} - \\tilde{r}_+ a^{4} \\cos^{4}{\\left(\\theta \\right)}\\right)$"
      ],
      "text/plain": [
       "(\\tilde{r} - \\tilde{r}_+)*(\\tilde{r}**3*\\tilde{r}_+**4 + 2*\\tilde{r}**3*\\tilde{r}_+**2*a**2*cos(theta)**2 + \\tilde{r}**3*a**4*cos(theta)**2 + \\tilde{r}**3*a**2*cos(theta)**2 - \\tilde{r}**3*a**2 + \\tilde{r}**2*\\tilde{r}_+**5 + 2*\\tilde{r}**2*\\tilde{r}_+**3*a**2*cos(theta)**2 + \\tilde{r}**2*\\tilde{r}_+*a**4*cos(theta)**2 + \\tilde{r}**2*\\tilde{r}_+*a**2*cos(theta)**2 - \\tilde{r}**2*\\tilde{r}_+*a**2 + \\tilde{r}*\\tilde{r}_+**6 + 2*\\tilde{r}*\\tilde{r}_+**4*a**2*cos(theta)**2 + \\tilde{r}*\\tilde{r}_+**4*a**2 + \\tilde{r}*\\tilde{r}_+**4 + 2*\\tilde{r}*\\tilde{r}_+**2*a**4*cos(theta)**4 + \\tilde{r}*\\tilde{r}_+**2*a**4*cos(theta)**2 + \\tilde{r}*\\tilde{r}_+**2*a**2*cos(theta)**2 + \\tilde{r}*\\tilde{r}_+**2*a**2 + \\tilde{r}*a**6*cos(theta)**4 + \\tilde{r}*a**4*cos(theta)**4 + \\tilde{r}_+**7 + 2*\\tilde{r}_+**5*a**2*cos(theta)**2 - \\tilde{r}_+**5*a**2 - 4*\\tilde{r}_+**5*a - \\tilde{r}_+**5 + 2*\\tilde{r}_+**3*a**4*cos(theta)**4 - 3*\\tilde{r}_+**3*a**4*cos(theta)**2 - 8*\\tilde{r}_+**3*a**3*cos(theta)**2 - 3*\\tilde{r}_+**3*a**2*cos(theta)**2 + \\tilde{r}_+**3*a**2 - \\tilde{r}_+*a**6*cos(theta)**4 - 4*\\tilde{r}_+*a**5*cos(theta)**4 - \\tilde{r}_+*a**4*cos(theta)**4)"
      ]
     },
     "execution_count": 5,
     "metadata": {},
     "output_type": "execute_result"
    }
   ],
   "source": [
    "A = sympy.fraction(metric_coeffs[metric_utils.A])[0]\n",
    "A"
   ]
  },
  {
   "cell_type": "code",
   "execution_count": 6,
   "metadata": {},
   "outputs": [],
   "source": [
    "roots = sympy.solve(A, metric_utils.r_tilde)"
   ]
  },
  {
   "cell_type": "code",
   "execution_count": 7,
   "metadata": {},
   "outputs": [
    {
     "data": {
      "text/latex": [
       "$\\displaystyle \\tilde{r}_+^{4} + 2 \\tilde{r}_+^{2} a^{2} \\cos^{2}{\\left(\\theta \\right)} + a^{4} \\cos^{2}{\\left(\\theta \\right)} + a^{2} \\cos^{2}{\\left(\\theta \\right)} - a^{2}$"
      ],
      "text/plain": [
       "\\tilde{r}_+**4 + 2*\\tilde{r}_+**2*a**2*cos(theta)**2 + a**4*cos(theta)**2 + a**2*cos(theta)**2 - a**2"
      ]
     },
     "execution_count": 7,
     "metadata": {},
     "output_type": "execute_result"
    }
   ],
   "source": [
    "A_coeffs = sympy.Poly(A, metric_utils.r_tilde).all_coeffs()\n",
    "leading_coeff = A_coeffs[0].simplify().factor()\n",
    "leading_coeff"
   ]
  },
  {
   "attachments": {},
   "cell_type": "markdown",
   "metadata": {},
   "source": [
    "Evaluate admissibility."
   ]
  },
  {
   "cell_type": "code",
   "execution_count": 8,
   "metadata": {},
   "outputs": [],
   "source": [
    "admissible_evaluator = AnalyticalRootsAngular()\n",
    "admissible_maps = {}"
   ]
  },
  {
   "cell_type": "code",
   "execution_count": 9,
   "metadata": {},
   "outputs": [
    {
     "name": "stdout",
     "output_type": "stream",
     "text": [
      "Running theta_0 ...\n"
     ]
    },
    {
     "name": "stderr",
     "output_type": "stream",
     "text": [
      "100%|██████████| 40401/40401 [03:26<00:00, 195.70it/s]\n"
     ]
    },
    {
     "name": "stdout",
     "output_type": "stream",
     "text": [
      "Running theta_pi_12 ...\n"
     ]
    },
    {
     "name": "stderr",
     "output_type": "stream",
     "text": [
      "100%|██████████| 40401/40401 [03:32<00:00, 190.45it/s]\n"
     ]
    },
    {
     "name": "stdout",
     "output_type": "stream",
     "text": [
      "Running theta_pi_6 ...\n"
     ]
    },
    {
     "name": "stderr",
     "output_type": "stream",
     "text": [
      "100%|██████████| 40401/40401 [03:12<00:00, 209.85it/s]\n"
     ]
    },
    {
     "name": "stdout",
     "output_type": "stream",
     "text": [
      "Running theta_pi_4 ...\n"
     ]
    },
    {
     "name": "stderr",
     "output_type": "stream",
     "text": [
      "100%|██████████| 40401/40401 [02:30<00:00, 268.02it/s] \n"
     ]
    },
    {
     "name": "stdout",
     "output_type": "stream",
     "text": [
      "Running theta_pi_2 ...\n"
     ]
    },
    {
     "name": "stderr",
     "output_type": "stream",
     "text": [
      "100%|██████████| 40401/40401 [01:26<00:00, 467.09it/s] \n"
     ]
    },
    {
     "name": "stdout",
     "output_type": "stream",
     "text": [
      "Running theta_3_pi_4 ...\n"
     ]
    },
    {
     "name": "stderr",
     "output_type": "stream",
     "text": [
      "100%|██████████| 40401/40401 [02:34<00:00, 261.94it/s] \n"
     ]
    },
    {
     "name": "stdout",
     "output_type": "stream",
     "text": [
      "Running theta_pi ...\n"
     ]
    },
    {
     "name": "stderr",
     "output_type": "stream",
     "text": [
      "100%|██████████| 40401/40401 [03:40<00:00, 183.53it/s]\n"
     ]
    }
   ],
   "source": [
    "for theta_name, theta_val in config.thetas.items():\n",
    "    print(f\"Running {theta_name} ...\")\n",
    "\n",
    "    # conduct sweep\n",
    "    filename_data = f\"{data_dir_path}/{filename_base}.{theta_name}.pk\"\n",
    "    admissible_maps[theta_val] = admissible_evaluator.admissibility(\n",
    "        config.a_vals_grid, config.r_tilde_plus_vals_grid, theta_val, roots, leading_coeff, filename_data\n",
    "    )\n",
    "\n",
    "    # save plot\n",
    "    filename_plot = f\"{figure_dir_path}/{filename_base}.{theta_name}.pdf\"\n",
    "    plot_admissibility(config.a_vals_grid, config.r_tilde_plus_vals_grid, admissible_maps[theta_val], filename_plot)"
   ]
  }
 ],
 "metadata": {
  "kernelspec": {
   "display_name": "env",
   "language": "python",
   "name": "python3"
  },
  "language_info": {
   "codemirror_mode": {
    "name": "ipython",
    "version": 3
   },
   "file_extension": ".py",
   "mimetype": "text/x-python",
   "name": "python",
   "nbconvert_exporter": "python",
   "pygments_lexer": "ipython3",
   "version": "3.10.3"
  },
  "orig_nbformat": 4
 },
 "nbformat": 4,
 "nbformat_minor": 2
}
