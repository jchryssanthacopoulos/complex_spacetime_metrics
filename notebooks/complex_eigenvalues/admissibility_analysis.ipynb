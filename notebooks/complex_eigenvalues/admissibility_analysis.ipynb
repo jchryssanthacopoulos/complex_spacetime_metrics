{
 "cells": [
  {
   "cell_type": "code",
   "execution_count": 1,
   "metadata": {},
   "outputs": [],
   "source": [
    "from complex_spacetime_metrics import config\n",
    "from complex_spacetime_metrics import metric as metric_utils\n",
    "from complex_spacetime_metrics.admissibility import RangeSweep\n",
    "from complex_spacetime_metrics.complex_eigenvalues import get_angles"
   ]
  },
  {
   "cell_type": "code",
   "execution_count": 2,
   "metadata": {},
   "outputs": [],
   "source": [
    "q_val = \"complex_eigenvalues\"\n",
    "filename_base = \"angles\""
   ]
  },
  {
   "cell_type": "code",
   "execution_count": 3,
   "metadata": {},
   "outputs": [],
   "source": [
    "data_dir_path = f\"../../data/{q_val}\"\n",
    "figure_dir_path = f\"../../figures/{q_val}\""
   ]
  },
  {
   "cell_type": "code",
   "execution_count": 4,
   "metadata": {},
   "outputs": [],
   "source": [
    "metric = metric_utils.Metric3D()\n",
    "metric_coeffs = metric.coefficients()"
   ]
  },
  {
   "cell_type": "code",
   "execution_count": 5,
   "metadata": {},
   "outputs": [],
   "source": [
    "angle_1, angle_2, angle_3 = get_angles(metric_coeffs)"
   ]
  },
  {
   "cell_type": "code",
   "execution_count": 6,
   "metadata": {},
   "outputs": [],
   "source": [
    "admissible_evaluator = RangeSweep()\n",
    "angle_1_maps = {}\n",
    "angle_2_maps = {}\n",
    "angle_3_maps = {}"
   ]
  },
  {
   "cell_type": "code",
   "execution_count": 7,
   "metadata": {},
   "outputs": [],
   "source": [
    "parameter_grid = config.grids['medium']"
   ]
  },
  {
   "cell_type": "code",
   "execution_count": 8,
   "metadata": {},
   "outputs": [
    {
     "name": "stdout",
     "output_type": "stream",
     "text": [
      "Running theta_0 ...\n"
     ]
    },
    {
     "name": "stderr",
     "output_type": "stream",
     "text": [
      "  9%|▊         | 1767/20301 [05:02<52:57,  5.83it/s]  "
     ]
    }
   ],
   "source": [
    "for theta_name, theta_val in config.thetas.items():\n",
    "    print(f\"Running {theta_name} ...\")\n",
    "\n",
    "    # conduct sweep\n",
    "    filename_data = f\"{data_dir_path}/{filename_base}.{theta_name}.pk\"\n",
    "    angle_1_maps[theta_val], angle_2_maps[theta_val], angle_3_maps[theta_val] = admissible_evaluator.admissibility(\n",
    "        parameter_grid, theta_val, angle_1, angle_2, angle_3, filename=filename_data\n",
    "    )"
   ]
  }
 ],
 "metadata": {
  "kernelspec": {
   "display_name": "env",
   "language": "python",
   "name": "python3"
  },
  "language_info": {
   "codemirror_mode": {
    "name": "ipython",
    "version": 3
   },
   "file_extension": ".py",
   "mimetype": "text/x-python",
   "name": "python",
   "nbconvert_exporter": "python",
   "pygments_lexer": "ipython3",
   "version": "3.10.3"
  },
  "orig_nbformat": 4
 },
 "nbformat": 4,
 "nbformat_minor": 2
}
