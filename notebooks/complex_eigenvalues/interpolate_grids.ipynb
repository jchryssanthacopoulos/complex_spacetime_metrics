{
 "cells": [
  {
   "cell_type": "code",
   "execution_count": 8,
   "metadata": {},
   "outputs": [],
   "source": [
    "from complex_spacetime_metrics.utils import interpolate_admissible_maps"
   ]
  },
  {
   "cell_type": "code",
   "execution_count": 9,
   "metadata": {},
   "outputs": [],
   "source": [
    "q_val = \"complex_eigenvalues\""
   ]
  },
  {
   "cell_type": "code",
   "execution_count": 15,
   "metadata": {},
   "outputs": [],
   "source": [
    "data_dir_path = f\"../../data/{q_val}\""
   ]
  },
  {
   "cell_type": "code",
   "execution_count": 20,
   "metadata": {},
   "outputs": [],
   "source": [
    "ref_grid_file = f'../../data/q_1/A_gt_0.theta_0.pk'"
   ]
  },
  {
   "attachments": {},
   "cell_type": "markdown",
   "metadata": {},
   "source": [
    "### $\\theta=0$"
   ]
  },
  {
   "cell_type": "code",
   "execution_count": 21,
   "metadata": {},
   "outputs": [],
   "source": [
    "file_orig = f'{data_dir_path}/angles.theta_0.pk'\n",
    "file_new = f'{data_dir_path}/angles.theta_0.interp.pk'\n",
    "interpolate_admissible_maps(file_orig, ref_grid_file, file_new)"
   ]
  },
  {
   "attachments": {},
   "cell_type": "markdown",
   "metadata": {},
   "source": [
    "### $\\theta=\\pi/8$"
   ]
  },
  {
   "cell_type": "code",
   "execution_count": 22,
   "metadata": {},
   "outputs": [],
   "source": [
    "file_orig = f'{data_dir_path}/angles.theta_pi_8.pk'\n",
    "file_new = f'{data_dir_path}/angles.theta_pi_8.interp.pk'\n",
    "interpolate_admissible_maps(file_orig, ref_grid_file, file_new)"
   ]
  },
  {
   "attachments": {},
   "cell_type": "markdown",
   "metadata": {},
   "source": [
    "### $\\theta=\\pi/4$"
   ]
  },
  {
   "cell_type": "code",
   "execution_count": 23,
   "metadata": {},
   "outputs": [],
   "source": [
    "file_orig = f'{data_dir_path}/angles.theta_pi_4.pk'\n",
    "file_new = f'{data_dir_path}/angles.theta_pi_4.interp.pk'\n",
    "interpolate_admissible_maps(file_orig, ref_grid_file, file_new)"
   ]
  }
 ],
 "metadata": {
  "kernelspec": {
   "display_name": "env",
   "language": "python",
   "name": "python3"
  },
  "language_info": {
   "codemirror_mode": {
    "name": "ipython",
    "version": 3
   },
   "file_extension": ".py",
   "mimetype": "text/x-python",
   "name": "python",
   "nbconvert_exporter": "python",
   "pygments_lexer": "ipython3",
   "version": "3.10.3"
  },
  "orig_nbformat": 4
 },
 "nbformat": 4,
 "nbformat_minor": 2
}
