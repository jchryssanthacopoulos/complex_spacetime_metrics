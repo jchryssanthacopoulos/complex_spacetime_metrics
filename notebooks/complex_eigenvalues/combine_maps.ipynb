{
 "cells": [
  {
   "cell_type": "code",
   "execution_count": 1,
   "metadata": {},
   "outputs": [],
   "source": [
    "from complex_spacetime_metrics.plot import plot_admissibility_from_file\n",
    "from complex_spacetime_metrics.utils import combine_results"
   ]
  },
  {
   "cell_type": "code",
   "execution_count": 2,
   "metadata": {},
   "outputs": [],
   "source": [
    "q_val = \"complex_eigenvalues\""
   ]
  },
  {
   "cell_type": "code",
   "execution_count": 3,
   "metadata": {},
   "outputs": [],
   "source": [
    "data_dir_path = f\"../../data/{q_val}\"\n",
    "figure_dir_path = f\"../../figures/{q_val}\""
   ]
  },
  {
   "cell_type": "code",
   "execution_count": 6,
   "metadata": {},
   "outputs": [],
   "source": [
    "q_1_dir_path = \"../../data/q_1\""
   ]
  },
  {
   "attachments": {},
   "cell_type": "markdown",
   "metadata": {},
   "source": [
    "### $\\theta=0$"
   ]
  },
  {
   "cell_type": "code",
   "execution_count": 7,
   "metadata": {},
   "outputs": [],
   "source": [
    "files_to_combine = [\n",
    "    f\"{data_dir_path}/angles.theta_0.interp.pk\",\n",
    "    f\"{q_1_dir_path}/final.theta_0.pk\"\n",
    "]"
   ]
  },
  {
   "cell_type": "code",
   "execution_count": 8,
   "metadata": {},
   "outputs": [],
   "source": [
    "final_filename_theta_0 = f\"{data_dir_path}/final.theta_0.pk\"\n",
    "combine_results(final_filename_theta_0, files_to_combine)"
   ]
  },
  {
   "cell_type": "code",
   "execution_count": 9,
   "metadata": {},
   "outputs": [],
   "source": [
    "final_plotname_theta_0 = f\"{figure_dir_path}/final.theta_0.pdf\"\n",
    "plot_admissibility_from_file(final_filename_theta_0, final_plotname_theta_0)"
   ]
  },
  {
   "attachments": {},
   "cell_type": "markdown",
   "metadata": {},
   "source": [
    "### $\\theta=\\pi/8$"
   ]
  },
  {
   "cell_type": "code",
   "execution_count": 20,
   "metadata": {},
   "outputs": [],
   "source": [
    "files_to_combine = [\n",
    "    f\"{data_dir_path}/angles.theta_pi_8.interp.pk\",\n",
    "    f\"{q_1_dir_path}/final.theta_pi_8.pk\"\n",
    "]"
   ]
  },
  {
   "cell_type": "code",
   "execution_count": 21,
   "metadata": {},
   "outputs": [],
   "source": [
    "final_filename_theta_pi_8 = f\"{data_dir_path}/final.theta_pi_8.pk\"\n",
    "combine_results(final_filename_theta_pi_8, files_to_combine)"
   ]
  },
  {
   "cell_type": "code",
   "execution_count": 22,
   "metadata": {},
   "outputs": [],
   "source": [
    "final_plotname_theta_pi_8 = f\"{figure_dir_path}/final.theta_pi_8.pdf\"\n",
    "plot_admissibility_from_file(final_filename_theta_pi_8, final_plotname_theta_pi_8)"
   ]
  },
  {
   "attachments": {},
   "cell_type": "markdown",
   "metadata": {},
   "source": [
    "### $\\theta=\\pi/4$"
   ]
  },
  {
   "cell_type": "code",
   "execution_count": 25,
   "metadata": {},
   "outputs": [],
   "source": [
    "files_to_combine = [\n",
    "    f\"{data_dir_path}/angles.theta_pi_4.interp.pk\",\n",
    "    f\"{q_1_dir_path}/final.theta_pi_4.pk\"\n",
    "]"
   ]
  },
  {
   "cell_type": "code",
   "execution_count": 27,
   "metadata": {},
   "outputs": [],
   "source": [
    "final_filename_theta_pi_4 = f\"{data_dir_path}/final.theta_pi_4.pdf\"\n",
    "combine_results(final_filename_theta_pi_4, files_to_combine)"
   ]
  },
  {
   "cell_type": "code",
   "execution_count": 28,
   "metadata": {},
   "outputs": [],
   "source": [
    "final_plotname_theta_pi_4 = f\"{figure_dir_path}/final.theta_pi_4.pdf\"\n",
    "plot_admissibility_from_file(final_filename_theta_pi_4, final_plotname_theta_pi_4)"
   ]
  }
 ],
 "metadata": {
  "kernelspec": {
   "display_name": "env",
   "language": "python",
   "name": "python3"
  },
  "language_info": {
   "codemirror_mode": {
    "name": "ipython",
    "version": 3
   },
   "file_extension": ".py",
   "mimetype": "text/x-python",
   "name": "python",
   "nbconvert_exporter": "python",
   "pygments_lexer": "ipython3",
   "version": "3.10.3"
  },
  "orig_nbformat": 4
 },
 "nbformat": 4,
 "nbformat_minor": 2
}
