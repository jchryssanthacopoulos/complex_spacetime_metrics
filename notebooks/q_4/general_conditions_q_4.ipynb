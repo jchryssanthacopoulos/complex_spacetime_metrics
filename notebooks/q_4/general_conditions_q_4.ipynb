{
 "cells": [
  {
   "cell_type": "code",
   "execution_count": 1,
   "metadata": {},
   "outputs": [],
   "source": [
    "import numpy as np\n",
    "import sympy\n",
    "from sympy.tensor.tensor import TensorIndexType, TensorHead, tensor_indices\n",
    "from tqdm import tqdm\n",
    "\n",
    "sympy.init_printing()"
   ]
  },
  {
   "cell_type": "code",
   "execution_count": 2,
   "metadata": {},
   "outputs": [],
   "source": [
    "A, B, C, D, E, F, G, H, I = sympy.symbols(\"A B C D E F G H I\", real=True)\n",
    "F_0123 = sympy.symbols(\"F_{0123}\")"
   ]
  },
  {
   "cell_type": "code",
   "execution_count": 3,
   "metadata": {},
   "outputs": [
    {
     "data": {
      "text/latex": [
       "$\\displaystyle \\left[\\begin{matrix}A + i B & C + i D & 0 & 0\\\\C + i D & E + i F & 0 & 0\\\\0 & 0 & G + i H & 0\\\\0 & 0 & 0 & I\\end{matrix}\\right]$"
      ],
      "text/plain": [
       "⎡A + ⅈ⋅B  C + ⅈ⋅D     0     0⎤\n",
       "⎢                            ⎥\n",
       "⎢C + ⅈ⋅D  E + ⅈ⋅F     0     0⎥\n",
       "⎢                            ⎥\n",
       "⎢   0        0     G + ⅈ⋅H  0⎥\n",
       "⎢                            ⎥\n",
       "⎣   0        0        0     I⎦"
      ]
     },
     "execution_count": 3,
     "metadata": {},
     "output_type": "execute_result"
    }
   ],
   "source": [
    "g_mat = sympy.Matrix([\n",
    "    [A + sympy.I * B, C + sympy.I * D, 0, 0],\n",
    "    [C + sympy.I * D, E + sympy.I * F, 0, 0],\n",
    "    [0, 0, G + sympy.I * H, 0],\n",
    "    [0, 0, 0, I]\n",
    "])\n",
    "g_mat"
   ]
  },
  {
   "cell_type": "code",
   "execution_count": 4,
   "metadata": {},
   "outputs": [
    {
     "data": {
      "image/png": "[encoded data removed]",
      "text/latex": [
       "$\\displaystyle \\left[ \\left[ \\left[ \\left[ 0, \\  0, \\  0, \\  0\\right], \\  \\left[ 0, \\  0, \\  0, \\  0\\right], \\  \\left[ 0, \\  0, \\  0, \\  0\\right], \\  \\left[ 0, \\  0, \\  0, \\  0\\right]\\right], \\  \\left[ \\left[ 0, \\  0, \\  0, \\  0\\right], \\  \\left[ 0, \\  0, \\  0, \\  0\\right], \\  \\left[ 0, \\  0, \\  0, \\  F_{0123}\\right], \\  \\left[ 0, \\  0, \\  - F_{0123}, \\  0\\right]\\right], \\  \\left[ \\left[ 0, \\  0, \\  0, \\  0\\right], \\  \\left[ 0, \\  0, \\  0, \\  - F_{0123}\\right], \\  \\left[ 0, \\  0, \\  0, \\  0\\right], \\  \\left[ 0, \\  F_{0123}, \\  0, \\  0\\right]\\right], \\  \\left[ \\left[ 0, \\  0, \\  0, \\  0\\right], \\  \\left[ 0, \\  0, \\  F_{0123}, \\  0\\right], \\  \\left[ 0, \\  - F_{0123}, \\  0, \\  0\\right], \\  \\left[ 0, \\  0, \\  0, \\  0\\right]\\right]\\right], \\  \\left[ \\left[ \\left[ 0, \\  0, \\  0, \\  0\\right], \\  \\left[ 0, \\  0, \\  0, \\  0\\right], \\  \\left[ 0, \\  0, \\  0, \\  - F_{0123}\\right], \\  \\left[ 0, \\  0, \\  F_{0123}, \\  0\\right]\\right], \\  \\left[ \\left[ 0, \\  0, \\  0, \\  0\\right], \\  \\left[ 0, \\  0, \\  0, \\  0\\right], \\  \\left[ 0, \\  0, \\  0, \\  0\\right], \\  \\left[ 0, \\  0, \\  0, \\  0\\right]\\right], \\  \\left[ \\left[ 0, \\  0, \\  0, \\  F_{0123}\\right], \\  \\left[ 0, \\  0, \\  0, \\  0\\right], \\  \\left[ 0, \\  0, \\  0, \\  0\\right], \\  \\left[ - F_{0123}, \\  0, \\  0, \\  0\\right]\\right], \\  \\left[ \\left[ 0, \\  0, \\  - F_{0123}, \\  0\\right], \\  \\left[ 0, \\  0, \\  0, \\  0\\right], \\  \\left[ F_{0123}, \\  0, \\  0, \\  0\\right], \\  \\left[ 0, \\  0, \\  0, \\  0\\right]\\right]\\right], \\  \\left[ \\left[ \\left[ 0, \\  0, \\  0, \\  0\\right], \\  \\left[ 0, \\  0, \\  0, \\  F_{0123}\\right], \\  \\left[ 0, \\  0, \\  0, \\  0\\right], \\  \\left[ 0, \\  - F_{0123}, \\  0, \\  0\\right]\\right], \\  \\left[ \\left[ 0, \\  0, \\  0, \\  - F_{0123}\\right], \\  \\left[ 0, \\  0, \\  0, \\  0\\right], \\  \\left[ 0, \\  0, \\  0, \\  0\\right], \\  \\left[ F_{0123}, \\  0, \\  0, \\  0\\right]\\right], \\  \\left[ \\left[ 0, \\  0, \\  0, \\  0\\right], \\  \\left[ 0, \\  0, \\  0, \\  0\\right], \\  \\left[ 0, \\  0, \\  0, \\  0\\right], \\  \\left[ 0, \\  0, \\  0, \\  0\\right]\\right], \\  \\left[ \\left[ 0, \\  F_{0123}, \\  0, \\  0\\right], \\  \\left[ - F_{0123}, \\  0, \\  0, \\  0\\right], \\  \\left[ 0, \\  0, \\  0, \\  0\\right], \\  \\left[ 0, \\  0, \\  0, \\  0\\right]\\right]\\right], \\  \\left[ \\left[ \\left[ 0, \\  0, \\  0, \\  0\\right], \\  \\left[ 0, \\  0, \\  - F_{0123}, \\  0\\right], \\  \\left[ 0, \\  F_{0123}, \\  0, \\  0\\right], \\  \\left[ 0, \\  0, \\  0, \\  0\\right]\\right], \\  \\left[ \\left[ 0, \\  0, \\  F_{0123}, \\  0\\right], \\  \\left[ 0, \\  0, \\  0, \\  0\\right], \\  \\left[ - F_{0123}, \\  0, \\  0, \\  0\\right], \\  \\left[ 0, \\  0, \\  0, \\  0\\right]\\right], \\  \\left[ \\left[ 0, \\  - F_{0123}, \\  0, \\  0\\right], \\  \\left[ F_{0123}, \\  0, \\  0, \\  0\\right], \\  \\left[ 0, \\  0, \\  0, \\  0\\right], \\  \\left[ 0, \\  0, \\  0, \\  0\\right]\\right], \\  \\left[ \\left[ 0, \\  0, \\  0, \\  0\\right], \\  \\left[ 0, \\  0, \\  0, \\  0\\right], \\  \\left[ 0, \\  0, \\  0, \\  0\\right], \\  \\left[ 0, \\  0, \\  0, \\  0\\right]\\right]\\right]\\right]$"
      ],
      "text/plain": [
       "[[[[0, 0, 0, 0], [0, 0, 0, 0], [0, 0, 0, 0], [0, 0, 0, 0]], [[0, 0, 0, 0], [0,\n",
       " 0, 0, 0], [0, 0, 0, F_{0123}], [0, 0, -F_{0123}, 0]], [[0, 0, 0, 0], [0, 0, 0\n",
       ", -F_{0123}], [0, 0, 0, 0], [0, F_{0123}, 0, 0]], [[0, 0, 0, 0], [0, 0, F_{012\n",
       "3}, 0], [0, -F_{0123}, 0, 0], [0, 0, 0, 0]]], [[[0, 0, 0, 0], [0, 0, 0, 0], [0\n",
       ", 0, 0, -F_{0123}], [0, 0, F_{0123}, 0]], [[0, 0, 0, 0], [0, 0, 0, 0], [0, 0, \n",
       "0, 0], [0, 0, 0, 0]], [[0, 0, 0, F_{0123}], [0, 0, 0, 0], [0, 0, 0, 0], [-F_{0\n",
       "123}, 0, 0, 0]], [[0, 0, -F_{0123}, 0], [0, 0, 0, 0], [F_{0123}, 0, 0, 0], [0,\n",
       " 0, 0, 0]]], [[[0, 0, 0, 0], [0, 0, 0, F_{0123}], [0, 0, 0, 0], [0, -F_{0123},\n",
       " 0, 0]], [[0, 0, 0, -F_{0123}], [0, 0, 0, 0], [0, 0, 0, 0], [F_{0123}, 0, 0, 0\n",
       "]], [[0, 0, 0, 0], [0, 0, 0, 0], [0, 0, 0, 0], [0, 0, 0, 0]], [[0, F_{0123}, 0\n",
       ", 0], [-F_{0123}, 0, 0, 0], [0, 0, 0, 0], [0, 0, 0, 0]]], [[[0, 0, 0, 0], [0, \n",
       "0, -F_{0123}, 0], [0, F_{0123}, 0, 0], [0, 0, 0, 0]], [[0, 0, F_{0123}, 0], [0\n",
       ", 0, 0, 0], [-F_{0123}, 0, 0, 0], [0, 0, 0, 0]], [[0, -F_{0123}, 0, 0], [F_{01\n",
       "23}, 0, 0, 0], [0, 0, 0, 0], [0, 0, 0, 0]], [[0, 0, 0, 0], [0, 0, 0, 0], [0, 0\n",
       ", 0, 0], [0, 0, 0, 0]]]]"
      ]
     },
     "execution_count": 4,
     "metadata": {},
     "output_type": "execute_result"
    }
   ],
   "source": [
    "F_tensor = [\n",
    "    # F_0XXX\n",
    "    [\n",
    "        # F_00XX\n",
    "        [[0, 0, 0, 0],\n",
    "         [0, 0, 0, 0],\n",
    "         [0, 0, 0, 0],\n",
    "         [0, 0, 0, 0]],\n",
    "        # F_01XX\n",
    "        [[0, 0, 0, 0],\n",
    "         [0, 0, 0, 0],\n",
    "         [0, 0, 0, F_0123],\n",
    "         [0, 0, -F_0123, 0]],\n",
    "        # F_02XX\n",
    "        [[0, 0, 0, 0],\n",
    "         [0, 0, 0, -F_0123],\n",
    "         [0, 0, 0, 0],\n",
    "         [0, F_0123, 0, 0]],\n",
    "        # F_03XX\n",
    "        [[0, 0, 0, 0],\n",
    "         [0, 0, F_0123, 0],\n",
    "         [0, -F_0123, 0, 0],\n",
    "         [0, 0, 0, 0]]\n",
    "    ],\n",
    "    # F_1XXX\n",
    "    [\n",
    "        # F_10XX\n",
    "        [[0, 0, 0, 0],\n",
    "         [0, 0, 0, 0],\n",
    "         [0, 0, 0, -F_0123],\n",
    "         [0, 0, F_0123, 0]],\n",
    "        # F_11XX\n",
    "        [[0, 0, 0, 0],\n",
    "         [0, 0, 0, 0],\n",
    "         [0, 0, 0, 0],\n",
    "         [0, 0, 0, 0]],\n",
    "        # F_12XX\n",
    "        [[0, 0, 0, F_0123],\n",
    "         [0, 0, 0, 0],\n",
    "         [0, 0, 0, 0],\n",
    "         [-F_0123, 0, 0, 0]],\n",
    "        # F_13XX\n",
    "        [[0, 0, -F_0123, 0],\n",
    "         [0, 0, 0, 0],\n",
    "         [F_0123, 0, 0, 0],\n",
    "         [0, 0, 0, 0]]\n",
    "    ],\n",
    "    # F_2XXX\n",
    "    [\n",
    "        # F_20XX\n",
    "        [[0, 0, 0, 0],\n",
    "         [0, 0, 0, F_0123],\n",
    "         [0, 0, 0, 0],\n",
    "         [0, -F_0123, 0, 0]],\n",
    "        # F_21XX\n",
    "        [[0, 0, 0, -F_0123],\n",
    "         [0, 0, 0, 0],\n",
    "         [0, 0, 0, 0],\n",
    "         [F_0123, 0, 0, 0]],\n",
    "        # F_22XX\n",
    "        [[0, 0, 0, 0],\n",
    "         [0, 0, 0, 0],\n",
    "         [0, 0, 0, 0],\n",
    "         [0, 0, 0, 0]],\n",
    "        # F_23XX\n",
    "        [[0, F_0123, 0, 0],\n",
    "         [-F_0123, 0, 0, 0],\n",
    "         [0, 0, 0, 0],\n",
    "         [0, 0, 0, 0]]\n",
    "    ],\n",
    "    # F_3XXX\n",
    "    [\n",
    "        # F_30XX\n",
    "        [[0, 0, 0, 0],\n",
    "         [0, 0, -F_0123, 0],\n",
    "         [0, F_0123, 0, 0],\n",
    "         [0, 0, 0, 0]],\n",
    "        # F_31XX\n",
    "        [[0, 0, F_0123, 0],\n",
    "         [0, 0, 0, 0],\n",
    "         [-F_0123, 0, 0, 0],\n",
    "         [0, 0, 0, 0]],\n",
    "        # F_32XX\n",
    "        [[0, -F_0123, 0, 0],\n",
    "         [F_0123, 0, 0, 0],\n",
    "         [0, 0, 0, 0],\n",
    "         [0, 0, 0, 0]],\n",
    "        # F_33XX\n",
    "        [[0, 0, 0, 0],\n",
    "         [0, 0, 0, 0],\n",
    "         [0, 0, 0, 0],\n",
    "         [0, 0, 0, 0]]\n",
    "    ]\n",
    "]\n",
    "F_tensor"
   ]
  },
  {
   "cell_type": "code",
   "execution_count": 21,
   "metadata": {},
   "outputs": [],
   "source": [
    "# Lorentzian = TensorIndexType('Lorentzian', dummy_name='L')\n",
    "# i0, i1, i2, i3, i4, i5, i6, i7 = tensor_indices('i0:8', Lorentzian)\n",
    "# j0, j1, j2, j3, j4, j5, j6, j7 = tensor_indices('j0:8', Lorentzian)\n",
    "# g4FF_mat = sympy.tensorproduct(sympy.tensorproduct(g_mat, sympy.tensorproduct(sympy.tensorproduct(g_mat, g_mat), g_mat)), sympy.tensorproduct(F_tensor, F_tensor))\n",
    "# g4FF_tensor = TensorHead('g4FF', [Lorentzian] * 16)\n",
    "# repl = {g4FF_tensor(i0, j0, i1, j1, i2, j2, i3, j3, -i4, -i5, -i6, -i7, -j4, -j5, -j6, -j7): g4FF_mat}\n",
    "# quadratic_form = g4FF_tensor(i0, j0, i1, j1, i2, j2, i3, j3, -i0, -i1, -i2, -i3, -j0, -j1, -j2, -j3).replace_with_arrays(repl)"
   ]
  },
  {
   "cell_type": "code",
   "execution_count": 6,
   "metadata": {},
   "outputs": [],
   "source": [
    "indices_perm = [\n",
    "    # 0XXX\n",
    "    ([0, 1, 2, 3], 1),\n",
    "    ([0, 1, 3, 2], -1),\n",
    "    ([0, 2, 1, 3], -1),\n",
    "    ([0, 2, 3, 1], 1),\n",
    "    ([0, 3, 1, 2], 1),\n",
    "    ([0, 3, 2, 1], -1),\n",
    "    # 1XXX\n",
    "    ([1, 0, 2, 3], -1),\n",
    "    ([1, 0, 3, 2], 1),\n",
    "    ([1, 2, 0, 3], 1),\n",
    "    ([1, 2, 3, 0], -1),\n",
    "    ([1, 3, 0, 2], -1),\n",
    "    ([1, 3, 2, 0], 1),\n",
    "    # 2XXX\n",
    "    ([2, 0, 1, 3], 1),\n",
    "    ([2, 0, 3, 1], -1),\n",
    "    ([2, 1, 0, 3], -1),\n",
    "    ([2, 1, 3, 0], 1),\n",
    "    ([2, 3, 0, 1], 1),\n",
    "    ([2, 3, 1, 0], -1),\n",
    "    # 3XXX\n",
    "    ([3, 0, 1, 2], -1),\n",
    "    ([3, 0, 2, 1], 1),\n",
    "    ([3, 1, 0, 2], 1),\n",
    "    ([3, 1, 2, 0], -1),\n",
    "    ([3, 2, 0, 1], -1),\n",
    "    ([3, 2, 1, 0], 1)\n",
    "]"
   ]
  },
  {
   "cell_type": "code",
   "execution_count": 12,
   "metadata": {},
   "outputs": [],
   "source": [
    "quadratic_form = 0\n",
    "\n",
    "for indices_1, F_val_1 in indices_perm:\n",
    "    for indices_2, F_val_2 in indices_perm:\n",
    "        i1, i2, i3, i4 = indices_1\n",
    "        j1, j2, j3, j4 = indices_2\n",
    "        quadratic_form += g_mat[i1, j1] * g_mat[i2, j2] * g_mat[i3, j3] * g_mat[i4, j4] * F_val_1 * F_val_2"
   ]
  },
  {
   "cell_type": "code",
   "execution_count": 11,
   "metadata": {},
   "outputs": [
    {
     "data": {
      "image/png": "[encoded data removed]",
      "text/latex": [
       "$\\displaystyle 24 I \\left(A + i B\\right) \\left(E + i F\\right) \\left(G + i H\\right) - 24 I \\left(C + i D\\right)^{2} \\left(G + i H\\right)$"
      ],
      "text/plain": [
       "                                                   2          \n",
       "24⋅I⋅(A + ⅈ⋅B)⋅(E + ⅈ⋅F)⋅(G + ⅈ⋅H) - 24⋅I⋅(C + ⅈ⋅D) ⋅(G + ⅈ⋅H)"
      ]
     },
     "execution_count": 11,
     "metadata": {},
     "output_type": "execute_result"
    }
   ],
   "source": [
    "quadratic_form"
   ]
  },
  {
   "attachments": {},
   "cell_type": "markdown",
   "metadata": {},
   "source": [
    "Take the real part."
   ]
  },
  {
   "cell_type": "code",
   "execution_count": 22,
   "metadata": {},
   "outputs": [
    {
     "data": {
      "image/png": "[encoded data removed]",
      "text/latex": [
       "$\\displaystyle 24 A E G I - 24 C^{2} G I$"
      ],
      "text/plain": [
       "                 2    \n",
       "24⋅A⋅E⋅G⋅I - 24⋅C ⋅G⋅I"
      ]
     },
     "execution_count": 22,
     "metadata": {},
     "output_type": "execute_result"
    }
   ],
   "source": [
    "(quadratic_form.expand().collect(sympy.I) - quadratic_form.expand().collect(sympy.I).coeff(sympy.I) * sympy.I)"
   ]
  },
  {
   "attachments": {},
   "cell_type": "markdown",
   "metadata": {},
   "source": [
    "It is the same as the real part of the determinant."
   ]
  },
  {
   "cell_type": "code",
   "execution_count": 20,
   "metadata": {},
   "outputs": [
    {
     "data": {
      "image/png": "[encoded data removed]",
      "text/latex": [
       "$\\displaystyle A E G I - A F H I - B E H I - B F G I - C^{2} G I + 2 C D H I + D^{2} G I + i \\left(A E H I + A F G I + B E G I - B F H I - C^{2} H I - 2 C D G I + D^{2} H I\\right)$"
      ],
      "text/plain": [
       "                                         2                    2         ⎛     \n",
       "A⋅E⋅G⋅I - A⋅F⋅H⋅I - B⋅E⋅H⋅I - B⋅F⋅G⋅I - C ⋅G⋅I + 2⋅C⋅D⋅H⋅I + D ⋅G⋅I + ⅈ⋅⎝A⋅E⋅H\n",
       "\n",
       "                                    2                    2    ⎞\n",
       "⋅I + A⋅F⋅G⋅I + B⋅E⋅G⋅I - B⋅F⋅H⋅I - C ⋅H⋅I - 2⋅C⋅D⋅G⋅I + D ⋅H⋅I⎠"
      ]
     },
     "execution_count": 20,
     "metadata": {},
     "output_type": "execute_result"
    }
   ],
   "source": [
    "g_mat.det().expand().collect(sympy.I)"
   ]
  }
 ],
 "metadata": {
  "kernelspec": {
   "display_name": "env",
   "language": "python",
   "name": "python3"
  },
  "language_info": {
   "codemirror_mode": {
    "name": "ipython",
    "version": 3
   },
   "file_extension": ".py",
   "mimetype": "text/x-python",
   "name": "python",
   "nbconvert_exporter": "python",
   "pygments_lexer": "ipython3",
   "version": "3.10.3"
  },
  "orig_nbformat": 4
 },
 "nbformat": 4,
 "nbformat_minor": 2
}
