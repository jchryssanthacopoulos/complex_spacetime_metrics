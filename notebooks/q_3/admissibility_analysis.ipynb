{
 "cells": [
  {
   "cell_type": "code",
   "execution_count": 1,
   "metadata": {},
   "outputs": [],
   "source": [
    "import sympy\n",
    "\n",
    "from complex_spacetime_metrics import metric as metric_utils"
   ]
  },
  {
   "cell_type": "code",
   "execution_count": 2,
   "metadata": {},
   "outputs": [],
   "source": [
    "q_val = \"q_3\"\n",
    "filename_base = \"extra_condition\""
   ]
  },
  {
   "cell_type": "code",
   "execution_count": 3,
   "metadata": {},
   "outputs": [],
   "source": [
    "data_dir_path = f\"../../data/{q_val}\"\n",
    "figure_dir_path = f\"../../figures/{q_val}\""
   ]
  },
  {
   "cell_type": "code",
   "execution_count": 4,
   "metadata": {},
   "outputs": [],
   "source": [
    "metric = metric_utils.Metric3D()\n",
    "metric_coeffs = metric.coefficients()"
   ]
  },
  {
   "cell_type": "code",
   "execution_count": 5,
   "metadata": {},
   "outputs": [],
   "source": [
    "A = metric_coeffs[metric_utils.A]\n",
    "B = metric_coeffs[metric_utils.B]\n",
    "C = metric_coeffs[metric_utils.C]\n",
    "D = metric_coeffs[metric_utils.D]\n",
    "E = metric_coeffs[metric_utils.E]\n",
    "F = metric_coeffs[metric_utils.F]\n",
    "G = metric_coeffs[metric_utils.G]\n",
    "H = metric_coeffs[metric_utils.H]"
   ]
  },
  {
   "cell_type": "code",
   "execution_count": 6,
   "metadata": {},
   "outputs": [
    {
     "data": {
      "text/latex": [
       "$\\displaystyle \\frac{\\left(- \\tilde{r}^{2} a^{2} \\cos^{2}{\\left(\\theta \\right)} + \\tilde{r}^{2} - a^{4} \\cos^{4}{\\left(\\theta \\right)} + a^{2} \\cos^{2}{\\left(\\theta \\right)}\\right) \\sin^{2}{\\left(\\theta \\right)}}{a^{4} - 2 a^{2} + 1}$"
      ],
      "text/plain": [
       "(-\\tilde{r}**2*a**2*cos(theta)**2 + \\tilde{r}**2 - a**4*cos(theta)**4 + a**2*cos(theta)**2)*sin(theta)**2/(a**4 - 2*a**2 + 1)"
      ]
     },
     "execution_count": 6,
     "metadata": {},
     "output_type": "execute_result"
    }
   ],
   "source": [
    "condition = G * (A * E - C ** 2 - (B * F - D ** 2)) - H * (A * F - 2 * C * D + B * E)\n",
    "condition = condition.simplify()\n",
    "condition"
   ]
  },
  {
   "attachments": {},
   "cell_type": "markdown",
   "metadata": {},
   "source": [
    "Remove positive denominator."
   ]
  },
  {
   "cell_type": "code",
   "execution_count": 7,
   "metadata": {},
   "outputs": [
    {
     "data": {
      "text/latex": [
       "$\\displaystyle \\left(- \\tilde{r}^{2} a^{2} \\cos^{2}{\\left(\\theta \\right)} + \\tilde{r}^{2} - a^{4} \\cos^{4}{\\left(\\theta \\right)} + a^{2} \\cos^{2}{\\left(\\theta \\right)}\\right) \\sin^{2}{\\left(\\theta \\right)}$"
      ],
      "text/plain": [
       "(-\\tilde{r}**2*a**2*cos(theta)**2 + \\tilde{r}**2 - a**4*cos(theta)**4 + a**2*cos(theta)**2)*sin(theta)**2"
      ]
     },
     "execution_count": 7,
     "metadata": {},
     "output_type": "execute_result"
    }
   ],
   "source": [
    "condition = sympy.fraction(condition)[0]\n",
    "condition"
   ]
  },
  {
   "attachments": {},
   "cell_type": "markdown",
   "metadata": {},
   "source": [
    "Remove $\\sin^2(\\theta)$."
   ]
  },
  {
   "cell_type": "code",
   "execution_count": 10,
   "metadata": {},
   "outputs": [
    {
     "data": {
      "text/latex": [
       "$\\displaystyle - \\left(\\tilde{r}^{2} + a^{2} \\cos^{2}{\\left(\\theta \\right)}\\right) \\left(a \\cos{\\left(\\theta \\right)} - 1\\right) \\left(a \\cos{\\left(\\theta \\right)} + 1\\right)$"
      ],
      "text/plain": [
       "-(\\tilde{r}**2 + a**2*cos(theta)**2)*(a*cos(theta) - 1)*(a*cos(theta) + 1)"
      ]
     },
     "execution_count": 10,
     "metadata": {},
     "output_type": "execute_result"
    }
   ],
   "source": [
    "condition = condition.args[1].expand().simplify().factor().collect(metric_utils.r_tilde)\n",
    "condition"
   ]
  },
  {
   "cell_type": "code",
   "execution_count": 11,
   "metadata": {},
   "outputs": [],
   "source": [
    "roots = sympy.solve(condition, metric_utils.r_tilde)"
   ]
  },
  {
   "cell_type": "code",
   "execution_count": 12,
   "metadata": {},
   "outputs": [
    {
     "data": {
      "text/latex": [
       "$\\displaystyle - i a \\cos{\\left(\\theta \\right)}$"
      ],
      "text/plain": [
       "-I*a*cos(theta)"
      ]
     },
     "execution_count": 12,
     "metadata": {},
     "output_type": "execute_result"
    }
   ],
   "source": [
    "roots[0]"
   ]
  },
  {
   "cell_type": "code",
   "execution_count": 13,
   "metadata": {},
   "outputs": [
    {
     "data": {
      "text/latex": [
       "$\\displaystyle i a \\cos{\\left(\\theta \\right)}$"
      ],
      "text/plain": [
       "I*a*cos(theta)"
      ]
     },
     "execution_count": 13,
     "metadata": {},
     "output_type": "execute_result"
    }
   ],
   "source": [
    "roots[1]"
   ]
  },
  {
   "attachments": {},
   "cell_type": "markdown",
   "metadata": {},
   "source": [
    "This is always positive, so the condition is always satisfied."
   ]
  }
 ],
 "metadata": {
  "kernelspec": {
   "display_name": "env",
   "language": "python",
   "name": "python3"
  },
  "language_info": {
   "codemirror_mode": {
    "name": "ipython",
    "version": 3
   },
   "file_extension": ".py",
   "mimetype": "text/x-python",
   "name": "python",
   "nbconvert_exporter": "python",
   "pygments_lexer": "ipython3",
   "version": "3.10.3"
  },
  "orig_nbformat": 4
 },
 "nbformat": 4,
 "nbformat_minor": 2
}
