{
 "cells": [
  {
   "cell_type": "code",
   "execution_count": 1,
   "metadata": {},
   "outputs": [],
   "source": [
    "from complex_spacetime_metrics.plot import plot_admissibility_from_file\n",
    "from complex_spacetime_metrics.utils import combine_results"
   ]
  },
  {
   "cell_type": "code",
   "execution_count": 2,
   "metadata": {},
   "outputs": [],
   "source": [
    "q_val = \"q_3\""
   ]
  },
  {
   "cell_type": "code",
   "execution_count": 3,
   "metadata": {},
   "outputs": [],
   "source": [
    "data_dir_path = f\"../../data/{q_val}\"\n",
    "figure_dir_path = f\"../../figures/{q_val}\""
   ]
  },
  {
   "cell_type": "code",
   "execution_count": 4,
   "metadata": {},
   "outputs": [],
   "source": [
    "q_2_dir_path = \"../../data/q_2\""
   ]
  },
  {
   "attachments": {},
   "cell_type": "markdown",
   "metadata": {},
   "source": [
    "### $\\theta=0$"
   ]
  },
  {
   "cell_type": "code",
   "execution_count": 9,
   "metadata": {},
   "outputs": [],
   "source": [
    "files_to_combine = [\n",
    "    f\"{q_2_dir_path}/AG_minus_BH.theta_0.interp.pk\",\n",
    "    f\"{q_2_dir_path}/EG_minus_FH.theta_0.interp.pk\",\n",
    "    f\"{q_2_dir_path}/beta_condition.pk\",\n",
    "    f\"{q_2_dir_path}/determinant_condition.theta_0.pk\"\n",
    "]"
   ]
  },
  {
   "cell_type": "code",
   "execution_count": 10,
   "metadata": {},
   "outputs": [],
   "source": [
    "final_filename_theta_0 = f\"{data_dir_path}/final.theta_0.pk\"\n",
    "combine_results(final_filename_theta_0, files_to_combine)"
   ]
  },
  {
   "cell_type": "code",
   "execution_count": 11,
   "metadata": {},
   "outputs": [],
   "source": [
    "final_plotname_theta_0 = f\"{figure_dir_path}/final.theta_0.pdf\"\n",
    "plot_admissibility_from_file(final_filename_theta_0, final_plotname_theta_0)"
   ]
  },
  {
   "attachments": {},
   "cell_type": "markdown",
   "metadata": {},
   "source": [
    "### $\\theta=\\pi/8$"
   ]
  },
  {
   "cell_type": "code",
   "execution_count": 7,
   "metadata": {},
   "outputs": [],
   "source": [
    "files_to_combine = [\n",
    "    f\"{q_2_dir_path}/AG_minus_BH.theta_pi_8.interp.pk\",\n",
    "    f\"{q_2_dir_path}/EG_minus_FH.theta_pi_8.interp.pk\",\n",
    "    f\"{q_2_dir_path}/beta_condition.pk\",\n",
    "    f\"{q_2_dir_path}/determinant_condition.theta_pi_8.pk\"\n",
    "]"
   ]
  },
  {
   "cell_type": "code",
   "execution_count": 8,
   "metadata": {},
   "outputs": [],
   "source": [
    "final_filename_theta_pi_8 = f\"{data_dir_path}/final.theta_pi_8.pk\"\n",
    "combine_results(final_filename_theta_pi_8, files_to_combine)"
   ]
  },
  {
   "cell_type": "code",
   "execution_count": null,
   "metadata": {},
   "outputs": [],
   "source": [
    "final_plotname_theta_pi_8 = f\"{figure_dir_path}/final.theta_pi_8.pdf\"\n",
    "plot_admissibility_from_file(final_filename_theta_pi_8, final_plotname_theta_pi_8)"
   ]
  },
  {
   "attachments": {},
   "cell_type": "markdown",
   "metadata": {},
   "source": [
    "### $\\theta=\\pi/4$"
   ]
  },
  {
   "cell_type": "code",
   "execution_count": 14,
   "metadata": {},
   "outputs": [],
   "source": [
    "files_to_combine = [\n",
    "    f\"{q_2_dir_path}/AG_minus_BH.theta_pi_4.interp.pk\",\n",
    "    f\"{q_2_dir_path}/EG_minus_FH.theta_pi_4.interp.pk\",\n",
    "    f\"{q_2_dir_path}/beta_condition.pk\",\n",
    "    f\"{q_2_dir_path}/determinant_condition.theta_pi_4.pk\"\n",
    "]"
   ]
  },
  {
   "cell_type": "code",
   "execution_count": 15,
   "metadata": {},
   "outputs": [],
   "source": [
    "final_filename_theta_pi_4 = f\"{data_dir_path}/final.theta_pi_4.pk\"\n",
    "combine_results(final_filename_theta_pi_4, files_to_combine)"
   ]
  },
  {
   "cell_type": "code",
   "execution_count": 16,
   "metadata": {},
   "outputs": [],
   "source": [
    "final_plotname_theta_pi_4 = f\"{figure_dir_path}/final.theta_pi_4.pdf\"\n",
    "plot_admissibility_from_file(final_filename_theta_pi_4, final_plotname_theta_pi_4)"
   ]
  }
 ],
 "metadata": {
  "kernelspec": {
   "display_name": "env",
   "language": "python",
   "name": "python3"
  },
  "language_info": {
   "codemirror_mode": {
    "name": "ipython",
    "version": 3
   },
   "file_extension": ".py",
   "mimetype": "text/x-python",
   "name": "python",
   "nbconvert_exporter": "python",
   "pygments_lexer": "ipython3",
   "version": "3.10.3"
  },
  "orig_nbformat": 4
 },
 "nbformat": 4,
 "nbformat_minor": 2
}
