{
 "cells": [
  {
   "cell_type": "code",
   "execution_count": 1,
   "metadata": {},
   "outputs": [],
   "source": [
    "import numpy as np\n",
    "import sympy\n",
    "from sympy.tensor.tensor import TensorIndexType, TensorHead, tensor_indices\n",
    "from tqdm import tqdm\n",
    "\n",
    "sympy.init_printing()"
   ]
  },
  {
   "cell_type": "code",
   "execution_count": 18,
   "metadata": {},
   "outputs": [],
   "source": [
    "A, B, C, D, E, F, G, H, I = sympy.symbols(\"A B C D E F G H I\", real=True)\n",
    "F_012, F_013, F_023, F_123 = sympy.symbols(\"F_{012} F_{013} F_{023} F_{123}\")"
   ]
  },
  {
   "cell_type": "code",
   "execution_count": 7,
   "metadata": {},
   "outputs": [
    {
     "data": {
      "text/latex": [
       "$\\displaystyle \\left[\\begin{matrix}A + i B & C + i D & 0 & 0\\\\C + i D & E + i F & 0 & 0\\\\0 & 0 & G + i H & 0\\\\0 & 0 & 0 & I\\end{matrix}\\right]$"
      ],
      "text/plain": [
       "⎡A + ⅈ⋅B  C + ⅈ⋅D     0     0⎤\n",
       "⎢                            ⎥\n",
       "⎢C + ⅈ⋅D  E + ⅈ⋅F     0     0⎥\n",
       "⎢                            ⎥\n",
       "⎢   0        0     G + ⅈ⋅H  0⎥\n",
       "⎢                            ⎥\n",
       "⎣   0        0        0     I⎦"
      ]
     },
     "execution_count": 7,
     "metadata": {},
     "output_type": "execute_result"
    }
   ],
   "source": [
    "g_mat = sympy.Matrix([\n",
    "    [A + sympy.I * B, C + sympy.I * D, 0, 0],\n",
    "    [C + sympy.I * D, E + sympy.I * F, 0, 0],\n",
    "    [0, 0, G + sympy.I * H, 0],\n",
    "    [0, 0, 0, I]\n",
    "])\n",
    "g_mat"
   ]
  },
  {
   "cell_type": "code",
   "execution_count": 3,
   "metadata": {},
   "outputs": [
    {
     "data": {
      "image/png": "[encoded data removed]",
      "text/latex": [
       "$\\displaystyle \\left[ \\left[ \\left[ 0, \\  0, \\  0, \\  0\\right], \\  \\left[ 0, \\  0, \\  F_{012}, \\  F_{013}\\right], \\  \\left[ 0, \\  - F_{012}, \\  0, \\  F_{023}\\right], \\  \\left[ 0, \\  - F_{013}, \\  - F_{023}, \\  0\\right]\\right], \\  \\left[ \\left[ 0, \\  0, \\  - F_{012}, \\  - F_{013}\\right], \\  \\left[ 0, \\  0, \\  0, \\  0\\right], \\  \\left[ F_{012}, \\  0, \\  0, \\  F_{123}\\right], \\  \\left[ F_{013}, \\  0, \\  - F_{123}, \\  0\\right]\\right], \\  \\left[ \\left[ 0, \\  F_{012}, \\  0, \\  - F_{023}\\right], \\  \\left[ - F_{012}, \\  0, \\  0, \\  - F_{123}\\right], \\  \\left[ 0, \\  0, \\  0, \\  0\\right], \\  \\left[ F_{023}, \\  F_{123}, \\  0, \\  0\\right]\\right], \\  \\left[ \\left[ 0, \\  F_{013}, \\  F_{023}, \\  0\\right], \\  \\left[ - F_{013}, \\  0, \\  F_{123}, \\  0\\right], \\  \\left[ - F_{023}, \\  - F_{123}, \\  0, \\  0\\right], \\  \\left[ 0, \\  0, \\  0, \\  0\\right]\\right]\\right]$"
      ],
      "text/plain": [
       "[[[0, 0, 0, 0], [0, 0, F_{012}, F_{013}], [0, -F_{012}, 0, F_{023}], [0, -F_{0\n",
       "13}, -F_{023}, 0]], [[0, 0, -F_{012}, -F_{013}], [0, 0, 0, 0], [F_{012}, 0, 0,\n",
       " F_{123}], [F_{013}, 0, -F_{123}, 0]], [[0, F_{012}, 0, -F_{023}], [-F_{012}, \n",
       "0, 0, -F_{123}], [0, 0, 0, 0], [F_{023}, F_{123}, 0, 0]], [[0, F_{013}, F_{023\n",
       "}, 0], [-F_{013}, 0, F_{123}, 0], [-F_{023}, -F_{123}, 0, 0], [0, 0, 0, 0]]]"
      ]
     },
     "execution_count": 3,
     "metadata": {},
     "output_type": "execute_result"
    }
   ],
   "source": [
    "F_tensor = [\n",
    "    # F_0XX\n",
    "    [[0, 0, 0, 0],\n",
    "     [0, 0, F_012, F_013],\n",
    "     [0, -F_012, 0, F_023],\n",
    "     [0, -F_013, -F_023, 0]],\n",
    "    # F_1XX\n",
    "    [[0, 0, -F_012, -F_013],\n",
    "     [0, 0, 0, 0],\n",
    "     [F_012, 0, 0, F_123],\n",
    "     [F_013, 0, -F_123, 0]],\n",
    "    # F_2XX\n",
    "    [[0, F_012, 0, -F_023],\n",
    "    [-F_012, 0, 0, -F_123],\n",
    "    [0, 0, 0, 0],\n",
    "    [F_023, F_123, 0, 0]],\n",
    "    # F_3XX\n",
    "    [[0, F_013, F_023, 0],\n",
    "    [-F_013, 0, F_123, 0],\n",
    "    [-F_023, -F_123, 0, 0],\n",
    "    [0, 0, 0, 0]]\n",
    "]\n",
    "F_tensor"
   ]
  },
  {
   "cell_type": "code",
   "execution_count": 5,
   "metadata": {},
   "outputs": [],
   "source": [
    "Lorentzian = TensorIndexType('Lorentzian', dummy_name='L')\n",
    "i0, i1, i2, i3, i4, i5 = tensor_indices('i0:6', Lorentzian)\n",
    "j0, j1, j2, j3, j4, j5 = tensor_indices('j0:6', Lorentzian)"
   ]
  },
  {
   "cell_type": "code",
   "execution_count": 8,
   "metadata": {},
   "outputs": [],
   "source": [
    "gggFF_mat = sympy.tensorproduct(sympy.tensorproduct(sympy.tensorproduct(g_mat, g_mat), g_mat), sympy.tensorproduct(F_tensor, F_tensor))"
   ]
  },
  {
   "cell_type": "code",
   "execution_count": 13,
   "metadata": {},
   "outputs": [],
   "source": [
    "gggFF_tensor = TensorHead('gggFF', [Lorentzian] * 12)\n",
    "repl = {gggFF_tensor(i0, j0, i1, j1, i2, j2, -i3, -i4, -i5, -j3, -j4, -j5): gggFF_mat}"
   ]
  },
  {
   "cell_type": "code",
   "execution_count": 14,
   "metadata": {},
   "outputs": [
    {
     "data": {
      "image/png": "[encoded data removed]",
      "text/latex": [
       "$\\displaystyle 6 F_{012}^{2} \\left(A + i B\\right) \\left(E + i F\\right) \\left(G + i H\\right) - 6 F_{012}^{2} \\left(C + i D\\right)^{2} \\left(G + i H\\right) + 6 F_{013}^{2} I \\left(A + i B\\right) \\left(E + i F\\right) - 6 F_{013}^{2} I \\left(C + i D\\right)^{2} + 6 F_{023}^{2} I \\left(A + i B\\right) \\left(G + i H\\right) + 12 F_{023} F_{123} I \\left(C + i D\\right) \\left(G + i H\\right) + 6 F_{123}^{2} I \\left(E + i F\\right) \\left(G + i H\\right)$"
      ],
      "text/plain": [
       "         2                                          2          2              \n",
       "6⋅F_{012} ⋅(A + ⅈ⋅B)⋅(E + ⅈ⋅F)⋅(G + ⅈ⋅H) - 6⋅F_{012} ⋅(C + ⅈ⋅D) ⋅(G + ⅈ⋅H) + 6\n",
       "\n",
       "        2                                  2            2            2        \n",
       "⋅F_{013} ⋅I⋅(A + ⅈ⋅B)⋅(E + ⅈ⋅F) - 6⋅F_{013} ⋅I⋅(C + ⅈ⋅D)  + 6⋅F_{023} ⋅I⋅(A + \n",
       "\n",
       "                                                                     2        \n",
       "ⅈ⋅B)⋅(G + ⅈ⋅H) + 12⋅F_{023}⋅F_{123}⋅I⋅(C + ⅈ⋅D)⋅(G + ⅈ⋅H) + 6⋅F_{123} ⋅I⋅(E + \n",
       "\n",
       "              \n",
       "ⅈ⋅F)⋅(G + ⅈ⋅H)"
      ]
     },
     "execution_count": 14,
     "metadata": {},
     "output_type": "execute_result"
    }
   ],
   "source": [
    "quadratic_form = gggFF_tensor(i0, j0, i1, j1, i2, j2, -i0, -i1, -i2, -j0, -j1, -j2).replace_with_arrays(repl)\n",
    "quadratic_form"
   ]
  },
  {
   "cell_type": "code",
   "execution_count": 15,
   "metadata": {},
   "outputs": [
    {
     "data": {
      "image/png": "[encoded data removed]",
      "text/latex": [
       "$\\displaystyle 6 A E F_{012}^{2} G + 6 A E F_{013}^{2} I - 6 A F F_{012}^{2} H + 6 A F_{023}^{2} G I - 6 B E F_{012}^{2} H - 6 B F F_{012}^{2} G - 6 B F F_{013}^{2} I - 6 B F_{023}^{2} H I - 6 C^{2} F_{012}^{2} G - 6 C^{2} F_{013}^{2} I + 12 C D F_{012}^{2} H + 12 C F_{023} F_{123} G I + 6 D^{2} F_{012}^{2} G + 6 D^{2} F_{013}^{2} I - 12 D F_{023} F_{123} H I + 6 E F_{123}^{2} G I - 6 F F_{123}^{2} H I + i \\left(6 A E F_{012}^{2} H + 6 A F F_{012}^{2} G + 6 A F F_{013}^{2} I + 6 A F_{023}^{2} H I + 6 B E F_{012}^{2} G + 6 B E F_{013}^{2} I - 6 B F F_{012}^{2} H + 6 B F_{023}^{2} G I - 6 C^{2} F_{012}^{2} H - 12 C D F_{012}^{2} G - 12 C D F_{013}^{2} I + 12 C F_{023} F_{123} H I + 6 D^{2} F_{012}^{2} H + 12 D F_{023} F_{123} G I + 6 E F_{123}^{2} H I + 6 F F_{123}^{2} G I\\right)$"
      ],
      "text/plain": [
       "             2                  2                  2                2         \n",
       "6⋅A⋅E⋅F_{012} ⋅G + 6⋅A⋅E⋅F_{013} ⋅I - 6⋅A⋅F⋅F_{012} ⋅H + 6⋅A⋅F_{023} ⋅G⋅I - 6⋅\n",
       "\n",
       "           2                  2                  2                2          2\n",
       "B⋅E⋅F_{012} ⋅H - 6⋅B⋅F⋅F_{012} ⋅G - 6⋅B⋅F⋅F_{013} ⋅I - 6⋅B⋅F_{023} ⋅H⋅I - 6⋅C \n",
       "\n",
       "        2        2        2                   2                               \n",
       "⋅F_{012} ⋅G - 6⋅C ⋅F_{013} ⋅I + 12⋅C⋅D⋅F_{012} ⋅H + 12⋅C⋅F_{023}⋅F_{123}⋅G⋅I +\n",
       "\n",
       "    2        2        2        2                                           2  \n",
       " 6⋅D ⋅F_{012} ⋅G + 6⋅D ⋅F_{013} ⋅I - 12⋅D⋅F_{023}⋅F_{123}⋅H⋅I + 6⋅E⋅F_{123} ⋅G\n",
       "\n",
       "                2         ⎛             2                  2                  \n",
       "⋅I - 6⋅F⋅F_{123} ⋅H⋅I + ⅈ⋅⎝6⋅A⋅E⋅F_{012} ⋅H + 6⋅A⋅F⋅F_{012} ⋅G + 6⋅A⋅F⋅F_{013}\n",
       "\n",
       "2                2                    2                  2                  2 \n",
       " ⋅I + 6⋅A⋅F_{023} ⋅H⋅I + 6⋅B⋅E⋅F_{012} ⋅G + 6⋅B⋅E⋅F_{013} ⋅I - 6⋅B⋅F⋅F_{012} ⋅\n",
       "\n",
       "               2          2        2                   2                   2  \n",
       "H + 6⋅B⋅F_{023} ⋅G⋅I - 6⋅C ⋅F_{012} ⋅H - 12⋅C⋅D⋅F_{012} ⋅G - 12⋅C⋅D⋅F_{013} ⋅I\n",
       "\n",
       "                                 2        2                                   \n",
       " + 12⋅C⋅F_{023}⋅F_{123}⋅H⋅I + 6⋅D ⋅F_{012} ⋅H + 12⋅D⋅F_{023}⋅F_{123}⋅G⋅I + 6⋅E\n",
       "\n",
       "        2                  2    ⎞\n",
       "⋅F_{123} ⋅H⋅I + 6⋅F⋅F_{123} ⋅G⋅I⎠"
      ]
     },
     "execution_count": 15,
     "metadata": {},
     "output_type": "execute_result"
    }
   ],
   "source": [
    "quadratic_form_simp = quadratic_form.expand().simplify().collect(sympy.I)\n",
    "quadratic_form_simp"
   ]
  },
  {
   "cell_type": "code",
   "execution_count": 25,
   "metadata": {},
   "outputs": [
    {
     "data": {
      "image/png": "[encoded data removed]",
      "text/latex": [
       "$\\displaystyle 6 A E F_{012}^{2} G + 6 A E F_{013}^{2} I - 6 A F F_{012}^{2} H + 6 A F_{023}^{2} G I - 6 B E F_{012}^{2} H - 6 B F F_{012}^{2} G - 6 B F F_{013}^{2} I - 6 B F_{023}^{2} H I - 6 C^{2} F_{012}^{2} G - 6 C^{2} F_{013}^{2} I + 12 C D F_{012}^{2} H + 12 C F_{023} F_{123} G I + 6 D^{2} F_{012}^{2} G + 6 D^{2} F_{013}^{2} I - 12 D F_{023} F_{123} H I + 6 E F_{123}^{2} G I - 6 F F_{123}^{2} H I$"
      ],
      "text/plain": [
       "             2                  2                  2                2         \n",
       "6⋅A⋅E⋅F_{012} ⋅G + 6⋅A⋅E⋅F_{013} ⋅I - 6⋅A⋅F⋅F_{012} ⋅H + 6⋅A⋅F_{023} ⋅G⋅I - 6⋅\n",
       "\n",
       "           2                  2                  2                2          2\n",
       "B⋅E⋅F_{012} ⋅H - 6⋅B⋅F⋅F_{012} ⋅G - 6⋅B⋅F⋅F_{013} ⋅I - 6⋅B⋅F_{023} ⋅H⋅I - 6⋅C \n",
       "\n",
       "        2        2        2                   2                               \n",
       "⋅F_{012} ⋅G - 6⋅C ⋅F_{013} ⋅I + 12⋅C⋅D⋅F_{012} ⋅H + 12⋅C⋅F_{023}⋅F_{123}⋅G⋅I +\n",
       "\n",
       "    2        2        2        2                                           2  \n",
       " 6⋅D ⋅F_{012} ⋅G + 6⋅D ⋅F_{013} ⋅I - 12⋅D⋅F_{023}⋅F_{123}⋅H⋅I + 6⋅E⋅F_{123} ⋅G\n",
       "\n",
       "                2    \n",
       "⋅I - 6⋅F⋅F_{123} ⋅H⋅I"
      ]
     },
     "execution_count": 25,
     "metadata": {},
     "output_type": "execute_result"
    }
   ],
   "source": [
    "(quadratic_form_simp - quadratic_form_simp.coeff(sympy.I) * sympy.I).simplify() #collect([H])"
   ]
  },
  {
   "cell_type": "code",
   "execution_count": 87,
   "metadata": {},
   "outputs": [
    {
     "data": {
      "image/png": "[encoded data removed]",
      "text/latex": [
       "$\\displaystyle 6 F_{012}^{2} \\left(A E G - A F H - B E H - B F G - C^{2} G + 2 C D H + D^{2} G + i \\left(A E H + A F G + B E G - B F H - C^{2} H - 2 C D G + D^{2} H\\right)\\right)$"
      ],
      "text/plain": [
       "         2 ⎛                                 2                2       ⎛       \n",
       "6⋅F_{012} ⋅⎝A⋅E⋅G - A⋅F⋅H - B⋅E⋅H - B⋅F⋅G - C ⋅G + 2⋅C⋅D⋅H + D ⋅G + ⅈ⋅⎝A⋅E⋅H +\n",
       "\n",
       "                          2                2  ⎞⎞\n",
       " A⋅F⋅G + B⋅E⋅G - B⋅F⋅H - C ⋅H - 2⋅C⋅D⋅G + D ⋅H⎠⎠"
      ]
     },
     "execution_count": 87,
     "metadata": {},
     "output_type": "execute_result"
    }
   ],
   "source": [
    "quadratic_form_simp = quadratic_form.expand().simplify().collect(sympy.I)\n",
    "quadratic_form_simp"
   ]
  },
  {
   "cell_type": "code",
   "execution_count": 102,
   "metadata": {},
   "outputs": [
    {
     "data": {
      "image/png": "[encoded data removed]",
      "text/latex": [
       "$\\displaystyle A E G - A F H - B E H - B F G - C^{2} G + 2 C D H + D^{2} G$"
      ],
      "text/plain": [
       "                                 2                2  \n",
       "A⋅E⋅G - A⋅F⋅H - B⋅E⋅H - B⋅F⋅G - C ⋅G + 2⋅C⋅D⋅H + D ⋅G"
      ]
     },
     "execution_count": 102,
     "metadata": {},
     "output_type": "execute_result"
    }
   ],
   "source": [
    "sum(quadratic_form_simp.args[2].args[1:])"
   ]
  },
  {
   "cell_type": "code",
   "execution_count": 105,
   "metadata": {},
   "outputs": [
    {
     "data": {
      "image/png": "[encoded data removed]",
      "text/latex": [
       "$\\displaystyle A E G - A F H - B E H - B F G - C^{2} G + 2 C D H + D^{2} G + i \\left(A E H + A F G + B E G - B F H - C^{2} H - 2 C D G + D^{2} H\\right)$"
      ],
      "text/plain": [
       "                                 2                2       ⎛                   \n",
       "A⋅E⋅G - A⋅F⋅H - B⋅E⋅H - B⋅F⋅G - C ⋅G + 2⋅C⋅D⋅H + D ⋅G + ⅈ⋅⎝A⋅E⋅H + A⋅F⋅G + B⋅E\n",
       "\n",
       "              2                2  ⎞\n",
       "⋅G - B⋅F⋅H - C ⋅H - 2⋅C⋅D⋅G + D ⋅H⎠"
      ]
     },
     "execution_count": 105,
     "metadata": {},
     "output_type": "execute_result"
    }
   ],
   "source": [
    "g_mat.det().collect(sympy.I)"
   ]
  }
 ],
 "metadata": {
  "kernelspec": {
   "display_name": "env",
   "language": "python",
   "name": "python3"
  },
  "language_info": {
   "codemirror_mode": {
    "name": "ipython",
    "version": 3
   },
   "file_extension": ".py",
   "mimetype": "text/x-python",
   "name": "python",
   "nbconvert_exporter": "python",
   "pygments_lexer": "ipython3",
   "version": "3.10.3"
  },
  "orig_nbformat": 4
 },
 "nbformat": 4,
 "nbformat_minor": 2
}
