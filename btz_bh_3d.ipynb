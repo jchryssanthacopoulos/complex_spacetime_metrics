{
 "cells": [
  {
   "cell_type": "code",
   "execution_count": 1,
   "metadata": {},
   "outputs": [],
   "source": [
    "import sympy\n",
    "\n",
    "sympy.init_printing()"
   ]
  },
  {
   "cell_type": "code",
   "execution_count": 2,
   "metadata": {},
   "outputs": [],
   "source": [
    "N, N_phi, rho, r_plus, omega = sympy.symbols(\"N N^\\phi \\\\rho r_+ \\Omega\")"
   ]
  },
  {
   "cell_type": "code",
   "execution_count": 3,
   "metadata": {},
   "outputs": [],
   "source": [
    "r, l, G, J, M = sympy.symbols(\"r l G J M\")"
   ]
  },
  {
   "cell_type": "code",
   "execution_count": 4,
   "metadata": {},
   "outputs": [],
   "source": [
    "N_val = sympy.sqrt(r ** 2 * (r ** 2 - r_plus ** 2) / (l ** 2 * rho ** 2))\n",
    "N_phi_val = -4 * G * J / rho ** 2\n",
    "rho_val = sympy.sqrt(r ** 2 + 4 * G * M * l ** 2 - r_plus ** 2 / 2)\n",
    "r_plus_val = sympy.sqrt(8 * G * l * sympy.sqrt(M ** 2 * l ** 2 - J ** 2))\n",
    "omega_val = -8 * G * J / (r_plus ** 2 + 8 * G * M * l ** 2)"
   ]
  },
  {
   "cell_type": "code",
   "execution_count": 5,
   "metadata": {},
   "outputs": [
    {
     "data": {
      "image/png": "[encoded data removed]",
      "text/latex": [
       "$\\displaystyle N^{2} - \\rho^{2} \\left(N^{\\phi} - \\Omega\\right)^{2}$"
      ],
      "text/plain": [
       " 2       2                   2\n",
       "N  - \\rho ⋅(N__\\phi - \\Omega) "
      ]
     },
     "execution_count": 5,
     "metadata": {},
     "output_type": "execute_result"
    }
   ],
   "source": [
    "criterion = N ** 2 - rho ** 2 * (N_phi - omega) ** 2\n",
    "criterion"
   ]
  },
  {
   "cell_type": "code",
   "execution_count": 6,
   "metadata": {},
   "outputs": [
    {
     "data": {
      "image/png": "[encoded data removed]",
      "text/latex": [
       "$\\displaystyle - \\rho^{2} \\left(\\frac{8 G J}{8 G M l^{2} + r_{+}^{2}} - \\frac{4 G J}{\\rho^{2}}\\right)^{2} + \\frac{r^{2} \\left(r^{2} - r_{+}^{2}\\right)}{\\rho^{2} l^{2}}$"
      ],
      "text/plain": [
       "                                2    2 ⎛ 2     2⎞\n",
       "      2 ⎛    8⋅G⋅J        4⋅G⋅J⎞    r ⋅⎝r  - r₊ ⎠\n",
       "- \\rho ⋅⎜────────────── - ─────⎟  + ─────────────\n",
       "        ⎜       2     2       2⎟           2  2  \n",
       "        ⎝8⋅G⋅M⋅l  + r₊    \\rho ⎠       \\rho ⋅l   "
      ]
     },
     "execution_count": 6,
     "metadata": {},
     "output_type": "execute_result"
    }
   ],
   "source": [
    "criterion_subs = criterion.subs({N: N_val, N_phi: N_phi_val, omega: omega_val})\n",
    "criterion_subs"
   ]
  },
  {
   "cell_type": "code",
   "execution_count": 7,
   "metadata": {},
   "outputs": [
    {
     "data": {
      "image/png": "[encoded data removed]",
      "text/latex": [
       "$\\displaystyle \\frac{\\left(r^{2} - r_{+}^{2}\\right) \\left(- \\frac{16 G^{2} J^{2} \\left(r^{2} - r_{+}^{2}\\right)}{\\left(4 G M l^{2} + \\frac{r_{+}^{2}}{2}\\right)^{2}} + \\frac{r^{2}}{l^{2}}\\right)}{\\rho^{2}}$"
      ],
      "text/plain": [
       "           ⎛      2  2 ⎛ 2     2⎞    2⎞\n",
       "⎛ 2     2⎞ ⎜  16⋅G ⋅J ⋅⎝r  - r₊ ⎠   r ⎟\n",
       "⎝r  - r₊ ⎠⋅⎜- ─────────────────── + ──⎟\n",
       "           ⎜                   2     2⎟\n",
       "           ⎜   ⎛             2⎞     l ⎟\n",
       "           ⎜   ⎜       2   r₊ ⎟       ⎟\n",
       "           ⎜   ⎜4⋅G⋅M⋅l  + ───⎟       ⎟\n",
       "           ⎝   ⎝            2 ⎠       ⎠\n",
       "───────────────────────────────────────\n",
       "                     2                 \n",
       "                 \\rho                  "
      ]
     },
     "execution_count": 7,
     "metadata": {},
     "output_type": "execute_result"
    }
   ],
   "source": [
    "criterion_simp = (r ** 2 - r_plus ** 2) / rho ** 2 * (r ** 2 / l ** 2 - (4 * G * J) ** 2 * (r ** 2 - r_plus ** 2) / (r_plus ** 2 / 2 + 4 * G * M * l ** 2) ** 2)\n",
    "criterion_simp"
   ]
  },
  {
   "cell_type": "code",
   "execution_count": 8,
   "metadata": {},
   "outputs": [
    {
     "data": {
      "image/png": "[encoded data removed]",
      "text/latex": [
       "$\\displaystyle \\frac{\\left(r^{2} - r_{+}^{2}\\right) \\left(\\frac{16 G^{2} J^{2} \\left(r^{2} - r_{+}^{2}\\right)}{\\left(4 G M l^{2} + \\frac{r_{+}^{2}}{2}\\right)^{2}} + \\frac{r^{2}}{l^{2}}\\right)}{\\rho^{2}}$"
      ],
      "text/plain": [
       "           ⎛    2  2 ⎛ 2     2⎞    2⎞\n",
       "⎛ 2     2⎞ ⎜16⋅G ⋅J ⋅⎝r  - r₊ ⎠   r ⎟\n",
       "⎝r  - r₊ ⎠⋅⎜─────────────────── + ──⎟\n",
       "           ⎜                 2     2⎟\n",
       "           ⎜ ⎛             2⎞     l ⎟\n",
       "           ⎜ ⎜       2   r₊ ⎟       ⎟\n",
       "           ⎜ ⎜4⋅G⋅M⋅l  + ───⎟       ⎟\n",
       "           ⎝ ⎝            2 ⎠       ⎠\n",
       "─────────────────────────────────────\n",
       "                    2                \n",
       "                \\rho                 "
      ]
     },
     "execution_count": 8,
     "metadata": {},
     "output_type": "execute_result"
    }
   ],
   "source": [
    "criterion_simp_2 = (r ** 2 - r_plus ** 2) / rho ** 2 * (r ** 2 / l ** 2 + (4 * G * J) ** 2 * (r ** 2 - r_plus ** 2) / (r_plus ** 2 / 2 + 4 * G * M * l ** 2) ** 2)\n",
    "criterion_simp_2"
   ]
  },
  {
   "cell_type": "code",
   "execution_count": 9,
   "metadata": {},
   "outputs": [
    {
     "data": {
      "image/png": "[encoded data removed]",
      "text/latex": [
       "$\\displaystyle 0$"
      ],
      "text/plain": [
       "0"
      ]
     },
     "execution_count": 9,
     "metadata": {},
     "output_type": "execute_result"
    }
   ],
   "source": [
    "(criterion_simp - criterion_subs).subs({rho: rho_val}).simplify()"
   ]
  },
  {
   "cell_type": "code",
   "execution_count": 10,
   "metadata": {},
   "outputs": [
    {
     "data": {
      "image/png": "[encoded data removed]",
      "text/latex": [
       "$\\displaystyle \\frac{256 G^{2} J^{2} \\left(r - r_{+}\\right)^{2} \\left(r + r_{+}\\right)^{2}}{\\left(8 G M l^{2} + r_{+}^{2}\\right)^{2} \\cdot \\left(8 G M l^{2} + 2 r^{2} - r_{+}^{2}\\right)}$"
      ],
      "text/plain": [
       "           2  2         2         2      \n",
       "      256⋅G ⋅J ⋅(r - r₊) ⋅(r + r₊)       \n",
       "─────────────────────────────────────────\n",
       "                2                        \n",
       "⎛       2     2⎞  ⎛       2      2     2⎞\n",
       "⎝8⋅G⋅M⋅l  + r₊ ⎠ ⋅⎝8⋅G⋅M⋅l  + 2⋅r  - r₊ ⎠"
      ]
     },
     "execution_count": 10,
     "metadata": {},
     "output_type": "execute_result"
    }
   ],
   "source": [
    "(criterion_simp_2 - criterion_subs).subs({rho: rho_val}).simplify().factor()"
   ]
  }
 ],
 "metadata": {
  "kernelspec": {
   "display_name": "env",
   "language": "python",
   "name": "python3"
  },
  "language_info": {
   "codemirror_mode": {
    "name": "ipython",
    "version": 3
   },
   "file_extension": ".py",
   "mimetype": "text/x-python",
   "name": "python",
   "nbconvert_exporter": "python",
   "pygments_lexer": "ipython3",
   "version": "3.10.3"
  },
  "orig_nbformat": 4
 },
 "nbformat": 4,
 "nbformat_minor": 2
}
