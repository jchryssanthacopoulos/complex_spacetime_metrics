{
 "cells": [
  {
   "cell_type": "code",
   "execution_count": 1,
   "metadata": {},
   "outputs": [],
   "source": [
    "import sympy\n",
    "\n",
    "sympy.init_printing()"
   ]
  },
  {
   "attachments": {},
   "cell_type": "markdown",
   "metadata": {},
   "source": [
    "### Variable Definitions"
   ]
  },
  {
   "cell_type": "code",
   "execution_count": 2,
   "metadata": {},
   "outputs": [],
   "source": [
    "t, r, theta, phi, psi = sympy.symbols(\"t r theta phi psi\")"
   ]
  },
  {
   "cell_type": "code",
   "execution_count": 3,
   "metadata": {},
   "outputs": [],
   "source": [
    "dt, dr, dtheta, dphi, dpsi = sympy.symbols(r\"dt dr d\\theta d\\phi d\\psi\")"
   ]
  },
  {
   "cell_type": "code",
   "execution_count": 4,
   "metadata": {},
   "outputs": [],
   "source": [
    "a, b, m, q, g = sympy.symbols(\"a b m q g\")"
   ]
  },
  {
   "cell_type": "code",
   "execution_count": 5,
   "metadata": {},
   "outputs": [],
   "source": [
    "rplus = sympy.symbols(\"r_+\")"
   ]
  },
  {
   "cell_type": "code",
   "execution_count": 6,
   "metadata": {},
   "outputs": [],
   "source": [
    "delta_r, delta_theta, rho_squared, xi_a, xi_b, f = sympy.symbols(\"Delta_r Delta_theta rho^2 Xi_a Xi_b f\")"
   ]
  },
  {
   "cell_type": "code",
   "execution_count": 7,
   "metadata": {},
   "outputs": [],
   "source": [
    "nu, omega = sympy.symbols(\"nu omega\")"
   ]
  },
  {
   "attachments": {},
   "cell_type": "markdown",
   "metadata": {},
   "source": [
    "### Metric"
   ]
  },
  {
   "cell_type": "code",
   "execution_count": 8,
   "metadata": {},
   "outputs": [],
   "source": [
    "metric = -delta_theta * ((1 + g ** 2 * r ** 2) * rho_squared * dt + 2 * q * nu) * dt / (xi_a * xi_b * rho_squared)\n",
    "metric += 2 * q * nu * omega / rho_squared\n",
    "metric += f * ((delta_theta * dt) / (xi_a * xi_b) - omega) ** 2 / rho_squared ** 2\n",
    "metric += rho_squared * dr ** 2 / delta_r\n",
    "metric += rho_squared * dtheta ** 2 / delta_theta\n",
    "metric += (r ** 2 + a ** 2) * sympy.sin(theta) ** 2 * dphi ** 2 / xi_a\n",
    "metric += (r ** 2 + b ** 2) * sympy.cos(theta) ** 2 * dpsi ** 2 / xi_b"
   ]
  },
  {
   "cell_type": "code",
   "execution_count": 9,
   "metadata": {},
   "outputs": [
    {
     "data": {
      "image/png": "[encoded data removed]",
      "text/latex": [
       "$\\displaystyle - \\frac{\\Delta_{\\theta} dt \\left(dt \\rho^{2} \\left(g^{2} r^{2} + 1\\right) + 2 \\nu q\\right)}{\\Xi_{a} \\Xi_{b} \\rho^{2}} + \\frac{f \\left(\\frac{\\Delta_{\\theta} dt}{\\Xi_{a} \\Xi_{b}} - \\omega\\right)^{2}}{\\left(\\rho^{2}\\right)^{2}} + \\frac{2 \\nu \\omega q}{\\rho^{2}} + \\frac{d\\psi^{2} \\left(b^{2} + r^{2}\\right) \\cos^{2}{\\left(\\theta \\right)}}{\\Xi_{b}} + \\frac{d\\phi^{2} \\left(a^{2} + r^{2}\\right) \\sin^{2}{\\left(\\theta \\right)}}{\\Xi_{a}} + \\frac{d\\theta^{2} \\rho^{2}}{\\Delta_{\\theta}} + \\frac{dr^{2} \\rho^{2}}{\\Delta_{r}}$"
      ],
      "text/plain": [
       "                                                           2                  \n",
       "                                            ⎛Δₜₕₑₜₐ⋅dt    ⎞                   \n",
       "            ⎛      ⎛ 2  2    ⎞        ⎞   f⋅⎜───────── - ω⎟                   \n",
       "  Δₜₕₑₜₐ⋅dt⋅⎝dt⋅ρ²⋅⎝g ⋅r  + 1⎠ + 2⋅ν⋅q⎠     ⎝  Ξₐ⋅Ξ_b     ⎠    2⋅ν⋅ω⋅q   d\\psi\n",
       "- ───────────────────────────────────── + ────────────────── + ─────── + ─────\n",
       "                Ξₐ⋅Ξ_b⋅ρ²                          2              ρ²          \n",
       "                                                 ρ²                           \n",
       "\n",
       "                                                                     \n",
       "                                                                     \n",
       "2 ⎛ 2    2⎞    2           2 ⎛ 2    2⎞    2             2        2   \n",
       " ⋅⎝b  + r ⎠⋅cos (θ)   d\\phi ⋅⎝a  + r ⎠⋅sin (θ)   d\\theta ⋅ρ²   dr ⋅ρ²\n",
       "─────────────────── + ──────────────────────── + ─────────── + ──────\n",
       "     Ξ_b                         Ξₐ                 Δₜₕₑₜₐ       Δᵣ  \n",
       "                                                                     "
      ]
     },
     "execution_count": 9,
     "metadata": {},
     "output_type": "execute_result"
    }
   ],
   "source": [
    "metric"
   ]
  },
  {
   "cell_type": "code",
   "execution_count": 10,
   "metadata": {},
   "outputs": [
    {
     "data": {
      "image/png": "[encoded data removed]",
      "text/latex": [
       "$\\displaystyle a d\\psi \\cos^{2}{\\left(\\theta \\right)} + b d\\phi \\sin^{2}{\\left(\\theta \\right)}$"
      ],
      "text/plain": [
       "           2                 2   \n",
       "a⋅d\\psi⋅cos (θ) + b⋅d\\phi⋅sin (θ)"
      ]
     },
     "execution_count": 10,
     "metadata": {},
     "output_type": "execute_result"
    }
   ],
   "source": [
    "nu_val = b * sympy.sin(theta) ** 2 * dphi + a * sympy.cos(theta) ** 2 * dpsi\n",
    "nu_val"
   ]
  },
  {
   "cell_type": "code",
   "execution_count": 11,
   "metadata": {},
   "outputs": [
    {
     "data": {
      "image/png": "[encoded data removed]",
      "text/latex": [
       "$\\displaystyle \\frac{b d\\psi \\cos^{2}{\\left(\\theta \\right)}}{\\Xi_{b}} + \\frac{a d\\phi \\sin^{2}{\\left(\\theta \\right)}}{\\Xi_{a}}$"
      ],
      "text/plain": [
       "           2                 2   \n",
       "b⋅d\\psi⋅cos (θ)   a⋅d\\phi⋅sin (θ)\n",
       "─────────────── + ───────────────\n",
       "      Ξ_b                Ξₐ      "
      ]
     },
     "execution_count": 11,
     "metadata": {},
     "output_type": "execute_result"
    }
   ],
   "source": [
    "omega_val = a * sympy.sin(theta) ** 2 * dphi / xi_a + b * sympy.cos(theta) ** 2 * dpsi / xi_b\n",
    "omega_val"
   ]
  },
  {
   "cell_type": "code",
   "execution_count": 12,
   "metadata": {},
   "outputs": [
    {
     "data": {
      "image/png": "[encoded data removed]",
      "text/latex": [
       "$\\displaystyle \\frac{\\Delta_{\\theta}^{2} dt^{2} f}{\\Xi_{a}^{2} \\Xi_{b}^{2} \\left(\\rho^{2}\\right)^{2}} - \\frac{2 \\Delta_{\\theta} a d\\psi dt q \\cos^{2}{\\left(\\theta \\right)}}{\\Xi_{a} \\Xi_{b} \\rho^{2}} - \\frac{2 \\Delta_{\\theta} b d\\phi dt q \\sin^{2}{\\left(\\theta \\right)}}{\\Xi_{a} \\Xi_{b} \\rho^{2}} - \\frac{\\Delta_{\\theta} dt^{2} g^{2} r^{2}}{\\Xi_{a} \\Xi_{b}} - \\frac{\\Delta_{\\theta} dt^{2}}{\\Xi_{a} \\Xi_{b}} - \\frac{2 \\Delta_{\\theta} b d\\psi dt f \\cos^{2}{\\left(\\theta \\right)}}{\\Xi_{a} \\Xi_{b}^{2} \\left(\\rho^{2}\\right)^{2}} - \\frac{2 \\Delta_{\\theta} a d\\phi dt f \\sin^{2}{\\left(\\theta \\right)}}{\\Xi_{a}^{2} \\Xi_{b} \\left(\\rho^{2}\\right)^{2}} + \\frac{2 a b d\\psi^{2} q \\cos^{4}{\\left(\\theta \\right)}}{\\Xi_{b} \\rho^{2}} + \\frac{2 b^{2} d\\phi d\\psi q \\sin^{2}{\\left(\\theta \\right)} \\cos^{2}{\\left(\\theta \\right)}}{\\Xi_{b} \\rho^{2}} + \\frac{b^{2} d\\psi^{2} \\cos^{2}{\\left(\\theta \\right)}}{\\Xi_{b}} + \\frac{d\\psi^{2} r^{2} \\cos^{2}{\\left(\\theta \\right)}}{\\Xi_{b}} + \\frac{b^{2} d\\psi^{2} f \\cos^{4}{\\left(\\theta \\right)}}{\\Xi_{b}^{2} \\left(\\rho^{2}\\right)^{2}} + \\frac{a^{2} d\\phi^{2} \\sin^{2}{\\left(\\theta \\right)}}{\\Xi_{a}} + \\frac{2 a^{2} d\\phi d\\psi q \\sin^{2}{\\left(\\theta \\right)} \\cos^{2}{\\left(\\theta \\right)}}{\\Xi_{a} \\rho^{2}} + \\frac{2 a b d\\phi^{2} q \\sin^{4}{\\left(\\theta \\right)}}{\\Xi_{a} \\rho^{2}} + \\frac{d\\phi^{2} r^{2} \\sin^{2}{\\left(\\theta \\right)}}{\\Xi_{a}} + \\frac{2 a b d\\phi d\\psi f \\sin^{2}{\\left(\\theta \\right)} \\cos^{2}{\\left(\\theta \\right)}}{\\Xi_{a} \\Xi_{b} \\left(\\rho^{2}\\right)^{2}} + \\frac{a^{2} d\\phi^{2} f \\sin^{4}{\\left(\\theta \\right)}}{\\Xi_{a}^{2} \\left(\\rho^{2}\\right)^{2}} + \\frac{d\\theta^{2} \\rho^{2}}{\\Delta_{\\theta}} + \\frac{dr^{2} \\rho^{2}}{\\Delta_{r}}$"
      ],
      "text/plain": [
       "      2   2                              2                               2    \n",
       "Δₜₕₑₜₐ ⋅dt ⋅f   2⋅Δₜₕₑₜₐ⋅a⋅d\\psi⋅dt⋅q⋅cos (θ)   2⋅Δₜₕₑₜₐ⋅b⋅d\\phi⋅dt⋅q⋅sin (θ) \n",
       "───────────── - ───────────────────────────── - ───────────────────────────── \n",
       "   2    2   2             Ξₐ⋅Ξ_b⋅ρ²                       Ξₐ⋅Ξ_b⋅ρ²           \n",
       " Ξₐ ⋅Ξ_b ⋅ρ²                                                                  \n",
       "\n",
       "           2  2  2            2                            2                  \n",
       "  Δₜₕₑₜₐ⋅dt ⋅g ⋅r    Δₜₕₑₜₐ⋅dt    2⋅Δₜₕₑₜₐ⋅b⋅d\\psi⋅dt⋅f⋅cos (θ)   2⋅Δₜₕₑₜₐ⋅a⋅d\n",
       "- ──────────────── - ────────── - ───────────────────────────── - ────────────\n",
       "       Ξₐ⋅Ξ_b          Ξₐ⋅Ξ_b                    2   2                       2\n",
       "                                           Ξₐ⋅Ξ_b ⋅ρ²                      Ξₐ \n",
       "\n",
       "             2                 2      4         2                  2       2  \n",
       "\\phi⋅dt⋅f⋅sin (θ)   2⋅a⋅b⋅d\\psi ⋅q⋅cos (θ)   2⋅b ⋅d\\phi⋅d\\psi⋅q⋅sin (θ)⋅cos (θ\n",
       "───────────────── + ────────────────────── + ─────────────────────────────────\n",
       "       2                    Ξ_b⋅ρ²                         Ξ_b⋅ρ²             \n",
       "⋅Ξ_b⋅ρ²                                                                       \n",
       "\n",
       "     2      2    2           2  2    2       2      2      4       2      2   \n",
       ")   b ⋅d\\psi ⋅cos (θ)   d\\psi ⋅r ⋅cos (θ)   b ⋅d\\psi ⋅f⋅cos (θ)   a ⋅d\\phi ⋅si\n",
       "─ + ───────────────── + ───────────────── + ─────────────────── + ────────────\n",
       "           Ξ_b                 Ξ_b                   2   2                Ξₐ  \n",
       "                                                  Ξ_b ⋅ρ²                     \n",
       "\n",
       " 2         2                  2       2                 2      4           2  \n",
       "n (θ)   2⋅a ⋅d\\phi⋅d\\psi⋅q⋅sin (θ)⋅cos (θ)   2⋅a⋅b⋅d\\phi ⋅q⋅sin (θ)   d\\phi ⋅r\n",
       "───── + ────────────────────────────────── + ────────────────────── + ────────\n",
       "                      Ξₐ⋅ρ²                          Ξₐ⋅ρ²                    \n",
       "                                                                              \n",
       "\n",
       "2    2                             2       2       2      2      4            \n",
       " ⋅sin (θ)   2⋅a⋅b⋅d\\phi⋅d\\psi⋅f⋅sin (θ)⋅cos (θ)   a ⋅d\\phi ⋅f⋅sin (θ)   d\\thet\n",
       "───────── + ─────────────────────────────────── + ─────────────────── + ──────\n",
       "Ξₐ                                2                       2   2            Δₜₕ\n",
       "                         Ξₐ⋅Ξ_b⋅ρ²                      Ξₐ ⋅ρ²                \n",
       "\n",
       " 2        2   \n",
       "a ⋅ρ²   dr ⋅ρ²\n",
       "───── + ──────\n",
       "ₑₜₐ       Δᵣ  \n",
       "              "
      ]
     },
     "execution_count": 12,
     "metadata": {},
     "output_type": "execute_result"
    }
   ],
   "source": [
    "metric = metric.subs({nu: nu_val, omega: omega_val}).expand()\n",
    "metric"
   ]
  },
  {
   "cell_type": "code",
   "execution_count": 13,
   "metadata": {},
   "outputs": [
    {
     "data": {
      "image/png": "[encoded data removed]",
      "text/latex": [
       "$\\displaystyle \\left(- a + 1.0 i r_{+}\\right) \\left(b - 1.0 i r_{+}\\right) \\left(- 1.0 i r_{+} + 1\\right)$"
      ],
      "text/plain": [
       "(-a + 1.0⋅ⅈ⋅r₊)⋅(b - ⅈ⋅r₊)⋅(-ⅈ⋅r₊ + 1)"
      ]
     },
     "execution_count": 13,
     "metadata": {},
     "output_type": "execute_result"
    }
   ],
   "source": [
    "q_val = -(a - 1j * rplus) * (b - 1j * rplus) * (1 - 1j * rplus)\n",
    "q_val"
   ]
  },
  {
   "cell_type": "code",
   "execution_count": 14,
   "metadata": {},
   "outputs": [],
   "source": [
    "metric_list_matrix = [[0 for i in range(5)] for i in range(5)]\n",
    "\n",
    "# dt\n",
    "metric_list_matrix[0][0] = metric.coeff(dt ** 2).simplify()\n",
    "metric_list_matrix[0][1] = metric.coeff(dt * dr).simplify()\n",
    "metric_list_matrix[0][2] = metric.coeff(dt * dtheta).simplify()\n",
    "metric_list_matrix[0][3] = metric.coeff(dt * dphi).simplify()\n",
    "metric_list_matrix[0][4] = metric.coeff(dt * dpsi).simplify()\n",
    "\n",
    "# dr\n",
    "metric_list_matrix[1][0] = metric.coeff(dr * dt).simplify()\n",
    "metric_list_matrix[1][1] = metric.coeff(dr ** 2).simplify()\n",
    "metric_list_matrix[1][2] = metric.coeff(dr * dtheta).simplify()\n",
    "metric_list_matrix[1][3] = metric.coeff(dr * dphi).simplify()\n",
    "metric_list_matrix[1][4] = metric.coeff(dr * dpsi).simplify()\n",
    "\n",
    "# dtheta\n",
    "metric_list_matrix[2][0] = metric.coeff(dtheta * dt).simplify()\n",
    "metric_list_matrix[2][1] = metric.coeff(dtheta * dr).simplify()\n",
    "metric_list_matrix[2][2] = metric.coeff(dtheta ** 2).simplify()\n",
    "metric_list_matrix[2][3] = metric.coeff(dtheta * dphi).simplify()\n",
    "metric_list_matrix[2][4] = metric.coeff(dtheta * dpsi).simplify()\n",
    "\n",
    "# dphi\n",
    "metric_list_matrix[3][0] = metric.coeff(dphi * dt).simplify()\n",
    "metric_list_matrix[3][1] = metric.coeff(dphi * dr).simplify()\n",
    "metric_list_matrix[3][2] = metric.coeff(dphi * dtheta).simplify()\n",
    "metric_list_matrix[3][3] = metric.coeff(dphi ** 2).simplify()\n",
    "metric_list_matrix[3][4] = metric.coeff(dphi * dpsi).simplify()\n",
    "\n",
    "# dpsi\n",
    "metric_list_matrix[4][0] = metric.coeff(dpsi * dt).simplify()\n",
    "metric_list_matrix[4][1] = metric.coeff(dpsi * dr).simplify()\n",
    "metric_list_matrix[4][2] = metric.coeff(dpsi * dtheta).simplify()\n",
    "metric_list_matrix[4][3] = metric.coeff(dpsi * dphi).simplify()\n",
    "metric_list_matrix[4][4] = metric.coeff(dpsi ** 2).simplify()\n",
    "\n",
    "# # dt\n",
    "# metric_list_matrix[0][0] = metric.coeff(dt ** 2).subs({q: q_val})\n",
    "# metric_list_matrix[0][1] = metric.coeff(dt * dr).subs({q: q_val})\n",
    "# metric_list_matrix[0][2] = metric.coeff(dt * dtheta).subs({q: q_val})\n",
    "# metric_list_matrix[0][3] = metric.coeff(dt * dphi).subs({q: q_val})\n",
    "# metric_list_matrix[0][4] = metric.coeff(dt * dpsi).subs({q: q_val})\n",
    "\n",
    "# # dr\n",
    "# metric_list_matrix[1][0] = metric.coeff(dr * dt).subs({q: q_val})\n",
    "# metric_list_matrix[1][1] = metric.coeff(dr ** 2).subs({q: q_val})\n",
    "# metric_list_matrix[1][2] = metric.coeff(dr * dtheta).subs({q: q_val})\n",
    "# metric_list_matrix[1][3] = metric.coeff(dr * dphi).subs({q: q_val})\n",
    "# metric_list_matrix[1][4] = metric.coeff(dr * dpsi).subs({q: q_val})\n",
    "\n",
    "# # dtheta\n",
    "# metric_list_matrix[2][0] = metric.coeff(dtheta * dt).subs({q: q_val})\n",
    "# metric_list_matrix[2][1] = metric.coeff(dtheta * dr).subs({q: q_val})\n",
    "# metric_list_matrix[2][2] = metric.coeff(dtheta ** 2).subs({q: q_val})\n",
    "# metric_list_matrix[2][3] = metric.coeff(dtheta * dphi).subs({q: q_val})\n",
    "# metric_list_matrix[2][4] = metric.coeff(dtheta * dpsi).subs({q: q_val})\n",
    "\n",
    "# # dphi\n",
    "# metric_list_matrix[3][0] = metric.coeff(dphi * dt).subs({q: q_val})\n",
    "# metric_list_matrix[3][1] = metric.coeff(dphi * dr).subs({q: q_val})\n",
    "# metric_list_matrix[3][2] = metric.coeff(dphi * dtheta).subs({q: q_val})\n",
    "# metric_list_matrix[3][3] = metric.coeff(dphi ** 2).subs({q: q_val})\n",
    "# metric_list_matrix[3][4] = metric.coeff(dphi * dpsi).subs({q: q_val})\n",
    "\n",
    "# # dpsi\n",
    "# metric_list_matrix[4][0] = metric.coeff(dpsi * dt).subs({q: q_val})\n",
    "# metric_list_matrix[4][1] = metric.coeff(dpsi * dr).subs({q: q_val})\n",
    "# metric_list_matrix[4][2] = metric.coeff(dpsi * dtheta).subs({q: q_val})\n",
    "# metric_list_matrix[4][3] = metric.coeff(dpsi * dphi).subs({q: q_val})\n",
    "# metric_list_matrix[4][4] = metric.coeff(dpsi ** 2).subs({q: q_val})"
   ]
  },
  {
   "cell_type": "code",
   "execution_count": 15,
   "metadata": {},
   "outputs": [
    {
     "data": {
      "text/latex": [
       "$\\displaystyle \\left[\\begin{matrix}\\frac{\\Delta_{\\theta} \\left(\\Delta_{\\theta} f - \\Xi_{a} \\Xi_{b} \\left(\\rho^{2}\\right)^{2} \\left(g^{2} r^{2} + 1\\right)\\right)}{\\Xi_{a}^{2} \\Xi_{b}^{2} \\left(\\rho^{2}\\right)^{2}} & 0 & 0 & \\frac{2 \\Delta_{\\theta} \\left(- \\Xi_{a} b q \\rho^{2} - a f\\right) \\sin^{2}{\\left(\\theta \\right)}}{\\Xi_{a}^{2} \\Xi_{b} \\left(\\rho^{2}\\right)^{2}} & \\frac{2 \\Delta_{\\theta} \\left(- \\Xi_{b} a q \\rho^{2} - b f\\right) \\cos^{2}{\\left(\\theta \\right)}}{\\Xi_{a} \\Xi_{b}^{2} \\left(\\rho^{2}\\right)^{2}}\\\\0 & \\frac{\\rho^{2}}{\\Delta_{r}} & 0 & 0 & 0\\\\0 & 0 & \\frac{\\rho^{2}}{\\Delta_{\\theta}} & 0 & 0\\\\\\frac{2 \\Delta_{\\theta} \\left(- \\Xi_{a} b q \\rho^{2} - a f\\right) \\sin^{2}{\\left(\\theta \\right)}}{\\Xi_{a}^{2} \\Xi_{b} \\left(\\rho^{2}\\right)^{2}} & 0 & 0 & \\frac{\\left(2 \\Xi_{a} a b q \\rho^{2} \\sin^{2}{\\left(\\theta \\right)} + \\Xi_{a} \\left(\\rho^{2}\\right)^{2} \\left(a^{2} + r^{2}\\right) + a^{2} f \\sin^{2}{\\left(\\theta \\right)}\\right) \\sin^{2}{\\left(\\theta \\right)}}{\\Xi_{a}^{2} \\left(\\rho^{2}\\right)^{2}} & \\frac{\\left(1 - \\cos{\\left(4 \\theta \\right)}\\right) \\left(\\Xi_{a} b^{2} q \\rho^{2} + \\Xi_{b} a^{2} q \\rho^{2} + a b f\\right)}{4 \\Xi_{a} \\Xi_{b} \\left(\\rho^{2}\\right)^{2}}\\\\\\frac{2 \\Delta_{\\theta} \\left(- \\Xi_{b} a q \\rho^{2} - b f\\right) \\cos^{2}{\\left(\\theta \\right)}}{\\Xi_{a} \\Xi_{b}^{2} \\left(\\rho^{2}\\right)^{2}} & 0 & 0 & \\frac{\\left(1 - \\cos{\\left(4 \\theta \\right)}\\right) \\left(\\Xi_{a} b^{2} q \\rho^{2} + \\Xi_{b} a^{2} q \\rho^{2} + a b f\\right)}{4 \\Xi_{a} \\Xi_{b} \\left(\\rho^{2}\\right)^{2}} & \\frac{\\left(2 \\Xi_{b} a b q \\rho^{2} \\cos^{2}{\\left(\\theta \\right)} + \\Xi_{b} \\left(\\rho^{2}\\right)^{2} \\left(b^{2} + r^{2}\\right) + b^{2} f \\cos^{2}{\\left(\\theta \\right)}\\right) \\cos^{2}{\\left(\\theta \\right)}}{\\Xi_{b}^{2} \\left(\\rho^{2}\\right)^{2}}\\end{matrix}\\right]$"
      ],
      "text/plain": [
       "⎡       ⎛                    2 ⎛ 2  2    ⎞⎞                                   \n",
       "⎢Δₜₕₑₜₐ⋅⎝Δₜₕₑₜₐ⋅f - Ξₐ⋅Ξ_b⋅ρ² ⋅⎝g ⋅r  + 1⎠⎠                             2⋅Δₜₕₑ\n",
       "⎢──────────────────────────────────────────  0     0                    ──────\n",
       "⎢                 2    2   2                                                  \n",
       "⎢               Ξₐ ⋅Ξ_b ⋅ρ²                                                   \n",
       "⎢                                                                             \n",
       "⎢                                            ρ²                               \n",
       "⎢                    0                       ──    0                          \n",
       "⎢                                            Δᵣ                               \n",
       "⎢                                                                             \n",
       "⎢                                                  ρ²                         \n",
       "⎢                    0                       0   ──────                       \n",
       "⎢                                                Δₜₕₑₜₐ                       \n",
       "⎢                                                                             \n",
       "⎢                                  2                     ⎛                 2  \n",
       "⎢   2⋅Δₜₕₑₜₐ⋅(-Ξₐ⋅b⋅q⋅ρ² - a⋅f)⋅sin (θ)                  ⎝2⋅Ξₐ⋅a⋅b⋅q⋅ρ²⋅sin (θ\n",
       "⎢   ───────────────────────────────────      0     0     ─────────────────────\n",
       "⎢                 2       2                                                   \n",
       "⎢               Ξₐ ⋅Ξ_b⋅ρ²                                                    \n",
       "⎢                                                                             \n",
       "⎢                                   2                                         \n",
       "⎢   2⋅Δₜₕₑₜₐ⋅(-Ξ_b⋅a⋅q⋅ρ² - b⋅f)⋅cos (θ)                         (1 - cos(4⋅θ)\n",
       "⎢   ────────────────────────────────────     0     0             ─────────────\n",
       "⎢                     2   2                                                   \n",
       "⎣               Ξₐ⋅Ξ_b ⋅ρ²                                                    \n",
       "\n",
       "                         2                                                    \n",
       "ₜₐ⋅(-Ξₐ⋅b⋅q⋅ρ² - a⋅f)⋅sin (θ)                                2⋅Δₜₕₑₜₐ⋅(-Ξ_b⋅a⋅\n",
       "─────────────────────────────                                ─────────────────\n",
       "        2       2                                                             \n",
       "      Ξₐ ⋅Ξ_b⋅ρ²                                                         Ξₐ⋅Ξ_\n",
       "                                                                              \n",
       "                                                                              \n",
       "           0                                                                  \n",
       "                                                                              \n",
       "                                                                              \n",
       "                                                                              \n",
       "           0                                                                  \n",
       "                                                                              \n",
       "                                                                              \n",
       "         2 ⎛ 2    2⎞    2      2   ⎞    2                             ⎛    2  \n",
       ") + Ξₐ⋅ρ² ⋅⎝a  + r ⎠ + a ⋅f⋅sin (θ)⎠⋅sin (θ)           (1 - cos(4⋅θ))⋅⎝Ξₐ⋅b ⋅q\n",
       "────────────────────────────────────────────           ───────────────────────\n",
       "          2   2                                                               \n",
       "        Ξₐ ⋅ρ²                                                            4⋅Ξₐ\n",
       "                                                                              \n",
       "  ⎛    2             2             ⎞          ⎛                  2            \n",
       ")⋅⎝Ξₐ⋅b ⋅q⋅ρ² + Ξ_b⋅a ⋅q⋅ρ² + a⋅b⋅f⎠          ⎝2⋅Ξ_b⋅a⋅b⋅q⋅ρ²⋅cos (θ) + Ξ_b⋅ρ²\n",
       "────────────────────────────────────          ────────────────────────────────\n",
       "                 2                                                            \n",
       "      4⋅Ξₐ⋅Ξ_b⋅ρ²                                                           Ξ_\n",
       "\n",
       "               2                   ⎤\n",
       "q⋅ρ² - b⋅f)⋅cos (θ)                ⎥\n",
       "───────────────────                ⎥\n",
       " 2   2                             ⎥\n",
       "b ⋅ρ²                              ⎥\n",
       "                                   ⎥\n",
       "                                   ⎥\n",
       " 0                                 ⎥\n",
       "                                   ⎥\n",
       "                                   ⎥\n",
       "                                   ⎥\n",
       " 0                                 ⎥\n",
       "                                   ⎥\n",
       "                                   ⎥\n",
       "           2             ⎞         ⎥\n",
       "⋅ρ² + Ξ_b⋅a ⋅q⋅ρ² + a⋅b⋅f⎠         ⎥\n",
       "──────────────────────────         ⎥\n",
       "       2                           ⎥\n",
       "⋅Ξ_b⋅ρ²                            ⎥\n",
       "                                   ⎥\n",
       "2 ⎛ 2    2⎞    2      2   ⎞    2   ⎥\n",
       " ⋅⎝b  + r ⎠ + b ⋅f⋅cos (θ)⎠⋅cos (θ)⎥\n",
       "───────────────────────────────────⎥\n",
       " 2   2                             ⎥\n",
       "b ⋅ρ²                              ⎦"
      ]
     },
     "execution_count": 15,
     "metadata": {},
     "output_type": "execute_result"
    }
   ],
   "source": [
    "g_mat = sympy.Matrix(metric_list_matrix)\n",
    "g_mat"
   ]
  },
  {
   "cell_type": "code",
   "execution_count": 16,
   "metadata": {},
   "outputs": [],
   "source": [
    "eigenvalues = g_mat.eigenvals()"
   ]
  },
  {
   "cell_type": "code",
   "execution_count": 17,
   "metadata": {},
   "outputs": [],
   "source": [
    "eigv = list(eigenvalues.keys())"
   ]
  },
  {
   "cell_type": "code",
   "execution_count": 21,
   "metadata": {},
   "outputs": [
    {
     "data": {
      "image/png": "[encoded data removed]",
      "text/latex": [
       "$\\displaystyle \\frac{\\rho^{2}}{\\Delta_{r}}$"
      ],
      "text/plain": [
       "ρ²\n",
       "──\n",
       "Δᵣ"
      ]
     },
     "execution_count": 21,
     "metadata": {},
     "output_type": "execute_result"
    }
   ],
   "source": [
    "eigv[3]"
   ]
  },
  {
   "attachments": {},
   "cell_type": "markdown",
   "metadata": {},
   "source": [
    "### Functions"
   ]
  },
  {
   "cell_type": "code",
   "execution_count": 79,
   "metadata": {},
   "outputs": [
    {
     "data": {
      "image/png": "[encoded data removed]",
      "text/latex": [
       "$\\displaystyle - 2 m + \\frac{2 a b q + q^{2} + \\left(a^{2} + r^{2}\\right) \\left(b^{2} + r^{2}\\right) \\left(g^{2} r^{2} + 1\\right)}{r^{2}}$"
      ],
      "text/plain": [
       "                  2   ⎛ 2    2⎞ ⎛ 2    2⎞ ⎛ 2  2    ⎞\n",
       "       2⋅a⋅b⋅q + q  + ⎝a  + r ⎠⋅⎝b  + r ⎠⋅⎝g ⋅r  + 1⎠\n",
       "-2⋅m + ──────────────────────────────────────────────\n",
       "                              2                      \n",
       "                             r                       "
      ]
     },
     "execution_count": 79,
     "metadata": {},
     "output_type": "execute_result"
    }
   ],
   "source": [
    "delta_r = ((r ** 2 + a ** 2) * (r ** 2 + b ** 2) * (1 + g ** 2 * r ** 2) + q ** 2 + 2 * a * b * q) / r ** 2 - 2 * m\n",
    "delta_r"
   ]
  },
  {
   "cell_type": "code",
   "execution_count": 80,
   "metadata": {},
   "outputs": [
    {
     "data": {
      "image/png": "[encoded data removed]",
      "text/latex": [
       "$\\displaystyle - a^{2} g^{2} \\cos^{2}{\\left(\\theta \\right)} - b^{2} g^{2} \\sin^{2}{\\left(\\theta \\right)} + 1$"
      ],
      "text/plain": [
       "   2  2    2       2  2    2       \n",
       "- a ⋅g ⋅cos (θ) - b ⋅g ⋅sin (θ) + 1"
      ]
     },
     "execution_count": 80,
     "metadata": {},
     "output_type": "execute_result"
    }
   ],
   "source": [
    "delta_theta = 1 - a ** 2 * g ** 2 * sympy.cos(theta) ** 2 - b ** 2 * g ** 2 * sympy.sin(theta) ** 2\n",
    "delta_theta"
   ]
  },
  {
   "cell_type": "code",
   "execution_count": 81,
   "metadata": {},
   "outputs": [
    {
     "data": {
      "image/png": "[encoded data removed]",
      "text/latex": [
       "$\\displaystyle - a^{2} g^{2} + 1$"
      ],
      "text/plain": [
       "   2  2    \n",
       "- a ⋅g  + 1"
      ]
     },
     "execution_count": 81,
     "metadata": {},
     "output_type": "execute_result"
    }
   ],
   "source": [
    "xi_a = 1 - a ** 2 * g ** 2\n",
    "xi_a"
   ]
  },
  {
   "cell_type": "code",
   "execution_count": 82,
   "metadata": {},
   "outputs": [
    {
     "data": {
      "image/png": "[encoded data removed]",
      "text/latex": [
       "$\\displaystyle - b^{2} g^{2} + 1$"
      ],
      "text/plain": [
       "   2  2    \n",
       "- b ⋅g  + 1"
      ]
     },
     "execution_count": 82,
     "metadata": {},
     "output_type": "execute_result"
    }
   ],
   "source": [
    "xi_b = 1 - b ** 2 * g ** 2\n",
    "xi_b"
   ]
  },
  {
   "cell_type": "code",
   "execution_count": 83,
   "metadata": {},
   "outputs": [
    {
     "data": {
      "image/png": "[encoded data removed]",
      "text/latex": [
       "$\\displaystyle 2 a b g^{2} q \\rho^{2} + 2 m \\rho^{2} - q^{2}$"
      ],
      "text/plain": [
       "       2                  2\n",
       "2⋅a⋅b⋅g ⋅q⋅ρ² + 2⋅m⋅ρ² - q "
      ]
     },
     "execution_count": 83,
     "metadata": {},
     "output_type": "execute_result"
    }
   ],
   "source": [
    "f = 2 * m * rho_squared - q ** 2 + 2 * a * b * q * g ** 2 * rho_squared\n",
    "f"
   ]
  },
  {
   "cell_type": "code",
   "execution_count": 52,
   "metadata": {},
   "outputs": [
    {
     "data": {
      "image/png": "[encoded data removed]",
      "text/latex": [
       "$\\displaystyle a^{2} \\cos^{2}{\\left(\\theta \\right)} + b^{2} \\sin^{2}{\\left(\\theta \\right)} + r^{2}$"
      ],
      "text/plain": [
       " 2    2       2    2       2\n",
       "a ⋅cos (θ) + b ⋅sin (θ) + r "
      ]
     },
     "execution_count": 52,
     "metadata": {},
     "output_type": "execute_result"
    }
   ],
   "source": [
    "rho_squared = r ** 2 + a ** 2 * sympy.cos(theta) ** 2 + b ** 2 * sympy.sin(theta) ** 2\n",
    "rho_squared"
   ]
  },
  {
   "cell_type": "code",
   "execution_count": null,
   "metadata": {},
   "outputs": [],
   "source": [
    "q = -(a - 1j * rplus) * (b - 1j * rplus) * (1 - 1j * rplus)\n",
    "q"
   ]
  }
 ],
 "metadata": {
  "kernelspec": {
   "display_name": "env",
   "language": "python",
   "name": "python3"
  },
  "language_info": {
   "codemirror_mode": {
    "name": "ipython",
    "version": 3
   },
   "file_extension": ".py",
   "mimetype": "text/x-python",
   "name": "python",
   "nbconvert_exporter": "python",
   "pygments_lexer": "ipython3",
   "version": "3.10.3"
  },
  "orig_nbformat": 4
 },
 "nbformat": 4,
 "nbformat_minor": 2
}
