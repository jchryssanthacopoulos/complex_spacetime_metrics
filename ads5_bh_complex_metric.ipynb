{
 "cells": [
  {
   "cell_type": "code",
   "execution_count": 1,
   "metadata": {},
   "outputs": [],
   "source": [
    "import sympy\n",
    "\n",
    "sympy.init_printing()"
   ]
  },
  {
   "attachments": {},
   "cell_type": "markdown",
   "metadata": {},
   "source": [
    "### Variable Definitions"
   ]
  },
  {
   "cell_type": "code",
   "execution_count": 2,
   "metadata": {},
   "outputs": [],
   "source": [
    "t, r, theta, phi, psi = sympy.symbols(\"t r theta phi psi\")"
   ]
  },
  {
   "cell_type": "code",
   "execution_count": 3,
   "metadata": {},
   "outputs": [],
   "source": [
    "dt, dr, dtheta, dphi, dpsi = sympy.symbols(r\"dt dr d\\theta d\\phi d\\psi\")"
   ]
  },
  {
   "cell_type": "code",
   "execution_count": 4,
   "metadata": {},
   "outputs": [],
   "source": [
    "a, b, m, q, g = sympy.symbols(\"a b m q g\")"
   ]
  },
  {
   "cell_type": "code",
   "execution_count": 5,
   "metadata": {},
   "outputs": [],
   "source": [
    "rplus = sympy.symbols(\"r_+\")"
   ]
  },
  {
   "cell_type": "code",
   "execution_count": 6,
   "metadata": {},
   "outputs": [],
   "source": [
    "delta_r, delta_theta, rho_squared, xi_a, xi_b, f = sympy.symbols(\"Delta_r Delta_theta rho^2 Xi_a Xi_b f\")"
   ]
  },
  {
   "cell_type": "code",
   "execution_count": 7,
   "metadata": {},
   "outputs": [],
   "source": [
    "nu, omega = sympy.symbols(\"nu omega\")"
   ]
  },
  {
   "attachments": {},
   "cell_type": "markdown",
   "metadata": {},
   "source": [
    "### Metric"
   ]
  },
  {
   "cell_type": "code",
   "execution_count": 8,
   "metadata": {},
   "outputs": [],
   "source": [
    "metric = -delta_theta * ((1 + g ** 2 * r ** 2) * rho_squared * dt + 2 * q * nu) * dt / (xi_a * xi_b * rho_squared)\n",
    "metric += 2 * q * nu * omega / rho_squared\n",
    "metric += f * ((delta_theta * dt) / (xi_a * xi_b) - omega) ** 2 / rho_squared ** 2\n",
    "metric += rho_squared * dr ** 2 / delta_r\n",
    "metric += rho_squared * dtheta ** 2 / delta_theta\n",
    "metric += (r ** 2 + a ** 2) * sympy.sin(theta) ** 2 * dphi ** 2 / xi_a\n",
    "metric += (r ** 2 + b ** 2) * sympy.cos(theta) ** 2 * dpsi ** 2 / xi_b"
   ]
  },
  {
   "cell_type": "code",
   "execution_count": 9,
   "metadata": {},
   "outputs": [
    {
     "data": {
      "image/png": "[encoded data removed]",
      "text/latex": [
       "$\\displaystyle - \\frac{\\Delta_{\\theta} dt \\left(dt \\rho^{2} \\left(g^{2} r^{2} + 1\\right) + 2 \\nu q\\right)}{\\Xi_{a} \\Xi_{b} \\rho^{2}} + \\frac{f \\left(\\frac{\\Delta_{\\theta} dt}{\\Xi_{a} \\Xi_{b}} - \\omega\\right)^{2}}{\\left(\\rho^{2}\\right)^{2}} + \\frac{2 \\nu \\omega q}{\\rho^{2}} + \\frac{d\\psi^{2} \\left(b^{2} + r^{2}\\right) \\cos^{2}{\\left(\\theta \\right)}}{\\Xi_{b}} + \\frac{d\\phi^{2} \\left(a^{2} + r^{2}\\right) \\sin^{2}{\\left(\\theta \\right)}}{\\Xi_{a}} + \\frac{d\\theta^{2} \\rho^{2}}{\\Delta_{\\theta}} + \\frac{dr^{2} \\rho^{2}}{\\Delta_{r}}$"
      ],
      "text/plain": [
       "                                                           2                  \n",
       "                                            ⎛Δₜₕₑₜₐ⋅dt    ⎞                   \n",
       "            ⎛      ⎛ 2  2    ⎞        ⎞   f⋅⎜───────── - ω⎟                   \n",
       "  Δₜₕₑₜₐ⋅dt⋅⎝dt⋅ρ²⋅⎝g ⋅r  + 1⎠ + 2⋅ν⋅q⎠     ⎝  Ξₐ⋅Ξ_b     ⎠    2⋅ν⋅ω⋅q   d\\psi\n",
       "- ───────────────────────────────────── + ────────────────── + ─────── + ─────\n",
       "                Ξₐ⋅Ξ_b⋅ρ²                          2              ρ²          \n",
       "                                                 ρ²                           \n",
       "\n",
       "                                                                     \n",
       "                                                                     \n",
       "2 ⎛ 2    2⎞    2           2 ⎛ 2    2⎞    2             2        2   \n",
       " ⋅⎝b  + r ⎠⋅cos (θ)   d\\phi ⋅⎝a  + r ⎠⋅sin (θ)   d\\theta ⋅ρ²   dr ⋅ρ²\n",
       "─────────────────── + ──────────────────────── + ─────────── + ──────\n",
       "     Ξ_b                         Ξₐ                 Δₜₕₑₜₐ       Δᵣ  \n",
       "                                                                     "
      ]
     },
     "execution_count": 9,
     "metadata": {},
     "output_type": "execute_result"
    }
   ],
   "source": [
    "metric"
   ]
  },
  {
   "cell_type": "code",
   "execution_count": 10,
   "metadata": {},
   "outputs": [
    {
     "data": {
      "image/png": "[encoded data removed]",
      "text/latex": [
       "$\\displaystyle a d\\psi \\cos^{2}{\\left(\\theta \\right)} + b d\\phi \\sin^{2}{\\left(\\theta \\right)}$"
      ],
      "text/plain": [
       "           2                 2   \n",
       "a⋅d\\psi⋅cos (θ) + b⋅d\\phi⋅sin (θ)"
      ]
     },
     "execution_count": 10,
     "metadata": {},
     "output_type": "execute_result"
    }
   ],
   "source": [
    "nu_val = b * sympy.sin(theta) ** 2 * dphi + a * sympy.cos(theta) ** 2 * dpsi\n",
    "nu_val"
   ]
  },
  {
   "cell_type": "code",
   "execution_count": 11,
   "metadata": {},
   "outputs": [
    {
     "data": {
      "image/png": "[encoded data removed]",
      "text/latex": [
       "$\\displaystyle \\frac{b d\\psi \\cos^{2}{\\left(\\theta \\right)}}{\\Xi_{b}} + \\frac{a d\\phi \\sin^{2}{\\left(\\theta \\right)}}{\\Xi_{a}}$"
      ],
      "text/plain": [
       "           2                 2   \n",
       "b⋅d\\psi⋅cos (θ)   a⋅d\\phi⋅sin (θ)\n",
       "─────────────── + ───────────────\n",
       "      Ξ_b                Ξₐ      "
      ]
     },
     "execution_count": 11,
     "metadata": {},
     "output_type": "execute_result"
    }
   ],
   "source": [
    "omega_val = a * sympy.sin(theta) ** 2 * dphi / xi_a + b * sympy.cos(theta) ** 2 * dpsi / xi_b\n",
    "omega_val"
   ]
  },
  {
   "cell_type": "code",
   "execution_count": 12,
   "metadata": {},
   "outputs": [
    {
     "data": {
      "image/png": "[encoded data removed]",
      "text/latex": [
       "$\\displaystyle \\frac{\\Delta_{\\theta}^{2} dt^{2} f}{\\Xi_{a}^{2} \\Xi_{b}^{2} \\left(\\rho^{2}\\right)^{2}} - \\frac{2 \\Delta_{\\theta} a d\\psi dt q \\cos^{2}{\\left(\\theta \\right)}}{\\Xi_{a} \\Xi_{b} \\rho^{2}} - \\frac{2 \\Delta_{\\theta} b d\\phi dt q \\sin^{2}{\\left(\\theta \\right)}}{\\Xi_{a} \\Xi_{b} \\rho^{2}} - \\frac{\\Delta_{\\theta} dt^{2} g^{2} r^{2}}{\\Xi_{a} \\Xi_{b}} - \\frac{\\Delta_{\\theta} dt^{2}}{\\Xi_{a} \\Xi_{b}} - \\frac{2 \\Delta_{\\theta} b d\\psi dt f \\cos^{2}{\\left(\\theta \\right)}}{\\Xi_{a} \\Xi_{b}^{2} \\left(\\rho^{2}\\right)^{2}} - \\frac{2 \\Delta_{\\theta} a d\\phi dt f \\sin^{2}{\\left(\\theta \\right)}}{\\Xi_{a}^{2} \\Xi_{b} \\left(\\rho^{2}\\right)^{2}} + \\frac{2 a b d\\psi^{2} q \\cos^{4}{\\left(\\theta \\right)}}{\\Xi_{b} \\rho^{2}} + \\frac{2 b^{2} d\\phi d\\psi q \\sin^{2}{\\left(\\theta \\right)} \\cos^{2}{\\left(\\theta \\right)}}{\\Xi_{b} \\rho^{2}} + \\frac{b^{2} d\\psi^{2} \\cos^{2}{\\left(\\theta \\right)}}{\\Xi_{b}} + \\frac{d\\psi^{2} r^{2} \\cos^{2}{\\left(\\theta \\right)}}{\\Xi_{b}} + \\frac{b^{2} d\\psi^{2} f \\cos^{4}{\\left(\\theta \\right)}}{\\Xi_{b}^{2} \\left(\\rho^{2}\\right)^{2}} + \\frac{a^{2} d\\phi^{2} \\sin^{2}{\\left(\\theta \\right)}}{\\Xi_{a}} + \\frac{2 a^{2} d\\phi d\\psi q \\sin^{2}{\\left(\\theta \\right)} \\cos^{2}{\\left(\\theta \\right)}}{\\Xi_{a} \\rho^{2}} + \\frac{2 a b d\\phi^{2} q \\sin^{4}{\\left(\\theta \\right)}}{\\Xi_{a} \\rho^{2}} + \\frac{d\\phi^{2} r^{2} \\sin^{2}{\\left(\\theta \\right)}}{\\Xi_{a}} + \\frac{2 a b d\\phi d\\psi f \\sin^{2}{\\left(\\theta \\right)} \\cos^{2}{\\left(\\theta \\right)}}{\\Xi_{a} \\Xi_{b} \\left(\\rho^{2}\\right)^{2}} + \\frac{a^{2} d\\phi^{2} f \\sin^{4}{\\left(\\theta \\right)}}{\\Xi_{a}^{2} \\left(\\rho^{2}\\right)^{2}} + \\frac{d\\theta^{2} \\rho^{2}}{\\Delta_{\\theta}} + \\frac{dr^{2} \\rho^{2}}{\\Delta_{r}}$"
      ],
      "text/plain": [
       "      2   2                              2                               2    \n",
       "Δₜₕₑₜₐ ⋅dt ⋅f   2⋅Δₜₕₑₜₐ⋅a⋅d\\psi⋅dt⋅q⋅cos (θ)   2⋅Δₜₕₑₜₐ⋅b⋅d\\phi⋅dt⋅q⋅sin (θ) \n",
       "───────────── - ───────────────────────────── - ───────────────────────────── \n",
       "   2    2   2             Ξₐ⋅Ξ_b⋅ρ²                       Ξₐ⋅Ξ_b⋅ρ²           \n",
       " Ξₐ ⋅Ξ_b ⋅ρ²                                                                  \n",
       "\n",
       "           2  2  2            2                            2                  \n",
       "  Δₜₕₑₜₐ⋅dt ⋅g ⋅r    Δₜₕₑₜₐ⋅dt    2⋅Δₜₕₑₜₐ⋅b⋅d\\psi⋅dt⋅f⋅cos (θ)   2⋅Δₜₕₑₜₐ⋅a⋅d\n",
       "- ──────────────── - ────────── - ───────────────────────────── - ────────────\n",
       "       Ξₐ⋅Ξ_b          Ξₐ⋅Ξ_b                    2   2                       2\n",
       "                                           Ξₐ⋅Ξ_b ⋅ρ²                      Ξₐ \n",
       "\n",
       "             2                 2      4         2                  2       2  \n",
       "\\phi⋅dt⋅f⋅sin (θ)   2⋅a⋅b⋅d\\psi ⋅q⋅cos (θ)   2⋅b ⋅d\\phi⋅d\\psi⋅q⋅sin (θ)⋅cos (θ\n",
       "───────────────── + ────────────────────── + ─────────────────────────────────\n",
       "       2                    Ξ_b⋅ρ²                         Ξ_b⋅ρ²             \n",
       "⋅Ξ_b⋅ρ²                                                                       \n",
       "\n",
       "     2      2    2           2  2    2       2      2      4       2      2   \n",
       ")   b ⋅d\\psi ⋅cos (θ)   d\\psi ⋅r ⋅cos (θ)   b ⋅d\\psi ⋅f⋅cos (θ)   a ⋅d\\phi ⋅si\n",
       "─ + ───────────────── + ───────────────── + ─────────────────── + ────────────\n",
       "           Ξ_b                 Ξ_b                   2   2                Ξₐ  \n",
       "                                                  Ξ_b ⋅ρ²                     \n",
       "\n",
       " 2         2                  2       2                 2      4           2  \n",
       "n (θ)   2⋅a ⋅d\\phi⋅d\\psi⋅q⋅sin (θ)⋅cos (θ)   2⋅a⋅b⋅d\\phi ⋅q⋅sin (θ)   d\\phi ⋅r\n",
       "───── + ────────────────────────────────── + ────────────────────── + ────────\n",
       "                      Ξₐ⋅ρ²                          Ξₐ⋅ρ²                    \n",
       "                                                                              \n",
       "\n",
       "2    2                             2       2       2      2      4            \n",
       " ⋅sin (θ)   2⋅a⋅b⋅d\\phi⋅d\\psi⋅f⋅sin (θ)⋅cos (θ)   a ⋅d\\phi ⋅f⋅sin (θ)   d\\thet\n",
       "───────── + ─────────────────────────────────── + ─────────────────── + ──────\n",
       "Ξₐ                                2                       2   2            Δₜₕ\n",
       "                         Ξₐ⋅Ξ_b⋅ρ²                      Ξₐ ⋅ρ²                \n",
       "\n",
       " 2        2   \n",
       "a ⋅ρ²   dr ⋅ρ²\n",
       "───── + ──────\n",
       "ₑₜₐ       Δᵣ  \n",
       "              "
      ]
     },
     "execution_count": 12,
     "metadata": {},
     "output_type": "execute_result"
    }
   ],
   "source": [
    "metric = metric.subs({nu: nu_val, omega: omega_val}).expand()\n",
    "metric"
   ]
  },
  {
   "cell_type": "code",
   "execution_count": 13,
   "metadata": {},
   "outputs": [],
   "source": [
    "metric_list_matrix = [[0 for i in range(5)] for i in range(5)]\n",
    "\n",
    "# dt\n",
    "metric_list_matrix[0][0] = metric.coeff(dt ** 2)\n",
    "metric_list_matrix[0][1] = metric.coeff(dt * dr)\n",
    "metric_list_matrix[0][2] = metric.coeff(dt * dtheta)\n",
    "metric_list_matrix[0][3] = metric.coeff(dt * dphi)\n",
    "metric_list_matrix[0][4] = metric.coeff(dt * dpsi)\n",
    "\n",
    "# dr\n",
    "metric_list_matrix[1][0] = metric.coeff(dr * dt)\n",
    "metric_list_matrix[1][1] = metric.coeff(dr ** 2)\n",
    "metric_list_matrix[1][2] = metric.coeff(dr * dtheta)\n",
    "metric_list_matrix[1][3] = metric.coeff(dr * dphi)\n",
    "metric_list_matrix[1][4] = metric.coeff(dr * dpsi)\n",
    "\n",
    "# dtheta\n",
    "metric_list_matrix[2][0] = metric.coeff(dtheta * dt)\n",
    "metric_list_matrix[2][1] = metric.coeff(dtheta * dr)\n",
    "metric_list_matrix[2][2] = metric.coeff(dtheta ** 2)\n",
    "metric_list_matrix[2][3] = metric.coeff(dtheta * dphi)\n",
    "metric_list_matrix[2][4] = metric.coeff(dtheta * dpsi)\n",
    "\n",
    "# dphi\n",
    "metric_list_matrix[3][0] = metric.coeff(dphi * dt)\n",
    "metric_list_matrix[3][1] = metric.coeff(dphi * dr)\n",
    "metric_list_matrix[3][2] = metric.coeff(dphi * dtheta)\n",
    "metric_list_matrix[3][3] = metric.coeff(dphi ** 2)\n",
    "metric_list_matrix[3][4] = metric.coeff(dphi * dpsi)\n",
    "\n",
    "# dpsi\n",
    "metric_list_matrix[4][0] = metric.coeff(dpsi * dt)\n",
    "metric_list_matrix[4][1] = metric.coeff(dpsi * dr)\n",
    "metric_list_matrix[4][2] = metric.coeff(dpsi * dtheta)\n",
    "metric_list_matrix[4][3] = metric.coeff(dpsi * dphi)\n",
    "metric_list_matrix[4][4] = metric.coeff(dpsi ** 2)"
   ]
  },
  {
   "cell_type": "code",
   "execution_count": 14,
   "metadata": {},
   "outputs": [
    {
     "data": {
      "text/latex": [
       "$\\displaystyle \\left[\\begin{matrix}\\frac{\\Delta_{\\theta}^{2} f}{\\Xi_{a}^{2} \\Xi_{b}^{2} \\left(\\rho^{2}\\right)^{2}} - \\frac{\\Delta_{\\theta} g^{2} r^{2}}{\\Xi_{a} \\Xi_{b}} - \\frac{\\Delta_{\\theta}}{\\Xi_{a} \\Xi_{b}} & 0 & 0 & - \\frac{2 \\Delta_{\\theta} b q \\sin^{2}{\\left(\\theta \\right)}}{\\Xi_{a} \\Xi_{b} \\rho^{2}} - \\frac{2 \\Delta_{\\theta} a f \\sin^{2}{\\left(\\theta \\right)}}{\\Xi_{a}^{2} \\Xi_{b} \\left(\\rho^{2}\\right)^{2}} & - \\frac{2 \\Delta_{\\theta} a q \\cos^{2}{\\left(\\theta \\right)}}{\\Xi_{a} \\Xi_{b} \\rho^{2}} - \\frac{2 \\Delta_{\\theta} b f \\cos^{2}{\\left(\\theta \\right)}}{\\Xi_{a} \\Xi_{b}^{2} \\left(\\rho^{2}\\right)^{2}}\\\\0 & \\frac{\\rho^{2}}{\\Delta_{r}} & 0 & 0 & 0\\\\0 & 0 & \\frac{\\rho^{2}}{\\Delta_{\\theta}} & 0 & 0\\\\- \\frac{2 \\Delta_{\\theta} b q \\sin^{2}{\\left(\\theta \\right)}}{\\Xi_{a} \\Xi_{b} \\rho^{2}} - \\frac{2 \\Delta_{\\theta} a f \\sin^{2}{\\left(\\theta \\right)}}{\\Xi_{a}^{2} \\Xi_{b} \\left(\\rho^{2}\\right)^{2}} & 0 & 0 & \\frac{a^{2} \\sin^{2}{\\left(\\theta \\right)}}{\\Xi_{a}} + \\frac{2 a b q \\sin^{4}{\\left(\\theta \\right)}}{\\Xi_{a} \\rho^{2}} + \\frac{r^{2} \\sin^{2}{\\left(\\theta \\right)}}{\\Xi_{a}} + \\frac{a^{2} f \\sin^{4}{\\left(\\theta \\right)}}{\\Xi_{a}^{2} \\left(\\rho^{2}\\right)^{2}} & \\frac{2 b^{2} q \\sin^{2}{\\left(\\theta \\right)} \\cos^{2}{\\left(\\theta \\right)}}{\\Xi_{b} \\rho^{2}} + \\frac{2 a^{2} q \\sin^{2}{\\left(\\theta \\right)} \\cos^{2}{\\left(\\theta \\right)}}{\\Xi_{a} \\rho^{2}} + \\frac{2 a b f \\sin^{2}{\\left(\\theta \\right)} \\cos^{2}{\\left(\\theta \\right)}}{\\Xi_{a} \\Xi_{b} \\left(\\rho^{2}\\right)^{2}}\\\\- \\frac{2 \\Delta_{\\theta} a q \\cos^{2}{\\left(\\theta \\right)}}{\\Xi_{a} \\Xi_{b} \\rho^{2}} - \\frac{2 \\Delta_{\\theta} b f \\cos^{2}{\\left(\\theta \\right)}}{\\Xi_{a} \\Xi_{b}^{2} \\left(\\rho^{2}\\right)^{2}} & 0 & 0 & \\frac{2 b^{2} q \\sin^{2}{\\left(\\theta \\right)} \\cos^{2}{\\left(\\theta \\right)}}{\\Xi_{b} \\rho^{2}} + \\frac{2 a^{2} q \\sin^{2}{\\left(\\theta \\right)} \\cos^{2}{\\left(\\theta \\right)}}{\\Xi_{a} \\rho^{2}} + \\frac{2 a b f \\sin^{2}{\\left(\\theta \\right)} \\cos^{2}{\\left(\\theta \\right)}}{\\Xi_{a} \\Xi_{b} \\left(\\rho^{2}\\right)^{2}} & \\frac{2 a b q \\cos^{4}{\\left(\\theta \\right)}}{\\Xi_{b} \\rho^{2}} + \\frac{b^{2} \\cos^{2}{\\left(\\theta \\right)}}{\\Xi_{b}} + \\frac{r^{2} \\cos^{2}{\\left(\\theta \\right)}}{\\Xi_{b}} + \\frac{b^{2} f \\cos^{4}{\\left(\\theta \\right)}}{\\Xi_{b}^{2} \\left(\\rho^{2}\\right)^{2}}\\end{matrix}\\right]$"
      ],
      "text/plain": [
       "⎡           2               2  2                                              \n",
       "⎢     Δₜₕₑₜₐ ⋅f     Δₜₕₑₜₐ⋅g ⋅r    Δₜₕₑₜₐ                                   2⋅\n",
       "⎢    ──────────── - ──────────── - ──────       0     0                   - ──\n",
       "⎢      2    2   2      Ξₐ⋅Ξ_b      Ξₐ⋅Ξ_b                                     \n",
       "⎢    Ξₐ ⋅Ξ_b ⋅ρ²                                                              \n",
       "⎢                                                                             \n",
       "⎢                                               ρ²                            \n",
       "⎢                      0                        ──    0                       \n",
       "⎢                                               Δᵣ                            \n",
       "⎢                                                                             \n",
       "⎢                                                     ρ²                      \n",
       "⎢                      0                        0   ──────                    \n",
       "⎢                                                   Δₜₕₑₜₐ                    \n",
       "⎢                                                                             \n",
       "⎢                  2                      2                          2    2   \n",
       "⎢  2⋅Δₜₕₑₜₐ⋅b⋅q⋅sin (θ)   2⋅Δₜₕₑₜₐ⋅a⋅f⋅sin (θ)                      a ⋅sin (θ)\n",
       "⎢- ──────────────────── - ────────────────────  0     0             ──────────\n",
       "⎢       Ξₐ⋅Ξ_b⋅ρ²               2       2                               Ξₐ    \n",
       "⎢                             Ξₐ ⋅Ξ_b⋅ρ²                                      \n",
       "⎢                                                                             \n",
       "⎢                  2                      2                    2      2       \n",
       "⎢  2⋅Δₜₕₑₜₐ⋅a⋅q⋅cos (θ)   2⋅Δₜₕₑₜₐ⋅b⋅f⋅cos (θ)              2⋅b ⋅q⋅sin (θ)⋅cos\n",
       "⎢- ──────────────────── - ────────────────────  0     0     ──────────────────\n",
       "⎢       Ξₐ⋅Ξ_b⋅ρ²                   2   2                           Ξ_b⋅ρ²    \n",
       "⎣                             Ξₐ⋅Ξ_b ⋅ρ²                                      \n",
       "\n",
       "              2                      2                                        \n",
       "Δₜₕₑₜₐ⋅b⋅q⋅sin (θ)   2⋅Δₜₕₑₜₐ⋅a⋅f⋅sin (θ)                                2⋅Δₜₕ\n",
       "────────────────── - ────────────────────                              - ─────\n",
       "   Ξₐ⋅Ξ_b⋅ρ²               2       2                                          \n",
       "                         Ξₐ ⋅Ξ_b⋅ρ²                                           \n",
       "                                                                              \n",
       "                                                                              \n",
       "                  0                                                           \n",
       "                                                                              \n",
       "                                                                              \n",
       "                                                                              \n",
       "                  0                                                           \n",
       "                                                                              \n",
       "                                                                              \n",
       "              4       2    2       2      4                 2      2       2  \n",
       "   2⋅a⋅b⋅q⋅sin (θ)   r ⋅sin (θ)   a ⋅f⋅sin (θ)           2⋅b ⋅q⋅sin (θ)⋅cos (θ\n",
       " + ─────────────── + ────────── + ────────────           ─────────────────────\n",
       "        Ξₐ⋅ρ²            Ξₐ           2   2                      Ξ_b⋅ρ²       \n",
       "                                    Ξₐ ⋅ρ²                                    \n",
       "                                                                              \n",
       "2         2      2       2                 2       2                        4 \n",
       " (θ)   2⋅a ⋅q⋅sin (θ)⋅cos (θ)   2⋅a⋅b⋅f⋅sin (θ)⋅cos (θ)          2⋅a⋅b⋅q⋅cos (\n",
       "──── + ────────────────────── + ───────────────────────          ─────────────\n",
       "               Ξₐ⋅ρ²                            2                     Ξ_b⋅ρ²  \n",
       "                                       Ξₐ⋅Ξ_b⋅ρ²                              \n",
       "\n",
       "           2                      2                 ⎤\n",
       "ₑₜₐ⋅a⋅q⋅cos (θ)   2⋅Δₜₕₑₜₐ⋅b⋅f⋅cos (θ)              ⎥\n",
       "─────────────── - ────────────────────              ⎥\n",
       "Ξₐ⋅Ξ_b⋅ρ²                   2   2                   ⎥\n",
       "                      Ξₐ⋅Ξ_b ⋅ρ²                    ⎥\n",
       "                                                    ⎥\n",
       "                                                    ⎥\n",
       "               0                                    ⎥\n",
       "                                                    ⎥\n",
       "                                                    ⎥\n",
       "                                                    ⎥\n",
       "               0                                    ⎥\n",
       "                                                    ⎥\n",
       "                                                    ⎥\n",
       "       2      2       2                 2       2   ⎥\n",
       ")   2⋅a ⋅q⋅sin (θ)⋅cos (θ)   2⋅a⋅b⋅f⋅sin (θ)⋅cos (θ)⎥\n",
       "─ + ────────────────────── + ───────────────────────⎥\n",
       "            Ξₐ⋅ρ²                            2      ⎥\n",
       "                                    Ξₐ⋅Ξ_b⋅ρ²       ⎥\n",
       "                                                    ⎥\n",
       "      2    2       2    2       2      4            ⎥\n",
       "θ)   b ⋅cos (θ)   r ⋅cos (θ)   b ⋅f⋅cos (θ)         ⎥\n",
       "── + ────────── + ────────── + ────────────         ⎥\n",
       "        Ξ_b          Ξ_b            2   2           ⎥\n",
       "                                 Ξ_b ⋅ρ²            ⎦"
      ]
     },
     "execution_count": 14,
     "metadata": {},
     "output_type": "execute_result"
    }
   ],
   "source": [
    "g_mat = sympy.Matrix(metric_list_matrix)\n",
    "g_mat"
   ]
  },
  {
   "cell_type": "code",
   "execution_count": 15,
   "metadata": {},
   "outputs": [
    {
     "data": {
      "text/latex": [
       "$\\displaystyle \\left[\\begin{matrix}\\frac{\\Delta_{\\theta} \\left(\\Delta_{\\theta} f - \\Xi_{a} \\Xi_{b} \\left(\\rho^{2}\\right)^{2} \\left(g^{2} r^{2} + 1\\right)\\right)}{\\Xi_{a}^{2} \\Xi_{b}^{2} \\left(\\rho^{2}\\right)^{2}} & 0 & 0 & \\frac{2 \\Delta_{\\theta} \\left(- \\Xi_{a} b q \\rho^{2} - a f\\right) \\sin^{2}{\\left(\\theta \\right)}}{\\Xi_{a}^{2} \\Xi_{b} \\left(\\rho^{2}\\right)^{2}} & \\frac{2 \\Delta_{\\theta} \\left(- \\Xi_{b} a q \\rho^{2} - b f\\right) \\cos^{2}{\\left(\\theta \\right)}}{\\Xi_{a} \\Xi_{b}^{2} \\left(\\rho^{2}\\right)^{2}}\\\\0 & \\frac{\\rho^{2}}{\\Delta_{r}} & 0 & 0 & 0\\\\0 & 0 & \\frac{\\rho^{2}}{\\Delta_{\\theta}} & 0 & 0\\\\\\frac{2 \\Delta_{\\theta} \\left(- \\Xi_{a} b q \\rho^{2} - a f\\right) \\sin^{2}{\\left(\\theta \\right)}}{\\Xi_{a}^{2} \\Xi_{b} \\left(\\rho^{2}\\right)^{2}} & 0 & 0 & \\frac{\\left(2 \\Xi_{a} a b q \\rho^{2} \\sin^{2}{\\left(\\theta \\right)} + \\Xi_{a} \\left(\\rho^{2}\\right)^{2} \\left(a^{2} + r^{2}\\right) + a^{2} f \\sin^{2}{\\left(\\theta \\right)}\\right) \\sin^{2}{\\left(\\theta \\right)}}{\\Xi_{a}^{2} \\left(\\rho^{2}\\right)^{2}} & \\frac{\\left(1 - \\cos{\\left(4 \\theta \\right)}\\right) \\left(\\Xi_{a} b^{2} q \\rho^{2} + \\Xi_{b} a^{2} q \\rho^{2} + a b f\\right)}{4 \\Xi_{a} \\Xi_{b} \\left(\\rho^{2}\\right)^{2}}\\\\\\frac{2 \\Delta_{\\theta} \\left(- \\Xi_{b} a q \\rho^{2} - b f\\right) \\cos^{2}{\\left(\\theta \\right)}}{\\Xi_{a} \\Xi_{b}^{2} \\left(\\rho^{2}\\right)^{2}} & 0 & 0 & \\frac{\\left(1 - \\cos{\\left(4 \\theta \\right)}\\right) \\left(\\Xi_{a} b^{2} q \\rho^{2} + \\Xi_{b} a^{2} q \\rho^{2} + a b f\\right)}{4 \\Xi_{a} \\Xi_{b} \\left(\\rho^{2}\\right)^{2}} & \\frac{\\left(2 \\Xi_{b} a b q \\rho^{2} \\cos^{2}{\\left(\\theta \\right)} + \\Xi_{b} \\left(\\rho^{2}\\right)^{2} \\left(b^{2} + r^{2}\\right) + b^{2} f \\cos^{2}{\\left(\\theta \\right)}\\right) \\cos^{2}{\\left(\\theta \\right)}}{\\Xi_{b}^{2} \\left(\\rho^{2}\\right)^{2}}\\end{matrix}\\right]$"
      ],
      "text/plain": [
       "⎡       ⎛                    2 ⎛ 2  2    ⎞⎞                                   \n",
       "⎢Δₜₕₑₜₐ⋅⎝Δₜₕₑₜₐ⋅f - Ξₐ⋅Ξ_b⋅ρ² ⋅⎝g ⋅r  + 1⎠⎠                             2⋅Δₜₕₑ\n",
       "⎢──────────────────────────────────────────  0     0                    ──────\n",
       "⎢                 2    2   2                                                  \n",
       "⎢               Ξₐ ⋅Ξ_b ⋅ρ²                                                   \n",
       "⎢                                                                             \n",
       "⎢                                            ρ²                               \n",
       "⎢                    0                       ──    0                          \n",
       "⎢                                            Δᵣ                               \n",
       "⎢                                                                             \n",
       "⎢                                                  ρ²                         \n",
       "⎢                    0                       0   ──────                       \n",
       "⎢                                                Δₜₕₑₜₐ                       \n",
       "⎢                                                                             \n",
       "⎢                                  2                     ⎛                 2  \n",
       "⎢   2⋅Δₜₕₑₜₐ⋅(-Ξₐ⋅b⋅q⋅ρ² - a⋅f)⋅sin (θ)                  ⎝2⋅Ξₐ⋅a⋅b⋅q⋅ρ²⋅sin (θ\n",
       "⎢   ───────────────────────────────────      0     0     ─────────────────────\n",
       "⎢                 2       2                                                   \n",
       "⎢               Ξₐ ⋅Ξ_b⋅ρ²                                                    \n",
       "⎢                                                                             \n",
       "⎢                                   2                                         \n",
       "⎢   2⋅Δₜₕₑₜₐ⋅(-Ξ_b⋅a⋅q⋅ρ² - b⋅f)⋅cos (θ)                         (1 - cos(4⋅θ)\n",
       "⎢   ────────────────────────────────────     0     0             ─────────────\n",
       "⎢                     2   2                                                   \n",
       "⎣               Ξₐ⋅Ξ_b ⋅ρ²                                                    \n",
       "\n",
       "                         2                                                    \n",
       "ₜₐ⋅(-Ξₐ⋅b⋅q⋅ρ² - a⋅f)⋅sin (θ)                                2⋅Δₜₕₑₜₐ⋅(-Ξ_b⋅a⋅\n",
       "─────────────────────────────                                ─────────────────\n",
       "        2       2                                                             \n",
       "      Ξₐ ⋅Ξ_b⋅ρ²                                                         Ξₐ⋅Ξ_\n",
       "                                                                              \n",
       "                                                                              \n",
       "           0                                                                  \n",
       "                                                                              \n",
       "                                                                              \n",
       "                                                                              \n",
       "           0                                                                  \n",
       "                                                                              \n",
       "                                                                              \n",
       "         2 ⎛ 2    2⎞    2      2   ⎞    2                             ⎛    2  \n",
       ") + Ξₐ⋅ρ² ⋅⎝a  + r ⎠ + a ⋅f⋅sin (θ)⎠⋅sin (θ)           (1 - cos(4⋅θ))⋅⎝Ξₐ⋅b ⋅q\n",
       "────────────────────────────────────────────           ───────────────────────\n",
       "          2   2                                                               \n",
       "        Ξₐ ⋅ρ²                                                            4⋅Ξₐ\n",
       "                                                                              \n",
       "  ⎛    2             2             ⎞          ⎛                  2            \n",
       ")⋅⎝Ξₐ⋅b ⋅q⋅ρ² + Ξ_b⋅a ⋅q⋅ρ² + a⋅b⋅f⎠          ⎝2⋅Ξ_b⋅a⋅b⋅q⋅ρ²⋅cos (θ) + Ξ_b⋅ρ²\n",
       "────────────────────────────────────          ────────────────────────────────\n",
       "                 2                                                            \n",
       "      4⋅Ξₐ⋅Ξ_b⋅ρ²                                                           Ξ_\n",
       "\n",
       "               2                   ⎤\n",
       "q⋅ρ² - b⋅f)⋅cos (θ)                ⎥\n",
       "───────────────────                ⎥\n",
       " 2   2                             ⎥\n",
       "b ⋅ρ²                              ⎥\n",
       "                                   ⎥\n",
       "                                   ⎥\n",
       " 0                                 ⎥\n",
       "                                   ⎥\n",
       "                                   ⎥\n",
       "                                   ⎥\n",
       " 0                                 ⎥\n",
       "                                   ⎥\n",
       "                                   ⎥\n",
       "           2             ⎞         ⎥\n",
       "⋅ρ² + Ξ_b⋅a ⋅q⋅ρ² + a⋅b⋅f⎠         ⎥\n",
       "──────────────────────────         ⎥\n",
       "       2                           ⎥\n",
       "⋅Ξ_b⋅ρ²                            ⎥\n",
       "                                   ⎥\n",
       "2 ⎛ 2    2⎞    2      2   ⎞    2   ⎥\n",
       " ⋅⎝b  + r ⎠ + b ⋅f⋅cos (θ)⎠⋅cos (θ)⎥\n",
       "───────────────────────────────────⎥\n",
       " 2   2                             ⎥\n",
       "b ⋅ρ²                              ⎦"
      ]
     },
     "execution_count": 15,
     "metadata": {},
     "output_type": "execute_result"
    }
   ],
   "source": [
    "g_mat.simplify()\n",
    "g_mat"
   ]
  },
  {
   "attachments": {},
   "cell_type": "markdown",
   "metadata": {},
   "source": [
    "Introduce other functions of q."
   ]
  },
  {
   "cell_type": "code",
   "execution_count": 16,
   "metadata": {},
   "outputs": [
    {
     "data": {
      "image/png": "[encoded data removed]",
      "text/latex": [
       "$\\displaystyle - 2 m + \\frac{2 a b q + q^{2} + \\left(a^{2} + r^{2}\\right) \\left(b^{2} + r^{2}\\right) \\left(g^{2} r^{2} + 1\\right)}{r^{2}}$"
      ],
      "text/plain": [
       "                  2   ⎛ 2    2⎞ ⎛ 2    2⎞ ⎛ 2  2    ⎞\n",
       "       2⋅a⋅b⋅q + q  + ⎝a  + r ⎠⋅⎝b  + r ⎠⋅⎝g ⋅r  + 1⎠\n",
       "-2⋅m + ──────────────────────────────────────────────\n",
       "                              2                      \n",
       "                             r                       "
      ]
     },
     "execution_count": 16,
     "metadata": {},
     "output_type": "execute_result"
    }
   ],
   "source": [
    "delta_r_val = ((r ** 2 + a ** 2) * (r ** 2 + b ** 2) * (1 + g ** 2 * r ** 2) + q ** 2 + 2 * a * b * q) / r ** 2 - 2 * m\n",
    "delta_r_val"
   ]
  },
  {
   "cell_type": "code",
   "execution_count": 17,
   "metadata": {},
   "outputs": [
    {
     "data": {
      "image/png": "[encoded data removed]",
      "text/latex": [
       "$\\displaystyle 2 a b g^{2} q \\rho^{2} + 2 m \\rho^{2} - q^{2}$"
      ],
      "text/plain": [
       "       2                  2\n",
       "2⋅a⋅b⋅g ⋅q⋅ρ² + 2⋅m⋅ρ² - q "
      ]
     },
     "execution_count": 17,
     "metadata": {},
     "output_type": "execute_result"
    }
   ],
   "source": [
    "f_val = 2 * m * rho_squared - q ** 2 + 2 * a * b * q * g ** 2 * rho_squared\n",
    "f_val"
   ]
  },
  {
   "cell_type": "code",
   "execution_count": 18,
   "metadata": {},
   "outputs": [
    {
     "data": {
      "text/latex": [
       "$\\displaystyle \\left[\\begin{matrix}\\frac{\\Delta_{\\theta} \\left(\\Delta_{\\theta} \\left(2 a b g^{2} q \\rho^{2} + 2 m \\rho^{2} - q^{2}\\right) - \\Xi_{a} \\Xi_{b} \\left(\\rho^{2}\\right)^{2} \\left(g^{2} r^{2} + 1\\right)\\right)}{\\Xi_{a}^{2} \\Xi_{b}^{2} \\left(\\rho^{2}\\right)^{2}} & 0 & 0 & \\frac{2 \\Delta_{\\theta} \\left(- \\Xi_{a} b q \\rho^{2} - a \\left(2 a b g^{2} q \\rho^{2} + 2 m \\rho^{2} - q^{2}\\right)\\right) \\sin^{2}{\\left(\\theta \\right)}}{\\Xi_{a}^{2} \\Xi_{b} \\left(\\rho^{2}\\right)^{2}} & \\frac{2 \\Delta_{\\theta} \\left(- \\Xi_{b} a q \\rho^{2} - b \\left(2 a b g^{2} q \\rho^{2} + 2 m \\rho^{2} - q^{2}\\right)\\right) \\cos^{2}{\\left(\\theta \\right)}}{\\Xi_{a} \\Xi_{b}^{2} \\left(\\rho^{2}\\right)^{2}}\\\\0 & \\frac{\\rho^{2}}{- 2 m + \\frac{2 a b q + q^{2} + \\left(a^{2} + r^{2}\\right) \\left(b^{2} + r^{2}\\right) \\left(g^{2} r^{2} + 1\\right)}{r^{2}}} & 0 & 0 & 0\\\\0 & 0 & \\frac{\\rho^{2}}{\\Delta_{\\theta}} & 0 & 0\\\\\\frac{2 \\Delta_{\\theta} \\left(- \\Xi_{a} b q \\rho^{2} - a \\left(2 a b g^{2} q \\rho^{2} + 2 m \\rho^{2} - q^{2}\\right)\\right) \\sin^{2}{\\left(\\theta \\right)}}{\\Xi_{a}^{2} \\Xi_{b} \\left(\\rho^{2}\\right)^{2}} & 0 & 0 & \\frac{\\left(2 \\Xi_{a} a b q \\rho^{2} \\sin^{2}{\\left(\\theta \\right)} + \\Xi_{a} \\left(\\rho^{2}\\right)^{2} \\left(a^{2} + r^{2}\\right) + a^{2} \\cdot \\left(2 a b g^{2} q \\rho^{2} + 2 m \\rho^{2} - q^{2}\\right) \\sin^{2}{\\left(\\theta \\right)}\\right) \\sin^{2}{\\left(\\theta \\right)}}{\\Xi_{a}^{2} \\left(\\rho^{2}\\right)^{2}} & \\frac{\\left(1 - \\cos{\\left(4 \\theta \\right)}\\right) \\left(\\Xi_{a} b^{2} q \\rho^{2} + \\Xi_{b} a^{2} q \\rho^{2} + a b \\left(2 a b g^{2} q \\rho^{2} + 2 m \\rho^{2} - q^{2}\\right)\\right)}{4 \\Xi_{a} \\Xi_{b} \\left(\\rho^{2}\\right)^{2}}\\\\\\frac{2 \\Delta_{\\theta} \\left(- \\Xi_{b} a q \\rho^{2} - b \\left(2 a b g^{2} q \\rho^{2} + 2 m \\rho^{2} - q^{2}\\right)\\right) \\cos^{2}{\\left(\\theta \\right)}}{\\Xi_{a} \\Xi_{b}^{2} \\left(\\rho^{2}\\right)^{2}} & 0 & 0 & \\frac{\\left(1 - \\cos{\\left(4 \\theta \\right)}\\right) \\left(\\Xi_{a} b^{2} q \\rho^{2} + \\Xi_{b} a^{2} q \\rho^{2} + a b \\left(2 a b g^{2} q \\rho^{2} + 2 m \\rho^{2} - q^{2}\\right)\\right)}{4 \\Xi_{a} \\Xi_{b} \\left(\\rho^{2}\\right)^{2}} & \\frac{\\left(2 \\Xi_{b} a b q \\rho^{2} \\cos^{2}{\\left(\\theta \\right)} + \\Xi_{b} \\left(\\rho^{2}\\right)^{2} \\left(b^{2} + r^{2}\\right) + b^{2} \\cdot \\left(2 a b g^{2} q \\rho^{2} + 2 m \\rho^{2} - q^{2}\\right) \\cos^{2}{\\left(\\theta \\right)}\\right) \\cos^{2}{\\left(\\theta \\right)}}{\\Xi_{b}^{2} \\left(\\rho^{2}\\right)^{2}}\\end{matrix}\\right]$"
      ],
      "text/plain": [
       "⎡       ⎛       ⎛       2                  2⎞            2 ⎛ 2  2    ⎞⎞       \n",
       "⎢Δₜₕₑₜₐ⋅⎝Δₜₕₑₜₐ⋅⎝2⋅a⋅b⋅g ⋅q⋅ρ² + 2⋅m⋅ρ² - q ⎠ - Ξₐ⋅Ξ_b⋅ρ² ⋅⎝g ⋅r  + 1⎠⎠       \n",
       "⎢──────────────────────────────────────────────────────────────────────       \n",
       "⎢                               2    2   2                                    \n",
       "⎢                             Ξₐ ⋅Ξ_b ⋅ρ²                                     \n",
       "⎢                                                                             \n",
       "⎢                                                                             \n",
       "⎢                                  0                                     ─────\n",
       "⎢                                                                             \n",
       "⎢                                                                             \n",
       "⎢                                                                        -2⋅m \n",
       "⎢                                                                             \n",
       "⎢                                                                             \n",
       "⎢                                                                             \n",
       "⎢                                                                             \n",
       "⎢                                  0                                          \n",
       "⎢                                                                             \n",
       "⎢                                                                             \n",
       "⎢            ⎛               ⎛       2                  2⎞⎞    2              \n",
       "⎢   2⋅Δₜₕₑₜₐ⋅⎝-Ξₐ⋅b⋅q⋅ρ² - a⋅⎝2⋅a⋅b⋅g ⋅q⋅ρ² + 2⋅m⋅ρ² - q ⎠⎠⋅sin (θ)           \n",
       "⎢   ───────────────────────────────────────────────────────────────           \n",
       "⎢                               2       2                                     \n",
       "⎢                             Ξₐ ⋅Ξ_b⋅ρ²                                      \n",
       "⎢                                                                             \n",
       "⎢            ⎛                ⎛       2                  2⎞⎞    2             \n",
       "⎢   2⋅Δₜₕₑₜₐ⋅⎝-Ξ_b⋅a⋅q⋅ρ² - b⋅⎝2⋅a⋅b⋅g ⋅q⋅ρ² + 2⋅m⋅ρ² - q ⎠⎠⋅cos (θ)          \n",
       "⎢   ────────────────────────────────────────────────────────────────          \n",
       "⎢                                   2   2                                     \n",
       "⎣                             Ξₐ⋅Ξ_b ⋅ρ²                                      \n",
       "\n",
       "                                                                              \n",
       "                                                                         2⋅Δₜₕ\n",
       "                     0                              0                    ─────\n",
       "                                                                              \n",
       "                                                                              \n",
       "                                                                              \n",
       "                     ρ²                                                       \n",
       "────────────────────────────────────────────────    0                         \n",
       "             2   ⎛ 2    2⎞ ⎛ 2    2⎞ ⎛ 2  2    ⎞                              \n",
       "  2⋅a⋅b⋅q + q  + ⎝a  + r ⎠⋅⎝b  + r ⎠⋅⎝g ⋅r  + 1⎠                              \n",
       "+ ──────────────────────────────────────────────                              \n",
       "                         2                                                    \n",
       "                        r                                                     \n",
       "                                                                              \n",
       "                                                    ρ²                        \n",
       "                     0                            ──────                      \n",
       "                                                  Δₜₕₑₜₐ                      \n",
       "                                                                              \n",
       "                                                          ⎛                 2 \n",
       "                                                          ⎝2⋅Ξₐ⋅a⋅b⋅q⋅ρ²⋅sin (\n",
       "                     0                              0     ────────────────────\n",
       "                                                                              \n",
       "                                                                              \n",
       "                                                                              \n",
       "                                                                              \n",
       "                                                                  (1 - cos(4⋅θ\n",
       "                     0                              0             ────────────\n",
       "                                                                              \n",
       "                                                                              \n",
       "\n",
       "    ⎛               ⎛       2                  2⎞⎞    2                       \n",
       "ₑₜₐ⋅⎝-Ξₐ⋅b⋅q⋅ρ² - a⋅⎝2⋅a⋅b⋅g ⋅q⋅ρ² + 2⋅m⋅ρ² - q ⎠⎠⋅sin (θ)                    \n",
       "──────────────────────────────────────────────────────────                    \n",
       "                       2       2                                              \n",
       "                     Ξₐ ⋅Ξ_b⋅ρ²                                               \n",
       "                                                                              \n",
       "                                                                              \n",
       "                          0                                                   \n",
       "                                                                              \n",
       "                                                                              \n",
       "                                                                              \n",
       "                                                                              \n",
       "                                                                              \n",
       "                                                                              \n",
       "                                                                              \n",
       "                          0                                                   \n",
       "                                                                              \n",
       "                                                                              \n",
       "          2 ⎛ 2    2⎞    2 ⎛       2                  2⎞    2   ⎞    2        \n",
       "θ) + Ξₐ⋅ρ² ⋅⎝a  + r ⎠ + a ⋅⎝2⋅a⋅b⋅g ⋅q⋅ρ² + 2⋅m⋅ρ² - q ⎠⋅sin (θ)⎠⋅sin (θ)     \n",
       "─────────────────────────────────────────────────────────────────────────     \n",
       "                         2   2                                                \n",
       "                       Ξₐ ⋅ρ²                                                 \n",
       "                                                                              \n",
       "   ⎛    2             2            ⎛       2                  2⎞⎞          ⎛  \n",
       "))⋅⎝Ξₐ⋅b ⋅q⋅ρ² + Ξ_b⋅a ⋅q⋅ρ² + a⋅b⋅⎝2⋅a⋅b⋅g ⋅q⋅ρ² + 2⋅m⋅ρ² - q ⎠⎠          ⎝2⋅\n",
       "─────────────────────────────────────────────────────────────────          ───\n",
       "                                2                                             \n",
       "                     4⋅Ξₐ⋅Ξ_b⋅ρ²                                              \n",
       "\n",
       "                     ⎛                ⎛       2                  2⎞⎞    2     \n",
       "            2⋅Δₜₕₑₜₐ⋅⎝-Ξ_b⋅a⋅q⋅ρ² - b⋅⎝2⋅a⋅b⋅g ⋅q⋅ρ² + 2⋅m⋅ρ² - q ⎠⎠⋅cos (θ)  \n",
       "            ────────────────────────────────────────────────────────────────  \n",
       "                                            2   2                             \n",
       "                                      Ξₐ⋅Ξ_b ⋅ρ²                              \n",
       "                                                                              \n",
       "                                                                              \n",
       "                                            0                                 \n",
       "                                                                              \n",
       "                                                                              \n",
       "                                                                              \n",
       "                                                                              \n",
       "                                                                              \n",
       "                                                                              \n",
       "                                                                              \n",
       "                                            0                                 \n",
       "                                                                              \n",
       "                                                                              \n",
       "                     ⎛    2             2            ⎛       2                \n",
       "      (1 - cos(4⋅θ))⋅⎝Ξₐ⋅b ⋅q⋅ρ² + Ξ_b⋅a ⋅q⋅ρ² + a⋅b⋅⎝2⋅a⋅b⋅g ⋅q⋅ρ² + 2⋅m⋅ρ² -\n",
       "      ────────────────────────────────────────────────────────────────────────\n",
       "                                                  2                           \n",
       "                                       4⋅Ξₐ⋅Ξ_b⋅ρ²                            \n",
       "                                                                              \n",
       "                2            2 ⎛ 2    2⎞    2 ⎛       2                  2⎞   \n",
       "Ξ_b⋅a⋅b⋅q⋅ρ²⋅cos (θ) + Ξ_b⋅ρ² ⋅⎝b  + r ⎠ + b ⋅⎝2⋅a⋅b⋅g ⋅q⋅ρ² + 2⋅m⋅ρ² - q ⎠⋅co\n",
       "──────────────────────────────────────────────────────────────────────────────\n",
       "                                            2   2                             \n",
       "                                         Ξ_b ⋅ρ²                              \n",
       "\n",
       "              ⎤\n",
       "              ⎥\n",
       "              ⎥\n",
       "              ⎥\n",
       "              ⎥\n",
       "              ⎥\n",
       "              ⎥\n",
       "              ⎥\n",
       "              ⎥\n",
       "              ⎥\n",
       "              ⎥\n",
       "              ⎥\n",
       "              ⎥\n",
       "              ⎥\n",
       "              ⎥\n",
       "              ⎥\n",
       "              ⎥\n",
       "              ⎥\n",
       "  2⎞⎞         ⎥\n",
       " q ⎠⎠         ⎥\n",
       "─────         ⎥\n",
       "              ⎥\n",
       "              ⎥\n",
       "              ⎥\n",
       " 2   ⎞    2   ⎥\n",
       "s (θ)⎠⋅cos (θ)⎥\n",
       "──────────────⎥\n",
       "              ⎥\n",
       "              ⎦"
      ]
     },
     "execution_count": 18,
     "metadata": {},
     "output_type": "execute_result"
    }
   ],
   "source": [
    "g_mat_2 = g_mat.subs({delta_r: delta_r_val, f: f_val})\n",
    "g_mat_2"
   ]
  },
  {
   "attachments": {},
   "cell_type": "markdown",
   "metadata": {},
   "source": [
    "There are 8 unique matrix elements. In seven of them, there are O(q^2) terms, so there are 3 unique terms each. The eighth is O(1), so there are a total of 22 terms."
   ]
  },
  {
   "cell_type": "code",
   "execution_count": 19,
   "metadata": {},
   "outputs": [],
   "source": [
    "A_1, A_2, A_3 = sympy.symbols(\"A_1 A_2 A_3\")\n",
    "A_4, A_5, A_6 = sympy.symbols(\"A_4 A_5 A_6\")\n",
    "A_7, A_8, A_9 = sympy.symbols(\"A_7 A_8 A_9\")\n",
    "A_10, A_11, A_12 = sympy.symbols(\"A_10 A_11 A_12\")\n",
    "A_13, A_14, A_15 = sympy.symbols(\"A_13 A_14 A_15\")\n",
    "A_16, A_17, A_18 = sympy.symbols(\"A_16 A_17 A_18\")\n",
    "A_19, A_20, A_21 = sympy.symbols(\"A_19 A_20 A_21\")\n",
    "A_22 = sympy.symbols(\"A_22\")"
   ]
  },
  {
   "cell_type": "code",
   "execution_count": 20,
   "metadata": {},
   "outputs": [],
   "source": [
    "metric_list_matrix_2 = [[0 for i in range(5)] for i in range(5)]"
   ]
  },
  {
   "cell_type": "code",
   "execution_count": 21,
   "metadata": {},
   "outputs": [],
   "source": [
    "# 00 entry\n",
    "g00 = g_mat_2[0, 0].expand()\n",
    "A_1_val = g00.coeff(q ** 2)\n",
    "A_2_val = g00.coeff(q)\n",
    "A_3_val = g00 - A_1_val * q ** 2 - A_2_val * q\n",
    "metric_list_matrix_2[0][0] = A_1 * q ** 2 + A_2 * q + A_3"
   ]
  },
  {
   "cell_type": "code",
   "execution_count": 22,
   "metadata": {},
   "outputs": [],
   "source": [
    "# 03 entry\n",
    "g03 = g_mat_2[0, 3].expand()\n",
    "A_4_val = g03.coeff(q ** 2)\n",
    "A_5_val = g03.coeff(q)\n",
    "A_6_val = g03 - A_4_val * q ** 2 - A_5_val * q\n",
    "metric_list_matrix_2[0][3] = A_4 * q ** 2 + A_5 * q + A_6\n",
    "metric_list_matrix_2[3][0] = metric_list_matrix_2[0][3]"
   ]
  },
  {
   "cell_type": "code",
   "execution_count": 23,
   "metadata": {},
   "outputs": [],
   "source": [
    "# 04 entry\n",
    "g04 = g_mat_2[0, 4].expand()\n",
    "A_7_val = g04.coeff(q ** 2)\n",
    "A_8_val = g04.coeff(q)\n",
    "A_9_val = g04 - A_7_val * q ** 2 - A_8_val * q\n",
    "metric_list_matrix_2[0][4] = A_7 * q ** 2 + A_8 * q + A_9\n",
    "metric_list_matrix_2[4][0] = metric_list_matrix_2[0][4]"
   ]
  },
  {
   "cell_type": "code",
   "execution_count": 24,
   "metadata": {},
   "outputs": [],
   "source": [
    "# 11 entry\n",
    "denom = sympy.fraction(g_mat_2[1, 1])[1].expand()\n",
    "A_10_val = denom.coeff(q ** 2)\n",
    "A_11_val = denom.coeff(q)\n",
    "A_12_val = denom - A_10_val * q ** 2 - A_11_val * q\n",
    "metric_list_matrix_2[1][1] = rho_squared / (A_10 * q ** 2 + A_11 * q + A_12)"
   ]
  },
  {
   "cell_type": "code",
   "execution_count": 25,
   "metadata": {},
   "outputs": [],
   "source": [
    "# 22 entry\n",
    "A_13_val = g_mat_2[2, 2]\n",
    "metric_list_matrix_2[2][2] = A_13"
   ]
  },
  {
   "cell_type": "code",
   "execution_count": 26,
   "metadata": {},
   "outputs": [],
   "source": [
    "# 33 entry\n",
    "g33 = g_mat_2[3, 3].expand()\n",
    "A_14_val = g33.coeff(q ** 2)\n",
    "A_15_val = g33.coeff(q)\n",
    "A_16_val = g33 - A_14_val * q ** 2 - A_15_val * q\n",
    "metric_list_matrix_2[3][3] = A_14 * q ** 2 + A_15 * q + A_16"
   ]
  },
  {
   "cell_type": "code",
   "execution_count": 27,
   "metadata": {},
   "outputs": [],
   "source": [
    "# 34 entry\n",
    "g34 = g_mat_2[3, 4].expand()\n",
    "A_17_val = g34.coeff(q ** 2)\n",
    "A_18_val = g34.coeff(q)\n",
    "A_19_val = g34 - A_17_val * q ** 2 - A_18_val * q\n",
    "metric_list_matrix_2[3][4] = A_17 * q ** 2 + A_18 * q + A_19\n",
    "metric_list_matrix_2[4][3] = metric_list_matrix_2[3][4]"
   ]
  },
  {
   "cell_type": "code",
   "execution_count": 28,
   "metadata": {},
   "outputs": [],
   "source": [
    "# 44 entry\n",
    "g44 = g_mat_2[4, 4].expand()\n",
    "A_20_val = g44.coeff(q ** 2)\n",
    "A_21_val = g44.coeff(q)\n",
    "A_22_val = g44 - A_20_val * q ** 2 - A_21_val * q\n",
    "metric_list_matrix_2[4][4] = A_20 * q ** 2 + A_21 * q + A_22"
   ]
  },
  {
   "cell_type": "code",
   "execution_count": 29,
   "metadata": {},
   "outputs": [
    {
     "data": {
      "text/latex": [
       "$\\displaystyle \\left[\\begin{matrix}A_{1} q^{2} + A_{2} q + A_{3} & 0 & 0 & A_{4} q^{2} + A_{5} q + A_{6} & A_{7} q^{2} + A_{8} q + A_{9}\\\\0 & \\frac{\\rho^{2}}{A_{10} q^{2} + A_{11} q + A_{12}} & 0 & 0 & 0\\\\0 & 0 & A_{13} & 0 & 0\\\\A_{4} q^{2} + A_{5} q + A_{6} & 0 & 0 & A_{14} q^{2} + A_{15} q + A_{16} & A_{17} q^{2} + A_{18} q + A_{19}\\\\A_{7} q^{2} + A_{8} q + A_{9} & 0 & 0 & A_{17} q^{2} + A_{18} q + A_{19} & A_{20} q^{2} + A_{21} q + A_{22}\\end{matrix}\\right]$"
      ],
      "text/plain": [
       "⎡    2                                              2                     2   \n",
       "⎢A₁⋅q  + A₂⋅q + A₃           0             0    A₄⋅q  + A₅⋅q + A₆     A₇⋅q  + \n",
       "⎢                                                                             \n",
       "⎢                            ρ²                                               \n",
       "⎢        0          ────────────────────   0            0                     \n",
       "⎢                        2                                                    \n",
       "⎢                   A₁₀⋅q  + A₁₁⋅q + A₁₂                                      \n",
       "⎢                                                                             \n",
       "⎢        0                   0            A₁₃           0                     \n",
       "⎢                                                                             \n",
       "⎢    2                                              2                     2   \n",
       "⎢A₄⋅q  + A₅⋅q + A₆           0             0   A₁₄⋅q  + A₁₅⋅q + A₁₆  A₁₇⋅q  + \n",
       "⎢                                                                             \n",
       "⎢    2                                              2                     2   \n",
       "⎣A₇⋅q  + A₈⋅q + A₉           0             0   A₁₇⋅q  + A₁₈⋅q + A₁₉  A₂₀⋅q  + \n",
       "\n",
       "           ⎤\n",
       "A₈⋅q + A₉  ⎥\n",
       "           ⎥\n",
       "           ⎥\n",
       "0          ⎥\n",
       "           ⎥\n",
       "           ⎥\n",
       "           ⎥\n",
       "0          ⎥\n",
       "           ⎥\n",
       "           ⎥\n",
       "A₁₈⋅q + A₁₉⎥\n",
       "           ⎥\n",
       "           ⎥\n",
       "A₂₁⋅q + A₂₂⎦"
      ]
     },
     "execution_count": 29,
     "metadata": {},
     "output_type": "execute_result"
    }
   ],
   "source": [
    "g_mat_simp = sympy.Matrix(metric_list_matrix_2)\n",
    "g_mat_simp"
   ]
  },
  {
   "attachments": {},
   "cell_type": "markdown",
   "metadata": {},
   "source": [
    "### Metric Determinant"
   ]
  },
  {
   "cell_type": "code",
   "execution_count": 30,
   "metadata": {},
   "outputs": [
    {
     "data": {
      "image/png": "[encoded data removed]",
      "text/latex": [
       "$\\displaystyle \\frac{A_{13} \\rho^{2} \\left(A_{1} A_{14} A_{20} q^{6} + A_{1} A_{14} A_{21} q^{5} + A_{1} A_{14} A_{22} q^{4} + A_{1} A_{15} A_{20} q^{5} + A_{1} A_{15} A_{21} q^{4} + A_{1} A_{15} A_{22} q^{3} + A_{1} A_{16} A_{20} q^{4} + A_{1} A_{16} A_{21} q^{3} + A_{1} A_{16} A_{22} q^{2} - A_{1} A_{17}^{2} q^{6} - 2 A_{1} A_{17} A_{18} q^{5} - 2 A_{1} A_{17} A_{19} q^{4} - A_{1} A_{18}^{2} q^{4} - 2 A_{1} A_{18} A_{19} q^{3} - A_{1} A_{19}^{2} q^{2} + A_{14} A_{2} A_{20} q^{5} + A_{14} A_{2} A_{21} q^{4} + A_{14} A_{2} A_{22} q^{3} + A_{14} A_{20} A_{3} q^{4} + A_{14} A_{21} A_{3} q^{3} + A_{14} A_{22} A_{3} q^{2} - A_{14} A_{7}^{2} q^{6} - 2 A_{14} A_{7} A_{8} q^{5} - 2 A_{14} A_{7} A_{9} q^{4} - A_{14} A_{8}^{2} q^{4} - 2 A_{14} A_{8} A_{9} q^{3} - A_{14} A_{9}^{2} q^{2} + A_{15} A_{2} A_{20} q^{4} + A_{15} A_{2} A_{21} q^{3} + A_{15} A_{2} A_{22} q^{2} + A_{15} A_{20} A_{3} q^{3} + A_{15} A_{21} A_{3} q^{2} + A_{15} A_{22} A_{3} q - A_{15} A_{7}^{2} q^{5} - 2 A_{15} A_{7} A_{8} q^{4} - 2 A_{15} A_{7} A_{9} q^{3} - A_{15} A_{8}^{2} q^{3} - 2 A_{15} A_{8} A_{9} q^{2} - A_{15} A_{9}^{2} q + A_{16} A_{2} A_{20} q^{3} + A_{16} A_{2} A_{21} q^{2} + A_{16} A_{2} A_{22} q + A_{16} A_{20} A_{3} q^{2} + A_{16} A_{21} A_{3} q + A_{16} A_{22} A_{3} - A_{16} A_{7}^{2} q^{4} - 2 A_{16} A_{7} A_{8} q^{3} - 2 A_{16} A_{7} A_{9} q^{2} - A_{16} A_{8}^{2} q^{2} - 2 A_{16} A_{8} A_{9} q - A_{16} A_{9}^{2} - A_{17}^{2} A_{2} q^{5} - A_{17}^{2} A_{3} q^{4} - 2 A_{17} A_{18} A_{2} q^{4} - 2 A_{17} A_{18} A_{3} q^{3} - 2 A_{17} A_{19} A_{2} q^{3} - 2 A_{17} A_{19} A_{3} q^{2} + 2 A_{17} A_{4} A_{7} q^{6} + 2 A_{17} A_{4} A_{8} q^{5} + 2 A_{17} A_{4} A_{9} q^{4} + 2 A_{17} A_{5} A_{7} q^{5} + 2 A_{17} A_{5} A_{8} q^{4} + 2 A_{17} A_{5} A_{9} q^{3} + 2 A_{17} A_{6} A_{7} q^{4} + 2 A_{17} A_{6} A_{8} q^{3} + 2 A_{17} A_{6} A_{9} q^{2} - A_{18}^{2} A_{2} q^{3} - A_{18}^{2} A_{3} q^{2} - 2 A_{18} A_{19} A_{2} q^{2} - 2 A_{18} A_{19} A_{3} q + 2 A_{18} A_{4} A_{7} q^{5} + 2 A_{18} A_{4} A_{8} q^{4} + 2 A_{18} A_{4} A_{9} q^{3} + 2 A_{18} A_{5} A_{7} q^{4} + 2 A_{18} A_{5} A_{8} q^{3} + 2 A_{18} A_{5} A_{9} q^{2} + 2 A_{18} A_{6} A_{7} q^{3} + 2 A_{18} A_{6} A_{8} q^{2} + 2 A_{18} A_{6} A_{9} q - A_{19}^{2} A_{2} q - A_{19}^{2} A_{3} + 2 A_{19} A_{4} A_{7} q^{4} + 2 A_{19} A_{4} A_{8} q^{3} + 2 A_{19} A_{4} A_{9} q^{2} + 2 A_{19} A_{5} A_{7} q^{3} + 2 A_{19} A_{5} A_{8} q^{2} + 2 A_{19} A_{5} A_{9} q + 2 A_{19} A_{6} A_{7} q^{2} + 2 A_{19} A_{6} A_{8} q + 2 A_{19} A_{6} A_{9} - A_{20} A_{4}^{2} q^{6} - 2 A_{20} A_{4} A_{5} q^{5} - 2 A_{20} A_{4} A_{6} q^{4} - A_{20} A_{5}^{2} q^{4} - 2 A_{20} A_{5} A_{6} q^{3} - A_{20} A_{6}^{2} q^{2} - A_{21} A_{4}^{2} q^{5} - 2 A_{21} A_{4} A_{5} q^{4} - 2 A_{21} A_{4} A_{6} q^{3} - A_{21} A_{5}^{2} q^{3} - 2 A_{21} A_{5} A_{6} q^{2} - A_{21} A_{6}^{2} q - A_{22} A_{4}^{2} q^{4} - 2 A_{22} A_{4} A_{5} q^{3} - 2 A_{22} A_{4} A_{6} q^{2} - A_{22} A_{5}^{2} q^{2} - 2 A_{22} A_{5} A_{6} q - A_{22} A_{6}^{2}\\right)}{A_{10} q^{2} + A_{11} q + A_{12}}$"
      ],
      "text/plain": [
       "       ⎛            6               5               4               5         \n",
       "A₁₃⋅ρ²⋅⎝A₁⋅A₁₄⋅A₂₀⋅q  + A₁⋅A₁₄⋅A₂₁⋅q  + A₁⋅A₁₄⋅A₂₂⋅q  + A₁⋅A₁₅⋅A₂₀⋅q  + A₁⋅A₁₅\n",
       "──────────────────────────────────────────────────────────────────────────────\n",
       "                                                                              \n",
       "                                                                              \n",
       "\n",
       "      4               3               4               3               2       \n",
       "⋅A₂₁⋅q  + A₁⋅A₁₅⋅A₂₂⋅q  + A₁⋅A₁₆⋅A₂₀⋅q  + A₁⋅A₁₆⋅A₂₁⋅q  + A₁⋅A₁₆⋅A₂₂⋅q  - A₁⋅A\n",
       "──────────────────────────────────────────────────────────────────────────────\n",
       "                                                                              \n",
       "                                                                              \n",
       "\n",
       "  2  6                 5                 4         2  4                 3     \n",
       "₁₇ ⋅q  - 2⋅A₁⋅A₁₇⋅A₁₈⋅q  - 2⋅A₁⋅A₁₇⋅A₁₉⋅q  - A₁⋅A₁₈ ⋅q  - 2⋅A₁⋅A₁₈⋅A₁₉⋅q  - A₁\n",
       "──────────────────────────────────────────────────────────────────────────────\n",
       "                                                                              \n",
       "                                                                              \n",
       "\n",
       "    2  2               5               4               3               4      \n",
       "⋅A₁₉ ⋅q  + A₁₄⋅A₂⋅A₂₀⋅q  + A₁₄⋅A₂⋅A₂₁⋅q  + A₁₄⋅A₂⋅A₂₂⋅q  + A₁₄⋅A₂₀⋅A₃⋅q  + A₁₄\n",
       "──────────────────────────────────────────────────────────────────────────────\n",
       "                                                                              \n",
       "                                                                              \n",
       "\n",
       "         3               2         2  6                5                4     \n",
       "⋅A₂₁⋅A₃⋅q  + A₁₄⋅A₂₂⋅A₃⋅q  - A₁₄⋅A₇ ⋅q  - 2⋅A₁₄⋅A₇⋅A₈⋅q  - 2⋅A₁₄⋅A₇⋅A₉⋅q  - A₁\n",
       "──────────────────────────────────────────────────────────────────────────────\n",
       "                                                                              \n",
       "                                                                              \n",
       "\n",
       "    2  4                3         2  2               4               3        \n",
       "₄⋅A₈ ⋅q  - 2⋅A₁₄⋅A₈⋅A₉⋅q  - A₁₄⋅A₉ ⋅q  + A₁₅⋅A₂⋅A₂₀⋅q  + A₁₅⋅A₂⋅A₂₁⋅q  + A₁₅⋅A\n",
       "──────────────────────────────────────────────────────────────────────────────\n",
       "                                                                              \n",
       "                                                                              \n",
       "\n",
       "       2               3               2                        2  5          \n",
       "₂⋅A₂₂⋅q  + A₁₅⋅A₂₀⋅A₃⋅q  + A₁₅⋅A₂₁⋅A₃⋅q  + A₁₅⋅A₂₂⋅A₃⋅q - A₁₅⋅A₇ ⋅q  - 2⋅A₁₅⋅A\n",
       "──────────────────────────────────────────────────────────────────────────────\n",
       "                                                                              \n",
       "                                                                              \n",
       "\n",
       "      4                3         2  3                2         2              \n",
       "₇⋅A₈⋅q  - 2⋅A₁₅⋅A₇⋅A₉⋅q  - A₁₅⋅A₈ ⋅q  - 2⋅A₁₅⋅A₈⋅A₉⋅q  - A₁₅⋅A₉ ⋅q + A₁₆⋅A₂⋅A₂\n",
       "──────────────────────────────────────────────────────────────────────────────\n",
       "                                                                              \n",
       "                                                                              \n",
       "\n",
       "   3               2                              2                           \n",
       "₀⋅q  + A₁₆⋅A₂⋅A₂₁⋅q  + A₁₆⋅A₂⋅A₂₂⋅q + A₁₆⋅A₂₀⋅A₃⋅q  + A₁₆⋅A₂₁⋅A₃⋅q + A₁₆⋅A₂₂⋅A\n",
       "──────────────────────────────────────────────────────────────────────────────\n",
       "                                                                              \n",
       "                                                                              \n",
       "\n",
       "          2  4                3                2         2  2                 \n",
       "₃ - A₁₆⋅A₇ ⋅q  - 2⋅A₁₆⋅A₇⋅A₈⋅q  - 2⋅A₁₆⋅A₇⋅A₉⋅q  - A₁₆⋅A₈ ⋅q  - 2⋅A₁₆⋅A₈⋅A₉⋅q \n",
       "──────────────────────────────────────────────────────────────────────────────\n",
       "                                                                              \n",
       "                                                                              \n",
       "\n",
       "        2      2     5      2     4                 4                 3       \n",
       "- A₁₆⋅A₉  - A₁₇ ⋅A₂⋅q  - A₁₇ ⋅A₃⋅q  - 2⋅A₁₇⋅A₁₈⋅A₂⋅q  - 2⋅A₁₇⋅A₁₈⋅A₃⋅q  - 2⋅A₁\n",
       "──────────────────────────────────────────────────────────────────────────────\n",
       "                                                            2                 \n",
       "                                                       A₁₀⋅q  + A₁₁⋅q + A₁₂   \n",
       "\n",
       "          3                 2                6                5               \n",
       "₇⋅A₁₉⋅A₂⋅q  - 2⋅A₁₇⋅A₁₉⋅A₃⋅q  + 2⋅A₁₇⋅A₄⋅A₇⋅q  + 2⋅A₁₇⋅A₄⋅A₈⋅q  + 2⋅A₁₇⋅A₄⋅A₉⋅\n",
       "──────────────────────────────────────────────────────────────────────────────\n",
       "                                                                              \n",
       "                                                                              \n",
       "\n",
       " 4                5                4                3                4        \n",
       "q  + 2⋅A₁₇⋅A₅⋅A₇⋅q  + 2⋅A₁₇⋅A₅⋅A₈⋅q  + 2⋅A₁₇⋅A₅⋅A₉⋅q  + 2⋅A₁₇⋅A₆⋅A₇⋅q  + 2⋅A₁₇\n",
       "──────────────────────────────────────────────────────────────────────────────\n",
       "                                                                              \n",
       "                                                                              \n",
       "\n",
       "        3                2      2     3      2     2                 2        \n",
       "⋅A₆⋅A₈⋅q  + 2⋅A₁₇⋅A₆⋅A₉⋅q  - A₁₈ ⋅A₂⋅q  - A₁₈ ⋅A₃⋅q  - 2⋅A₁₈⋅A₁₉⋅A₂⋅q  - 2⋅A₁₈\n",
       "──────────────────────────────────────────────────────────────────────────────\n",
       "                                                                              \n",
       "                                                                              \n",
       "\n",
       "                         5                4                3                4 \n",
       "⋅A₁₉⋅A₃⋅q + 2⋅A₁₈⋅A₄⋅A₇⋅q  + 2⋅A₁₈⋅A₄⋅A₈⋅q  + 2⋅A₁₈⋅A₄⋅A₉⋅q  + 2⋅A₁₈⋅A₅⋅A₇⋅q  \n",
       "──────────────────────────────────────────────────────────────────────────────\n",
       "                                                                              \n",
       "                                                                              \n",
       "\n",
       "               3                2                3                2           \n",
       "+ 2⋅A₁₈⋅A₅⋅A₈⋅q  + 2⋅A₁₈⋅A₅⋅A₉⋅q  + 2⋅A₁₈⋅A₆⋅A₇⋅q  + 2⋅A₁₈⋅A₆⋅A₈⋅q  + 2⋅A₁₈⋅A₆\n",
       "──────────────────────────────────────────────────────────────────────────────\n",
       "                                                                              \n",
       "                                                                              \n",
       "\n",
       "           2           2                   4                3                2\n",
       "⋅A₉⋅q - A₁₉ ⋅A₂⋅q - A₁₉ ⋅A₃ + 2⋅A₁₉⋅A₄⋅A₇⋅q  + 2⋅A₁₉⋅A₄⋅A₈⋅q  + 2⋅A₁₉⋅A₄⋅A₉⋅q \n",
       "──────────────────────────────────────────────────────────────────────────────\n",
       "                                                                              \n",
       "                                                                              \n",
       "\n",
       "                3                2                                2           \n",
       " + 2⋅A₁₉⋅A₅⋅A₇⋅q  + 2⋅A₁₉⋅A₅⋅A₈⋅q  + 2⋅A₁₉⋅A₅⋅A₉⋅q + 2⋅A₁₉⋅A₆⋅A₇⋅q  + 2⋅A₁₉⋅A₆\n",
       "──────────────────────────────────────────────────────────────────────────────\n",
       "                                                                              \n",
       "                                                                              \n",
       "\n",
       "                            2  6                5                4         2  \n",
       "⋅A₈⋅q + 2⋅A₁₉⋅A₆⋅A₉ - A₂₀⋅A₄ ⋅q  - 2⋅A₂₀⋅A₄⋅A₅⋅q  - 2⋅A₂₀⋅A₄⋅A₆⋅q  - A₂₀⋅A₅ ⋅q\n",
       "──────────────────────────────────────────────────────────────────────────────\n",
       "                                                                              \n",
       "                                                                              \n",
       "\n",
       "4                3         2  2         2  5                4                3\n",
       "  - 2⋅A₂₀⋅A₅⋅A₆⋅q  - A₂₀⋅A₆ ⋅q  - A₂₁⋅A₄ ⋅q  - 2⋅A₂₁⋅A₄⋅A₅⋅q  - 2⋅A₂₁⋅A₄⋅A₆⋅q \n",
       "──────────────────────────────────────────────────────────────────────────────\n",
       "                                                                              \n",
       "                                                                              \n",
       "\n",
       "         2  3                2         2           2  4                3      \n",
       " - A₂₁⋅A₅ ⋅q  - 2⋅A₂₁⋅A₅⋅A₆⋅q  - A₂₁⋅A₆ ⋅q - A₂₂⋅A₄ ⋅q  - 2⋅A₂₂⋅A₄⋅A₅⋅q  - 2⋅A\n",
       "──────────────────────────────────────────────────────────────────────────────\n",
       "                                                                              \n",
       "                                                                              \n",
       "\n",
       "          2         2  2                         2⎞\n",
       "₂₂⋅A₄⋅A₆⋅q  - A₂₂⋅A₅ ⋅q  - 2⋅A₂₂⋅A₅⋅A₆⋅q - A₂₂⋅A₆ ⎠\n",
       "───────────────────────────────────────────────────\n",
       "                                                   \n",
       "                                                   "
      ]
     },
     "execution_count": 30,
     "metadata": {},
     "output_type": "execute_result"
    }
   ],
   "source": [
    "det_g = g_mat_simp.det()\n",
    "det_g"
   ]
  },
  {
   "cell_type": "code",
   "execution_count": 31,
   "metadata": {},
   "outputs": [],
   "source": [
    "numerator, denominator = sympy.fraction(det_g)"
   ]
  },
  {
   "cell_type": "code",
   "execution_count": 32,
   "metadata": {},
   "outputs": [],
   "source": [
    "numerator = numerator.expand().collect(q)"
   ]
  },
  {
   "cell_type": "code",
   "execution_count": 33,
   "metadata": {},
   "outputs": [],
   "source": [
    "B_0, B_1, B_2, B_3, B_4, B_5, B_6 = sympy.symbols(\"B_0 B_1 B_2 B_3 B_4 B_5 B_6\")"
   ]
  },
  {
   "cell_type": "code",
   "execution_count": 34,
   "metadata": {},
   "outputs": [],
   "source": [
    "B_1_val = numerator.coeff(q)\n",
    "B_2_val = numerator.coeff(q ** 2)\n",
    "B_3_val = numerator.coeff(q ** 3)\n",
    "B_4_val = numerator.coeff(q ** 4)\n",
    "B_5_val = numerator.coeff(q ** 5)\n",
    "B_6_val = numerator.coeff(q ** 6)\n",
    "B_0_val = numerator - B_1_val * q - B_2_val * q ** 2 - B_3_val * q ** 3 - B_4_val * q ** 4 - B_5_val * q ** 5 - B_6_val * q ** 6"
   ]
  },
  {
   "attachments": {},
   "cell_type": "markdown",
   "metadata": {},
   "source": [
    "The simplified determinant in terms of powers of q is the following."
   ]
  },
  {
   "cell_type": "code",
   "execution_count": 35,
   "metadata": {},
   "outputs": [
    {
     "data": {
      "image/png": "[encoded data removed]",
      "text/latex": [
       "$\\displaystyle \\frac{B_{0} + B_{1} q + B_{2} q^{2} + B_{3} q^{3} + B_{4} q^{4} + B_{5} q^{5} + B_{6} q^{6}}{A_{10} q^{2} + A_{11} q + A_{12}}$"
      ],
      "text/plain": [
       "                2       3       4       5       6\n",
       "B₀ + B₁⋅q + B₂⋅q  + B₃⋅q  + B₄⋅q  + B₅⋅q  + B₆⋅q \n",
       "─────────────────────────────────────────────────\n",
       "                    2                            \n",
       "               A₁₀⋅q  + A₁₁⋅q + A₁₂              "
      ]
     },
     "execution_count": 35,
     "metadata": {},
     "output_type": "execute_result"
    }
   ],
   "source": [
    "numerator = (B_0 + B_1 * q + B_2 * q ** 2 + B_3 * q ** 3 + B_4 * q ** 4 + B_5 * q ** 5 + B_6 * q ** 6)\n",
    "det_g_simp = numerator / denominator\n",
    "det_g_simp"
   ]
  },
  {
   "attachments": {},
   "cell_type": "markdown",
   "metadata": {},
   "source": [
    "Introduce q."
   ]
  },
  {
   "cell_type": "code",
   "execution_count": 36,
   "metadata": {},
   "outputs": [
    {
     "data": {
      "image/png": "[encoded data removed]",
      "text/latex": [
       "$\\displaystyle \\left(- a + i r_{+}\\right) \\left(b - i r_{+}\\right) \\left(- i r_{+} + 1\\right)$"
      ],
      "text/plain": [
       "(-a + ⅈ⋅r₊)⋅(b - ⅈ⋅r₊)⋅(-ⅈ⋅r₊ + 1)"
      ]
     },
     "execution_count": 36,
     "metadata": {},
     "output_type": "execute_result"
    }
   ],
   "source": [
    "q_val = -(a - sympy.I * rplus) * (b - sympy.I * rplus) * (1 - sympy.I * rplus)\n",
    "q_val"
   ]
  },
  {
   "cell_type": "code",
   "execution_count": 37,
   "metadata": {},
   "outputs": [
    {
     "data": {
      "image/png": "[encoded data removed]",
      "text/latex": [
       "$\\displaystyle - a b + a r_{+}^{2} + b r_{+}^{2} + r_{+}^{2} + i \\left(a b r_{+} + a r_{+} + b r_{+} - r_{+}^{3}\\right)$"
      ],
      "text/plain": [
       "           2       2     2     ⎛                         3⎞\n",
       "-a⋅b + a⋅r₊  + b⋅r₊  + r₊  + ⅈ⋅⎝a⋅b⋅r₊ + a⋅r₊ + b⋅r₊ - r₊ ⎠"
      ]
     },
     "execution_count": 37,
     "metadata": {},
     "output_type": "execute_result"
    }
   ],
   "source": [
    "q_val = q_val.expand().collect(sympy.I)\n",
    "q_val"
   ]
  },
  {
   "cell_type": "code",
   "execution_count": 38,
   "metadata": {},
   "outputs": [],
   "source": [
    "q_i, q_r = sympy.symbols(\"q_i q_r\")\n",
    "q_i_val = q_val.coeff(sympy.I)\n",
    "q_r_val = q_val - q_i_val * sympy.I\n",
    "q_val = q_r + sympy.I * q_i"
   ]
  },
  {
   "cell_type": "code",
   "execution_count": 39,
   "metadata": {},
   "outputs": [
    {
     "data": {
      "image/png": "[encoded data removed]",
      "text/latex": [
       "$\\displaystyle - A_{10} q_{i}^{2} + A_{10} q_{r}^{2} + A_{11} q_{r} + A_{12} + i \\left(2 A_{10} q_{i} q_{r} + A_{11} q_{i}\\right)$"
      ],
      "text/plain": [
       "        2         2                                          \n",
       "- A₁₀⋅qᵢ  + A₁₀⋅qᵣ  + A₁₁⋅qᵣ + A₁₂ + ⅈ⋅(2⋅A₁₀⋅qᵢ⋅qᵣ + A₁₁⋅qᵢ)"
      ]
     },
     "execution_count": 39,
     "metadata": {},
     "output_type": "execute_result"
    }
   ],
   "source": [
    "denominator_with_q = denominator.subs({q: q_val}).expand().collect(sympy.I)\n",
    "denominator_with_q"
   ]
  },
  {
   "cell_type": "code",
   "execution_count": 40,
   "metadata": {},
   "outputs": [
    {
     "data": {
      "image/png": "[encoded data removed]",
      "text/latex": [
       "$\\displaystyle B_{0} + B_{1} q_{r} - B_{2} q_{i}^{2} + B_{2} q_{r}^{2} - 3 B_{3} q_{i}^{2} q_{r} + B_{3} q_{r}^{3} + B_{4} q_{i}^{4} - 6 B_{4} q_{i}^{2} q_{r}^{2} + B_{4} q_{r}^{4} + 5 B_{5} q_{i}^{4} q_{r} - 10 B_{5} q_{i}^{2} q_{r}^{3} + B_{5} q_{r}^{5} - B_{6} q_{i}^{6} + 15 B_{6} q_{i}^{4} q_{r}^{2} - 15 B_{6} q_{i}^{2} q_{r}^{4} + B_{6} q_{r}^{6} + i \\left(B_{1} q_{i} + 2 B_{2} q_{i} q_{r} - B_{3} q_{i}^{3} + 3 B_{3} q_{i} q_{r}^{2} - 4 B_{4} q_{i}^{3} q_{r} + 4 B_{4} q_{i} q_{r}^{3} + B_{5} q_{i}^{5} - 10 B_{5} q_{i}^{3} q_{r}^{2} + 5 B_{5} q_{i} q_{r}^{4} + 6 B_{6} q_{i}^{5} q_{r} - 20 B_{6} q_{i}^{3} q_{r}^{3} + 6 B_{6} q_{i} q_{r}^{5}\\right)$"
      ],
      "text/plain": [
       "                  2        2          2           3        4          2   2   \n",
       "B₀ + B₁⋅qᵣ - B₂⋅qᵢ  + B₂⋅qᵣ  - 3⋅B₃⋅qᵢ ⋅qᵣ + B₃⋅qᵣ  + B₄⋅qᵢ  - 6⋅B₄⋅qᵢ ⋅qᵣ  + \n",
       "\n",
       "     4          4              2   3        5        6           4   2        \n",
       "B₄⋅qᵣ  + 5⋅B₅⋅qᵢ ⋅qᵣ - 10⋅B₅⋅qᵢ ⋅qᵣ  + B₅⋅qᵣ  - B₆⋅qᵢ  + 15⋅B₆⋅qᵢ ⋅qᵣ  - 15⋅B₆\n",
       "\n",
       "   2   4        6     ⎛                          3             2          3   \n",
       "⋅qᵢ ⋅qᵣ  + B₆⋅qᵣ  + ⅈ⋅⎝B₁⋅qᵢ + 2⋅B₂⋅qᵢ⋅qᵣ - B₃⋅qᵢ  + 3⋅B₃⋅qᵢ⋅qᵣ  - 4⋅B₄⋅qᵢ ⋅qᵣ\n",
       "\n",
       "             3        5           3   2             4          5              \n",
       " + 4⋅B₄⋅qᵢ⋅qᵣ  + B₅⋅qᵢ  - 10⋅B₅⋅qᵢ ⋅qᵣ  + 5⋅B₅⋅qᵢ⋅qᵣ  + 6⋅B₆⋅qᵢ ⋅qᵣ - 20⋅B₆⋅qᵢ\n",
       "\n",
       "3   3             5⎞\n",
       " ⋅qᵣ  + 6⋅B₆⋅qᵢ⋅qᵣ ⎠"
      ]
     },
     "execution_count": 40,
     "metadata": {},
     "output_type": "execute_result"
    }
   ],
   "source": [
    "numerator_with_q = numerator.subs({q: q_val}).expand().collect(sympy.I)\n",
    "numerator_with_q"
   ]
  },
  {
   "cell_type": "code",
   "execution_count": 41,
   "metadata": {},
   "outputs": [
    {
     "data": {
      "image/png": "[encoded data removed]",
      "text/latex": [
       "$\\displaystyle \\frac{B_{0} + B_{1} q_{r} - B_{2} q_{i}^{2} + B_{2} q_{r}^{2} - 3 B_{3} q_{i}^{2} q_{r} + B_{3} q_{r}^{3} + B_{4} q_{i}^{4} - 6 B_{4} q_{i}^{2} q_{r}^{2} + B_{4} q_{r}^{4} + 5 B_{5} q_{i}^{4} q_{r} - 10 B_{5} q_{i}^{2} q_{r}^{3} + B_{5} q_{r}^{5} - B_{6} q_{i}^{6} + 15 B_{6} q_{i}^{4} q_{r}^{2} - 15 B_{6} q_{i}^{2} q_{r}^{4} + B_{6} q_{r}^{6} + i \\left(B_{1} q_{i} + 2 B_{2} q_{i} q_{r} - B_{3} q_{i}^{3} + 3 B_{3} q_{i} q_{r}^{2} - 4 B_{4} q_{i}^{3} q_{r} + 4 B_{4} q_{i} q_{r}^{3} + B_{5} q_{i}^{5} - 10 B_{5} q_{i}^{3} q_{r}^{2} + 5 B_{5} q_{i} q_{r}^{4} + 6 B_{6} q_{i}^{5} q_{r} - 20 B_{6} q_{i}^{3} q_{r}^{3} + 6 B_{6} q_{i} q_{r}^{5}\\right)}{- A_{10} q_{i}^{2} + A_{10} q_{r}^{2} + A_{11} q_{r} + A_{12} + i \\left(2 A_{10} q_{i} q_{r} + A_{11} q_{i}\\right)}$"
      ],
      "text/plain": [
       "                  2        2          2           3        4          2   2   \n",
       "B₀ + B₁⋅qᵣ - B₂⋅qᵢ  + B₂⋅qᵣ  - 3⋅B₃⋅qᵢ ⋅qᵣ + B₃⋅qᵣ  + B₄⋅qᵢ  - 6⋅B₄⋅qᵢ ⋅qᵣ  + \n",
       "──────────────────────────────────────────────────────────────────────────────\n",
       "                                                                              \n",
       "                                                                              \n",
       "\n",
       "     4          4              2   3        5        6           4   2        \n",
       "B₄⋅qᵣ  + 5⋅B₅⋅qᵢ ⋅qᵣ - 10⋅B₅⋅qᵢ ⋅qᵣ  + B₅⋅qᵣ  - B₆⋅qᵢ  + 15⋅B₆⋅qᵢ ⋅qᵣ  - 15⋅B₆\n",
       "──────────────────────────────────────────────────────────────────────────────\n",
       "                                                                 2         2  \n",
       "                                                         - A₁₀⋅qᵢ  + A₁₀⋅qᵣ  +\n",
       "\n",
       "   2   4        6     ⎛                          3             2          3   \n",
       "⋅qᵢ ⋅qᵣ  + B₆⋅qᵣ  + ⅈ⋅⎝B₁⋅qᵢ + 2⋅B₂⋅qᵢ⋅qᵣ - B₃⋅qᵢ  + 3⋅B₃⋅qᵢ⋅qᵣ  - 4⋅B₄⋅qᵢ ⋅qᵣ\n",
       "──────────────────────────────────────────────────────────────────────────────\n",
       "                                                                              \n",
       " A₁₁⋅qᵣ + A₁₂ + ⅈ⋅(2⋅A₁₀⋅qᵢ⋅qᵣ + A₁₁⋅qᵢ)                                      \n",
       "\n",
       "             3        5           3   2             4          5              \n",
       " + 4⋅B₄⋅qᵢ⋅qᵣ  + B₅⋅qᵢ  - 10⋅B₅⋅qᵢ ⋅qᵣ  + 5⋅B₅⋅qᵢ⋅qᵣ  + 6⋅B₆⋅qᵢ ⋅qᵣ - 20⋅B₆⋅qᵢ\n",
       "──────────────────────────────────────────────────────────────────────────────\n",
       "                                                                              \n",
       "                                                                              \n",
       "\n",
       "3   3             5⎞\n",
       " ⋅qᵣ  + 6⋅B₆⋅qᵢ⋅qᵣ ⎠\n",
       "────────────────────\n",
       "                    \n",
       "                    "
      ]
     },
     "execution_count": 41,
     "metadata": {},
     "output_type": "execute_result"
    }
   ],
   "source": [
    "det_g_simp_with_q = numerator_with_q / denominator_with_q\n",
    "det_g_simp_with_q"
   ]
  },
  {
   "cell_type": "code",
   "execution_count": 42,
   "metadata": {},
   "outputs": [],
   "source": [
    "alpha, beta, gamma, delta = sympy.symbols(\"alpha beta gamma delta\")\n",
    "beta_val = numerator_with_q.coeff(sympy.I)\n",
    "alpha_val = numerator_with_q - beta_val * sympy.I\n",
    "delta_val = denominator_with_q.coeff(sympy.I)\n",
    "gamma_val = denominator_with_q - delta_val * sympy.I"
   ]
  },
  {
   "cell_type": "code",
   "execution_count": 43,
   "metadata": {},
   "outputs": [],
   "source": [
    "norm = gamma ** 2 + delta ** 2"
   ]
  },
  {
   "cell_type": "code",
   "execution_count": 57,
   "metadata": {},
   "outputs": [],
   "source": [
    "det_g_final = ((alpha + sympy.I * beta) * (gamma - sympy.I * delta)).expand().collect(sympy.I)\n",
    "det_g_i = det_g_final.coeff(sympy.I)\n",
    "det_g_r = det_g_final - sympy.I * det_g_i"
   ]
  },
  {
   "cell_type": "code",
   "execution_count": 58,
   "metadata": {},
   "outputs": [],
   "source": [
    "det_g_r /= norm\n",
    "det_g_i /= norm"
   ]
  },
  {
   "attachments": {},
   "cell_type": "markdown",
   "metadata": {},
   "source": [
    "The final determinant is given by the following."
   ]
  },
  {
   "cell_type": "code",
   "execution_count": 59,
   "metadata": {},
   "outputs": [
    {
     "data": {
      "image/png": "[encoded data removed]",
      "text/latex": [
       "$\\displaystyle \\frac{i \\left(- \\alpha \\delta + \\beta \\gamma\\right)}{\\delta^{2} + \\gamma^{2}} + \\frac{\\alpha \\gamma + \\beta \\delta}{\\delta^{2} + \\gamma^{2}}$"
      ],
      "text/plain": [
       "ⅈ⋅(-α⋅δ + β⋅γ)   α⋅γ + β⋅δ\n",
       "────────────── + ─────────\n",
       "    2    2         2    2 \n",
       "   δ  + γ         δ  + γ  "
      ]
     },
     "execution_count": 59,
     "metadata": {},
     "output_type": "execute_result"
    }
   ],
   "source": [
    "det_g_final = det_g_r + det_g_i * sympy.I\n",
    "det_g_final"
   ]
  },
  {
   "attachments": {},
   "cell_type": "markdown",
   "metadata": {},
   "source": [
    "The real and imaginary parts are:"
   ]
  },
  {
   "cell_type": "code",
   "execution_count": 60,
   "metadata": {},
   "outputs": [
    {
     "data": {
      "image/png": "[encoded data removed]",
      "text/latex": [
       "$\\displaystyle \\frac{\\left(2 A_{10} q_{i} q_{r} + A_{11} q_{i}\\right) \\left(B_{1} q_{i} + 2 B_{2} q_{i} q_{r} - B_{3} q_{i}^{3} + 3 B_{3} q_{i} q_{r}^{2} - 4 B_{4} q_{i}^{3} q_{r} + 4 B_{4} q_{i} q_{r}^{3} + B_{5} q_{i}^{5} - 10 B_{5} q_{i}^{3} q_{r}^{2} + 5 B_{5} q_{i} q_{r}^{4} + 6 B_{6} q_{i}^{5} q_{r} - 20 B_{6} q_{i}^{3} q_{r}^{3} + 6 B_{6} q_{i} q_{r}^{5}\\right) + \\left(- A_{10} q_{i}^{2} + A_{10} q_{r}^{2} + A_{11} q_{r} + A_{12}\\right) \\left(B_{0} + B_{1} q_{r} - B_{2} q_{i}^{2} + B_{2} q_{r}^{2} - 3 B_{3} q_{i}^{2} q_{r} + B_{3} q_{r}^{3} + B_{4} q_{i}^{4} - 6 B_{4} q_{i}^{2} q_{r}^{2} + B_{4} q_{r}^{4} + 5 B_{5} q_{i}^{4} q_{r} - 10 B_{5} q_{i}^{2} q_{r}^{3} + B_{5} q_{r}^{5} - B_{6} q_{i}^{6} + 15 B_{6} q_{i}^{4} q_{r}^{2} - 15 B_{6} q_{i}^{2} q_{r}^{4} + B_{6} q_{r}^{6}\\right)}{\\left(2 A_{10} q_{i} q_{r} + A_{11} q_{i}\\right)^{2} + \\left(- A_{10} q_{i}^{2} + A_{10} q_{r}^{2} + A_{11} q_{r} + A_{12}\\right)^{2}}$"
      ],
      "text/plain": [
       "                       ⎛                          3             2          3  \n",
       "(2⋅A₁₀⋅qᵢ⋅qᵣ + A₁₁⋅qᵢ)⋅⎝B₁⋅qᵢ + 2⋅B₂⋅qᵢ⋅qᵣ - B₃⋅qᵢ  + 3⋅B₃⋅qᵢ⋅qᵣ  - 4⋅B₄⋅qᵢ ⋅q\n",
       "──────────────────────────────────────────────────────────────────────────────\n",
       "                                                                              \n",
       "                                                                              \n",
       "                                                                              \n",
       "\n",
       "              3        5           3   2             4          5             \n",
       "ᵣ + 4⋅B₄⋅qᵢ⋅qᵣ  + B₅⋅qᵢ  - 10⋅B₅⋅qᵢ ⋅qᵣ  + 5⋅B₅⋅qᵢ⋅qᵣ  + 6⋅B₆⋅qᵢ ⋅qᵣ - 20⋅B₆⋅q\n",
       "──────────────────────────────────────────────────────────────────────────────\n",
       "                                                                              \n",
       "                                                                              \n",
       "                                                                              \n",
       "\n",
       " 3   3             5⎞   ⎛        2         2               ⎞ ⎛                \n",
       "ᵢ ⋅qᵣ  + 6⋅B₆⋅qᵢ⋅qᵣ ⎠ + ⎝- A₁₀⋅qᵢ  + A₁₀⋅qᵣ  + A₁₁⋅qᵣ + A₁₂⎠⋅⎝B₀ + B₁⋅qᵣ - B₂⋅\n",
       "──────────────────────────────────────────────────────────────────────────────\n",
       "                                                                      2       \n",
       "                              2   ⎛        2         2               ⎞        \n",
       "        (2⋅A₁₀⋅qᵢ⋅qᵣ + A₁₁⋅qᵢ)  + ⎝- A₁₀⋅qᵢ  + A₁₀⋅qᵣ  + A₁₁⋅qᵣ + A₁₂⎠        \n",
       "\n",
       "  2        2          2           3        4          2   2        4          \n",
       "qᵢ  + B₂⋅qᵣ  - 3⋅B₃⋅qᵢ ⋅qᵣ + B₃⋅qᵣ  + B₄⋅qᵢ  - 6⋅B₄⋅qᵢ ⋅qᵣ  + B₄⋅qᵣ  + 5⋅B₅⋅qᵢ\n",
       "──────────────────────────────────────────────────────────────────────────────\n",
       "                                                                              \n",
       "                                                                              \n",
       "                                                                              \n",
       "\n",
       "4              2   3        5        6           4   2           2   4        \n",
       " ⋅qᵣ - 10⋅B₅⋅qᵢ ⋅qᵣ  + B₅⋅qᵣ  - B₆⋅qᵢ  + 15⋅B₆⋅qᵢ ⋅qᵣ  - 15⋅B₆⋅qᵢ ⋅qᵣ  + B₆⋅qᵣ\n",
       "──────────────────────────────────────────────────────────────────────────────\n",
       "                                                                              \n",
       "                                                                              \n",
       "                                                                              \n",
       "\n",
       "6⎞\n",
       " ⎠\n",
       "──\n",
       "  \n",
       "  \n",
       "  "
      ]
     },
     "execution_count": 60,
     "metadata": {},
     "output_type": "execute_result"
    }
   ],
   "source": [
    "det_g_r.subs({alpha: alpha_val, beta: beta_val, gamma: gamma_val, delta: delta_val})"
   ]
  },
  {
   "cell_type": "code",
   "execution_count": 61,
   "metadata": {},
   "outputs": [
    {
     "data": {
      "image/png": "[encoded data removed]",
      "text/latex": [
       "$\\displaystyle \\frac{- \\left(2 A_{10} q_{i} q_{r} + A_{11} q_{i}\\right) \\left(B_{0} + B_{1} q_{r} - B_{2} q_{i}^{2} + B_{2} q_{r}^{2} - 3 B_{3} q_{i}^{2} q_{r} + B_{3} q_{r}^{3} + B_{4} q_{i}^{4} - 6 B_{4} q_{i}^{2} q_{r}^{2} + B_{4} q_{r}^{4} + 5 B_{5} q_{i}^{4} q_{r} - 10 B_{5} q_{i}^{2} q_{r}^{3} + B_{5} q_{r}^{5} - B_{6} q_{i}^{6} + 15 B_{6} q_{i}^{4} q_{r}^{2} - 15 B_{6} q_{i}^{2} q_{r}^{4} + B_{6} q_{r}^{6}\\right) + \\left(- A_{10} q_{i}^{2} + A_{10} q_{r}^{2} + A_{11} q_{r} + A_{12}\\right) \\left(B_{1} q_{i} + 2 B_{2} q_{i} q_{r} - B_{3} q_{i}^{3} + 3 B_{3} q_{i} q_{r}^{2} - 4 B_{4} q_{i}^{3} q_{r} + 4 B_{4} q_{i} q_{r}^{3} + B_{5} q_{i}^{5} - 10 B_{5} q_{i}^{3} q_{r}^{2} + 5 B_{5} q_{i} q_{r}^{4} + 6 B_{6} q_{i}^{5} q_{r} - 20 B_{6} q_{i}^{3} q_{r}^{3} + 6 B_{6} q_{i} q_{r}^{5}\\right)}{\\left(2 A_{10} q_{i} q_{r} + A_{11} q_{i}\\right)^{2} + \\left(- A_{10} q_{i}^{2} + A_{10} q_{r}^{2} + A_{11} q_{r} + A_{12}\\right)^{2}}$"
      ],
      "text/plain": [
       "                         ⎛                  2        2          2           3 \n",
       "- (2⋅A₁₀⋅qᵢ⋅qᵣ + A₁₁⋅qᵢ)⋅⎝B₀ + B₁⋅qᵣ - B₂⋅qᵢ  + B₂⋅qᵣ  - 3⋅B₃⋅qᵢ ⋅qᵣ + B₃⋅qᵣ  \n",
       "──────────────────────────────────────────────────────────────────────────────\n",
       "                                                                              \n",
       "                                                                              \n",
       "                                                                              \n",
       "\n",
       "       4          2   2        4          4              2   3        5       \n",
       "+ B₄⋅qᵢ  - 6⋅B₄⋅qᵢ ⋅qᵣ  + B₄⋅qᵣ  + 5⋅B₅⋅qᵢ ⋅qᵣ - 10⋅B₅⋅qᵢ ⋅qᵣ  + B₅⋅qᵣ  - B₆⋅q\n",
       "──────────────────────────────────────────────────────────────────────────────\n",
       "                                                                              \n",
       "                                                                              \n",
       "                                                                              \n",
       "\n",
       " 6           4   2           2   4        6⎞   ⎛        2         2           \n",
       "ᵢ  + 15⋅B₆⋅qᵢ ⋅qᵣ  - 15⋅B₆⋅qᵢ ⋅qᵣ  + B₆⋅qᵣ ⎠ + ⎝- A₁₀⋅qᵢ  + A₁₀⋅qᵣ  + A₁₁⋅qᵣ +\n",
       "──────────────────────────────────────────────────────────────────────────────\n",
       "                                                                       2      \n",
       "                               2   ⎛        2         2               ⎞       \n",
       "         (2⋅A₁₀⋅qᵢ⋅qᵣ + A₁₁⋅qᵢ)  + ⎝- A₁₀⋅qᵢ  + A₁₀⋅qᵣ  + A₁₁⋅qᵣ + A₁₂⎠       \n",
       "\n",
       "    ⎞ ⎛                          3             2          3                3  \n",
       " A₁₂⎠⋅⎝B₁⋅qᵢ + 2⋅B₂⋅qᵢ⋅qᵣ - B₃⋅qᵢ  + 3⋅B₃⋅qᵢ⋅qᵣ  - 4⋅B₄⋅qᵢ ⋅qᵣ + 4⋅B₄⋅qᵢ⋅qᵣ  +\n",
       "──────────────────────────────────────────────────────────────────────────────\n",
       "                                                                              \n",
       "                                                                              \n",
       "                                                                              \n",
       "\n",
       "      5           3   2             4          5              3   3           \n",
       " B₅⋅qᵢ  - 10⋅B₅⋅qᵢ ⋅qᵣ  + 5⋅B₅⋅qᵢ⋅qᵣ  + 6⋅B₆⋅qᵢ ⋅qᵣ - 20⋅B₆⋅qᵢ ⋅qᵣ  + 6⋅B₆⋅qᵢ⋅\n",
       "──────────────────────────────────────────────────────────────────────────────\n",
       "                                                                              \n",
       "                                                                              \n",
       "                                                                              \n",
       "\n",
       "  5⎞\n",
       "qᵣ ⎠\n",
       "────\n",
       "    \n",
       "    \n",
       "    "
      ]
     },
     "execution_count": 61,
     "metadata": {},
     "output_type": "execute_result"
    }
   ],
   "source": [
    "det_g_i.subs({alpha: alpha_val, beta: beta_val, gamma: gamma_val, delta: delta_val})"
   ]
  },
  {
   "attachments": {},
   "cell_type": "markdown",
   "metadata": {},
   "source": [
    "### Metric Eigenvalues"
   ]
  },
  {
   "cell_type": "code",
   "execution_count": 154,
   "metadata": {},
   "outputs": [],
   "source": [
    "eigenvalues = g_mat_simp.eigenvals()"
   ]
  },
  {
   "cell_type": "code",
   "execution_count": 156,
   "metadata": {},
   "outputs": [],
   "source": [
    "eigv = list(eigenvalues.keys())"
   ]
  },
  {
   "cell_type": "code",
   "execution_count": 162,
   "metadata": {},
   "outputs": [
    {
     "data": {
      "image/png": "[encoded data removed]",
      "text/latex": [
       "$\\displaystyle \\frac{\\rho^{2}}{A_{10} q^{2} + A_{11} q + A_{12}}$"
      ],
      "text/plain": [
       "         ρ²         \n",
       "────────────────────\n",
       "     2              \n",
       "A₁₀⋅q  + A₁₁⋅q + A₁₂"
      ]
     },
     "execution_count": 162,
     "metadata": {},
     "output_type": "execute_result"
    }
   ],
   "source": [
    "eigv[3]"
   ]
  },
  {
   "attachments": {},
   "cell_type": "markdown",
   "metadata": {},
   "source": [
    "### Other Functions"
   ]
  },
  {
   "cell_type": "code",
   "execution_count": 80,
   "metadata": {},
   "outputs": [
    {
     "data": {
      "image/png": "[encoded data removed]",
      "text/latex": [
       "$\\displaystyle - a^{2} g^{2} \\cos^{2}{\\left(\\theta \\right)} - b^{2} g^{2} \\sin^{2}{\\left(\\theta \\right)} + 1$"
      ],
      "text/plain": [
       "   2  2    2       2  2    2       \n",
       "- a ⋅g ⋅cos (θ) - b ⋅g ⋅sin (θ) + 1"
      ]
     },
     "execution_count": 80,
     "metadata": {},
     "output_type": "execute_result"
    }
   ],
   "source": [
    "delta_theta = 1 - a ** 2 * g ** 2 * sympy.cos(theta) ** 2 - b ** 2 * g ** 2 * sympy.sin(theta) ** 2\n",
    "delta_theta"
   ]
  },
  {
   "cell_type": "code",
   "execution_count": 81,
   "metadata": {},
   "outputs": [
    {
     "data": {
      "image/png": "[encoded data removed]",
      "text/latex": [
       "$\\displaystyle - a^{2} g^{2} + 1$"
      ],
      "text/plain": [
       "   2  2    \n",
       "- a ⋅g  + 1"
      ]
     },
     "execution_count": 81,
     "metadata": {},
     "output_type": "execute_result"
    }
   ],
   "source": [
    "xi_a = 1 - a ** 2 * g ** 2\n",
    "xi_a"
   ]
  },
  {
   "cell_type": "code",
   "execution_count": 82,
   "metadata": {},
   "outputs": [
    {
     "data": {
      "image/png": "[encoded data removed]",
      "text/latex": [
       "$\\displaystyle - b^{2} g^{2} + 1$"
      ],
      "text/plain": [
       "   2  2    \n",
       "- b ⋅g  + 1"
      ]
     },
     "execution_count": 82,
     "metadata": {},
     "output_type": "execute_result"
    }
   ],
   "source": [
    "xi_b = 1 - b ** 2 * g ** 2\n",
    "xi_b"
   ]
  },
  {
   "cell_type": "code",
   "execution_count": 52,
   "metadata": {},
   "outputs": [
    {
     "data": {
      "image/png": "[encoded data removed]",
      "text/latex": [
       "$\\displaystyle a^{2} \\cos^{2}{\\left(\\theta \\right)} + b^{2} \\sin^{2}{\\left(\\theta \\right)} + r^{2}$"
      ],
      "text/plain": [
       " 2    2       2    2       2\n",
       "a ⋅cos (θ) + b ⋅sin (θ) + r "
      ]
     },
     "execution_count": 52,
     "metadata": {},
     "output_type": "execute_result"
    }
   ],
   "source": [
    "rho_squared = r ** 2 + a ** 2 * sympy.cos(theta) ** 2 + b ** 2 * sympy.sin(theta) ** 2\n",
    "rho_squared"
   ]
  }
 ],
 "metadata": {
  "kernelspec": {
   "display_name": "env",
   "language": "python",
   "name": "python3"
  },
  "language_info": {
   "codemirror_mode": {
    "name": "ipython",
    "version": 3
   },
   "file_extension": ".py",
   "mimetype": "text/x-python",
   "name": "python",
   "nbconvert_exporter": "python",
   "pygments_lexer": "ipython3",
   "version": "3.10.3"
  },
  "orig_nbformat": 4
 },
 "nbformat": 4,
 "nbformat_minor": 2
}
