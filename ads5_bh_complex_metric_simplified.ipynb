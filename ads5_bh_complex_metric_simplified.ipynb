{
 "cells": [
  {
   "cell_type": "code",
   "execution_count": 1,
   "metadata": {},
   "outputs": [],
   "source": [
    "import sympy\n",
    "\n",
    "sympy.init_printing()"
   ]
  },
  {
   "attachments": {},
   "cell_type": "markdown",
   "metadata": {},
   "source": [
    "### Variable Definitions"
   ]
  },
  {
   "cell_type": "code",
   "execution_count": 2,
   "metadata": {},
   "outputs": [],
   "source": [
    "t, r, theta, phi, psi = sympy.symbols(\"t r theta phi psi\")"
   ]
  },
  {
   "cell_type": "code",
   "execution_count": 3,
   "metadata": {},
   "outputs": [],
   "source": [
    "dt, dr, dtheta, dphi, dpsi = sympy.symbols(r\"dt dr d\\theta d\\phi d\\psi\")"
   ]
  },
  {
   "cell_type": "code",
   "execution_count": 4,
   "metadata": {},
   "outputs": [],
   "source": [
    "a, b, m, q, g = sympy.symbols(\"a b m q g\")"
   ]
  },
  {
   "cell_type": "code",
   "execution_count": 5,
   "metadata": {},
   "outputs": [],
   "source": [
    "rplus = sympy.symbols(\"r_+\")"
   ]
  },
  {
   "cell_type": "code",
   "execution_count": 6,
   "metadata": {},
   "outputs": [],
   "source": [
    "delta_r, delta_theta, rho, xi_a, xi_b, f = sympy.symbols(\"Delta_r Delta_theta rho Xi_a Xi_b f\")"
   ]
  },
  {
   "cell_type": "code",
   "execution_count": 7,
   "metadata": {},
   "outputs": [],
   "source": [
    "nu, omega = sympy.symbols(\"nu omega\")"
   ]
  },
  {
   "attachments": {},
   "cell_type": "markdown",
   "metadata": {},
   "source": [
    "### Metric"
   ]
  },
  {
   "cell_type": "code",
   "execution_count": 8,
   "metadata": {},
   "outputs": [],
   "source": [
    "metric = -delta_theta * ((1 + g ** 2 * r ** 2) * rho ** 2 * dt + 2 * q * nu) * dt / (xi_a * xi_b * rho ** 2)\n",
    "metric += 2 * q * nu * omega / rho ** 2\n",
    "metric += f * ((delta_theta * dt) / (xi_a * xi_b) - omega) ** 2 / rho ** 4\n",
    "metric += rho ** 2 * dr ** 2 / delta_r\n",
    "metric += rho ** 2 * dtheta ** 2 / delta_theta\n",
    "metric += (r ** 2 + a ** 2) * sympy.sin(theta) ** 2 * dphi ** 2 / xi_a\n",
    "metric += (r ** 2 + b ** 2) * sympy.cos(theta) ** 2 * dpsi ** 2 / xi_b"
   ]
  },
  {
   "cell_type": "code",
   "execution_count": 9,
   "metadata": {},
   "outputs": [
    {
     "data": {
      "image/png": "[encoded data removed]",
      "text/latex": [
       "$\\displaystyle - \\frac{\\Delta_{\\theta} dt \\left(dt \\rho^{2} \\left(g^{2} r^{2} + 1\\right) + 2 \\nu q\\right)}{\\Xi_{a} \\Xi_{b} \\rho^{2}} + \\frac{f \\left(\\frac{\\Delta_{\\theta} dt}{\\Xi_{a} \\Xi_{b}} - \\omega\\right)^{2}}{\\rho^{4}} + \\frac{2 \\nu \\omega q}{\\rho^{2}} + \\frac{d\\psi^{2} \\left(b^{2} + r^{2}\\right) \\cos^{2}{\\left(\\theta \\right)}}{\\Xi_{b}} + \\frac{d\\phi^{2} \\left(a^{2} + r^{2}\\right) \\sin^{2}{\\left(\\theta \\right)}}{\\Xi_{a}} + \\frac{d\\theta^{2} \\rho^{2}}{\\Delta_{\\theta}} + \\frac{dr^{2} \\rho^{2}}{\\Delta_{r}}$"
      ],
      "text/plain": [
       "                                                           2                  \n",
       "                                            ⎛Δₜₕₑₜₐ⋅dt    ⎞                   \n",
       "            ⎛    2 ⎛ 2  2    ⎞        ⎞   f⋅⎜───────── - ω⎟                   \n",
       "  Δₜₕₑₜₐ⋅dt⋅⎝dt⋅ρ ⋅⎝g ⋅r  + 1⎠ + 2⋅ν⋅q⎠     ⎝  Ξₐ⋅Ξ_b     ⎠    2⋅ν⋅ω⋅q   d\\psi\n",
       "- ───────────────────────────────────── + ────────────────── + ─────── + ─────\n",
       "                        2                          4               2          \n",
       "                Ξₐ⋅Ξ_b⋅ρ                          ρ               ρ           \n",
       "\n",
       "                                                                     \n",
       "                                                                     \n",
       "2 ⎛ 2    2⎞    2           2 ⎛ 2    2⎞    2             2  2     2  2\n",
       " ⋅⎝b  + r ⎠⋅cos (θ)   d\\phi ⋅⎝a  + r ⎠⋅sin (θ)   d\\theta ⋅ρ    dr ⋅ρ \n",
       "─────────────────── + ──────────────────────── + ─────────── + ──────\n",
       "     Ξ_b                         Ξₐ                 Δₜₕₑₜₐ       Δᵣ  \n",
       "                                                                     "
      ]
     },
     "execution_count": 9,
     "metadata": {},
     "output_type": "execute_result"
    }
   ],
   "source": [
    "metric"
   ]
  },
  {
   "cell_type": "code",
   "execution_count": 10,
   "metadata": {},
   "outputs": [
    {
     "data": {
      "image/png": "[encoded data removed]",
      "text/latex": [
       "$\\displaystyle a d\\psi \\cos^{2}{\\left(\\theta \\right)} + b d\\phi \\sin^{2}{\\left(\\theta \\right)}$"
      ],
      "text/plain": [
       "           2                 2   \n",
       "a⋅d\\psi⋅cos (θ) + b⋅d\\phi⋅sin (θ)"
      ]
     },
     "execution_count": 10,
     "metadata": {},
     "output_type": "execute_result"
    }
   ],
   "source": [
    "nu_val = b * sympy.sin(theta) ** 2 * dphi + a * sympy.cos(theta) ** 2 * dpsi\n",
    "nu_val"
   ]
  },
  {
   "cell_type": "code",
   "execution_count": 11,
   "metadata": {},
   "outputs": [
    {
     "data": {
      "image/png": "[encoded data removed]",
      "text/latex": [
       "$\\displaystyle \\frac{b d\\psi \\cos^{2}{\\left(\\theta \\right)}}{\\Xi_{b}} + \\frac{a d\\phi \\sin^{2}{\\left(\\theta \\right)}}{\\Xi_{a}}$"
      ],
      "text/plain": [
       "           2                 2   \n",
       "b⋅d\\psi⋅cos (θ)   a⋅d\\phi⋅sin (θ)\n",
       "─────────────── + ───────────────\n",
       "      Ξ_b                Ξₐ      "
      ]
     },
     "execution_count": 11,
     "metadata": {},
     "output_type": "execute_result"
    }
   ],
   "source": [
    "omega_val = a * sympy.sin(theta) ** 2 * dphi / xi_a + b * sympy.cos(theta) ** 2 * dpsi / xi_b\n",
    "omega_val"
   ]
  },
  {
   "cell_type": "code",
   "execution_count": 12,
   "metadata": {},
   "outputs": [
    {
     "data": {
      "image/png": "[encoded data removed]",
      "text/latex": [
       "$\\displaystyle \\frac{\\Delta_{\\theta}^{2} dt^{2} f}{\\Xi_{a}^{2} \\Xi_{b}^{2} \\rho^{4}} - \\frac{2 \\Delta_{\\theta} a d\\psi dt q \\cos^{2}{\\left(\\theta \\right)}}{\\Xi_{a} \\Xi_{b} \\rho^{2}} - \\frac{2 \\Delta_{\\theta} b d\\phi dt q \\sin^{2}{\\left(\\theta \\right)}}{\\Xi_{a} \\Xi_{b} \\rho^{2}} - \\frac{\\Delta_{\\theta} dt^{2} g^{2} r^{2}}{\\Xi_{a} \\Xi_{b}} - \\frac{\\Delta_{\\theta} dt^{2}}{\\Xi_{a} \\Xi_{b}} - \\frac{2 \\Delta_{\\theta} b d\\psi dt f \\cos^{2}{\\left(\\theta \\right)}}{\\Xi_{a} \\Xi_{b}^{2} \\rho^{4}} - \\frac{2 \\Delta_{\\theta} a d\\phi dt f \\sin^{2}{\\left(\\theta \\right)}}{\\Xi_{a}^{2} \\Xi_{b} \\rho^{4}} + \\frac{2 a b d\\psi^{2} q \\cos^{4}{\\left(\\theta \\right)}}{\\Xi_{b} \\rho^{2}} + \\frac{2 b^{2} d\\phi d\\psi q \\sin^{2}{\\left(\\theta \\right)} \\cos^{2}{\\left(\\theta \\right)}}{\\Xi_{b} \\rho^{2}} + \\frac{b^{2} d\\psi^{2} \\cos^{2}{\\left(\\theta \\right)}}{\\Xi_{b}} + \\frac{d\\psi^{2} r^{2} \\cos^{2}{\\left(\\theta \\right)}}{\\Xi_{b}} + \\frac{b^{2} d\\psi^{2} f \\cos^{4}{\\left(\\theta \\right)}}{\\Xi_{b}^{2} \\rho^{4}} + \\frac{a^{2} d\\phi^{2} \\sin^{2}{\\left(\\theta \\right)}}{\\Xi_{a}} + \\frac{2 a^{2} d\\phi d\\psi q \\sin^{2}{\\left(\\theta \\right)} \\cos^{2}{\\left(\\theta \\right)}}{\\Xi_{a} \\rho^{2}} + \\frac{2 a b d\\phi^{2} q \\sin^{4}{\\left(\\theta \\right)}}{\\Xi_{a} \\rho^{2}} + \\frac{d\\phi^{2} r^{2} \\sin^{2}{\\left(\\theta \\right)}}{\\Xi_{a}} + \\frac{2 a b d\\phi d\\psi f \\sin^{2}{\\left(\\theta \\right)} \\cos^{2}{\\left(\\theta \\right)}}{\\Xi_{a} \\Xi_{b} \\rho^{4}} + \\frac{a^{2} d\\phi^{2} f \\sin^{4}{\\left(\\theta \\right)}}{\\Xi_{a}^{2} \\rho^{4}} + \\frac{d\\theta^{2} \\rho^{2}}{\\Delta_{\\theta}} + \\frac{dr^{2} \\rho^{2}}{\\Delta_{r}}$"
      ],
      "text/plain": [
       "      2   2                              2                               2    \n",
       "Δₜₕₑₜₐ ⋅dt ⋅f   2⋅Δₜₕₑₜₐ⋅a⋅d\\psi⋅dt⋅q⋅cos (θ)   2⋅Δₜₕₑₜₐ⋅b⋅d\\phi⋅dt⋅q⋅sin (θ) \n",
       "───────────── - ───────────────────────────── - ───────────────────────────── \n",
       "   2    2  4                      2                               2           \n",
       " Ξₐ ⋅Ξ_b ⋅ρ               Ξₐ⋅Ξ_b⋅ρ                        Ξₐ⋅Ξ_b⋅ρ            \n",
       "\n",
       "           2  2  2            2                            2                  \n",
       "  Δₜₕₑₜₐ⋅dt ⋅g ⋅r    Δₜₕₑₜₐ⋅dt    2⋅Δₜₕₑₜₐ⋅b⋅d\\psi⋅dt⋅f⋅cos (θ)   2⋅Δₜₕₑₜₐ⋅a⋅d\n",
       "- ──────────────── - ────────── - ───────────────────────────── - ────────────\n",
       "       Ξₐ⋅Ξ_b          Ξₐ⋅Ξ_b                     2  4                        \n",
       "                                            Ξₐ⋅Ξ_b ⋅ρ                       Ξₐ\n",
       "\n",
       "             2                 2      4         2                  2       2  \n",
       "\\phi⋅dt⋅f⋅sin (θ)   2⋅a⋅b⋅d\\psi ⋅q⋅cos (θ)   2⋅b ⋅d\\phi⋅d\\psi⋅q⋅sin (θ)⋅cos (θ\n",
       "───────────────── + ────────────────────── + ─────────────────────────────────\n",
       "2      4                         2                              2             \n",
       " ⋅Ξ_b⋅ρ                     Ξ_b⋅ρ                          Ξ_b⋅ρ              \n",
       "\n",
       "     2      2    2           2  2    2       2      2      4       2      2   \n",
       ")   b ⋅d\\psi ⋅cos (θ)   d\\psi ⋅r ⋅cos (θ)   b ⋅d\\psi ⋅f⋅cos (θ)   a ⋅d\\phi ⋅si\n",
       "─ + ───────────────── + ───────────────── + ─────────────────── + ────────────\n",
       "           Ξ_b                 Ξ_b                   2  4                 Ξₐ  \n",
       "                                                  Ξ_b ⋅ρ                      \n",
       "\n",
       " 2         2                  2       2                 2      4           2  \n",
       "n (θ)   2⋅a ⋅d\\phi⋅d\\psi⋅q⋅sin (θ)⋅cos (θ)   2⋅a⋅b⋅d\\phi ⋅q⋅sin (θ)   d\\phi ⋅r\n",
       "───── + ────────────────────────────────── + ────────────────────── + ────────\n",
       "                          2                              2                    \n",
       "                      Ξₐ⋅ρ                           Ξₐ⋅ρ                     \n",
       "\n",
       "2    2                             2       2       2      2      4            \n",
       " ⋅sin (θ)   2⋅a⋅b⋅d\\phi⋅d\\psi⋅f⋅sin (θ)⋅cos (θ)   a ⋅d\\phi ⋅f⋅sin (θ)   d\\thet\n",
       "───────── + ─────────────────────────────────── + ─────────────────── + ──────\n",
       "Ξₐ                               4                         2  4            Δₜₕ\n",
       "                         Ξₐ⋅Ξ_b⋅ρ                        Ξₐ ⋅ρ                \n",
       "\n",
       " 2  2     2  2\n",
       "a ⋅ρ    dr ⋅ρ \n",
       "───── + ──────\n",
       "ₑₜₐ       Δᵣ  \n",
       "              "
      ]
     },
     "execution_count": 12,
     "metadata": {},
     "output_type": "execute_result"
    }
   ],
   "source": [
    "metric = metric.subs({nu: nu_val, omega: omega_val}).expand()\n",
    "metric"
   ]
  },
  {
   "attachments": {},
   "cell_type": "markdown",
   "metadata": {},
   "source": [
    "Make the simplification $a = b$. In this case, $\\Xi_a = \\Xi_b = \\Delta_\\theta$."
   ]
  },
  {
   "cell_type": "code",
   "execution_count": 13,
   "metadata": {},
   "outputs": [
    {
     "data": {
      "image/png": "[encoded data removed]",
      "text/latex": [
       "$\\displaystyle \\frac{2 \\Delta_{r} \\Delta_{\\theta} a q \\rho^{2} \\left(a d\\phi^{2} \\sin^{4}{\\left(\\theta \\right)} + \\frac{a d\\phi d\\psi \\left(1 - \\cos{\\left(4 \\theta \\right)}\\right)}{4} + a d\\psi^{2} \\cos^{4}{\\left(\\theta \\right)} - d\\phi dt \\sin^{2}{\\left(\\theta \\right)} - d\\psi dt \\cos^{2}{\\left(\\theta \\right)}\\right) + \\Delta_{r} \\Delta_{\\theta} \\rho^{4} \\left(a^{2} d\\phi^{2} \\sin^{2}{\\left(\\theta \\right)} + a^{2} d\\psi^{2} \\cos^{2}{\\left(\\theta \\right)} + d\\phi^{2} r^{2} \\sin^{2}{\\left(\\theta \\right)} + d\\psi^{2} r^{2} \\cos^{2}{\\left(\\theta \\right)} + d\\theta^{2} \\rho^{2} - dt^{2} g^{2} r^{2} - dt^{2}\\right) + \\Delta_{r} f \\left(a d\\phi \\sin^{2}{\\left(\\theta \\right)} - a d\\psi \\sin^{2}{\\left(\\theta \\right)} + a d\\psi - dt\\right)^{2} + \\Delta_{\\theta}^{2} dr^{2} \\rho^{6}}{\\Delta_{r} \\Delta_{\\theta}^{2} \\rho^{4}}$"
      ],
      "text/plain": [
       "                                                                              \n",
       "                 2 ⎛       2    4      a⋅d\\phi⋅d\\psi⋅(1 - cos(4⋅θ))          2\n",
       "2⋅Δᵣ⋅Δₜₕₑₜₐ⋅a⋅q⋅ρ ⋅⎜a⋅d\\phi ⋅sin (θ) + ──────────────────────────── + a⋅d\\psi \n",
       "                   ⎝                                4                         \n",
       "──────────────────────────────────────────────────────────────────────────────\n",
       "                                                                              \n",
       "                                                                              \n",
       "\n",
       "                                                                              \n",
       "    4                  2                  2   ⎞              4 ⎛ 2      2    2\n",
       "⋅cos (θ) - d\\phi⋅dt⋅sin (θ) - d\\psi⋅dt⋅cos (θ)⎟ + Δᵣ⋅Δₜₕₑₜₐ⋅ρ ⋅⎝a ⋅d\\phi ⋅sin \n",
       "                                              ⎠                               \n",
       "──────────────────────────────────────────────────────────────────────────────\n",
       "                                                                              \n",
       "                                                                              \n",
       "\n",
       "                                                                              \n",
       "       2      2    2           2  2    2           2  2    2             2  2 \n",
       "(θ) + a ⋅d\\psi ⋅cos (θ) + d\\phi ⋅r ⋅sin (θ) + d\\psi ⋅r ⋅cos (θ) + d\\theta ⋅ρ  \n",
       "                                                                              \n",
       "──────────────────────────────────────────────────────────────────────────────\n",
       "          2  4                                                                \n",
       " Δᵣ⋅Δₜₕₑₜₐ ⋅ρ                                                                 \n",
       "\n",
       "                                                                            2 \n",
       "    2  2  2     2⎞        ⎛           2                 2                  ⎞  \n",
       "- dt ⋅g ⋅r  - dt ⎠ + Δᵣ⋅f⋅⎝a⋅d\\phi⋅sin (θ) - a⋅d\\psi⋅sin (θ) + a⋅d\\psi - dt⎠  \n",
       "                                                                              \n",
       "──────────────────────────────────────────────────────────────────────────────\n",
       "                                                                              \n",
       "                                                                              \n",
       "\n",
       "                \n",
       "        2   2  6\n",
       "+ Δₜₕₑₜₐ ⋅dr ⋅ρ \n",
       "                \n",
       "────────────────\n",
       "                \n",
       "                "
      ]
     },
     "execution_count": 13,
     "metadata": {},
     "output_type": "execute_result"
    }
   ],
   "source": [
    "metric = metric.subs({b: a, xi_a: delta_theta, xi_b: delta_theta})\n",
    "metric.simplify()"
   ]
  },
  {
   "cell_type": "code",
   "execution_count": 14,
   "metadata": {},
   "outputs": [
    {
     "data": {
      "image/png": "[encoded data removed]",
      "text/latex": [
       "$\\displaystyle d\\phi^{2} \\cdot \\left(\\frac{2 a^{2} q \\sin^{4}{\\left(\\theta \\right)}}{\\Delta_{\\theta} \\rho^{2}} + \\frac{a^{2} \\sin^{2}{\\left(\\theta \\right)}}{\\Delta_{\\theta}} + \\frac{r^{2} \\sin^{2}{\\left(\\theta \\right)}}{\\Delta_{\\theta}} + \\frac{a^{2} f \\sin^{4}{\\left(\\theta \\right)}}{\\Delta_{\\theta}^{2} \\rho^{4}}\\right) + d\\phi \\left(\\frac{4 a^{2} d\\psi q \\sin^{2}{\\left(\\theta \\right)} \\cos^{2}{\\left(\\theta \\right)}}{\\Delta_{\\theta} \\rho^{2}} - \\frac{2 a dt q \\sin^{2}{\\left(\\theta \\right)}}{\\Delta_{\\theta} \\rho^{2}} + \\frac{2 a^{2} d\\psi f \\sin^{2}{\\left(\\theta \\right)} \\cos^{2}{\\left(\\theta \\right)}}{\\Delta_{\\theta}^{2} \\rho^{4}} - \\frac{2 a dt f \\sin^{2}{\\left(\\theta \\right)}}{\\Delta_{\\theta}^{2} \\rho^{4}}\\right) + d\\psi^{2} \\cdot \\left(\\frac{2 a^{2} q \\cos^{4}{\\left(\\theta \\right)}}{\\Delta_{\\theta} \\rho^{2}} + \\frac{a^{2} \\cos^{2}{\\left(\\theta \\right)}}{\\Delta_{\\theta}} + \\frac{r^{2} \\cos^{2}{\\left(\\theta \\right)}}{\\Delta_{\\theta}} + \\frac{a^{2} f \\cos^{4}{\\left(\\theta \\right)}}{\\Delta_{\\theta}^{2} \\rho^{4}}\\right) + d\\psi \\left(- \\frac{2 a dt q \\cos^{2}{\\left(\\theta \\right)}}{\\Delta_{\\theta} \\rho^{2}} - \\frac{2 a dt f \\cos^{2}{\\left(\\theta \\right)}}{\\Delta_{\\theta}^{2} \\rho^{4}}\\right) + dt^{2} \\left(- \\frac{g^{2} r^{2}}{\\Delta_{\\theta}} - \\frac{1}{\\Delta_{\\theta}} + \\frac{f}{\\Delta_{\\theta}^{2} \\rho^{4}}\\right) + \\frac{d\\theta^{2} \\rho^{2}}{\\Delta_{\\theta}} + \\frac{dr^{2} \\rho^{2}}{\\Delta_{r}}$"
      ],
      "text/plain": [
       "       ⎛   2      4       2    2       2    2       2      4   ⎞         ⎛   2\n",
       "     2 ⎜2⋅a ⋅q⋅sin (θ)   a ⋅sin (θ)   r ⋅sin (θ)   a ⋅f⋅sin (θ)⎟         ⎜4⋅a \n",
       "d\\phi ⋅⎜────────────── + ────────── + ────────── + ────────────⎟ + d\\phi⋅⎜────\n",
       "       ⎜          2        Δₜₕₑₜₐ       Δₜₕₑₜₐ            2  4 ⎟         ⎜    \n",
       "       ⎝  Δₜₕₑₜₐ⋅ρ                                  Δₜₕₑₜₐ ⋅ρ  ⎠         ⎝    \n",
       "\n",
       "            2       2                  2         2            2       2       \n",
       "⋅d\\psi⋅q⋅sin (θ)⋅cos (θ)   2⋅a⋅dt⋅q⋅sin (θ)   2⋅a ⋅d\\psi⋅f⋅sin (θ)⋅cos (θ)   2\n",
       "──────────────────────── - ──────────────── + ──────────────────────────── - ─\n",
       "             2                        2                      2  4             \n",
       "     Δₜₕₑₜₐ⋅ρ                 Δₜₕₑₜₐ⋅ρ                 Δₜₕₑₜₐ ⋅ρ              \n",
       "\n",
       "           2   ⎞          ⎛   2      4       2    2       2    2       2      \n",
       "⋅a⋅dt⋅f⋅sin (θ)⎟        2 ⎜2⋅a ⋅q⋅cos (θ)   a ⋅cos (θ)   r ⋅cos (θ)   a ⋅f⋅cos\n",
       "───────────────⎟ + d\\psi ⋅⎜────────────── + ────────── + ────────── + ────────\n",
       "        2  4   ⎟          ⎜          2        Δₜₕₑₜₐ       Δₜₕₑₜₐ            2\n",
       "  Δₜₕₑₜₐ ⋅ρ    ⎠          ⎝  Δₜₕₑₜₐ⋅ρ                                  Δₜₕₑₜₐ \n",
       "\n",
       "4   ⎞         ⎛              2                  2   ⎞       ⎛   2  2          \n",
       " (θ)⎟         ⎜  2⋅a⋅dt⋅q⋅cos (θ)   2⋅a⋅dt⋅f⋅cos (θ)⎟     2 ⎜  g ⋅r       1   \n",
       "────⎟ + d\\psi⋅⎜- ──────────────── - ────────────────⎟ + dt ⋅⎜- ────── - ──────\n",
       "  4 ⎟         ⎜             2                2  4   ⎟       ⎜  Δₜₕₑₜₐ   Δₜₕₑₜₐ\n",
       "⋅ρ  ⎠         ⎝     Δₜₕₑₜₐ⋅ρ           Δₜₕₑₜₐ ⋅ρ    ⎠       ⎝                 \n",
       "\n",
       "             ⎞          2  2     2  2\n",
       "       f     ⎟   d\\theta ⋅ρ    dr ⋅ρ \n",
       " + ──────────⎟ + ─────────── + ──────\n",
       "         2  4⎟      Δₜₕₑₜₐ       Δᵣ  \n",
       "   Δₜₕₑₜₐ ⋅ρ ⎠                       "
      ]
     },
     "execution_count": 14,
     "metadata": {},
     "output_type": "execute_result"
    }
   ],
   "source": [
    "metric = metric.collect([dr, dphi, dpsi, dtheta, dt])\n",
    "metric"
   ]
  },
  {
   "attachments": {},
   "cell_type": "markdown",
   "metadata": {},
   "source": [
    "With the simplification, the $\\theta$ component is always positive definite and can be ignored."
   ]
  },
  {
   "attachments": {},
   "cell_type": "markdown",
   "metadata": {},
   "source": [
    "Make the change of variables, $\\tilde{\\phi} = (\\psi - \\phi)/2$ and $\\tilde{\\psi} = (\\phi + \\psi)/2$, which means $\\psi = \\tilde{\\phi} + \\tilde{\\psi}$ and $\\phi = \\tilde{\\psi} - \\tilde{\\phi}$."
   ]
  },
  {
   "cell_type": "code",
   "execution_count": 15,
   "metadata": {},
   "outputs": [],
   "source": [
    "# keep the theta change of variable but don't use right now\n",
    "phi_tilde, psi_tilde, theta_tilde = sympy.symbols(\"\\\\tilde{\\phi} \\\\tilde{\\psi} \\\\tilde{\\\\theta}\")\n",
    "dphi_tilde, dpsi_tilde, dtheta_tilde = sympy.symbols(r\"d\\tilde{\\phi} d\\tilde{\\psi} d\\tilde{\\theta}\")"
   ]
  },
  {
   "cell_type": "code",
   "execution_count": 16,
   "metadata": {},
   "outputs": [],
   "source": [
    "dpsi_val = sympy.sin(theta) ** 2 * (dphi_tilde + dpsi_tilde)\n",
    "dphi_val = sympy.cos(theta) ** 2 * (dpsi_tilde - dphi_tilde)"
   ]
  },
  {
   "cell_type": "code",
   "execution_count": 17,
   "metadata": {},
   "outputs": [
    {
     "data": {
      "image/png": "[encoded data removed]",
      "text/latex": [
       "$\\displaystyle \\frac{a^{2} d\\tilde{\\phi}^{2} \\sin^{4}{\\left(\\theta \\right)} \\cos^{2}{\\left(\\theta \\right)}}{\\Delta_{\\theta}} + \\frac{a^{2} d\\tilde{\\phi}^{2} \\sin^{2}{\\left(\\theta \\right)} \\cos^{4}{\\left(\\theta \\right)}}{\\Delta_{\\theta}} + \\frac{2 a^{2} d\\tilde{\\phi} d\\tilde{\\psi} \\sin^{4}{\\left(\\theta \\right)} \\cos^{2}{\\left(\\theta \\right)}}{\\Delta_{\\theta}} - \\frac{2 a^{2} d\\tilde{\\phi} d\\tilde{\\psi} \\sin^{2}{\\left(\\theta \\right)} \\cos^{4}{\\left(\\theta \\right)}}{\\Delta_{\\theta}} + \\frac{8 a^{2} d\\tilde{\\psi}^{2} q \\sin^{4}{\\left(\\theta \\right)} \\cos^{4}{\\left(\\theta \\right)}}{\\Delta_{\\theta} \\rho^{2}} + \\frac{a^{2} d\\tilde{\\psi}^{2} \\sin^{4}{\\left(\\theta \\right)} \\cos^{2}{\\left(\\theta \\right)}}{\\Delta_{\\theta}} + \\frac{a^{2} d\\tilde{\\psi}^{2} \\sin^{2}{\\left(\\theta \\right)} \\cos^{4}{\\left(\\theta \\right)}}{\\Delta_{\\theta}} - \\frac{4 a d\\tilde{\\psi} dt q \\sin^{2}{\\left(\\theta \\right)} \\cos^{2}{\\left(\\theta \\right)}}{\\Delta_{\\theta} \\rho^{2}} + \\frac{d\\theta^{2} \\rho^{2}}{\\Delta_{\\theta}} + \\frac{d\\tilde{\\phi}^{2} r^{2} \\sin^{4}{\\left(\\theta \\right)} \\cos^{2}{\\left(\\theta \\right)}}{\\Delta_{\\theta}} + \\frac{d\\tilde{\\phi}^{2} r^{2} \\sin^{2}{\\left(\\theta \\right)} \\cos^{4}{\\left(\\theta \\right)}}{\\Delta_{\\theta}} + \\frac{2 d\\tilde{\\phi} d\\tilde{\\psi} r^{2} \\sin^{4}{\\left(\\theta \\right)} \\cos^{2}{\\left(\\theta \\right)}}{\\Delta_{\\theta}} - \\frac{2 d\\tilde{\\phi} d\\tilde{\\psi} r^{2} \\sin^{2}{\\left(\\theta \\right)} \\cos^{4}{\\left(\\theta \\right)}}{\\Delta_{\\theta}} + \\frac{d\\tilde{\\psi}^{2} r^{2} \\sin^{4}{\\left(\\theta \\right)} \\cos^{2}{\\left(\\theta \\right)}}{\\Delta_{\\theta}} + \\frac{d\\tilde{\\psi}^{2} r^{2} \\sin^{2}{\\left(\\theta \\right)} \\cos^{4}{\\left(\\theta \\right)}}{\\Delta_{\\theta}} - \\frac{dt^{2} g^{2} r^{2}}{\\Delta_{\\theta}} - \\frac{dt^{2}}{\\Delta_{\\theta}} + \\frac{4 a^{2} d\\tilde{\\psi}^{2} f \\sin^{4}{\\left(\\theta \\right)} \\cos^{4}{\\left(\\theta \\right)}}{\\Delta_{\\theta}^{2} \\rho^{4}} - \\frac{4 a d\\tilde{\\psi} dt f \\sin^{2}{\\left(\\theta \\right)} \\cos^{2}{\\left(\\theta \\right)}}{\\Delta_{\\theta}^{2} \\rho^{4}} + \\frac{dt^{2} f}{\\Delta_{\\theta}^{2} \\rho^{4}} + \\frac{dr^{2} \\rho^{2}}{\\Delta_{r}}$"
      ],
      "text/plain": [
       " 2              2    4       2       2              2    2       4         2  \n",
       "a ⋅d\\tilde{\\phi} ⋅sin (θ)⋅cos (θ)   a ⋅d\\tilde{\\phi} ⋅sin (θ)⋅cos (θ)   2⋅a ⋅d\n",
       "───────────────────────────────── + ───────────────────────────────── + ──────\n",
       "              Δₜₕₑₜₐ                              Δₜₕₑₜₐ                      \n",
       "                                                                              \n",
       "\n",
       "                              4       2         2                             \n",
       "\\tilde{\\phi}⋅d\\tilde{\\psi}⋅sin (θ)⋅cos (θ)   2⋅a ⋅d\\tilde{\\phi}⋅d\\tilde{\\psi}⋅\n",
       "────────────────────────────────────────── - ─────────────────────────────────\n",
       "               Δₜₕₑₜₐ                                             Δₜₕₑₜₐ      \n",
       "                                                                              \n",
       "\n",
       "   2       4         2              2      4       4       2              2   \n",
       "sin (θ)⋅cos (θ)   8⋅a ⋅d\\tilde{\\psi} ⋅q⋅sin (θ)⋅cos (θ)   a ⋅d\\tilde{\\psi} ⋅si\n",
       "─────────────── + ───────────────────────────────────── + ────────────────────\n",
       "                                        2                               Δₜₕₑₜₐ\n",
       "                                Δₜₕₑₜₐ⋅ρ                                      \n",
       "\n",
       " 4       2       2              2    2       4                                \n",
       "n (θ)⋅cos (θ)   a ⋅d\\tilde{\\psi} ⋅sin (θ)⋅cos (θ)   4⋅a⋅d\\tilde{\\psi}⋅dt⋅q⋅sin\n",
       "───────────── + ───────────────────────────────── - ──────────────────────────\n",
       "                              Δₜₕₑₜₐ                                      2   \n",
       "                                                                  Δₜₕₑₜₐ⋅ρ    \n",
       "\n",
       "2       2             2  2                2  2    4       2                   \n",
       " (θ)⋅cos (θ)   d\\theta ⋅ρ    d\\tilde{\\phi} ⋅r ⋅sin (θ)⋅cos (θ)   d\\tilde{\\phi}\n",
       "──────────── + ─────────── + ───────────────────────────────── + ─────────────\n",
       "                  Δₜₕₑₜₐ                   Δₜₕₑₜₐ                             \n",
       "                                                                              \n",
       "\n",
       "2  2    2       4                                     2    4       2          \n",
       " ⋅r ⋅sin (θ)⋅cos (θ)   2⋅d\\tilde{\\phi}⋅d\\tilde{\\psi}⋅r ⋅sin (θ)⋅cos (θ)   2⋅d\\\n",
       "──────────────────── + ──────────────────────────────────────────────── - ────\n",
       " Δₜₕₑₜₐ                                     Δₜₕₑₜₐ                            \n",
       "                                                                              \n",
       "\n",
       "                           2    2       4                   2  2    4       2 \n",
       "tilde{\\phi}⋅d\\tilde{\\psi}⋅r ⋅sin (θ)⋅cos (θ)   d\\tilde{\\psi} ⋅r ⋅sin (θ)⋅cos (\n",
       "──────────────────────────────────────────── + ───────────────────────────────\n",
       "                 Δₜₕₑₜₐ                                      Δₜₕₑₜₐ           \n",
       "                                                                              \n",
       "\n",
       "                  2  2    2       4        2  2  2      2        2            \n",
       "θ)   d\\tilde{\\psi} ⋅r ⋅sin (θ)⋅cos (θ)   dt ⋅g ⋅r     dt      4⋅a ⋅d\\tilde{\\ps\n",
       "── + ───────────────────────────────── - ───────── - ────── + ────────────────\n",
       "                   Δₜₕₑₜₐ                  Δₜₕₑₜₐ    Δₜₕₑₜₐ                   \n",
       "                                                                            Δₜ\n",
       "\n",
       "  2      4       4                                2       2          2        \n",
       "i} ⋅f⋅sin (θ)⋅cos (θ)   4⋅a⋅d\\tilde{\\psi}⋅dt⋅f⋅sin (θ)⋅cos (θ)     dt ⋅f      \n",
       "───────────────────── - ────────────────────────────────────── + ────────── + \n",
       "    2  4                                    2  4                       2  4   \n",
       "ₕₑₜₐ ⋅ρ                               Δₜₕₑₜₐ ⋅ρ                  Δₜₕₑₜₐ ⋅ρ    \n",
       "\n",
       "  2  2\n",
       "dr ⋅ρ \n",
       "──────\n",
       "  Δᵣ  \n",
       "      "
      ]
     },
     "execution_count": 17,
     "metadata": {},
     "output_type": "execute_result"
    }
   ],
   "source": [
    "metric = metric.subs({dphi: dphi_val, dpsi: dpsi_val})\n",
    "metric = metric.expand()\n",
    "metric"
   ]
  },
  {
   "cell_type": "code",
   "execution_count": 18,
   "metadata": {},
   "outputs": [],
   "source": [
    "metric_list_matrix = [[0 for i in range(4)] for i in range(4)]\n",
    "\n",
    "# dt\n",
    "metric_list_matrix[0][0] = metric.coeff(dt ** 2)\n",
    "metric_list_matrix[0][1] = metric.coeff(dt * dr)\n",
    "metric_list_matrix[0][2] = metric.coeff(dt * dphi_tilde)\n",
    "metric_list_matrix[0][3] = metric.coeff(dt * dpsi_tilde)\n",
    "\n",
    "# dr\n",
    "metric_list_matrix[1][0] = metric.coeff(dr * dt)\n",
    "metric_list_matrix[1][1] = metric.coeff(dr ** 2)\n",
    "metric_list_matrix[1][2] = metric.coeff(dr * dphi_tilde)\n",
    "metric_list_matrix[1][3] = metric.coeff(dr * dpsi_tilde)\n",
    "\n",
    "# dphi_tilde\n",
    "metric_list_matrix[2][0] = metric.coeff(dphi_tilde * dt)\n",
    "metric_list_matrix[2][1] = metric.coeff(dphi_tilde * dr)\n",
    "metric_list_matrix[2][2] = metric.coeff(dphi_tilde ** 2)\n",
    "metric_list_matrix[2][3] = metric.coeff(dphi_tilde * dpsi_tilde)\n",
    "\n",
    "# dpsi_tilde\n",
    "metric_list_matrix[3][0] = metric.coeff(dpsi_tilde * dt)\n",
    "metric_list_matrix[3][1] = metric.coeff(dpsi_tilde * dr)\n",
    "metric_list_matrix[3][2] = metric.coeff(dpsi_tilde * dphi_tilde)\n",
    "metric_list_matrix[3][3] = metric.coeff(dpsi_tilde ** 2)"
   ]
  },
  {
   "cell_type": "code",
   "execution_count": 19,
   "metadata": {},
   "outputs": [
    {
     "data": {
      "text/latex": [
       "$\\displaystyle \\left[\\begin{matrix}- \\frac{g^{2} r^{2}}{\\Delta_{\\theta}} - \\frac{1}{\\Delta_{\\theta}} + \\frac{f}{\\Delta_{\\theta}^{2} \\rho^{4}} & 0 & 0 & - \\frac{4 a q \\sin^{2}{\\left(\\theta \\right)} \\cos^{2}{\\left(\\theta \\right)}}{\\Delta_{\\theta} \\rho^{2}} - \\frac{4 a f \\sin^{2}{\\left(\\theta \\right)} \\cos^{2}{\\left(\\theta \\right)}}{\\Delta_{\\theta}^{2} \\rho^{4}}\\\\0 & \\frac{\\rho^{2}}{\\Delta_{r}} & 0 & 0\\\\0 & 0 & \\frac{a^{2} \\sin^{4}{\\left(\\theta \\right)} \\cos^{2}{\\left(\\theta \\right)}}{\\Delta_{\\theta}} + \\frac{a^{2} \\sin^{2}{\\left(\\theta \\right)} \\cos^{4}{\\left(\\theta \\right)}}{\\Delta_{\\theta}} + \\frac{r^{2} \\sin^{4}{\\left(\\theta \\right)} \\cos^{2}{\\left(\\theta \\right)}}{\\Delta_{\\theta}} + \\frac{r^{2} \\sin^{2}{\\left(\\theta \\right)} \\cos^{4}{\\left(\\theta \\right)}}{\\Delta_{\\theta}} & \\frac{2 a^{2} \\sin^{4}{\\left(\\theta \\right)} \\cos^{2}{\\left(\\theta \\right)}}{\\Delta_{\\theta}} - \\frac{2 a^{2} \\sin^{2}{\\left(\\theta \\right)} \\cos^{4}{\\left(\\theta \\right)}}{\\Delta_{\\theta}} + \\frac{2 r^{2} \\sin^{4}{\\left(\\theta \\right)} \\cos^{2}{\\left(\\theta \\right)}}{\\Delta_{\\theta}} - \\frac{2 r^{2} \\sin^{2}{\\left(\\theta \\right)} \\cos^{4}{\\left(\\theta \\right)}}{\\Delta_{\\theta}}\\\\- \\frac{4 a q \\sin^{2}{\\left(\\theta \\right)} \\cos^{2}{\\left(\\theta \\right)}}{\\Delta_{\\theta} \\rho^{2}} - \\frac{4 a f \\sin^{2}{\\left(\\theta \\right)} \\cos^{2}{\\left(\\theta \\right)}}{\\Delta_{\\theta}^{2} \\rho^{4}} & 0 & \\frac{2 a^{2} \\sin^{4}{\\left(\\theta \\right)} \\cos^{2}{\\left(\\theta \\right)}}{\\Delta_{\\theta}} - \\frac{2 a^{2} \\sin^{2}{\\left(\\theta \\right)} \\cos^{4}{\\left(\\theta \\right)}}{\\Delta_{\\theta}} + \\frac{2 r^{2} \\sin^{4}{\\left(\\theta \\right)} \\cos^{2}{\\left(\\theta \\right)}}{\\Delta_{\\theta}} - \\frac{2 r^{2} \\sin^{2}{\\left(\\theta \\right)} \\cos^{4}{\\left(\\theta \\right)}}{\\Delta_{\\theta}} & \\frac{8 a^{2} q \\sin^{4}{\\left(\\theta \\right)} \\cos^{4}{\\left(\\theta \\right)}}{\\Delta_{\\theta} \\rho^{2}} + \\frac{a^{2} \\sin^{4}{\\left(\\theta \\right)} \\cos^{2}{\\left(\\theta \\right)}}{\\Delta_{\\theta}} + \\frac{a^{2} \\sin^{2}{\\left(\\theta \\right)} \\cos^{4}{\\left(\\theta \\right)}}{\\Delta_{\\theta}} + \\frac{r^{2} \\sin^{4}{\\left(\\theta \\right)} \\cos^{2}{\\left(\\theta \\right)}}{\\Delta_{\\theta}} + \\frac{r^{2} \\sin^{2}{\\left(\\theta \\right)} \\cos^{4}{\\left(\\theta \\right)}}{\\Delta_{\\theta}} + \\frac{4 a^{2} f \\sin^{4}{\\left(\\theta \\right)} \\cos^{4}{\\left(\\theta \\right)}}{\\Delta_{\\theta}^{2} \\rho^{4}}\\end{matrix}\\right]$"
      ],
      "text/plain": [
       "⎡           2  2                                                              \n",
       "⎢          g ⋅r       1          f                                            \n",
       "⎢        - ────── - ────── + ──────────           0                           \n",
       "⎢          Δₜₕₑₜₐ   Δₜₕₑₜₐ         2  4                                       \n",
       "⎢                            Δₜₕₑₜₐ ⋅ρ                                        \n",
       "⎢                                                                             \n",
       "⎢                                                  2                          \n",
       "⎢                                                 ρ                           \n",
       "⎢                       0                         ──                          \n",
       "⎢                                                 Δᵣ                          \n",
       "⎢                                                                             \n",
       "⎢                                                          2    4       2     \n",
       "⎢                                                         a ⋅sin (θ)⋅cos (θ)  \n",
       "⎢                       0                         0       ────────────────── +\n",
       "⎢                                                               Δₜₕₑₜₐ        \n",
       "⎢                                                                             \n",
       "⎢           2       2               2       2            2    4       2       \n",
       "⎢  4⋅a⋅q⋅sin (θ)⋅cos (θ)   4⋅a⋅f⋅sin (θ)⋅cos (θ)      2⋅a ⋅sin (θ)⋅cos (θ)   2\n",
       "⎢- ───────────────────── - ─────────────────────  0   ──────────────────── - ─\n",
       "⎢                2                     2  4                  Δₜₕₑₜₐ           \n",
       "⎣        Δₜₕₑₜₐ⋅ρ                Δₜₕₑₜₐ ⋅ρ                                    \n",
       "\n",
       "                                                                              \n",
       "                                                                              \n",
       "                    0                                                         \n",
       "                                                                              \n",
       "                                                                              \n",
       "                                                                              \n",
       "                                                                              \n",
       "                                                                              \n",
       "                    0                                                         \n",
       "                                                                              \n",
       "                                                                              \n",
       "  2    2       4       2    4       2       2    2       4                    \n",
       " a ⋅sin (θ)⋅cos (θ)   r ⋅sin (θ)⋅cos (θ)   r ⋅sin (θ)⋅cos (θ)                 \n",
       " ────────────────── + ────────────────── + ──────────────────                 \n",
       "       Δₜₕₑₜₐ               Δₜₕₑₜₐ               Δₜₕₑₜₐ                       \n",
       "                                                                              \n",
       "  2    2       4         2    4       2         2    2       4        2      4\n",
       "⋅a ⋅sin (θ)⋅cos (θ)   2⋅r ⋅sin (θ)⋅cos (θ)   2⋅r ⋅sin (θ)⋅cos (θ)  8⋅a ⋅q⋅sin \n",
       "─────────────────── + ──────────────────── - ────────────────────  ───────────\n",
       "      Δₜₕₑₜₐ                 Δₜₕₑₜₐ                 Δₜₕₑₜₐ                    \n",
       "                                                                         Δₜₕₑₜ\n",
       "\n",
       "                                          2       2               2       2   \n",
       "                                 4⋅a⋅q⋅sin (θ)⋅cos (θ)   4⋅a⋅f⋅sin (θ)⋅cos (θ)\n",
       "                               - ───────────────────── - ─────────────────────\n",
       "                                               2                     2  4     \n",
       "                                       Δₜₕₑₜₐ⋅ρ                Δₜₕₑₜₐ ⋅ρ      \n",
       "                                                                              \n",
       "                                                                              \n",
       "                                                                              \n",
       "                                                      0                       \n",
       "                                                                              \n",
       "                                                                              \n",
       "             2    4       2         2    2       4         2    4       2     \n",
       "          2⋅a ⋅sin (θ)⋅cos (θ)   2⋅a ⋅sin (θ)⋅cos (θ)   2⋅r ⋅sin (θ)⋅cos (θ)  \n",
       "          ──────────────────── - ──────────────────── + ──────────────────── -\n",
       "                 Δₜₕₑₜₐ                 Δₜₕₑₜₐ                 Δₜₕₑₜₐ         \n",
       "                                                                              \n",
       "       4       2    4       2       2    2       4       2    4       2       \n",
       "(θ)⋅cos (θ)   a ⋅sin (θ)⋅cos (θ)   a ⋅sin (θ)⋅cos (θ)   r ⋅sin (θ)⋅cos (θ)   r\n",
       "─────────── + ────────────────── + ────────────────── + ────────────────── + ─\n",
       "   2                Δₜₕₑₜₐ               Δₜₕₑₜₐ               Δₜₕₑₜₐ          \n",
       "ₐ⋅ρ                                                                           \n",
       "\n",
       "                                          ⎤\n",
       "                                          ⎥\n",
       "                                          ⎥\n",
       "                                          ⎥\n",
       "                                          ⎥\n",
       "                                          ⎥\n",
       "                                          ⎥\n",
       "                                          ⎥\n",
       "                                          ⎥\n",
       "                                          ⎥\n",
       "                                          ⎥\n",
       "    2    2       4                        ⎥\n",
       " 2⋅r ⋅sin (θ)⋅cos (θ)                     ⎥\n",
       " ────────────────────                     ⎥\n",
       "        Δₜₕₑₜₐ                            ⎥\n",
       "                                          ⎥\n",
       "2    2       4         2      4       4   ⎥\n",
       " ⋅sin (θ)⋅cos (θ)   4⋅a ⋅f⋅sin (θ)⋅cos (θ)⎥\n",
       "───────────────── + ──────────────────────⎥\n",
       "     Δₜₕₑₜₐ                     2  4      ⎥\n",
       "                          Δₜₕₑₜₐ ⋅ρ       ⎦"
      ]
     },
     "execution_count": 19,
     "metadata": {},
     "output_type": "execute_result"
    }
   ],
   "source": [
    "g_mat = sympy.Matrix(metric_list_matrix)\n",
    "g_mat"
   ]
  },
  {
   "cell_type": "code",
   "execution_count": 20,
   "metadata": {},
   "outputs": [
    {
     "data": {
      "text/latex": [
       "$\\displaystyle \\left[\\begin{matrix}- \\frac{g^{2} r^{2}}{\\Delta_{\\theta}} - \\frac{1}{\\Delta_{\\theta}} + \\frac{f}{\\Delta_{\\theta}^{2} \\rho^{4}} & 0 & 0 & \\frac{a \\left(1 - \\cos{\\left(4 \\theta \\right)}\\right) \\left(- \\Delta_{\\theta} q \\rho^{2} - f\\right)}{2 \\Delta_{\\theta}^{2} \\rho^{4}}\\\\0 & \\frac{\\rho^{2}}{\\Delta_{r}} & 0 & 0\\\\0 & 0 & \\frac{\\left(1 - \\cos{\\left(4 \\theta \\right)}\\right) \\left(a^{2} + r^{2}\\right)}{8 \\Delta_{\\theta}} & - \\frac{\\left(a^{2} + r^{2}\\right) \\left(\\cos{\\left(2 \\theta \\right)} - \\cos{\\left(6 \\theta \\right)}\\right)}{8 \\Delta_{\\theta}}\\\\\\frac{a \\left(1 - \\cos{\\left(4 \\theta \\right)}\\right) \\left(- \\Delta_{\\theta} q \\rho^{2} - f\\right)}{2 \\Delta_{\\theta}^{2} \\rho^{4}} & 0 & - \\frac{\\left(a^{2} + r^{2}\\right) \\left(\\cos{\\left(2 \\theta \\right)} - \\cos{\\left(6 \\theta \\right)}\\right)}{8 \\Delta_{\\theta}} & \\frac{\\left(\\Delta_{\\theta} a^{2} q \\rho^{2} \\cdot \\left(1 - \\cos{\\left(4 \\theta \\right)}\\right) + \\Delta_{\\theta} \\rho^{4} \\left(a^{2} + r^{2}\\right) + \\frac{a^{2} f \\left(1 - \\cos{\\left(4 \\theta \\right)}\\right)}{2}\\right) \\sin^{2}{\\left(\\theta \\right)} \\cos^{2}{\\left(\\theta \\right)}}{\\Delta_{\\theta}^{2} \\rho^{4}}\\end{matrix}\\right]$"
      ],
      "text/plain": [
       "⎡      2  2                                                                   \n",
       "⎢     g ⋅r       1          f                                                 \n",
       "⎢   - ────── - ────── + ──────────     0                   0                  \n",
       "⎢     Δₜₕₑₜₐ   Δₜₕₑₜₐ         2  4                                            \n",
       "⎢                       Δₜₕₑₜₐ ⋅ρ                                             \n",
       "⎢                                                                             \n",
       "⎢                                       2                                     \n",
       "⎢                                      ρ                                      \n",
       "⎢                 0                    ──                  0                  \n",
       "⎢                                      Δᵣ                                     \n",
       "⎢                                                                             \n",
       "⎢                                                             ⎛ 2    2⎞       \n",
       "⎢                                              (1 - cos(4⋅θ))⋅⎝a  + r ⎠       \n",
       "⎢                 0                    0       ────────────────────────       \n",
       "⎢                                                      8⋅Δₜₕₑₜₐ               \n",
       "⎢                                                                             \n",
       "⎢                                                                             \n",
       "⎢                                                                             \n",
       "⎢                 ⎛            2    ⎞       ⎛ 2    2⎞                         \n",
       "⎢a⋅(1 - cos(4⋅θ))⋅⎝- Δₜₕₑₜₐ⋅q⋅ρ  - f⎠      -⎝a  + r ⎠⋅(cos(2⋅θ) - cos(6⋅θ))   \n",
       "⎢────────────────────────────────────  0   ─────────────────────────────────  \n",
       "⎢                    2  4                               8⋅Δₜₕₑₜₐ              \n",
       "⎣            2⋅Δₜₕₑₜₐ ⋅ρ                                                      \n",
       "\n",
       "                                            ⎛            2    ⎞               \n",
       "                           a⋅(1 - cos(4⋅θ))⋅⎝- Δₜₕₑₜₐ⋅q⋅ρ  - f⎠               \n",
       "                           ────────────────────────────────────               \n",
       "                                               2  4                           \n",
       "                                       2⋅Δₜₕₑₜₐ ⋅ρ                            \n",
       "                                                                              \n",
       "                                                                              \n",
       "                                                                              \n",
       "                                             0                                \n",
       "                                                                              \n",
       "                                                                              \n",
       "                              ⎛ 2    2⎞                                       \n",
       "                             -⎝a  + r ⎠⋅(cos(2⋅θ) - cos(6⋅θ))                 \n",
       "                             ─────────────────────────────────                \n",
       "                                          8⋅Δₜₕₑₜₐ                            \n",
       "                                                                              \n",
       "⎛                                                       2                 ⎞   \n",
       "⎜        2    2                          4 ⎛ 2    2⎞   a ⋅f⋅(1 - cos(4⋅θ))⎟   \n",
       "⎜Δₜₕₑₜₐ⋅a ⋅q⋅ρ ⋅(1 - cos(4⋅θ)) + Δₜₕₑₜₐ⋅ρ ⋅⎝a  + r ⎠ + ───────────────────⎟⋅si\n",
       "⎝                                                               2         ⎠   \n",
       "──────────────────────────────────────────────────────────────────────────────\n",
       "                                               2  4                           \n",
       "                                         Δₜₕₑₜₐ ⋅ρ                            \n",
       "\n",
       "             ⎤\n",
       "             ⎥\n",
       "             ⎥\n",
       "             ⎥\n",
       "             ⎥\n",
       "             ⎥\n",
       "             ⎥\n",
       "             ⎥\n",
       "             ⎥\n",
       "             ⎥\n",
       "             ⎥\n",
       "             ⎥\n",
       "             ⎥\n",
       "             ⎥\n",
       "             ⎥\n",
       "             ⎥\n",
       "             ⎥\n",
       " 2       2   ⎥\n",
       "n (θ)⋅cos (θ)⎥\n",
       "             ⎥\n",
       "─────────────⎥\n",
       "             ⎥\n",
       "             ⎦"
      ]
     },
     "execution_count": 20,
     "metadata": {},
     "output_type": "execute_result"
    }
   ],
   "source": [
    "g_mat.simplify()\n",
    "g_mat"
   ]
  },
  {
   "attachments": {},
   "cell_type": "markdown",
   "metadata": {},
   "source": [
    "Introduce other functions of q."
   ]
  },
  {
   "cell_type": "code",
   "execution_count": 21,
   "metadata": {},
   "outputs": [
    {
     "data": {
      "image/png": "[encoded data removed]",
      "text/latex": [
       "$\\displaystyle - 2 m + \\frac{2 a b q + q^{2} + \\left(a^{2} + r^{2}\\right) \\left(b^{2} + r^{2}\\right) \\left(g^{2} r^{2} + 1\\right)}{r^{2}}$"
      ],
      "text/plain": [
       "                  2   ⎛ 2    2⎞ ⎛ 2    2⎞ ⎛ 2  2    ⎞\n",
       "       2⋅a⋅b⋅q + q  + ⎝a  + r ⎠⋅⎝b  + r ⎠⋅⎝g ⋅r  + 1⎠\n",
       "-2⋅m + ──────────────────────────────────────────────\n",
       "                              2                      \n",
       "                             r                       "
      ]
     },
     "execution_count": 21,
     "metadata": {},
     "output_type": "execute_result"
    }
   ],
   "source": [
    "delta_r_val = ((r ** 2 + a ** 2) * (r ** 2 + b ** 2) * (1 + g ** 2 * r ** 2) + q ** 2 + 2 * a * b * q) / r ** 2 - 2 * m\n",
    "delta_r_val"
   ]
  },
  {
   "cell_type": "code",
   "execution_count": 22,
   "metadata": {},
   "outputs": [
    {
     "data": {
      "image/png": "[encoded data removed]",
      "text/latex": [
       "$\\displaystyle 2 a b g^{2} q \\rho^{2} + 2 m \\rho^{2} - q^{2}$"
      ],
      "text/plain": [
       "       2    2        2    2\n",
       "2⋅a⋅b⋅g ⋅q⋅ρ  + 2⋅m⋅ρ  - q "
      ]
     },
     "execution_count": 22,
     "metadata": {},
     "output_type": "execute_result"
    }
   ],
   "source": [
    "f_val = 2 * m * rho ** 2 - q ** 2 + 2 * a * b * q * g ** 2 * rho ** 2\n",
    "f_val"
   ]
  },
  {
   "cell_type": "code",
   "execution_count": 23,
   "metadata": {},
   "outputs": [
    {
     "data": {
      "text/latex": [
       "$\\displaystyle \\left[\\begin{matrix}- \\frac{g^{2} r^{2}}{\\Delta_{\\theta}} - \\frac{1}{\\Delta_{\\theta}} + \\frac{2 a b g^{2} q \\rho^{2} + 2 m \\rho^{2} - q^{2}}{\\Delta_{\\theta}^{2} \\rho^{4}} & 0 & 0 & \\frac{a \\left(1 - \\cos{\\left(4 \\theta \\right)}\\right) \\left(- \\Delta_{\\theta} q \\rho^{2} - 2 a b g^{2} q \\rho^{2} - 2 m \\rho^{2} + q^{2}\\right)}{2 \\Delta_{\\theta}^{2} \\rho^{4}}\\\\0 & \\frac{\\rho^{2}}{- 2 m + \\frac{2 a b q + q^{2} + \\left(a^{2} + r^{2}\\right) \\left(b^{2} + r^{2}\\right) \\left(g^{2} r^{2} + 1\\right)}{r^{2}}} & 0 & 0\\\\0 & 0 & \\frac{\\left(1 - \\cos{\\left(4 \\theta \\right)}\\right) \\left(a^{2} + r^{2}\\right)}{8 \\Delta_{\\theta}} & - \\frac{\\left(a^{2} + r^{2}\\right) \\left(\\cos{\\left(2 \\theta \\right)} - \\cos{\\left(6 \\theta \\right)}\\right)}{8 \\Delta_{\\theta}}\\\\\\frac{a \\left(1 - \\cos{\\left(4 \\theta \\right)}\\right) \\left(- \\Delta_{\\theta} q \\rho^{2} - 2 a b g^{2} q \\rho^{2} - 2 m \\rho^{2} + q^{2}\\right)}{2 \\Delta_{\\theta}^{2} \\rho^{4}} & 0 & - \\frac{\\left(a^{2} + r^{2}\\right) \\left(\\cos{\\left(2 \\theta \\right)} - \\cos{\\left(6 \\theta \\right)}\\right)}{8 \\Delta_{\\theta}} & \\frac{\\left(\\Delta_{\\theta} a^{2} q \\rho^{2} \\cdot \\left(1 - \\cos{\\left(4 \\theta \\right)}\\right) + \\Delta_{\\theta} \\rho^{4} \\left(a^{2} + r^{2}\\right) + \\frac{a^{2} \\cdot \\left(1 - \\cos{\\left(4 \\theta \\right)}\\right) \\left(2 a b g^{2} q \\rho^{2} + 2 m \\rho^{2} - q^{2}\\right)}{2}\\right) \\sin^{2}{\\left(\\theta \\right)} \\cos^{2}{\\left(\\theta \\right)}}{\\Delta_{\\theta}^{2} \\rho^{4}}\\end{matrix}\\right]$"
      ],
      "text/plain": [
       "⎡          2  2                    2    2        2    2                       \n",
       "⎢         g ⋅r       1      2⋅a⋅b⋅g ⋅q⋅ρ  + 2⋅m⋅ρ  - q                        \n",
       "⎢       - ────── - ────── + ───────────────────────────                       \n",
       "⎢         Δₜₕₑₜₐ   Δₜₕₑₜₐ                  2  4                               \n",
       "⎢                                    Δₜₕₑₜₐ ⋅ρ                                \n",
       "⎢                                                                             \n",
       "⎢                                                                             \n",
       "⎢                                                                             \n",
       "⎢                              0                                 ─────────────\n",
       "⎢                                                                             \n",
       "⎢                                                                       2⋅a⋅b⋅\n",
       "⎢                                                                -2⋅m + ──────\n",
       "⎢                                                                             \n",
       "⎢                                                                             \n",
       "⎢                                                                             \n",
       "⎢                                                                             \n",
       "⎢                                                                             \n",
       "⎢                              0                                              \n",
       "⎢                                                                             \n",
       "⎢                                                                             \n",
       "⎢                                                                             \n",
       "⎢                                                                             \n",
       "⎢                 ⎛            2          2    2        2    2⎞               \n",
       "⎢a⋅(1 - cos(4⋅θ))⋅⎝- Δₜₕₑₜₐ⋅q⋅ρ  - 2⋅a⋅b⋅g ⋅q⋅ρ  - 2⋅m⋅ρ  + q ⎠               \n",
       "⎢──────────────────────────────────────────────────────────────               \n",
       "⎢                                 2  4                                        \n",
       "⎣                         2⋅Δₜₕₑₜₐ ⋅ρ                                         \n",
       "\n",
       "                                                                              \n",
       "                                                                              \n",
       "             0                                            0                   \n",
       "                                                                              \n",
       "                                                                              \n",
       "                                                                              \n",
       "              2                                                               \n",
       "             ρ                                                                \n",
       "────────────────────────────────────────                  0                   \n",
       "     2   ⎛ 2    2⎞ ⎛ 2    2⎞ ⎛ 2  2    ⎞                                      \n",
       "q + q  + ⎝a  + r ⎠⋅⎝b  + r ⎠⋅⎝g ⋅r  + 1⎠                                      \n",
       "────────────────────────────────────────                                      \n",
       "                 2                                                            \n",
       "                r                                                             \n",
       "                                                                              \n",
       "                                                             ⎛ 2    2⎞        \n",
       "                                              (1 - cos(4⋅θ))⋅⎝a  + r ⎠        \n",
       "             0                                ────────────────────────        \n",
       "                                                      8⋅Δₜₕₑₜₐ                \n",
       "                                                                              \n",
       "                                                                             ⎛\n",
       "                                                                             ⎜\n",
       "                                           ⎛ 2    2⎞                         ⎜\n",
       "                                          -⎝a  + r ⎠⋅(cos(2⋅θ) - cos(6⋅θ))   ⎝\n",
       "             0                            ─────────────────────────────────  ─\n",
       "                                                       8⋅Δₜₕₑₜₐ               \n",
       "                                                                              \n",
       "\n",
       "                                            ⎛            2          2    2    \n",
       "                           a⋅(1 - cos(4⋅θ))⋅⎝- Δₜₕₑₜₐ⋅q⋅ρ  - 2⋅a⋅b⋅g ⋅q⋅ρ  - 2\n",
       "                           ───────────────────────────────────────────────────\n",
       "                                                            2  4              \n",
       "                                                    2⋅Δₜₕₑₜₐ ⋅ρ               \n",
       "                                                                              \n",
       "                                                                              \n",
       "                                                                              \n",
       "                                                          0                   \n",
       "                                                                              \n",
       "                                                                              \n",
       "                                                                              \n",
       "                                                                              \n",
       "                                                                              \n",
       "                                                                              \n",
       "                                           ⎛ 2    2⎞                          \n",
       "                                          -⎝a  + r ⎠⋅(cos(2⋅θ) - cos(6⋅θ))    \n",
       "                                          ─────────────────────────────────   \n",
       "                                                       8⋅Δₜₕₑₜₐ               \n",
       "                                                                              \n",
       "                                                       2                ⎛     \n",
       "        2    2                          4 ⎛ 2    2⎞   a ⋅(1 - cos(4⋅θ))⋅⎝2⋅a⋅b\n",
       "Δₜₕₑₜₐ⋅a ⋅q⋅ρ ⋅(1 - cos(4⋅θ)) + Δₜₕₑₜₐ⋅ρ ⋅⎝a  + r ⎠ + ────────────────────────\n",
       "                                                                             2\n",
       "──────────────────────────────────────────────────────────────────────────────\n",
       "                                                            2  4              \n",
       "                                                      Δₜₕₑₜₐ ⋅ρ               \n",
       "\n",
       "    2    2⎞                             ⎤\n",
       "⋅m⋅ρ  + q ⎠                             ⎥\n",
       "───────────                             ⎥\n",
       "                                        ⎥\n",
       "                                        ⎥\n",
       "                                        ⎥\n",
       "                                        ⎥\n",
       "                                        ⎥\n",
       "                                        ⎥\n",
       "                                        ⎥\n",
       "                                        ⎥\n",
       "                                        ⎥\n",
       "                                        ⎥\n",
       "                                        ⎥\n",
       "                                        ⎥\n",
       "                                        ⎥\n",
       "                                        ⎥\n",
       "                                        ⎥\n",
       "                                        ⎥\n",
       "                                        ⎥\n",
       "  2    2        2    2⎞⎞                ⎥\n",
       "⋅g ⋅q⋅ρ  + 2⋅m⋅ρ  - q ⎠⎟    2       2   ⎥\n",
       "───────────────────────⎟⋅sin (θ)⋅cos (θ)⎥\n",
       "                       ⎠                ⎥\n",
       "────────────────────────────────────────⎥\n",
       "                                        ⎥\n",
       "                                        ⎦"
      ]
     },
     "execution_count": 23,
     "metadata": {},
     "output_type": "execute_result"
    }
   ],
   "source": [
    "g_mat_2 = g_mat.subs({delta_r: delta_r_val, f: f_val})\n",
    "g_mat_2"
   ]
  }
 ],
 "metadata": {
  "kernelspec": {
   "display_name": "env",
   "language": "python",
   "name": "python3"
  },
  "language_info": {
   "codemirror_mode": {
    "name": "ipython",
    "version": 3
   },
   "file_extension": ".py",
   "mimetype": "text/x-python",
   "name": "python",
   "nbconvert_exporter": "python",
   "pygments_lexer": "ipython3",
   "version": "3.10.3"
  },
  "orig_nbformat": 4
 },
 "nbformat": 4,
 "nbformat_minor": 2
}
