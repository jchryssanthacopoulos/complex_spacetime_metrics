{
 "cells": [
  {
   "cell_type": "code",
   "execution_count": 1,
   "metadata": {},
   "outputs": [],
   "source": [
    "import matplotlib.pyplot as plt\n",
    "import numpy as np\n",
    "import sympy\n",
    "\n",
    "sympy.init_printing()"
   ]
  },
  {
   "attachments": {},
   "cell_type": "markdown",
   "metadata": {},
   "source": [
    "### Variable Definitions"
   ]
  },
  {
   "cell_type": "code",
   "execution_count": 2,
   "metadata": {},
   "outputs": [],
   "source": [
    "t, r, theta, phi, phi_tilde = sympy.symbols(\"t r theta phi \\\\tilde{\\phi}\")"
   ]
  },
  {
   "cell_type": "code",
   "execution_count": 3,
   "metadata": {},
   "outputs": [],
   "source": [
    "dt, dr, dtheta, dphi, dphi_tilde = sympy.symbols(r\"dt dr d\\theta d\\phi d\\tilde{\\phi}\")"
   ]
  },
  {
   "cell_type": "code",
   "execution_count": 4,
   "metadata": {},
   "outputs": [],
   "source": [
    "r_tilde, delta_r, delta_theta, W, xi = sympy.symbols(\"\\\\tilde{r} Delta_r Delta_theta W Xi\")"
   ]
  },
  {
   "cell_type": "code",
   "execution_count": 5,
   "metadata": {},
   "outputs": [],
   "source": [
    "tau, dtau = sympy.symbols(\"tau d\\\\tau\")"
   ]
  },
  {
   "cell_type": "code",
   "execution_count": 6,
   "metadata": {},
   "outputs": [],
   "source": [
    "a, r_tilde_plus = sympy.symbols(\"a \\\\tilde{r}_+\")"
   ]
  },
  {
   "attachments": {},
   "cell_type": "markdown",
   "metadata": {},
   "source": [
    "### Metric"
   ]
  },
  {
   "cell_type": "code",
   "execution_count": 7,
   "metadata": {},
   "outputs": [
    {
     "data": {
      "image/png": "[encoded data removed]",
      "text/latex": [
       "$\\displaystyle - \\frac{\\Delta_{r} \\left(dt - \\frac{a d\\phi \\sin^{2}{\\left(\\theta \\right)}}{\\Xi}\\right)^{2}}{W} + \\frac{\\Delta_{\\theta} \\left(a dt - \\frac{d\\phi \\left(\\tilde{r}^{2} + a^{2}\\right)}{\\Xi}\\right)^{2} \\sin^{2}{\\left(\\theta \\right)}}{W}$"
      ],
      "text/plain": [
       "                           2                                          2       \n",
       "     ⎛                2   ⎞           ⎛             ⎛         2    2⎞⎞        \n",
       "     ⎜     a⋅d\\phi⋅sin (θ)⎟           ⎜       d\\phi⋅⎝\\tilde{r}  + a ⎠⎟     2  \n",
       "  Δᵣ⋅⎜dt - ───────────────⎟    Δₜₕₑₜₐ⋅⎜a⋅dt - ───────────────────────⎟ ⋅sin (θ\n",
       "     ⎝            Ξ       ⎠           ⎝                  Ξ           ⎠        \n",
       "- ────────────────────────── + ───────────────────────────────────────────────\n",
       "              W                                       W                       \n",
       "\n",
       " \n",
       " \n",
       " \n",
       ")\n",
       " \n",
       "─\n",
       " "
      ]
     },
     "execution_count": 7,
     "metadata": {},
     "output_type": "execute_result"
    }
   ],
   "source": [
    "metric_orig = -delta_r / W * (dt - a * sympy.sin(theta) ** 2 * dphi / xi) ** 2\n",
    "metric_orig += delta_theta * sympy.sin(theta) ** 2 / W * (a * dt - (r_tilde ** 2 + a ** 2) * dphi / xi) ** 2\n",
    "metric_orig"
   ]
  },
  {
   "attachments": {},
   "cell_type": "markdown",
   "metadata": {},
   "source": [
    "#### Just Wick Rotation"
   ]
  },
  {
   "cell_type": "code",
   "execution_count": 8,
   "metadata": {},
   "outputs": [],
   "source": [
    "dt_val = sympy.I * dtau"
   ]
  },
  {
   "cell_type": "code",
   "execution_count": 9,
   "metadata": {},
   "outputs": [
    {
     "data": {
      "image/png": "[encoded data removed]",
      "text/latex": [
       "$\\displaystyle d\\phi^{2} \\left(- \\frac{\\Delta_{r} a^{2} \\sin^{4}{\\left(\\theta \\right)}}{W \\Xi^{2}} + \\frac{\\Delta_{\\theta} \\tilde{r}^{4} \\sin^{2}{\\left(\\theta \\right)}}{W \\Xi^{2}} + \\frac{2 \\Delta_{\\theta} \\tilde{r}^{2} a^{2} \\sin^{2}{\\left(\\theta \\right)}}{W \\Xi^{2}} + \\frac{\\Delta_{\\theta} a^{4} \\sin^{2}{\\left(\\theta \\right)}}{W \\Xi^{2}}\\right) + d\\phi d\\tau \\left(\\frac{2 i \\Delta_{r} a \\sin^{2}{\\left(\\theta \\right)}}{W \\Xi} - \\frac{2 i \\Delta_{\\theta} \\tilde{r}^{2} a \\sin^{2}{\\left(\\theta \\right)}}{W \\Xi} - \\frac{2 i \\Delta_{\\theta} a^{3} \\sin^{2}{\\left(\\theta \\right)}}{W \\Xi}\\right) + d\\tau^{2} \\left(\\frac{\\Delta_{r}}{W} - \\frac{\\Delta_{\\theta} a^{2} \\sin^{2}{\\left(\\theta \\right)}}{W}\\right)$"
      ],
      "text/plain": [
       "       ⎛      2    4                      4    2                        2  2  \n",
       "     2 ⎜  Δᵣ⋅a ⋅sin (θ)   Δₜₕₑₜₐ⋅\\tilde{r} ⋅sin (θ)   2⋅Δₜₕₑₜₐ⋅\\tilde{r} ⋅a ⋅s\n",
       "d\\phi ⋅⎜- ───────────── + ───────────────────────── + ────────────────────────\n",
       "       ⎜          2                     2                             2       \n",
       "       ⎝       W⋅Ξ                   W⋅Ξ                           W⋅Ξ        \n",
       "\n",
       "  2              4    2   ⎞               ⎛            2                      \n",
       "in (θ)   Δₜₕₑₜₐ⋅a ⋅sin (θ)⎟               ⎜2⋅ⅈ⋅Δᵣ⋅a⋅sin (θ)   2⋅ⅈ⋅Δₜₕₑₜₐ⋅\\tild\n",
       "────── + ─────────────────⎟ + d\\phi⋅d\\tau⋅⎜──────────────── - ────────────────\n",
       "                   2      ⎟               ⎝      W⋅Ξ                        W⋅\n",
       "                W⋅Ξ       ⎠                                                   \n",
       "\n",
       "    2      2                  3    2   ⎞          ⎛             2    2   ⎞\n",
       "e{r} ⋅a⋅sin (θ)   2⋅ⅈ⋅Δₜₕₑₜₐ⋅a ⋅sin (θ)⎟        2 ⎜Δᵣ   Δₜₕₑₜₐ⋅a ⋅sin (θ)⎟\n",
       "─────────────── - ─────────────────────⎟ + d\\tau ⋅⎜── - ─────────────────⎟\n",
       "Ξ                          W⋅Ξ         ⎠          ⎝W            W        ⎠\n",
       "                                                                          "
      ]
     },
     "execution_count": 9,
     "metadata": {},
     "output_type": "execute_result"
    }
   ],
   "source": [
    "euclidean_metric = metric_orig.subs({dt: dt_val}).expand().collect([dtau ** 2, dtau * dphi, dphi ** 2])\n",
    "euclidean_metric"
   ]
  },
  {
   "cell_type": "code",
   "execution_count": 10,
   "metadata": {},
   "outputs": [],
   "source": [
    "metric_list_matrix = [[0 for i in range(2)] for i in range(2)]\n",
    "metric_list_matrix[0][0] = euclidean_metric.coeff(dtau ** 2)\n",
    "metric_list_matrix[0][1] = euclidean_metric.coeff(dtau * dphi) / 2\n",
    "metric_list_matrix[1][0] = metric_list_matrix[0][1]\n",
    "metric_list_matrix[1][1] = euclidean_metric.coeff(dphi ** 2)"
   ]
  },
  {
   "cell_type": "code",
   "execution_count": 11,
   "metadata": {},
   "outputs": [
    {
     "data": {
      "text/latex": [
       "$\\displaystyle \\left[\\begin{matrix}\\frac{\\Delta_{r} - \\Delta_{\\theta} a^{2} \\sin^{2}{\\left(\\theta \\right)}}{W} & \\frac{i a \\left(\\Delta_{r} - \\Delta_{\\theta} \\tilde{r}^{2} - \\Delta_{\\theta} a^{2}\\right) \\sin^{2}{\\left(\\theta \\right)}}{W \\Xi}\\\\\\frac{i a \\left(\\Delta_{r} - \\Delta_{\\theta} \\tilde{r}^{2} - \\Delta_{\\theta} a^{2}\\right) \\sin^{2}{\\left(\\theta \\right)}}{W \\Xi} & \\frac{\\left(- \\Delta_{r} a^{2} \\sin^{2}{\\left(\\theta \\right)} + \\Delta_{\\theta} \\tilde{r}^{4} + 2 \\Delta_{\\theta} \\tilde{r}^{2} a^{2} + \\Delta_{\\theta} a^{4}\\right) \\sin^{2}{\\left(\\theta \\right)}}{W \\Xi^{2}}\\end{matrix}\\right]$"
      ],
      "text/plain": [
       "⎡                          2    2                                       ⎛     \n",
       "⎢             Δᵣ - Δₜₕₑₜₐ⋅a ⋅sin (θ)                                ⅈ⋅a⋅⎝Δᵣ - \n",
       "⎢             ──────────────────────                                ──────────\n",
       "⎢                       W                                                     \n",
       "⎢                                                                             \n",
       "⎢    ⎛                     2           2⎞    2     ⎛      2    2              \n",
       "⎢ⅈ⋅a⋅⎝Δᵣ - Δₜₕₑₜₐ⋅\\tilde{r}  - Δₜₕₑₜₐ⋅a ⎠⋅sin (θ)  ⎝- Δᵣ⋅a ⋅sin (θ) + Δₜₕₑₜₐ⋅\\\n",
       "⎢────────────────────────────────────────────────  ───────────────────────────\n",
       "⎢                      W⋅Ξ                                                    \n",
       "⎣                                                                             \n",
       "\n",
       "                2           2⎞    2                    ⎤\n",
       "Δₜₕₑₜₐ⋅\\tilde{r}  - Δₜₕₑₜₐ⋅a ⎠⋅sin (θ)                 ⎥\n",
       "──────────────────────────────────────                 ⎥\n",
       "            W⋅Ξ                                        ⎥\n",
       "                                                       ⎥\n",
       "        4                     2  2           4⎞    2   ⎥\n",
       "tilde{r}  + 2⋅Δₜₕₑₜₐ⋅\\tilde{r} ⋅a  + Δₜₕₑₜₐ⋅a ⎠⋅sin (θ)⎥\n",
       "───────────────────────────────────────────────────────⎥\n",
       "               2                                       ⎥\n",
       "            W⋅Ξ                                        ⎦"
      ]
     },
     "execution_count": 11,
     "metadata": {},
     "output_type": "execute_result"
    }
   ],
   "source": [
    "g_mat = sympy.Matrix(metric_list_matrix)\n",
    "g_mat.simplify()\n",
    "g_mat"
   ]
  },
  {
   "cell_type": "code",
   "execution_count": 12,
   "metadata": {},
   "outputs": [
    {
     "data": {
      "image/png": "[encoded data removed]",
      "text/latex": [
       "$\\displaystyle \\frac{\\Delta_{r} \\Delta_{\\theta} \\left(\\tilde{r}^{2} + a^{2} \\cos^{2}{\\left(\\theta \\right)}\\right)^{2} \\sin^{2}{\\left(\\theta \\right)}}{W^{2} \\Xi^{2}}$"
      ],
      "text/plain": [
       "                                   2        \n",
       "          ⎛         2    2    2   ⎞     2   \n",
       "Δᵣ⋅Δₜₕₑₜₐ⋅⎝\\tilde{r}  + a ⋅cos (θ)⎠ ⋅sin (θ)\n",
       "────────────────────────────────────────────\n",
       "                    2  2                    \n",
       "                   W ⋅Ξ                     "
      ]
     },
     "execution_count": 12,
     "metadata": {},
     "output_type": "execute_result"
    }
   ],
   "source": [
    "g_mat.det().simplify()"
   ]
  },
  {
   "cell_type": "code",
   "execution_count": 13,
   "metadata": {},
   "outputs": [
    {
     "data": {
      "image/png": "[encoded data removed]",
      "text/latex": [
       "$\\displaystyle \\Delta_{r} - \\Delta_{\\theta} a^{2} \\sin^{2}{\\left(\\theta \\right)}$"
      ],
      "text/plain": [
       "             2    2   \n",
       "Δᵣ - Δₜₕₑₜₐ⋅a ⋅sin (θ)"
      ]
     },
     "execution_count": 13,
     "metadata": {},
     "output_type": "execute_result"
    }
   ],
   "source": [
    "g_00 = delta_r - delta_theta * a ** 2 * sympy.sin(theta) ** 2\n",
    "g_00"
   ]
  },
  {
   "cell_type": "code",
   "execution_count": 14,
   "metadata": {},
   "outputs": [
    {
     "data": {
      "image/png": "[encoded data removed]",
      "text/latex": [
       "$\\displaystyle - \\Delta_{r} a^{2} \\sin^{2}{\\left(\\theta \\right)} + \\Delta_{\\theta} \\left(\\tilde{r}^{2} + a^{2}\\right)^{2}$"
      ],
      "text/plain": [
       "                                          2\n",
       "      2    2             ⎛         2    2⎞ \n",
       "- Δᵣ⋅a ⋅sin (θ) + Δₜₕₑₜₐ⋅⎝\\tilde{r}  + a ⎠ "
      ]
     },
     "execution_count": 14,
     "metadata": {},
     "output_type": "execute_result"
    }
   ],
   "source": [
    "g_11 = (r_tilde ** 2 + a ** 2) ** 2 * delta_theta - delta_r * a ** 2 * sympy.sin(theta) ** 2\n",
    "g_11"
   ]
  },
  {
   "cell_type": "code",
   "execution_count": 15,
   "metadata": {},
   "outputs": [
    {
     "data": {
      "image/png": "[encoded data removed]",
      "text/latex": [
       "$\\displaystyle 0$"
      ],
      "text/plain": [
       "0"
      ]
     },
     "execution_count": 15,
     "metadata": {},
     "output_type": "execute_result"
    }
   ],
   "source": [
    "(g_11 * sympy.sin(theta) ** 2 / (W * xi ** 2) - g_mat[1, 1]).simplify()"
   ]
  },
  {
   "cell_type": "code",
   "execution_count": 16,
   "metadata": {},
   "outputs": [
    {
     "data": {
      "image/png": "[encoded data removed]",
      "text/latex": [
       "$\\displaystyle \\left(- \\tilde{r} + \\tilde{r}_+\\right)^{2} \\left(\\tilde{r}_+^{2} + 1\\right)^{2} + \\left(\\tilde{r}^{2} - \\tilde{r}_+^{2}\\right)^{2}$"
      ],
      "text/plain": [
       "                                            2                             2\n",
       "                         2 ⎛          2    ⎞    ⎛         2             2⎞ \n",
       "(-\\tilde{r} + \\tilde{r}₊) ⋅⎝\\tilde{r}₊  + 1⎠  + ⎝\\tilde{r}  - \\tilde{r}₊ ⎠ "
      ]
     },
     "execution_count": 16,
     "metadata": {},
     "output_type": "execute_result"
    }
   ],
   "source": [
    "delta_r_val = (r_tilde ** 2 - r_tilde_plus ** 2) ** 2 + (r_tilde_plus ** 2 + 1) ** 2 * ((r_tilde_plus - r_tilde) ** 2)\n",
    "delta_r_val"
   ]
  },
  {
   "cell_type": "code",
   "execution_count": 17,
   "metadata": {},
   "outputs": [],
   "source": [
    "xi_val = 1 - a ** 2\n",
    "a_val = r_tilde_plus ** 2\n",
    "delta_theta_val = 1 - a ** 2 * sympy.cos(theta) ** 2"
   ]
  },
  {
   "attachments": {},
   "cell_type": "markdown",
   "metadata": {},
   "source": [
    "##### $g_{00}$"
   ]
  },
  {
   "cell_type": "code",
   "execution_count": 18,
   "metadata": {},
   "outputs": [
    {
     "data": {
      "image/png": "[encoded data removed]",
      "text/latex": [
       "$\\displaystyle \\tilde{r}^{4} + \\tilde{r}^{2} \\left(\\tilde{r}_+^{4} + 1\\right) + \\tilde{r} \\left(- 2 \\tilde{r}_+^{5} - 4 \\tilde{r}_+^{3} - 2 \\tilde{r}_+\\right) + \\tilde{r}_+^{8} \\sin^{2}{\\left(\\theta \\right)} \\cos^{2}{\\left(\\theta \\right)} + \\tilde{r}_+^{6} - \\tilde{r}_+^{4} \\sin^{2}{\\left(\\theta \\right)} + 3 \\tilde{r}_+^{4} + \\tilde{r}_+^{2}$"
      ],
      "text/plain": [
       "         4            2 ⎛          4    ⎞             ⎛              5        \n",
       "\\tilde{r}  + \\tilde{r} ⋅⎝\\tilde{r}₊  + 1⎠ + \\tilde{r}⋅⎝- 2⋅\\tilde{r}₊  - 4⋅\\ti\n",
       "\n",
       "       3               ⎞             8    2       2                6          \n",
       "lde{r}₊  - 2⋅\\tilde{r}₊⎠ + \\tilde{r}₊ ⋅sin (θ)⋅cos (θ) + \\tilde{r}₊  - \\tilde{\n",
       "\n",
       "   4    2                  4             2\n",
       "r}₊ ⋅sin (θ) + 3⋅\\tilde{r}₊  + \\tilde{r}₊ "
      ]
     },
     "execution_count": 18,
     "metadata": {},
     "output_type": "execute_result"
    }
   ],
   "source": [
    "g_00_simp = g_00.subs({delta_r: delta_r_val, xi: xi_val, delta_theta: delta_theta_val}).subs({a: a_val})\n",
    "g_00_simp = g_00_simp.expand().collect([r_tilde, r_tilde ** 2, r_tilde ** 3, r_tilde ** 4])\n",
    "g_00_simp"
   ]
  },
  {
   "cell_type": "code",
   "execution_count": 19,
   "metadata": {},
   "outputs": [
    {
     "data": {
      "image/png": "[encoded data removed]",
      "text/latex": [
       "$\\displaystyle - 2 \\tilde{r}_+ \\left(\\tilde{r}_+^{2} + 1\\right)^{2}$"
      ],
      "text/plain": [
       "                               2\n",
       "              ⎛          2    ⎞ \n",
       "-2⋅\\tilde{r}₊⋅⎝\\tilde{r}₊  + 1⎠ "
      ]
     },
     "execution_count": 19,
     "metadata": {},
     "output_type": "execute_result"
    }
   ],
   "source": [
    "A_coeff_00 = g_00_simp.coeff(r_tilde).simplify()\n",
    "A_coeff_00.factor()"
   ]
  },
  {
   "cell_type": "code",
   "execution_count": 20,
   "metadata": {},
   "outputs": [
    {
     "data": {
      "image/png": "[encoded data removed]",
      "text/latex": [
       "$\\displaystyle \\tilde{r}_+^{4} + 1$"
      ],
      "text/plain": [
       "          4    \n",
       "\\tilde{r}₊  + 1"
      ]
     },
     "execution_count": 20,
     "metadata": {},
     "output_type": "execute_result"
    }
   ],
   "source": [
    "B_coeff_00 = g_00_simp.coeff(r_tilde ** 2).simplify().factor()\n",
    "B_coeff_00"
   ]
  },
  {
   "cell_type": "code",
   "execution_count": 21,
   "metadata": {},
   "outputs": [
    {
     "data": {
      "image/png": "[encoded data removed]",
      "text/latex": [
       "$\\displaystyle 1$"
      ],
      "text/plain": [
       "1"
      ]
     },
     "execution_count": 21,
     "metadata": {},
     "output_type": "execute_result"
    }
   ],
   "source": [
    "C_coeff_00 = g_00_simp.coeff(r_tilde ** 4).simplify().factor()\n",
    "C_coeff_00"
   ]
  },
  {
   "cell_type": "code",
   "execution_count": 22,
   "metadata": {},
   "outputs": [
    {
     "data": {
      "image/png": "[encoded data removed]",
      "text/latex": [
       "$\\displaystyle \\tilde{r}_+^{2} \\left(\\tilde{r}_+^{6} \\sin^{2}{\\left(\\theta \\right)} \\cos^{2}{\\left(\\theta \\right)} + \\tilde{r}_+^{4} - \\tilde{r}_+^{2} \\sin^{2}{\\left(\\theta \\right)} + 3 \\tilde{r}_+^{2} + 1\\right)$"
      ],
      "text/plain": [
       "          2 ⎛          6    2       2                4             2    2     \n",
       "\\tilde{r}₊ ⋅⎝\\tilde{r}₊ ⋅sin (θ)⋅cos (θ) + \\tilde{r}₊  - \\tilde{r}₊ ⋅sin (θ) +\n",
       "\n",
       "             2    ⎞\n",
       " 3⋅\\tilde{r}₊  + 1⎠"
      ]
     },
     "execution_count": 22,
     "metadata": {},
     "output_type": "execute_result"
    }
   ],
   "source": [
    "D_coeff_00 = g_00_simp - A_coeff_00 * r_tilde - B_coeff_00 * r_tilde ** 2 - C_coeff_00 * r_tilde ** 4\n",
    "D_coeff_00.factor()"
   ]
  },
  {
   "attachments": {},
   "cell_type": "markdown",
   "metadata": {},
   "source": [
    "##### $g_{11}$"
   ]
  },
  {
   "cell_type": "code",
   "execution_count": 23,
   "metadata": {},
   "outputs": [
    {
     "data": {
      "image/png": "[encoded data removed]",
      "text/latex": [
       "$\\displaystyle \\frac{\\tilde{r}^{4} \\cdot \\left(1 - \\tilde{r}_+^{4}\\right) + \\tilde{r}^{2} \\tilde{r}_+^{4} \\left(- \\tilde{r}_+^{4} \\cos^{2}{\\left(\\theta \\right)} - \\tilde{r}_+^{4} + \\cos^{2}{\\left(\\theta \\right)} + 1\\right) + 2 \\tilde{r} \\tilde{r}_+^{5} \\left(\\tilde{r}_+^{4} + 2 \\tilde{r}_+^{2} + 1\\right) \\sin^{2}{\\left(\\theta \\right)} - \\tilde{r}_+^{12} \\cos^{2}{\\left(\\theta \\right)} - \\tilde{r}_+^{10} \\sin^{2}{\\left(\\theta \\right)} - 3 \\tilde{r}_+^{8} \\sin^{2}{\\left(\\theta \\right)} + \\tilde{r}_+^{8} - \\tilde{r}_+^{6} \\sin^{2}{\\left(\\theta \\right)}}{\\tilde{r}_+^{2} + 1}$"
      ],
      "text/plain": [
       "         4 ⎛              4⎞            2           4 ⎛            4    2     \n",
       "\\tilde{r} ⋅⎝1 - \\tilde{r}₊ ⎠ + \\tilde{r} ⋅\\tilde{r}₊ ⋅⎝- \\tilde{r}₊ ⋅cos (θ) -\n",
       "──────────────────────────────────────────────────────────────────────────────\n",
       "                                                                              \n",
       "                                                                              \n",
       "\n",
       "           4      2       ⎞                         5 ⎛          4            \n",
       " \\tilde{r}₊  + cos (θ) + 1⎠ + 2⋅\\tilde{r}⋅\\tilde{r}₊ ⋅⎝\\tilde{r}₊  + 2⋅\\tilde{\n",
       "──────────────────────────────────────────────────────────────────────────────\n",
       "                                                                2             \n",
       "                                                      \\tilde{r}₊  + 1         \n",
       "\n",
       "   2    ⎞    2                12    2                10    2                  \n",
       "r}₊  + 1⎠⋅sin (θ) - \\tilde{r}₊  ⋅cos (θ) - \\tilde{r}₊  ⋅sin (θ) - 3⋅\\tilde{r}₊\n",
       "──────────────────────────────────────────────────────────────────────────────\n",
       "                                                                              \n",
       "                                                                              \n",
       "\n",
       "8    2                8             6    2   \n",
       " ⋅sin (θ) + \\tilde{r}₊  - \\tilde{r}₊ ⋅sin (θ)\n",
       "─────────────────────────────────────────────\n",
       "                                             \n",
       "                                             "
      ]
     },
     "execution_count": 23,
     "metadata": {},
     "output_type": "execute_result"
    }
   ],
   "source": [
    "g_11_simp = g_11.subs({delta_r: delta_r_val, delta_theta: delta_theta_val}).subs({a: a_val})\n",
    "g_11_simp /= (r_tilde_plus ** 2 + 1)\n",
    "g_11_simp = g_11_simp.expand().collect([r_tilde, r_tilde ** 2, r_tilde ** 3, r_tilde ** 4])\n",
    "g_11_simp.simplify()"
   ]
  },
  {
   "cell_type": "code",
   "execution_count": 24,
   "metadata": {},
   "outputs": [
    {
     "data": {
      "image/png": "[encoded data removed]",
      "text/latex": [
       "$\\displaystyle 2 \\tilde{r}_+^{5} \\left(\\tilde{r}_+^{2} + 1\\right) \\sin^{2}{\\left(\\theta \\right)}$"
      ],
      "text/plain": [
       "            5 ⎛          2    ⎞    2   \n",
       "2⋅\\tilde{r}₊ ⋅⎝\\tilde{r}₊  + 1⎠⋅sin (θ)"
      ]
     },
     "execution_count": 24,
     "metadata": {},
     "output_type": "execute_result"
    }
   ],
   "source": [
    "A_coeff_11 = g_11_simp.coeff(r_tilde).simplify()\n",
    "A_coeff_11.factor()"
   ]
  },
  {
   "cell_type": "code",
   "execution_count": 25,
   "metadata": {},
   "outputs": [
    {
     "data": {
      "image/png": "[encoded data removed]",
      "text/latex": [
       "$\\displaystyle - \\tilde{r}_+^{4} \\left(\\tilde{r}_+ - 1\\right) \\left(\\tilde{r}_+ + 1\\right) \\left(\\cos^{2}{\\left(\\theta \\right)} + 1\\right)$"
      ],
      "text/plain": [
       "           4                                   ⎛   2       ⎞\n",
       "-\\tilde{r}₊ ⋅(\\tilde{r}₊ - 1)⋅(\\tilde{r}₊ + 1)⋅⎝cos (θ) + 1⎠"
      ]
     },
     "execution_count": 25,
     "metadata": {},
     "output_type": "execute_result"
    }
   ],
   "source": [
    "B_coeff_11 = g_11_simp.coeff(r_tilde ** 2).simplify().factor()\n",
    "B_coeff_11"
   ]
  },
  {
   "cell_type": "code",
   "execution_count": 26,
   "metadata": {},
   "outputs": [
    {
     "data": {
      "image/png": "[encoded data removed]",
      "text/latex": [
       "$\\displaystyle - \\left(\\tilde{r}_+ - 1\\right) \\left(\\tilde{r}_+ + 1\\right)$"
      ],
      "text/plain": [
       "-(\\tilde{r}₊ - 1)⋅(\\tilde{r}₊ + 1)"
      ]
     },
     "execution_count": 26,
     "metadata": {},
     "output_type": "execute_result"
    }
   ],
   "source": [
    "C_coeff_11 = g_11_simp.coeff(r_tilde ** 4).simplify().factor()\n",
    "C_coeff_11"
   ]
  },
  {
   "cell_type": "code",
   "execution_count": 27,
   "metadata": {},
   "outputs": [
    {
     "data": {
      "image/png": "[encoded data removed]",
      "text/latex": [
       "$\\displaystyle \\tilde{r}_+^{6} \\left(\\tilde{r}_+^{4} \\sin^{2}{\\left(\\theta \\right)} - \\tilde{r}_+^{4} - 2 \\tilde{r}_+^{2} \\sin^{2}{\\left(\\theta \\right)} + \\tilde{r}_+^{2} - \\sin^{2}{\\left(\\theta \\right)}\\right)$"
      ],
      "text/plain": [
       "          6 ⎛          4    2                4               2    2           \n",
       "\\tilde{r}₊ ⋅⎝\\tilde{r}₊ ⋅sin (θ) - \\tilde{r}₊  - 2⋅\\tilde{r}₊ ⋅sin (θ) + \\tild\n",
       "\n",
       "     2      2   ⎞\n",
       "e{r}₊  - sin (θ)⎠"
      ]
     },
     "execution_count": 27,
     "metadata": {},
     "output_type": "execute_result"
    }
   ],
   "source": [
    "D_coeff_11 = g_11_simp - A_coeff_11 * r_tilde - B_coeff_11 * r_tilde ** 2 - C_coeff_11 * r_tilde ** 4\n",
    "D_coeff_11.simplify().factor()"
   ]
  },
  {
   "attachments": {},
   "cell_type": "markdown",
   "metadata": {},
   "source": [
    "This is the same as:"
   ]
  },
  {
   "cell_type": "code",
   "execution_count": 28,
   "metadata": {},
   "outputs": [
    {
     "data": {
      "image/png": "[encoded data removed]",
      "text/latex": [
       "$\\displaystyle - \\tilde{r}_+^{6} \\left(\\tilde{r}_+^{4} \\cos^{2}{\\left(\\theta \\right)} - \\tilde{r}_+^{2} \\cos{\\left(2 \\theta \\right)} + \\sin^{2}{\\left(\\theta \\right)}\\right)$"
      ],
      "text/plain": [
       "           6 ⎛          4    2                2               2   ⎞\n",
       "-\\tilde{r}₊ ⋅⎝\\tilde{r}₊ ⋅cos (θ) - \\tilde{r}₊ ⋅cos(2⋅θ) + sin (θ)⎠"
      ]
     },
     "execution_count": 28,
     "metadata": {},
     "output_type": "execute_result"
    }
   ],
   "source": [
    "D_coeff_11_new = -r_tilde_plus ** 6 * (r_tilde_plus ** 4 * sympy.cos(theta) ** 2 - r_tilde_plus ** 2 * sympy.cos(2 * theta) + sympy.sin(theta) ** 2)\n",
    "D_coeff_11_new"
   ]
  },
  {
   "cell_type": "code",
   "execution_count": 29,
   "metadata": {},
   "outputs": [
    {
     "data": {
      "image/png": "[encoded data removed]",
      "text/latex": [
       "$\\displaystyle 0$"
      ],
      "text/plain": [
       "0"
      ]
     },
     "execution_count": 29,
     "metadata": {},
     "output_type": "execute_result"
    }
   ],
   "source": [
    "(D_coeff_11 - D_coeff_11_new).simplify()"
   ]
  },
  {
   "cell_type": "code",
   "execution_count": 30,
   "metadata": {},
   "outputs": [
    {
     "data": {
      "image/png": "[encoded data removed]",
      "text/latex": [
       "$\\displaystyle - \\tilde{r}^{4} \\left(\\tilde{r}_+ - 1\\right) \\left(\\tilde{r}_+ + 1\\right) - \\tilde{r}^{2} \\tilde{r}_+^{4} \\left(\\tilde{r}_+ - 1\\right) \\left(\\tilde{r}_+ + 1\\right) \\left(\\cos^{2}{\\left(\\theta \\right)} + 1\\right) + 2 \\tilde{r} \\tilde{r}_+^{5} \\left(\\tilde{r}_+^{2} + 1\\right) \\sin^{2}{\\left(\\theta \\right)} - \\tilde{r}_+^{6} \\left(\\tilde{r}_+^{4} \\cos^{2}{\\left(\\theta \\right)} - \\tilde{r}_+^{2} \\cos{\\left(2 \\theta \\right)} + \\sin^{2}{\\left(\\theta \\right)}\\right)$"
      ],
      "text/plain": [
       "           4                                              2           4       \n",
       "- \\tilde{r} ⋅(\\tilde{r}₊ - 1)⋅(\\tilde{r}₊ + 1) - \\tilde{r} ⋅\\tilde{r}₊ ⋅(\\tild\n",
       "\n",
       "                            ⎛   2       ⎞                         5 ⎛         \n",
       "e{r}₊ - 1)⋅(\\tilde{r}₊ + 1)⋅⎝cos (θ) + 1⎠ + 2⋅\\tilde{r}⋅\\tilde{r}₊ ⋅⎝\\tilde{r}\n",
       "\n",
       " 2    ⎞    2                6 ⎛          4    2                2              \n",
       "₊  + 1⎠⋅sin (θ) - \\tilde{r}₊ ⋅⎝\\tilde{r}₊ ⋅cos (θ) - \\tilde{r}₊ ⋅cos(2⋅θ) + si\n",
       "\n",
       " 2   ⎞\n",
       "n (θ)⎠"
      ]
     },
     "execution_count": 30,
     "metadata": {},
     "output_type": "execute_result"
    }
   ],
   "source": [
    "sigma_quartic = C_coeff_11 * r_tilde ** 4 + B_coeff_11 * r_tilde ** 2 + A_coeff_11 * r_tilde + D_coeff_11_new\n",
    "sigma_quartic"
   ]
  },
  {
   "cell_type": "code",
   "execution_count": 31,
   "metadata": {},
   "outputs": [],
   "source": [
    "sol = sympy.solve(sigma_quartic, r_tilde)"
   ]
  },
  {
   "cell_type": "code",
   "execution_count": 32,
   "metadata": {},
   "outputs": [],
   "source": [
    "roots = {}\n",
    "\n",
    "r_tilde_plus_vals = range(1, 21)\n",
    "theta_val = 0\n",
    "\n",
    "for r_tilde_plus_val in r_tilde_plus_vals:\n",
    "    root_vals = []\n",
    "    for i in range(4):\n",
    "        root = sol[i].subs({r_tilde_plus: r_tilde_plus_val, theta: theta_val}).evalf()\n",
    "        root_vals.append(root)\n",
    "    roots[r_tilde_plus_val] = root_vals"
   ]
  },
  {
   "cell_type": "code",
   "execution_count": 33,
   "metadata": {},
   "outputs": [
    {
     "data": {
      "text/latex": [
       "$\\displaystyle \\left\\{ 1 : \\left[ \\text{NaN}, \\  \\text{NaN}, \\  \\text{NaN}, \\  \\text{NaN}\\right], \\  2 : \\left[ -1.61558713397062 \\cdot 10^{-27} - 4.0 i, \\  1.61558713381465 \\cdot 10^{-27} + 4.0 i, \\  -1.61558713381465 \\cdot 10^{-27} - 4.0 i, \\  1.61558713397062 \\cdot 10^{-27} + 4.0 i\\right], \\  3 : \\left[ -2.87215490483075 \\cdot 10^{-27} - 9.0 i, \\  2.87215490456528 \\cdot 10^{-27} + 9.0 i, \\  -2.87215490456528 \\cdot 10^{-27} - 9.0 i, \\  2.87215490483075 \\cdot 10^{-27} + 9.0 i\\right], \\  4 : \\left[ -6.46234853588248 \\cdot 10^{-27} - 16.0 i, \\  6.46234853525858 \\cdot 10^{-27} + 16.0 i, \\  -6.46234853525858 \\cdot 10^{-27} - 16.0 i, \\  6.46234853588248 \\cdot 10^{-27} + 16.0 i\\right], \\  5 : \\left[ -8.27180612604307 \\cdot 10^{-27} - 25.0 i, \\  8.27180612501748 \\cdot 10^{-27} + 25.0 i, \\  -8.27180612501748 \\cdot 10^{-27} - 25.0 i, \\  8.27180612604307 \\cdot 10^{-27} + 25.0 i\\right], \\  6 : \\left[ -1.1488619619323 \\cdot 10^{-26} - 36.0 i, \\  1.14886196182611 \\cdot 10^{-26} + 36.0 i, \\  -1.14886196182611 \\cdot 10^{-26} - 36.0 i, \\  1.1488619619323 \\cdot 10^{-26} + 36.0 i\\right], \\  7 : \\left[ -1.68812369919037 \\cdot 10^{-26} - 49.0 i, \\  1.68812369898525 \\cdot 10^{-26} + 49.0 i, \\  -1.68812369898525 \\cdot 10^{-26} - 49.0 i, \\  1.68812369919037 \\cdot 10^{-26} + 49.0 i\\right], \\  8 : \\left[ -2.58493941435299 \\cdot 10^{-26} - 64.0 i, \\  2.58493941410343 \\cdot 10^{-26} + 64.0 i, \\  -2.58493941410343 \\cdot 10^{-26} - 64.0 i, \\  2.58493941435299 \\cdot 10^{-26} + 64.0 i\\right], \\  9 : \\left[ -2.04242126566901 \\cdot 10^{-26} - 81.0 i, \\  2.04242126545705 \\cdot 10^{-26} + 81.0 i, \\  -2.04242126545705 \\cdot 10^{-26} - 81.0 i, \\  2.04242126566901 \\cdot 10^{-26} + 81.0 i\\right], \\  10 : \\left[ -3.30872245041723 \\cdot 10^{-26} - 100.0 i, \\  3.30872245000699 \\cdot 10^{-26} + 100.0 i, \\  -3.30872245000699 \\cdot 10^{-26} - 100.0 i, \\  3.30872245041723 \\cdot 10^{-26} + 100.0 i\\right], \\  11 : \\left[ -5.46896272787288 \\cdot 10^{-26} - 121.0 i, \\  5.46896272737377 \\cdot 10^{-26} + 121.0 i, \\  -5.46896272737377 \\cdot 10^{-26} - 121.0 i, \\  5.46896272787288 \\cdot 10^{-26} + 121.0 i\\right], \\  12 : \\left[ -4.59544784772919 \\cdot 10^{-26} - 144.0 i, \\  4.59544784730445 \\cdot 10^{-26} + 144.0 i, \\  -4.59544784730445 \\cdot 10^{-26} - 144.0 i, \\  4.59544784772919 \\cdot 10^{-26} + 144.0 i\\right], \\  13 : \\left[ -7.83129574055724 \\cdot 10^{-26} - 169.0 i, \\  7.83129573973677 \\cdot 10^{-26} + 169.0 i, \\  -7.83129573973677 \\cdot 10^{-26} - 169.0 i, \\  7.83129574055724 \\cdot 10^{-26} + 169.0 i\\right], \\  14 : \\left[ -6.75249479676148 \\cdot 10^{-26} - 196.0 i, \\  6.75249479594101 \\cdot 10^{-26} + 196.0 i, \\  -6.75249479594101 \\cdot 10^{-26} - 196.0 i, \\  6.75249479676148 \\cdot 10^{-26} + 196.0 i\\right], \\  15 : \\left[ -5.88217324512128 \\cdot 10^{-26} - 225.0 i, \\  5.88217324452178 \\cdot 10^{-26} + 225.0 i, \\  -5.88217324452178 \\cdot 10^{-26} - 225.0 i, \\  5.88217324512128 \\cdot 10^{-26} + 225.0 i\\right], \\  16 : \\left[ -1.0339757657412 \\cdot 10^{-25} - 256.0 i, \\  1.03397576564137 \\cdot 10^{-25} + 256.0 i, \\  -1.03397576564137 \\cdot 10^{-25} - 256.0 i, \\  1.0339757657412 \\cdot 10^{-25} + 256.0 i\\right], \\  17 : \\left[ -9.1590932882835 \\cdot 10^{-26} - 289.0 i, \\  9.15909328728528 \\cdot 10^{-26} + 289.0 i, \\  -9.15909328728528 \\cdot 10^{-26} - 289.0 i, \\  9.1590932882835 \\cdot 10^{-26} + 289.0 i\\right], \\  18 : \\left[ -8.16968506267604 \\cdot 10^{-26} - 324.0 i, \\  8.16968506182821 \\cdot 10^{-26} + 324.0 i, \\  -8.16968506182821 \\cdot 10^{-26} - 324.0 i, \\  8.16968506267604 \\cdot 10^{-26} + 324.0 i\\right], \\  19 : \\left[ -1.46646978410958 \\cdot 10^{-25} - 361.0 i, \\  1.46646978394548 \\cdot 10^{-25} + 361.0 i, \\  -1.46646978394548 \\cdot 10^{-25} - 361.0 i, \\  1.46646978410958 \\cdot 10^{-25} + 361.0 i\\right], \\  20 : \\left[ -1.32348898016689 \\cdot 10^{-25} - 400.0 i, \\  1.3234889800028 \\cdot 10^{-25} + 400.0 i, \\  -1.3234889800028 \\cdot 10^{-25} - 400.0 i, \\  1.32348898016689 \\cdot 10^{-25} + 400.0 i\\right]\\right\\}$"
      ],
      "text/plain": [
       "{1: [nan, nan, nan, nan], 2: [-1.61558713397062e-27 - 4.0⋅ⅈ, 1.61558713381465e\n",
       "-27 + 4.0⋅ⅈ, -1.61558713381465e-27 - 4.0⋅ⅈ, 1.61558713397062e-27 + 4.0⋅ⅈ], 3: \n",
       "[-2.87215490483075e-27 - 9.0⋅ⅈ, 2.87215490456528e-27 + 9.0⋅ⅈ, -2.8721549045652\n",
       "8e-27 - 9.0⋅ⅈ, 2.87215490483075e-27 + 9.0⋅ⅈ], 4: [-6.46234853588248e-27 - 16.0\n",
       "⋅ⅈ, 6.46234853525858e-27 + 16.0⋅ⅈ, -6.46234853525858e-27 - 16.0⋅ⅈ, 6.462348535\n",
       "88248e-27 + 16.0⋅ⅈ], 5: [-8.27180612604307e-27 - 25.0⋅ⅈ, 8.27180612501748e-27 \n",
       "+ 25.0⋅ⅈ, -8.27180612501748e-27 - 25.0⋅ⅈ, 8.27180612604307e-27 + 25.0⋅ⅈ], 6: [\n",
       "-1.1488619619323e-26 - 36.0⋅ⅈ, 1.14886196182611e-26 + 36.0⋅ⅈ, -1.1488619618261\n",
       "1e-26 - 36.0⋅ⅈ, 1.1488619619323e-26 + 36.0⋅ⅈ], 7: [-1.68812369919037e-26 - 49.\n",
       "0⋅ⅈ, 1.68812369898525e-26 + 49.0⋅ⅈ, -1.68812369898525e-26 - 49.0⋅ⅈ, 1.68812369\n",
       "919037e-26 + 49.0⋅ⅈ], 8: [-2.58493941435299e-26 - 64.0⋅ⅈ, 2.58493941410343e-26\n",
       " + 64.0⋅ⅈ, -2.58493941410343e-26 - 64.0⋅ⅈ, 2.58493941435299e-26 + 64.0⋅ⅈ], 9: \n",
       "[-2.04242126566901e-26 - 81.0⋅ⅈ, 2.04242126545705e-26 + 81.0⋅ⅈ, -2.04242126545\n",
       "705e-26 - 81.0⋅ⅈ, 2.04242126566901e-26 + 81.0⋅ⅈ], 10: [-3.30872245041723e-26 -\n",
       " 100.0⋅ⅈ, 3.30872245000699e-26 + 100.0⋅ⅈ, -3.30872245000699e-26 - 100.0⋅ⅈ, 3.3\n",
       "0872245041723e-26 + 100.0⋅ⅈ], 11: [-5.46896272787288e-26 - 121.0⋅ⅈ, 5.46896272\n",
       "737377e-26 + 121.0⋅ⅈ, -5.46896272737377e-26 - 121.0⋅ⅈ, 5.46896272787288e-26 + \n",
       "121.0⋅ⅈ], 12: [-4.59544784772919e-26 - 144.0⋅ⅈ, 4.59544784730445e-26 + 144.0⋅ⅈ\n",
       ", -4.59544784730445e-26 - 144.0⋅ⅈ, 4.59544784772919e-26 + 144.0⋅ⅈ], 13: [-7.83\n",
       "129574055724e-26 - 169.0⋅ⅈ, 7.83129573973677e-26 + 169.0⋅ⅈ, -7.83129573973677e\n",
       "-26 - 169.0⋅ⅈ, 7.83129574055724e-26 + 169.0⋅ⅈ], 14: [-6.75249479676148e-26 - 1\n",
       "96.0⋅ⅈ, 6.75249479594101e-26 + 196.0⋅ⅈ, -6.75249479594101e-26 - 196.0⋅ⅈ, 6.752\n",
       "49479676148e-26 + 196.0⋅ⅈ], 15: [-5.88217324512128e-26 - 225.0⋅ⅈ, 5.8821732445\n",
       "2178e-26 + 225.0⋅ⅈ, -5.88217324452178e-26 - 225.0⋅ⅈ, 5.88217324512128e-26 + 22\n",
       "5.0⋅ⅈ], 16: [-1.0339757657412e-25 - 256.0⋅ⅈ, 1.03397576564137e-25 + 256.0⋅ⅈ, -\n",
       "1.03397576564137e-25 - 256.0⋅ⅈ, 1.0339757657412e-25 + 256.0⋅ⅈ], 17: [-9.159093\n",
       "2882835e-26 - 289.0⋅ⅈ, 9.15909328728528e-26 + 289.0⋅ⅈ, -9.15909328728528e-26 -\n",
       " 289.0⋅ⅈ, 9.1590932882835e-26 + 289.0⋅ⅈ], 18: [-8.16968506267604e-26 - 324.0⋅ⅈ\n",
       ", 8.16968506182821e-26 + 324.0⋅ⅈ, -8.16968506182821e-26 - 324.0⋅ⅈ, 8.169685062\n",
       "67604e-26 + 324.0⋅ⅈ], 19: [-1.46646978410958e-25 - 361.0⋅ⅈ, 1.46646978394548e-\n",
       "25 + 361.0⋅ⅈ, -1.46646978394548e-25 - 361.0⋅ⅈ, 1.46646978410958e-25 + 361.0⋅ⅈ]\n",
       ", 20: [-1.32348898016689e-25 - 400.0⋅ⅈ, 1.3234889800028e-25 + 400.0⋅ⅈ, -1.3234\n",
       "889800028e-25 - 400.0⋅ⅈ, 1.32348898016689e-25 + 400.0⋅ⅈ]}"
      ]
     },
     "execution_count": 33,
     "metadata": {},
     "output_type": "execute_result"
    }
   ],
   "source": [
    "roots"
   ]
  },
  {
   "cell_type": "code",
   "execution_count": 34,
   "metadata": {},
   "outputs": [
    {
     "data": {
      "image/png": "[encoded data removed]",
      "text/latex": [
       "$\\displaystyle \\left[ 0, \\  4.0, \\  9.0, \\  16.0, \\  25.0, \\  36.0, \\  49.0, \\  64.0, \\  81.0, \\  100.0, \\  121.0, \\  144.0, \\  169.0, \\  196.0, \\  225.0, \\  256.0, \\  289.0, \\  324.0, \\  361.0, \\  400.0\\right]$"
      ],
      "text/plain": [
       "[0, 4.0, 9.0, 16.0, 25.0, 36.0, 49.0, 64.0, 81.0, 100.0, 121.0, 144.0, 169.0, \n",
       "196.0, 225.0, 256.0, 289.0, 324.0, 361.0, 400.0]"
      ]
     },
     "execution_count": 34,
     "metadata": {},
     "output_type": "execute_result"
    }
   ],
   "source": [
    "root_imag_part = [r[1].coeff(sympy.I) for r in roots.values()]\n",
    "root_imag_part"
   ]
  },
  {
   "cell_type": "code",
   "execution_count": 35,
   "metadata": {},
   "outputs": [
    {
     "data": {
      "text/latex": [
       "$\\displaystyle \\left[ \\text{NaN}, \\  1.61558713381465 \\cdot 10^{-27}, \\  2.87215490456528 \\cdot 10^{-27}, \\  6.46234853525858 \\cdot 10^{-27}, \\  8.27180612501748 \\cdot 10^{-27}, \\  1.14886196182611 \\cdot 10^{-26}, \\  1.68812369898525 \\cdot 10^{-26}, \\  2.58493941410343 \\cdot 10^{-26}, \\  2.04242126545705 \\cdot 10^{-26}, \\  3.30872245000699 \\cdot 10^{-26}, \\  5.46896272737377 \\cdot 10^{-26}, \\  4.59544784730445 \\cdot 10^{-26}, \\  7.83129573973677 \\cdot 10^{-26}, \\  6.75249479594101 \\cdot 10^{-26}, \\  5.88217324452178 \\cdot 10^{-26}, \\  1.03397576564137 \\cdot 10^{-25}, \\  9.15909328728528 \\cdot 10^{-26}, \\  8.16968506182821 \\cdot 10^{-26}, \\  1.46646978394548 \\cdot 10^{-25}, \\  1.3234889800028 \\cdot 10^{-25}\\right]$"
      ],
      "text/plain": [
       "[nan, 1.61558713381465e-27, 2.87215490456528e-27, 6.46234853525858e-27, 8.2718\n",
       "0612501748e-27, 1.14886196182611e-26, 1.68812369898525e-26, 2.58493941410343e-\n",
       "26, 2.04242126545705e-26, 3.30872245000699e-26, 5.46896272737377e-26, 4.595447\n",
       "84730445e-26, 7.83129573973677e-26, 6.75249479594101e-26, 5.88217324452178e-26\n",
       ", 1.03397576564137e-25, 9.15909328728528e-26, 8.16968506182821e-26, 1.46646978\n",
       "394548e-25, 1.3234889800028e-25]"
      ]
     },
     "execution_count": 35,
     "metadata": {},
     "output_type": "execute_result"
    }
   ],
   "source": [
    "root_real_part = [r[1] - sympy.I * r[1].coeff(sympy.I) for r in roots.values()]\n",
    "root_real_part"
   ]
  },
  {
   "cell_type": "code",
   "execution_count": 36,
   "metadata": {},
   "outputs": [
    {
     "data": {
      "image/png": "[encoded data removed]",
      "text/plain": [
       "<Figure size 640x480 with 1 Axes>"
      ]
     },
     "metadata": {},
     "output_type": "display_data"
    }
   ],
   "source": [
    "plt.plot(r_tilde_plus_vals, root_imag_part, 'x-');"
   ]
  },
  {
   "cell_type": "code",
   "execution_count": 37,
   "metadata": {},
   "outputs": [
    {
     "data": {
      "image/png": "[encoded data removed]",
      "text/plain": [
       "<Figure size 640x480 with 1 Axes>"
      ]
     },
     "metadata": {},
     "output_type": "display_data"
    }
   ],
   "source": [
    "plt.plot(r_tilde_plus_vals, root_real_part, 'x-');"
   ]
  },
  {
   "attachments": {},
   "cell_type": "markdown",
   "metadata": {},
   "source": [
    "#### Wick Rotation + Omega Shift"
   ]
  },
  {
   "cell_type": "code",
   "execution_count": 38,
   "metadata": {},
   "outputs": [
    {
     "data": {
      "image/png": "[encoded data removed]",
      "text/latex": [
       "$\\displaystyle i \\Omega d\\tau + d\\tilde{\\phi}$"
      ],
      "text/plain": [
       "ⅈ⋅Ω⋅d\\tau + d\\tilde{\\phi}"
      ]
     },
     "execution_count": 38,
     "metadata": {},
     "output_type": "execute_result"
    }
   ],
   "source": [
    "omega = sympy.symbols(\"Omega\")\n",
    "dphi_val = dphi_tilde + omega * dt_val\n",
    "dphi_val"
   ]
  },
  {
   "cell_type": "code",
   "execution_count": 39,
   "metadata": {},
   "outputs": [
    {
     "data": {
      "image/png": "[encoded data removed]",
      "text/latex": [
       "$\\displaystyle d\\tau^{2} \\left(\\frac{\\Delta_{r} \\Omega^{2} a^{2} \\sin^{4}{\\left(\\theta \\right)}}{W \\Xi^{2}} - \\frac{2 \\Delta_{r} \\Omega a \\sin^{2}{\\left(\\theta \\right)}}{W \\Xi} + \\frac{\\Delta_{r}}{W} - \\frac{\\Delta_{\\theta} \\Omega^{2} \\tilde{r}^{4} \\sin^{2}{\\left(\\theta \\right)}}{W \\Xi^{2}} - \\frac{2 \\Delta_{\\theta} \\Omega^{2} \\tilde{r}^{2} a^{2} \\sin^{2}{\\left(\\theta \\right)}}{W \\Xi^{2}} - \\frac{\\Delta_{\\theta} \\Omega^{2} a^{4} \\sin^{2}{\\left(\\theta \\right)}}{W \\Xi^{2}} + \\frac{2 \\Delta_{\\theta} \\Omega \\tilde{r}^{2} a \\sin^{2}{\\left(\\theta \\right)}}{W \\Xi} + \\frac{2 \\Delta_{\\theta} \\Omega a^{3} \\sin^{2}{\\left(\\theta \\right)}}{W \\Xi} - \\frac{\\Delta_{\\theta} a^{2} \\sin^{2}{\\left(\\theta \\right)}}{W}\\right) + d\\tau d\\tilde{\\phi} \\left(- \\frac{2 i \\Delta_{r} \\Omega a^{2} \\sin^{4}{\\left(\\theta \\right)}}{W \\Xi^{2}} + \\frac{2 i \\Delta_{r} a \\sin^{2}{\\left(\\theta \\right)}}{W \\Xi} + \\frac{2 i \\Delta_{\\theta} \\Omega \\tilde{r}^{4} \\sin^{2}{\\left(\\theta \\right)}}{W \\Xi^{2}} + \\frac{4 i \\Delta_{\\theta} \\Omega \\tilde{r}^{2} a^{2} \\sin^{2}{\\left(\\theta \\right)}}{W \\Xi^{2}} + \\frac{2 i \\Delta_{\\theta} \\Omega a^{4} \\sin^{2}{\\left(\\theta \\right)}}{W \\Xi^{2}} - \\frac{2 i \\Delta_{\\theta} \\tilde{r}^{2} a \\sin^{2}{\\left(\\theta \\right)}}{W \\Xi} - \\frac{2 i \\Delta_{\\theta} a^{3} \\sin^{2}{\\left(\\theta \\right)}}{W \\Xi}\\right) + d\\tilde{\\phi}^{2} \\left(- \\frac{\\Delta_{r} a^{2} \\sin^{4}{\\left(\\theta \\right)}}{W \\Xi^{2}} + \\frac{\\Delta_{\\theta} \\tilde{r}^{4} \\sin^{2}{\\left(\\theta \\right)}}{W \\Xi^{2}} + \\frac{2 \\Delta_{\\theta} \\tilde{r}^{2} a^{2} \\sin^{2}{\\left(\\theta \\right)}}{W \\Xi^{2}} + \\frac{\\Delta_{\\theta} a^{4} \\sin^{2}{\\left(\\theta \\right)}}{W \\Xi^{2}}\\right)$"
      ],
      "text/plain": [
       "       ⎛    2  2    4                  2                   2          4    2  \n",
       "     2 ⎜Δᵣ⋅Ω ⋅a ⋅sin (θ)   2⋅Δᵣ⋅Ω⋅a⋅sin (θ)   Δᵣ   Δₜₕₑₜₐ⋅Ω ⋅\\tilde{r} ⋅sin (θ\n",
       "d\\tau ⋅⎜──────────────── - ──────────────── + ── - ───────────────────────────\n",
       "       ⎜         2               W⋅Ξ          W                   2           \n",
       "       ⎝      W⋅Ξ                                              W⋅Ξ            \n",
       "\n",
       "              2          2  2    2              2  4    2                     \n",
       ")   2⋅Δₜₕₑₜₐ⋅Ω ⋅\\tilde{r} ⋅a ⋅sin (θ)   Δₜₕₑₜₐ⋅Ω ⋅a ⋅sin (θ)   2⋅Δₜₕₑₜₐ⋅Ω⋅\\til\n",
       "─ - ───────────────────────────────── - ──────────────────── + ───────────────\n",
       "                      2                            2                         W\n",
       "                   W⋅Ξ                          W⋅Ξ                           \n",
       "\n",
       "     2      2                  3    2              2    2   ⎞                 \n",
       "de{r} ⋅a⋅sin (θ)   2⋅Δₜₕₑₜₐ⋅Ω⋅a ⋅sin (θ)   Δₜₕₑₜₐ⋅a ⋅sin (θ)⎟                 \n",
       "──────────────── + ───────────────────── - ─────────────────⎟ + d\\tau⋅d\\tilde{\n",
       "⋅Ξ                          W⋅Ξ                    W        ⎟                 \n",
       "                                                            ⎠                 \n",
       "\n",
       "      ⎛            2    4                  2                            4    2\n",
       "      ⎜  2⋅ⅈ⋅Δᵣ⋅Ω⋅a ⋅sin (θ)   2⋅ⅈ⋅Δᵣ⋅a⋅sin (θ)   2⋅ⅈ⋅Δₜₕₑₜₐ⋅Ω⋅\\tilde{r} ⋅sin \n",
       "\\phi}⋅⎜- ─────────────────── + ──────────────── + ────────────────────────────\n",
       "      ⎜             2                W⋅Ξ                           2          \n",
       "      ⎝          W⋅Ξ                                            W⋅Ξ           \n",
       "\n",
       "                            2  2    2                    4    2               \n",
       "(θ)   4⋅ⅈ⋅Δₜₕₑₜₐ⋅Ω⋅\\tilde{r} ⋅a ⋅sin (θ)   2⋅ⅈ⋅Δₜₕₑₜₐ⋅Ω⋅a ⋅sin (θ)   2⋅ⅈ⋅Δₜₕₑₜ\n",
       "─── + ────────────────────────────────── + ─────────────────────── - ─────────\n",
       "                        2                               2                     \n",
       "                     W⋅Ξ                             W⋅Ξ                      \n",
       "\n",
       "           2      2                  3    2   ⎞                  ⎛      2    4\n",
       "ₐ⋅\\tilde{r} ⋅a⋅sin (θ)   2⋅ⅈ⋅Δₜₕₑₜₐ⋅a ⋅sin (θ)⎟                2 ⎜  Δᵣ⋅a ⋅sin \n",
       "────────────────────── - ─────────────────────⎟ + d\\tilde{\\phi} ⋅⎜- ──────────\n",
       "     W⋅Ξ                          W⋅Ξ         ⎟                  ⎜          2 \n",
       "                                              ⎠                  ⎝       W⋅Ξ  \n",
       "\n",
       "                      4    2                        2  2    2              4  \n",
       "(θ)   Δₜₕₑₜₐ⋅\\tilde{r} ⋅sin (θ)   2⋅Δₜₕₑₜₐ⋅\\tilde{r} ⋅a ⋅sin (θ)   Δₜₕₑₜₐ⋅a ⋅s\n",
       "─── + ───────────────────────── + ────────────────────────────── + ───────────\n",
       "                    2                             2                          2\n",
       "                 W⋅Ξ                           W⋅Ξ                        W⋅Ξ \n",
       "\n",
       "  2   ⎞\n",
       "in (θ)⎟\n",
       "──────⎟\n",
       "      ⎟\n",
       "      ⎠"
      ]
     },
     "execution_count": 39,
     "metadata": {},
     "output_type": "execute_result"
    }
   ],
   "source": [
    "euclidean_metric_2 = euclidean_metric.subs({dphi: dphi_val}).expand().collect([dtau ** 2, dtau * dphi_tilde, dphi_tilde ** 2])\n",
    "euclidean_metric_2"
   ]
  },
  {
   "cell_type": "code",
   "execution_count": 40,
   "metadata": {},
   "outputs": [],
   "source": [
    "metric_list_matrix = [[0 for i in range(2)] for i in range(2)]\n",
    "metric_list_matrix[0][0] = euclidean_metric_2.coeff(dtau ** 2)\n",
    "metric_list_matrix[0][1] = euclidean_metric_2.coeff(dtau * dphi_tilde) / 2\n",
    "metric_list_matrix[1][0] = metric_list_matrix[0][1]\n",
    "metric_list_matrix[1][1] = euclidean_metric_2.coeff(dphi_tilde ** 2)"
   ]
  },
  {
   "cell_type": "code",
   "execution_count": 41,
   "metadata": {},
   "outputs": [
    {
     "data": {
      "text/latex": [
       "$\\displaystyle \\left[\\begin{matrix}\\frac{\\Omega^{2} \\left(\\Delta_{r} a^{2} \\sin^{2}{\\left(\\theta \\right)} - \\Delta_{\\theta} \\tilde{r}^{4} - 2 \\Delta_{\\theta} \\tilde{r}^{2} a^{2} - \\Delta_{\\theta} a^{4}\\right) \\sin^{2}{\\left(\\theta \\right)} + 2 \\Omega \\Xi a \\left(- \\Delta_{r} + \\Delta_{\\theta} \\tilde{r}^{2} + \\Delta_{\\theta} a^{2}\\right) \\sin^{2}{\\left(\\theta \\right)} + \\Xi^{2} \\left(\\Delta_{r} - \\Delta_{\\theta} a^{2} \\sin^{2}{\\left(\\theta \\right)}\\right)}{W \\Xi^{2}} & \\frac{i \\left(\\Omega \\left(- \\Delta_{r} a^{2} \\sin^{2}{\\left(\\theta \\right)} + \\Delta_{\\theta} \\tilde{r}^{4} + 2 \\Delta_{\\theta} \\tilde{r}^{2} a^{2} + \\Delta_{\\theta} a^{4}\\right) + \\Xi a \\left(\\Delta_{r} - \\Delta_{\\theta} \\tilde{r}^{2} - \\Delta_{\\theta} a^{2}\\right)\\right) \\sin^{2}{\\left(\\theta \\right)}}{W \\Xi^{2}}\\\\\\frac{i \\left(\\Omega \\left(- \\Delta_{r} a^{2} \\sin^{2}{\\left(\\theta \\right)} + \\Delta_{\\theta} \\tilde{r}^{4} + 2 \\Delta_{\\theta} \\tilde{r}^{2} a^{2} + \\Delta_{\\theta} a^{4}\\right) + \\Xi a \\left(\\Delta_{r} - \\Delta_{\\theta} \\tilde{r}^{2} - \\Delta_{\\theta} a^{2}\\right)\\right) \\sin^{2}{\\left(\\theta \\right)}}{W \\Xi^{2}} & \\frac{\\left(- \\Delta_{r} a^{2} \\sin^{2}{\\left(\\theta \\right)} + \\Delta_{\\theta} \\tilde{r}^{4} + 2 \\Delta_{\\theta} \\tilde{r}^{2} a^{2} + \\Delta_{\\theta} a^{4}\\right) \\sin^{2}{\\left(\\theta \\right)}}{W \\Xi^{2}}\\end{matrix}\\right]$"
      ],
      "text/plain": [
       "⎡ 2 ⎛    2    2                      4                     2  2           4⎞  \n",
       "⎢Ω ⋅⎝Δᵣ⋅a ⋅sin (θ) - Δₜₕₑₜₐ⋅\\tilde{r}  - 2⋅Δₜₕₑₜₐ⋅\\tilde{r} ⋅a  - Δₜₕₑₜₐ⋅a ⎠⋅s\n",
       "⎢─────────────────────────────────────────────────────────────────────────────\n",
       "⎢                                                                             \n",
       "⎢                                                                             \n",
       "⎢                                                                             \n",
       "⎢                     ⎛  ⎛      2    2                      4                 \n",
       "⎢                   ⅈ⋅⎝Ω⋅⎝- Δᵣ⋅a ⋅sin (θ) + Δₜₕₑₜₐ⋅\\tilde{r}  + 2⋅Δₜₕₑₜₐ⋅\\tild\n",
       "⎢                   ──────────────────────────────────────────────────────────\n",
       "⎢                                                                             \n",
       "⎣                                                                             \n",
       "\n",
       "  2              ⎛                      2           2⎞    2       2 ⎛         \n",
       "in (θ) + 2⋅Ω⋅Ξ⋅a⋅⎝-Δᵣ + Δₜₕₑₜₐ⋅\\tilde{r}  + Δₜₕₑₜₐ⋅a ⎠⋅sin (θ) + Ξ ⋅⎝Δᵣ - Δₜₕₑ\n",
       "──────────────────────────────────────────────────────────────────────────────\n",
       "         2                                                                    \n",
       "      W⋅Ξ                                                                     \n",
       "                                                                              \n",
       "    2  2           4⎞       ⎛                     2           2⎞⎞    2        \n",
       "e{r} ⋅a  + Δₜₕₑₜₐ⋅a ⎠ + Ξ⋅a⋅⎝Δᵣ - Δₜₕₑₜₐ⋅\\tilde{r}  - Δₜₕₑₜₐ⋅a ⎠⎠⋅sin (θ)     \n",
       "─────────────────────────────────────────────────────────────────────────     \n",
       "         2                                                                    \n",
       "      W⋅Ξ                                                                     \n",
       "\n",
       "    2    2   ⎞    ⎛  ⎛      2    2                      4                     \n",
       "ₜₐ⋅a ⋅sin (θ)⎠  ⅈ⋅⎝Ω⋅⎝- Δᵣ⋅a ⋅sin (θ) + Δₜₕₑₜₐ⋅\\tilde{r}  + 2⋅Δₜₕₑₜₐ⋅\\tilde{r}\n",
       "──────────────  ──────────────────────────────────────────────────────────────\n",
       "                                                                              \n",
       "                                                                              \n",
       "                                                                              \n",
       "                                        ⎛      2    2                      4  \n",
       "                                        ⎝- Δᵣ⋅a ⋅sin (θ) + Δₜₕₑₜₐ⋅\\tilde{r}  +\n",
       "                                        ──────────────────────────────────────\n",
       "                                                                              \n",
       "                                                                              \n",
       "\n",
       "2  2           4⎞       ⎛                     2           2⎞⎞    2   ⎤\n",
       " ⋅a  + Δₜₕₑₜₐ⋅a ⎠ + Ξ⋅a⋅⎝Δᵣ - Δₜₕₑₜₐ⋅\\tilde{r}  - Δₜₕₑₜₐ⋅a ⎠⎠⋅sin (θ)⎥\n",
       "─────────────────────────────────────────────────────────────────────⎥\n",
       "     2                                                               ⎥\n",
       "  W⋅Ξ                                                                ⎥\n",
       "                                                                     ⎥\n",
       "                   2  2           4⎞    2                            ⎥\n",
       " 2⋅Δₜₕₑₜₐ⋅\\tilde{r} ⋅a  + Δₜₕₑₜₐ⋅a ⎠⋅sin (θ)                         ⎥\n",
       "────────────────────────────────────────────                         ⎥\n",
       "    2                                                                ⎥\n",
       " W⋅Ξ                                                                 ⎦"
      ]
     },
     "execution_count": 41,
     "metadata": {},
     "output_type": "execute_result"
    }
   ],
   "source": [
    "g_mat_2 = sympy.Matrix(metric_list_matrix)\n",
    "g_mat_2.simplify()\n",
    "g_mat_2"
   ]
  },
  {
   "cell_type": "code",
   "execution_count": 42,
   "metadata": {},
   "outputs": [
    {
     "data": {
      "image/png": "[encoded data removed]",
      "text/latex": [
       "$\\displaystyle \\frac{\\Delta_{r} \\Delta_{\\theta} \\left(\\tilde{r}^{2} + a^{2} \\cos^{2}{\\left(\\theta \\right)}\\right)^{2} \\sin^{2}{\\left(\\theta \\right)}}{W^{2} \\Xi^{2}}$"
      ],
      "text/plain": [
       "                                   2        \n",
       "          ⎛         2    2    2   ⎞     2   \n",
       "Δᵣ⋅Δₜₕₑₜₐ⋅⎝\\tilde{r}  + a ⋅cos (θ)⎠ ⋅sin (θ)\n",
       "────────────────────────────────────────────\n",
       "                    2  2                    \n",
       "                   W ⋅Ξ                     "
      ]
     },
     "execution_count": 42,
     "metadata": {},
     "output_type": "execute_result"
    }
   ],
   "source": [
    "g_mat_2.det().simplify()"
   ]
  },
  {
   "attachments": {},
   "cell_type": "markdown",
   "metadata": {},
   "source": [
    "##### $g_{00}$"
   ]
  },
  {
   "cell_type": "code",
   "execution_count": 43,
   "metadata": {},
   "outputs": [
    {
     "data": {
      "image/png": "[encoded data removed]",
      "text/latex": [
       "$\\displaystyle \\Delta_{r} \\left(- \\Omega a \\sin^{2}{\\left(\\theta \\right)} + \\Xi\\right)^{2} - \\Delta_{\\theta} \\left(- \\Omega \\left(\\tilde{r}^{2} + a^{2}\\right) + \\Xi a\\right)^{2} \\sin^{2}{\\left(\\theta \\right)}$"
      ],
      "text/plain": [
       "                      2                                       2        \n",
       "   ⎛         2       ⎞           ⎛    ⎛         2    2⎞      ⎞     2   \n",
       "Δᵣ⋅⎝- Ω⋅a⋅sin (θ) + Ξ⎠  - Δₜₕₑₜₐ⋅⎝- Ω⋅⎝\\tilde{r}  + a ⎠ + Ξ⋅a⎠ ⋅sin (θ)"
      ]
     },
     "execution_count": 43,
     "metadata": {},
     "output_type": "execute_result"
    }
   ],
   "source": [
    "g_00 = delta_r * (xi - a * omega * sympy.sin(theta) ** 2) ** 2 - delta_theta * (a * xi - omega * (r_tilde ** 2 + a ** 2)) ** 2 * sympy.sin(theta) ** 2\n",
    "g_00"
   ]
  },
  {
   "cell_type": "code",
   "execution_count": 44,
   "metadata": {},
   "outputs": [
    {
     "data": {
      "image/png": "[encoded data removed]",
      "text/latex": [
       "$\\displaystyle 0$"
      ],
      "text/plain": [
       "0"
      ]
     },
     "execution_count": 44,
     "metadata": {},
     "output_type": "execute_result"
    }
   ],
   "source": [
    "(g_00 / (W * xi ** 2) - g_mat_2[0, 0]).expand().simplify()"
   ]
  },
  {
   "cell_type": "code",
   "execution_count": 45,
   "metadata": {},
   "outputs": [
    {
     "data": {
      "image/png": "[encoded data removed]",
      "text/latex": [
       "$\\displaystyle \\Omega^{2} \\tilde{r}_+^{12} \\sin^{2}{\\left(\\theta \\right)} \\cos^{2}{\\left(\\theta \\right)} + \\Omega^{2} \\tilde{r}_+^{10} \\sin^{4}{\\left(\\theta \\right)} + 3 \\Omega^{2} \\tilde{r}_+^{8} \\sin^{4}{\\left(\\theta \\right)} - \\Omega^{2} \\tilde{r}_+^{8} \\sin^{2}{\\left(\\theta \\right)} + \\Omega^{2} \\tilde{r}_+^{6} \\sin^{4}{\\left(\\theta \\right)} + 2 \\Omega \\tilde{r}_+^{14} \\sin^{2}{\\left(\\theta \\right)} \\cos^{2}{\\left(\\theta \\right)} + 2 \\Omega \\tilde{r}_+^{12} \\sin^{2}{\\left(\\theta \\right)} - 2 \\Omega \\tilde{r}_+^{10} \\sin^{2}{\\left(\\theta \\right)} \\cos^{2}{\\left(\\theta \\right)} + 4 \\Omega \\tilde{r}_+^{10} \\sin^{2}{\\left(\\theta \\right)} - 4 \\Omega \\tilde{r}_+^{6} \\sin^{2}{\\left(\\theta \\right)} - 2 \\Omega \\tilde{r}_+^{4} \\sin^{2}{\\left(\\theta \\right)} + \\tilde{r}^{4} \\left(\\Omega^{2} \\tilde{r}_+^{4} \\sin^{4}{\\left(\\theta \\right)} + \\Omega^{2} \\tilde{r}_+^{4} \\sin^{2}{\\left(\\theta \\right)} \\cos^{2}{\\left(\\theta \\right)} - \\Omega^{2} \\sin^{2}{\\left(\\theta \\right)} + 2 \\Omega \\tilde{r}_+^{6} \\sin^{2}{\\left(\\theta \\right)} - 2 \\Omega \\tilde{r}_+^{2} \\sin^{2}{\\left(\\theta \\right)} + \\tilde{r}_+^{8} - 2 \\tilde{r}_+^{4} + 1\\right) + \\tilde{r}^{2} \\left(\\Omega^{2} \\tilde{r}_+^{8} \\sin^{4}{\\left(\\theta \\right)} + 2 \\Omega^{2} \\tilde{r}_+^{8} \\sin^{2}{\\left(\\theta \\right)} \\cos^{2}{\\left(\\theta \\right)} + \\Omega^{2} \\tilde{r}_+^{4} \\sin^{4}{\\left(\\theta \\right)} - 2 \\Omega^{2} \\tilde{r}_+^{4} \\sin^{2}{\\left(\\theta \\right)} + 2 \\Omega \\tilde{r}_+^{10} \\sin^{2}{\\left(\\theta \\right)} \\cos^{2}{\\left(\\theta \\right)} + 2 \\Omega \\tilde{r}_+^{10} \\sin^{2}{\\left(\\theta \\right)} - 2 \\Omega \\tilde{r}_+^{6} \\sin^{2}{\\left(\\theta \\right)} \\cos^{2}{\\left(\\theta \\right)} - 2 \\Omega \\tilde{r}_+^{6} \\sin^{2}{\\left(\\theta \\right)} + \\tilde{r}_+^{12} - \\tilde{r}_+^{8} - \\tilde{r}_+^{4} + 1\\right) + \\tilde{r} \\left(- 2 \\Omega^{2} \\tilde{r}_+^{9} \\sin^{4}{\\left(\\theta \\right)} - 4 \\Omega^{2} \\tilde{r}_+^{7} \\sin^{4}{\\left(\\theta \\right)} - 2 \\Omega^{2} \\tilde{r}_+^{5} \\sin^{4}{\\left(\\theta \\right)} - 4 \\Omega \\tilde{r}_+^{11} \\sin^{2}{\\left(\\theta \\right)} - 8 \\Omega \\tilde{r}_+^{9} \\sin^{2}{\\left(\\theta \\right)} + 8 \\Omega \\tilde{r}_+^{5} \\sin^{2}{\\left(\\theta \\right)} + 4 \\Omega \\tilde{r}_+^{3} \\sin^{2}{\\left(\\theta \\right)} - 2 \\tilde{r}_+^{13} - 4 \\tilde{r}_+^{11} + 2 \\tilde{r}_+^{9} + 8 \\tilde{r}_+^{7} + 2 \\tilde{r}_+^{5} - 4 \\tilde{r}_+^{3} - 2 \\tilde{r}_+\\right) + \\tilde{r}_+^{16} \\sin^{2}{\\left(\\theta \\right)} \\cos^{2}{\\left(\\theta \\right)} + \\tilde{r}_+^{14} - 2 \\tilde{r}_+^{12} \\sin^{2}{\\left(\\theta \\right)} \\cos^{2}{\\left(\\theta \\right)} - \\tilde{r}_+^{12} \\sin^{2}{\\left(\\theta \\right)} + 3 \\tilde{r}_+^{12} - \\tilde{r}_+^{10} + \\tilde{r}_+^{8} \\sin^{2}{\\left(\\theta \\right)} \\cos^{2}{\\left(\\theta \\right)} + 2 \\tilde{r}_+^{8} \\sin^{2}{\\left(\\theta \\right)} - 6 \\tilde{r}_+^{8} - \\tilde{r}_+^{6} - \\tilde{r}_+^{4} \\sin^{2}{\\left(\\theta \\right)} + 3 \\tilde{r}_+^{4} + \\tilde{r}_+^{2}$"
      ],
      "text/plain": [
       " 2           12    2       2       2           10    4         2           8  \n",
       "Ω ⋅\\tilde{r}₊  ⋅sin (θ)⋅cos (θ) + Ω ⋅\\tilde{r}₊  ⋅sin (θ) + 3⋅Ω ⋅\\tilde{r}₊ ⋅s\n",
       "\n",
       "  4       2           8    2       2           6    4                    14   \n",
       "in (θ) - Ω ⋅\\tilde{r}₊ ⋅sin (θ) + Ω ⋅\\tilde{r}₊ ⋅sin (θ) + 2⋅Ω⋅\\tilde{r}₊  ⋅si\n",
       "\n",
       " 2       2                    12    2                    10    2       2      \n",
       "n (θ)⋅cos (θ) + 2⋅Ω⋅\\tilde{r}₊  ⋅sin (θ) - 2⋅Ω⋅\\tilde{r}₊  ⋅sin (θ)⋅cos (θ) + \n",
       "\n",
       "              10    2                    6    2                    4    2     \n",
       "4⋅Ω⋅\\tilde{r}₊  ⋅sin (θ) - 4⋅Ω⋅\\tilde{r}₊ ⋅sin (θ) - 2⋅Ω⋅\\tilde{r}₊ ⋅sin (θ) +\n",
       "\n",
       "          4 ⎛ 2           4    4       2           4    2       2       2    2\n",
       " \\tilde{r} ⋅⎝Ω ⋅\\tilde{r}₊ ⋅sin (θ) + Ω ⋅\\tilde{r}₊ ⋅sin (θ)⋅cos (θ) - Ω ⋅sin \n",
       "\n",
       "                    6    2                    2    2                8         \n",
       "(θ) + 2⋅Ω⋅\\tilde{r}₊ ⋅sin (θ) - 2⋅Ω⋅\\tilde{r}₊ ⋅sin (θ) + \\tilde{r}₊  - 2⋅\\til\n",
       "\n",
       "      4    ⎞            2 ⎛ 2           8    4         2           8    2     \n",
       "de{r}₊  + 1⎠ + \\tilde{r} ⋅⎝Ω ⋅\\tilde{r}₊ ⋅sin (θ) + 2⋅Ω ⋅\\tilde{r}₊ ⋅sin (θ)⋅c\n",
       "\n",
       "  2       2           4    4         2           4    2                    10 \n",
       "os (θ) + Ω ⋅\\tilde{r}₊ ⋅sin (θ) - 2⋅Ω ⋅\\tilde{r}₊ ⋅sin (θ) + 2⋅Ω⋅\\tilde{r}₊  ⋅\n",
       "\n",
       "   2       2                    10    2                    6    2       2     \n",
       "sin (θ)⋅cos (θ) + 2⋅Ω⋅\\tilde{r}₊  ⋅sin (θ) - 2⋅Ω⋅\\tilde{r}₊ ⋅sin (θ)⋅cos (θ) -\n",
       "\n",
       "               6    2                12             8             4    ⎞      \n",
       " 2⋅Ω⋅\\tilde{r}₊ ⋅sin (θ) + \\tilde{r}₊   - \\tilde{r}₊  - \\tilde{r}₊  + 1⎠ + \\ti\n",
       "\n",
       "       ⎛     2           9    4         2           7    4         2          \n",
       "lde{r}⋅⎝- 2⋅Ω ⋅\\tilde{r}₊ ⋅sin (θ) - 4⋅Ω ⋅\\tilde{r}₊ ⋅sin (θ) - 2⋅Ω ⋅\\tilde{r}\n",
       "\n",
       " 5    4                    11    2                    9    2                  \n",
       "₊ ⋅sin (θ) - 4⋅Ω⋅\\tilde{r}₊  ⋅sin (θ) - 8⋅Ω⋅\\tilde{r}₊ ⋅sin (θ) + 8⋅Ω⋅\\tilde{r\n",
       "\n",
       "  5    2                    3    2                  13               11       \n",
       "}₊ ⋅sin (θ) + 4⋅Ω⋅\\tilde{r}₊ ⋅sin (θ) - 2⋅\\tilde{r}₊   - 4⋅\\tilde{r}₊   + 2⋅\\t\n",
       "\n",
       "        9               7               5               3               ⎞     \n",
       "ilde{r}₊  + 8⋅\\tilde{r}₊  + 2⋅\\tilde{r}₊  - 4⋅\\tilde{r}₊  - 2⋅\\tilde{r}₊⎠ + \\t\n",
       "\n",
       "        16    2       2                14               12    2       2       \n",
       "ilde{r}₊  ⋅sin (θ)⋅cos (θ) + \\tilde{r}₊   - 2⋅\\tilde{r}₊  ⋅sin (θ)⋅cos (θ) - \\\n",
       "\n",
       "         12    2                  12             10             8    2       2\n",
       "tilde{r}₊  ⋅sin (θ) + 3⋅\\tilde{r}₊   - \\tilde{r}₊   + \\tilde{r}₊ ⋅sin (θ)⋅cos \n",
       "\n",
       "                  8    2                  8             6             4    2  \n",
       "(θ) + 2⋅\\tilde{r}₊ ⋅sin (θ) - 6⋅\\tilde{r}₊  - \\tilde{r}₊  - \\tilde{r}₊ ⋅sin (θ\n",
       "\n",
       "                4             2\n",
       ") + 3⋅\\tilde{r}₊  + \\tilde{r}₊ "
      ]
     },
     "execution_count": 45,
     "metadata": {},
     "output_type": "execute_result"
    }
   ],
   "source": [
    "g_00_simp = g_00.subs({delta_r: delta_r_val, xi: xi_val, delta_theta: delta_theta_val}).subs({a: a_val})\n",
    "g_00_simp = g_00_simp.expand().collect([r_tilde, r_tilde ** 2, r_tilde ** 3, r_tilde ** 4])\n",
    "g_00_simp"
   ]
  },
  {
   "cell_type": "code",
   "execution_count": 46,
   "metadata": {},
   "outputs": [
    {
     "data": {
      "image/png": "[encoded data removed]",
      "text/latex": [
       "$\\displaystyle - 2 \\tilde{r}_+ \\left(\\tilde{r}_+^{2} + 1\\right)^{2} \\left(\\Omega \\tilde{r}_+^{2} \\sin^{2}{\\left(\\theta \\right)} + \\tilde{r}_+^{4} - 1\\right)^{2}$"
      ],
      "text/plain": [
       "                               2                                          2\n",
       "              ⎛          2    ⎞  ⎛            2    2                4    ⎞ \n",
       "-2⋅\\tilde{r}₊⋅⎝\\tilde{r}₊  + 1⎠ ⋅⎝Ω⋅\\tilde{r}₊ ⋅sin (θ) + \\tilde{r}₊  - 1⎠ "
      ]
     },
     "execution_count": 46,
     "metadata": {},
     "output_type": "execute_result"
    }
   ],
   "source": [
    "A_coeff_00 = g_00_simp.coeff(r_tilde).simplify()\n",
    "A_coeff_00.factor()"
   ]
  },
  {
   "cell_type": "code",
   "execution_count": 47,
   "metadata": {},
   "outputs": [
    {
     "data": {
      "image/png": "[encoded data removed]",
      "text/latex": [
       "$\\displaystyle - \\left(\\tilde{r}_+ - 1\\right) \\left(\\tilde{r}_+ + 1\\right) \\left(\\tilde{r}_+^{2} + 1\\right) \\left(\\Omega^{2} \\tilde{r}_+^{4} \\sin^{4}{\\left(\\theta \\right)} - 2 \\Omega^{2} \\tilde{r}_+^{4} \\sin^{2}{\\left(\\theta \\right)} + 2 \\Omega \\tilde{r}_+^{6} \\sin^{4}{\\left(\\theta \\right)} - 4 \\Omega \\tilde{r}_+^{6} \\sin^{2}{\\left(\\theta \\right)} - \\tilde{r}_+^{8} + 1\\right)$"
      ],
      "text/plain": [
       "                                   ⎛          2    ⎞ ⎛ 2           4    4     \n",
       "-(\\tilde{r}₊ - 1)⋅(\\tilde{r}₊ + 1)⋅⎝\\tilde{r}₊  + 1⎠⋅⎝Ω ⋅\\tilde{r}₊ ⋅sin (θ) -\n",
       "\n",
       "    2           4    2                    6    4                    6    2    \n",
       " 2⋅Ω ⋅\\tilde{r}₊ ⋅sin (θ) + 2⋅Ω⋅\\tilde{r}₊ ⋅sin (θ) - 4⋅Ω⋅\\tilde{r}₊ ⋅sin (θ) \n",
       "\n",
       "            8    ⎞\n",
       "- \\tilde{r}₊  + 1⎠"
      ]
     },
     "execution_count": 47,
     "metadata": {},
     "output_type": "execute_result"
    }
   ],
   "source": [
    "B_coeff_00 = g_00_simp.coeff(r_tilde ** 2).simplify().factor()\n",
    "B_coeff_00"
   ]
  },
  {
   "cell_type": "code",
   "execution_count": 48,
   "metadata": {},
   "outputs": [
    {
     "data": {
      "image/png": "[encoded data removed]",
      "text/latex": [
       "$\\displaystyle \\left(\\tilde{r}_+ - 1\\right) \\left(\\tilde{r}_+ + 1\\right) \\left(\\tilde{r}_+^{2} + 1\\right) \\left(\\Omega^{2} \\sin^{2}{\\left(\\theta \\right)} + 2 \\Omega \\tilde{r}_+^{2} \\sin^{2}{\\left(\\theta \\right)} + \\tilde{r}_+^{4} - 1\\right)$"
      ],
      "text/plain": [
       "                                  ⎛          2    ⎞ ⎛ 2    2                  \n",
       "(\\tilde{r}₊ - 1)⋅(\\tilde{r}₊ + 1)⋅⎝\\tilde{r}₊  + 1⎠⋅⎝Ω ⋅sin (θ) + 2⋅Ω⋅\\tilde{r\n",
       "\n",
       "  2    2                4    ⎞\n",
       "}₊ ⋅sin (θ) + \\tilde{r}₊  - 1⎠"
      ]
     },
     "execution_count": 48,
     "metadata": {},
     "output_type": "execute_result"
    }
   ],
   "source": [
    "C_coeff_00 = g_00_simp.coeff(r_tilde ** 4).simplify().factor()\n",
    "C_coeff_00"
   ]
  },
  {
   "cell_type": "code",
   "execution_count": 49,
   "metadata": {},
   "outputs": [
    {
     "data": {
      "image/png": "[encoded data removed]",
      "text/latex": [
       "$\\displaystyle - \\tilde{r}_+^{2} \\left(\\tilde{r}_+^{2} + 1\\right) \\left(\\Omega^{2} \\tilde{r}_+^{8} \\sin^{4}{\\left(\\theta \\right)} - \\Omega^{2} \\tilde{r}_+^{8} \\sin^{2}{\\left(\\theta \\right)} - 2 \\Omega^{2} \\tilde{r}_+^{6} \\sin^{4}{\\left(\\theta \\right)} + \\Omega^{2} \\tilde{r}_+^{6} \\sin^{2}{\\left(\\theta \\right)} - \\Omega^{2} \\tilde{r}_+^{4} \\sin^{4}{\\left(\\theta \\right)} + 2 \\Omega \\tilde{r}_+^{10} \\sin^{4}{\\left(\\theta \\right)} - 2 \\Omega \\tilde{r}_+^{10} \\sin^{2}{\\left(\\theta \\right)} - 2 \\Omega \\tilde{r}_+^{8} \\sin^{4}{\\left(\\theta \\right)} - 2 \\Omega \\tilde{r}_+^{6} \\sin^{2}{\\left(\\theta \\right)} + 2 \\Omega \\tilde{r}_+^{4} \\sin^{2}{\\left(\\theta \\right)} + 2 \\Omega \\tilde{r}_+^{2} \\sin^{2}{\\left(\\theta \\right)} + \\tilde{r}_+^{12} \\sin^{4}{\\left(\\theta \\right)} - \\tilde{r}_+^{12} \\sin^{2}{\\left(\\theta \\right)} - \\tilde{r}_+^{10} \\sin^{4}{\\left(\\theta \\right)} + \\tilde{r}_+^{10} \\sin^{2}{\\left(\\theta \\right)} - \\tilde{r}_+^{10} - \\tilde{r}_+^{8} \\sin^{4}{\\left(\\theta \\right)} + 2 \\tilde{r}_+^{8} \\sin^{2}{\\left(\\theta \\right)} - 2 \\tilde{r}_+^{8} + \\tilde{r}_+^{6} \\sin^{4}{\\left(\\theta \\right)} - 2 \\tilde{r}_+^{6} \\sin^{2}{\\left(\\theta \\right)} + 3 \\tilde{r}_+^{6} - \\tilde{r}_+^{4} \\sin^{2}{\\left(\\theta \\right)} + 3 \\tilde{r}_+^{4} + \\tilde{r}_+^{2} \\sin^{2}{\\left(\\theta \\right)} - 2 \\tilde{r}_+^{2} - 1\\right)$"
      ],
      "text/plain": [
       "           2 ⎛          2    ⎞ ⎛ 2           8    4       2           8    2  \n",
       "-\\tilde{r}₊ ⋅⎝\\tilde{r}₊  + 1⎠⋅⎝Ω ⋅\\tilde{r}₊ ⋅sin (θ) - Ω ⋅\\tilde{r}₊ ⋅sin (θ\n",
       "\n",
       "       2           6    4       2           6    2       2           4    4   \n",
       ") - 2⋅Ω ⋅\\tilde{r}₊ ⋅sin (θ) + Ω ⋅\\tilde{r}₊ ⋅sin (θ) - Ω ⋅\\tilde{r}₊ ⋅sin (θ)\n",
       "\n",
       "                 10    4                    10    2                    8    4 \n",
       " + 2⋅Ω⋅\\tilde{r}₊  ⋅sin (θ) - 2⋅Ω⋅\\tilde{r}₊  ⋅sin (θ) - 2⋅Ω⋅\\tilde{r}₊ ⋅sin (\n",
       "\n",
       "                   6    2                    4    2                    2    2 \n",
       "θ) - 2⋅Ω⋅\\tilde{r}₊ ⋅sin (θ) + 2⋅Ω⋅\\tilde{r}₊ ⋅sin (θ) + 2⋅Ω⋅\\tilde{r}₊ ⋅sin (\n",
       "\n",
       "               12    4                12    2                10    4          \n",
       "θ) + \\tilde{r}₊  ⋅sin (θ) - \\tilde{r}₊  ⋅sin (θ) - \\tilde{r}₊  ⋅sin (θ) + \\til\n",
       "\n",
       "      10    2                10             8    4                  8    2    \n",
       "de{r}₊  ⋅sin (θ) - \\tilde{r}₊   - \\tilde{r}₊ ⋅sin (θ) + 2⋅\\tilde{r}₊ ⋅sin (θ) \n",
       "\n",
       "              8             6    4                  6    2                  6 \n",
       "- 2⋅\\tilde{r}₊  + \\tilde{r}₊ ⋅sin (θ) - 2⋅\\tilde{r}₊ ⋅sin (θ) + 3⋅\\tilde{r}₊  \n",
       "\n",
       "            4    2                  4             2    2                  2   \n",
       "- \\tilde{r}₊ ⋅sin (θ) + 3⋅\\tilde{r}₊  + \\tilde{r}₊ ⋅sin (θ) - 2⋅\\tilde{r}₊  - \n",
       "\n",
       " ⎞\n",
       "1⎠"
      ]
     },
     "execution_count": 49,
     "metadata": {},
     "output_type": "execute_result"
    }
   ],
   "source": [
    "D_coeff_00 = g_00_simp - A_coeff_00 * r_tilde - B_coeff_00 * r_tilde ** 2 - C_coeff_00 * r_tilde ** 4\n",
    "D_coeff_00.simplify().factor()"
   ]
  },
  {
   "attachments": {},
   "cell_type": "markdown",
   "metadata": {},
   "source": [
    "##### $g_{11}$"
   ]
  },
  {
   "attachments": {},
   "cell_type": "markdown",
   "metadata": {},
   "source": [
    "This component remains unchanged."
   ]
  },
  {
   "attachments": {},
   "cell_type": "markdown",
   "metadata": {},
   "source": [
    "#### Wick Rotation + Omega Shift + Non-rotating Frame"
   ]
  },
  {
   "cell_type": "code",
   "execution_count": 50,
   "metadata": {},
   "outputs": [
    {
     "data": {
      "image/png": "[encoded data removed]",
      "text/latex": [
       "$\\displaystyle - i a d\\tau + d\\phi'$"
      ],
      "text/plain": [
       "-ⅈ⋅a⋅d\\tau + d\\phi'"
      ]
     },
     "execution_count": 50,
     "metadata": {},
     "output_type": "execute_result"
    }
   ],
   "source": [
    "dphi_prime = sympy.symbols(\"d\\phi'\")\n",
    "dphi_tilde_val = dphi_prime - a * dt_val\n",
    "dphi_tilde_val"
   ]
  },
  {
   "cell_type": "code",
   "execution_count": 51,
   "metadata": {},
   "outputs": [
    {
     "data": {
      "image/png": "[encoded data removed]",
      "text/latex": [
       "$\\displaystyle d\\phi'^{2} \\left(- \\frac{\\Delta_{r} a^{2} \\sin^{4}{\\left(\\theta \\right)}}{W \\Xi^{2}} + \\frac{\\Delta_{\\theta} \\tilde{r}^{4} \\sin^{2}{\\left(\\theta \\right)}}{W \\Xi^{2}} + \\frac{2 \\Delta_{\\theta} \\tilde{r}^{2} a^{2} \\sin^{2}{\\left(\\theta \\right)}}{W \\Xi^{2}} + \\frac{\\Delta_{\\theta} a^{4} \\sin^{2}{\\left(\\theta \\right)}}{W \\Xi^{2}}\\right) + d\\phi' d\\tau \\left(- \\frac{2 i \\Delta_{r} \\Omega a^{2} \\sin^{4}{\\left(\\theta \\right)}}{W \\Xi^{2}} + \\frac{2 i \\Delta_{r} a \\sin^{2}{\\left(\\theta \\right)}}{W \\Xi} + \\frac{2 i \\Delta_{r} a^{3} \\sin^{4}{\\left(\\theta \\right)}}{W \\Xi^{2}} + \\frac{2 i \\Delta_{\\theta} \\Omega \\tilde{r}^{4} \\sin^{2}{\\left(\\theta \\right)}}{W \\Xi^{2}} + \\frac{4 i \\Delta_{\\theta} \\Omega \\tilde{r}^{2} a^{2} \\sin^{2}{\\left(\\theta \\right)}}{W \\Xi^{2}} + \\frac{2 i \\Delta_{\\theta} \\Omega a^{4} \\sin^{2}{\\left(\\theta \\right)}}{W \\Xi^{2}} - \\frac{2 i \\Delta_{\\theta} \\tilde{r}^{2} a \\sin^{2}{\\left(\\theta \\right)}}{W \\Xi} - \\frac{2 i \\Delta_{\\theta} a^{3} \\sin^{2}{\\left(\\theta \\right)}}{W \\Xi} - \\frac{2 i \\Delta_{\\theta} \\tilde{r}^{4} a \\sin^{2}{\\left(\\theta \\right)}}{W \\Xi^{2}} - \\frac{4 i \\Delta_{\\theta} \\tilde{r}^{2} a^{3} \\sin^{2}{\\left(\\theta \\right)}}{W \\Xi^{2}} - \\frac{2 i \\Delta_{\\theta} a^{5} \\sin^{2}{\\left(\\theta \\right)}}{W \\Xi^{2}}\\right) + d\\tau^{2} \\left(\\frac{\\Delta_{r} \\Omega^{2} a^{2} \\sin^{4}{\\left(\\theta \\right)}}{W \\Xi^{2}} - \\frac{2 \\Delta_{r} \\Omega a \\sin^{2}{\\left(\\theta \\right)}}{W \\Xi} - \\frac{2 \\Delta_{r} \\Omega a^{3} \\sin^{4}{\\left(\\theta \\right)}}{W \\Xi^{2}} + \\frac{\\Delta_{r}}{W} + \\frac{2 \\Delta_{r} a^{2} \\sin^{2}{\\left(\\theta \\right)}}{W \\Xi} + \\frac{\\Delta_{r} a^{4} \\sin^{4}{\\left(\\theta \\right)}}{W \\Xi^{2}} - \\frac{\\Delta_{\\theta} \\Omega^{2} \\tilde{r}^{4} \\sin^{2}{\\left(\\theta \\right)}}{W \\Xi^{2}} - \\frac{2 \\Delta_{\\theta} \\Omega^{2} \\tilde{r}^{2} a^{2} \\sin^{2}{\\left(\\theta \\right)}}{W \\Xi^{2}} - \\frac{\\Delta_{\\theta} \\Omega^{2} a^{4} \\sin^{2}{\\left(\\theta \\right)}}{W \\Xi^{2}} + \\frac{2 \\Delta_{\\theta} \\Omega \\tilde{r}^{2} a \\sin^{2}{\\left(\\theta \\right)}}{W \\Xi} + \\frac{2 \\Delta_{\\theta} \\Omega a^{3} \\sin^{2}{\\left(\\theta \\right)}}{W \\Xi} + \\frac{2 \\Delta_{\\theta} \\Omega \\tilde{r}^{4} a \\sin^{2}{\\left(\\theta \\right)}}{W \\Xi^{2}} + \\frac{4 \\Delta_{\\theta} \\Omega \\tilde{r}^{2} a^{3} \\sin^{2}{\\left(\\theta \\right)}}{W \\Xi^{2}} + \\frac{2 \\Delta_{\\theta} \\Omega a^{5} \\sin^{2}{\\left(\\theta \\right)}}{W \\Xi^{2}} - \\frac{\\Delta_{\\theta} a^{2} \\sin^{2}{\\left(\\theta \\right)}}{W} - \\frac{2 \\Delta_{\\theta} \\tilde{r}^{2} a^{2} \\sin^{2}{\\left(\\theta \\right)}}{W \\Xi} - \\frac{2 \\Delta_{\\theta} a^{4} \\sin^{2}{\\left(\\theta \\right)}}{W \\Xi} - \\frac{\\Delta_{\\theta} \\tilde{r}^{4} a^{2} \\sin^{2}{\\left(\\theta \\right)}}{W \\Xi^{2}} - \\frac{2 \\Delta_{\\theta} \\tilde{r}^{2} a^{4} \\sin^{2}{\\left(\\theta \\right)}}{W \\Xi^{2}} - \\frac{\\Delta_{\\theta} a^{6} \\sin^{2}{\\left(\\theta \\right)}}{W \\Xi^{2}}\\right)$"
      ],
      "text/plain": [
       "        ⎛      2    4                      4    2                        2  2 \n",
       "      2 ⎜  Δᵣ⋅a ⋅sin (θ)   Δₜₕₑₜₐ⋅\\tilde{r} ⋅sin (θ)   2⋅Δₜₕₑₜₐ⋅\\tilde{r} ⋅a ⋅\n",
       "d\\phi' ⋅⎜- ───────────── + ───────────────────────── + ───────────────────────\n",
       "        ⎜          2                     2                             2      \n",
       "        ⎝       W⋅Ξ                   W⋅Ξ                           W⋅Ξ       \n",
       "\n",
       "   2              4    2   ⎞                ⎛            2    4               \n",
       "sin (θ)   Δₜₕₑₜₐ⋅a ⋅sin (θ)⎟                ⎜  2⋅ⅈ⋅Δᵣ⋅Ω⋅a ⋅sin (θ)   2⋅ⅈ⋅Δᵣ⋅a⋅\n",
       "─────── + ─────────────────⎟ + d\\phi'⋅d\\tau⋅⎜- ─────────────────── + ─────────\n",
       "                    2      ⎟                ⎜             2                W⋅Ξ\n",
       "                 W⋅Ξ       ⎠                ⎝          W⋅Ξ                    \n",
       "\n",
       "   2              3    4                            4    2                    \n",
       "sin (θ)   2⋅ⅈ⋅Δᵣ⋅a ⋅sin (θ)   2⋅ⅈ⋅Δₜₕₑₜₐ⋅Ω⋅\\tilde{r} ⋅sin (θ)   4⋅ⅈ⋅Δₜₕₑₜₐ⋅Ω⋅\\\n",
       "─────── + ───────────────── + ─────────────────────────────── + ──────────────\n",
       "                    2                          2                              \n",
       "                 W⋅Ξ                        W⋅Ξ                               \n",
       "\n",
       "        2  2    2                    4    2                          2      2 \n",
       "tilde{r} ⋅a ⋅sin (θ)   2⋅ⅈ⋅Δₜₕₑₜₐ⋅Ω⋅a ⋅sin (θ)   2⋅ⅈ⋅Δₜₕₑₜₐ⋅\\tilde{r} ⋅a⋅sin (\n",
       "──────────────────── + ─────────────────────── - ─────────────────────────────\n",
       "    2                               2                          W⋅Ξ            \n",
       " W⋅Ξ                             W⋅Ξ                                          \n",
       "\n",
       "                 3    2                          4      2                     \n",
       "θ)   2⋅ⅈ⋅Δₜₕₑₜₐ⋅a ⋅sin (θ)   2⋅ⅈ⋅Δₜₕₑₜₐ⋅\\tilde{r} ⋅a⋅sin (θ)   4⋅ⅈ⋅Δₜₕₑₜₐ⋅\\til\n",
       "── - ───────────────────── - ─────────────────────────────── - ───────────────\n",
       "              W⋅Ξ                             2                               \n",
       "                                           W⋅Ξ                               W\n",
       "\n",
       "     2  3    2                  5    2   ⎞          ⎛    2  2    4            \n",
       "de{r} ⋅a ⋅sin (θ)   2⋅ⅈ⋅Δₜₕₑₜₐ⋅a ⋅sin (θ)⎟        2 ⎜Δᵣ⋅Ω ⋅a ⋅sin (θ)   2⋅Δᵣ⋅Ω\n",
       "───────────────── - ─────────────────────⎟ + d\\tau ⋅⎜──────────────── - ──────\n",
       "  2                             2        ⎟          ⎜         2               \n",
       "⋅Ξ                           W⋅Ξ         ⎠          ⎝      W⋅Ξ                \n",
       "\n",
       "      2              3    4                 2    2          4    4            \n",
       "⋅a⋅sin (θ)   2⋅Δᵣ⋅Ω⋅a ⋅sin (θ)   Δᵣ   2⋅Δᵣ⋅a ⋅sin (θ)   Δᵣ⋅a ⋅sin (θ)   Δₜₕₑₜₐ\n",
       "────────── - ───────────────── + ── + ─────────────── + ───────────── - ──────\n",
       "W⋅Ξ                    2         W          W⋅Ξ                 2             \n",
       "                    W⋅Ξ                                      W⋅Ξ              \n",
       "\n",
       "  2          4    2                2          2  2    2              2  4    2\n",
       "⋅Ω ⋅\\tilde{r} ⋅sin (θ)   2⋅Δₜₕₑₜₐ⋅Ω ⋅\\tilde{r} ⋅a ⋅sin (θ)   Δₜₕₑₜₐ⋅Ω ⋅a ⋅sin \n",
       "────────────────────── - ───────────────────────────────── - ─────────────────\n",
       "         2                                 2                            2     \n",
       "      W⋅Ξ                               W⋅Ξ                          W⋅Ξ      \n",
       "\n",
       "                          2      2                  3    2                    \n",
       "(θ)   2⋅Δₜₕₑₜₐ⋅Ω⋅\\tilde{r} ⋅a⋅sin (θ)   2⋅Δₜₕₑₜₐ⋅Ω⋅a ⋅sin (θ)   2⋅Δₜₕₑₜₐ⋅Ω⋅\\ti\n",
       "─── + ─────────────────────────────── + ───────────────────── + ──────────────\n",
       "                    W⋅Ξ                          W⋅Ξ                          \n",
       "                                                                              \n",
       "\n",
       "      4      2                          2  3    2                  5    2     \n",
       "lde{r} ⋅a⋅sin (θ)   4⋅Δₜₕₑₜₐ⋅Ω⋅\\tilde{r} ⋅a ⋅sin (θ)   2⋅Δₜₕₑₜₐ⋅Ω⋅a ⋅sin (θ)  \n",
       "───────────────── + ──────────────────────────────── + ───────────────────── -\n",
       "   2                                 2                             2          \n",
       "W⋅Ξ                               W⋅Ξ                           W⋅Ξ           \n",
       "\n",
       "         2    2                        2  2    2                4    2        \n",
       " Δₜₕₑₜₐ⋅a ⋅sin (θ)   2⋅Δₜₕₑₜₐ⋅\\tilde{r} ⋅a ⋅sin (θ)   2⋅Δₜₕₑₜₐ⋅a ⋅sin (θ)   Δₜ\n",
       " ───────────────── - ────────────────────────────── - ─────────────────── - ──\n",
       "         W                        W⋅Ξ                         W⋅Ξ             \n",
       "                                                                              \n",
       "\n",
       "              4  2    2                        2  4    2              6    2  \n",
       "ₕₑₜₐ⋅\\tilde{r} ⋅a ⋅sin (θ)   2⋅Δₜₕₑₜₐ⋅\\tilde{r} ⋅a ⋅sin (θ)   Δₜₕₑₜₐ⋅a ⋅sin (θ\n",
       "────────────────────────── - ────────────────────────────── - ────────────────\n",
       "             2                               2                          2     \n",
       "          W⋅Ξ                             W⋅Ξ                        W⋅Ξ      \n",
       "\n",
       " ⎞\n",
       ")⎟\n",
       "─⎟\n",
       " ⎟\n",
       " ⎠"
      ]
     },
     "execution_count": 51,
     "metadata": {},
     "output_type": "execute_result"
    }
   ],
   "source": [
    "euclidean_metric_3 = euclidean_metric_2.subs({dphi_tilde: dphi_tilde_val}).expand().collect([dtau ** 2, dtau * dphi_prime, dphi_prime ** 2])\n",
    "euclidean_metric_3"
   ]
  },
  {
   "cell_type": "code",
   "execution_count": 52,
   "metadata": {},
   "outputs": [],
   "source": [
    "metric_list_matrix = [[0 for i in range(2)] for i in range(2)]\n",
    "metric_list_matrix[0][0] = euclidean_metric_3.coeff(dtau ** 2)\n",
    "metric_list_matrix[0][1] = euclidean_metric_3.coeff(dtau * dphi_prime) / 2\n",
    "metric_list_matrix[1][0] = metric_list_matrix[0][1]\n",
    "metric_list_matrix[1][1] = euclidean_metric_3.coeff(dphi_prime ** 2)"
   ]
  },
  {
   "cell_type": "code",
   "execution_count": 53,
   "metadata": {},
   "outputs": [
    {
     "data": {
      "text/latex": [
       "$\\displaystyle \\left[\\begin{matrix}\\frac{\\Xi^{2} \\left(\\Delta_{r} - \\Delta_{\\theta} a^{2} \\sin^{2}{\\left(\\theta \\right)}\\right) + 2 \\Xi a \\left(- \\Delta_{r} \\Omega + \\Delta_{r} a + \\Delta_{\\theta} \\Omega \\tilde{r}^{2} + \\Delta_{\\theta} \\Omega a^{2} - \\Delta_{\\theta} \\tilde{r}^{2} a - \\Delta_{\\theta} a^{3}\\right) \\sin^{2}{\\left(\\theta \\right)} + \\left(- \\Omega + a\\right)^{2} \\left(\\Delta_{r} a^{2} \\sin^{2}{\\left(\\theta \\right)} - \\Delta_{\\theta} \\tilde{r}^{4} - 2 \\Delta_{\\theta} \\tilde{r}^{2} a^{2} - \\Delta_{\\theta} a^{4}\\right) \\sin^{2}{\\left(\\theta \\right)}}{W \\Xi^{2}} & \\frac{i \\left(- \\Delta_{r} \\Omega a^{2} \\sin^{2}{\\left(\\theta \\right)} + \\Delta_{r} a^{3} \\sin^{2}{\\left(\\theta \\right)} + \\Delta_{\\theta} \\Omega \\tilde{r}^{4} + 2 \\Delta_{\\theta} \\Omega \\tilde{r}^{2} a^{2} + \\Delta_{\\theta} \\Omega a^{4} - \\Delta_{\\theta} \\tilde{r}^{4} a - 2 \\Delta_{\\theta} \\tilde{r}^{2} a^{3} - \\Delta_{\\theta} a^{5} + \\Xi a \\left(\\Delta_{r} - \\Delta_{\\theta} \\tilde{r}^{2} - \\Delta_{\\theta} a^{2}\\right)\\right) \\sin^{2}{\\left(\\theta \\right)}}{W \\Xi^{2}}\\\\\\frac{i \\left(- \\Delta_{r} \\Omega a^{2} \\sin^{2}{\\left(\\theta \\right)} + \\Delta_{r} a^{3} \\sin^{2}{\\left(\\theta \\right)} + \\Delta_{\\theta} \\Omega \\tilde{r}^{4} + 2 \\Delta_{\\theta} \\Omega \\tilde{r}^{2} a^{2} + \\Delta_{\\theta} \\Omega a^{4} - \\Delta_{\\theta} \\tilde{r}^{4} a - 2 \\Delta_{\\theta} \\tilde{r}^{2} a^{3} - \\Delta_{\\theta} a^{5} + \\Xi a \\left(\\Delta_{r} - \\Delta_{\\theta} \\tilde{r}^{2} - \\Delta_{\\theta} a^{2}\\right)\\right) \\sin^{2}{\\left(\\theta \\right)}}{W \\Xi^{2}} & \\frac{\\left(- \\Delta_{r} a^{2} \\sin^{2}{\\left(\\theta \\right)} + \\Delta_{\\theta} \\tilde{r}^{4} + 2 \\Delta_{\\theta} \\tilde{r}^{2} a^{2} + \\Delta_{\\theta} a^{4}\\right) \\sin^{2}{\\left(\\theta \\right)}}{W \\Xi^{2}}\\end{matrix}\\right]$"
      ],
      "text/plain": [
       "⎡ 2 ⎛             2    2   ⎞         ⎛                                 2      \n",
       "⎢Ξ ⋅⎝Δᵣ - Δₜₕₑₜₐ⋅a ⋅sin (θ)⎠ + 2⋅Ξ⋅a⋅⎝-Δᵣ⋅Ω + Δᵣ⋅a + Δₜₕₑₜₐ⋅Ω⋅\\tilde{r}  + Δₜₕ\n",
       "⎢─────────────────────────────────────────────────────────────────────────────\n",
       "⎢                                                                             \n",
       "⎢                                                                             \n",
       "⎢                                                                             \n",
       "⎢       ⎛        2    2          3    2                        4              \n",
       "⎢     ⅈ⋅⎝- Δᵣ⋅Ω⋅a ⋅sin (θ) + Δᵣ⋅a ⋅sin (θ) + Δₜₕₑₜₐ⋅Ω⋅\\tilde{r}  + 2⋅Δₜₕₑₜₐ⋅Ω⋅\n",
       "⎢     ────────────────────────────────────────────────────────────────────────\n",
       "⎢                                                                             \n",
       "⎣                                                                             \n",
       "\n",
       "       2                   2             3⎞    2              2 ⎛    2    2   \n",
       "ₑₜₐ⋅Ω⋅a  - Δₜₕₑₜₐ⋅\\tilde{r} ⋅a - Δₜₕₑₜₐ⋅a ⎠⋅sin (θ) + (-Ω + a) ⋅⎝Δᵣ⋅a ⋅sin (θ)\n",
       "──────────────────────────────────────────────────────────────────────────────\n",
       "                                   2                                          \n",
       "                                W⋅Ξ                                           \n",
       "                                                                              \n",
       "         2  2             4                   4                       2  3    \n",
       "\\tilde{r} ⋅a  + Δₜₕₑₜₐ⋅Ω⋅a  - Δₜₕₑₜₐ⋅\\tilde{r} ⋅a - 2⋅Δₜₕₑₜₐ⋅\\tilde{r} ⋅a  - Δ\n",
       "──────────────────────────────────────────────────────────────────────────────\n",
       "                                  2                                           \n",
       "                               W⋅Ξ                                            \n",
       "\n",
       "                   4                     2  2           4⎞    2       ⎛       \n",
       " - Δₜₕₑₜₐ⋅\\tilde{r}  - 2⋅Δₜₕₑₜₐ⋅\\tilde{r} ⋅a  - Δₜₕₑₜₐ⋅a ⎠⋅sin (θ)  ⅈ⋅⎝- Δᵣ⋅Ω⋅\n",
       "──────────────────────────────────────────────────────────────────  ──────────\n",
       "                                                                              \n",
       "                                                                              \n",
       "                                                                              \n",
       "       5       ⎛                     2           2⎞⎞    2                     \n",
       "ₜₕₑₜₐ⋅a  + Ξ⋅a⋅⎝Δᵣ - Δₜₕₑₜₐ⋅\\tilde{r}  - Δₜₕₑₜₐ⋅a ⎠⎠⋅sin (θ)                  \n",
       "────────────────────────────────────────────────────────────                  \n",
       "                                                                              \n",
       "                                                                              \n",
       "\n",
       " 2    2          3    2                        4                       2  2   \n",
       "a ⋅sin (θ) + Δᵣ⋅a ⋅sin (θ) + Δₜₕₑₜₐ⋅Ω⋅\\tilde{r}  + 2⋅Δₜₕₑₜₐ⋅Ω⋅\\tilde{r} ⋅a  + \n",
       "──────────────────────────────────────────────────────────────────────────────\n",
       "                                                                              \n",
       "                                                                              \n",
       "                                                                              \n",
       "                                                      ⎛      2    2           \n",
       "                                                      ⎝- Δᵣ⋅a ⋅sin (θ) + Δₜₕₑₜ\n",
       "                                                      ────────────────────────\n",
       "                                                                              \n",
       "                                                                              \n",
       "\n",
       "          4                   4                       2  3           5       ⎛\n",
       "Δₜₕₑₜₐ⋅Ω⋅a  - Δₜₕₑₜₐ⋅\\tilde{r} ⋅a - 2⋅Δₜₕₑₜₐ⋅\\tilde{r} ⋅a  - Δₜₕₑₜₐ⋅a  + Ξ⋅a⋅⎝\n",
       "──────────────────────────────────────────────────────────────────────────────\n",
       "                  2                                                           \n",
       "               W⋅Ξ                                                            \n",
       "                                                                              \n",
       "           4                     2  2           4⎞    2                       \n",
       "ₐ⋅\\tilde{r}  + 2⋅Δₜₕₑₜₐ⋅\\tilde{r} ⋅a  + Δₜₕₑₜₐ⋅a ⎠⋅sin (θ)                    \n",
       "──────────────────────────────────────────────────────────                    \n",
       "                  2                                                           \n",
       "               W⋅Ξ                                                            \n",
       "\n",
       "                     2           2⎞⎞    2   ⎤\n",
       "Δᵣ - Δₜₕₑₜₐ⋅\\tilde{r}  - Δₜₕₑₜₐ⋅a ⎠⎠⋅sin (θ)⎥\n",
       "────────────────────────────────────────────⎥\n",
       "                                            ⎥\n",
       "                                            ⎥\n",
       "                                            ⎥\n",
       "                                            ⎥\n",
       "                                            ⎥\n",
       "                                            ⎥\n",
       "                                            ⎥\n",
       "                                            ⎦"
      ]
     },
     "execution_count": 53,
     "metadata": {},
     "output_type": "execute_result"
    }
   ],
   "source": [
    "g_mat_3 = sympy.Matrix(metric_list_matrix)\n",
    "g_mat_3.simplify()\n",
    "g_mat_3"
   ]
  },
  {
   "cell_type": "code",
   "execution_count": 54,
   "metadata": {},
   "outputs": [
    {
     "data": {
      "image/png": "[encoded data removed]",
      "text/latex": [
       "$\\displaystyle \\frac{\\Delta_{r} \\Delta_{\\theta} \\left(\\tilde{r}^{2} + a^{2} \\cos^{2}{\\left(\\theta \\right)}\\right)^{2} \\sin^{2}{\\left(\\theta \\right)}}{W^{2} \\Xi^{2}}$"
      ],
      "text/plain": [
       "                                   2        \n",
       "          ⎛         2    2    2   ⎞     2   \n",
       "Δᵣ⋅Δₜₕₑₜₐ⋅⎝\\tilde{r}  + a ⋅cos (θ)⎠ ⋅sin (θ)\n",
       "────────────────────────────────────────────\n",
       "                    2  2                    \n",
       "                   W ⋅Ξ                     "
      ]
     },
     "execution_count": 54,
     "metadata": {},
     "output_type": "execute_result"
    }
   ],
   "source": [
    "g_mat_3.det().simplify()"
   ]
  },
  {
   "attachments": {},
   "cell_type": "markdown",
   "metadata": {},
   "source": [
    "##### $g_{00}$"
   ]
  },
  {
   "cell_type": "code",
   "execution_count": 55,
   "metadata": {},
   "outputs": [
    {
     "data": {
      "image/png": "[encoded data removed]",
      "text/latex": [
       "$\\displaystyle \\Delta_{r} \\left(\\Xi + a \\left(- \\Omega + a\\right) \\sin^{2}{\\left(\\theta \\right)}\\right)^{2} - \\Delta_{\\theta} \\left(\\Xi a + \\left(- \\Omega + a\\right) \\left(\\tilde{r}^{2} + a^{2}\\right)\\right)^{2} \\sin^{2}{\\left(\\theta \\right)}$"
      ],
      "text/plain": [
       "                           2                                            2     \n",
       "   ⎛                  2   ⎞           ⎛               ⎛         2    2⎞⎞     2\n",
       "Δᵣ⋅⎝Ξ + a⋅(-Ω + a)⋅sin (θ)⎠  - Δₜₕₑₜₐ⋅⎝Ξ⋅a + (-Ω + a)⋅⎝\\tilde{r}  + a ⎠⎠ ⋅sin \n",
       "\n",
       "   \n",
       "   \n",
       "(θ)"
      ]
     },
     "execution_count": 55,
     "metadata": {},
     "output_type": "execute_result"
    }
   ],
   "source": [
    "g_00 = delta_r * (xi + a * (a - omega) * sympy.sin(theta) ** 2) ** 2 - delta_theta * sympy.sin(theta) ** 2 * (a * xi + (a - omega) * (r_tilde ** 2 + a ** 2)) ** 2\n",
    "g_00"
   ]
  },
  {
   "cell_type": "code",
   "execution_count": 56,
   "metadata": {},
   "outputs": [
    {
     "data": {
      "image/png": "[encoded data removed]",
      "text/latex": [
       "$\\displaystyle 0$"
      ],
      "text/plain": [
       "0"
      ]
     },
     "execution_count": 56,
     "metadata": {},
     "output_type": "execute_result"
    }
   ],
   "source": [
    "(g_00 / (W * xi ** 2) - g_mat_3[0, 0]).expand().simplify()"
   ]
  },
  {
   "cell_type": "code",
   "execution_count": 57,
   "metadata": {},
   "outputs": [
    {
     "data": {
      "image/png": "[encoded data removed]",
      "text/latex": [
       "$\\displaystyle \\Delta_{r} \\left(\\Xi + a \\left(a - 1\\right) \\sin^{2}{\\left(\\theta \\right)}\\right)^{2} - \\Delta_{\\theta} \\left(\\Xi a + \\left(\\tilde{r}^{2} + a^{2}\\right) \\left(a - 1\\right)\\right)^{2} \\sin^{2}{\\left(\\theta \\right)}$"
      ],
      "text/plain": [
       "                          2                                           2       \n",
       "   ⎛                 2   ⎞           ⎛      ⎛         2    2⎞        ⎞     2  \n",
       "Δᵣ⋅⎝Ξ + a⋅(a - 1)⋅sin (θ)⎠  - Δₜₕₑₜₐ⋅⎝Ξ⋅a + ⎝\\tilde{r}  + a ⎠⋅(a - 1)⎠ ⋅sin (θ\n",
       "\n",
       " \n",
       " \n",
       ")"
      ]
     },
     "execution_count": 57,
     "metadata": {},
     "output_type": "execute_result"
    }
   ],
   "source": [
    "g_00 = g_00.subs({omega: 1})\n",
    "g_00"
   ]
  },
  {
   "cell_type": "code",
   "execution_count": 58,
   "metadata": {},
   "outputs": [
    {
     "data": {
      "image/png": "[encoded data removed]",
      "text/latex": [
       "$\\displaystyle \\tilde{r}^{4} \\left(\\tilde{r}_+^{8} \\sin^{4}{\\left(\\theta \\right)} + \\tilde{r}_+^{8} \\sin^{2}{\\left(\\theta \\right)} \\cos^{2}{\\left(\\theta \\right)} - 2 \\tilde{r}_+^{8} \\sin^{2}{\\left(\\theta \\right)} + \\tilde{r}_+^{8} - 2 \\tilde{r}_+^{6} \\sin^{4}{\\left(\\theta \\right)} - 2 \\tilde{r}_+^{6} \\sin^{2}{\\left(\\theta \\right)} \\cos^{2}{\\left(\\theta \\right)} + 2 \\tilde{r}_+^{6} \\sin^{2}{\\left(\\theta \\right)} + \\tilde{r}_+^{4} \\sin^{4}{\\left(\\theta \\right)} + \\tilde{r}_+^{4} \\sin^{2}{\\left(\\theta \\right)} \\cos^{2}{\\left(\\theta \\right)} + \\tilde{r}_+^{4} \\sin^{2}{\\left(\\theta \\right)} - 2 \\tilde{r}_+^{4} - \\sin^{2}{\\left(\\theta \\right)} + 1\\right) + \\tilde{r}^{2} \\left(\\tilde{r}_+^{12} \\sin^{4}{\\left(\\theta \\right)} - 2 \\tilde{r}_+^{12} \\sin^{2}{\\left(\\theta \\right)} + \\tilde{r}_+^{12} - 2 \\tilde{r}_+^{10} \\sin^{4}{\\left(\\theta \\right)} - 2 \\tilde{r}_+^{10} \\sin^{2}{\\left(\\theta \\right)} \\cos^{2}{\\left(\\theta \\right)} + 2 \\tilde{r}_+^{10} \\sin^{2}{\\left(\\theta \\right)} + 2 \\tilde{r}_+^{8} \\sin^{4}{\\left(\\theta \\right)} + 4 \\tilde{r}_+^{8} \\sin^{2}{\\left(\\theta \\right)} \\cos^{2}{\\left(\\theta \\right)} - \\tilde{r}_+^{8} - 2 \\tilde{r}_+^{6} \\sin^{4}{\\left(\\theta \\right)} - 2 \\tilde{r}_+^{6} \\sin^{2}{\\left(\\theta \\right)} \\cos^{2}{\\left(\\theta \\right)} + 2 \\tilde{r}_+^{6} \\sin^{2}{\\left(\\theta \\right)} + \\tilde{r}_+^{4} \\sin^{4}{\\left(\\theta \\right)} - 2 \\tilde{r}_+^{4} \\sin^{2}{\\left(\\theta \\right)} - \\tilde{r}_+^{4} + 1\\right) + \\tilde{r} \\left(- 2 \\tilde{r}_+^{13} \\sin^{4}{\\left(\\theta \\right)} + 4 \\tilde{r}_+^{13} \\sin^{2}{\\left(\\theta \\right)} - 2 \\tilde{r}_+^{13} + 4 \\tilde{r}_+^{11} \\sin^{2}{\\left(\\theta \\right)} - 4 \\tilde{r}_+^{11} + 4 \\tilde{r}_+^{9} \\sin^{4}{\\left(\\theta \\right)} - 8 \\tilde{r}_+^{9} \\sin^{2}{\\left(\\theta \\right)} + 2 \\tilde{r}_+^{9} - 8 \\tilde{r}_+^{7} \\sin^{2}{\\left(\\theta \\right)} + 8 \\tilde{r}_+^{7} - 2 \\tilde{r}_+^{5} \\sin^{4}{\\left(\\theta \\right)} + 4 \\tilde{r}_+^{5} \\sin^{2}{\\left(\\theta \\right)} + 2 \\tilde{r}_+^{5} + 4 \\tilde{r}_+^{3} \\sin^{2}{\\left(\\theta \\right)} - 4 \\tilde{r}_+^{3} - 2 \\tilde{r}_+\\right) + \\tilde{r}_+^{14} \\sin^{4}{\\left(\\theta \\right)} - 2 \\tilde{r}_+^{14} \\sin^{2}{\\left(\\theta \\right)} + \\tilde{r}_+^{14} + \\tilde{r}_+^{12} \\sin^{4}{\\left(\\theta \\right)} + \\tilde{r}_+^{12} \\sin^{2}{\\left(\\theta \\right)} \\cos^{2}{\\left(\\theta \\right)} - 4 \\tilde{r}_+^{12} \\sin^{2}{\\left(\\theta \\right)} + 3 \\tilde{r}_+^{12} - 4 \\tilde{r}_+^{10} \\sin^{4}{\\left(\\theta \\right)} - 2 \\tilde{r}_+^{10} \\sin^{2}{\\left(\\theta \\right)} \\cos^{2}{\\left(\\theta \\right)} + 6 \\tilde{r}_+^{10} \\sin^{2}{\\left(\\theta \\right)} - \\tilde{r}_+^{10} + \\tilde{r}_+^{8} \\sin^{4}{\\left(\\theta \\right)} + \\tilde{r}_+^{8} \\sin^{2}{\\left(\\theta \\right)} \\cos^{2}{\\left(\\theta \\right)} + 5 \\tilde{r}_+^{8} \\sin^{2}{\\left(\\theta \\right)} - 6 \\tilde{r}_+^{8} + \\tilde{r}_+^{6} \\sin^{4}{\\left(\\theta \\right)} - 2 \\tilde{r}_+^{6} \\sin^{2}{\\left(\\theta \\right)} - \\tilde{r}_+^{6} - 3 \\tilde{r}_+^{4} \\sin^{2}{\\left(\\theta \\right)} + 3 \\tilde{r}_+^{4} + \\tilde{r}_+^{2}$"
      ],
      "text/plain": [
       "         4 ⎛          8    4                8    2       2                  8 \n",
       "\\tilde{r} ⋅⎝\\tilde{r}₊ ⋅sin (θ) + \\tilde{r}₊ ⋅sin (θ)⋅cos (θ) - 2⋅\\tilde{r}₊ ⋅\n",
       "\n",
       "   2                8               6    4                  6    2       2    \n",
       "sin (θ) + \\tilde{r}₊  - 2⋅\\tilde{r}₊ ⋅sin (θ) - 2⋅\\tilde{r}₊ ⋅sin (θ)⋅cos (θ) \n",
       "\n",
       "              6    2                4    4                4    2       2      \n",
       "+ 2⋅\\tilde{r}₊ ⋅sin (θ) + \\tilde{r}₊ ⋅sin (θ) + \\tilde{r}₊ ⋅sin (θ)⋅cos (θ) + \n",
       "\n",
       "          4    2                  4      2       ⎞            2 ⎛          12 \n",
       "\\tilde{r}₊ ⋅sin (θ) - 2⋅\\tilde{r}₊  - sin (θ) + 1⎠ + \\tilde{r} ⋅⎝\\tilde{r}₊  ⋅\n",
       "\n",
       "   4                  12    2                12               10    4         \n",
       "sin (θ) - 2⋅\\tilde{r}₊  ⋅sin (θ) + \\tilde{r}₊   - 2⋅\\tilde{r}₊  ⋅sin (θ) - 2⋅\\\n",
       "\n",
       "         10    2       2                  10    2                  8    4     \n",
       "tilde{r}₊  ⋅sin (θ)⋅cos (θ) + 2⋅\\tilde{r}₊  ⋅sin (θ) + 2⋅\\tilde{r}₊ ⋅sin (θ) +\n",
       "\n",
       "             8    2       2                8               6    4             \n",
       " 4⋅\\tilde{r}₊ ⋅sin (θ)⋅cos (θ) - \\tilde{r}₊  - 2⋅\\tilde{r}₊ ⋅sin (θ) - 2⋅\\tild\n",
       "\n",
       "     6    2       2                  6    2                4    4             \n",
       "e{r}₊ ⋅sin (θ)⋅cos (θ) + 2⋅\\tilde{r}₊ ⋅sin (θ) + \\tilde{r}₊ ⋅sin (θ) - 2⋅\\tild\n",
       "\n",
       "     4    2                4    ⎞             ⎛              13    4          \n",
       "e{r}₊ ⋅sin (θ) - \\tilde{r}₊  + 1⎠ + \\tilde{r}⋅⎝- 2⋅\\tilde{r}₊  ⋅sin (θ) + 4⋅\\t\n",
       "\n",
       "        13    2                  13               11    2                  11 \n",
       "ilde{r}₊  ⋅sin (θ) - 2⋅\\tilde{r}₊   + 4⋅\\tilde{r}₊  ⋅sin (θ) - 4⋅\\tilde{r}₊   \n",
       "\n",
       "              9    4                  9    2                  9               \n",
       "+ 4⋅\\tilde{r}₊ ⋅sin (θ) - 8⋅\\tilde{r}₊ ⋅sin (θ) + 2⋅\\tilde{r}₊  - 8⋅\\tilde{r}₊\n",
       "\n",
       "7    2                  7               5    4                  5    2        \n",
       " ⋅sin (θ) + 8⋅\\tilde{r}₊  - 2⋅\\tilde{r}₊ ⋅sin (θ) + 4⋅\\tilde{r}₊ ⋅sin (θ) + 2⋅\n",
       "\n",
       "          5               3    2                  3               ⎞           \n",
       "\\tilde{r}₊  + 4⋅\\tilde{r}₊ ⋅sin (θ) - 4⋅\\tilde{r}₊  - 2⋅\\tilde{r}₊⎠ + \\tilde{r\n",
       "\n",
       "  14    4                  14    2                14             12    4      \n",
       "}₊  ⋅sin (θ) - 2⋅\\tilde{r}₊  ⋅sin (θ) + \\tilde{r}₊   + \\tilde{r}₊  ⋅sin (θ) + \n",
       "\n",
       "          12    2       2                  12    2                  12        \n",
       "\\tilde{r}₊  ⋅sin (θ)⋅cos (θ) - 4⋅\\tilde{r}₊  ⋅sin (θ) + 3⋅\\tilde{r}₊   - 4⋅\\ti\n",
       "\n",
       "       10    4                  10    2       2                  10    2      \n",
       "lde{r}₊  ⋅sin (θ) - 2⋅\\tilde{r}₊  ⋅sin (θ)⋅cos (θ) + 6⋅\\tilde{r}₊  ⋅sin (θ) - \n",
       "\n",
       "          10             8    4                8    2       2                 \n",
       "\\tilde{r}₊   + \\tilde{r}₊ ⋅sin (θ) + \\tilde{r}₊ ⋅sin (θ)⋅cos (θ) + 5⋅\\tilde{r}\n",
       "\n",
       " 8    2                  8             6    4                  6    2         \n",
       "₊ ⋅sin (θ) - 6⋅\\tilde{r}₊  + \\tilde{r}₊ ⋅sin (θ) - 2⋅\\tilde{r}₊ ⋅sin (θ) - \\ti\n",
       "\n",
       "       6               4    2                  4             2\n",
       "lde{r}₊  - 3⋅\\tilde{r}₊ ⋅sin (θ) + 3⋅\\tilde{r}₊  + \\tilde{r}₊ "
      ]
     },
     "execution_count": 58,
     "metadata": {},
     "output_type": "execute_result"
    }
   ],
   "source": [
    "g_00_simp = g_00.subs({delta_r: delta_r_val, xi: xi_val, delta_theta: delta_theta_val}).subs({a: a_val})\n",
    "g_00_simp = g_00_simp.expand().collect([r_tilde, r_tilde ** 2, r_tilde ** 3, r_tilde ** 4])\n",
    "g_00_simp"
   ]
  },
  {
   "cell_type": "code",
   "execution_count": 59,
   "metadata": {},
   "outputs": [
    {
     "data": {
      "image/png": "[encoded data removed]",
      "text/latex": [
       "$\\displaystyle - 2 \\tilde{r}_+ \\left(\\tilde{r}_+ - 1\\right)^{2} \\left(\\tilde{r}_+ + 1\\right)^{2} \\left(\\tilde{r}_+^{2} + 1\\right)^{2} \\left(\\tilde{r}_+^{2} \\cos^{2}{\\left(\\theta \\right)} + 1\\right)^{2}$"
      ],
      "text/plain": [
       "                                                                   2          \n",
       "                              2                 2 ⎛          2    ⎞  ⎛        \n",
       "-2⋅\\tilde{r}₊⋅(\\tilde{r}₊ - 1) ⋅(\\tilde{r}₊ + 1) ⋅⎝\\tilde{r}₊  + 1⎠ ⋅⎝\\tilde{r\n",
       "\n",
       "                2\n",
       "  2    2       ⎞ \n",
       "}₊ ⋅cos (θ) + 1⎠ "
      ]
     },
     "execution_count": 59,
     "metadata": {},
     "output_type": "execute_result"
    }
   ],
   "source": [
    "A_coeff_00 = g_00_simp.coeff(r_tilde).simplify()\n",
    "A_coeff_00"
   ]
  },
  {
   "cell_type": "code",
   "execution_count": 60,
   "metadata": {},
   "outputs": [
    {
     "data": {
      "image/png": "[encoded data removed]",
      "text/latex": [
       "$\\displaystyle \\left(\\tilde{r}_+ - 1\\right)^{2} \\left(\\tilde{r}_+ + 1\\right)^{2} \\left(\\tilde{r}_+^{2} + 1\\right)^{2} \\left(\\tilde{r}_+^{4} \\sin^{4}{\\left(\\theta \\right)} - 2 \\tilde{r}_+^{4} \\sin^{2}{\\left(\\theta \\right)} + \\tilde{r}_+^{4} + 1\\right)$"
      ],
      "text/plain": [
       "                                                     2                        \n",
       "                2                 2 ⎛          2    ⎞  ⎛          4    4      \n",
       "(\\tilde{r}₊ - 1) ⋅(\\tilde{r}₊ + 1) ⋅⎝\\tilde{r}₊  + 1⎠ ⋅⎝\\tilde{r}₊ ⋅sin (θ) - \n",
       "\n",
       "                                        \n",
       "            4    2                4    ⎞\n",
       "2⋅\\tilde{r}₊ ⋅sin (θ) + \\tilde{r}₊  + 1⎠"
      ]
     },
     "execution_count": 60,
     "metadata": {},
     "output_type": "execute_result"
    }
   ],
   "source": [
    "B_coeff_00 = g_00_simp.coeff(r_tilde ** 2).simplify().factor()\n",
    "B_coeff_00"
   ]
  },
  {
   "attachments": {},
   "cell_type": "markdown",
   "metadata": {},
   "source": [
    "This is the same as:"
   ]
  },
  {
   "cell_type": "code",
   "execution_count": 61,
   "metadata": {},
   "outputs": [
    {
     "data": {
      "image/png": "[encoded data removed]",
      "text/latex": [
       "$\\displaystyle \\left(\\tilde{r}_+ - 1\\right)^{2} \\left(\\tilde{r}_+ + 1\\right)^{2} \\left(\\tilde{r}_+^{2} + 1\\right)^{2} \\left(\\tilde{r}_+^{4} \\cos^{4}{\\left(\\theta \\right)} + 1\\right)$"
      ],
      "text/plain": [
       "                                                     2                        \n",
       "                2                 2 ⎛          2    ⎞  ⎛          4    4      \n",
       "(\\tilde{r}₊ - 1) ⋅(\\tilde{r}₊ + 1) ⋅⎝\\tilde{r}₊  + 1⎠ ⋅⎝\\tilde{r}₊ ⋅cos (θ) + \n",
       "\n",
       "  \n",
       " ⎞\n",
       "1⎠"
      ]
     },
     "execution_count": 61,
     "metadata": {},
     "output_type": "execute_result"
    }
   ],
   "source": [
    "B_coeff_00_2 = (r_tilde_plus - 1) ** 2 * (r_tilde_plus + 1) ** 2 * (r_tilde_plus ** 2 + 1) ** 2 * (r_tilde_plus ** 4 * sympy.cos(theta) ** 4 + 1)\n",
    "B_coeff_00_2"
   ]
  },
  {
   "cell_type": "code",
   "execution_count": 62,
   "metadata": {},
   "outputs": [
    {
     "data": {
      "image/png": "[encoded data removed]",
      "text/latex": [
       "$\\displaystyle 0$"
      ],
      "text/plain": [
       "0"
      ]
     },
     "execution_count": 62,
     "metadata": {},
     "output_type": "execute_result"
    }
   ],
   "source": [
    "(B_coeff_00 - B_coeff_00_2).simplify()"
   ]
  },
  {
   "cell_type": "code",
   "execution_count": 63,
   "metadata": {},
   "outputs": [
    {
     "data": {
      "image/png": "[encoded data removed]",
      "text/latex": [
       "$\\displaystyle 0$"
      ],
      "text/plain": [
       "0"
      ]
     },
     "execution_count": 63,
     "metadata": {},
     "output_type": "execute_result"
    }
   ],
   "source": [
    "g_00_simp.coeff(r_tilde ** 3).simplify()"
   ]
  },
  {
   "cell_type": "code",
   "execution_count": 64,
   "metadata": {},
   "outputs": [
    {
     "data": {
      "image/png": "[encoded data removed]",
      "text/latex": [
       "$\\displaystyle \\left(\\tilde{r}_+ - 1\\right)^{2} \\left(\\tilde{r}_+ + 1\\right)^{2} \\left(\\tilde{r}_+^{2} + 1\\right)^{2} \\cos^{2}{\\left(\\theta \\right)}$"
      ],
      "text/plain": [
       "                                                     2        \n",
       "                2                 2 ⎛          2    ⎞     2   \n",
       "(\\tilde{r}₊ - 1) ⋅(\\tilde{r}₊ + 1) ⋅⎝\\tilde{r}₊  + 1⎠ ⋅cos (θ)"
      ]
     },
     "execution_count": 64,
     "metadata": {},
     "output_type": "execute_result"
    }
   ],
   "source": [
    "C_coeff_00 = g_00_simp.coeff(r_tilde ** 4).simplify().factor()\n",
    "C_coeff_00"
   ]
  },
  {
   "cell_type": "code",
   "execution_count": 65,
   "metadata": {},
   "outputs": [
    {
     "data": {
      "image/png": "[encoded data removed]",
      "text/latex": [
       "$\\displaystyle \\tilde{r}_+^{2} \\left(\\tilde{r}_+ - 1\\right)^{2} \\left(\\tilde{r}_+ + 1\\right)^{2} \\left(\\tilde{r}_+^{2} + 1\\right)^{2} \\left(\\tilde{r}_+^{4} \\left(1 - \\cos^{2}{\\left(\\theta \\right)}\\right)^{2} + 2 \\tilde{r}_+^{4} \\cos^{2}{\\left(\\theta \\right)} - \\tilde{r}_+^{4} + 3 \\tilde{r}_+^{2} \\cos^{2}{\\left(\\theta \\right)} + 1\\right)$"
      ],
      "text/plain": [
       "                                                                 2 ⎛          \n",
       "          2                 2                 2 ⎛          2    ⎞  ⎜          \n",
       "\\tilde{r}₊ ⋅(\\tilde{r}₊ - 1) ⋅(\\tilde{r}₊ + 1) ⋅⎝\\tilde{r}₊  + 1⎠ ⋅⎝\\tilde{r}₊\n",
       "\n",
       "               2                                                              \n",
       "4 ⎛       2   ⎞                4    2                4               2    2   \n",
       " ⋅⎝1 - cos (θ)⎠  + 2⋅\\tilde{r}₊ ⋅cos (θ) - \\tilde{r}₊  + 3⋅\\tilde{r}₊ ⋅cos (θ)\n",
       "\n",
       "    ⎞\n",
       "    ⎟\n",
       " + 1⎠"
      ]
     },
     "execution_count": 65,
     "metadata": {},
     "output_type": "execute_result"
    }
   ],
   "source": [
    "D_coeff_00 = g_00_simp - A_coeff_00 * r_tilde - B_coeff_00 * r_tilde ** 2 - C_coeff_00 * r_tilde ** 4\n",
    "D_coeff_00.simplify()"
   ]
  },
  {
   "attachments": {},
   "cell_type": "markdown",
   "metadata": {},
   "source": [
    "This is the same as:"
   ]
  },
  {
   "cell_type": "code",
   "execution_count": 66,
   "metadata": {},
   "outputs": [
    {
     "data": {
      "image/png": "[encoded data removed]",
      "text/latex": [
       "$\\displaystyle \\tilde{r}_+^{2} \\left(\\tilde{r}_+ - 1\\right)^{2} \\left(\\tilde{r}_+ + 1\\right)^{2} \\left(\\tilde{r}_+^{2} + 1\\right)^{2} \\left(\\tilde{r}_+^{2} \\cos^{2}{\\left(\\theta \\right)} + \\left(\\tilde{r}_+^{2} \\cos^{2}{\\left(\\theta \\right)} + 1\\right)^{2}\\right)$"
      ],
      "text/plain": [
       "                                                                 2 ⎛          \n",
       "          2                 2                 2 ⎛          2    ⎞  ⎜          \n",
       "\\tilde{r}₊ ⋅(\\tilde{r}₊ - 1) ⋅(\\tilde{r}₊ + 1) ⋅⎝\\tilde{r}₊  + 1⎠ ⋅⎝\\tilde{r}₊\n",
       "\n",
       "                                     2⎞\n",
       "2    2      ⎛          2    2       ⎞ ⎟\n",
       " ⋅cos (θ) + ⎝\\tilde{r}₊ ⋅cos (θ) + 1⎠ ⎠"
      ]
     },
     "execution_count": 66,
     "metadata": {},
     "output_type": "execute_result"
    }
   ],
   "source": [
    "D_coeff_00_new = (r_tilde_plus - 1) ** 2 * (r_tilde_plus + 1) ** 2 * (r_tilde_plus ** 2 + 1) ** 2 * r_tilde_plus ** 2 * (r_tilde_plus ** 2 * sympy.cos(theta) ** 2 + (r_tilde_plus ** 2 * sympy.cos(theta) ** 2 + 1) ** 2)\n",
    "D_coeff_00_new"
   ]
  },
  {
   "cell_type": "code",
   "execution_count": 67,
   "metadata": {},
   "outputs": [
    {
     "data": {
      "image/png": "[encoded data removed]",
      "text/latex": [
       "$\\displaystyle 0$"
      ],
      "text/plain": [
       "0"
      ]
     },
     "execution_count": 67,
     "metadata": {},
     "output_type": "execute_result"
    }
   ],
   "source": [
    "(D_coeff_00 - D_coeff_00_new).simplify()"
   ]
  },
  {
   "attachments": {},
   "cell_type": "markdown",
   "metadata": {},
   "source": [
    "##### $g_{11}$"
   ]
  },
  {
   "attachments": {},
   "cell_type": "markdown",
   "metadata": {},
   "source": [
    "This component remains unchanged."
   ]
  }
 ],
 "metadata": {
  "kernelspec": {
   "display_name": "env",
   "language": "python",
   "name": "python3"
  },
  "language_info": {
   "codemirror_mode": {
    "name": "ipython",
    "version": 3
   },
   "file_extension": ".py",
   "mimetype": "text/x-python",
   "name": "python",
   "nbconvert_exporter": "python",
   "pygments_lexer": "ipython3",
   "version": "3.10.3"
  },
  "orig_nbformat": 4
 },
 "nbformat": 4,
 "nbformat_minor": 2
}
