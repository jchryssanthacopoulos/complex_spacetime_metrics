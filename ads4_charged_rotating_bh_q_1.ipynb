{
 "cells": [
  {
   "cell_type": "code",
   "execution_count": 1,
   "metadata": {},
   "outputs": [],
   "source": [
    "import sympy\n",
    "\n",
    "sympy.init_printing()"
   ]
  },
  {
   "attachments": {},
   "cell_type": "markdown",
   "metadata": {},
   "source": [
    "### Variable Definitions"
   ]
  },
  {
   "cell_type": "code",
   "execution_count": 2,
   "metadata": {},
   "outputs": [],
   "source": [
    "t, r, theta, phi, phi_tilde = sympy.symbols(\"t r theta phi \\\\tilde{\\phi}\")"
   ]
  },
  {
   "cell_type": "code",
   "execution_count": 3,
   "metadata": {},
   "outputs": [],
   "source": [
    "dt, dr, dtheta, dphi, dphi_tilde = sympy.symbols(r\"dt dr d\\theta d\\phi d\\tilde{\\phi}\")"
   ]
  },
  {
   "cell_type": "code",
   "execution_count": 4,
   "metadata": {},
   "outputs": [],
   "source": [
    "a, delta, m, alpha = sympy.symbols(\"a delta m alpha\")"
   ]
  },
  {
   "cell_type": "code",
   "execution_count": 5,
   "metadata": {},
   "outputs": [],
   "source": [
    "r_tilde, delta_r, delta_theta, W, xi = sympy.symbols(\"\\\\tilde{r} Delta_r Delta_theta W Xi\")"
   ]
  },
  {
   "attachments": {},
   "cell_type": "markdown",
   "metadata": {},
   "source": [
    "### Metric"
   ]
  },
  {
   "cell_type": "code",
   "execution_count": 6,
   "metadata": {},
   "outputs": [],
   "source": [
    "metric_orig = -delta_r / W * (dt - a * sympy.sin(theta) ** 2 * dphi / xi) ** 2\n",
    "metric_orig += delta_theta * sympy.sin(theta) ** 2 / W * (a * dt - (r_tilde ** 2 + a ** 2) * dphi / xi) ** 2"
   ]
  },
  {
   "cell_type": "code",
   "execution_count": 7,
   "metadata": {},
   "outputs": [
    {
     "data": {
      "image/png": "[encoded data removed]",
      "text/latex": [
       "$\\displaystyle - \\frac{\\Delta_{r} \\left(dt - \\frac{a d\\phi \\sin^{2}{\\left(\\theta \\right)}}{\\Xi}\\right)^{2}}{W} + \\frac{\\Delta_{\\theta} \\left(a dt - \\frac{d\\phi \\left(\\tilde{r}^{2} + a^{2}\\right)}{\\Xi}\\right)^{2} \\sin^{2}{\\left(\\theta \\right)}}{W}$"
      ],
      "text/plain": [
       "                           2                                          2       \n",
       "     ⎛                2   ⎞           ⎛             ⎛         2    2⎞⎞        \n",
       "     ⎜     a⋅d\\phi⋅sin (θ)⎟           ⎜       d\\phi⋅⎝\\tilde{r}  + a ⎠⎟     2  \n",
       "  Δᵣ⋅⎜dt - ───────────────⎟    Δₜₕₑₜₐ⋅⎜a⋅dt - ───────────────────────⎟ ⋅sin (θ\n",
       "     ⎝            Ξ       ⎠           ⎝                  Ξ           ⎠        \n",
       "- ────────────────────────── + ───────────────────────────────────────────────\n",
       "              W                                       W                       \n",
       "\n",
       " \n",
       " \n",
       " \n",
       ")\n",
       " \n",
       "─\n",
       " "
      ]
     },
     "execution_count": 7,
     "metadata": {},
     "output_type": "execute_result"
    }
   ],
   "source": [
    "metric_orig"
   ]
  },
  {
   "attachments": {},
   "cell_type": "markdown",
   "metadata": {},
   "source": [
    "Make change of variables."
   ]
  },
  {
   "cell_type": "code",
   "execution_count": 8,
   "metadata": {},
   "outputs": [],
   "source": [
    "omega = sympy.symbols(\"Omega\")\n",
    "dphi_val = dphi_tilde + omega * dt"
   ]
  },
  {
   "cell_type": "code",
   "execution_count": 9,
   "metadata": {},
   "outputs": [
    {
     "data": {
      "image/png": "[encoded data removed]",
      "text/latex": [
       "$\\displaystyle \\Omega dt + d\\tilde{\\phi}$"
      ],
      "text/plain": [
       "Ω⋅dt + d\\tilde{\\phi}"
      ]
     },
     "execution_count": 9,
     "metadata": {},
     "output_type": "execute_result"
    }
   ],
   "source": [
    "dphi_val"
   ]
  },
  {
   "cell_type": "code",
   "execution_count": 10,
   "metadata": {},
   "outputs": [
    {
     "data": {
      "image/png": "[encoded data removed]",
      "text/latex": [
       "$\\displaystyle - \\frac{\\Delta_{r} \\Omega^{2} a^{2} dt^{2} \\sin^{4}{\\left(\\theta \\right)}}{W \\Xi^{2}} + \\frac{2 \\Delta_{r} \\Omega a dt^{2} \\sin^{2}{\\left(\\theta \\right)}}{W \\Xi} - \\frac{2 \\Delta_{r} \\Omega a^{2} d\\tilde{\\phi} dt \\sin^{4}{\\left(\\theta \\right)}}{W \\Xi^{2}} - \\frac{\\Delta_{r} dt^{2}}{W} + \\frac{2 \\Delta_{r} a d\\tilde{\\phi} dt \\sin^{2}{\\left(\\theta \\right)}}{W \\Xi} - \\frac{\\Delta_{r} a^{2} d\\tilde{\\phi}^{2} \\sin^{4}{\\left(\\theta \\right)}}{W \\Xi^{2}} + \\frac{\\Delta_{\\theta} \\Omega^{2} \\tilde{r}^{4} dt^{2} \\sin^{2}{\\left(\\theta \\right)}}{W \\Xi^{2}} + \\frac{2 \\Delta_{\\theta} \\Omega^{2} \\tilde{r}^{2} a^{2} dt^{2} \\sin^{2}{\\left(\\theta \\right)}}{W \\Xi^{2}} + \\frac{\\Delta_{\\theta} \\Omega^{2} a^{4} dt^{2} \\sin^{2}{\\left(\\theta \\right)}}{W \\Xi^{2}} - \\frac{2 \\Delta_{\\theta} \\Omega \\tilde{r}^{2} a dt^{2} \\sin^{2}{\\left(\\theta \\right)}}{W \\Xi} - \\frac{2 \\Delta_{\\theta} \\Omega a^{3} dt^{2} \\sin^{2}{\\left(\\theta \\right)}}{W \\Xi} + \\frac{2 \\Delta_{\\theta} \\Omega \\tilde{r}^{4} d\\tilde{\\phi} dt \\sin^{2}{\\left(\\theta \\right)}}{W \\Xi^{2}} + \\frac{4 \\Delta_{\\theta} \\Omega \\tilde{r}^{2} a^{2} d\\tilde{\\phi} dt \\sin^{2}{\\left(\\theta \\right)}}{W \\Xi^{2}} + \\frac{2 \\Delta_{\\theta} \\Omega a^{4} d\\tilde{\\phi} dt \\sin^{2}{\\left(\\theta \\right)}}{W \\Xi^{2}} + \\frac{\\Delta_{\\theta} a^{2} dt^{2} \\sin^{2}{\\left(\\theta \\right)}}{W} - \\frac{2 \\Delta_{\\theta} \\tilde{r}^{2} a d\\tilde{\\phi} dt \\sin^{2}{\\left(\\theta \\right)}}{W \\Xi} - \\frac{2 \\Delta_{\\theta} a^{3} d\\tilde{\\phi} dt \\sin^{2}{\\left(\\theta \\right)}}{W \\Xi} + \\frac{\\Delta_{\\theta} \\tilde{r}^{4} d\\tilde{\\phi}^{2} \\sin^{2}{\\left(\\theta \\right)}}{W \\Xi^{2}} + \\frac{2 \\Delta_{\\theta} \\tilde{r}^{2} a^{2} d\\tilde{\\phi}^{2} \\sin^{2}{\\left(\\theta \\right)}}{W \\Xi^{2}} + \\frac{\\Delta_{\\theta} a^{4} d\\tilde{\\phi}^{2} \\sin^{2}{\\left(\\theta \\right)}}{W \\Xi^{2}}$"
      ],
      "text/plain": [
       "      2  2   2    4                 2    2              2                     \n",
       "  Δᵣ⋅Ω ⋅a ⋅dt ⋅sin (θ)   2⋅Δᵣ⋅Ω⋅a⋅dt ⋅sin (θ)   2⋅Δᵣ⋅Ω⋅a ⋅d\\tilde{\\phi}⋅dt⋅sin\n",
       "- ──────────────────── + ──────────────────── - ──────────────────────────────\n",
       "             2                   W⋅Ξ                              2           \n",
       "          W⋅Ξ                                                  W⋅Ξ            \n",
       "\n",
       "4           2                              2          2              2    4   \n",
       " (θ)   Δᵣ⋅dt    2⋅Δᵣ⋅a⋅d\\tilde{\\phi}⋅dt⋅sin (θ)   Δᵣ⋅a ⋅d\\tilde{\\phi} ⋅sin (θ)\n",
       "──── - ────── + ─────────────────────────────── - ────────────────────────────\n",
       "         W                    W⋅Ξ                                2            \n",
       "                                                              W⋅Ξ             \n",
       "\n",
       "           2          4   2    2                2          2  2   2    2      \n",
       "   Δₜₕₑₜₐ⋅Ω ⋅\\tilde{r} ⋅dt ⋅sin (θ)   2⋅Δₜₕₑₜₐ⋅Ω ⋅\\tilde{r} ⋅a ⋅dt ⋅sin (θ)   \n",
       " + ──────────────────────────────── + ───────────────────────────────────── + \n",
       "                    2                                     2                   \n",
       "                 W⋅Ξ                                   W⋅Ξ                    \n",
       "\n",
       "        2  4   2    2                          2     2    2                  3\n",
       "Δₜₕₑₜₐ⋅Ω ⋅a ⋅dt ⋅sin (θ)   2⋅Δₜₕₑₜₐ⋅Ω⋅\\tilde{r} ⋅a⋅dt ⋅sin (θ)   2⋅Δₜₕₑₜₐ⋅Ω⋅a \n",
       "──────────────────────── - ─────────────────────────────────── - ─────────────\n",
       "             2                             W⋅Ξ                              W⋅\n",
       "          W⋅Ξ                                                                 \n",
       "\n",
       "   2    2                          4                     2                    \n",
       "⋅dt ⋅sin (θ)   2⋅Δₜₕₑₜₐ⋅Ω⋅\\tilde{r} ⋅d\\tilde{\\phi}⋅dt⋅sin (θ)   4⋅Δₜₕₑₜₐ⋅Ω⋅\\ti\n",
       "──────────── + ────────────────────────────────────────────── + ──────────────\n",
       "Ξ                                      2                                      \n",
       "                                    W⋅Ξ                                       \n",
       "\n",
       "      2  2                     2                  4                     2     \n",
       "lde{r} ⋅a ⋅d\\tilde{\\phi}⋅dt⋅sin (θ)   2⋅Δₜₕₑₜₐ⋅Ω⋅a ⋅d\\tilde{\\phi}⋅dt⋅sin (θ)  \n",
       "─────────────────────────────────── + ────────────────────────────────────── +\n",
       "            2                                             2                   \n",
       "         W⋅Ξ                                           W⋅Ξ                    \n",
       "\n",
       "         2   2    2                        2                       2          \n",
       " Δₜₕₑₜₐ⋅a ⋅dt ⋅sin (θ)   2⋅Δₜₕₑₜₐ⋅\\tilde{r} ⋅a⋅d\\tilde{\\phi}⋅dt⋅sin (θ)   2⋅Δₜ\n",
       " ───────────────────── - ────────────────────────────────────────────── - ────\n",
       "           W                                  W⋅Ξ                             \n",
       "                                                                              \n",
       "\n",
       "      3                     2                      4              2    2      \n",
       "ₕₑₜₐ⋅a ⋅d\\tilde{\\phi}⋅dt⋅sin (θ)   Δₜₕₑₜₐ⋅\\tilde{r} ⋅d\\tilde{\\phi} ⋅sin (θ)   \n",
       "──────────────────────────────── + ──────────────────────────────────────── + \n",
       "            W⋅Ξ                                         2                     \n",
       "                                                     W⋅Ξ                      \n",
       "\n",
       "                  2  2              2    2              4              2    2 \n",
       "2⋅Δₜₕₑₜₐ⋅\\tilde{r} ⋅a ⋅d\\tilde{\\phi} ⋅sin (θ)   Δₜₕₑₜₐ⋅a ⋅d\\tilde{\\phi} ⋅sin (\n",
       "───────────────────────────────────────────── + ──────────────────────────────\n",
       "                        2                                        2            \n",
       "                     W⋅Ξ                                      W⋅Ξ             \n",
       "\n",
       "  \n",
       "θ)\n",
       "──\n",
       "  \n",
       "  "
      ]
     },
     "execution_count": 10,
     "metadata": {},
     "output_type": "execute_result"
    }
   ],
   "source": [
    "metric = metric_orig.subs({dphi: dphi_val}).expand()\n",
    "metric"
   ]
  },
  {
   "cell_type": "code",
   "execution_count": 11,
   "metadata": {},
   "outputs": [],
   "source": [
    "tau, dtau = sympy.symbols(\"tau d\\\\tau\")"
   ]
  },
  {
   "cell_type": "code",
   "execution_count": 12,
   "metadata": {},
   "outputs": [],
   "source": [
    "dt_val = sympy.I * dtau"
   ]
  },
  {
   "cell_type": "code",
   "execution_count": 13,
   "metadata": {},
   "outputs": [
    {
     "data": {
      "image/png": "[encoded data removed]",
      "text/latex": [
       "$\\displaystyle d\\tau^{2} \\left(\\frac{\\Delta_{r} \\Omega^{2} a^{2} \\sin^{4}{\\left(\\theta \\right)}}{W \\Xi^{2}} - \\frac{2 \\Delta_{r} \\Omega a \\sin^{2}{\\left(\\theta \\right)}}{W \\Xi} + \\frac{\\Delta_{r}}{W} - \\frac{\\Delta_{\\theta} \\Omega^{2} \\tilde{r}^{4} \\sin^{2}{\\left(\\theta \\right)}}{W \\Xi^{2}} - \\frac{2 \\Delta_{\\theta} \\Omega^{2} \\tilde{r}^{2} a^{2} \\sin^{2}{\\left(\\theta \\right)}}{W \\Xi^{2}} - \\frac{\\Delta_{\\theta} \\Omega^{2} a^{4} \\sin^{2}{\\left(\\theta \\right)}}{W \\Xi^{2}} + \\frac{2 \\Delta_{\\theta} \\Omega \\tilde{r}^{2} a \\sin^{2}{\\left(\\theta \\right)}}{W \\Xi} + \\frac{2 \\Delta_{\\theta} \\Omega a^{3} \\sin^{2}{\\left(\\theta \\right)}}{W \\Xi} - \\frac{\\Delta_{\\theta} a^{2} \\sin^{2}{\\left(\\theta \\right)}}{W}\\right) + d\\tau d\\tilde{\\phi} \\left(- \\frac{2 i \\Delta_{r} \\Omega a^{2} \\sin^{4}{\\left(\\theta \\right)}}{W \\Xi^{2}} + \\frac{2 i \\Delta_{r} a \\sin^{2}{\\left(\\theta \\right)}}{W \\Xi} + \\frac{2 i \\Delta_{\\theta} \\Omega \\tilde{r}^{4} \\sin^{2}{\\left(\\theta \\right)}}{W \\Xi^{2}} + \\frac{4 i \\Delta_{\\theta} \\Omega \\tilde{r}^{2} a^{2} \\sin^{2}{\\left(\\theta \\right)}}{W \\Xi^{2}} + \\frac{2 i \\Delta_{\\theta} \\Omega a^{4} \\sin^{2}{\\left(\\theta \\right)}}{W \\Xi^{2}} - \\frac{2 i \\Delta_{\\theta} \\tilde{r}^{2} a \\sin^{2}{\\left(\\theta \\right)}}{W \\Xi} - \\frac{2 i \\Delta_{\\theta} a^{3} \\sin^{2}{\\left(\\theta \\right)}}{W \\Xi}\\right) + d\\tilde{\\phi}^{2} \\left(- \\frac{\\Delta_{r} a^{2} \\sin^{4}{\\left(\\theta \\right)}}{W \\Xi^{2}} + \\frac{\\Delta_{\\theta} \\tilde{r}^{4} \\sin^{2}{\\left(\\theta \\right)}}{W \\Xi^{2}} + \\frac{2 \\Delta_{\\theta} \\tilde{r}^{2} a^{2} \\sin^{2}{\\left(\\theta \\right)}}{W \\Xi^{2}} + \\frac{\\Delta_{\\theta} a^{4} \\sin^{2}{\\left(\\theta \\right)}}{W \\Xi^{2}}\\right)$"
      ],
      "text/plain": [
       "       ⎛    2  2    4                  2                   2          4    2  \n",
       "     2 ⎜Δᵣ⋅Ω ⋅a ⋅sin (θ)   2⋅Δᵣ⋅Ω⋅a⋅sin (θ)   Δᵣ   Δₜₕₑₜₐ⋅Ω ⋅\\tilde{r} ⋅sin (θ\n",
       "d\\tau ⋅⎜──────────────── - ──────────────── + ── - ───────────────────────────\n",
       "       ⎜         2               W⋅Ξ          W                   2           \n",
       "       ⎝      W⋅Ξ                                              W⋅Ξ            \n",
       "\n",
       "              2          2  2    2              2  4    2                     \n",
       ")   2⋅Δₜₕₑₜₐ⋅Ω ⋅\\tilde{r} ⋅a ⋅sin (θ)   Δₜₕₑₜₐ⋅Ω ⋅a ⋅sin (θ)   2⋅Δₜₕₑₜₐ⋅Ω⋅\\til\n",
       "─ - ───────────────────────────────── - ──────────────────── + ───────────────\n",
       "                      2                            2                         W\n",
       "                   W⋅Ξ                          W⋅Ξ                           \n",
       "\n",
       "     2      2                  3    2              2    2   ⎞                 \n",
       "de{r} ⋅a⋅sin (θ)   2⋅Δₜₕₑₜₐ⋅Ω⋅a ⋅sin (θ)   Δₜₕₑₜₐ⋅a ⋅sin (θ)⎟                 \n",
       "──────────────── + ───────────────────── - ─────────────────⎟ + d\\tau⋅d\\tilde{\n",
       "⋅Ξ                          W⋅Ξ                    W        ⎟                 \n",
       "                                                            ⎠                 \n",
       "\n",
       "      ⎛            2    4                  2                            4    2\n",
       "      ⎜  2⋅ⅈ⋅Δᵣ⋅Ω⋅a ⋅sin (θ)   2⋅ⅈ⋅Δᵣ⋅a⋅sin (θ)   2⋅ⅈ⋅Δₜₕₑₜₐ⋅Ω⋅\\tilde{r} ⋅sin \n",
       "\\phi}⋅⎜- ─────────────────── + ──────────────── + ────────────────────────────\n",
       "      ⎜             2                W⋅Ξ                           2          \n",
       "      ⎝          W⋅Ξ                                            W⋅Ξ           \n",
       "\n",
       "                            2  2    2                    4    2               \n",
       "(θ)   4⋅ⅈ⋅Δₜₕₑₜₐ⋅Ω⋅\\tilde{r} ⋅a ⋅sin (θ)   2⋅ⅈ⋅Δₜₕₑₜₐ⋅Ω⋅a ⋅sin (θ)   2⋅ⅈ⋅Δₜₕₑₜ\n",
       "─── + ────────────────────────────────── + ─────────────────────── - ─────────\n",
       "                        2                               2                     \n",
       "                     W⋅Ξ                             W⋅Ξ                      \n",
       "\n",
       "           2      2                  3    2   ⎞                  ⎛      2    4\n",
       "ₐ⋅\\tilde{r} ⋅a⋅sin (θ)   2⋅ⅈ⋅Δₜₕₑₜₐ⋅a ⋅sin (θ)⎟                2 ⎜  Δᵣ⋅a ⋅sin \n",
       "────────────────────── - ─────────────────────⎟ + d\\tilde{\\phi} ⋅⎜- ──────────\n",
       "     W⋅Ξ                          W⋅Ξ         ⎟                  ⎜          2 \n",
       "                                              ⎠                  ⎝       W⋅Ξ  \n",
       "\n",
       "                      4    2                        2  2    2              4  \n",
       "(θ)   Δₜₕₑₜₐ⋅\\tilde{r} ⋅sin (θ)   2⋅Δₜₕₑₜₐ⋅\\tilde{r} ⋅a ⋅sin (θ)   Δₜₕₑₜₐ⋅a ⋅s\n",
       "─── + ───────────────────────── + ────────────────────────────── + ───────────\n",
       "                    2                             2                          2\n",
       "                 W⋅Ξ                           W⋅Ξ                        W⋅Ξ \n",
       "\n",
       "  2   ⎞\n",
       "in (θ)⎟\n",
       "──────⎟\n",
       "      ⎟\n",
       "      ⎠"
      ]
     },
     "execution_count": 13,
     "metadata": {},
     "output_type": "execute_result"
    }
   ],
   "source": [
    "euclidean_metric = metric.subs({dt: dt_val}).collect([dtau ** 2, dtau * dphi_tilde, dphi_tilde ** 2])\n",
    "euclidean_metric"
   ]
  },
  {
   "cell_type": "code",
   "execution_count": 14,
   "metadata": {},
   "outputs": [
    {
     "data": {
      "image/png": "[encoded data removed]",
      "text/latex": [
       "$\\displaystyle - \\frac{2 i \\Delta_{r} \\Omega a^{2} \\sin^{4}{\\left(\\theta \\right)}}{W \\Xi^{2}} + \\frac{2 i \\Delta_{r} a \\sin^{2}{\\left(\\theta \\right)}}{W \\Xi} + \\frac{2 i \\Delta_{\\theta} \\Omega \\tilde{r}^{4} \\sin^{2}{\\left(\\theta \\right)}}{W \\Xi^{2}} + \\frac{4 i \\Delta_{\\theta} \\Omega \\tilde{r}^{2} a^{2} \\sin^{2}{\\left(\\theta \\right)}}{W \\Xi^{2}} + \\frac{2 i \\Delta_{\\theta} \\Omega a^{4} \\sin^{2}{\\left(\\theta \\right)}}{W \\Xi^{2}} - \\frac{2 i \\Delta_{\\theta} \\tilde{r}^{2} a \\sin^{2}{\\left(\\theta \\right)}}{W \\Xi} - \\frac{2 i \\Delta_{\\theta} a^{3} \\sin^{2}{\\left(\\theta \\right)}}{W \\Xi}$"
      ],
      "text/plain": [
       "            2    4                  2                            4    2       \n",
       "  2⋅ⅈ⋅Δᵣ⋅Ω⋅a ⋅sin (θ)   2⋅ⅈ⋅Δᵣ⋅a⋅sin (θ)   2⋅ⅈ⋅Δₜₕₑₜₐ⋅Ω⋅\\tilde{r} ⋅sin (θ)   4\n",
       "- ─────────────────── + ──────────────── + ─────────────────────────────── + ─\n",
       "             2                W⋅Ξ                           2                 \n",
       "          W⋅Ξ                                            W⋅Ξ                  \n",
       "\n",
       "                     2  2    2                    4    2                      \n",
       "⋅ⅈ⋅Δₜₕₑₜₐ⋅Ω⋅\\tilde{r} ⋅a ⋅sin (θ)   2⋅ⅈ⋅Δₜₕₑₜₐ⋅Ω⋅a ⋅sin (θ)   2⋅ⅈ⋅Δₜₕₑₜₐ⋅\\tild\n",
       "───────────────────────────────── + ─────────────────────── - ────────────────\n",
       "                 2                               2                          W⋅\n",
       "              W⋅Ξ                             W⋅Ξ                             \n",
       "\n",
       "    2      2                  3    2   \n",
       "e{r} ⋅a⋅sin (θ)   2⋅ⅈ⋅Δₜₕₑₜₐ⋅a ⋅sin (θ)\n",
       "─────────────── - ─────────────────────\n",
       "Ξ                          W⋅Ξ         \n",
       "                                       "
      ]
     },
     "execution_count": 14,
     "metadata": {},
     "output_type": "execute_result"
    }
   ],
   "source": [
    "euclidean_metric.coeff(dphi_tilde * dtau)"
   ]
  },
  {
   "cell_type": "code",
   "execution_count": 15,
   "metadata": {},
   "outputs": [],
   "source": [
    "metric_list_matrix = [[0 for i in range(2)] for i in range(2)]\n",
    "metric_list_matrix[0][0] = euclidean_metric.coeff(dtau ** 2)\n",
    "metric_list_matrix[0][1] = euclidean_metric.coeff(dtau * dphi_tilde) / 2\n",
    "metric_list_matrix[1][0] = metric_list_matrix[0][1]\n",
    "metric_list_matrix[1][1] = euclidean_metric.coeff(dphi_tilde ** 2)"
   ]
  },
  {
   "cell_type": "code",
   "execution_count": 16,
   "metadata": {},
   "outputs": [
    {
     "data": {
      "text/latex": [
       "$\\displaystyle \\left[\\begin{matrix}\\frac{\\Delta_{r} \\Omega^{2} a^{2} \\sin^{4}{\\left(\\theta \\right)}}{W \\Xi^{2}} - \\frac{2 \\Delta_{r} \\Omega a \\sin^{2}{\\left(\\theta \\right)}}{W \\Xi} + \\frac{\\Delta_{r}}{W} - \\frac{\\Delta_{\\theta} \\Omega^{2} \\tilde{r}^{4} \\sin^{2}{\\left(\\theta \\right)}}{W \\Xi^{2}} - \\frac{2 \\Delta_{\\theta} \\Omega^{2} \\tilde{r}^{2} a^{2} \\sin^{2}{\\left(\\theta \\right)}}{W \\Xi^{2}} - \\frac{\\Delta_{\\theta} \\Omega^{2} a^{4} \\sin^{2}{\\left(\\theta \\right)}}{W \\Xi^{2}} + \\frac{2 \\Delta_{\\theta} \\Omega \\tilde{r}^{2} a \\sin^{2}{\\left(\\theta \\right)}}{W \\Xi} + \\frac{2 \\Delta_{\\theta} \\Omega a^{3} \\sin^{2}{\\left(\\theta \\right)}}{W \\Xi} - \\frac{\\Delta_{\\theta} a^{2} \\sin^{2}{\\left(\\theta \\right)}}{W} & - \\frac{i \\Delta_{r} \\Omega a^{2} \\sin^{4}{\\left(\\theta \\right)}}{W \\Xi^{2}} + \\frac{i \\Delta_{r} a \\sin^{2}{\\left(\\theta \\right)}}{W \\Xi} + \\frac{i \\Delta_{\\theta} \\Omega \\tilde{r}^{4} \\sin^{2}{\\left(\\theta \\right)}}{W \\Xi^{2}} + \\frac{2 i \\Delta_{\\theta} \\Omega \\tilde{r}^{2} a^{2} \\sin^{2}{\\left(\\theta \\right)}}{W \\Xi^{2}} + \\frac{i \\Delta_{\\theta} \\Omega a^{4} \\sin^{2}{\\left(\\theta \\right)}}{W \\Xi^{2}} - \\frac{i \\Delta_{\\theta} \\tilde{r}^{2} a \\sin^{2}{\\left(\\theta \\right)}}{W \\Xi} - \\frac{i \\Delta_{\\theta} a^{3} \\sin^{2}{\\left(\\theta \\right)}}{W \\Xi}\\\\- \\frac{i \\Delta_{r} \\Omega a^{2} \\sin^{4}{\\left(\\theta \\right)}}{W \\Xi^{2}} + \\frac{i \\Delta_{r} a \\sin^{2}{\\left(\\theta \\right)}}{W \\Xi} + \\frac{i \\Delta_{\\theta} \\Omega \\tilde{r}^{4} \\sin^{2}{\\left(\\theta \\right)}}{W \\Xi^{2}} + \\frac{2 i \\Delta_{\\theta} \\Omega \\tilde{r}^{2} a^{2} \\sin^{2}{\\left(\\theta \\right)}}{W \\Xi^{2}} + \\frac{i \\Delta_{\\theta} \\Omega a^{4} \\sin^{2}{\\left(\\theta \\right)}}{W \\Xi^{2}} - \\frac{i \\Delta_{\\theta} \\tilde{r}^{2} a \\sin^{2}{\\left(\\theta \\right)}}{W \\Xi} - \\frac{i \\Delta_{\\theta} a^{3} \\sin^{2}{\\left(\\theta \\right)}}{W \\Xi} & - \\frac{\\Delta_{r} a^{2} \\sin^{4}{\\left(\\theta \\right)}}{W \\Xi^{2}} + \\frac{\\Delta_{\\theta} \\tilde{r}^{4} \\sin^{2}{\\left(\\theta \\right)}}{W \\Xi^{2}} + \\frac{2 \\Delta_{\\theta} \\tilde{r}^{2} a^{2} \\sin^{2}{\\left(\\theta \\right)}}{W \\Xi^{2}} + \\frac{\\Delta_{\\theta} a^{4} \\sin^{2}{\\left(\\theta \\right)}}{W \\Xi^{2}}\\end{matrix}\\right]$"
      ],
      "text/plain": [
       "⎡    2  2    4                  2                   2          4    2         \n",
       "⎢Δᵣ⋅Ω ⋅a ⋅sin (θ)   2⋅Δᵣ⋅Ω⋅a⋅sin (θ)   Δᵣ   Δₜₕₑₜₐ⋅Ω ⋅\\tilde{r} ⋅sin (θ)   2⋅Δ\n",
       "⎢──────────────── - ──────────────── + ── - ──────────────────────────── - ───\n",
       "⎢         2               W⋅Ξ          W                   2                  \n",
       "⎢      W⋅Ξ                                              W⋅Ξ                   \n",
       "⎢                                                                             \n",
       "⎢                      2    4                2                          4    2\n",
       "⎢              ⅈ⋅Δᵣ⋅Ω⋅a ⋅sin (θ)   ⅈ⋅Δᵣ⋅a⋅sin (θ)   ⅈ⋅Δₜₕₑₜₐ⋅Ω⋅\\tilde{r} ⋅sin \n",
       "⎢            - ───────────────── + ────────────── + ──────────────────────────\n",
       "⎢                        2              W⋅Ξ                         2         \n",
       "⎣                     W⋅Ξ                                        W⋅Ξ          \n",
       "\n",
       "       2          2  2    2              2  4    2                          2 \n",
       "ₜₕₑₜₐ⋅Ω ⋅\\tilde{r} ⋅a ⋅sin (θ)   Δₜₕₑₜₐ⋅Ω ⋅a ⋅sin (θ)   2⋅Δₜₕₑₜₐ⋅Ω⋅\\tilde{r} ⋅\n",
       "────────────────────────────── - ──────────────────── + ──────────────────────\n",
       "               2                            2                         W⋅Ξ     \n",
       "            W⋅Ξ                          W⋅Ξ                                  \n",
       "                                                                              \n",
       "                            2  2    2                  4    2                 \n",
       "(θ)   2⋅ⅈ⋅Δₜₕₑₜₐ⋅Ω⋅\\tilde{r} ⋅a ⋅sin (θ)   ⅈ⋅Δₜₕₑₜₐ⋅Ω⋅a ⋅sin (θ)   ⅈ⋅Δₜₕₑₜₐ⋅\\t\n",
       "─── + ────────────────────────────────── + ───────────────────── - ───────────\n",
       "                        2                              2                      \n",
       "                     W⋅Ξ                            W⋅Ξ                       \n",
       "\n",
       "     2                  3    2              2    2               2    4       \n",
       "a⋅sin (θ)   2⋅Δₜₕₑₜₐ⋅Ω⋅a ⋅sin (θ)   Δₜₕₑₜₐ⋅a ⋅sin (θ)    ⅈ⋅Δᵣ⋅Ω⋅a ⋅sin (θ)   ⅈ\n",
       "───────── + ───────────────────── - ─────────────────  - ───────────────── + ─\n",
       "                     W⋅Ξ                    W                      2          \n",
       "                                                                W⋅Ξ           \n",
       "                                                                              \n",
       "       2      2                3    2                                         \n",
       "ilde{r} ⋅a⋅sin (θ)   ⅈ⋅Δₜₕₑₜₐ⋅a ⋅sin (θ)                                      \n",
       "────────────────── - ───────────────────                                      \n",
       "  W⋅Ξ                        W⋅Ξ                                              \n",
       "                                                                              \n",
       "\n",
       "         2                          4    2                            2  2    \n",
       "⋅Δᵣ⋅a⋅sin (θ)   ⅈ⋅Δₜₕₑₜₐ⋅Ω⋅\\tilde{r} ⋅sin (θ)   2⋅ⅈ⋅Δₜₕₑₜₐ⋅Ω⋅\\tilde{r} ⋅a ⋅sin\n",
       "───────────── + ───────────────────────────── + ──────────────────────────────\n",
       "    W⋅Ξ                         2                                 2           \n",
       "                             W⋅Ξ                               W⋅Ξ            \n",
       "                                                                              \n",
       "                          2    4                      4    2                  \n",
       "                      Δᵣ⋅a ⋅sin (θ)   Δₜₕₑₜₐ⋅\\tilde{r} ⋅sin (θ)   2⋅Δₜₕₑₜₐ⋅\\ti\n",
       "                    - ───────────── + ───────────────────────── + ────────────\n",
       "                              2                     2                         \n",
       "                           W⋅Ξ                   W⋅Ξ                          \n",
       "\n",
       "2                  4    2                        2      2                3    \n",
       " (θ)   ⅈ⋅Δₜₕₑₜₐ⋅Ω⋅a ⋅sin (θ)   ⅈ⋅Δₜₕₑₜₐ⋅\\tilde{r} ⋅a⋅sin (θ)   ⅈ⋅Δₜₕₑₜₐ⋅a ⋅sin\n",
       "──── + ───────────────────── - ───────────────────────────── - ───────────────\n",
       "                   2                        W⋅Ξ                        W⋅Ξ    \n",
       "                W⋅Ξ                                                           \n",
       "                                                                              \n",
       "      2  2    2              4    2                                           \n",
       "lde{r} ⋅a ⋅sin (θ)   Δₜₕₑₜₐ⋅a ⋅sin (θ)                                        \n",
       "────────────────── + ─────────────────                                        \n",
       "    2                          2                                              \n",
       " W⋅Ξ                        W⋅Ξ                                               \n",
       "\n",
       "2   ⎤\n",
       " (θ)⎥\n",
       "────⎥\n",
       "    ⎥\n",
       "    ⎥\n",
       "    ⎥\n",
       "    ⎥\n",
       "    ⎥\n",
       "    ⎥\n",
       "    ⎥\n",
       "    ⎦"
      ]
     },
     "execution_count": 16,
     "metadata": {},
     "output_type": "execute_result"
    }
   ],
   "source": [
    "g_mat = sympy.Matrix(metric_list_matrix)\n",
    "g_mat"
   ]
  },
  {
   "cell_type": "code",
   "execution_count": 17,
   "metadata": {},
   "outputs": [
    {
     "data": {
      "text/latex": [
       "$\\displaystyle \\left[\\begin{matrix}\\frac{\\Omega^{2} \\left(\\Delta_{r} a^{2} \\sin^{2}{\\left(\\theta \\right)} - \\Delta_{\\theta} \\tilde{r}^{4} - 2 \\Delta_{\\theta} \\tilde{r}^{2} a^{2} - \\Delta_{\\theta} a^{4}\\right) \\sin^{2}{\\left(\\theta \\right)} + 2 \\Omega \\Xi a \\left(- \\Delta_{r} + \\Delta_{\\theta} \\tilde{r}^{2} + \\Delta_{\\theta} a^{2}\\right) \\sin^{2}{\\left(\\theta \\right)} + \\Xi^{2} \\left(\\Delta_{r} - \\Delta_{\\theta} a^{2} \\sin^{2}{\\left(\\theta \\right)}\\right)}{W \\Xi^{2}} & \\frac{i \\left(\\Omega \\left(- \\Delta_{r} a^{2} \\sin^{2}{\\left(\\theta \\right)} + \\Delta_{\\theta} \\tilde{r}^{4} + 2 \\Delta_{\\theta} \\tilde{r}^{2} a^{2} + \\Delta_{\\theta} a^{4}\\right) + \\Xi a \\left(\\Delta_{r} - \\Delta_{\\theta} \\tilde{r}^{2} - \\Delta_{\\theta} a^{2}\\right)\\right) \\sin^{2}{\\left(\\theta \\right)}}{W \\Xi^{2}}\\\\\\frac{i \\left(\\Omega \\left(- \\Delta_{r} a^{2} \\sin^{2}{\\left(\\theta \\right)} + \\Delta_{\\theta} \\tilde{r}^{4} + 2 \\Delta_{\\theta} \\tilde{r}^{2} a^{2} + \\Delta_{\\theta} a^{4}\\right) + \\Xi a \\left(\\Delta_{r} - \\Delta_{\\theta} \\tilde{r}^{2} - \\Delta_{\\theta} a^{2}\\right)\\right) \\sin^{2}{\\left(\\theta \\right)}}{W \\Xi^{2}} & \\frac{\\left(- \\Delta_{r} a^{2} \\sin^{2}{\\left(\\theta \\right)} + \\Delta_{\\theta} \\tilde{r}^{4} + 2 \\Delta_{\\theta} \\tilde{r}^{2} a^{2} + \\Delta_{\\theta} a^{4}\\right) \\sin^{2}{\\left(\\theta \\right)}}{W \\Xi^{2}}\\end{matrix}\\right]$"
      ],
      "text/plain": [
       "⎡ 2 ⎛    2    2                      4                     2  2           4⎞  \n",
       "⎢Ω ⋅⎝Δᵣ⋅a ⋅sin (θ) - Δₜₕₑₜₐ⋅\\tilde{r}  - 2⋅Δₜₕₑₜₐ⋅\\tilde{r} ⋅a  - Δₜₕₑₜₐ⋅a ⎠⋅s\n",
       "⎢─────────────────────────────────────────────────────────────────────────────\n",
       "⎢                                                                             \n",
       "⎢                                                                             \n",
       "⎢                                                                             \n",
       "⎢                     ⎛  ⎛      2    2                      4                 \n",
       "⎢                   ⅈ⋅⎝Ω⋅⎝- Δᵣ⋅a ⋅sin (θ) + Δₜₕₑₜₐ⋅\\tilde{r}  + 2⋅Δₜₕₑₜₐ⋅\\tild\n",
       "⎢                   ──────────────────────────────────────────────────────────\n",
       "⎢                                                                             \n",
       "⎣                                                                             \n",
       "\n",
       "  2              ⎛                      2           2⎞    2       2 ⎛         \n",
       "in (θ) + 2⋅Ω⋅Ξ⋅a⋅⎝-Δᵣ + Δₜₕₑₜₐ⋅\\tilde{r}  + Δₜₕₑₜₐ⋅a ⎠⋅sin (θ) + Ξ ⋅⎝Δᵣ - Δₜₕₑ\n",
       "──────────────────────────────────────────────────────────────────────────────\n",
       "         2                                                                    \n",
       "      W⋅Ξ                                                                     \n",
       "                                                                              \n",
       "    2  2           4⎞       ⎛                     2           2⎞⎞    2        \n",
       "e{r} ⋅a  + Δₜₕₑₜₐ⋅a ⎠ + Ξ⋅a⋅⎝Δᵣ - Δₜₕₑₜₐ⋅\\tilde{r}  - Δₜₕₑₜₐ⋅a ⎠⎠⋅sin (θ)     \n",
       "─────────────────────────────────────────────────────────────────────────     \n",
       "         2                                                                    \n",
       "      W⋅Ξ                                                                     \n",
       "\n",
       "    2    2   ⎞    ⎛  ⎛      2    2                      4                     \n",
       "ₜₐ⋅a ⋅sin (θ)⎠  ⅈ⋅⎝Ω⋅⎝- Δᵣ⋅a ⋅sin (θ) + Δₜₕₑₜₐ⋅\\tilde{r}  + 2⋅Δₜₕₑₜₐ⋅\\tilde{r}\n",
       "──────────────  ──────────────────────────────────────────────────────────────\n",
       "                                                                              \n",
       "                                                                              \n",
       "                                                                              \n",
       "                                        ⎛      2    2                      4  \n",
       "                                        ⎝- Δᵣ⋅a ⋅sin (θ) + Δₜₕₑₜₐ⋅\\tilde{r}  +\n",
       "                                        ──────────────────────────────────────\n",
       "                                                                              \n",
       "                                                                              \n",
       "\n",
       "2  2           4⎞       ⎛                     2           2⎞⎞    2   ⎤\n",
       " ⋅a  + Δₜₕₑₜₐ⋅a ⎠ + Ξ⋅a⋅⎝Δᵣ - Δₜₕₑₜₐ⋅\\tilde{r}  - Δₜₕₑₜₐ⋅a ⎠⎠⋅sin (θ)⎥\n",
       "─────────────────────────────────────────────────────────────────────⎥\n",
       "     2                                                               ⎥\n",
       "  W⋅Ξ                                                                ⎥\n",
       "                                                                     ⎥\n",
       "                   2  2           4⎞    2                            ⎥\n",
       " 2⋅Δₜₕₑₜₐ⋅\\tilde{r} ⋅a  + Δₜₕₑₜₐ⋅a ⎠⋅sin (θ)                         ⎥\n",
       "────────────────────────────────────────────                         ⎥\n",
       "    2                                                                ⎥\n",
       " W⋅Ξ                                                                 ⎦"
      ]
     },
     "execution_count": 17,
     "metadata": {},
     "output_type": "execute_result"
    }
   ],
   "source": [
    "g_mat.simplify()\n",
    "g_mat"
   ]
  },
  {
   "cell_type": "code",
   "execution_count": 18,
   "metadata": {},
   "outputs": [
    {
     "data": {
      "image/png": "[encoded data removed]",
      "text/latex": [
       "$\\displaystyle \\frac{\\Delta_{r} \\Delta_{\\theta} \\left(\\tilde{r}^{2} + a^{2} \\cos^{2}{\\left(\\theta \\right)}\\right)^{2} \\sin^{2}{\\left(\\theta \\right)}}{W^{2} \\Xi^{2}}$"
      ],
      "text/plain": [
       "                                   2        \n",
       "          ⎛         2    2    2   ⎞     2   \n",
       "Δᵣ⋅Δₜₕₑₜₐ⋅⎝\\tilde{r}  + a ⋅cos (θ)⎠ ⋅sin (θ)\n",
       "────────────────────────────────────────────\n",
       "                    2  2                    \n",
       "                   W ⋅Ξ                     "
      ]
     },
     "execution_count": 18,
     "metadata": {},
     "output_type": "execute_result"
    }
   ],
   "source": [
    "g_mat.det().simplify()"
   ]
  },
  {
   "cell_type": "code",
   "execution_count": 19,
   "metadata": {},
   "outputs": [
    {
     "data": {
      "image/png": "[encoded data removed]",
      "text/latex": [
       "$\\displaystyle \\Delta_{r} \\left(- \\Omega a \\sin^{2}{\\left(\\theta \\right)} + \\Xi\\right)^{2} - \\Delta_{\\theta} \\left(- \\Omega \\left(\\tilde{r}^{2} + a^{2}\\right) + \\Xi a\\right)^{2} \\sin^{2}{\\left(\\theta \\right)}$"
      ],
      "text/plain": [
       "                      2                                       2        \n",
       "   ⎛         2       ⎞           ⎛    ⎛         2    2⎞      ⎞     2   \n",
       "Δᵣ⋅⎝- Ω⋅a⋅sin (θ) + Ξ⎠  - Δₜₕₑₜₐ⋅⎝- Ω⋅⎝\\tilde{r}  + a ⎠ + Ξ⋅a⎠ ⋅sin (θ)"
      ]
     },
     "execution_count": 19,
     "metadata": {},
     "output_type": "execute_result"
    }
   ],
   "source": [
    "g_00 = delta_r * (xi - a * omega * sympy.sin(theta) ** 2) ** 2 - delta_theta * (a * xi - omega * (r_tilde ** 2 + a ** 2)) ** 2 * sympy.sin(theta) ** 2\n",
    "g_00"
   ]
  },
  {
   "cell_type": "code",
   "execution_count": 20,
   "metadata": {},
   "outputs": [
    {
     "data": {
      "image/png": "[encoded data removed]",
      "text/latex": [
       "$\\displaystyle 0$"
      ],
      "text/plain": [
       "0"
      ]
     },
     "execution_count": 20,
     "metadata": {},
     "output_type": "execute_result"
    }
   ],
   "source": [
    "(g_00 / (W * xi ** 2) - g_mat[0, 0]).expand().simplify()"
   ]
  },
  {
   "cell_type": "code",
   "execution_count": 21,
   "metadata": {},
   "outputs": [
    {
     "data": {
      "image/png": "[encoded data removed]",
      "text/latex": [
       "$\\displaystyle \\Delta_{r} \\left(- \\Omega a \\sin^{2}{\\left(\\theta \\right)} + \\Xi\\right)^{2} - \\Delta_{\\theta} \\left(- \\Omega \\left(\\tilde{r}^{2} + a^{2}\\right) + \\Xi a\\right)^{2} \\sin^{2}{\\left(\\theta \\right)}$"
      ],
      "text/plain": [
       "                      2                                       2        \n",
       "   ⎛         2       ⎞           ⎛    ⎛         2    2⎞      ⎞     2   \n",
       "Δᵣ⋅⎝- Ω⋅a⋅sin (θ) + Ξ⎠  - Δₜₕₑₜₐ⋅⎝- Ω⋅⎝\\tilde{r}  + a ⎠ + Ξ⋅a⎠ ⋅sin (θ)"
      ]
     },
     "execution_count": 21,
     "metadata": {},
     "output_type": "execute_result"
    }
   ],
   "source": [
    "g_00"
   ]
  },
  {
   "cell_type": "code",
   "execution_count": 51,
   "metadata": {},
   "outputs": [
    {
     "data": {
      "image/png": "[encoded data removed]",
      "text/latex": [
       "$\\displaystyle \\Delta_{r} \\left(\\Xi + a \\left(a - 1\\right) \\sin^{2}{\\left(\\theta \\right)}\\right)^{2} - \\Delta_{\\theta} \\left(\\Xi a + \\left(\\tilde{r}^{2} + a^{2}\\right) \\left(a - 1\\right)\\right)^{2} \\sin^{2}{\\left(\\theta \\right)}$"
      ],
      "text/plain": [
       "                          2                                           2       \n",
       "   ⎛                 2   ⎞           ⎛      ⎛         2    2⎞        ⎞     2  \n",
       "Δᵣ⋅⎝Ξ + a⋅(a - 1)⋅sin (θ)⎠  - Δₜₕₑₜₐ⋅⎝Ξ⋅a + ⎝\\tilde{r}  + a ⎠⋅(a - 1)⎠ ⋅sin (θ\n",
       "\n",
       " \n",
       " \n",
       ")"
      ]
     },
     "execution_count": 51,
     "metadata": {},
     "output_type": "execute_result"
    }
   ],
   "source": [
    "g_00_new = delta_r * (xi + a * (a - 1) * sympy.sin(theta) ** 2) ** 2 - delta_theta * sympy.sin(theta) ** 2 * (a * xi + (a - 1) * (r_tilde ** 2 + a ** 2)) ** 2\n",
    "g_00_new"
   ]
  },
  {
   "cell_type": "code",
   "execution_count": 52,
   "metadata": {},
   "outputs": [],
   "source": [
    "r_tilde_plus = sympy.symbols(\"\\\\tilde{r}_+\")"
   ]
  },
  {
   "cell_type": "code",
   "execution_count": 53,
   "metadata": {},
   "outputs": [
    {
     "data": {
      "image/png": "[encoded data removed]",
      "text/latex": [
       "$\\displaystyle \\left(- \\tilde{r} + \\tilde{r}_+\\right)^{2} \\left(\\tilde{r}_+^{2} + 1\\right)^{2} + \\left(\\tilde{r}^{2} - \\tilde{r}_+^{2}\\right)^{2}$"
      ],
      "text/plain": [
       "                                            2                             2\n",
       "                         2 ⎛          2    ⎞    ⎛         2             2⎞ \n",
       "(-\\tilde{r} + \\tilde{r}₊) ⋅⎝\\tilde{r}₊  + 1⎠  + ⎝\\tilde{r}  - \\tilde{r}₊ ⎠ "
      ]
     },
     "execution_count": 53,
     "metadata": {},
     "output_type": "execute_result"
    }
   ],
   "source": [
    "delta_r_val = (r_tilde ** 2 - r_tilde_plus ** 2) ** 2 + (r_tilde_plus ** 2 + 1) ** 2 * ((r_tilde_plus - r_tilde) ** 2)\n",
    "delta_r_val"
   ]
  },
  {
   "cell_type": "code",
   "execution_count": 54,
   "metadata": {},
   "outputs": [
    {
     "data": {
      "image/png": "[encoded data removed]",
      "text/latex": [
       "$\\displaystyle \\left( 1 - a^{2}, \\  \\tilde{r}_+^{2}, \\  - a^{2} \\cos^{2}{\\left(\\theta \\right)} + 1\\right)$"
      ],
      "text/plain": [
       "⎛     2            2     2    2       ⎞\n",
       "⎝1 - a , \\tilde{r}₊ , - a ⋅cos (θ) + 1⎠"
      ]
     },
     "execution_count": 54,
     "metadata": {},
     "output_type": "execute_result"
    }
   ],
   "source": [
    "xi_val = 1 - a ** 2\n",
    "a_val = r_tilde_plus ** 2\n",
    "delta_theta_val = 1 - a ** 2 * sympy.cos(theta) ** 2\n",
    "xi_val, a_val, delta_theta_val"
   ]
  },
  {
   "cell_type": "code",
   "execution_count": 55,
   "metadata": {},
   "outputs": [
    {
     "data": {
      "image/png": "[encoded data removed]",
      "text/latex": [
       "$\\displaystyle - \\left(\\tilde{r}_+^{2} \\cdot \\left(1 - \\tilde{r}_+^{4}\\right) + \\left(\\tilde{r}^{2} + \\tilde{r}_+^{4}\\right) \\left(\\tilde{r}_+^{2} - 1\\right)\\right)^{2} \\left(- \\tilde{r}_+^{4} \\cos^{2}{\\left(\\theta \\right)} + 1\\right) \\sin^{2}{\\left(\\theta \\right)} + \\left(\\left(- \\tilde{r} + \\tilde{r}_+\\right)^{2} \\left(\\tilde{r}_+^{2} + 1\\right)^{2} + \\left(\\tilde{r}^{2} - \\tilde{r}_+^{2}\\right)^{2}\\right) \\left(- \\tilde{r}_+^{4} + \\tilde{r}_+^{2} \\left(\\tilde{r}_+^{2} - 1\\right) \\sin^{2}{\\left(\\theta \\right)} + 1\\right)^{2}$"
      ],
      "text/plain": [
       "                                                                              \n",
       "  ⎛          2 ⎛              4⎞   ⎛         2             4⎞ ⎛          2    \n",
       "- ⎝\\tilde{r}₊ ⋅⎝1 - \\tilde{r}₊ ⎠ + ⎝\\tilde{r}  + \\tilde{r}₊ ⎠⋅⎝\\tilde{r}₊  - 1\n",
       "\n",
       "  2                                       ⎛                                   \n",
       "⎞⎞  ⎛            4    2       ⎞    2      ⎜                         2 ⎛       \n",
       "⎠⎠ ⋅⎝- \\tilde{r}₊ ⋅cos (θ) + 1⎠⋅sin (θ) + ⎝(-\\tilde{r} + \\tilde{r}₊) ⋅⎝\\tilde{\n",
       "\n",
       "         2                             2⎞                                     \n",
       "   2    ⎞    ⎛         2             2⎞ ⎟ ⎛            4             2 ⎛      \n",
       "r}₊  + 1⎠  + ⎝\\tilde{r}  - \\tilde{r}₊ ⎠ ⎠⋅⎝- \\tilde{r}₊  + \\tilde{r}₊ ⋅⎝\\tilde\n",
       "\n",
       "                       2\n",
       "    2    ⎞    2       ⎞ \n",
       "{r}₊  - 1⎠⋅sin (θ) + 1⎠ "
      ]
     },
     "execution_count": 55,
     "metadata": {},
     "output_type": "execute_result"
    }
   ],
   "source": [
    "g_00_simp = g_00_new.subs({delta_r: delta_r_val, xi: xi_val, delta_theta: delta_theta_val}).subs({a: a_val})\n",
    "g_00_simp"
   ]
  },
  {
   "cell_type": "code",
   "execution_count": 56,
   "metadata": {},
   "outputs": [
    {
     "data": {
      "image/png": "[encoded data removed]",
      "text/latex": [
       "$\\displaystyle \\tilde{r}^{4} \\left(\\tilde{r}_+^{8} \\sin^{4}{\\left(\\theta \\right)} + \\tilde{r}_+^{8} \\sin^{2}{\\left(\\theta \\right)} \\cos^{2}{\\left(\\theta \\right)} - 2 \\tilde{r}_+^{8} \\sin^{2}{\\left(\\theta \\right)} + \\tilde{r}_+^{8} - 2 \\tilde{r}_+^{6} \\sin^{4}{\\left(\\theta \\right)} - 2 \\tilde{r}_+^{6} \\sin^{2}{\\left(\\theta \\right)} \\cos^{2}{\\left(\\theta \\right)} + 2 \\tilde{r}_+^{6} \\sin^{2}{\\left(\\theta \\right)} + \\tilde{r}_+^{4} \\sin^{4}{\\left(\\theta \\right)} + \\tilde{r}_+^{4} \\sin^{2}{\\left(\\theta \\right)} \\cos^{2}{\\left(\\theta \\right)} + \\tilde{r}_+^{4} \\sin^{2}{\\left(\\theta \\right)} - 2 \\tilde{r}_+^{4} - \\sin^{2}{\\left(\\theta \\right)} + 1\\right) + \\tilde{r}^{2} \\left(\\tilde{r}_+^{12} \\sin^{4}{\\left(\\theta \\right)} - 2 \\tilde{r}_+^{12} \\sin^{2}{\\left(\\theta \\right)} + \\tilde{r}_+^{12} - 2 \\tilde{r}_+^{10} \\sin^{4}{\\left(\\theta \\right)} - 2 \\tilde{r}_+^{10} \\sin^{2}{\\left(\\theta \\right)} \\cos^{2}{\\left(\\theta \\right)} + 2 \\tilde{r}_+^{10} \\sin^{2}{\\left(\\theta \\right)} + 2 \\tilde{r}_+^{8} \\sin^{4}{\\left(\\theta \\right)} + 4 \\tilde{r}_+^{8} \\sin^{2}{\\left(\\theta \\right)} \\cos^{2}{\\left(\\theta \\right)} - \\tilde{r}_+^{8} - 2 \\tilde{r}_+^{6} \\sin^{4}{\\left(\\theta \\right)} - 2 \\tilde{r}_+^{6} \\sin^{2}{\\left(\\theta \\right)} \\cos^{2}{\\left(\\theta \\right)} + 2 \\tilde{r}_+^{6} \\sin^{2}{\\left(\\theta \\right)} + \\tilde{r}_+^{4} \\sin^{4}{\\left(\\theta \\right)} - 2 \\tilde{r}_+^{4} \\sin^{2}{\\left(\\theta \\right)} - \\tilde{r}_+^{4} + 1\\right) + \\tilde{r} \\left(- 2 \\tilde{r}_+^{13} \\sin^{4}{\\left(\\theta \\right)} + 4 \\tilde{r}_+^{13} \\sin^{2}{\\left(\\theta \\right)} - 2 \\tilde{r}_+^{13} + 4 \\tilde{r}_+^{11} \\sin^{2}{\\left(\\theta \\right)} - 4 \\tilde{r}_+^{11} + 4 \\tilde{r}_+^{9} \\sin^{4}{\\left(\\theta \\right)} - 8 \\tilde{r}_+^{9} \\sin^{2}{\\left(\\theta \\right)} + 2 \\tilde{r}_+^{9} - 8 \\tilde{r}_+^{7} \\sin^{2}{\\left(\\theta \\right)} + 8 \\tilde{r}_+^{7} - 2 \\tilde{r}_+^{5} \\sin^{4}{\\left(\\theta \\right)} + 4 \\tilde{r}_+^{5} \\sin^{2}{\\left(\\theta \\right)} + 2 \\tilde{r}_+^{5} + 4 \\tilde{r}_+^{3} \\sin^{2}{\\left(\\theta \\right)} - 4 \\tilde{r}_+^{3} - 2 \\tilde{r}_+\\right) + \\tilde{r}_+^{14} \\sin^{4}{\\left(\\theta \\right)} - 2 \\tilde{r}_+^{14} \\sin^{2}{\\left(\\theta \\right)} + \\tilde{r}_+^{14} + \\tilde{r}_+^{12} \\sin^{4}{\\left(\\theta \\right)} + \\tilde{r}_+^{12} \\sin^{2}{\\left(\\theta \\right)} \\cos^{2}{\\left(\\theta \\right)} - 4 \\tilde{r}_+^{12} \\sin^{2}{\\left(\\theta \\right)} + 3 \\tilde{r}_+^{12} - 4 \\tilde{r}_+^{10} \\sin^{4}{\\left(\\theta \\right)} - 2 \\tilde{r}_+^{10} \\sin^{2}{\\left(\\theta \\right)} \\cos^{2}{\\left(\\theta \\right)} + 6 \\tilde{r}_+^{10} \\sin^{2}{\\left(\\theta \\right)} - \\tilde{r}_+^{10} + \\tilde{r}_+^{8} \\sin^{4}{\\left(\\theta \\right)} + \\tilde{r}_+^{8} \\sin^{2}{\\left(\\theta \\right)} \\cos^{2}{\\left(\\theta \\right)} + 5 \\tilde{r}_+^{8} \\sin^{2}{\\left(\\theta \\right)} - 6 \\tilde{r}_+^{8} + \\tilde{r}_+^{6} \\sin^{4}{\\left(\\theta \\right)} - 2 \\tilde{r}_+^{6} \\sin^{2}{\\left(\\theta \\right)} - \\tilde{r}_+^{6} - 3 \\tilde{r}_+^{4} \\sin^{2}{\\left(\\theta \\right)} + 3 \\tilde{r}_+^{4} + \\tilde{r}_+^{2}$"
      ],
      "text/plain": [
       "         4 ⎛          8    4                8    2       2                  8 \n",
       "\\tilde{r} ⋅⎝\\tilde{r}₊ ⋅sin (θ) + \\tilde{r}₊ ⋅sin (θ)⋅cos (θ) - 2⋅\\tilde{r}₊ ⋅\n",
       "\n",
       "   2                8               6    4                  6    2       2    \n",
       "sin (θ) + \\tilde{r}₊  - 2⋅\\tilde{r}₊ ⋅sin (θ) - 2⋅\\tilde{r}₊ ⋅sin (θ)⋅cos (θ) \n",
       "\n",
       "              6    2                4    4                4    2       2      \n",
       "+ 2⋅\\tilde{r}₊ ⋅sin (θ) + \\tilde{r}₊ ⋅sin (θ) + \\tilde{r}₊ ⋅sin (θ)⋅cos (θ) + \n",
       "\n",
       "          4    2                  4      2       ⎞            2 ⎛          12 \n",
       "\\tilde{r}₊ ⋅sin (θ) - 2⋅\\tilde{r}₊  - sin (θ) + 1⎠ + \\tilde{r} ⋅⎝\\tilde{r}₊  ⋅\n",
       "\n",
       "   4                  12    2                12               10    4         \n",
       "sin (θ) - 2⋅\\tilde{r}₊  ⋅sin (θ) + \\tilde{r}₊   - 2⋅\\tilde{r}₊  ⋅sin (θ) - 2⋅\\\n",
       "\n",
       "         10    2       2                  10    2                  8    4     \n",
       "tilde{r}₊  ⋅sin (θ)⋅cos (θ) + 2⋅\\tilde{r}₊  ⋅sin (θ) + 2⋅\\tilde{r}₊ ⋅sin (θ) +\n",
       "\n",
       "             8    2       2                8               6    4             \n",
       " 4⋅\\tilde{r}₊ ⋅sin (θ)⋅cos (θ) - \\tilde{r}₊  - 2⋅\\tilde{r}₊ ⋅sin (θ) - 2⋅\\tild\n",
       "\n",
       "     6    2       2                  6    2                4    4             \n",
       "e{r}₊ ⋅sin (θ)⋅cos (θ) + 2⋅\\tilde{r}₊ ⋅sin (θ) + \\tilde{r}₊ ⋅sin (θ) - 2⋅\\tild\n",
       "\n",
       "     4    2                4    ⎞             ⎛              13    4          \n",
       "e{r}₊ ⋅sin (θ) - \\tilde{r}₊  + 1⎠ + \\tilde{r}⋅⎝- 2⋅\\tilde{r}₊  ⋅sin (θ) + 4⋅\\t\n",
       "\n",
       "        13    2                  13               11    2                  11 \n",
       "ilde{r}₊  ⋅sin (θ) - 2⋅\\tilde{r}₊   + 4⋅\\tilde{r}₊  ⋅sin (θ) - 4⋅\\tilde{r}₊   \n",
       "\n",
       "              9    4                  9    2                  9               \n",
       "+ 4⋅\\tilde{r}₊ ⋅sin (θ) - 8⋅\\tilde{r}₊ ⋅sin (θ) + 2⋅\\tilde{r}₊  - 8⋅\\tilde{r}₊\n",
       "\n",
       "7    2                  7               5    4                  5    2        \n",
       " ⋅sin (θ) + 8⋅\\tilde{r}₊  - 2⋅\\tilde{r}₊ ⋅sin (θ) + 4⋅\\tilde{r}₊ ⋅sin (θ) + 2⋅\n",
       "\n",
       "          5               3    2                  3               ⎞           \n",
       "\\tilde{r}₊  + 4⋅\\tilde{r}₊ ⋅sin (θ) - 4⋅\\tilde{r}₊  - 2⋅\\tilde{r}₊⎠ + \\tilde{r\n",
       "\n",
       "  14    4                  14    2                14             12    4      \n",
       "}₊  ⋅sin (θ) - 2⋅\\tilde{r}₊  ⋅sin (θ) + \\tilde{r}₊   + \\tilde{r}₊  ⋅sin (θ) + \n",
       "\n",
       "          12    2       2                  12    2                  12        \n",
       "\\tilde{r}₊  ⋅sin (θ)⋅cos (θ) - 4⋅\\tilde{r}₊  ⋅sin (θ) + 3⋅\\tilde{r}₊   - 4⋅\\ti\n",
       "\n",
       "       10    4                  10    2       2                  10    2      \n",
       "lde{r}₊  ⋅sin (θ) - 2⋅\\tilde{r}₊  ⋅sin (θ)⋅cos (θ) + 6⋅\\tilde{r}₊  ⋅sin (θ) - \n",
       "\n",
       "          10             8    4                8    2       2                 \n",
       "\\tilde{r}₊   + \\tilde{r}₊ ⋅sin (θ) + \\tilde{r}₊ ⋅sin (θ)⋅cos (θ) + 5⋅\\tilde{r}\n",
       "\n",
       " 8    2                  8             6    4                  6    2         \n",
       "₊ ⋅sin (θ) - 6⋅\\tilde{r}₊  + \\tilde{r}₊ ⋅sin (θ) - 2⋅\\tilde{r}₊ ⋅sin (θ) - \\ti\n",
       "\n",
       "       6               4    2                  4             2\n",
       "lde{r}₊  - 3⋅\\tilde{r}₊ ⋅sin (θ) + 3⋅\\tilde{r}₊  + \\tilde{r}₊ "
      ]
     },
     "execution_count": 56,
     "metadata": {},
     "output_type": "execute_result"
    }
   ],
   "source": [
    "g_00_simp = g_00_simp.expand().collect([r_tilde, r_tilde ** 2, r_tilde ** 3, r_tilde ** 4])\n",
    "g_00_simp"
   ]
  },
  {
   "cell_type": "code",
   "execution_count": 61,
   "metadata": {},
   "outputs": [
    {
     "data": {
      "image/png": "[encoded data removed]",
      "text/latex": [
       "$\\displaystyle - 2 \\tilde{r}_+ \\left(\\tilde{r}_+ - 1\\right)^{2} \\left(\\tilde{r}_+ + 1\\right)^{2} \\left(\\tilde{r}_+^{2} + 1\\right)^{2} \\left(\\tilde{r}_+^{2} \\cos^{2}{\\left(\\theta \\right)} + 1\\right)^{2}$"
      ],
      "text/plain": [
       "                                                                   2          \n",
       "                              2                 2 ⎛          2    ⎞  ⎛        \n",
       "-2⋅\\tilde{r}₊⋅(\\tilde{r}₊ - 1) ⋅(\\tilde{r}₊ + 1) ⋅⎝\\tilde{r}₊  + 1⎠ ⋅⎝\\tilde{r\n",
       "\n",
       "                2\n",
       "  2    2       ⎞ \n",
       "}₊ ⋅cos (θ) + 1⎠ "
      ]
     },
     "execution_count": 61,
     "metadata": {},
     "output_type": "execute_result"
    }
   ],
   "source": [
    "A_coeff = g_00_simp.coeff(r_tilde).simplify()\n",
    "A_coeff"
   ]
  },
  {
   "cell_type": "code",
   "execution_count": 62,
   "metadata": {},
   "outputs": [
    {
     "data": {
      "image/png": "[encoded data removed]",
      "text/latex": [
       "$\\displaystyle \\left(\\tilde{r}_+ - 1\\right)^{2} \\left(\\tilde{r}_+ + 1\\right)^{2} \\left(\\tilde{r}_+^{2} + 1\\right)^{2} \\left(\\tilde{r}_+^{4} \\sin^{4}{\\left(\\theta \\right)} - 2 \\tilde{r}_+^{4} \\sin^{2}{\\left(\\theta \\right)} + \\tilde{r}_+^{4} + 1\\right)$"
      ],
      "text/plain": [
       "                                                     2                        \n",
       "                2                 2 ⎛          2    ⎞  ⎛          4    4      \n",
       "(\\tilde{r}₊ - 1) ⋅(\\tilde{r}₊ + 1) ⋅⎝\\tilde{r}₊  + 1⎠ ⋅⎝\\tilde{r}₊ ⋅sin (θ) - \n",
       "\n",
       "                                        \n",
       "            4    2                4    ⎞\n",
       "2⋅\\tilde{r}₊ ⋅sin (θ) + \\tilde{r}₊  + 1⎠"
      ]
     },
     "execution_count": 62,
     "metadata": {},
     "output_type": "execute_result"
    }
   ],
   "source": [
    "B_coeff = g_00_simp.coeff(r_tilde ** 2).simplify().factor()\n",
    "B_coeff"
   ]
  },
  {
   "cell_type": "code",
   "execution_count": 63,
   "metadata": {},
   "outputs": [
    {
     "data": {
      "image/png": "[encoded data removed]",
      "text/latex": [
       "$\\displaystyle 0$"
      ],
      "text/plain": [
       "0"
      ]
     },
     "execution_count": 63,
     "metadata": {},
     "output_type": "execute_result"
    }
   ],
   "source": [
    "g_00_simp.coeff(r_tilde ** 3).simplify()"
   ]
  },
  {
   "cell_type": "code",
   "execution_count": 64,
   "metadata": {},
   "outputs": [
    {
     "data": {
      "image/png": "[encoded data removed]",
      "text/latex": [
       "$\\displaystyle \\left(\\tilde{r}_+ - 1\\right)^{2} \\left(\\tilde{r}_+ + 1\\right)^{2} \\left(\\tilde{r}_+^{2} + 1\\right)^{2} \\cos^{2}{\\left(\\theta \\right)}$"
      ],
      "text/plain": [
       "                                                     2        \n",
       "                2                 2 ⎛          2    ⎞     2   \n",
       "(\\tilde{r}₊ - 1) ⋅(\\tilde{r}₊ + 1) ⋅⎝\\tilde{r}₊  + 1⎠ ⋅cos (θ)"
      ]
     },
     "execution_count": 64,
     "metadata": {},
     "output_type": "execute_result"
    }
   ],
   "source": [
    "C_coeff = g_00_simp.coeff(r_tilde ** 4).simplify().factor()\n",
    "C_coeff"
   ]
  },
  {
   "cell_type": "code",
   "execution_count": 65,
   "metadata": {},
   "outputs": [
    {
     "data": {
      "image/png": "[encoded data removed]",
      "text/latex": [
       "$\\displaystyle \\tilde{r}_+^{2} \\left(\\tilde{r}_+ - 1\\right)^{2} \\left(\\tilde{r}_+ + 1\\right)^{2} \\left(\\tilde{r}_+^{2} + 1\\right)^{2} \\left(\\tilde{r}_+^{4} \\left(1 - \\cos^{2}{\\left(\\theta \\right)}\\right)^{2} + 2 \\tilde{r}_+^{4} \\cos^{2}{\\left(\\theta \\right)} - \\tilde{r}_+^{4} + 3 \\tilde{r}_+^{2} \\cos^{2}{\\left(\\theta \\right)} + 1\\right)$"
      ],
      "text/plain": [
       "                                                                 2 ⎛          \n",
       "          2                 2                 2 ⎛          2    ⎞  ⎜          \n",
       "\\tilde{r}₊ ⋅(\\tilde{r}₊ - 1) ⋅(\\tilde{r}₊ + 1) ⋅⎝\\tilde{r}₊  + 1⎠ ⋅⎝\\tilde{r}₊\n",
       "\n",
       "               2                                                              \n",
       "4 ⎛       2   ⎞                4    2                4               2    2   \n",
       " ⋅⎝1 - cos (θ)⎠  + 2⋅\\tilde{r}₊ ⋅cos (θ) - \\tilde{r}₊  + 3⋅\\tilde{r}₊ ⋅cos (θ)\n",
       "\n",
       "    ⎞\n",
       "    ⎟\n",
       " + 1⎠"
      ]
     },
     "execution_count": 65,
     "metadata": {},
     "output_type": "execute_result"
    }
   ],
   "source": [
    "D_coeff = g_00_simp - A_coeff * r_tilde - B_coeff * r_tilde ** 2 - C_coeff * r_tilde ** 4\n",
    "D_coeff.simplify()"
   ]
  }
 ],
 "metadata": {
  "kernelspec": {
   "display_name": "env",
   "language": "python",
   "name": "python3"
  },
  "language_info": {
   "codemirror_mode": {
    "name": "ipython",
    "version": 3
   },
   "file_extension": ".py",
   "mimetype": "text/x-python",
   "name": "python",
   "nbconvert_exporter": "python",
   "pygments_lexer": "ipython3",
   "version": "3.10.3"
  },
  "orig_nbformat": 4
 },
 "nbformat": 4,
 "nbformat_minor": 2
}
