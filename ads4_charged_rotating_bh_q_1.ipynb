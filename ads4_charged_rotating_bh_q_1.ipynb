{
 "cells": [
  {
   "cell_type": "code",
   "execution_count": 1,
   "metadata": {},
   "outputs": [],
   "source": [
    "import matplotlib.pyplot as plt\n",
    "import numpy as np\n",
    "import sympy\n",
    "\n",
    "sympy.init_printing()"
   ]
  },
  {
   "attachments": {},
   "cell_type": "markdown",
   "metadata": {},
   "source": [
    "### Variable Definitions"
   ]
  },
  {
   "cell_type": "code",
   "execution_count": 2,
   "metadata": {},
   "outputs": [],
   "source": [
    "t, r, theta, phi, phi_tilde = sympy.symbols(\"t r theta phi \\\\tilde{\\phi}\")"
   ]
  },
  {
   "cell_type": "code",
   "execution_count": 3,
   "metadata": {},
   "outputs": [],
   "source": [
    "dt, dr, dtheta, dphi, dphi_tilde = sympy.symbols(r\"dt dr d\\theta d\\phi d\\tilde{\\phi}\")"
   ]
  },
  {
   "cell_type": "code",
   "execution_count": 4,
   "metadata": {},
   "outputs": [],
   "source": [
    "r_tilde, delta_r, delta_theta, W, xi = sympy.symbols(\"\\\\tilde{r} Delta_r Delta_theta W Xi\")"
   ]
  },
  {
   "cell_type": "code",
   "execution_count": 5,
   "metadata": {},
   "outputs": [],
   "source": [
    "tau, dtau = sympy.symbols(\"tau d\\\\tau\")"
   ]
  },
  {
   "cell_type": "code",
   "execution_count": 6,
   "metadata": {},
   "outputs": [],
   "source": [
    "a, r_tilde_plus, delta = sympy.symbols(\"a \\\\tilde{r}_+ \\delta\")"
   ]
  },
  {
   "attachments": {},
   "cell_type": "markdown",
   "metadata": {},
   "source": [
    "### Metric"
   ]
  },
  {
   "cell_type": "code",
   "execution_count": 7,
   "metadata": {},
   "outputs": [
    {
     "data": {
      "image/png": "[encoded data removed]",
      "text/latex": [
       "$\\displaystyle - \\frac{\\Delta_{r} \\left(dt - \\frac{a d\\phi \\sin^{2}{\\left(\\theta \\right)}}{\\Xi}\\right)^{2}}{W} + \\frac{\\Delta_{\\theta} \\left(a dt - \\frac{d\\phi \\left(\\tilde{r}^{2} + a^{2}\\right)}{\\Xi}\\right)^{2} \\sin^{2}{\\left(\\theta \\right)}}{W}$"
      ],
      "text/plain": [
       "                           2                                          2       \n",
       "     ⎛                2   ⎞           ⎛             ⎛         2    2⎞⎞        \n",
       "     ⎜     a⋅d\\phi⋅sin (θ)⎟           ⎜       d\\phi⋅⎝\\tilde{r}  + a ⎠⎟     2  \n",
       "  Δᵣ⋅⎜dt - ───────────────⎟    Δₜₕₑₜₐ⋅⎜a⋅dt - ───────────────────────⎟ ⋅sin (θ\n",
       "     ⎝            Ξ       ⎠           ⎝                  Ξ           ⎠        \n",
       "- ────────────────────────── + ───────────────────────────────────────────────\n",
       "              W                                       W                       \n",
       "\n",
       " \n",
       " \n",
       " \n",
       ")\n",
       " \n",
       "─\n",
       " "
      ]
     },
     "execution_count": 7,
     "metadata": {},
     "output_type": "execute_result"
    }
   ],
   "source": [
    "metric_orig = -delta_r / W * (dt - a * sympy.sin(theta) ** 2 * dphi / xi) ** 2\n",
    "metric_orig += delta_theta * sympy.sin(theta) ** 2 / W * (a * dt - (r_tilde ** 2 + a ** 2) * dphi / xi) ** 2\n",
    "metric_orig"
   ]
  },
  {
   "attachments": {},
   "cell_type": "markdown",
   "metadata": {},
   "source": [
    "#### Just Wick Rotation"
   ]
  },
  {
   "cell_type": "code",
   "execution_count": 8,
   "metadata": {},
   "outputs": [],
   "source": [
    "dt_val = sympy.I * dtau"
   ]
  },
  {
   "cell_type": "code",
   "execution_count": 9,
   "metadata": {},
   "outputs": [
    {
     "data": {
      "image/png": "[encoded data removed]",
      "text/latex": [
       "$\\displaystyle d\\phi^{2} \\left(- \\frac{\\Delta_{r} a^{2} \\sin^{4}{\\left(\\theta \\right)}}{W \\Xi^{2}} + \\frac{\\Delta_{\\theta} \\tilde{r}^{4} \\sin^{2}{\\left(\\theta \\right)}}{W \\Xi^{2}} + \\frac{2 \\Delta_{\\theta} \\tilde{r}^{2} a^{2} \\sin^{2}{\\left(\\theta \\right)}}{W \\Xi^{2}} + \\frac{\\Delta_{\\theta} a^{4} \\sin^{2}{\\left(\\theta \\right)}}{W \\Xi^{2}}\\right) + d\\phi d\\tau \\left(\\frac{2 i \\Delta_{r} a \\sin^{2}{\\left(\\theta \\right)}}{W \\Xi} - \\frac{2 i \\Delta_{\\theta} \\tilde{r}^{2} a \\sin^{2}{\\left(\\theta \\right)}}{W \\Xi} - \\frac{2 i \\Delta_{\\theta} a^{3} \\sin^{2}{\\left(\\theta \\right)}}{W \\Xi}\\right) + d\\tau^{2} \\left(\\frac{\\Delta_{r}}{W} - \\frac{\\Delta_{\\theta} a^{2} \\sin^{2}{\\left(\\theta \\right)}}{W}\\right)$"
      ],
      "text/plain": [
       "       ⎛      2    4                      4    2                        2  2  \n",
       "     2 ⎜  Δᵣ⋅a ⋅sin (θ)   Δₜₕₑₜₐ⋅\\tilde{r} ⋅sin (θ)   2⋅Δₜₕₑₜₐ⋅\\tilde{r} ⋅a ⋅s\n",
       "d\\phi ⋅⎜- ───────────── + ───────────────────────── + ────────────────────────\n",
       "       ⎜          2                     2                             2       \n",
       "       ⎝       W⋅Ξ                   W⋅Ξ                           W⋅Ξ        \n",
       "\n",
       "  2              4    2   ⎞               ⎛            2                      \n",
       "in (θ)   Δₜₕₑₜₐ⋅a ⋅sin (θ)⎟               ⎜2⋅ⅈ⋅Δᵣ⋅a⋅sin (θ)   2⋅ⅈ⋅Δₜₕₑₜₐ⋅\\tild\n",
       "────── + ─────────────────⎟ + d\\phi⋅d\\tau⋅⎜──────────────── - ────────────────\n",
       "                   2      ⎟               ⎝      W⋅Ξ                        W⋅\n",
       "                W⋅Ξ       ⎠                                                   \n",
       "\n",
       "    2      2                  3    2   ⎞          ⎛             2    2   ⎞\n",
       "e{r} ⋅a⋅sin (θ)   2⋅ⅈ⋅Δₜₕₑₜₐ⋅a ⋅sin (θ)⎟        2 ⎜Δᵣ   Δₜₕₑₜₐ⋅a ⋅sin (θ)⎟\n",
       "─────────────── - ─────────────────────⎟ + d\\tau ⋅⎜── - ─────────────────⎟\n",
       "Ξ                          W⋅Ξ         ⎠          ⎝W            W        ⎠\n",
       "                                                                          "
      ]
     },
     "execution_count": 9,
     "metadata": {},
     "output_type": "execute_result"
    }
   ],
   "source": [
    "euclidean_metric = metric_orig.subs({dt: dt_val}).expand().collect([dtau ** 2, dtau * dphi, dphi ** 2])\n",
    "euclidean_metric"
   ]
  },
  {
   "cell_type": "code",
   "execution_count": 10,
   "metadata": {},
   "outputs": [],
   "source": [
    "metric_list_matrix = [[0 for i in range(2)] for i in range(2)]\n",
    "metric_list_matrix[0][0] = euclidean_metric.coeff(dtau ** 2)\n",
    "metric_list_matrix[0][1] = euclidean_metric.coeff(dtau * dphi) / 2\n",
    "metric_list_matrix[1][0] = metric_list_matrix[0][1]\n",
    "metric_list_matrix[1][1] = euclidean_metric.coeff(dphi ** 2)"
   ]
  },
  {
   "cell_type": "code",
   "execution_count": 11,
   "metadata": {},
   "outputs": [
    {
     "data": {
      "text/latex": [
       "$\\displaystyle \\left[\\begin{matrix}\\frac{\\Delta_{r} - \\Delta_{\\theta} a^{2} \\sin^{2}{\\left(\\theta \\right)}}{W} & \\frac{i a \\left(\\Delta_{r} - \\Delta_{\\theta} \\tilde{r}^{2} - \\Delta_{\\theta} a^{2}\\right) \\sin^{2}{\\left(\\theta \\right)}}{W \\Xi}\\\\\\frac{i a \\left(\\Delta_{r} - \\Delta_{\\theta} \\tilde{r}^{2} - \\Delta_{\\theta} a^{2}\\right) \\sin^{2}{\\left(\\theta \\right)}}{W \\Xi} & \\frac{\\left(- \\Delta_{r} a^{2} \\sin^{2}{\\left(\\theta \\right)} + \\Delta_{\\theta} \\tilde{r}^{4} + 2 \\Delta_{\\theta} \\tilde{r}^{2} a^{2} + \\Delta_{\\theta} a^{4}\\right) \\sin^{2}{\\left(\\theta \\right)}}{W \\Xi^{2}}\\end{matrix}\\right]$"
      ],
      "text/plain": [
       "⎡                          2    2                                       ⎛     \n",
       "⎢             Δᵣ - Δₜₕₑₜₐ⋅a ⋅sin (θ)                                ⅈ⋅a⋅⎝Δᵣ - \n",
       "⎢             ──────────────────────                                ──────────\n",
       "⎢                       W                                                     \n",
       "⎢                                                                             \n",
       "⎢    ⎛                     2           2⎞    2     ⎛      2    2              \n",
       "⎢ⅈ⋅a⋅⎝Δᵣ - Δₜₕₑₜₐ⋅\\tilde{r}  - Δₜₕₑₜₐ⋅a ⎠⋅sin (θ)  ⎝- Δᵣ⋅a ⋅sin (θ) + Δₜₕₑₜₐ⋅\\\n",
       "⎢────────────────────────────────────────────────  ───────────────────────────\n",
       "⎢                      W⋅Ξ                                                    \n",
       "⎣                                                                             \n",
       "\n",
       "                2           2⎞    2                    ⎤\n",
       "Δₜₕₑₜₐ⋅\\tilde{r}  - Δₜₕₑₜₐ⋅a ⎠⋅sin (θ)                 ⎥\n",
       "──────────────────────────────────────                 ⎥\n",
       "            W⋅Ξ                                        ⎥\n",
       "                                                       ⎥\n",
       "        4                     2  2           4⎞    2   ⎥\n",
       "tilde{r}  + 2⋅Δₜₕₑₜₐ⋅\\tilde{r} ⋅a  + Δₜₕₑₜₐ⋅a ⎠⋅sin (θ)⎥\n",
       "───────────────────────────────────────────────────────⎥\n",
       "               2                                       ⎥\n",
       "            W⋅Ξ                                        ⎦"
      ]
     },
     "execution_count": 11,
     "metadata": {},
     "output_type": "execute_result"
    }
   ],
   "source": [
    "g_mat = sympy.Matrix(metric_list_matrix)\n",
    "g_mat.simplify()\n",
    "g_mat"
   ]
  },
  {
   "cell_type": "code",
   "execution_count": 12,
   "metadata": {},
   "outputs": [
    {
     "data": {
      "image/png": "[encoded data removed]",
      "text/latex": [
       "$\\displaystyle \\frac{\\Delta_{r} \\Delta_{\\theta} \\left(\\tilde{r}^{2} + a^{2} \\cos^{2}{\\left(\\theta \\right)}\\right)^{2} \\sin^{2}{\\left(\\theta \\right)}}{W^{2} \\Xi^{2}}$"
      ],
      "text/plain": [
       "                                   2        \n",
       "          ⎛         2    2    2   ⎞     2   \n",
       "Δᵣ⋅Δₜₕₑₜₐ⋅⎝\\tilde{r}  + a ⋅cos (θ)⎠ ⋅sin (θ)\n",
       "────────────────────────────────────────────\n",
       "                    2  2                    \n",
       "                   W ⋅Ξ                     "
      ]
     },
     "execution_count": 12,
     "metadata": {},
     "output_type": "execute_result"
    }
   ],
   "source": [
    "g_mat.det().simplify()"
   ]
  },
  {
   "cell_type": "code",
   "execution_count": 13,
   "metadata": {},
   "outputs": [
    {
     "data": {
      "image/png": "[encoded data removed]",
      "text/latex": [
       "$\\displaystyle \\Delta_{r} - \\Delta_{\\theta} a^{2} \\sin^{2}{\\left(\\theta \\right)}$"
      ],
      "text/plain": [
       "             2    2   \n",
       "Δᵣ - Δₜₕₑₜₐ⋅a ⋅sin (θ)"
      ]
     },
     "execution_count": 13,
     "metadata": {},
     "output_type": "execute_result"
    }
   ],
   "source": [
    "g_00 = delta_r - delta_theta * a ** 2 * sympy.sin(theta) ** 2\n",
    "g_00"
   ]
  },
  {
   "cell_type": "code",
   "execution_count": 14,
   "metadata": {},
   "outputs": [
    {
     "data": {
      "image/png": "[encoded data removed]",
      "text/latex": [
       "$\\displaystyle - \\Delta_{r} a^{2} \\sin^{2}{\\left(\\theta \\right)} + \\Delta_{\\theta} \\left(\\tilde{r}^{2} + a^{2}\\right)^{2}$"
      ],
      "text/plain": [
       "                                          2\n",
       "      2    2             ⎛         2    2⎞ \n",
       "- Δᵣ⋅a ⋅sin (θ) + Δₜₕₑₜₐ⋅⎝\\tilde{r}  + a ⎠ "
      ]
     },
     "execution_count": 14,
     "metadata": {},
     "output_type": "execute_result"
    }
   ],
   "source": [
    "g_11 = (r_tilde ** 2 + a ** 2) ** 2 * delta_theta - delta_r * a ** 2 * sympy.sin(theta) ** 2\n",
    "g_11"
   ]
  },
  {
   "cell_type": "code",
   "execution_count": 15,
   "metadata": {},
   "outputs": [
    {
     "data": {
      "image/png": "[encoded data removed]",
      "text/latex": [
       "$\\displaystyle 0$"
      ],
      "text/plain": [
       "0"
      ]
     },
     "execution_count": 15,
     "metadata": {},
     "output_type": "execute_result"
    }
   ],
   "source": [
    "(g_11 * sympy.sin(theta) ** 2 / (W * xi ** 2) - g_mat[1, 1]).simplify()"
   ]
  },
  {
   "cell_type": "code",
   "execution_count": 16,
   "metadata": {},
   "outputs": [
    {
     "data": {
      "image/png": "[encoded data removed]",
      "text/latex": [
       "$\\displaystyle \\left(- \\tilde{r} + \\tilde{r}_+\\right)^{2} \\left(\\tilde{r}_+^{2} + 1\\right)^{2} + \\left(\\tilde{r}^{2} - \\tilde{r}_+^{2}\\right)^{2}$"
      ],
      "text/plain": [
       "                                            2                             2\n",
       "                         2 ⎛          2    ⎞    ⎛         2             2⎞ \n",
       "(-\\tilde{r} + \\tilde{r}₊) ⋅⎝\\tilde{r}₊  + 1⎠  + ⎝\\tilde{r}  - \\tilde{r}₊ ⎠ "
      ]
     },
     "execution_count": 16,
     "metadata": {},
     "output_type": "execute_result"
    }
   ],
   "source": [
    "delta_r_val = (r_tilde ** 2 - r_tilde_plus ** 2) ** 2 + (r_tilde_plus ** 2 + 1) ** 2 * ((r_tilde_plus - r_tilde) ** 2)\n",
    "delta_r_val"
   ]
  },
  {
   "cell_type": "code",
   "execution_count": 17,
   "metadata": {},
   "outputs": [],
   "source": [
    "xi_val = 1 - a ** 2\n",
    "a_val = r_tilde_plus ** 2\n",
    "delta_theta_val = 1 - a ** 2 * sympy.cos(theta) ** 2"
   ]
  },
  {
   "attachments": {},
   "cell_type": "markdown",
   "metadata": {},
   "source": [
    "##### $g_{00}$"
   ]
  },
  {
   "cell_type": "code",
   "execution_count": 18,
   "metadata": {},
   "outputs": [
    {
     "data": {
      "image/png": "[encoded data removed]",
      "text/latex": [
       "$\\displaystyle \\tilde{r}^{4} + \\tilde{r}^{2} \\left(\\tilde{r}_+^{4} + 1\\right) + \\tilde{r} \\left(- 2 \\tilde{r}_+^{5} - 4 \\tilde{r}_+^{3} - 2 \\tilde{r}_+\\right) + \\tilde{r}_+^{8} \\sin^{2}{\\left(\\theta \\right)} \\cos^{2}{\\left(\\theta \\right)} + \\tilde{r}_+^{6} - \\tilde{r}_+^{4} \\sin^{2}{\\left(\\theta \\right)} + 3 \\tilde{r}_+^{4} + \\tilde{r}_+^{2}$"
      ],
      "text/plain": [
       "         4            2 ⎛          4    ⎞             ⎛              5        \n",
       "\\tilde{r}  + \\tilde{r} ⋅⎝\\tilde{r}₊  + 1⎠ + \\tilde{r}⋅⎝- 2⋅\\tilde{r}₊  - 4⋅\\ti\n",
       "\n",
       "       3               ⎞             8    2       2                6          \n",
       "lde{r}₊  - 2⋅\\tilde{r}₊⎠ + \\tilde{r}₊ ⋅sin (θ)⋅cos (θ) + \\tilde{r}₊  - \\tilde{\n",
       "\n",
       "   4    2                  4             2\n",
       "r}₊ ⋅sin (θ) + 3⋅\\tilde{r}₊  + \\tilde{r}₊ "
      ]
     },
     "execution_count": 18,
     "metadata": {},
     "output_type": "execute_result"
    }
   ],
   "source": [
    "g_00_simp = g_00.subs({delta_r: delta_r_val, xi: xi_val, delta_theta: delta_theta_val}).subs({a: a_val})\n",
    "g_00_simp = g_00_simp.expand().collect([r_tilde, r_tilde ** 2, r_tilde ** 3, r_tilde ** 4])\n",
    "g_00_simp"
   ]
  },
  {
   "cell_type": "code",
   "execution_count": 19,
   "metadata": {},
   "outputs": [
    {
     "data": {
      "image/png": "[encoded data removed]",
      "text/latex": [
       "$\\displaystyle - 2 \\tilde{r}_+ \\left(\\tilde{r}_+^{2} + 1\\right)^{2}$"
      ],
      "text/plain": [
       "                               2\n",
       "              ⎛          2    ⎞ \n",
       "-2⋅\\tilde{r}₊⋅⎝\\tilde{r}₊  + 1⎠ "
      ]
     },
     "execution_count": 19,
     "metadata": {},
     "output_type": "execute_result"
    }
   ],
   "source": [
    "A_coeff_00 = g_00_simp.coeff(r_tilde).simplify()\n",
    "A_coeff_00.factor()"
   ]
  },
  {
   "cell_type": "code",
   "execution_count": 20,
   "metadata": {},
   "outputs": [
    {
     "data": {
      "image/png": "[encoded data removed]",
      "text/latex": [
       "$\\displaystyle \\tilde{r}_+^{4} + 1$"
      ],
      "text/plain": [
       "          4    \n",
       "\\tilde{r}₊  + 1"
      ]
     },
     "execution_count": 20,
     "metadata": {},
     "output_type": "execute_result"
    }
   ],
   "source": [
    "B_coeff_00 = g_00_simp.coeff(r_tilde ** 2).simplify().factor()\n",
    "B_coeff_00"
   ]
  },
  {
   "cell_type": "code",
   "execution_count": 21,
   "metadata": {},
   "outputs": [
    {
     "data": {
      "image/png": "[encoded data removed]",
      "text/latex": [
       "$\\displaystyle 1$"
      ],
      "text/plain": [
       "1"
      ]
     },
     "execution_count": 21,
     "metadata": {},
     "output_type": "execute_result"
    }
   ],
   "source": [
    "C_coeff_00 = g_00_simp.coeff(r_tilde ** 4).simplify().factor()\n",
    "C_coeff_00"
   ]
  },
  {
   "cell_type": "code",
   "execution_count": 22,
   "metadata": {},
   "outputs": [
    {
     "data": {
      "image/png": "[encoded data removed]",
      "text/latex": [
       "$\\displaystyle \\tilde{r}_+^{2} \\left(\\tilde{r}_+^{6} \\sin^{2}{\\left(\\theta \\right)} \\cos^{2}{\\left(\\theta \\right)} + \\tilde{r}_+^{4} - \\tilde{r}_+^{2} \\sin^{2}{\\left(\\theta \\right)} + 3 \\tilde{r}_+^{2} + 1\\right)$"
      ],
      "text/plain": [
       "          2 ⎛          6    2       2                4             2    2     \n",
       "\\tilde{r}₊ ⋅⎝\\tilde{r}₊ ⋅sin (θ)⋅cos (θ) + \\tilde{r}₊  - \\tilde{r}₊ ⋅sin (θ) +\n",
       "\n",
       "             2    ⎞\n",
       " 3⋅\\tilde{r}₊  + 1⎠"
      ]
     },
     "execution_count": 22,
     "metadata": {},
     "output_type": "execute_result"
    }
   ],
   "source": [
    "D_coeff_00 = g_00_simp - A_coeff_00 * r_tilde - B_coeff_00 * r_tilde ** 2 - C_coeff_00 * r_tilde ** 4\n",
    "D_coeff_00.factor()"
   ]
  },
  {
   "attachments": {},
   "cell_type": "markdown",
   "metadata": {},
   "source": [
    "##### $g_{11}$"
   ]
  },
  {
   "cell_type": "code",
   "execution_count": 23,
   "metadata": {},
   "outputs": [
    {
     "data": {
      "image/png": "[encoded data removed]",
      "text/latex": [
       "$\\displaystyle \\frac{\\tilde{r}^{4} \\cdot \\left(1 - \\tilde{r}_+^{4}\\right) + \\tilde{r}^{2} \\tilde{r}_+^{4} \\left(- \\tilde{r}_+^{4} \\cos^{2}{\\left(\\theta \\right)} - \\tilde{r}_+^{4} + \\cos^{2}{\\left(\\theta \\right)} + 1\\right) + 2 \\tilde{r} \\tilde{r}_+^{5} \\left(\\tilde{r}_+^{4} + 2 \\tilde{r}_+^{2} + 1\\right) \\sin^{2}{\\left(\\theta \\right)} - \\tilde{r}_+^{12} \\cos^{2}{\\left(\\theta \\right)} - \\tilde{r}_+^{10} \\sin^{2}{\\left(\\theta \\right)} - 3 \\tilde{r}_+^{8} \\sin^{2}{\\left(\\theta \\right)} + \\tilde{r}_+^{8} - \\tilde{r}_+^{6} \\sin^{2}{\\left(\\theta \\right)}}{\\tilde{r}_+^{2} + 1}$"
      ],
      "text/plain": [
       "         4 ⎛              4⎞            2           4 ⎛            4    2     \n",
       "\\tilde{r} ⋅⎝1 - \\tilde{r}₊ ⎠ + \\tilde{r} ⋅\\tilde{r}₊ ⋅⎝- \\tilde{r}₊ ⋅cos (θ) -\n",
       "──────────────────────────────────────────────────────────────────────────────\n",
       "                                                                              \n",
       "                                                                              \n",
       "\n",
       "           4      2       ⎞                         5 ⎛          4            \n",
       " \\tilde{r}₊  + cos (θ) + 1⎠ + 2⋅\\tilde{r}⋅\\tilde{r}₊ ⋅⎝\\tilde{r}₊  + 2⋅\\tilde{\n",
       "──────────────────────────────────────────────────────────────────────────────\n",
       "                                                                2             \n",
       "                                                      \\tilde{r}₊  + 1         \n",
       "\n",
       "   2    ⎞    2                12    2                10    2                  \n",
       "r}₊  + 1⎠⋅sin (θ) - \\tilde{r}₊  ⋅cos (θ) - \\tilde{r}₊  ⋅sin (θ) - 3⋅\\tilde{r}₊\n",
       "──────────────────────────────────────────────────────────────────────────────\n",
       "                                                                              \n",
       "                                                                              \n",
       "\n",
       "8    2                8             6    2   \n",
       " ⋅sin (θ) + \\tilde{r}₊  - \\tilde{r}₊ ⋅sin (θ)\n",
       "─────────────────────────────────────────────\n",
       "                                             \n",
       "                                             "
      ]
     },
     "execution_count": 23,
     "metadata": {},
     "output_type": "execute_result"
    }
   ],
   "source": [
    "g_11_simp = g_11.subs({delta_r: delta_r_val, delta_theta: delta_theta_val}).subs({a: a_val})\n",
    "g_11_simp /= (r_tilde_plus ** 2 + 1)\n",
    "g_11_simp = g_11_simp.expand().collect([r_tilde, r_tilde ** 2, r_tilde ** 3, r_tilde ** 4])\n",
    "g_11_simp.simplify()"
   ]
  },
  {
   "cell_type": "code",
   "execution_count": 24,
   "metadata": {},
   "outputs": [
    {
     "data": {
      "image/png": "[encoded data removed]",
      "text/latex": [
       "$\\displaystyle 2 \\tilde{r}_+^{5} \\left(\\tilde{r}_+^{2} + 1\\right) \\sin^{2}{\\left(\\theta \\right)}$"
      ],
      "text/plain": [
       "            5 ⎛          2    ⎞    2   \n",
       "2⋅\\tilde{r}₊ ⋅⎝\\tilde{r}₊  + 1⎠⋅sin (θ)"
      ]
     },
     "execution_count": 24,
     "metadata": {},
     "output_type": "execute_result"
    }
   ],
   "source": [
    "A_coeff_11 = g_11_simp.coeff(r_tilde).simplify()\n",
    "A_coeff_11.factor()"
   ]
  },
  {
   "cell_type": "code",
   "execution_count": 25,
   "metadata": {},
   "outputs": [
    {
     "data": {
      "image/png": "[encoded data removed]",
      "text/latex": [
       "$\\displaystyle - \\tilde{r}_+^{4} \\left(\\tilde{r}_+ - 1\\right) \\left(\\tilde{r}_+ + 1\\right) \\left(\\cos^{2}{\\left(\\theta \\right)} + 1\\right)$"
      ],
      "text/plain": [
       "           4                                   ⎛   2       ⎞\n",
       "-\\tilde{r}₊ ⋅(\\tilde{r}₊ - 1)⋅(\\tilde{r}₊ + 1)⋅⎝cos (θ) + 1⎠"
      ]
     },
     "execution_count": 25,
     "metadata": {},
     "output_type": "execute_result"
    }
   ],
   "source": [
    "B_coeff_11 = g_11_simp.coeff(r_tilde ** 2).simplify().factor()\n",
    "B_coeff_11"
   ]
  },
  {
   "cell_type": "code",
   "execution_count": 26,
   "metadata": {},
   "outputs": [
    {
     "data": {
      "image/png": "[encoded data removed]",
      "text/latex": [
       "$\\displaystyle - \\left(\\tilde{r}_+ - 1\\right) \\left(\\tilde{r}_+ + 1\\right)$"
      ],
      "text/plain": [
       "-(\\tilde{r}₊ - 1)⋅(\\tilde{r}₊ + 1)"
      ]
     },
     "execution_count": 26,
     "metadata": {},
     "output_type": "execute_result"
    }
   ],
   "source": [
    "C_coeff_11 = g_11_simp.coeff(r_tilde ** 4).simplify().factor()\n",
    "C_coeff_11"
   ]
  },
  {
   "cell_type": "code",
   "execution_count": 27,
   "metadata": {},
   "outputs": [
    {
     "data": {
      "image/png": "[encoded data removed]",
      "text/latex": [
       "$\\displaystyle \\tilde{r}_+^{6} \\left(\\tilde{r}_+^{4} \\sin^{2}{\\left(\\theta \\right)} - \\tilde{r}_+^{4} - 2 \\tilde{r}_+^{2} \\sin^{2}{\\left(\\theta \\right)} + \\tilde{r}_+^{2} - \\sin^{2}{\\left(\\theta \\right)}\\right)$"
      ],
      "text/plain": [
       "          6 ⎛          4    2                4               2    2           \n",
       "\\tilde{r}₊ ⋅⎝\\tilde{r}₊ ⋅sin (θ) - \\tilde{r}₊  - 2⋅\\tilde{r}₊ ⋅sin (θ) + \\tild\n",
       "\n",
       "     2      2   ⎞\n",
       "e{r}₊  - sin (θ)⎠"
      ]
     },
     "execution_count": 27,
     "metadata": {},
     "output_type": "execute_result"
    }
   ],
   "source": [
    "D_coeff_11 = g_11_simp - A_coeff_11 * r_tilde - B_coeff_11 * r_tilde ** 2 - C_coeff_11 * r_tilde ** 4\n",
    "D_coeff_11 = D_coeff_11.simplify().factor()\n",
    "D_coeff_11"
   ]
  },
  {
   "attachments": {},
   "cell_type": "markdown",
   "metadata": {},
   "source": [
    "This is the same as:"
   ]
  },
  {
   "cell_type": "code",
   "execution_count": 28,
   "metadata": {},
   "outputs": [
    {
     "data": {
      "image/png": "[encoded data removed]",
      "text/latex": [
       "$\\displaystyle - \\tilde{r}_+^{6} \\left(\\tilde{r}_+^{4} \\cos^{2}{\\left(\\theta \\right)} - \\tilde{r}_+^{2} \\cos{\\left(2 \\theta \\right)} + \\sin^{2}{\\left(\\theta \\right)}\\right)$"
      ],
      "text/plain": [
       "           6 ⎛          4    2                2               2   ⎞\n",
       "-\\tilde{r}₊ ⋅⎝\\tilde{r}₊ ⋅cos (θ) - \\tilde{r}₊ ⋅cos(2⋅θ) + sin (θ)⎠"
      ]
     },
     "execution_count": 28,
     "metadata": {},
     "output_type": "execute_result"
    }
   ],
   "source": [
    "D_coeff_11_new = -r_tilde_plus ** 6 * (r_tilde_plus ** 4 * sympy.cos(theta) ** 2 - r_tilde_plus ** 2 * sympy.cos(2 * theta) + sympy.sin(theta) ** 2)\n",
    "D_coeff_11_new"
   ]
  },
  {
   "cell_type": "code",
   "execution_count": 29,
   "metadata": {},
   "outputs": [
    {
     "data": {
      "image/png": "[encoded data removed]",
      "text/latex": [
       "$\\displaystyle - \\tilde{r}_+^{6} \\left(\\tilde{r}_+^{2} + 1\\right)^{2} + \\tilde{r}_+^{6} \\left(\\tilde{r}_+^{4} \\sin^{2}{\\left(\\theta \\right)} + 2 \\tilde{r}_+^{2} \\cos^{2}{\\left(\\theta \\right)} + \\tilde{r}_+^{2} + \\cos^{2}{\\left(\\theta \\right)}\\right)$"
      ],
      "text/plain": [
       "                               2                                              \n",
       "            6 ⎛          2    ⎞              6 ⎛          4    2              \n",
       "- \\tilde{r}₊ ⋅⎝\\tilde{r}₊  + 1⎠  + \\tilde{r}₊ ⋅⎝\\tilde{r}₊ ⋅sin (θ) + 2⋅\\tilde\n",
       "\n",
       "                                      \n",
       "    2    2                2      2   ⎞\n",
       "{r}₊ ⋅cos (θ) + \\tilde{r}₊  + cos (θ)⎠"
      ]
     },
     "execution_count": 29,
     "metadata": {},
     "output_type": "execute_result"
    }
   ],
   "source": [
    "D_coeff_11_new = r_tilde_plus ** 6 * (r_tilde_plus ** 4 * sympy.sin(theta) ** 2 + r_tilde_plus ** 2 + 2 * r_tilde_plus ** 2 * sympy.cos(theta) ** 2 + sympy.cos(theta) ** 2)\n",
    "D_coeff_11_new -= r_tilde_plus ** 6 * (r_tilde_plus ** 2 + 1) ** 2\n",
    "D_coeff_11_new"
   ]
  },
  {
   "cell_type": "code",
   "execution_count": 30,
   "metadata": {},
   "outputs": [
    {
     "data": {
      "image/png": "[encoded data removed]",
      "text/latex": [
       "$\\displaystyle \\tilde{r}_+^{6} \\left(\\tilde{r}_+^{2} \\cdot \\left(1 - \\tilde{r}_+^{2}\\right) + \\left(\\tilde{r}_+^{2} - 1\\right)^{2} \\sin^{2}{\\left(\\theta \\right)} - 2 \\sin^{2}{\\left(\\theta \\right)}\\right)$"
      ],
      "text/plain": [
       "            ⎛                                                 2               \n",
       "          6 ⎜          2 ⎛              2⎞   ⎛          2    ⎞     2          \n",
       "\\tilde{r}₊ ⋅⎝\\tilde{r}₊ ⋅⎝1 - \\tilde{r}₊ ⎠ + ⎝\\tilde{r}₊  - 1⎠ ⋅sin (θ) - 2⋅si\n",
       "\n",
       "     ⎞\n",
       " 2   ⎟\n",
       "n (θ)⎠"
      ]
     },
     "execution_count": 30,
     "metadata": {},
     "output_type": "execute_result"
    }
   ],
   "source": [
    "D_coeff_11_new = r_tilde_plus ** 6 * (sympy.sin(theta) ** 2 * (r_tilde_plus ** 2 - 1) ** 2 + r_tilde_plus ** 2 * (1 - r_tilde_plus ** 2) - 2 * sympy.sin(theta) ** 2)\n",
    "D_coeff_11_new"
   ]
  },
  {
   "cell_type": "code",
   "execution_count": 31,
   "metadata": {},
   "outputs": [
    {
     "data": {
      "image/png": "[encoded data removed]",
      "text/latex": [
       "$\\displaystyle 0$"
      ],
      "text/plain": [
       "0"
      ]
     },
     "execution_count": 31,
     "metadata": {},
     "output_type": "execute_result"
    }
   ],
   "source": [
    "(D_coeff_11 - D_coeff_11_new).simplify()"
   ]
  },
  {
   "cell_type": "code",
   "execution_count": 32,
   "metadata": {},
   "outputs": [
    {
     "data": {
      "image/png": "[encoded data removed]",
      "text/latex": [
       "$\\displaystyle - \\tilde{r}^{4} \\left(\\tilde{r}_+ - 1\\right) \\left(\\tilde{r}_+ + 1\\right) - \\tilde{r}^{2} \\tilde{r}_+^{4} \\left(\\tilde{r}_+ - 1\\right) \\left(\\tilde{r}_+ + 1\\right) \\left(\\cos^{2}{\\left(\\theta \\right)} + 1\\right) + 2 \\tilde{r} \\tilde{r}_+^{5} \\left(\\tilde{r}_+^{2} + 1\\right) \\sin^{2}{\\left(\\theta \\right)} + \\tilde{r}_+^{6} \\left(\\tilde{r}_+^{4} \\sin^{2}{\\left(\\theta \\right)} - \\tilde{r}_+^{4} - 2 \\tilde{r}_+^{2} \\sin^{2}{\\left(\\theta \\right)} + \\tilde{r}_+^{2} - \\sin^{2}{\\left(\\theta \\right)}\\right)$"
      ],
      "text/plain": [
       "           4                                              2           4       \n",
       "- \\tilde{r} ⋅(\\tilde{r}₊ - 1)⋅(\\tilde{r}₊ + 1) - \\tilde{r} ⋅\\tilde{r}₊ ⋅(\\tild\n",
       "\n",
       "                            ⎛   2       ⎞                         5 ⎛         \n",
       "e{r}₊ - 1)⋅(\\tilde{r}₊ + 1)⋅⎝cos (θ) + 1⎠ + 2⋅\\tilde{r}⋅\\tilde{r}₊ ⋅⎝\\tilde{r}\n",
       "\n",
       " 2    ⎞    2                6 ⎛          4    2                4              \n",
       "₊  + 1⎠⋅sin (θ) + \\tilde{r}₊ ⋅⎝\\tilde{r}₊ ⋅sin (θ) - \\tilde{r}₊  - 2⋅\\tilde{r}\n",
       "\n",
       " 2    2                2      2   ⎞\n",
       "₊ ⋅sin (θ) + \\tilde{r}₊  - sin (θ)⎠"
      ]
     },
     "execution_count": 32,
     "metadata": {},
     "output_type": "execute_result"
    }
   ],
   "source": [
    "sigma_quartic = C_coeff_11 * r_tilde ** 4 + B_coeff_11 * r_tilde ** 2 + A_coeff_11 * r_tilde + D_coeff_11\n",
    "sigma_quartic"
   ]
  },
  {
   "cell_type": "code",
   "execution_count": 33,
   "metadata": {},
   "outputs": [
    {
     "data": {
      "image/png": "[encoded data removed]",
      "text/latex": [
       "$\\displaystyle 0$"
      ],
      "text/plain": [
       "0"
      ]
     },
     "execution_count": 33,
     "metadata": {},
     "output_type": "execute_result"
    }
   ],
   "source": [
    "(sigma_quartic - g_11_simp).simplify()"
   ]
  },
  {
   "cell_type": "code",
   "execution_count": 34,
   "metadata": {},
   "outputs": [
    {
     "data": {
      "image/png": "[encoded data removed]",
      "text/latex": [
       "$\\displaystyle \\tilde{r}_+^{6} \\left(\\tilde{r}_+^{4} \\sin^{2}{\\left(\\theta \\right)} - \\tilde{r}_+^{4} - 2 \\tilde{r}_+^{2} \\sin^{2}{\\left(\\theta \\right)} + \\tilde{r}_+^{2} - \\sin^{2}{\\left(\\theta \\right)}\\right)$"
      ],
      "text/plain": [
       "          6 ⎛          4    2                4               2    2           \n",
       "\\tilde{r}₊ ⋅⎝\\tilde{r}₊ ⋅sin (θ) - \\tilde{r}₊  - 2⋅\\tilde{r}₊ ⋅sin (θ) + \\tild\n",
       "\n",
       "     2      2   ⎞\n",
       "e{r}₊  - sin (θ)⎠"
      ]
     },
     "execution_count": 34,
     "metadata": {},
     "output_type": "execute_result"
    }
   ],
   "source": [
    "D_coeff_11.factor()"
   ]
  },
  {
   "attachments": {},
   "cell_type": "markdown",
   "metadata": {},
   "source": [
    "Get the roots."
   ]
  },
  {
   "cell_type": "code",
   "execution_count": 35,
   "metadata": {},
   "outputs": [],
   "source": [
    "sol = sympy.solve(sigma_quartic, r_tilde)"
   ]
  },
  {
   "cell_type": "code",
   "execution_count": 36,
   "metadata": {},
   "outputs": [],
   "source": [
    "roots = {}\n",
    "\n",
    "r_tilde_plus_vals = range(1, 21)\n",
    "theta_val = np.pi / 2\n",
    "\n",
    "for r_tilde_plus_val in r_tilde_plus_vals:\n",
    "    root_vals = []\n",
    "    for i in range(4):\n",
    "        root = sol[i].subs({r_tilde_plus: r_tilde_plus_val, theta: theta_val}).evalf()\n",
    "        root_vals.append(root)\n",
    "    roots[r_tilde_plus_val] = root_vals"
   ]
  },
  {
   "cell_type": "code",
   "execution_count": 37,
   "metadata": {},
   "outputs": [
    {
     "data": {
      "text/latex": [
       "$\\displaystyle \\left\\{ 1 : \\left[ \\text{NaN}, \\  \\text{NaN}, \\  \\text{NaN}, \\  \\text{NaN}\\right], \\  2 : \\left[ -2.0655502102563 - 5.01763867140387 i, \\  -2.0655502102563 + 5.01763867140387 i, \\  1.26323948828632, \\  2.86786093222627\\right], \\  3 : \\left[ -3.01671329135522 - 9.99725386493028 i, \\  -3.01671329135522 + 9.99725386493028 i, \\  2.15417826285794, \\  3.87924831985251\\right], \\  4 : \\left[ -4.00553403306599 - 16.9973687937857 i, \\  -4.00553403306599 + 16.9973687937857 i, \\  3.09892489354698, \\  4.91214317258501\\right], \\  5 : \\left[ -5.00217667639291 - 25.9983869339842 i, \\  -5.00217667639291 + 25.9983869339842 i, \\  4.06805668117599, \\  5.93629667160983\\right], \\  6 : \\left[ -6.00097514588222 - 36.9990399662361 i, \\  -6.00097514588222 + 36.9990399662361 i, \\  5.04936964981481, \\  6.95258064194963\\right], \\  7 : \\left[ -7.00048346330319 - 49.9994123896809 i, \\  -7.00048346330319 + 49.9994123896809 i, \\  6.03731064733864, \\  7.96365627926773\\right], \\  8 : \\left[ -8.00025976251418 - 64.9996263160169 i, \\  -8.00025976251418 + 64.9996263160169 i, \\  7.02912193170218, \\  8.97139759332619\\right], \\  9 : \\left[ -9.00014892574029 - 81.9997532989462 i, \\  -9.00014892574029 + 81.9997532989462 i, \\  8.02332769489109, \\  9.97697015658948\\right], \\  10 : \\left[ -10.0000900483062 - 100.999831527909 i, \\  -10.0000900483062 + 100.999831527909 i, \\  9.01908713418578, \\  10.9810929624267\\right], \\  11 : \\left[ -11.0000569141056 - 121.999881467305 i, \\  -11.0000569141056 + 121.999881467305 i, \\  10.0158954388096, \\  11.9842183894016\\right], \\  12 : \\left[ -12.0000373415834 - 144.999914396346 i, \\  -12.0000373415834 + 144.999914396346 i, \\  11.0134358269079, \\  12.986638856259\\right], \\  13 : \\left[ -13.0000252940363 - 169.999936746466 i, \\  -13.0000252940363 + 169.999936746466 i, \\  12.0115018945088, \\  13.9885486935639\\right], \\  14 : \\left[ -14.0000176113819 - 196.999952311454 i, \\  -14.0000176113819 + 196.999952311454 i, \\  13.0099547461364, \\  14.9900804766274\\right], \\  15 : \\left[ -15.0000125595593 - 225.999963401767 i, \\  -15.0000125595593 + 225.999963401767 i, \\  14.0086982673489, \\  15.9913268517697\\right], \\  16 : \\left[ -16.0000091472902 - 256.999971466364 i, \\  -16.0000091472902 + 256.999971466364 i, \\  15.007664305447, \\  16.9923539891334\\right], \\  17 : \\left[ -17.0000067872519 - 289.999977438495 i, \\  -17.0000067872519 + 289.999977438495 i, \\  16.0068034877475, \\  17.9932100867562\\right], \\  18 : \\left[ -18.0000051202953 - 324.999981933966 i, \\  -18.0000051202953 + 324.999981933966 i, \\  17.0060793599914, \\  18.9939308805992\\right], \\  19 : \\left[ -19.0000039205525 - 361.999985368134 i, \\  -19.0000039205525 + 361.999985368134 i, \\  18.0054645461326, \\  19.9945432949725\\right], \\  20 : \\left[ -20.0000030423706 - 400.999988026783 i, \\  -20.0000030423706 + 400.999988026783 i, \\  19.0049381750346, \\  20.9950679097067\\right]\\right\\}$"
      ],
      "text/plain": [
       "{1: [nan, nan, nan, nan], 2: [-2.0655502102563 - 5.01763867140387⋅ⅈ, -2.065550\n",
       "2102563 + 5.01763867140387⋅ⅈ, 1.26323948828632, 2.86786093222627], 3: [-3.0167\n",
       "1329135522 - 9.99725386493028⋅ⅈ, -3.01671329135522 + 9.99725386493028⋅ⅈ, 2.154\n",
       "17826285794, 3.87924831985251], 4: [-4.00553403306599 - 16.9973687937857⋅ⅈ, -4\n",
       ".00553403306599 + 16.9973687937857⋅ⅈ, 3.09892489354698, 4.91214317258501], 5: \n",
       "[-5.00217667639291 - 25.9983869339842⋅ⅈ, -5.00217667639291 + 25.9983869339842⋅\n",
       "ⅈ, 4.06805668117599, 5.93629667160983], 6: [-6.00097514588222 - 36.99903996623\n",
       "61⋅ⅈ, -6.00097514588222 + 36.9990399662361⋅ⅈ, 5.04936964981481, 6.952580641949\n",
       "63], 7: [-7.00048346330319 - 49.9994123896809⋅ⅈ, -7.00048346330319 + 49.999412\n",
       "3896809⋅ⅈ, 6.03731064733864, 7.96365627926773], 8: [-8.00025976251418 - 64.999\n",
       "6263160169⋅ⅈ, -8.00025976251418 + 64.9996263160169⋅ⅈ, 7.02912193170218, 8.9713\n",
       "9759332619], 9: [-9.00014892574029 - 81.9997532989462⋅ⅈ, -9.00014892574029 + 8\n",
       "1.9997532989462⋅ⅈ, 8.02332769489109, 9.97697015658948], 10: [-10.0000900483062\n",
       " - 100.999831527909⋅ⅈ, -10.0000900483062 + 100.999831527909⋅ⅈ, 9.0190871341857\n",
       "8, 10.9810929624267], 11: [-11.0000569141056 - 121.999881467305⋅ⅈ, -11.0000569\n",
       "141056 + 121.999881467305⋅ⅈ, 10.0158954388096, 11.9842183894016], 12: [-12.000\n",
       "0373415834 - 144.999914396346⋅ⅈ, -12.0000373415834 + 144.999914396346⋅ⅈ, 11.01\n",
       "34358269079, 12.986638856259], 13: [-13.0000252940363 - 169.999936746466⋅ⅈ, -1\n",
       "3.0000252940363 + 169.999936746466⋅ⅈ, 12.0115018945088, 13.9885486935639], 14:\n",
       " [-14.0000176113819 - 196.999952311454⋅ⅈ, -14.0000176113819 + 196.999952311454\n",
       "⋅ⅈ, 13.0099547461364, 14.9900804766274], 15: [-15.0000125595593 - 225.99996340\n",
       "1767⋅ⅈ, -15.0000125595593 + 225.999963401767⋅ⅈ, 14.0086982673489, 15.991326851\n",
       "7697], 16: [-16.0000091472902 - 256.999971466364⋅ⅈ, -16.0000091472902 + 256.99\n",
       "9971466364⋅ⅈ, 15.007664305447, 16.9923539891334], 17: [-17.0000067872519 - 289\n",
       ".999977438495⋅ⅈ, -17.0000067872519 + 289.999977438495⋅ⅈ, 16.0068034877475, 17.\n",
       "9932100867562], 18: [-18.0000051202953 - 324.999981933966⋅ⅈ, -18.0000051202953\n",
       " + 324.999981933966⋅ⅈ, 17.0060793599914, 18.9939308805992], 19: [-19.000003920\n",
       "5525 - 361.999985368134⋅ⅈ, -19.0000039205525 + 361.999985368134⋅ⅈ, 18.00546454\n",
       "61326, 19.9945432949725], 20: [-20.0000030423706 - 400.999988026783⋅ⅈ, -20.000\n",
       "0030423706 + 400.999988026783⋅ⅈ, 19.0049381750346, 20.9950679097067]}"
      ]
     },
     "execution_count": 37,
     "metadata": {},
     "output_type": "execute_result"
    }
   ],
   "source": [
    "roots"
   ]
  },
  {
   "cell_type": "code",
   "execution_count": 38,
   "metadata": {},
   "outputs": [
    {
     "data": {
      "image/png": "[encoded data removed]",
      "text/latex": [
       "$\\displaystyle \\left[ 0, \\  5.01763867140387, \\  9.99725386493028, \\  16.9973687937857, \\  25.9983869339842, \\  36.9990399662361, \\  49.9994123896809, \\  64.9996263160169, \\  81.9997532989462, \\  100.999831527909, \\  121.999881467305, \\  144.999914396346, \\  169.999936746466, \\  196.999952311454, \\  225.999963401767, \\  256.999971466364, \\  289.999977438495, \\  324.999981933966, \\  361.999985368134, \\  400.999988026783\\right]$"
      ],
      "text/plain": [
       "[0, 5.01763867140387, 9.99725386493028, 16.9973687937857, 25.9983869339842, 36\n",
       ".9990399662361, 49.9994123896809, 64.9996263160169, 81.9997532989462, 100.9998\n",
       "31527909, 121.999881467305, 144.999914396346, 169.999936746466, 196.9999523114\n",
       "54, 225.999963401767, 256.999971466364, 289.999977438495, 324.999981933966, 36\n",
       "1.999985368134, 400.999988026783]"
      ]
     },
     "execution_count": 38,
     "metadata": {},
     "output_type": "execute_result"
    }
   ],
   "source": [
    "root_imag_part = [r[1].coeff(sympy.I) for r in roots.values()]\n",
    "root_imag_part"
   ]
  },
  {
   "cell_type": "code",
   "execution_count": 39,
   "metadata": {},
   "outputs": [
    {
     "data": {
      "image/png": "[encoded data removed]",
      "text/latex": [
       "$\\displaystyle \\left[ 1, \\  4, \\  9, \\  16, \\  25, \\  36, \\  49, \\  64, \\  81, \\  100, \\  121, \\  144, \\  169, \\  196, \\  225, \\  256, \\  289, \\  324, \\  361, \\  400\\right]$"
      ],
      "text/plain": [
       "[1, 4, 9, 16, 25, 36, 49, 64, 81, 100, 121, 144, 169, 196, 225, 256, 289, 324,\n",
       " 361, 400]"
      ]
     },
     "execution_count": 39,
     "metadata": {},
     "output_type": "execute_result"
    }
   ],
   "source": [
    "[r ** 2 for r in r_tilde_plus_vals]"
   ]
  },
  {
   "cell_type": "code",
   "execution_count": 40,
   "metadata": {},
   "outputs": [
    {
     "data": {
      "text/latex": [
       "$\\displaystyle \\left[ \\text{NaN}, \\  -2.0655502102563, \\  -3.01671329135522, \\  -4.00553403306599, \\  -5.00217667639291, \\  -6.00097514588222, \\  -7.00048346330319, \\  -8.00025976251418, \\  -9.00014892574029, \\  -10.0000900483062, \\  -11.0000569141056, \\  -12.0000373415834, \\  -13.0000252940363, \\  -14.0000176113819, \\  -15.0000125595593, \\  -16.0000091472902, \\  -17.0000067872519, \\  -18.0000051202953, \\  -19.0000039205525, \\  -20.0000030423706\\right]$"
      ],
      "text/plain": [
       "[nan, -2.0655502102563, -3.01671329135522, -4.00553403306599, -5.0021766763929\n",
       "1, -6.00097514588222, -7.00048346330319, -8.00025976251418, -9.00014892574029,\n",
       " -10.0000900483062, -11.0000569141056, -12.0000373415834, -13.0000252940363, -\n",
       "14.0000176113819, -15.0000125595593, -16.0000091472902, -17.0000067872519, -18\n",
       ".0000051202953, -19.0000039205525, -20.0000030423706]"
      ]
     },
     "execution_count": 40,
     "metadata": {},
     "output_type": "execute_result"
    }
   ],
   "source": [
    "root_real_part = [r[1] - sympy.I * r[1].coeff(sympy.I) for r in roots.values()]\n",
    "root_real_part"
   ]
  },
  {
   "cell_type": "code",
   "execution_count": 41,
   "metadata": {},
   "outputs": [
    {
     "data": {
      "image/png": "[encoded data removed]",
      "text/plain": [
       "<Figure size 640x480 with 1 Axes>"
      ]
     },
     "metadata": {},
     "output_type": "display_data"
    }
   ],
   "source": [
    "plt.plot(r_tilde_plus_vals, root_imag_part, 'x-');"
   ]
  },
  {
   "cell_type": "code",
   "execution_count": 42,
   "metadata": {},
   "outputs": [
    {
     "data": {
      "image/png": "[encoded data removed]",
      "text/plain": [
       "<Figure size 640x480 with 1 Axes>"
      ]
     },
     "metadata": {},
     "output_type": "display_data"
    }
   ],
   "source": [
    "plt.plot(r_tilde_plus_vals, root_real_part, 'x-');"
   ]
  },
  {
   "attachments": {},
   "cell_type": "markdown",
   "metadata": {},
   "source": [
    "Plot the function."
   ]
  },
  {
   "cell_type": "code",
   "execution_count": 43,
   "metadata": {},
   "outputs": [],
   "source": [
    "# this constraint has to be satisfied: r_tilde_plus ** 2 < 1\n",
    "r_tilde_plus_val = 0.1\n",
    "\n",
    "r_tilde_vals = np.linspace(0.1, 10, 50)\n",
    "theta_val = 2 * np.pi / 3\n",
    "\n",
    "sigma_quartic_vals = []\n",
    "\n",
    "for r_tilde_val in r_tilde_vals:\n",
    "    sigma_quartic_vals.append(sigma_quartic.subs({r_tilde_plus: r_tilde_plus_val, r_tilde: r_tilde_val, theta: theta_val}))"
   ]
  },
  {
   "cell_type": "code",
   "execution_count": 44,
   "metadata": {},
   "outputs": [
    {
     "data": {
      "image/png": "[encoded data removed]",
      "text/latex": [
       "$\\displaystyle \\left[ 0.000100997475, \\  0.00825455120829062, \\  0.0639586092430264, \\  0.246196385178428, \\  0.673542678164717, \\  1.50416387290312, \\  2.93581793964586, \\  5.20585443419616, \\  8.59121449790826, \\  13.4084308576874, \\  20.0136278259898, \\  28.8025213008226, \\  40.2104187657442, \\  54.7122192898638, \\  72.8224135278415, \\  95.0950837198888, \\  122.123903691768, \\  154.542138854791, \\  193.022646205824, \\  238.277874327282, \\  291.05986338713, \\  352.160245138886, \\  422.410242921618, \\  502.680671659946, \\  593.881937864039, \\  696.964039629619, \\  812.916566637958, \\  942.76870015588, \\  1087.58921303576, \\  1248.48646971552, \\  1426.60842621864, \\  1623.14263015414, \\  1839.31622071661, \\  2076.39592868617, \\  2335.68807642851, \\  2618.53857789485, \\  2926.33293862197, \\  3260.49625573222, \\  3622.49321793347, \\  4013.82810551916, \\  4436.04479036828, \\  4890.72673594536, \\  5379.49699730049, \\  5904.01822106931, \\  6465.99264547301, \\  7067.16210031834, \\  7709.30800699758, \\  8394.25137848858, \\  9123.85281935473, \\  9900.01252574497\\right]$"
      ],
      "text/plain": [
       "[0.000100997475, 0.00825455120829062, 0.0639586092430264, 0.246196385178428, 0\n",
       ".673542678164717, 1.50416387290312, 2.93581793964586, 5.20585443419616, 8.5912\n",
       "1449790826, 13.4084308576874, 20.0136278259898, 28.8025213008226, 40.210418765\n",
       "7442, 54.7122192898638, 72.8224135278415, 95.0950837198888, 122.123903691768, \n",
       "154.542138854791, 193.022646205824, 238.277874327282, 291.05986338713, 352.160\n",
       "245138886, 422.410242921618, 502.680671659946, 593.881937864039, 696.964039629\n",
       "619, 812.916566637958, 942.76870015588, 1087.58921303576, 1248.48646971552, 14\n",
       "26.60842621864, 1623.14263015414, 1839.31622071661, 2076.39592868617, 2335.688\n",
       "07642851, 2618.53857789485, 2926.33293862197, 3260.49625573222, 3622.493217933\n",
       "47, 4013.82810551916, 4436.04479036828, 4890.72673594536, 5379.49699730049, 59\n",
       "04.01822106931, 6465.99264547301, 7067.16210031834, 7709.30800699758, 8394.251\n",
       "37848858, 9123.85281935473, 9900.01252574497]"
      ]
     },
     "execution_count": 44,
     "metadata": {},
     "output_type": "execute_result"
    }
   ],
   "source": [
    "sigma_quartic_vals"
   ]
  },
  {
   "cell_type": "code",
   "execution_count": 45,
   "metadata": {},
   "outputs": [
    {
     "data": {
      "image/png": "[encoded data removed]",
      "text/plain": [
       "<Figure size 640x480 with 1 Axes>"
      ]
     },
     "metadata": {},
     "output_type": "display_data"
    }
   ],
   "source": [
    "plt.plot(r_tilde_vals, sigma_quartic_vals, 'x-');"
   ]
  },
  {
   "attachments": {},
   "cell_type": "markdown",
   "metadata": {},
   "source": [
    "#### Wick Rotation + Omega Shift"
   ]
  },
  {
   "cell_type": "code",
   "execution_count": 46,
   "metadata": {},
   "outputs": [
    {
     "data": {
      "image/png": "[encoded data removed]",
      "text/latex": [
       "$\\displaystyle i \\Omega d\\tau + d\\tilde{\\phi}$"
      ],
      "text/plain": [
       "ⅈ⋅Ω⋅d\\tau + d\\tilde{\\phi}"
      ]
     },
     "execution_count": 46,
     "metadata": {},
     "output_type": "execute_result"
    }
   ],
   "source": [
    "omega = sympy.symbols(\"Omega\")\n",
    "dphi_val = dphi_tilde + omega * dt_val\n",
    "dphi_val"
   ]
  },
  {
   "cell_type": "code",
   "execution_count": 47,
   "metadata": {},
   "outputs": [
    {
     "data": {
      "image/png": "[encoded data removed]",
      "text/latex": [
       "$\\displaystyle d\\tau^{2} \\left(\\frac{\\Delta_{r} \\Omega^{2} a^{2} \\sin^{4}{\\left(\\theta \\right)}}{W \\Xi^{2}} - \\frac{2 \\Delta_{r} \\Omega a \\sin^{2}{\\left(\\theta \\right)}}{W \\Xi} + \\frac{\\Delta_{r}}{W} - \\frac{\\Delta_{\\theta} \\Omega^{2} \\tilde{r}^{4} \\sin^{2}{\\left(\\theta \\right)}}{W \\Xi^{2}} - \\frac{2 \\Delta_{\\theta} \\Omega^{2} \\tilde{r}^{2} a^{2} \\sin^{2}{\\left(\\theta \\right)}}{W \\Xi^{2}} - \\frac{\\Delta_{\\theta} \\Omega^{2} a^{4} \\sin^{2}{\\left(\\theta \\right)}}{W \\Xi^{2}} + \\frac{2 \\Delta_{\\theta} \\Omega \\tilde{r}^{2} a \\sin^{2}{\\left(\\theta \\right)}}{W \\Xi} + \\frac{2 \\Delta_{\\theta} \\Omega a^{3} \\sin^{2}{\\left(\\theta \\right)}}{W \\Xi} - \\frac{\\Delta_{\\theta} a^{2} \\sin^{2}{\\left(\\theta \\right)}}{W}\\right) + d\\tau d\\tilde{\\phi} \\left(- \\frac{2 i \\Delta_{r} \\Omega a^{2} \\sin^{4}{\\left(\\theta \\right)}}{W \\Xi^{2}} + \\frac{2 i \\Delta_{r} a \\sin^{2}{\\left(\\theta \\right)}}{W \\Xi} + \\frac{2 i \\Delta_{\\theta} \\Omega \\tilde{r}^{4} \\sin^{2}{\\left(\\theta \\right)}}{W \\Xi^{2}} + \\frac{4 i \\Delta_{\\theta} \\Omega \\tilde{r}^{2} a^{2} \\sin^{2}{\\left(\\theta \\right)}}{W \\Xi^{2}} + \\frac{2 i \\Delta_{\\theta} \\Omega a^{4} \\sin^{2}{\\left(\\theta \\right)}}{W \\Xi^{2}} - \\frac{2 i \\Delta_{\\theta} \\tilde{r}^{2} a \\sin^{2}{\\left(\\theta \\right)}}{W \\Xi} - \\frac{2 i \\Delta_{\\theta} a^{3} \\sin^{2}{\\left(\\theta \\right)}}{W \\Xi}\\right) + d\\tilde{\\phi}^{2} \\left(- \\frac{\\Delta_{r} a^{2} \\sin^{4}{\\left(\\theta \\right)}}{W \\Xi^{2}} + \\frac{\\Delta_{\\theta} \\tilde{r}^{4} \\sin^{2}{\\left(\\theta \\right)}}{W \\Xi^{2}} + \\frac{2 \\Delta_{\\theta} \\tilde{r}^{2} a^{2} \\sin^{2}{\\left(\\theta \\right)}}{W \\Xi^{2}} + \\frac{\\Delta_{\\theta} a^{4} \\sin^{2}{\\left(\\theta \\right)}}{W \\Xi^{2}}\\right)$"
      ],
      "text/plain": [
       "       ⎛    2  2    4                  2                   2          4    2  \n",
       "     2 ⎜Δᵣ⋅Ω ⋅a ⋅sin (θ)   2⋅Δᵣ⋅Ω⋅a⋅sin (θ)   Δᵣ   Δₜₕₑₜₐ⋅Ω ⋅\\tilde{r} ⋅sin (θ\n",
       "d\\tau ⋅⎜──────────────── - ──────────────── + ── - ───────────────────────────\n",
       "       ⎜         2               W⋅Ξ          W                   2           \n",
       "       ⎝      W⋅Ξ                                              W⋅Ξ            \n",
       "\n",
       "              2          2  2    2              2  4    2                     \n",
       ")   2⋅Δₜₕₑₜₐ⋅Ω ⋅\\tilde{r} ⋅a ⋅sin (θ)   Δₜₕₑₜₐ⋅Ω ⋅a ⋅sin (θ)   2⋅Δₜₕₑₜₐ⋅Ω⋅\\til\n",
       "─ - ───────────────────────────────── - ──────────────────── + ───────────────\n",
       "                      2                            2                         W\n",
       "                   W⋅Ξ                          W⋅Ξ                           \n",
       "\n",
       "     2      2                  3    2              2    2   ⎞                 \n",
       "de{r} ⋅a⋅sin (θ)   2⋅Δₜₕₑₜₐ⋅Ω⋅a ⋅sin (θ)   Δₜₕₑₜₐ⋅a ⋅sin (θ)⎟                 \n",
       "──────────────── + ───────────────────── - ─────────────────⎟ + d\\tau⋅d\\tilde{\n",
       "⋅Ξ                          W⋅Ξ                    W        ⎟                 \n",
       "                                                            ⎠                 \n",
       "\n",
       "      ⎛            2    4                  2                            4    2\n",
       "      ⎜  2⋅ⅈ⋅Δᵣ⋅Ω⋅a ⋅sin (θ)   2⋅ⅈ⋅Δᵣ⋅a⋅sin (θ)   2⋅ⅈ⋅Δₜₕₑₜₐ⋅Ω⋅\\tilde{r} ⋅sin \n",
       "\\phi}⋅⎜- ─────────────────── + ──────────────── + ────────────────────────────\n",
       "      ⎜             2                W⋅Ξ                           2          \n",
       "      ⎝          W⋅Ξ                                            W⋅Ξ           \n",
       "\n",
       "                            2  2    2                    4    2               \n",
       "(θ)   4⋅ⅈ⋅Δₜₕₑₜₐ⋅Ω⋅\\tilde{r} ⋅a ⋅sin (θ)   2⋅ⅈ⋅Δₜₕₑₜₐ⋅Ω⋅a ⋅sin (θ)   2⋅ⅈ⋅Δₜₕₑₜ\n",
       "─── + ────────────────────────────────── + ─────────────────────── - ─────────\n",
       "                        2                               2                     \n",
       "                     W⋅Ξ                             W⋅Ξ                      \n",
       "\n",
       "           2      2                  3    2   ⎞                  ⎛      2    4\n",
       "ₐ⋅\\tilde{r} ⋅a⋅sin (θ)   2⋅ⅈ⋅Δₜₕₑₜₐ⋅a ⋅sin (θ)⎟                2 ⎜  Δᵣ⋅a ⋅sin \n",
       "────────────────────── - ─────────────────────⎟ + d\\tilde{\\phi} ⋅⎜- ──────────\n",
       "     W⋅Ξ                          W⋅Ξ         ⎟                  ⎜          2 \n",
       "                                              ⎠                  ⎝       W⋅Ξ  \n",
       "\n",
       "                      4    2                        2  2    2              4  \n",
       "(θ)   Δₜₕₑₜₐ⋅\\tilde{r} ⋅sin (θ)   2⋅Δₜₕₑₜₐ⋅\\tilde{r} ⋅a ⋅sin (θ)   Δₜₕₑₜₐ⋅a ⋅s\n",
       "─── + ───────────────────────── + ────────────────────────────── + ───────────\n",
       "                    2                             2                          2\n",
       "                 W⋅Ξ                           W⋅Ξ                        W⋅Ξ \n",
       "\n",
       "  2   ⎞\n",
       "in (θ)⎟\n",
       "──────⎟\n",
       "      ⎟\n",
       "      ⎠"
      ]
     },
     "execution_count": 47,
     "metadata": {},
     "output_type": "execute_result"
    }
   ],
   "source": [
    "euclidean_metric_2 = euclidean_metric.subs({dphi: dphi_val}).expand().collect([dtau ** 2, dtau * dphi_tilde, dphi_tilde ** 2])\n",
    "euclidean_metric_2"
   ]
  },
  {
   "cell_type": "code",
   "execution_count": 48,
   "metadata": {},
   "outputs": [],
   "source": [
    "metric_list_matrix = [[0 for i in range(2)] for i in range(2)]\n",
    "metric_list_matrix[0][0] = euclidean_metric_2.coeff(dtau ** 2)\n",
    "metric_list_matrix[0][1] = euclidean_metric_2.coeff(dtau * dphi_tilde) / 2\n",
    "metric_list_matrix[1][0] = metric_list_matrix[0][1]\n",
    "metric_list_matrix[1][1] = euclidean_metric_2.coeff(dphi_tilde ** 2)"
   ]
  },
  {
   "cell_type": "code",
   "execution_count": 49,
   "metadata": {},
   "outputs": [
    {
     "data": {
      "text/latex": [
       "$\\displaystyle \\left[\\begin{matrix}\\frac{\\Omega^{2} \\left(\\Delta_{r} a^{2} \\sin^{2}{\\left(\\theta \\right)} - \\Delta_{\\theta} \\tilde{r}^{4} - 2 \\Delta_{\\theta} \\tilde{r}^{2} a^{2} - \\Delta_{\\theta} a^{4}\\right) \\sin^{2}{\\left(\\theta \\right)} + 2 \\Omega \\Xi a \\left(- \\Delta_{r} + \\Delta_{\\theta} \\tilde{r}^{2} + \\Delta_{\\theta} a^{2}\\right) \\sin^{2}{\\left(\\theta \\right)} + \\Xi^{2} \\left(\\Delta_{r} - \\Delta_{\\theta} a^{2} \\sin^{2}{\\left(\\theta \\right)}\\right)}{W \\Xi^{2}} & \\frac{i \\left(\\Omega \\left(- \\Delta_{r} a^{2} \\sin^{2}{\\left(\\theta \\right)} + \\Delta_{\\theta} \\tilde{r}^{4} + 2 \\Delta_{\\theta} \\tilde{r}^{2} a^{2} + \\Delta_{\\theta} a^{4}\\right) + \\Xi a \\left(\\Delta_{r} - \\Delta_{\\theta} \\tilde{r}^{2} - \\Delta_{\\theta} a^{2}\\right)\\right) \\sin^{2}{\\left(\\theta \\right)}}{W \\Xi^{2}}\\\\\\frac{i \\left(\\Omega \\left(- \\Delta_{r} a^{2} \\sin^{2}{\\left(\\theta \\right)} + \\Delta_{\\theta} \\tilde{r}^{4} + 2 \\Delta_{\\theta} \\tilde{r}^{2} a^{2} + \\Delta_{\\theta} a^{4}\\right) + \\Xi a \\left(\\Delta_{r} - \\Delta_{\\theta} \\tilde{r}^{2} - \\Delta_{\\theta} a^{2}\\right)\\right) \\sin^{2}{\\left(\\theta \\right)}}{W \\Xi^{2}} & \\frac{\\left(- \\Delta_{r} a^{2} \\sin^{2}{\\left(\\theta \\right)} + \\Delta_{\\theta} \\tilde{r}^{4} + 2 \\Delta_{\\theta} \\tilde{r}^{2} a^{2} + \\Delta_{\\theta} a^{4}\\right) \\sin^{2}{\\left(\\theta \\right)}}{W \\Xi^{2}}\\end{matrix}\\right]$"
      ],
      "text/plain": [
       "⎡ 2 ⎛    2    2                      4                     2  2           4⎞  \n",
       "⎢Ω ⋅⎝Δᵣ⋅a ⋅sin (θ) - Δₜₕₑₜₐ⋅\\tilde{r}  - 2⋅Δₜₕₑₜₐ⋅\\tilde{r} ⋅a  - Δₜₕₑₜₐ⋅a ⎠⋅s\n",
       "⎢─────────────────────────────────────────────────────────────────────────────\n",
       "⎢                                                                             \n",
       "⎢                                                                             \n",
       "⎢                                                                             \n",
       "⎢                     ⎛  ⎛      2    2                      4                 \n",
       "⎢                   ⅈ⋅⎝Ω⋅⎝- Δᵣ⋅a ⋅sin (θ) + Δₜₕₑₜₐ⋅\\tilde{r}  + 2⋅Δₜₕₑₜₐ⋅\\tild\n",
       "⎢                   ──────────────────────────────────────────────────────────\n",
       "⎢                                                                             \n",
       "⎣                                                                             \n",
       "\n",
       "  2              ⎛                      2           2⎞    2       2 ⎛         \n",
       "in (θ) + 2⋅Ω⋅Ξ⋅a⋅⎝-Δᵣ + Δₜₕₑₜₐ⋅\\tilde{r}  + Δₜₕₑₜₐ⋅a ⎠⋅sin (θ) + Ξ ⋅⎝Δᵣ - Δₜₕₑ\n",
       "──────────────────────────────────────────────────────────────────────────────\n",
       "         2                                                                    \n",
       "      W⋅Ξ                                                                     \n",
       "                                                                              \n",
       "    2  2           4⎞       ⎛                     2           2⎞⎞    2        \n",
       "e{r} ⋅a  + Δₜₕₑₜₐ⋅a ⎠ + Ξ⋅a⋅⎝Δᵣ - Δₜₕₑₜₐ⋅\\tilde{r}  - Δₜₕₑₜₐ⋅a ⎠⎠⋅sin (θ)     \n",
       "─────────────────────────────────────────────────────────────────────────     \n",
       "         2                                                                    \n",
       "      W⋅Ξ                                                                     \n",
       "\n",
       "    2    2   ⎞    ⎛  ⎛      2    2                      4                     \n",
       "ₜₐ⋅a ⋅sin (θ)⎠  ⅈ⋅⎝Ω⋅⎝- Δᵣ⋅a ⋅sin (θ) + Δₜₕₑₜₐ⋅\\tilde{r}  + 2⋅Δₜₕₑₜₐ⋅\\tilde{r}\n",
       "──────────────  ──────────────────────────────────────────────────────────────\n",
       "                                                                              \n",
       "                                                                              \n",
       "                                                                              \n",
       "                                        ⎛      2    2                      4  \n",
       "                                        ⎝- Δᵣ⋅a ⋅sin (θ) + Δₜₕₑₜₐ⋅\\tilde{r}  +\n",
       "                                        ──────────────────────────────────────\n",
       "                                                                              \n",
       "                                                                              \n",
       "\n",
       "2  2           4⎞       ⎛                     2           2⎞⎞    2   ⎤\n",
       " ⋅a  + Δₜₕₑₜₐ⋅a ⎠ + Ξ⋅a⋅⎝Δᵣ - Δₜₕₑₜₐ⋅\\tilde{r}  - Δₜₕₑₜₐ⋅a ⎠⎠⋅sin (θ)⎥\n",
       "─────────────────────────────────────────────────────────────────────⎥\n",
       "     2                                                               ⎥\n",
       "  W⋅Ξ                                                                ⎥\n",
       "                                                                     ⎥\n",
       "                   2  2           4⎞    2                            ⎥\n",
       " 2⋅Δₜₕₑₜₐ⋅\\tilde{r} ⋅a  + Δₜₕₑₜₐ⋅a ⎠⋅sin (θ)                         ⎥\n",
       "────────────────────────────────────────────                         ⎥\n",
       "    2                                                                ⎥\n",
       " W⋅Ξ                                                                 ⎦"
      ]
     },
     "execution_count": 49,
     "metadata": {},
     "output_type": "execute_result"
    }
   ],
   "source": [
    "g_mat_2 = sympy.Matrix(metric_list_matrix)\n",
    "g_mat_2.simplify()\n",
    "g_mat_2"
   ]
  },
  {
   "cell_type": "code",
   "execution_count": 50,
   "metadata": {},
   "outputs": [
    {
     "data": {
      "image/png": "[encoded data removed]",
      "text/latex": [
       "$\\displaystyle \\frac{\\Delta_{r} \\Delta_{\\theta} \\left(\\tilde{r}^{2} + a^{2} \\cos^{2}{\\left(\\theta \\right)}\\right)^{2} \\sin^{2}{\\left(\\theta \\right)}}{W^{2} \\Xi^{2}}$"
      ],
      "text/plain": [
       "                                   2        \n",
       "          ⎛         2    2    2   ⎞     2   \n",
       "Δᵣ⋅Δₜₕₑₜₐ⋅⎝\\tilde{r}  + a ⋅cos (θ)⎠ ⋅sin (θ)\n",
       "────────────────────────────────────────────\n",
       "                    2  2                    \n",
       "                   W ⋅Ξ                     "
      ]
     },
     "execution_count": 50,
     "metadata": {},
     "output_type": "execute_result"
    }
   ],
   "source": [
    "g_mat_2.det().simplify()"
   ]
  },
  {
   "attachments": {},
   "cell_type": "markdown",
   "metadata": {},
   "source": [
    "##### $g_{00}$"
   ]
  },
  {
   "cell_type": "code",
   "execution_count": 51,
   "metadata": {},
   "outputs": [
    {
     "data": {
      "image/png": "[encoded data removed]",
      "text/latex": [
       "$\\displaystyle \\Delta_{r} \\left(- \\Omega a \\sin^{2}{\\left(\\theta \\right)} + \\Xi\\right)^{2} - \\Delta_{\\theta} \\left(- \\Omega \\left(\\tilde{r}^{2} + a^{2}\\right) + \\Xi a\\right)^{2} \\sin^{2}{\\left(\\theta \\right)}$"
      ],
      "text/plain": [
       "                      2                                       2        \n",
       "   ⎛         2       ⎞           ⎛    ⎛         2    2⎞      ⎞     2   \n",
       "Δᵣ⋅⎝- Ω⋅a⋅sin (θ) + Ξ⎠  - Δₜₕₑₜₐ⋅⎝- Ω⋅⎝\\tilde{r}  + a ⎠ + Ξ⋅a⎠ ⋅sin (θ)"
      ]
     },
     "execution_count": 51,
     "metadata": {},
     "output_type": "execute_result"
    }
   ],
   "source": [
    "g_00 = delta_r * (xi - a * omega * sympy.sin(theta) ** 2) ** 2 - delta_theta * (a * xi - omega * (r_tilde ** 2 + a ** 2)) ** 2 * sympy.sin(theta) ** 2\n",
    "g_00"
   ]
  },
  {
   "cell_type": "code",
   "execution_count": 52,
   "metadata": {},
   "outputs": [
    {
     "data": {
      "image/png": "[encoded data removed]",
      "text/latex": [
       "$\\displaystyle 0$"
      ],
      "text/plain": [
       "0"
      ]
     },
     "execution_count": 52,
     "metadata": {},
     "output_type": "execute_result"
    }
   ],
   "source": [
    "(g_00 / (W * xi ** 2) - g_mat_2[0, 0]).expand().simplify()"
   ]
  },
  {
   "cell_type": "code",
   "execution_count": 53,
   "metadata": {},
   "outputs": [
    {
     "data": {
      "image/png": "[encoded data removed]",
      "text/latex": [
       "$\\displaystyle \\Omega^{2} \\tilde{r}_+^{12} \\sin^{2}{\\left(\\theta \\right)} \\cos^{2}{\\left(\\theta \\right)} + \\Omega^{2} \\tilde{r}_+^{10} \\sin^{4}{\\left(\\theta \\right)} + 3 \\Omega^{2} \\tilde{r}_+^{8} \\sin^{4}{\\left(\\theta \\right)} - \\Omega^{2} \\tilde{r}_+^{8} \\sin^{2}{\\left(\\theta \\right)} + \\Omega^{2} \\tilde{r}_+^{6} \\sin^{4}{\\left(\\theta \\right)} + 2 \\Omega \\tilde{r}_+^{14} \\sin^{2}{\\left(\\theta \\right)} \\cos^{2}{\\left(\\theta \\right)} + 2 \\Omega \\tilde{r}_+^{12} \\sin^{2}{\\left(\\theta \\right)} - 2 \\Omega \\tilde{r}_+^{10} \\sin^{2}{\\left(\\theta \\right)} \\cos^{2}{\\left(\\theta \\right)} + 4 \\Omega \\tilde{r}_+^{10} \\sin^{2}{\\left(\\theta \\right)} - 4 \\Omega \\tilde{r}_+^{6} \\sin^{2}{\\left(\\theta \\right)} - 2 \\Omega \\tilde{r}_+^{4} \\sin^{2}{\\left(\\theta \\right)} + \\tilde{r}^{4} \\left(\\Omega^{2} \\tilde{r}_+^{4} \\sin^{4}{\\left(\\theta \\right)} + \\Omega^{2} \\tilde{r}_+^{4} \\sin^{2}{\\left(\\theta \\right)} \\cos^{2}{\\left(\\theta \\right)} - \\Omega^{2} \\sin^{2}{\\left(\\theta \\right)} + 2 \\Omega \\tilde{r}_+^{6} \\sin^{2}{\\left(\\theta \\right)} - 2 \\Omega \\tilde{r}_+^{2} \\sin^{2}{\\left(\\theta \\right)} + \\tilde{r}_+^{8} - 2 \\tilde{r}_+^{4} + 1\\right) + \\tilde{r}^{2} \\left(\\Omega^{2} \\tilde{r}_+^{8} \\sin^{4}{\\left(\\theta \\right)} + 2 \\Omega^{2} \\tilde{r}_+^{8} \\sin^{2}{\\left(\\theta \\right)} \\cos^{2}{\\left(\\theta \\right)} + \\Omega^{2} \\tilde{r}_+^{4} \\sin^{4}{\\left(\\theta \\right)} - 2 \\Omega^{2} \\tilde{r}_+^{4} \\sin^{2}{\\left(\\theta \\right)} + 2 \\Omega \\tilde{r}_+^{10} \\sin^{2}{\\left(\\theta \\right)} \\cos^{2}{\\left(\\theta \\right)} + 2 \\Omega \\tilde{r}_+^{10} \\sin^{2}{\\left(\\theta \\right)} - 2 \\Omega \\tilde{r}_+^{6} \\sin^{2}{\\left(\\theta \\right)} \\cos^{2}{\\left(\\theta \\right)} - 2 \\Omega \\tilde{r}_+^{6} \\sin^{2}{\\left(\\theta \\right)} + \\tilde{r}_+^{12} - \\tilde{r}_+^{8} - \\tilde{r}_+^{4} + 1\\right) + \\tilde{r} \\left(- 2 \\Omega^{2} \\tilde{r}_+^{9} \\sin^{4}{\\left(\\theta \\right)} - 4 \\Omega^{2} \\tilde{r}_+^{7} \\sin^{4}{\\left(\\theta \\right)} - 2 \\Omega^{2} \\tilde{r}_+^{5} \\sin^{4}{\\left(\\theta \\right)} - 4 \\Omega \\tilde{r}_+^{11} \\sin^{2}{\\left(\\theta \\right)} - 8 \\Omega \\tilde{r}_+^{9} \\sin^{2}{\\left(\\theta \\right)} + 8 \\Omega \\tilde{r}_+^{5} \\sin^{2}{\\left(\\theta \\right)} + 4 \\Omega \\tilde{r}_+^{3} \\sin^{2}{\\left(\\theta \\right)} - 2 \\tilde{r}_+^{13} - 4 \\tilde{r}_+^{11} + 2 \\tilde{r}_+^{9} + 8 \\tilde{r}_+^{7} + 2 \\tilde{r}_+^{5} - 4 \\tilde{r}_+^{3} - 2 \\tilde{r}_+\\right) + \\tilde{r}_+^{16} \\sin^{2}{\\left(\\theta \\right)} \\cos^{2}{\\left(\\theta \\right)} + \\tilde{r}_+^{14} - 2 \\tilde{r}_+^{12} \\sin^{2}{\\left(\\theta \\right)} \\cos^{2}{\\left(\\theta \\right)} - \\tilde{r}_+^{12} \\sin^{2}{\\left(\\theta \\right)} + 3 \\tilde{r}_+^{12} - \\tilde{r}_+^{10} + \\tilde{r}_+^{8} \\sin^{2}{\\left(\\theta \\right)} \\cos^{2}{\\left(\\theta \\right)} + 2 \\tilde{r}_+^{8} \\sin^{2}{\\left(\\theta \\right)} - 6 \\tilde{r}_+^{8} - \\tilde{r}_+^{6} - \\tilde{r}_+^{4} \\sin^{2}{\\left(\\theta \\right)} + 3 \\tilde{r}_+^{4} + \\tilde{r}_+^{2}$"
      ],
      "text/plain": [
       " 2           12    2       2       2           10    4         2           8  \n",
       "Ω ⋅\\tilde{r}₊  ⋅sin (θ)⋅cos (θ) + Ω ⋅\\tilde{r}₊  ⋅sin (θ) + 3⋅Ω ⋅\\tilde{r}₊ ⋅s\n",
       "\n",
       "  4       2           8    2       2           6    4                    14   \n",
       "in (θ) - Ω ⋅\\tilde{r}₊ ⋅sin (θ) + Ω ⋅\\tilde{r}₊ ⋅sin (θ) + 2⋅Ω⋅\\tilde{r}₊  ⋅si\n",
       "\n",
       " 2       2                    12    2                    10    2       2      \n",
       "n (θ)⋅cos (θ) + 2⋅Ω⋅\\tilde{r}₊  ⋅sin (θ) - 2⋅Ω⋅\\tilde{r}₊  ⋅sin (θ)⋅cos (θ) + \n",
       "\n",
       "              10    2                    6    2                    4    2     \n",
       "4⋅Ω⋅\\tilde{r}₊  ⋅sin (θ) - 4⋅Ω⋅\\tilde{r}₊ ⋅sin (θ) - 2⋅Ω⋅\\tilde{r}₊ ⋅sin (θ) +\n",
       "\n",
       "          4 ⎛ 2           4    4       2           4    2       2       2    2\n",
       " \\tilde{r} ⋅⎝Ω ⋅\\tilde{r}₊ ⋅sin (θ) + Ω ⋅\\tilde{r}₊ ⋅sin (θ)⋅cos (θ) - Ω ⋅sin \n",
       "\n",
       "                    6    2                    2    2                8         \n",
       "(θ) + 2⋅Ω⋅\\tilde{r}₊ ⋅sin (θ) - 2⋅Ω⋅\\tilde{r}₊ ⋅sin (θ) + \\tilde{r}₊  - 2⋅\\til\n",
       "\n",
       "      4    ⎞            2 ⎛ 2           8    4         2           8    2     \n",
       "de{r}₊  + 1⎠ + \\tilde{r} ⋅⎝Ω ⋅\\tilde{r}₊ ⋅sin (θ) + 2⋅Ω ⋅\\tilde{r}₊ ⋅sin (θ)⋅c\n",
       "\n",
       "  2       2           4    4         2           4    2                    10 \n",
       "os (θ) + Ω ⋅\\tilde{r}₊ ⋅sin (θ) - 2⋅Ω ⋅\\tilde{r}₊ ⋅sin (θ) + 2⋅Ω⋅\\tilde{r}₊  ⋅\n",
       "\n",
       "   2       2                    10    2                    6    2       2     \n",
       "sin (θ)⋅cos (θ) + 2⋅Ω⋅\\tilde{r}₊  ⋅sin (θ) - 2⋅Ω⋅\\tilde{r}₊ ⋅sin (θ)⋅cos (θ) -\n",
       "\n",
       "               6    2                12             8             4    ⎞      \n",
       " 2⋅Ω⋅\\tilde{r}₊ ⋅sin (θ) + \\tilde{r}₊   - \\tilde{r}₊  - \\tilde{r}₊  + 1⎠ + \\ti\n",
       "\n",
       "       ⎛     2           9    4         2           7    4         2          \n",
       "lde{r}⋅⎝- 2⋅Ω ⋅\\tilde{r}₊ ⋅sin (θ) - 4⋅Ω ⋅\\tilde{r}₊ ⋅sin (θ) - 2⋅Ω ⋅\\tilde{r}\n",
       "\n",
       " 5    4                    11    2                    9    2                  \n",
       "₊ ⋅sin (θ) - 4⋅Ω⋅\\tilde{r}₊  ⋅sin (θ) - 8⋅Ω⋅\\tilde{r}₊ ⋅sin (θ) + 8⋅Ω⋅\\tilde{r\n",
       "\n",
       "  5    2                    3    2                  13               11       \n",
       "}₊ ⋅sin (θ) + 4⋅Ω⋅\\tilde{r}₊ ⋅sin (θ) - 2⋅\\tilde{r}₊   - 4⋅\\tilde{r}₊   + 2⋅\\t\n",
       "\n",
       "        9               7               5               3               ⎞     \n",
       "ilde{r}₊  + 8⋅\\tilde{r}₊  + 2⋅\\tilde{r}₊  - 4⋅\\tilde{r}₊  - 2⋅\\tilde{r}₊⎠ + \\t\n",
       "\n",
       "        16    2       2                14               12    2       2       \n",
       "ilde{r}₊  ⋅sin (θ)⋅cos (θ) + \\tilde{r}₊   - 2⋅\\tilde{r}₊  ⋅sin (θ)⋅cos (θ) - \\\n",
       "\n",
       "         12    2                  12             10             8    2       2\n",
       "tilde{r}₊  ⋅sin (θ) + 3⋅\\tilde{r}₊   - \\tilde{r}₊   + \\tilde{r}₊ ⋅sin (θ)⋅cos \n",
       "\n",
       "                  8    2                  8             6             4    2  \n",
       "(θ) + 2⋅\\tilde{r}₊ ⋅sin (θ) - 6⋅\\tilde{r}₊  - \\tilde{r}₊  - \\tilde{r}₊ ⋅sin (θ\n",
       "\n",
       "                4             2\n",
       ") + 3⋅\\tilde{r}₊  + \\tilde{r}₊ "
      ]
     },
     "execution_count": 53,
     "metadata": {},
     "output_type": "execute_result"
    }
   ],
   "source": [
    "g_00_simp = g_00.subs({delta_r: delta_r_val, xi: xi_val, delta_theta: delta_theta_val}).subs({a: a_val})\n",
    "g_00_simp = g_00_simp.expand().collect([r_tilde, r_tilde ** 2, r_tilde ** 3, r_tilde ** 4])\n",
    "g_00_simp"
   ]
  },
  {
   "cell_type": "code",
   "execution_count": 54,
   "metadata": {},
   "outputs": [
    {
     "data": {
      "image/png": "[encoded data removed]",
      "text/latex": [
       "$\\displaystyle - 2 \\tilde{r}_+ \\left(\\tilde{r}_+^{2} + 1\\right)^{2} \\left(\\Omega \\tilde{r}_+^{2} \\sin^{2}{\\left(\\theta \\right)} + \\tilde{r}_+^{4} - 1\\right)^{2}$"
      ],
      "text/plain": [
       "                               2                                          2\n",
       "              ⎛          2    ⎞  ⎛            2    2                4    ⎞ \n",
       "-2⋅\\tilde{r}₊⋅⎝\\tilde{r}₊  + 1⎠ ⋅⎝Ω⋅\\tilde{r}₊ ⋅sin (θ) + \\tilde{r}₊  - 1⎠ "
      ]
     },
     "execution_count": 54,
     "metadata": {},
     "output_type": "execute_result"
    }
   ],
   "source": [
    "A_coeff_00 = g_00_simp.coeff(r_tilde).simplify()\n",
    "A_coeff_00.factor()"
   ]
  },
  {
   "cell_type": "code",
   "execution_count": 55,
   "metadata": {},
   "outputs": [
    {
     "data": {
      "image/png": "[encoded data removed]",
      "text/latex": [
       "$\\displaystyle - \\left(\\tilde{r}_+ - 1\\right) \\left(\\tilde{r}_+ + 1\\right) \\left(\\tilde{r}_+^{2} + 1\\right) \\left(\\Omega^{2} \\tilde{r}_+^{4} \\sin^{4}{\\left(\\theta \\right)} - 2 \\Omega^{2} \\tilde{r}_+^{4} \\sin^{2}{\\left(\\theta \\right)} + 2 \\Omega \\tilde{r}_+^{6} \\sin^{4}{\\left(\\theta \\right)} - 4 \\Omega \\tilde{r}_+^{6} \\sin^{2}{\\left(\\theta \\right)} - \\tilde{r}_+^{8} + 1\\right)$"
      ],
      "text/plain": [
       "                                   ⎛          2    ⎞ ⎛ 2           4    4     \n",
       "-(\\tilde{r}₊ - 1)⋅(\\tilde{r}₊ + 1)⋅⎝\\tilde{r}₊  + 1⎠⋅⎝Ω ⋅\\tilde{r}₊ ⋅sin (θ) -\n",
       "\n",
       "    2           4    2                    6    4                    6    2    \n",
       " 2⋅Ω ⋅\\tilde{r}₊ ⋅sin (θ) + 2⋅Ω⋅\\tilde{r}₊ ⋅sin (θ) - 4⋅Ω⋅\\tilde{r}₊ ⋅sin (θ) \n",
       "\n",
       "            8    ⎞\n",
       "- \\tilde{r}₊  + 1⎠"
      ]
     },
     "execution_count": 55,
     "metadata": {},
     "output_type": "execute_result"
    }
   ],
   "source": [
    "B_coeff_00 = g_00_simp.coeff(r_tilde ** 2).simplify().factor()\n",
    "B_coeff_00"
   ]
  },
  {
   "cell_type": "code",
   "execution_count": 56,
   "metadata": {},
   "outputs": [
    {
     "data": {
      "image/png": "[encoded data removed]",
      "text/latex": [
       "$\\displaystyle \\left(\\tilde{r}_+ - 1\\right) \\left(\\tilde{r}_+ + 1\\right) \\left(\\tilde{r}_+^{2} + 1\\right) \\left(\\Omega^{2} \\sin^{2}{\\left(\\theta \\right)} + 2 \\Omega \\tilde{r}_+^{2} \\sin^{2}{\\left(\\theta \\right)} + \\tilde{r}_+^{4} - 1\\right)$"
      ],
      "text/plain": [
       "                                  ⎛          2    ⎞ ⎛ 2    2                  \n",
       "(\\tilde{r}₊ - 1)⋅(\\tilde{r}₊ + 1)⋅⎝\\tilde{r}₊  + 1⎠⋅⎝Ω ⋅sin (θ) + 2⋅Ω⋅\\tilde{r\n",
       "\n",
       "  2    2                4    ⎞\n",
       "}₊ ⋅sin (θ) + \\tilde{r}₊  - 1⎠"
      ]
     },
     "execution_count": 56,
     "metadata": {},
     "output_type": "execute_result"
    }
   ],
   "source": [
    "C_coeff_00 = g_00_simp.coeff(r_tilde ** 4).simplify().factor()\n",
    "C_coeff_00"
   ]
  },
  {
   "cell_type": "code",
   "execution_count": 57,
   "metadata": {},
   "outputs": [
    {
     "data": {
      "image/png": "[encoded data removed]",
      "text/latex": [
       "$\\displaystyle - \\tilde{r}_+^{2} \\left(\\tilde{r}_+^{2} + 1\\right) \\left(\\Omega^{2} \\tilde{r}_+^{8} \\sin^{4}{\\left(\\theta \\right)} - \\Omega^{2} \\tilde{r}_+^{8} \\sin^{2}{\\left(\\theta \\right)} - 2 \\Omega^{2} \\tilde{r}_+^{6} \\sin^{4}{\\left(\\theta \\right)} + \\Omega^{2} \\tilde{r}_+^{6} \\sin^{2}{\\left(\\theta \\right)} - \\Omega^{2} \\tilde{r}_+^{4} \\sin^{4}{\\left(\\theta \\right)} + 2 \\Omega \\tilde{r}_+^{10} \\sin^{4}{\\left(\\theta \\right)} - 2 \\Omega \\tilde{r}_+^{10} \\sin^{2}{\\left(\\theta \\right)} - 2 \\Omega \\tilde{r}_+^{8} \\sin^{4}{\\left(\\theta \\right)} - 2 \\Omega \\tilde{r}_+^{6} \\sin^{2}{\\left(\\theta \\right)} + 2 \\Omega \\tilde{r}_+^{4} \\sin^{2}{\\left(\\theta \\right)} + 2 \\Omega \\tilde{r}_+^{2} \\sin^{2}{\\left(\\theta \\right)} + \\tilde{r}_+^{12} \\sin^{4}{\\left(\\theta \\right)} - \\tilde{r}_+^{12} \\sin^{2}{\\left(\\theta \\right)} - \\tilde{r}_+^{10} \\sin^{4}{\\left(\\theta \\right)} + \\tilde{r}_+^{10} \\sin^{2}{\\left(\\theta \\right)} - \\tilde{r}_+^{10} - \\tilde{r}_+^{8} \\sin^{4}{\\left(\\theta \\right)} + 2 \\tilde{r}_+^{8} \\sin^{2}{\\left(\\theta \\right)} - 2 \\tilde{r}_+^{8} + \\tilde{r}_+^{6} \\sin^{4}{\\left(\\theta \\right)} - 2 \\tilde{r}_+^{6} \\sin^{2}{\\left(\\theta \\right)} + 3 \\tilde{r}_+^{6} - \\tilde{r}_+^{4} \\sin^{2}{\\left(\\theta \\right)} + 3 \\tilde{r}_+^{4} + \\tilde{r}_+^{2} \\sin^{2}{\\left(\\theta \\right)} - 2 \\tilde{r}_+^{2} - 1\\right)$"
      ],
      "text/plain": [
       "           2 ⎛          2    ⎞ ⎛ 2           8    4       2           8    2  \n",
       "-\\tilde{r}₊ ⋅⎝\\tilde{r}₊  + 1⎠⋅⎝Ω ⋅\\tilde{r}₊ ⋅sin (θ) - Ω ⋅\\tilde{r}₊ ⋅sin (θ\n",
       "\n",
       "       2           6    4       2           6    2       2           4    4   \n",
       ") - 2⋅Ω ⋅\\tilde{r}₊ ⋅sin (θ) + Ω ⋅\\tilde{r}₊ ⋅sin (θ) - Ω ⋅\\tilde{r}₊ ⋅sin (θ)\n",
       "\n",
       "                 10    4                    10    2                    8    4 \n",
       " + 2⋅Ω⋅\\tilde{r}₊  ⋅sin (θ) - 2⋅Ω⋅\\tilde{r}₊  ⋅sin (θ) - 2⋅Ω⋅\\tilde{r}₊ ⋅sin (\n",
       "\n",
       "                   6    2                    4    2                    2    2 \n",
       "θ) - 2⋅Ω⋅\\tilde{r}₊ ⋅sin (θ) + 2⋅Ω⋅\\tilde{r}₊ ⋅sin (θ) + 2⋅Ω⋅\\tilde{r}₊ ⋅sin (\n",
       "\n",
       "               12    4                12    2                10    4          \n",
       "θ) + \\tilde{r}₊  ⋅sin (θ) - \\tilde{r}₊  ⋅sin (θ) - \\tilde{r}₊  ⋅sin (θ) + \\til\n",
       "\n",
       "      10    2                10             8    4                  8    2    \n",
       "de{r}₊  ⋅sin (θ) - \\tilde{r}₊   - \\tilde{r}₊ ⋅sin (θ) + 2⋅\\tilde{r}₊ ⋅sin (θ) \n",
       "\n",
       "              8             6    4                  6    2                  6 \n",
       "- 2⋅\\tilde{r}₊  + \\tilde{r}₊ ⋅sin (θ) - 2⋅\\tilde{r}₊ ⋅sin (θ) + 3⋅\\tilde{r}₊  \n",
       "\n",
       "            4    2                  4             2    2                  2   \n",
       "- \\tilde{r}₊ ⋅sin (θ) + 3⋅\\tilde{r}₊  + \\tilde{r}₊ ⋅sin (θ) - 2⋅\\tilde{r}₊  - \n",
       "\n",
       " ⎞\n",
       "1⎠"
      ]
     },
     "execution_count": 57,
     "metadata": {},
     "output_type": "execute_result"
    }
   ],
   "source": [
    "D_coeff_00 = g_00_simp - A_coeff_00 * r_tilde - B_coeff_00 * r_tilde ** 2 - C_coeff_00 * r_tilde ** 4\n",
    "D_coeff_00.simplify().factor()"
   ]
  },
  {
   "attachments": {},
   "cell_type": "markdown",
   "metadata": {},
   "source": [
    "##### $g_{11}$"
   ]
  },
  {
   "attachments": {},
   "cell_type": "markdown",
   "metadata": {},
   "source": [
    "This component remains unchanged."
   ]
  },
  {
   "attachments": {},
   "cell_type": "markdown",
   "metadata": {},
   "source": [
    "#### Wick Rotation + Omega Shift + Non-rotating Frame"
   ]
  },
  {
   "cell_type": "code",
   "execution_count": 58,
   "metadata": {},
   "outputs": [
    {
     "data": {
      "image/png": "[encoded data removed]",
      "text/latex": [
       "$\\displaystyle - i a d\\tau + d\\phi'$"
      ],
      "text/plain": [
       "-ⅈ⋅a⋅d\\tau + d\\phi'"
      ]
     },
     "execution_count": 58,
     "metadata": {},
     "output_type": "execute_result"
    }
   ],
   "source": [
    "dphi_prime = sympy.symbols(\"d\\phi'\")\n",
    "dphi_tilde_val = dphi_prime - a * dt_val\n",
    "dphi_tilde_val"
   ]
  },
  {
   "cell_type": "code",
   "execution_count": 62,
   "metadata": {},
   "outputs": [
    {
     "data": {
      "image/png": "[encoded data removed]",
      "text/latex": [
       "$\\displaystyle d\\phi'^{2} \\left(- \\frac{\\Delta_{r} a^{2} \\sin^{4}{\\left(\\theta \\right)}}{W \\Xi^{2}} + \\frac{\\Delta_{\\theta} \\tilde{r}^{4} \\sin^{2}{\\left(\\theta \\right)}}{W \\Xi^{2}} + \\frac{2 \\Delta_{\\theta} \\tilde{r}^{2} a^{2} \\sin^{2}{\\left(\\theta \\right)}}{W \\Xi^{2}} + \\frac{\\Delta_{\\theta} a^{4} \\sin^{2}{\\left(\\theta \\right)}}{W \\Xi^{2}}\\right) + d\\phi' d\\tau \\left(- \\frac{2 i \\Delta_{r} \\Omega a^{2} \\sin^{4}{\\left(\\theta \\right)}}{W \\Xi^{2}} + \\frac{2 i \\Delta_{r} a \\sin^{2}{\\left(\\theta \\right)}}{W \\Xi} + \\frac{2 i \\Delta_{r} a^{3} \\sin^{4}{\\left(\\theta \\right)}}{W \\Xi^{2}} + \\frac{2 i \\Delta_{\\theta} \\Omega \\tilde{r}^{4} \\sin^{2}{\\left(\\theta \\right)}}{W \\Xi^{2}} + \\frac{4 i \\Delta_{\\theta} \\Omega \\tilde{r}^{2} a^{2} \\sin^{2}{\\left(\\theta \\right)}}{W \\Xi^{2}} + \\frac{2 i \\Delta_{\\theta} \\Omega a^{4} \\sin^{2}{\\left(\\theta \\right)}}{W \\Xi^{2}} - \\frac{2 i \\Delta_{\\theta} \\tilde{r}^{2} a \\sin^{2}{\\left(\\theta \\right)}}{W \\Xi} - \\frac{2 i \\Delta_{\\theta} a^{3} \\sin^{2}{\\left(\\theta \\right)}}{W \\Xi} - \\frac{2 i \\Delta_{\\theta} \\tilde{r}^{4} a \\sin^{2}{\\left(\\theta \\right)}}{W \\Xi^{2}} - \\frac{4 i \\Delta_{\\theta} \\tilde{r}^{2} a^{3} \\sin^{2}{\\left(\\theta \\right)}}{W \\Xi^{2}} - \\frac{2 i \\Delta_{\\theta} a^{5} \\sin^{2}{\\left(\\theta \\right)}}{W \\Xi^{2}}\\right) + d\\tau^{2} \\left(\\frac{\\Delta_{r} \\Omega^{2} a^{2} \\sin^{4}{\\left(\\theta \\right)}}{W \\Xi^{2}} - \\frac{2 \\Delta_{r} \\Omega a \\sin^{2}{\\left(\\theta \\right)}}{W \\Xi} - \\frac{2 \\Delta_{r} \\Omega a^{3} \\sin^{4}{\\left(\\theta \\right)}}{W \\Xi^{2}} + \\frac{\\Delta_{r}}{W} + \\frac{2 \\Delta_{r} a^{2} \\sin^{2}{\\left(\\theta \\right)}}{W \\Xi} + \\frac{\\Delta_{r} a^{4} \\sin^{4}{\\left(\\theta \\right)}}{W \\Xi^{2}} - \\frac{\\Delta_{\\theta} \\Omega^{2} \\tilde{r}^{4} \\sin^{2}{\\left(\\theta \\right)}}{W \\Xi^{2}} - \\frac{2 \\Delta_{\\theta} \\Omega^{2} \\tilde{r}^{2} a^{2} \\sin^{2}{\\left(\\theta \\right)}}{W \\Xi^{2}} - \\frac{\\Delta_{\\theta} \\Omega^{2} a^{4} \\sin^{2}{\\left(\\theta \\right)}}{W \\Xi^{2}} + \\frac{2 \\Delta_{\\theta} \\Omega \\tilde{r}^{2} a \\sin^{2}{\\left(\\theta \\right)}}{W \\Xi} + \\frac{2 \\Delta_{\\theta} \\Omega a^{3} \\sin^{2}{\\left(\\theta \\right)}}{W \\Xi} + \\frac{2 \\Delta_{\\theta} \\Omega \\tilde{r}^{4} a \\sin^{2}{\\left(\\theta \\right)}}{W \\Xi^{2}} + \\frac{4 \\Delta_{\\theta} \\Omega \\tilde{r}^{2} a^{3} \\sin^{2}{\\left(\\theta \\right)}}{W \\Xi^{2}} + \\frac{2 \\Delta_{\\theta} \\Omega a^{5} \\sin^{2}{\\left(\\theta \\right)}}{W \\Xi^{2}} - \\frac{\\Delta_{\\theta} a^{2} \\sin^{2}{\\left(\\theta \\right)}}{W} - \\frac{2 \\Delta_{\\theta} \\tilde{r}^{2} a^{2} \\sin^{2}{\\left(\\theta \\right)}}{W \\Xi} - \\frac{2 \\Delta_{\\theta} a^{4} \\sin^{2}{\\left(\\theta \\right)}}{W \\Xi} - \\frac{\\Delta_{\\theta} \\tilde{r}^{4} a^{2} \\sin^{2}{\\left(\\theta \\right)}}{W \\Xi^{2}} - \\frac{2 \\Delta_{\\theta} \\tilde{r}^{2} a^{4} \\sin^{2}{\\left(\\theta \\right)}}{W \\Xi^{2}} - \\frac{\\Delta_{\\theta} a^{6} \\sin^{2}{\\left(\\theta \\right)}}{W \\Xi^{2}}\\right)$"
      ],
      "text/plain": [
       "        ⎛      2    4                      4    2                        2  2 \n",
       "      2 ⎜  Δᵣ⋅a ⋅sin (θ)   Δₜₕₑₜₐ⋅\\tilde{r} ⋅sin (θ)   2⋅Δₜₕₑₜₐ⋅\\tilde{r} ⋅a ⋅\n",
       "d\\phi' ⋅⎜- ───────────── + ───────────────────────── + ───────────────────────\n",
       "        ⎜          2                     2                             2      \n",
       "        ⎝       W⋅Ξ                   W⋅Ξ                           W⋅Ξ       \n",
       "\n",
       "   2              4    2   ⎞                ⎛            2    4               \n",
       "sin (θ)   Δₜₕₑₜₐ⋅a ⋅sin (θ)⎟                ⎜  2⋅ⅈ⋅Δᵣ⋅Ω⋅a ⋅sin (θ)   2⋅ⅈ⋅Δᵣ⋅a⋅\n",
       "─────── + ─────────────────⎟ + d\\phi'⋅d\\tau⋅⎜- ─────────────────── + ─────────\n",
       "                    2      ⎟                ⎜             2                W⋅Ξ\n",
       "                 W⋅Ξ       ⎠                ⎝          W⋅Ξ                    \n",
       "\n",
       "   2              3    4                            4    2                    \n",
       "sin (θ)   2⋅ⅈ⋅Δᵣ⋅a ⋅sin (θ)   2⋅ⅈ⋅Δₜₕₑₜₐ⋅Ω⋅\\tilde{r} ⋅sin (θ)   4⋅ⅈ⋅Δₜₕₑₜₐ⋅Ω⋅\\\n",
       "─────── + ───────────────── + ─────────────────────────────── + ──────────────\n",
       "                    2                          2                              \n",
       "                 W⋅Ξ                        W⋅Ξ                               \n",
       "\n",
       "        2  2    2                    4    2                          2      2 \n",
       "tilde{r} ⋅a ⋅sin (θ)   2⋅ⅈ⋅Δₜₕₑₜₐ⋅Ω⋅a ⋅sin (θ)   2⋅ⅈ⋅Δₜₕₑₜₐ⋅\\tilde{r} ⋅a⋅sin (\n",
       "──────────────────── + ─────────────────────── - ─────────────────────────────\n",
       "    2                               2                          W⋅Ξ            \n",
       " W⋅Ξ                             W⋅Ξ                                          \n",
       "\n",
       "                 3    2                          4      2                     \n",
       "θ)   2⋅ⅈ⋅Δₜₕₑₜₐ⋅a ⋅sin (θ)   2⋅ⅈ⋅Δₜₕₑₜₐ⋅\\tilde{r} ⋅a⋅sin (θ)   4⋅ⅈ⋅Δₜₕₑₜₐ⋅\\til\n",
       "── - ───────────────────── - ─────────────────────────────── - ───────────────\n",
       "              W⋅Ξ                             2                               \n",
       "                                           W⋅Ξ                               W\n",
       "\n",
       "     2  3    2                  5    2   ⎞          ⎛    2  2    4            \n",
       "de{r} ⋅a ⋅sin (θ)   2⋅ⅈ⋅Δₜₕₑₜₐ⋅a ⋅sin (θ)⎟        2 ⎜Δᵣ⋅Ω ⋅a ⋅sin (θ)   2⋅Δᵣ⋅Ω\n",
       "───────────────── - ─────────────────────⎟ + d\\tau ⋅⎜──────────────── - ──────\n",
       "  2                             2        ⎟          ⎜         2               \n",
       "⋅Ξ                           W⋅Ξ         ⎠          ⎝      W⋅Ξ                \n",
       "\n",
       "      2              3    4                 2    2          4    4            \n",
       "⋅a⋅sin (θ)   2⋅Δᵣ⋅Ω⋅a ⋅sin (θ)   Δᵣ   2⋅Δᵣ⋅a ⋅sin (θ)   Δᵣ⋅a ⋅sin (θ)   Δₜₕₑₜₐ\n",
       "────────── - ───────────────── + ── + ─────────────── + ───────────── - ──────\n",
       "W⋅Ξ                    2         W          W⋅Ξ                 2             \n",
       "                    W⋅Ξ                                      W⋅Ξ              \n",
       "\n",
       "  2          4    2                2          2  2    2              2  4    2\n",
       "⋅Ω ⋅\\tilde{r} ⋅sin (θ)   2⋅Δₜₕₑₜₐ⋅Ω ⋅\\tilde{r} ⋅a ⋅sin (θ)   Δₜₕₑₜₐ⋅Ω ⋅a ⋅sin \n",
       "────────────────────── - ───────────────────────────────── - ─────────────────\n",
       "         2                                 2                            2     \n",
       "      W⋅Ξ                               W⋅Ξ                          W⋅Ξ      \n",
       "\n",
       "                          2      2                  3    2                    \n",
       "(θ)   2⋅Δₜₕₑₜₐ⋅Ω⋅\\tilde{r} ⋅a⋅sin (θ)   2⋅Δₜₕₑₜₐ⋅Ω⋅a ⋅sin (θ)   2⋅Δₜₕₑₜₐ⋅Ω⋅\\ti\n",
       "─── + ─────────────────────────────── + ───────────────────── + ──────────────\n",
       "                    W⋅Ξ                          W⋅Ξ                          \n",
       "                                                                              \n",
       "\n",
       "      4      2                          2  3    2                  5    2     \n",
       "lde{r} ⋅a⋅sin (θ)   4⋅Δₜₕₑₜₐ⋅Ω⋅\\tilde{r} ⋅a ⋅sin (θ)   2⋅Δₜₕₑₜₐ⋅Ω⋅a ⋅sin (θ)  \n",
       "───────────────── + ──────────────────────────────── + ───────────────────── -\n",
       "   2                                 2                             2          \n",
       "W⋅Ξ                               W⋅Ξ                           W⋅Ξ           \n",
       "\n",
       "         2    2                        2  2    2                4    2        \n",
       " Δₜₕₑₜₐ⋅a ⋅sin (θ)   2⋅Δₜₕₑₜₐ⋅\\tilde{r} ⋅a ⋅sin (θ)   2⋅Δₜₕₑₜₐ⋅a ⋅sin (θ)   Δₜ\n",
       " ───────────────── - ────────────────────────────── - ─────────────────── - ──\n",
       "         W                        W⋅Ξ                         W⋅Ξ             \n",
       "                                                                              \n",
       "\n",
       "              4  2    2                        2  4    2              6    2  \n",
       "ₕₑₜₐ⋅\\tilde{r} ⋅a ⋅sin (θ)   2⋅Δₜₕₑₜₐ⋅\\tilde{r} ⋅a ⋅sin (θ)   Δₜₕₑₜₐ⋅a ⋅sin (θ\n",
       "────────────────────────── - ────────────────────────────── - ────────────────\n",
       "             2                               2                          2     \n",
       "          W⋅Ξ                             W⋅Ξ                        W⋅Ξ      \n",
       "\n",
       " ⎞\n",
       ")⎟\n",
       "─⎟\n",
       " ⎟\n",
       " ⎠"
      ]
     },
     "execution_count": 62,
     "metadata": {},
     "output_type": "execute_result"
    }
   ],
   "source": [
    "euclidean_metric_3 = euclidean_metric_2.subs({dphi_tilde: dphi_tilde_val}).expand().collect([dtau ** 2, dtau * dphi_prime, dphi_prime ** 2])\n",
    "euclidean_metric_3"
   ]
  },
  {
   "cell_type": "code",
   "execution_count": 63,
   "metadata": {},
   "outputs": [],
   "source": [
    "metric_list_matrix = [[0 for i in range(2)] for i in range(2)]\n",
    "metric_list_matrix[0][0] = euclidean_metric_3.coeff(dtau ** 2)\n",
    "metric_list_matrix[0][1] = euclidean_metric_3.coeff(dtau * dphi_prime) / 2\n",
    "metric_list_matrix[1][0] = metric_list_matrix[0][1]\n",
    "metric_list_matrix[1][1] = euclidean_metric_3.coeff(dphi_prime ** 2)"
   ]
  },
  {
   "cell_type": "code",
   "execution_count": 65,
   "metadata": {},
   "outputs": [
    {
     "data": {
      "text/latex": [
       "$\\displaystyle \\left[\\begin{matrix}\\frac{\\Xi^{2} \\left(\\Delta_{r} - \\Delta_{\\theta} a^{2} \\sin^{2}{\\left(\\theta \\right)}\\right) + 2 \\Xi a \\left(- \\Delta_{r} \\Omega + \\Delta_{r} a + \\Delta_{\\theta} \\Omega \\tilde{r}^{2} + \\Delta_{\\theta} \\Omega a^{2} - \\Delta_{\\theta} \\tilde{r}^{2} a - \\Delta_{\\theta} a^{3}\\right) \\sin^{2}{\\left(\\theta \\right)} + \\left(- \\Omega + a\\right)^{2} \\left(\\Delta_{r} a^{2} \\sin^{2}{\\left(\\theta \\right)} - \\Delta_{\\theta} \\tilde{r}^{4} - 2 \\Delta_{\\theta} \\tilde{r}^{2} a^{2} - \\Delta_{\\theta} a^{4}\\right) \\sin^{2}{\\left(\\theta \\right)}}{W \\Xi^{2}} & \\frac{i \\left(- \\Delta_{r} \\Omega a^{2} \\sin^{2}{\\left(\\theta \\right)} + \\Delta_{r} a^{3} \\sin^{2}{\\left(\\theta \\right)} + \\Delta_{\\theta} \\Omega \\tilde{r}^{4} + 2 \\Delta_{\\theta} \\Omega \\tilde{r}^{2} a^{2} + \\Delta_{\\theta} \\Omega a^{4} - \\Delta_{\\theta} \\tilde{r}^{4} a - 2 \\Delta_{\\theta} \\tilde{r}^{2} a^{3} - \\Delta_{\\theta} a^{5} + \\Xi a \\left(\\Delta_{r} - \\Delta_{\\theta} \\tilde{r}^{2} - \\Delta_{\\theta} a^{2}\\right)\\right) \\sin^{2}{\\left(\\theta \\right)}}{W \\Xi^{2}}\\\\\\frac{i \\left(- \\Delta_{r} \\Omega a^{2} \\sin^{2}{\\left(\\theta \\right)} + \\Delta_{r} a^{3} \\sin^{2}{\\left(\\theta \\right)} + \\Delta_{\\theta} \\Omega \\tilde{r}^{4} + 2 \\Delta_{\\theta} \\Omega \\tilde{r}^{2} a^{2} + \\Delta_{\\theta} \\Omega a^{4} - \\Delta_{\\theta} \\tilde{r}^{4} a - 2 \\Delta_{\\theta} \\tilde{r}^{2} a^{3} - \\Delta_{\\theta} a^{5} + \\Xi a \\left(\\Delta_{r} - \\Delta_{\\theta} \\tilde{r}^{2} - \\Delta_{\\theta} a^{2}\\right)\\right) \\sin^{2}{\\left(\\theta \\right)}}{W \\Xi^{2}} & \\frac{\\left(- \\Delta_{r} a^{2} \\sin^{2}{\\left(\\theta \\right)} + \\Delta_{\\theta} \\tilde{r}^{4} + 2 \\Delta_{\\theta} \\tilde{r}^{2} a^{2} + \\Delta_{\\theta} a^{4}\\right) \\sin^{2}{\\left(\\theta \\right)}}{W \\Xi^{2}}\\end{matrix}\\right]$"
      ],
      "text/plain": [
       "⎡ 2 ⎛             2    2   ⎞         ⎛                                 2      \n",
       "⎢Ξ ⋅⎝Δᵣ - Δₜₕₑₜₐ⋅a ⋅sin (θ)⎠ + 2⋅Ξ⋅a⋅⎝-Δᵣ⋅Ω + Δᵣ⋅a + Δₜₕₑₜₐ⋅Ω⋅\\tilde{r}  + Δₜₕ\n",
       "⎢─────────────────────────────────────────────────────────────────────────────\n",
       "⎢                                                                             \n",
       "⎢                                                                             \n",
       "⎢                                                                             \n",
       "⎢       ⎛        2    2          3    2                        4              \n",
       "⎢     ⅈ⋅⎝- Δᵣ⋅Ω⋅a ⋅sin (θ) + Δᵣ⋅a ⋅sin (θ) + Δₜₕₑₜₐ⋅Ω⋅\\tilde{r}  + 2⋅Δₜₕₑₜₐ⋅Ω⋅\n",
       "⎢     ────────────────────────────────────────────────────────────────────────\n",
       "⎢                                                                             \n",
       "⎣                                                                             \n",
       "\n",
       "       2                   2             3⎞    2              2 ⎛    2    2   \n",
       "ₑₜₐ⋅Ω⋅a  - Δₜₕₑₜₐ⋅\\tilde{r} ⋅a - Δₜₕₑₜₐ⋅a ⎠⋅sin (θ) + (-Ω + a) ⋅⎝Δᵣ⋅a ⋅sin (θ)\n",
       "──────────────────────────────────────────────────────────────────────────────\n",
       "                                   2                                          \n",
       "                                W⋅Ξ                                           \n",
       "                                                                              \n",
       "         2  2             4                   4                       2  3    \n",
       "\\tilde{r} ⋅a  + Δₜₕₑₜₐ⋅Ω⋅a  - Δₜₕₑₜₐ⋅\\tilde{r} ⋅a - 2⋅Δₜₕₑₜₐ⋅\\tilde{r} ⋅a  - Δ\n",
       "──────────────────────────────────────────────────────────────────────────────\n",
       "                                  2                                           \n",
       "                               W⋅Ξ                                            \n",
       "\n",
       "                   4                     2  2           4⎞    2       ⎛       \n",
       " - Δₜₕₑₜₐ⋅\\tilde{r}  - 2⋅Δₜₕₑₜₐ⋅\\tilde{r} ⋅a  - Δₜₕₑₜₐ⋅a ⎠⋅sin (θ)  ⅈ⋅⎝- Δᵣ⋅Ω⋅\n",
       "──────────────────────────────────────────────────────────────────  ──────────\n",
       "                                                                              \n",
       "                                                                              \n",
       "                                                                              \n",
       "       5       ⎛                     2           2⎞⎞    2                     \n",
       "ₜₕₑₜₐ⋅a  + Ξ⋅a⋅⎝Δᵣ - Δₜₕₑₜₐ⋅\\tilde{r}  - Δₜₕₑₜₐ⋅a ⎠⎠⋅sin (θ)                  \n",
       "────────────────────────────────────────────────────────────                  \n",
       "                                                                              \n",
       "                                                                              \n",
       "\n",
       " 2    2          3    2                        4                       2  2   \n",
       "a ⋅sin (θ) + Δᵣ⋅a ⋅sin (θ) + Δₜₕₑₜₐ⋅Ω⋅\\tilde{r}  + 2⋅Δₜₕₑₜₐ⋅Ω⋅\\tilde{r} ⋅a  + \n",
       "──────────────────────────────────────────────────────────────────────────────\n",
       "                                                                              \n",
       "                                                                              \n",
       "                                                                              \n",
       "                                                      ⎛      2    2           \n",
       "                                                      ⎝- Δᵣ⋅a ⋅sin (θ) + Δₜₕₑₜ\n",
       "                                                      ────────────────────────\n",
       "                                                                              \n",
       "                                                                              \n",
       "\n",
       "          4                   4                       2  3           5       ⎛\n",
       "Δₜₕₑₜₐ⋅Ω⋅a  - Δₜₕₑₜₐ⋅\\tilde{r} ⋅a - 2⋅Δₜₕₑₜₐ⋅\\tilde{r} ⋅a  - Δₜₕₑₜₐ⋅a  + Ξ⋅a⋅⎝\n",
       "──────────────────────────────────────────────────────────────────────────────\n",
       "                  2                                                           \n",
       "               W⋅Ξ                                                            \n",
       "                                                                              \n",
       "           4                     2  2           4⎞    2                       \n",
       "ₐ⋅\\tilde{r}  + 2⋅Δₜₕₑₜₐ⋅\\tilde{r} ⋅a  + Δₜₕₑₜₐ⋅a ⎠⋅sin (θ)                    \n",
       "──────────────────────────────────────────────────────────                    \n",
       "                  2                                                           \n",
       "               W⋅Ξ                                                            \n",
       "\n",
       "                     2           2⎞⎞    2   ⎤\n",
       "Δᵣ - Δₜₕₑₜₐ⋅\\tilde{r}  - Δₜₕₑₜₐ⋅a ⎠⎠⋅sin (θ)⎥\n",
       "────────────────────────────────────────────⎥\n",
       "                                            ⎥\n",
       "                                            ⎥\n",
       "                                            ⎥\n",
       "                                            ⎥\n",
       "                                            ⎥\n",
       "                                            ⎥\n",
       "                                            ⎥\n",
       "                                            ⎦"
      ]
     },
     "execution_count": 65,
     "metadata": {},
     "output_type": "execute_result"
    }
   ],
   "source": [
    "g_mat_3 = sympy.Matrix(metric_list_matrix)\n",
    "g_mat_3.simplify()\n",
    "g_mat_3"
   ]
  },
  {
   "cell_type": "code",
   "execution_count": 66,
   "metadata": {},
   "outputs": [
    {
     "data": {
      "image/png": "[encoded data removed]",
      "text/latex": [
       "$\\displaystyle \\frac{\\Delta_{r} \\Delta_{\\theta} \\left(\\tilde{r}^{2} + a^{2} \\cos^{2}{\\left(\\theta \\right)}\\right)^{2} \\sin^{2}{\\left(\\theta \\right)}}{W^{2} \\Xi^{2}}$"
      ],
      "text/plain": [
       "                                   2        \n",
       "          ⎛         2    2    2   ⎞     2   \n",
       "Δᵣ⋅Δₜₕₑₜₐ⋅⎝\\tilde{r}  + a ⋅cos (θ)⎠ ⋅sin (θ)\n",
       "────────────────────────────────────────────\n",
       "                    2  2                    \n",
       "                   W ⋅Ξ                     "
      ]
     },
     "execution_count": 66,
     "metadata": {},
     "output_type": "execute_result"
    }
   ],
   "source": [
    "g_mat_3.det().simplify()"
   ]
  },
  {
   "attachments": {},
   "cell_type": "markdown",
   "metadata": {},
   "source": [
    "##### $g_{00}$"
   ]
  },
  {
   "cell_type": "code",
   "execution_count": 67,
   "metadata": {},
   "outputs": [
    {
     "data": {
      "image/png": "[encoded data removed]",
      "text/latex": [
       "$\\displaystyle \\Delta_{r} \\left(\\Xi + a \\left(- \\Omega + a\\right) \\sin^{2}{\\left(\\theta \\right)}\\right)^{2} - \\Delta_{\\theta} \\left(\\Xi a + \\left(- \\Omega + a\\right) \\left(\\tilde{r}^{2} + a^{2}\\right)\\right)^{2} \\sin^{2}{\\left(\\theta \\right)}$"
      ],
      "text/plain": [
       "                           2                                            2     \n",
       "   ⎛                  2   ⎞           ⎛               ⎛         2    2⎞⎞     2\n",
       "Δᵣ⋅⎝Ξ + a⋅(-Ω + a)⋅sin (θ)⎠  - Δₜₕₑₜₐ⋅⎝Ξ⋅a + (-Ω + a)⋅⎝\\tilde{r}  + a ⎠⎠ ⋅sin \n",
       "\n",
       "   \n",
       "   \n",
       "(θ)"
      ]
     },
     "execution_count": 67,
     "metadata": {},
     "output_type": "execute_result"
    }
   ],
   "source": [
    "g_00 = delta_r * (xi + a * (a - omega) * sympy.sin(theta) ** 2) ** 2 - delta_theta * sympy.sin(theta) ** 2 * (a * xi + (a - omega) * (r_tilde ** 2 + a ** 2)) ** 2\n",
    "g_00"
   ]
  },
  {
   "cell_type": "code",
   "execution_count": 68,
   "metadata": {},
   "outputs": [
    {
     "data": {
      "image/png": "[encoded data removed]",
      "text/latex": [
       "$\\displaystyle 0$"
      ],
      "text/plain": [
       "0"
      ]
     },
     "execution_count": 68,
     "metadata": {},
     "output_type": "execute_result"
    }
   ],
   "source": [
    "(g_00 / (W * xi ** 2) - g_mat_3[0, 0]).expand().simplify()"
   ]
  },
  {
   "cell_type": "code",
   "execution_count": 69,
   "metadata": {},
   "outputs": [
    {
     "data": {
      "image/png": "[encoded data removed]",
      "text/latex": [
       "$\\displaystyle \\Delta_{r} \\left(\\Xi + a \\left(a - 1\\right) \\sin^{2}{\\left(\\theta \\right)}\\right)^{2} - \\Delta_{\\theta} \\left(\\Xi a + \\left(\\tilde{r}^{2} + a^{2}\\right) \\left(a - 1\\right)\\right)^{2} \\sin^{2}{\\left(\\theta \\right)}$"
      ],
      "text/plain": [
       "                          2                                           2       \n",
       "   ⎛                 2   ⎞           ⎛      ⎛         2    2⎞        ⎞     2  \n",
       "Δᵣ⋅⎝Ξ + a⋅(a - 1)⋅sin (θ)⎠  - Δₜₕₑₜₐ⋅⎝Ξ⋅a + ⎝\\tilde{r}  + a ⎠⋅(a - 1)⎠ ⋅sin (θ\n",
       "\n",
       " \n",
       " \n",
       ")"
      ]
     },
     "execution_count": 69,
     "metadata": {},
     "output_type": "execute_result"
    }
   ],
   "source": [
    "g_00 = g_00.subs({omega: 1})\n",
    "g_00"
   ]
  },
  {
   "cell_type": "code",
   "execution_count": 70,
   "metadata": {},
   "outputs": [
    {
     "data": {
      "image/png": "[encoded data removed]",
      "text/latex": [
       "$\\displaystyle \\tilde{r}^{4} \\left(\\tilde{r}_+^{8} \\sin^{4}{\\left(\\theta \\right)} + \\tilde{r}_+^{8} \\sin^{2}{\\left(\\theta \\right)} \\cos^{2}{\\left(\\theta \\right)} - 2 \\tilde{r}_+^{8} \\sin^{2}{\\left(\\theta \\right)} + \\tilde{r}_+^{8} - 2 \\tilde{r}_+^{6} \\sin^{4}{\\left(\\theta \\right)} - 2 \\tilde{r}_+^{6} \\sin^{2}{\\left(\\theta \\right)} \\cos^{2}{\\left(\\theta \\right)} + 2 \\tilde{r}_+^{6} \\sin^{2}{\\left(\\theta \\right)} + \\tilde{r}_+^{4} \\sin^{4}{\\left(\\theta \\right)} + \\tilde{r}_+^{4} \\sin^{2}{\\left(\\theta \\right)} \\cos^{2}{\\left(\\theta \\right)} + \\tilde{r}_+^{4} \\sin^{2}{\\left(\\theta \\right)} - 2 \\tilde{r}_+^{4} - \\sin^{2}{\\left(\\theta \\right)} + 1\\right) + \\tilde{r}^{2} \\left(\\tilde{r}_+^{12} \\sin^{4}{\\left(\\theta \\right)} - 2 \\tilde{r}_+^{12} \\sin^{2}{\\left(\\theta \\right)} + \\tilde{r}_+^{12} - 2 \\tilde{r}_+^{10} \\sin^{4}{\\left(\\theta \\right)} - 2 \\tilde{r}_+^{10} \\sin^{2}{\\left(\\theta \\right)} \\cos^{2}{\\left(\\theta \\right)} + 2 \\tilde{r}_+^{10} \\sin^{2}{\\left(\\theta \\right)} + 2 \\tilde{r}_+^{8} \\sin^{4}{\\left(\\theta \\right)} + 4 \\tilde{r}_+^{8} \\sin^{2}{\\left(\\theta \\right)} \\cos^{2}{\\left(\\theta \\right)} - \\tilde{r}_+^{8} - 2 \\tilde{r}_+^{6} \\sin^{4}{\\left(\\theta \\right)} - 2 \\tilde{r}_+^{6} \\sin^{2}{\\left(\\theta \\right)} \\cos^{2}{\\left(\\theta \\right)} + 2 \\tilde{r}_+^{6} \\sin^{2}{\\left(\\theta \\right)} + \\tilde{r}_+^{4} \\sin^{4}{\\left(\\theta \\right)} - 2 \\tilde{r}_+^{4} \\sin^{2}{\\left(\\theta \\right)} - \\tilde{r}_+^{4} + 1\\right) + \\tilde{r} \\left(- 2 \\tilde{r}_+^{13} \\sin^{4}{\\left(\\theta \\right)} + 4 \\tilde{r}_+^{13} \\sin^{2}{\\left(\\theta \\right)} - 2 \\tilde{r}_+^{13} + 4 \\tilde{r}_+^{11} \\sin^{2}{\\left(\\theta \\right)} - 4 \\tilde{r}_+^{11} + 4 \\tilde{r}_+^{9} \\sin^{4}{\\left(\\theta \\right)} - 8 \\tilde{r}_+^{9} \\sin^{2}{\\left(\\theta \\right)} + 2 \\tilde{r}_+^{9} - 8 \\tilde{r}_+^{7} \\sin^{2}{\\left(\\theta \\right)} + 8 \\tilde{r}_+^{7} - 2 \\tilde{r}_+^{5} \\sin^{4}{\\left(\\theta \\right)} + 4 \\tilde{r}_+^{5} \\sin^{2}{\\left(\\theta \\right)} + 2 \\tilde{r}_+^{5} + 4 \\tilde{r}_+^{3} \\sin^{2}{\\left(\\theta \\right)} - 4 \\tilde{r}_+^{3} - 2 \\tilde{r}_+\\right) + \\tilde{r}_+^{14} \\sin^{4}{\\left(\\theta \\right)} - 2 \\tilde{r}_+^{14} \\sin^{2}{\\left(\\theta \\right)} + \\tilde{r}_+^{14} + \\tilde{r}_+^{12} \\sin^{4}{\\left(\\theta \\right)} + \\tilde{r}_+^{12} \\sin^{2}{\\left(\\theta \\right)} \\cos^{2}{\\left(\\theta \\right)} - 4 \\tilde{r}_+^{12} \\sin^{2}{\\left(\\theta \\right)} + 3 \\tilde{r}_+^{12} - 4 \\tilde{r}_+^{10} \\sin^{4}{\\left(\\theta \\right)} - 2 \\tilde{r}_+^{10} \\sin^{2}{\\left(\\theta \\right)} \\cos^{2}{\\left(\\theta \\right)} + 6 \\tilde{r}_+^{10} \\sin^{2}{\\left(\\theta \\right)} - \\tilde{r}_+^{10} + \\tilde{r}_+^{8} \\sin^{4}{\\left(\\theta \\right)} + \\tilde{r}_+^{8} \\sin^{2}{\\left(\\theta \\right)} \\cos^{2}{\\left(\\theta \\right)} + 5 \\tilde{r}_+^{8} \\sin^{2}{\\left(\\theta \\right)} - 6 \\tilde{r}_+^{8} + \\tilde{r}_+^{6} \\sin^{4}{\\left(\\theta \\right)} - 2 \\tilde{r}_+^{6} \\sin^{2}{\\left(\\theta \\right)} - \\tilde{r}_+^{6} - 3 \\tilde{r}_+^{4} \\sin^{2}{\\left(\\theta \\right)} + 3 \\tilde{r}_+^{4} + \\tilde{r}_+^{2}$"
      ],
      "text/plain": [
       "         4 ⎛          8    4                8    2       2                  8 \n",
       "\\tilde{r} ⋅⎝\\tilde{r}₊ ⋅sin (θ) + \\tilde{r}₊ ⋅sin (θ)⋅cos (θ) - 2⋅\\tilde{r}₊ ⋅\n",
       "\n",
       "   2                8               6    4                  6    2       2    \n",
       "sin (θ) + \\tilde{r}₊  - 2⋅\\tilde{r}₊ ⋅sin (θ) - 2⋅\\tilde{r}₊ ⋅sin (θ)⋅cos (θ) \n",
       "\n",
       "              6    2                4    4                4    2       2      \n",
       "+ 2⋅\\tilde{r}₊ ⋅sin (θ) + \\tilde{r}₊ ⋅sin (θ) + \\tilde{r}₊ ⋅sin (θ)⋅cos (θ) + \n",
       "\n",
       "          4    2                  4      2       ⎞            2 ⎛          12 \n",
       "\\tilde{r}₊ ⋅sin (θ) - 2⋅\\tilde{r}₊  - sin (θ) + 1⎠ + \\tilde{r} ⋅⎝\\tilde{r}₊  ⋅\n",
       "\n",
       "   4                  12    2                12               10    4         \n",
       "sin (θ) - 2⋅\\tilde{r}₊  ⋅sin (θ) + \\tilde{r}₊   - 2⋅\\tilde{r}₊  ⋅sin (θ) - 2⋅\\\n",
       "\n",
       "         10    2       2                  10    2                  8    4     \n",
       "tilde{r}₊  ⋅sin (θ)⋅cos (θ) + 2⋅\\tilde{r}₊  ⋅sin (θ) + 2⋅\\tilde{r}₊ ⋅sin (θ) +\n",
       "\n",
       "             8    2       2                8               6    4             \n",
       " 4⋅\\tilde{r}₊ ⋅sin (θ)⋅cos (θ) - \\tilde{r}₊  - 2⋅\\tilde{r}₊ ⋅sin (θ) - 2⋅\\tild\n",
       "\n",
       "     6    2       2                  6    2                4    4             \n",
       "e{r}₊ ⋅sin (θ)⋅cos (θ) + 2⋅\\tilde{r}₊ ⋅sin (θ) + \\tilde{r}₊ ⋅sin (θ) - 2⋅\\tild\n",
       "\n",
       "     4    2                4    ⎞             ⎛              13    4          \n",
       "e{r}₊ ⋅sin (θ) - \\tilde{r}₊  + 1⎠ + \\tilde{r}⋅⎝- 2⋅\\tilde{r}₊  ⋅sin (θ) + 4⋅\\t\n",
       "\n",
       "        13    2                  13               11    2                  11 \n",
       "ilde{r}₊  ⋅sin (θ) - 2⋅\\tilde{r}₊   + 4⋅\\tilde{r}₊  ⋅sin (θ) - 4⋅\\tilde{r}₊   \n",
       "\n",
       "              9    4                  9    2                  9               \n",
       "+ 4⋅\\tilde{r}₊ ⋅sin (θ) - 8⋅\\tilde{r}₊ ⋅sin (θ) + 2⋅\\tilde{r}₊  - 8⋅\\tilde{r}₊\n",
       "\n",
       "7    2                  7               5    4                  5    2        \n",
       " ⋅sin (θ) + 8⋅\\tilde{r}₊  - 2⋅\\tilde{r}₊ ⋅sin (θ) + 4⋅\\tilde{r}₊ ⋅sin (θ) + 2⋅\n",
       "\n",
       "          5               3    2                  3               ⎞           \n",
       "\\tilde{r}₊  + 4⋅\\tilde{r}₊ ⋅sin (θ) - 4⋅\\tilde{r}₊  - 2⋅\\tilde{r}₊⎠ + \\tilde{r\n",
       "\n",
       "  14    4                  14    2                14             12    4      \n",
       "}₊  ⋅sin (θ) - 2⋅\\tilde{r}₊  ⋅sin (θ) + \\tilde{r}₊   + \\tilde{r}₊  ⋅sin (θ) + \n",
       "\n",
       "          12    2       2                  12    2                  12        \n",
       "\\tilde{r}₊  ⋅sin (θ)⋅cos (θ) - 4⋅\\tilde{r}₊  ⋅sin (θ) + 3⋅\\tilde{r}₊   - 4⋅\\ti\n",
       "\n",
       "       10    4                  10    2       2                  10    2      \n",
       "lde{r}₊  ⋅sin (θ) - 2⋅\\tilde{r}₊  ⋅sin (θ)⋅cos (θ) + 6⋅\\tilde{r}₊  ⋅sin (θ) - \n",
       "\n",
       "          10             8    4                8    2       2                 \n",
       "\\tilde{r}₊   + \\tilde{r}₊ ⋅sin (θ) + \\tilde{r}₊ ⋅sin (θ)⋅cos (θ) + 5⋅\\tilde{r}\n",
       "\n",
       " 8    2                  8             6    4                  6    2         \n",
       "₊ ⋅sin (θ) - 6⋅\\tilde{r}₊  + \\tilde{r}₊ ⋅sin (θ) - 2⋅\\tilde{r}₊ ⋅sin (θ) - \\ti\n",
       "\n",
       "       6               4    2                  4             2\n",
       "lde{r}₊  - 3⋅\\tilde{r}₊ ⋅sin (θ) + 3⋅\\tilde{r}₊  + \\tilde{r}₊ "
      ]
     },
     "execution_count": 70,
     "metadata": {},
     "output_type": "execute_result"
    }
   ],
   "source": [
    "g_00_simp = g_00.subs({delta_r: delta_r_val, xi: xi_val, delta_theta: delta_theta_val}).subs({a: a_val})\n",
    "g_00_simp = g_00_simp.expand().collect([r_tilde, r_tilde ** 2, r_tilde ** 3, r_tilde ** 4])\n",
    "g_00_simp"
   ]
  },
  {
   "cell_type": "code",
   "execution_count": 71,
   "metadata": {},
   "outputs": [
    {
     "data": {
      "image/png": "[encoded data removed]",
      "text/latex": [
       "$\\displaystyle - 2 \\tilde{r}_+ \\left(\\tilde{r}_+ - 1\\right)^{2} \\left(\\tilde{r}_+ + 1\\right)^{2} \\left(\\tilde{r}_+^{2} + 1\\right)^{2} \\left(\\tilde{r}_+^{2} \\cos^{2}{\\left(\\theta \\right)} + 1\\right)^{2}$"
      ],
      "text/plain": [
       "                                                                   2          \n",
       "                              2                 2 ⎛          2    ⎞  ⎛        \n",
       "-2⋅\\tilde{r}₊⋅(\\tilde{r}₊ - 1) ⋅(\\tilde{r}₊ + 1) ⋅⎝\\tilde{r}₊  + 1⎠ ⋅⎝\\tilde{r\n",
       "\n",
       "                2\n",
       "  2    2       ⎞ \n",
       "}₊ ⋅cos (θ) + 1⎠ "
      ]
     },
     "execution_count": 71,
     "metadata": {},
     "output_type": "execute_result"
    }
   ],
   "source": [
    "A_coeff_00 = g_00_simp.coeff(r_tilde).simplify()\n",
    "A_coeff_00"
   ]
  },
  {
   "cell_type": "code",
   "execution_count": 72,
   "metadata": {},
   "outputs": [
    {
     "data": {
      "image/png": "[encoded data removed]",
      "text/latex": [
       "$\\displaystyle \\left(\\tilde{r}_+ - 1\\right)^{2} \\left(\\tilde{r}_+ + 1\\right)^{2} \\left(\\tilde{r}_+^{2} + 1\\right)^{2} \\left(\\tilde{r}_+^{4} \\sin^{4}{\\left(\\theta \\right)} - 2 \\tilde{r}_+^{4} \\sin^{2}{\\left(\\theta \\right)} + \\tilde{r}_+^{4} + 1\\right)$"
      ],
      "text/plain": [
       "                                                     2                        \n",
       "                2                 2 ⎛          2    ⎞  ⎛          4    4      \n",
       "(\\tilde{r}₊ - 1) ⋅(\\tilde{r}₊ + 1) ⋅⎝\\tilde{r}₊  + 1⎠ ⋅⎝\\tilde{r}₊ ⋅sin (θ) - \n",
       "\n",
       "                                        \n",
       "            4    2                4    ⎞\n",
       "2⋅\\tilde{r}₊ ⋅sin (θ) + \\tilde{r}₊  + 1⎠"
      ]
     },
     "execution_count": 72,
     "metadata": {},
     "output_type": "execute_result"
    }
   ],
   "source": [
    "B_coeff_00 = g_00_simp.coeff(r_tilde ** 2).simplify().factor()\n",
    "B_coeff_00"
   ]
  },
  {
   "attachments": {},
   "cell_type": "markdown",
   "metadata": {},
   "source": [
    "This is the same as:"
   ]
  },
  {
   "cell_type": "code",
   "execution_count": 73,
   "metadata": {},
   "outputs": [
    {
     "data": {
      "image/png": "[encoded data removed]",
      "text/latex": [
       "$\\displaystyle \\left(\\tilde{r}_+ - 1\\right)^{2} \\left(\\tilde{r}_+ + 1\\right)^{2} \\left(\\tilde{r}_+^{2} + 1\\right)^{2} \\left(\\tilde{r}_+^{4} \\cos^{4}{\\left(\\theta \\right)} + 1\\right)$"
      ],
      "text/plain": [
       "                                                     2                        \n",
       "                2                 2 ⎛          2    ⎞  ⎛          4    4      \n",
       "(\\tilde{r}₊ - 1) ⋅(\\tilde{r}₊ + 1) ⋅⎝\\tilde{r}₊  + 1⎠ ⋅⎝\\tilde{r}₊ ⋅cos (θ) + \n",
       "\n",
       "  \n",
       " ⎞\n",
       "1⎠"
      ]
     },
     "execution_count": 73,
     "metadata": {},
     "output_type": "execute_result"
    }
   ],
   "source": [
    "B_coeff_00_2 = (r_tilde_plus - 1) ** 2 * (r_tilde_plus + 1) ** 2 * (r_tilde_plus ** 2 + 1) ** 2 * (r_tilde_plus ** 4 * sympy.cos(theta) ** 4 + 1)\n",
    "B_coeff_00_2"
   ]
  },
  {
   "cell_type": "code",
   "execution_count": 74,
   "metadata": {},
   "outputs": [
    {
     "data": {
      "image/png": "[encoded data removed]",
      "text/latex": [
       "$\\displaystyle 0$"
      ],
      "text/plain": [
       "0"
      ]
     },
     "execution_count": 74,
     "metadata": {},
     "output_type": "execute_result"
    }
   ],
   "source": [
    "(B_coeff_00 - B_coeff_00_2).simplify()"
   ]
  },
  {
   "cell_type": "code",
   "execution_count": 75,
   "metadata": {},
   "outputs": [
    {
     "data": {
      "image/png": "[encoded data removed]",
      "text/latex": [
       "$\\displaystyle \\left(\\tilde{r}_+ - 1\\right)^{2} \\left(\\tilde{r}_+ + 1\\right)^{2} \\left(\\tilde{r}_+^{2} + 1\\right)^{2} \\cos^{2}{\\left(\\theta \\right)}$"
      ],
      "text/plain": [
       "                                                     2        \n",
       "                2                 2 ⎛          2    ⎞     2   \n",
       "(\\tilde{r}₊ - 1) ⋅(\\tilde{r}₊ + 1) ⋅⎝\\tilde{r}₊  + 1⎠ ⋅cos (θ)"
      ]
     },
     "execution_count": 75,
     "metadata": {},
     "output_type": "execute_result"
    }
   ],
   "source": [
    "C_coeff_00 = g_00_simp.coeff(r_tilde ** 4).simplify().factor()\n",
    "C_coeff_00"
   ]
  },
  {
   "cell_type": "code",
   "execution_count": 76,
   "metadata": {},
   "outputs": [
    {
     "data": {
      "image/png": "[encoded data removed]",
      "text/latex": [
       "$\\displaystyle \\tilde{r}_+^{2} \\left(\\tilde{r}_+ - 1\\right)^{2} \\left(\\tilde{r}_+ + 1\\right)^{2} \\left(\\tilde{r}_+^{2} + 1\\right)^{2} \\left(\\tilde{r}_+^{4} \\left(1 - \\cos^{2}{\\left(\\theta \\right)}\\right)^{2} + 2 \\tilde{r}_+^{4} \\cos^{2}{\\left(\\theta \\right)} - \\tilde{r}_+^{4} + 3 \\tilde{r}_+^{2} \\cos^{2}{\\left(\\theta \\right)} + 1\\right)$"
      ],
      "text/plain": [
       "                                                                 2 ⎛          \n",
       "          2                 2                 2 ⎛          2    ⎞  ⎜          \n",
       "\\tilde{r}₊ ⋅(\\tilde{r}₊ - 1) ⋅(\\tilde{r}₊ + 1) ⋅⎝\\tilde{r}₊  + 1⎠ ⋅⎝\\tilde{r}₊\n",
       "\n",
       "               2                                                              \n",
       "4 ⎛       2   ⎞                4    2                4               2    2   \n",
       " ⋅⎝1 - cos (θ)⎠  + 2⋅\\tilde{r}₊ ⋅cos (θ) - \\tilde{r}₊  + 3⋅\\tilde{r}₊ ⋅cos (θ)\n",
       "\n",
       "    ⎞\n",
       "    ⎟\n",
       " + 1⎠"
      ]
     },
     "execution_count": 76,
     "metadata": {},
     "output_type": "execute_result"
    }
   ],
   "source": [
    "D_coeff_00 = g_00_simp - A_coeff_00 * r_tilde - B_coeff_00 * r_tilde ** 2 - C_coeff_00 * r_tilde ** 4\n",
    "D_coeff_00.simplify()"
   ]
  },
  {
   "attachments": {},
   "cell_type": "markdown",
   "metadata": {},
   "source": [
    "This is the same as:"
   ]
  },
  {
   "cell_type": "code",
   "execution_count": 77,
   "metadata": {},
   "outputs": [
    {
     "data": {
      "image/png": "[encoded data removed]",
      "text/latex": [
       "$\\displaystyle \\tilde{r}_+^{2} \\left(\\tilde{r}_+ - 1\\right)^{2} \\left(\\tilde{r}_+ + 1\\right)^{2} \\left(\\tilde{r}_+^{2} + 1\\right)^{2} \\left(\\tilde{r}_+^{2} \\cos^{2}{\\left(\\theta \\right)} + \\left(\\tilde{r}_+^{2} \\cos^{2}{\\left(\\theta \\right)} + 1\\right)^{2}\\right)$"
      ],
      "text/plain": [
       "                                                                 2 ⎛          \n",
       "          2                 2                 2 ⎛          2    ⎞  ⎜          \n",
       "\\tilde{r}₊ ⋅(\\tilde{r}₊ - 1) ⋅(\\tilde{r}₊ + 1) ⋅⎝\\tilde{r}₊  + 1⎠ ⋅⎝\\tilde{r}₊\n",
       "\n",
       "                                     2⎞\n",
       "2    2      ⎛          2    2       ⎞ ⎟\n",
       " ⋅cos (θ) + ⎝\\tilde{r}₊ ⋅cos (θ) + 1⎠ ⎠"
      ]
     },
     "execution_count": 77,
     "metadata": {},
     "output_type": "execute_result"
    }
   ],
   "source": [
    "D_coeff_00_new = (r_tilde_plus - 1) ** 2 * (r_tilde_plus + 1) ** 2 * (r_tilde_plus ** 2 + 1) ** 2 * r_tilde_plus ** 2 * (r_tilde_plus ** 2 * sympy.cos(theta) ** 2 + (r_tilde_plus ** 2 * sympy.cos(theta) ** 2 + 1) ** 2)\n",
    "D_coeff_00_new"
   ]
  },
  {
   "cell_type": "code",
   "execution_count": 78,
   "metadata": {},
   "outputs": [
    {
     "data": {
      "image/png": "[encoded data removed]",
      "text/latex": [
       "$\\displaystyle 0$"
      ],
      "text/plain": [
       "0"
      ]
     },
     "execution_count": 78,
     "metadata": {},
     "output_type": "execute_result"
    }
   ],
   "source": [
    "(D_coeff_00 - D_coeff_00_new).simplify()"
   ]
  },
  {
   "attachments": {},
   "cell_type": "markdown",
   "metadata": {},
   "source": [
    "##### $g_{11}$"
   ]
  },
  {
   "attachments": {},
   "cell_type": "markdown",
   "metadata": {},
   "source": [
    "This component remains unchanged."
   ]
  },
  {
   "attachments": {},
   "cell_type": "markdown",
   "metadata": {},
   "source": [
    "### $m$ Complex"
   ]
  },
  {
   "cell_type": "code",
   "execution_count": 149,
   "metadata": {},
   "outputs": [],
   "source": [
    "a_m, b_m = sympy.symbols(\"a_m b_m\")"
   ]
  },
  {
   "cell_type": "code",
   "execution_count": 150,
   "metadata": {},
   "outputs": [
    {
     "data": {
      "image/png": "[encoded data removed]",
      "text/latex": [
       "$\\displaystyle - 2 \\tilde{r} a_{m} \\cosh{\\left(2 \\delta \\right)} + \\left(\\tilde{r}^{2} + 1\\right) \\left(\\tilde{r}^{2} + a^{2}\\right) + \\left(a_{m}^{2} - b_{m}^{2}\\right) \\sinh^{2}{\\left(2 \\delta \\right)}$"
      ],
      "text/plain": [
       "                                 ⎛         2    ⎞ ⎛         2    2⎞   ⎛  2    \n",
       "-2⋅\\tilde{r}⋅aₘ⋅cosh(2⋅\\delta) + ⎝\\tilde{r}  + 1⎠⋅⎝\\tilde{r}  + a ⎠ + ⎝aₘ  - b\n",
       "\n",
       " 2⎞     2          \n",
       "ₘ ⎠⋅sinh (2⋅\\delta)"
      ]
     },
     "execution_count": 150,
     "metadata": {},
     "output_type": "execute_result"
    }
   ],
   "source": [
    "det_g_r = (a_m ** 2 - b_m ** 2) * sympy.sinh(2 * delta) ** 2 - 2 * r_tilde * a_m * sympy.cosh(2 * delta) + (r_tilde ** 2 + 1) * (r_tilde ** 2 + a ** 2)\n",
    "det_g_r"
   ]
  },
  {
   "cell_type": "code",
   "execution_count": 151,
   "metadata": {},
   "outputs": [
    {
     "data": {
      "image/png": "[encoded data removed]",
      "text/latex": [
       "$\\displaystyle 2 b_{m} \\left(- \\tilde{r} \\cosh{\\left(2 \\delta \\right)} + a_{m} \\sinh^{2}{\\left(2 \\delta \\right)}\\right)$"
      ],
      "text/plain": [
       "     ⎛                                   2          ⎞\n",
       "2⋅bₘ⋅⎝-\\tilde{r}⋅cosh(2⋅\\delta) + aₘ⋅sinh (2⋅\\delta)⎠"
      ]
     },
     "execution_count": 151,
     "metadata": {},
     "output_type": "execute_result"
    }
   ],
   "source": [
    "det_g_i = 2 * b_m * (a_m * sympy.sinh(2 * delta) ** 2 - r_tilde * sympy.cosh(2 * delta))\n",
    "det_g_i"
   ]
  },
  {
   "cell_type": "code",
   "execution_count": 152,
   "metadata": {},
   "outputs": [
    {
     "data": {
      "image/png": "[encoded data removed]",
      "text/latex": [
       "$\\displaystyle \\frac{\\tilde{r}_+ \\coth{\\left(2 \\delta \\right)}}{\\sinh{\\left(2 \\delta \\right)}}$"
      ],
      "text/plain": [
       "\\tilde{r}₊⋅coth(2⋅\\delta)\n",
       "─────────────────────────\n",
       "      sinh(2⋅\\delta)     "
      ]
     },
     "execution_count": 152,
     "metadata": {},
     "output_type": "execute_result"
    }
   ],
   "source": [
    "a_m_val = r_tilde_plus * sympy.coth(2 * delta) / sympy.sinh(2 * delta)\n",
    "a_m_val"
   ]
  },
  {
   "cell_type": "code",
   "execution_count": 153,
   "metadata": {},
   "outputs": [
    {
     "data": {
      "image/png": "[encoded data removed]",
      "text/latex": [
       "$\\displaystyle \\frac{\\tilde{r}_+^{2} - \\coth{\\left(2 \\delta \\right)} + 1}{\\sinh{\\left(2 \\delta \\right)}}$"
      ],
      "text/plain": [
       "          2                     \n",
       "\\tilde{r}₊  - coth(2⋅\\delta) + 1\n",
       "────────────────────────────────\n",
       "         sinh(2⋅\\delta)         "
      ]
     },
     "execution_count": 153,
     "metadata": {},
     "output_type": "execute_result"
    }
   ],
   "source": [
    "b_m_val = (r_tilde_plus ** 2 - sympy.coth(2 * delta) + 1) / sympy.sinh(2 * delta)\n",
    "b_m_val"
   ]
  },
  {
   "cell_type": "code",
   "execution_count": 154,
   "metadata": {},
   "outputs": [
    {
     "data": {
      "image/png": "[encoded data removed]",
      "text/latex": [
       "$\\displaystyle \\frac{2}{e^{4 \\delta} - 1}$"
      ],
      "text/plain": [
       "      2      \n",
       "─────────────\n",
       " 4⋅\\delta    \n",
       "ℯ         - 1"
      ]
     },
     "execution_count": 154,
     "metadata": {},
     "output_type": "execute_result"
    }
   ],
   "source": [
    "a_val = 2 / (sympy.exp(4 * delta) - 1)\n",
    "a_val"
   ]
  },
  {
   "attachments": {},
   "cell_type": "markdown",
   "metadata": {},
   "source": [
    "#### $\\text{Re} \\det g$"
   ]
  },
  {
   "cell_type": "code",
   "execution_count": 570,
   "metadata": {},
   "outputs": [
    {
     "data": {
      "image/png": "[encoded data removed]",
      "text/latex": [
       "$\\displaystyle - \\frac{2 \\tilde{r} \\tilde{r}_+ \\cosh{\\left(2 \\delta \\right)} \\coth{\\left(2 \\delta \\right)}}{\\sinh{\\left(2 \\delta \\right)}} + \\left(\\tilde{r}^{2} + 1\\right) \\left(\\tilde{r}^{2} + \\frac{4}{\\left(e^{4 \\delta} - 1\\right)^{2}}\\right) + \\left(\\frac{\\tilde{r}_+^{2} \\coth^{2}{\\left(2 \\delta \\right)}}{\\sinh^{2}{\\left(2 \\delta \\right)}} - \\frac{\\left(\\tilde{r}_+^{2} - \\coth{\\left(2 \\delta \\right)} + 1\\right)^{2}}{\\sinh^{2}{\\left(2 \\delta \\right)}}\\right) \\sinh^{2}{\\left(2 \\delta \\right)}$"
      ],
      "text/plain": [
       "                                                                              \n",
       "                                                                              \n",
       "  2⋅\\tilde{r}⋅\\tilde{r}₊⋅cosh(2⋅\\delta)⋅coth(2⋅\\delta)   ⎛         2    ⎞ ⎛   \n",
       "- ──────────────────────────────────────────────────── + ⎝\\tilde{r}  + 1⎠⋅⎜\\ti\n",
       "                     sinh(2⋅\\delta)                                       ⎜   \n",
       "                                                                          ⎜   \n",
       "                                                                          ⎝   \n",
       "\n",
       "                              ⎛                                               \n",
       "                              ⎜          2     2             ⎛          2     \n",
       "      2          4        ⎞   ⎜\\tilde{r}₊ ⋅coth (2⋅\\delta)   ⎝\\tilde{r}₊  - co\n",
       "lde{r}  + ────────────────⎟ + ⎜─────────────────────────── - ─────────────────\n",
       "                         2⎟   ⎜          2                                 2  \n",
       "          ⎛ 4⋅\\delta    ⎞ ⎟   ⎝      sinh (2⋅\\delta)                   sinh (2\n",
       "          ⎝ℯ         - 1⎠ ⎠                                                   \n",
       "\n",
       "                 2⎞                \n",
       "                ⎞ ⎟                \n",
       "th(2⋅\\delta) + 1⎠ ⎟     2          \n",
       "──────────────────⎟⋅sinh (2⋅\\delta)\n",
       "                  ⎟                \n",
       "⋅\\delta)          ⎠                \n",
       "                                   "
      ]
     },
     "execution_count": 570,
     "metadata": {},
     "output_type": "execute_result"
    }
   ],
   "source": [
    "det_g_r_subs = det_g_r.subs({a_m: a_m_val, b_m: b_m_val, a: a_val})\n",
    "det_g_r_subs"
   ]
  },
  {
   "cell_type": "code",
   "execution_count": 401,
   "metadata": {},
   "outputs": [
    {
     "data": {
      "image/png": "[encoded data removed]",
      "text/latex": [
       "$\\displaystyle \\tilde{r}^{4} \\left(e^{4 \\delta} - 1\\right)^{2} + \\tilde{r}^{2} \\left(\\left(e^{4 \\delta} - 1\\right)^{2} + 4\\right) - 2 \\tilde{r} \\tilde{r}_+ \\left(e^{4 \\delta} + 1\\right)^{2} - \\tilde{r}_+^{4} \\left(e^{4 \\delta} - 1\\right)^{2} + \\tilde{r}_+^{2} \\left(e^{8 \\delta} + 6 e^{4 \\delta} - 3\\right)$"
      ],
      "text/plain": [
       "                          2              ⎛               2    ⎞               \n",
       "         4 ⎛ 4⋅\\delta    ⎞             2 ⎜⎛ 4⋅\\delta    ⎞     ⎟               \n",
       "\\tilde{r} ⋅⎝ℯ         - 1⎠  + \\tilde{r} ⋅⎝⎝ℯ         - 1⎠  + 4⎠ - 2⋅\\tilde{r}⋅\n",
       "\n",
       "                          2                              2                    \n",
       "           ⎛ 4⋅\\delta    ⎞              4 ⎛ 4⋅\\delta    ⎞              2 ⎛ 8⋅\\\n",
       "\\tilde{r}₊⋅⎝ℯ         + 1⎠  - \\tilde{r}₊ ⋅⎝ℯ         - 1⎠  + \\tilde{r}₊ ⋅⎝ℯ   \n",
       "\n",
       "                        \n",
       "delta      4⋅\\delta    ⎞\n",
       "      + 6⋅ℯ         - 3⎠"
      ]
     },
     "execution_count": 401,
     "metadata": {},
     "output_type": "execute_result"
    }
   ],
   "source": [
    "det_g_r_simplified = (sympy.exp(4 * delta) - 1) ** 2 * r_tilde ** 4 + ((sympy.exp(4 * delta) - 1) ** 2 + 4) * r_tilde ** 2\n",
    "det_g_r_simplified += -2 * r_tilde_plus * (sympy.exp(4 * delta) + 1) ** 2 * r_tilde - (sympy.exp(4 * delta) - 1) ** 2 * r_tilde_plus ** 4\n",
    "det_g_r_simplified += (sympy.exp(8 * delta) + 6 * sympy.exp(4 * delta) - 3) * r_tilde_plus ** 2\n",
    "det_g_r_simplified"
   ]
  },
  {
   "cell_type": "code",
   "execution_count": 451,
   "metadata": {},
   "outputs": [
    {
     "data": {
      "image/png": "[encoded data removed]",
      "text/latex": [
       "$\\displaystyle \\tilde{r}^{4} \\left(e^{4 \\delta} - 1\\right)^{2} + \\tilde{r}^{2} \\cdot \\left(4 - 4 e^{4 \\delta}\\right) - \\tilde{r}_+^{4} \\left(e^{4 \\delta} - 1\\right)^{2} + \\tilde{r}_+^{2} \\cdot \\left(4 e^{4 \\delta} - 4\\right) + \\left(- \\tilde{r} + \\tilde{r}_+\\right)^{2} \\left(e^{4 \\delta} + 1\\right)^{2}$"
      ],
      "text/plain": [
       "                          2                                                   \n",
       "         4 ⎛ 4⋅\\delta    ⎞             2 ⎛       4⋅\\delta⎞             4 ⎛ 4⋅\\\n",
       "\\tilde{r} ⋅⎝ℯ         - 1⎠  + \\tilde{r} ⋅⎝4 - 4⋅ℯ        ⎠ - \\tilde{r}₊ ⋅⎝ℯ   \n",
       "\n",
       "          2                                                                   \n",
       "delta    ⎞              2 ⎛   4⋅\\delta    ⎞                            2 ⎛ 4⋅\\\n",
       "      - 1⎠  + \\tilde{r}₊ ⋅⎝4⋅ℯ         - 4⎠ + (-\\tilde{r} + \\tilde{r}₊) ⋅⎝ℯ   \n",
       "\n",
       "          2\n",
       "delta    ⎞ \n",
       "      + 1⎠ "
      ]
     },
     "execution_count": 451,
     "metadata": {},
     "output_type": "execute_result"
    }
   ],
   "source": [
    "det_g_r_simplified_2 = (sympy.exp(4 * delta) - 1) ** 2 * r_tilde ** 4 + 4 * (1 - sympy.exp(4 * delta)) * r_tilde ** 2\n",
    "det_g_r_simplified_2 += -(sympy.exp(4 * delta) - 1) ** 2 * r_tilde_plus ** 4 + 4 * (sympy.exp(4 * delta) - 1) * r_tilde_plus ** 2\n",
    "det_g_r_simplified_2 += (sympy.exp(4 * delta) + 1) ** 2 * (r_tilde_plus - r_tilde) ** 2\n",
    "det_g_r_simplified_2"
   ]
  },
  {
   "cell_type": "code",
   "execution_count": 475,
   "metadata": {},
   "outputs": [
    {
     "data": {
      "image/png": "[encoded data removed]",
      "text/latex": [
       "$\\displaystyle \\tilde{r}^{4} - \\tilde{r}_+^{4} + \\left(- \\tilde{r} + \\tilde{r}_+\\right)^{2} \\coth^{2}{\\left(2 \\delta \\right)} + \\frac{4 \\left(- \\tilde{r}^{2} + \\tilde{r}_+^{2}\\right)}{e^{4 \\delta} - 1}$"
      ],
      "text/plain": [
       "                                                                          ⎛   \n",
       "         4             4                            2     2             4⋅⎝- \\\n",
       "\\tilde{r}  - \\tilde{r}₊  + (-\\tilde{r} + \\tilde{r}₊) ⋅coth (2⋅\\delta) + ──────\n",
       "                                                                              \n",
       "                                                                              \n",
       "\n",
       "        2             2⎞\n",
       "tilde{r}  + \\tilde{r}₊ ⎠\n",
       "────────────────────────\n",
       "   4⋅\\delta             \n",
       "  ℯ         - 1         "
      ]
     },
     "execution_count": 475,
     "metadata": {},
     "output_type": "execute_result"
    }
   ],
   "source": [
    "det_g_r_simplified_3 = r_tilde ** 4 - r_tilde_plus ** 4 + (r_tilde_plus - r_tilde) ** 2 * sympy.coth(2 * delta) ** 2\n",
    "det_g_r_simplified_3 += 4 / (sympy.exp(4 * delta) - 1) * (r_tilde_plus ** 2 - r_tilde ** 2)\n",
    "det_g_r_simplified_3"
   ]
  },
  {
   "cell_type": "code",
   "execution_count": 487,
   "metadata": {},
   "outputs": [
    {
     "data": {
      "image/png": "[encoded data removed]",
      "text/latex": [
       "$\\displaystyle 6487.05899507839$"
      ],
      "text/plain": [
       "6487.05899507839"
      ]
     },
     "execution_count": 487,
     "metadata": {},
     "output_type": "execute_result"
    }
   ],
   "source": [
    "(det_g_r_simplified / (sympy.exp(4 * delta) - 1) ** 2).subs({delta: 1, r_tilde: 9, r_tilde_plus: 3.2}).evalf()"
   ]
  },
  {
   "cell_type": "code",
   "execution_count": 488,
   "metadata": {},
   "outputs": [
    {
     "data": {
      "image/png": "[encoded data removed]",
      "text/latex": [
       "$\\displaystyle 6487.05899507839$"
      ],
      "text/plain": [
       "6487.05899507839"
      ]
     },
     "execution_count": 488,
     "metadata": {},
     "output_type": "execute_result"
    }
   ],
   "source": [
    "(det_g_r_simplified_2 / (sympy.exp(4 * delta) - 1) ** 2).subs({delta: 1, r_tilde: 9, r_tilde_plus: 3.2}).evalf()"
   ]
  },
  {
   "cell_type": "code",
   "execution_count": 489,
   "metadata": {},
   "outputs": [
    {
     "data": {
      "image/png": "[encoded data removed]",
      "text/latex": [
       "$\\displaystyle 6487.05899507839$"
      ],
      "text/plain": [
       "6487.05899507839"
      ]
     },
     "execution_count": 489,
     "metadata": {},
     "output_type": "execute_result"
    }
   ],
   "source": [
    "det_g_r_simplified_3.subs({delta: 1, r_tilde: 9, r_tilde_plus: 3.2}).evalf()"
   ]
  },
  {
   "cell_type": "code",
   "execution_count": 573,
   "metadata": {},
   "outputs": [
    {
     "data": {
      "image/png": "[encoded data removed]",
      "text/latex": [
       "$\\displaystyle 6487.05899507839$"
      ],
      "text/plain": [
       "6487.05899507839"
      ]
     },
     "execution_count": 573,
     "metadata": {},
     "output_type": "execute_result"
    }
   ],
   "source": [
    "det_g_r_subs.subs({delta: 1, r_tilde: 9, r_tilde_plus: 3.2}).evalf()"
   ]
  },
  {
   "cell_type": "code",
   "execution_count": 583,
   "metadata": {},
   "outputs": [],
   "source": [
    "errors = []\n",
    "\n",
    "for delta_val in np.arange(0.1, 10, 0.1):\n",
    "    for r_tilde_plus_val in np.arange(0.1, 10, 0.1):\n",
    "        for r_tilde_val in np.arange(0.1, 10, 1):\n",
    "            g_1 = det_g_r_simplified_3.subs({delta: delta_val, r_tilde: r_tilde_val, r_tilde_plus: r_tilde_plus_val}).evalf()\n",
    "            g_2 = det_g_r_subs.subs({delta: delta_val, r_tilde: r_tilde_val, r_tilde_plus: r_tilde_plus_val}).evalf()\n",
    "            errors.append(np.abs(g_1 - g_2))\n"
   ]
  },
  {
   "cell_type": "code",
   "execution_count": 584,
   "metadata": {},
   "outputs": [
    {
     "data": {
      "image/png": "[encoded data removed]",
      "text/latex": [
       "$\\displaystyle 7.27595761418343 \\cdot 10^{-12}$"
      ],
      "text/plain": [
       "7.27595761418343e-12"
      ]
     },
     "execution_count": 584,
     "metadata": {},
     "output_type": "execute_result"
    }
   ],
   "source": [
    "max(errors)"
   ]
  },
  {
   "cell_type": "code",
   "execution_count": 585,
   "metadata": {},
   "outputs": [
    {
     "data": {
      "image/png": "[encoded data removed]",
      "text/latex": [
       "$\\displaystyle \\left[ 1, \\  0, \\  1 + \\frac{4}{e^{8 \\delta} - 2 e^{4 \\delta} + 1}, \\  - \\frac{2 \\tilde{r}_+ \\cosh{\\left(2 \\delta \\right)} \\coth{\\left(2 \\delta \\right)}}{\\sinh{\\left(2 \\delta \\right)}}, \\  - \\tilde{r}_+^{4} + \\tilde{r}_+^{2} \\coth^{2}{\\left(2 \\delta \\right)} + 2 \\tilde{r}_+^{2} \\coth{\\left(2 \\delta \\right)} - 2 \\tilde{r}_+^{2} - \\coth^{2}{\\left(2 \\delta \\right)} + 2 \\coth{\\left(2 \\delta \\right)} - 1 + \\frac{4}{e^{8 \\delta} - 2 e^{4 \\delta} + 1}\\right]$"
      ],
      "text/plain": [
       "⎡                       4               -2⋅\\tilde{r}₊⋅cosh(2⋅\\delta)⋅coth(2⋅\\d\n",
       "⎢1, 0, 1 + ───────────────────────────, ──────────────────────────────────────\n",
       "⎢           8⋅\\delta      4⋅\\delta                     sinh(2⋅\\delta)         \n",
       "⎣          ℯ         - 2⋅ℯ         + 1                                        \n",
       "\n",
       "elta)               4             2     2                         2           \n",
       "──────, - \\tilde{r}₊  + \\tilde{r}₊ ⋅coth (2⋅\\delta) + 2⋅\\tilde{r}₊ ⋅coth(2⋅\\de\n",
       "                                                                              \n",
       "                                                                              \n",
       "\n",
       "                   2       2                                                 4\n",
       "lta) - 2⋅\\tilde{r}₊  - coth (2⋅\\delta) + 2⋅coth(2⋅\\delta) - 1 + ──────────────\n",
       "                                                                 8⋅\\delta     \n",
       "                                                                ℯ         - 2⋅\n",
       "\n",
       "             ⎤\n",
       "─────────────⎥\n",
       " 4⋅\\delta    ⎥\n",
       "ℯ         + 1⎦"
      ]
     },
     "execution_count": 585,
     "metadata": {},
     "output_type": "execute_result"
    }
   ],
   "source": [
    "coeffs = sympy.Poly(det_g_r_subs, r_tilde).all_coeffs()\n",
    "coeffs"
   ]
  },
  {
   "cell_type": "code",
   "execution_count": 586,
   "metadata": {},
   "outputs": [],
   "source": [
    "exp_8delta_val = sympy.cosh(8 * delta) + sympy.sinh(8 * delta)\n",
    "exp_4delta_val = sympy.cosh(4 * delta) + sympy.sinh(4 * delta)"
   ]
  },
  {
   "cell_type": "code",
   "execution_count": 587,
   "metadata": {},
   "outputs": [],
   "source": [
    "sinh_val = (sympy.exp(2 * delta) - sympy.exp(-2 * delta)) / 2\n",
    "cosh_val = (sympy.exp(2 * delta) + sympy.exp(-2 * delta)) / 2\n",
    "coth_val = (sympy.exp(2 * delta) + sympy.exp(-2 * delta)) / (sympy.exp(2 * delta) - sympy.exp(-2 * delta))"
   ]
  },
  {
   "cell_type": "code",
   "execution_count": 588,
   "metadata": {},
   "outputs": [
    {
     "data": {
      "image/png": "[encoded data removed]",
      "text/latex": [
       "$\\displaystyle - \\frac{\\left(e^{8 \\delta} - 2 e^{4 \\delta} + 1\\right) \\left(\\tilde{r}_+^{4} - \\tilde{r}_+^{2} \\coth^{2}{\\left(2 \\delta \\right)} - 2 \\tilde{r}_+^{2} \\coth{\\left(2 \\delta \\right)} + 2 \\tilde{r}_+^{2} + \\coth^{2}{\\left(2 \\delta \\right)} - 2 \\coth{\\left(2 \\delta \\right)} + 1\\right) - 4}{e^{8 \\delta} - 2 e^{4 \\delta} + 1}$"
      ],
      "text/plain": [
       " ⎛⎛ 8⋅\\delta      4⋅\\delta    ⎞ ⎛          4             2     2              \n",
       "-⎝⎝ℯ         - 2⋅ℯ         + 1⎠⋅⎝\\tilde{r}₊  - \\tilde{r}₊ ⋅coth (2⋅\\delta) - 2\n",
       "──────────────────────────────────────────────────────────────────────────────\n",
       "                                                                        8⋅\\del\n",
       "                                                                       ℯ      \n",
       "\n",
       "           2                              2       2                           \n",
       "⋅\\tilde{r}₊ ⋅coth(2⋅\\delta) + 2⋅\\tilde{r}₊  + coth (2⋅\\delta) - 2⋅coth(2⋅\\delt\n",
       "──────────────────────────────────────────────────────────────────────────────\n",
       "ta      4⋅\\delta                                                              \n",
       "   - 2⋅ℯ         + 1                                                          \n",
       "\n",
       "      ⎞    ⎞ \n",
       "a) + 1⎠ - 4⎠ \n",
       "─────────────\n",
       "             \n",
       "             "
      ]
     },
     "execution_count": 588,
     "metadata": {},
     "output_type": "execute_result"
    }
   ],
   "source": [
    "x = coeffs[4].subs({sympy.exp(8 * delta): exp_8delta_val, sympy.exp(4 * delta): exp_4delta_val}).simplify()\n",
    "x"
   ]
  },
  {
   "cell_type": "code",
   "execution_count": 589,
   "metadata": {},
   "outputs": [
    {
     "data": {
      "image/png": "[encoded data removed]",
      "text/latex": [
       "$\\displaystyle \\tilde{r}_+^{4} \\left(- \\sinh^{2}{\\left(4 \\delta \\right)} - 2 \\sinh{\\left(4 \\delta \\right)} \\cosh{\\left(4 \\delta \\right)} + 2 \\sinh{\\left(4 \\delta \\right)} - \\cosh^{2}{\\left(4 \\delta \\right)} + 2 \\cosh{\\left(4 \\delta \\right)} - 1\\right) + \\tilde{r}_+^{2} \\left(\\sinh^{2}{\\left(4 \\delta \\right)} \\coth^{2}{\\left(2 \\delta \\right)} + 2 \\sinh^{2}{\\left(4 \\delta \\right)} \\coth{\\left(2 \\delta \\right)} - 2 \\sinh^{2}{\\left(4 \\delta \\right)} + 2 \\sinh{\\left(4 \\delta \\right)} \\cosh{\\left(4 \\delta \\right)} \\coth^{2}{\\left(2 \\delta \\right)} + 4 \\sinh{\\left(4 \\delta \\right)} \\cosh{\\left(4 \\delta \\right)} \\coth{\\left(2 \\delta \\right)} - 4 \\sinh{\\left(4 \\delta \\right)} \\cosh{\\left(4 \\delta \\right)} - 2 \\sinh{\\left(4 \\delta \\right)} \\coth^{2}{\\left(2 \\delta \\right)} - 4 \\sinh{\\left(4 \\delta \\right)} \\coth{\\left(2 \\delta \\right)} + 4 \\sinh{\\left(4 \\delta \\right)} + \\cosh^{2}{\\left(4 \\delta \\right)} \\coth^{2}{\\left(2 \\delta \\right)} + 2 \\cosh^{2}{\\left(4 \\delta \\right)} \\coth{\\left(2 \\delta \\right)} - 2 \\cosh^{2}{\\left(4 \\delta \\right)} - 2 \\cosh{\\left(4 \\delta \\right)} \\coth^{2}{\\left(2 \\delta \\right)} - 4 \\cosh{\\left(4 \\delta \\right)} \\coth{\\left(2 \\delta \\right)} + 4 \\cosh{\\left(4 \\delta \\right)} + \\coth^{2}{\\left(2 \\delta \\right)} + 2 \\coth{\\left(2 \\delta \\right)} - 2\\right) - \\sinh^{2}{\\left(4 \\delta \\right)} \\coth^{2}{\\left(2 \\delta \\right)} + 2 \\sinh^{2}{\\left(4 \\delta \\right)} \\coth{\\left(2 \\delta \\right)} - \\sinh^{2}{\\left(4 \\delta \\right)} - 2 \\sinh{\\left(4 \\delta \\right)} \\cosh{\\left(4 \\delta \\right)} \\coth^{2}{\\left(2 \\delta \\right)} + 4 \\sinh{\\left(4 \\delta \\right)} \\cosh{\\left(4 \\delta \\right)} \\coth{\\left(2 \\delta \\right)} - 2 \\sinh{\\left(4 \\delta \\right)} \\cosh{\\left(4 \\delta \\right)} + 2 \\sinh{\\left(4 \\delta \\right)} \\coth^{2}{\\left(2 \\delta \\right)} - 4 \\sinh{\\left(4 \\delta \\right)} \\coth{\\left(2 \\delta \\right)} + 2 \\sinh{\\left(4 \\delta \\right)} - \\cosh^{2}{\\left(4 \\delta \\right)} \\coth^{2}{\\left(2 \\delta \\right)} + 2 \\cosh^{2}{\\left(4 \\delta \\right)} \\coth{\\left(2 \\delta \\right)} - \\cosh^{2}{\\left(4 \\delta \\right)} + 2 \\cosh{\\left(4 \\delta \\right)} \\coth^{2}{\\left(2 \\delta \\right)} - 4 \\cosh{\\left(4 \\delta \\right)} \\coth{\\left(2 \\delta \\right)} + 2 \\cosh{\\left(4 \\delta \\right)} - \\coth^{2}{\\left(2 \\delta \\right)} + 2 \\coth{\\left(2 \\delta \\right)} + 3$"
      ],
      "text/plain": [
       "          4 ⎛      2                                                          \n",
       "\\tilde{r}₊ ⋅⎝- sinh (4⋅\\delta) - 2⋅sinh(4⋅\\delta)⋅cosh(4⋅\\delta) + 2⋅sinh(4⋅\\d\n",
       "\n",
       "            2                                 ⎞             2 ⎛    2          \n",
       "elta) - cosh (4⋅\\delta) + 2⋅cosh(4⋅\\delta) - 1⎠ + \\tilde{r}₊ ⋅⎝sinh (4⋅\\delta)\n",
       "\n",
       "     2                   2                                  2                 \n",
       "⋅coth (2⋅\\delta) + 2⋅sinh (4⋅\\delta)⋅coth(2⋅\\delta) - 2⋅sinh (4⋅\\delta) + 2⋅si\n",
       "\n",
       "                                2                                             \n",
       "nh(4⋅\\delta)⋅cosh(4⋅\\delta)⋅coth (2⋅\\delta) + 4⋅sinh(4⋅\\delta)⋅cosh(4⋅\\delta)⋅\n",
       "\n",
       "                                                                        2     \n",
       "coth(2⋅\\delta) - 4⋅sinh(4⋅\\delta)⋅cosh(4⋅\\delta) - 2⋅sinh(4⋅\\delta)⋅coth (2⋅\\d\n",
       "\n",
       "                                                                 2            \n",
       "elta) - 4⋅sinh(4⋅\\delta)⋅coth(2⋅\\delta) + 4⋅sinh(4⋅\\delta) + cosh (4⋅\\delta)⋅c\n",
       "\n",
       "   2                   2                                  2                   \n",
       "oth (2⋅\\delta) + 2⋅cosh (4⋅\\delta)⋅coth(2⋅\\delta) - 2⋅cosh (4⋅\\delta) - 2⋅cosh\n",
       "\n",
       "               2                                                              \n",
       "(4⋅\\delta)⋅coth (2⋅\\delta) - 4⋅cosh(4⋅\\delta)⋅coth(2⋅\\delta) + 4⋅cosh(4⋅\\delta\n",
       "\n",
       "        2                                 ⎞       2               2           \n",
       ") + coth (2⋅\\delta) + 2⋅coth(2⋅\\delta) - 2⎠ - sinh (4⋅\\delta)⋅coth (2⋅\\delta) \n",
       "\n",
       "        2                                2                                    \n",
       "+ 2⋅sinh (4⋅\\delta)⋅coth(2⋅\\delta) - sinh (4⋅\\delta) - 2⋅sinh(4⋅\\delta)⋅cosh(4\n",
       "\n",
       "             2                                                                \n",
       "⋅\\delta)⋅coth (2⋅\\delta) + 4⋅sinh(4⋅\\delta)⋅cosh(4⋅\\delta)⋅coth(2⋅\\delta) - 2⋅\n",
       "\n",
       "                                                     2                        \n",
       "sinh(4⋅\\delta)⋅cosh(4⋅\\delta) + 2⋅sinh(4⋅\\delta)⋅coth (2⋅\\delta) - 4⋅sinh(4⋅\\d\n",
       "\n",
       "                                              2               2               \n",
       "elta)⋅coth(2⋅\\delta) + 2⋅sinh(4⋅\\delta) - cosh (4⋅\\delta)⋅coth (2⋅\\delta) + 2⋅\n",
       "\n",
       "    2                                2                                  2     \n",
       "cosh (4⋅\\delta)⋅coth(2⋅\\delta) - cosh (4⋅\\delta) + 2⋅cosh(4⋅\\delta)⋅coth (2⋅\\d\n",
       "\n",
       "                                                                 2            \n",
       "elta) - 4⋅cosh(4⋅\\delta)⋅coth(2⋅\\delta) + 2⋅cosh(4⋅\\delta) - coth (2⋅\\delta) +\n",
       "\n",
       "                     \n",
       " 2⋅coth(2⋅\\delta) + 3"
      ]
     },
     "execution_count": 589,
     "metadata": {},
     "output_type": "execute_result"
    }
   ],
   "source": [
    "z = sympy.fraction(x)[0].subs({sympy.exp(8 * delta): exp_8delta_val, sympy.exp(4 * delta): exp_4delta_val}).expand().collect(r_tilde_plus)\n",
    "z"
   ]
  },
  {
   "cell_type": "code",
   "execution_count": 590,
   "metadata": {},
   "outputs": [
    {
     "data": {
      "image/png": "[encoded data removed]",
      "text/latex": [
       "$\\displaystyle \\left[ - \\sinh^{2}{\\left(4 \\delta \\right)} - 2 \\sinh{\\left(4 \\delta \\right)} \\cosh{\\left(4 \\delta \\right)} + 2 \\sinh{\\left(4 \\delta \\right)} - \\cosh^{2}{\\left(4 \\delta \\right)} + 2 \\cosh{\\left(4 \\delta \\right)} - 1, \\  0, \\  \\sinh^{2}{\\left(4 \\delta \\right)} \\coth^{2}{\\left(2 \\delta \\right)} + 2 \\sinh^{2}{\\left(4 \\delta \\right)} \\coth{\\left(2 \\delta \\right)} - 2 \\sinh^{2}{\\left(4 \\delta \\right)} + 2 \\sinh{\\left(4 \\delta \\right)} \\cosh{\\left(4 \\delta \\right)} \\coth^{2}{\\left(2 \\delta \\right)} + 4 \\sinh{\\left(4 \\delta \\right)} \\cosh{\\left(4 \\delta \\right)} \\coth{\\left(2 \\delta \\right)} - 4 \\sinh{\\left(4 \\delta \\right)} \\cosh{\\left(4 \\delta \\right)} - 2 \\sinh{\\left(4 \\delta \\right)} \\coth^{2}{\\left(2 \\delta \\right)} - 4 \\sinh{\\left(4 \\delta \\right)} \\coth{\\left(2 \\delta \\right)} + 4 \\sinh{\\left(4 \\delta \\right)} + \\cosh^{2}{\\left(4 \\delta \\right)} \\coth^{2}{\\left(2 \\delta \\right)} + 2 \\cosh^{2}{\\left(4 \\delta \\right)} \\coth{\\left(2 \\delta \\right)} - 2 \\cosh^{2}{\\left(4 \\delta \\right)} - 2 \\cosh{\\left(4 \\delta \\right)} \\coth^{2}{\\left(2 \\delta \\right)} - 4 \\cosh{\\left(4 \\delta \\right)} \\coth{\\left(2 \\delta \\right)} + 4 \\cosh{\\left(4 \\delta \\right)} + \\coth^{2}{\\left(2 \\delta \\right)} + 2 \\coth{\\left(2 \\delta \\right)} - 2, \\  0, \\  - \\sinh^{2}{\\left(4 \\delta \\right)} \\coth^{2}{\\left(2 \\delta \\right)} + 2 \\sinh^{2}{\\left(4 \\delta \\right)} \\coth{\\left(2 \\delta \\right)} - \\sinh^{2}{\\left(4 \\delta \\right)} - 2 \\sinh{\\left(4 \\delta \\right)} \\cosh{\\left(4 \\delta \\right)} \\coth^{2}{\\left(2 \\delta \\right)} + 4 \\sinh{\\left(4 \\delta \\right)} \\cosh{\\left(4 \\delta \\right)} \\coth{\\left(2 \\delta \\right)} - 2 \\sinh{\\left(4 \\delta \\right)} \\cosh{\\left(4 \\delta \\right)} + 2 \\sinh{\\left(4 \\delta \\right)} \\coth^{2}{\\left(2 \\delta \\right)} - 4 \\sinh{\\left(4 \\delta \\right)} \\coth{\\left(2 \\delta \\right)} + 2 \\sinh{\\left(4 \\delta \\right)} - \\cosh^{2}{\\left(4 \\delta \\right)} \\coth^{2}{\\left(2 \\delta \\right)} + 2 \\cosh^{2}{\\left(4 \\delta \\right)} \\coth{\\left(2 \\delta \\right)} - \\cosh^{2}{\\left(4 \\delta \\right)} + 2 \\cosh{\\left(4 \\delta \\right)} \\coth^{2}{\\left(2 \\delta \\right)} - 4 \\cosh{\\left(4 \\delta \\right)} \\coth{\\left(2 \\delta \\right)} + 2 \\cosh{\\left(4 \\delta \\right)} - \\coth^{2}{\\left(2 \\delta \\right)} + 2 \\coth{\\left(2 \\delta \\right)} + 3\\right]$"
      ],
      "text/plain": [
       "⎡      2                                                                      \n",
       "⎣- sinh (4⋅\\delta) - 2⋅sinh(4⋅\\delta)⋅cosh(4⋅\\delta) + 2⋅sinh(4⋅\\delta) - cosh\n",
       "\n",
       "2                                          2               2                  \n",
       " (4⋅\\delta) + 2⋅cosh(4⋅\\delta) - 1, 0, sinh (4⋅\\delta)⋅coth (2⋅\\delta) + 2⋅sin\n",
       "\n",
       " 2                                  2                                         \n",
       "h (4⋅\\delta)⋅coth(2⋅\\delta) - 2⋅sinh (4⋅\\delta) + 2⋅sinh(4⋅\\delta)⋅cosh(4⋅\\del\n",
       "\n",
       "        2                                                                     \n",
       "ta)⋅coth (2⋅\\delta) + 4⋅sinh(4⋅\\delta)⋅cosh(4⋅\\delta)⋅coth(2⋅\\delta) - 4⋅sinh(\n",
       "\n",
       "                                                2                             \n",
       "4⋅\\delta)⋅cosh(4⋅\\delta) - 2⋅sinh(4⋅\\delta)⋅coth (2⋅\\delta) - 4⋅sinh(4⋅\\delta)\n",
       "\n",
       "                                         2               2                   2\n",
       "⋅coth(2⋅\\delta) + 4⋅sinh(4⋅\\delta) + cosh (4⋅\\delta)⋅coth (2⋅\\delta) + 2⋅cosh \n",
       "\n",
       "                                  2                                  2        \n",
       "(4⋅\\delta)⋅coth(2⋅\\delta) - 2⋅cosh (4⋅\\delta) - 2⋅cosh(4⋅\\delta)⋅coth (2⋅\\delt\n",
       "\n",
       "                                                              2               \n",
       "a) - 4⋅cosh(4⋅\\delta)⋅coth(2⋅\\delta) + 4⋅cosh(4⋅\\delta) + coth (2⋅\\delta) + 2⋅\n",
       "\n",
       "                             2               2                   2            \n",
       "coth(2⋅\\delta) - 2, 0, - sinh (4⋅\\delta)⋅coth (2⋅\\delta) + 2⋅sinh (4⋅\\delta)⋅c\n",
       "\n",
       "                    2                                                 2       \n",
       "oth(2⋅\\delta) - sinh (4⋅\\delta) - 2⋅sinh(4⋅\\delta)⋅cosh(4⋅\\delta)⋅coth (2⋅\\del\n",
       "\n",
       "                                                                              \n",
       "ta) + 4⋅sinh(4⋅\\delta)⋅cosh(4⋅\\delta)⋅coth(2⋅\\delta) - 2⋅sinh(4⋅\\delta)⋅cosh(4\n",
       "\n",
       "                                2                                             \n",
       "⋅\\delta) + 2⋅sinh(4⋅\\delta)⋅coth (2⋅\\delta) - 4⋅sinh(4⋅\\delta)⋅coth(2⋅\\delta) \n",
       "\n",
       "                         2               2                   2                \n",
       "+ 2⋅sinh(4⋅\\delta) - cosh (4⋅\\delta)⋅coth (2⋅\\delta) + 2⋅cosh (4⋅\\delta)⋅coth(\n",
       "\n",
       "                2                                  2                          \n",
       "2⋅\\delta) - cosh (4⋅\\delta) + 2⋅cosh(4⋅\\delta)⋅coth (2⋅\\delta) - 4⋅cosh(4⋅\\del\n",
       "\n",
       "                                            2                                 \n",
       "ta)⋅coth(2⋅\\delta) + 2⋅cosh(4⋅\\delta) - coth (2⋅\\delta) + 2⋅coth(2⋅\\delta) + 3\n",
       "\n",
       "⎤\n",
       "⎦"
      ]
     },
     "execution_count": 590,
     "metadata": {},
     "output_type": "execute_result"
    }
   ],
   "source": [
    "coeffs_2 = sympy.Poly(z, r_tilde_plus).all_coeffs()\n",
    "coeffs_2"
   ]
  },
  {
   "cell_type": "code",
   "execution_count": 591,
   "metadata": {},
   "outputs": [],
   "source": [
    "sinh_d_val = (sympy.exp(delta) - sympy.exp(-delta)) / 2\n",
    "cosh_d_val = (sympy.exp(delta) + sympy.exp(-delta)) / 2\n",
    "tanh_d_val = (sympy.exp(2 * delta) - sympy.exp(-2 * delta)) / (sympy.exp(2 * delta) + sympy.exp(-2 * delta))"
   ]
  },
  {
   "cell_type": "code",
   "execution_count": 592,
   "metadata": {},
   "outputs": [
    {
     "data": {
      "image/png": "[encoded data removed]",
      "text/latex": [
       "$\\displaystyle - e^{8 \\delta} + 2 e^{4 \\delta} - 1$"
      ],
      "text/plain": [
       "   8⋅\\delta      4⋅\\delta    \n",
       "- ℯ         + 2⋅ℯ         - 1"
      ]
     },
     "execution_count": 592,
     "metadata": {},
     "output_type": "execute_result"
    }
   ],
   "source": [
    "coeffs_2[0].trigsimp().subs({sympy.sinh(delta): sinh_d_val, sympy.cosh(delta): cosh_d_val}).expand().simplify()"
   ]
  },
  {
   "cell_type": "code",
   "execution_count": 593,
   "metadata": {},
   "outputs": [
    {
     "data": {
      "image/png": "[encoded data removed]",
      "text/latex": [
       "$\\displaystyle 0$"
      ],
      "text/plain": [
       "0"
      ]
     },
     "execution_count": 593,
     "metadata": {},
     "output_type": "execute_result"
    }
   ],
   "source": [
    "coeffs_2[1].simplify()"
   ]
  },
  {
   "cell_type": "code",
   "execution_count": 594,
   "metadata": {},
   "outputs": [
    {
     "data": {
      "image/png": "[encoded data removed]",
      "text/latex": [
       "$\\displaystyle e^{8 \\delta} + 6 e^{4 \\delta} - 3$"
      ],
      "text/plain": [
       " 8⋅\\delta      4⋅\\delta    \n",
       "ℯ         + 6⋅ℯ         - 3"
      ]
     },
     "execution_count": 594,
     "metadata": {},
     "output_type": "execute_result"
    }
   ],
   "source": [
    "coeffs_2[2].trigsimp().subs({sympy.sinh(delta): sinh_d_val, sympy.cosh(delta): cosh_d_val, sympy.tanh(2 * delta): tanh_d_val}).expand().simplify().factor()"
   ]
  },
  {
   "cell_type": "code",
   "execution_count": 595,
   "metadata": {},
   "outputs": [
    {
     "data": {
      "image/png": "[encoded data removed]",
      "text/latex": [
       "$\\displaystyle 0$"
      ],
      "text/plain": [
       "0"
      ]
     },
     "execution_count": 595,
     "metadata": {},
     "output_type": "execute_result"
    }
   ],
   "source": [
    "coeffs_2[3].simplify()"
   ]
  },
  {
   "attachments": {},
   "cell_type": "markdown",
   "metadata": {},
   "source": [
    "#### $\\text{Im} \\det g$"
   ]
  },
  {
   "cell_type": "code",
   "execution_count": 597,
   "metadata": {},
   "outputs": [
    {
     "data": {
      "image/png": "[encoded data removed]",
      "text/latex": [
       "$\\displaystyle - \\frac{2 \\left(\\tilde{r} - \\tilde{r}_+\\right) \\left(\\tilde{r}_+^{2} + 1 - \\frac{1}{\\tanh{\\left(2 \\delta \\right)}}\\right)}{\\tanh{\\left(2 \\delta \\right)}}$"
      ],
      "text/plain": [
       "                            ⎛          2             1       ⎞ \n",
       "-2⋅(\\tilde{r} - \\tilde{r}₊)⋅⎜\\tilde{r}₊  + 1 - ──────────────⎟ \n",
       "                            ⎝                  tanh(2⋅\\delta)⎠ \n",
       "───────────────────────────────────────────────────────────────\n",
       "                         tanh(2⋅\\delta)                        "
      ]
     },
     "execution_count": 597,
     "metadata": {},
     "output_type": "execute_result"
    }
   ],
   "source": [
    "det_g_i_subs = det_g_i.subs({a_m: a_m_val, b_m: b_m_val}).simplify()\n",
    "det_g_i_subs"
   ]
  },
  {
   "attachments": {},
   "cell_type": "markdown",
   "metadata": {},
   "source": [
    "#### Magnitude of $\\det g$"
   ]
  },
  {
   "cell_type": "code",
   "execution_count": 646,
   "metadata": {},
   "outputs": [
    {
     "data": {
      "image/png": "[encoded data removed]",
      "text/latex": [
       "$\\displaystyle \\left(- 2 \\tilde{r} + 2 \\tilde{r}_+\\right) \\left(\\tilde{r}_+^{2} - \\coth{\\left(2 \\delta \\right)} + 1\\right) \\coth{\\left(2 \\delta \\right)}$"
      ],
      "text/plain": [
       "                              ⎛          2                     ⎞              \n",
       "(-2⋅\\tilde{r} + 2⋅\\tilde{r}₊)⋅⎝\\tilde{r}₊  - coth(2⋅\\delta) + 1⎠⋅coth(2⋅\\delta\n",
       "\n",
       " \n",
       ")"
      ]
     },
     "execution_count": 646,
     "metadata": {},
     "output_type": "execute_result"
    }
   ],
   "source": [
    "det_g_i_subs_simp = 2 * (r_tilde_plus - r_tilde) * sympy.coth(2 * delta) * (r_tilde_plus ** 2 + 1 - sympy.coth(2 * delta))\n",
    "det_g_i_subs_simp"
   ]
  },
  {
   "cell_type": "code",
   "execution_count": 647,
   "metadata": {},
   "outputs": [
    {
     "data": {
      "image/png": "[encoded data removed]",
      "text/latex": [
       "$\\displaystyle \\tilde{r}^{4} - \\tilde{r}_+^{4} + 2 a \\left(- \\tilde{r}^{2} + \\tilde{r}_+^{2}\\right) + \\left(- \\tilde{r} + \\tilde{r}_+\\right)^{2} \\coth^{2}{\\left(2 \\delta \\right)}$"
      ],
      "text/plain": [
       "         4             4       ⎛           2             2⎞                   \n",
       "\\tilde{r}  - \\tilde{r}₊  + 2⋅a⋅⎝- \\tilde{r}  + \\tilde{r}₊ ⎠ + (-\\tilde{r} + \\t\n",
       "\n",
       "         2     2          \n",
       "ilde{r}₊) ⋅coth (2⋅\\delta)"
      ]
     },
     "execution_count": 647,
     "metadata": {},
     "output_type": "execute_result"
    }
   ],
   "source": [
    "det_g_r_simplified_4 = det_g_r_simplified_3.subs({sympy.exp(4 * delta) - 1: 2 / a})\n",
    "det_g_r_simplified_4"
   ]
  },
  {
   "cell_type": "code",
   "execution_count": 650,
   "metadata": {},
   "outputs": [
    {
     "data": {
      "image/png": "[encoded data removed]",
      "text/latex": [
       "$\\displaystyle \\left(\\tilde{r} - \\tilde{r}_+\\right)^{2} \\left(\\tilde{r}^{6} + 2 \\tilde{r}^{5} \\tilde{r}_+ + 3 \\tilde{r}^{4} \\tilde{r}_+^{2} - 4 \\tilde{r}^{4} a + 2 \\tilde{r}^{4} \\coth^{2}{\\left(2 \\delta \\right)} + 4 \\tilde{r}^{3} \\tilde{r}_+^{3} - 8 \\tilde{r}^{3} \\tilde{r}_+ a + 3 \\tilde{r}^{2} \\tilde{r}_+^{4} - 8 \\tilde{r}^{2} \\tilde{r}_+^{2} a + 4 \\tilde{r}^{2} a^{2} - 4 \\tilde{r}^{2} a \\coth^{2}{\\left(2 \\delta \\right)} + \\tilde{r}^{2} \\coth^{4}{\\left(2 \\delta \\right)} + 2 \\tilde{r} \\tilde{r}_+^{5} - 8 \\tilde{r} \\tilde{r}_+^{3} a + 8 \\tilde{r} \\tilde{r}_+ a^{2} - 2 \\tilde{r} \\tilde{r}_+ \\coth^{4}{\\left(2 \\delta \\right)} + \\tilde{r}_+^{6} - 4 \\tilde{r}_+^{4} a + 2 \\tilde{r}_+^{4} \\coth^{2}{\\left(2 \\delta \\right)} + 4 \\tilde{r}_+^{2} a^{2} + 4 \\tilde{r}_+^{2} a \\coth^{2}{\\left(2 \\delta \\right)} + \\tilde{r}_+^{2} \\coth^{4}{\\left(2 \\delta \\right)} - 8 \\tilde{r}_+^{2} \\coth^{3}{\\left(2 \\delta \\right)} + 8 \\tilde{r}_+^{2} \\coth^{2}{\\left(2 \\delta \\right)} + 4 \\coth^{4}{\\left(2 \\delta \\right)} - 8 \\coth^{3}{\\left(2 \\delta \\right)} + 4 \\coth^{2}{\\left(2 \\delta \\right)}\\right)$"
      ],
      "text/plain": [
       "                        2 ⎛         6              5                         4\n",
       "(\\tilde{r} - \\tilde{r}₊) ⋅⎝\\tilde{r}  + 2⋅\\tilde{r} ⋅\\tilde{r}₊ + 3⋅\\tilde{r} \n",
       "\n",
       "           2              4                4     2                        3   \n",
       "⋅\\tilde{r}₊  - 4⋅\\tilde{r} ⋅a + 2⋅\\tilde{r} ⋅coth (2⋅\\delta) + 4⋅\\tilde{r} ⋅\\t\n",
       "\n",
       "        3              3                           2           4              \n",
       "ilde{r}₊  - 8⋅\\tilde{r} ⋅\\tilde{r}₊⋅a + 3⋅\\tilde{r} ⋅\\tilde{r}₊  - 8⋅\\tilde{r}\n",
       "\n",
       "2           2                2  2              2       2                      \n",
       " ⋅\\tilde{r}₊ ⋅a + 4⋅\\tilde{r} ⋅a  - 4⋅\\tilde{r} ⋅a⋅coth (2⋅\\delta) + \\tilde{r}\n",
       "\n",
       "2     4                                   5                         3         \n",
       " ⋅coth (2⋅\\delta) + 2⋅\\tilde{r}⋅\\tilde{r}₊  - 8⋅\\tilde{r}⋅\\tilde{r}₊ ⋅a + 8⋅\\t\n",
       "\n",
       "                    2                              4                       6  \n",
       "ilde{r}⋅\\tilde{r}₊⋅a  - 2⋅\\tilde{r}⋅\\tilde{r}₊⋅coth (2⋅\\delta) + \\tilde{r}₊  -\n",
       "\n",
       "             4                 4     2                         2  2           \n",
       " 4⋅\\tilde{r}₊ ⋅a + 2⋅\\tilde{r}₊ ⋅coth (2⋅\\delta) + 4⋅\\tilde{r}₊ ⋅a  + 4⋅\\tilde\n",
       "\n",
       "    2       2                       2     4                         2     3   \n",
       "{r}₊ ⋅a⋅coth (2⋅\\delta) + \\tilde{r}₊ ⋅coth (2⋅\\delta) - 8⋅\\tilde{r}₊ ⋅coth (2⋅\n",
       "\n",
       "                      2     2                   4                   3         \n",
       "\\delta) + 8⋅\\tilde{r}₊ ⋅coth (2⋅\\delta) + 4⋅coth (2⋅\\delta) - 8⋅coth (2⋅\\delta\n",
       "\n",
       "          2          ⎞\n",
       ") + 4⋅coth (2⋅\\delta)⎠"
      ]
     },
     "execution_count": 650,
     "metadata": {},
     "output_type": "execute_result"
    }
   ],
   "source": [
    "y = (det_g_r_simplified_4 ** 2 + det_g_i_subs_simp ** 2).expand().factor()\n",
    "y"
   ]
  },
  {
   "cell_type": "code",
   "execution_count": 692,
   "metadata": {},
   "outputs": [
    {
     "data": {
      "image/png": "[encoded data removed]",
      "text/latex": [
       "$\\displaystyle \\tilde{r}^{6} + 2 \\tilde{r}^{5} \\tilde{r}_+ + \\tilde{r}^{4} \\cdot \\left(3 \\tilde{r}_+^{2} - 4 a + 2 \\coth^{2}{\\left(2 \\delta \\right)}\\right) + \\tilde{r}^{3} \\cdot \\left(4 \\tilde{r}_+^{3} - 8 \\tilde{r}_+ a\\right) + \\tilde{r}^{2} \\cdot \\left(3 \\tilde{r}_+^{4} - 8 \\tilde{r}_+^{2} a + 4 a^{2} - 4 a \\coth^{2}{\\left(2 \\delta \\right)} + \\coth^{4}{\\left(2 \\delta \\right)}\\right) + \\tilde{r} \\left(2 \\tilde{r}_+^{5} - 8 \\tilde{r}_+^{3} a + 8 \\tilde{r}_+ a^{2} - 2 \\tilde{r}_+ \\coth^{4}{\\left(2 \\delta \\right)}\\right) + \\tilde{r}_+^{6} - 4 \\tilde{r}_+^{4} a + 2 \\tilde{r}_+^{4} \\coth^{2}{\\left(2 \\delta \\right)} + 4 \\tilde{r}_+^{2} a^{2} + 4 \\tilde{r}_+^{2} a \\coth^{2}{\\left(2 \\delta \\right)} + \\tilde{r}_+^{2} \\coth^{4}{\\left(2 \\delta \\right)} - 8 \\tilde{r}_+^{2} \\coth^{3}{\\left(2 \\delta \\right)} + 8 \\tilde{r}_+^{2} \\coth^{2}{\\left(2 \\delta \\right)} + 4 \\coth^{4}{\\left(2 \\delta \\right)} - 8 \\coth^{3}{\\left(2 \\delta \\right)} + 4 \\coth^{2}{\\left(2 \\delta \\right)}$"
      ],
      "text/plain": [
       "         6              5                       4 ⎛            2              \n",
       "\\tilde{r}  + 2⋅\\tilde{r} ⋅\\tilde{r}₊ + \\tilde{r} ⋅⎝3⋅\\tilde{r}₊  - 4⋅a + 2⋅cot\n",
       "\n",
       " 2          ⎞            3 ⎛            3                 ⎞            2 ⎛    \n",
       "h (2⋅\\delta)⎠ + \\tilde{r} ⋅⎝4⋅\\tilde{r}₊  - 8⋅\\tilde{r}₊⋅a⎠ + \\tilde{r} ⋅⎝3⋅\\t\n",
       "\n",
       "        4               2        2           2                 4          ⎞   \n",
       "ilde{r}₊  - 8⋅\\tilde{r}₊ ⋅a + 4⋅a  - 4⋅a⋅coth (2⋅\\delta) + coth (2⋅\\delta)⎠ + \n",
       "\n",
       "          ⎛            5               3                   2                  \n",
       "\\tilde{r}⋅⎝2⋅\\tilde{r}₊  - 8⋅\\tilde{r}₊ ⋅a + 8⋅\\tilde{r}₊⋅a  - 2⋅\\tilde{r}₊⋅co\n",
       "\n",
       "  4          ⎞             6               4                 4     2          \n",
       "th (2⋅\\delta)⎠ + \\tilde{r}₊  - 4⋅\\tilde{r}₊ ⋅a + 2⋅\\tilde{r}₊ ⋅coth (2⋅\\delta)\n",
       "\n",
       "               2  2               2       2                       2     4     \n",
       " + 4⋅\\tilde{r}₊ ⋅a  + 4⋅\\tilde{r}₊ ⋅a⋅coth (2⋅\\delta) + \\tilde{r}₊ ⋅coth (2⋅\\d\n",
       "\n",
       "                    2     3                         2     2                   \n",
       "elta) - 8⋅\\tilde{r}₊ ⋅coth (2⋅\\delta) + 8⋅\\tilde{r}₊ ⋅coth (2⋅\\delta) + 4⋅coth\n",
       "\n",
       "4                   3                   2          \n",
       " (2⋅\\delta) - 8⋅coth (2⋅\\delta) + 4⋅coth (2⋅\\delta)"
      ]
     },
     "execution_count": 692,
     "metadata": {},
     "output_type": "execute_result"
    }
   ],
   "source": [
    "z_3 = (y / (r_tilde - r_tilde_plus) ** 2).simplify().collect(r_tilde)\n",
    "z_3"
   ]
  },
  {
   "cell_type": "code",
   "execution_count": 693,
   "metadata": {},
   "outputs": [
    {
     "data": {
      "image/png": "[encoded data removed]",
      "text/latex": [
       "$\\displaystyle \\left[ 1, \\  2 \\tilde{r}_+, \\  3 \\tilde{r}_+^{2} - 4 a + 2 \\coth^{2}{\\left(2 \\delta \\right)}, \\  4 \\tilde{r}_+^{3} - 8 \\tilde{r}_+ a, \\  3 \\tilde{r}_+^{4} - 8 \\tilde{r}_+^{2} a + 4 a^{2} - 4 a \\coth^{2}{\\left(2 \\delta \\right)} + \\coth^{4}{\\left(2 \\delta \\right)}, \\  2 \\tilde{r}_+^{5} - 8 \\tilde{r}_+^{3} a + 8 \\tilde{r}_+ a^{2} - 2 \\tilde{r}_+ \\coth^{4}{\\left(2 \\delta \\right)}, \\  \\tilde{r}_+^{6} - 4 \\tilde{r}_+^{4} a + 2 \\tilde{r}_+^{4} \\coth^{2}{\\left(2 \\delta \\right)} + 4 \\tilde{r}_+^{2} a^{2} + 4 \\tilde{r}_+^{2} a \\coth^{2}{\\left(2 \\delta \\right)} + \\tilde{r}_+^{2} \\coth^{4}{\\left(2 \\delta \\right)} - 8 \\tilde{r}_+^{2} \\coth^{3}{\\left(2 \\delta \\right)} + 8 \\tilde{r}_+^{2} \\coth^{2}{\\left(2 \\delta \\right)} + 4 \\coth^{4}{\\left(2 \\delta \\right)} - 8 \\coth^{3}{\\left(2 \\delta \\right)} + 4 \\coth^{2}{\\left(2 \\delta \\right)}\\right]$"
      ],
      "text/plain": [
       "⎡                             2               2                        3      \n",
       "⎣1, 2⋅\\tilde{r}₊, 3⋅\\tilde{r}₊  - 4⋅a + 2⋅coth (2⋅\\delta), 4⋅\\tilde{r}₊  - 8⋅\\\n",
       "\n",
       "                         4               2        2           2               \n",
       "tilde{r}₊⋅a, 3⋅\\tilde{r}₊  - 8⋅\\tilde{r}₊ ⋅a + 4⋅a  - 4⋅a⋅coth (2⋅\\delta) + co\n",
       "\n",
       "  4                        5               3                   2              \n",
       "th (2⋅\\delta), 2⋅\\tilde{r}₊  - 8⋅\\tilde{r}₊ ⋅a + 8⋅\\tilde{r}₊⋅a  - 2⋅\\tilde{r}\n",
       "\n",
       "      4                      6               4                 4     2        \n",
       "₊⋅coth (2⋅\\delta), \\tilde{r}₊  - 4⋅\\tilde{r}₊ ⋅a + 2⋅\\tilde{r}₊ ⋅coth (2⋅\\delt\n",
       "\n",
       "                 2  2               2       2                       2     4   \n",
       "a) + 4⋅\\tilde{r}₊ ⋅a  + 4⋅\\tilde{r}₊ ⋅a⋅coth (2⋅\\delta) + \\tilde{r}₊ ⋅coth (2⋅\n",
       "\n",
       "                      2     3                         2     2                 \n",
       "\\delta) - 8⋅\\tilde{r}₊ ⋅coth (2⋅\\delta) + 8⋅\\tilde{r}₊ ⋅coth (2⋅\\delta) + 4⋅co\n",
       "\n",
       "  4                   3                   2          ⎤\n",
       "th (2⋅\\delta) - 8⋅coth (2⋅\\delta) + 4⋅coth (2⋅\\delta)⎦"
      ]
     },
     "execution_count": 693,
     "metadata": {},
     "output_type": "execute_result"
    }
   ],
   "source": [
    "coeffs_4 = sympy.Poly(z_3, r_tilde).all_coeffs()\n",
    "coeffs_4"
   ]
  },
  {
   "cell_type": "code",
   "execution_count": 972,
   "metadata": {},
   "outputs": [],
   "source": [
    "coeff_6 = coeffs_4[0]\n",
    "coeff_5 = coeffs_4[1]"
   ]
  },
  {
   "attachments": {},
   "cell_type": "markdown",
   "metadata": {},
   "source": [
    "##### $r^4$ coefficient"
   ]
  },
  {
   "cell_type": "code",
   "execution_count": 973,
   "metadata": {},
   "outputs": [
    {
     "data": {
      "image/png": "[encoded data removed]",
      "text/latex": [
       "$\\displaystyle 3 \\tilde{r}_+^{2} + 2 a^{2} + 2$"
      ],
      "text/plain": [
       "            2      2    \n",
       "3⋅\\tilde{r}₊  + 2⋅a  + 2"
      ]
     },
     "execution_count": 973,
     "metadata": {},
     "output_type": "execute_result"
    }
   ],
   "source": [
    "coeff_4 = 3 * r_tilde_plus ** 2 + 2 * (a ** 2 + 1)\n",
    "coeff_4"
   ]
  },
  {
   "cell_type": "code",
   "execution_count": 974,
   "metadata": {},
   "outputs": [
    {
     "data": {
      "image/png": "[encoded data removed]",
      "text/latex": [
       "$\\displaystyle 0$"
      ],
      "text/plain": [
       "0"
      ]
     },
     "execution_count": 974,
     "metadata": {},
     "output_type": "execute_result"
    }
   ],
   "source": [
    "(coeffs_4[2] - coeff_4).subs({a: a_val, sympy.coth(2 * delta): coth_val}).simplify()"
   ]
  },
  {
   "attachments": {},
   "cell_type": "markdown",
   "metadata": {},
   "source": [
    "##### $r^3$ coefficient"
   ]
  },
  {
   "cell_type": "code",
   "execution_count": 1045,
   "metadata": {},
   "outputs": [
    {
     "data": {
      "image/png": "[encoded data removed]",
      "text/latex": [
       "$\\displaystyle 4 \\tilde{r}_+ \\left(\\tilde{r}_+^{2} - 2 a\\right)$"
      ],
      "text/plain": [
       "             ⎛          2      ⎞\n",
       "4⋅\\tilde{r}₊⋅⎝\\tilde{r}₊  - 2⋅a⎠"
      ]
     },
     "execution_count": 1045,
     "metadata": {},
     "output_type": "execute_result"
    }
   ],
   "source": [
    "coeff_3 = 4 * r_tilde_plus * (r_tilde_plus ** 2 - 2 * a)\n",
    "coeff_3"
   ]
  },
  {
   "cell_type": "code",
   "execution_count": 1046,
   "metadata": {},
   "outputs": [
    {
     "data": {
      "image/png": "[encoded data removed]",
      "text/latex": [
       "$\\displaystyle 0$"
      ],
      "text/plain": [
       "0"
      ]
     },
     "execution_count": 1046,
     "metadata": {},
     "output_type": "execute_result"
    }
   ],
   "source": [
    "(coeffs_4[3] - coeff_3).subs({a: a_val, sympy.coth(2 * delta): coth_val}).simplify()"
   ]
  },
  {
   "attachments": {},
   "cell_type": "markdown",
   "metadata": {},
   "source": [
    "##### $r^2$ coefficient"
   ]
  },
  {
   "cell_type": "code",
   "execution_count": 977,
   "metadata": {},
   "outputs": [
    {
     "data": {
      "image/png": "[encoded data removed]",
      "text/latex": [
       "$\\displaystyle 3 \\tilde{r}_+^{4} - 8 \\tilde{r}_+^{2} a + \\left(a^{2} + 1\\right)^{2}$"
      ],
      "text/plain": [
       "                                          2\n",
       "            4               2     ⎛ 2    ⎞ \n",
       "3⋅\\tilde{r}₊  - 8⋅\\tilde{r}₊ ⋅a + ⎝a  + 1⎠ "
      ]
     },
     "execution_count": 977,
     "metadata": {},
     "output_type": "execute_result"
    }
   ],
   "source": [
    "coeff_2 = 3 * r_tilde_plus ** 4 - 8 * a * r_tilde_plus ** 2 + (a ** 2 + 1) ** 2\n",
    "coeff_2"
   ]
  },
  {
   "cell_type": "code",
   "execution_count": 978,
   "metadata": {},
   "outputs": [
    {
     "data": {
      "image/png": "[encoded data removed]",
      "text/latex": [
       "$\\displaystyle 0$"
      ],
      "text/plain": [
       "0"
      ]
     },
     "execution_count": 978,
     "metadata": {},
     "output_type": "execute_result"
    }
   ],
   "source": [
    "(coeffs_4[4] - coeff_2).subs({a: a_val, sympy.coth(2 * delta): coth_val}).simplify()"
   ]
  },
  {
   "attachments": {},
   "cell_type": "markdown",
   "metadata": {},
   "source": [
    "#### $r$ coefficient"
   ]
  },
  {
   "cell_type": "code",
   "execution_count": 1050,
   "metadata": {},
   "outputs": [
    {
     "data": {
      "image/png": "[encoded data removed]",
      "text/latex": [
       "$\\displaystyle 2 \\tilde{r}_+ \\left(\\tilde{r}_+^{2} + a^{2} + 1\\right) \\left(\\tilde{r}_+^{2} - a^{2} - 4 a - 1\\right)$"
      ],
      "text/plain": [
       "             ⎛          2    2    ⎞ ⎛          2    2          ⎞\n",
       "2⋅\\tilde{r}₊⋅⎝\\tilde{r}₊  + a  + 1⎠⋅⎝\\tilde{r}₊  - a  - 4⋅a - 1⎠"
      ]
     },
     "execution_count": 1050,
     "metadata": {},
     "output_type": "execute_result"
    }
   ],
   "source": [
    "coeff_1 = 2 * r_tilde_plus * (r_tilde_plus ** 2 + a ** 2 + 1) * (r_tilde_plus ** 2 - 1 - 4 * a - a ** 2)\n",
    "coeff_1"
   ]
  },
  {
   "cell_type": "code",
   "execution_count": 1051,
   "metadata": {},
   "outputs": [
    {
     "data": {
      "image/png": "[encoded data removed]",
      "text/latex": [
       "$\\displaystyle 0$"
      ],
      "text/plain": [
       "0"
      ]
     },
     "execution_count": 1051,
     "metadata": {},
     "output_type": "execute_result"
    }
   ],
   "source": [
    "(coeff_1 - coeffs_4[5]).subs({a: a_val, sympy.coth(2 * delta): coth_val}).simplify()"
   ]
  },
  {
   "attachments": {},
   "cell_type": "markdown",
   "metadata": {},
   "source": [
    "##### Constant coefficient"
   ]
  },
  {
   "cell_type": "code",
   "execution_count": 983,
   "metadata": {},
   "outputs": [
    {
     "data": {
      "image/png": "[encoded data removed]",
      "text/latex": [
       "$\\displaystyle \\tilde{r}_+^{6} + \\tilde{r}_+^{4} \\cdot \\left(2 a^{2} + 2\\right) + \\tilde{r}_+^{2} \\left(a^{2} + 1\\right)^{2} + 4 a^{2} \\coth^{2}{\\left(2 \\delta \\right)}$"
      ],
      "text/plain": [
       "                                                           2                  \n",
       "          6             4 ⎛   2    ⎞             2 ⎛ 2    ⎞       2     2     \n",
       "\\tilde{r}₊  + \\tilde{r}₊ ⋅⎝2⋅a  + 2⎠ + \\tilde{r}₊ ⋅⎝a  + 1⎠  + 4⋅a ⋅coth (2⋅\\d\n",
       "\n",
       "     \n",
       "     \n",
       "elta)"
      ]
     },
     "execution_count": 983,
     "metadata": {},
     "output_type": "execute_result"
    }
   ],
   "source": [
    "coeff_0 = r_tilde_plus ** 6 + 2 * (a ** 2 + 1) * r_tilde_plus ** 4 + (a ** 2 + 1) ** 2 * r_tilde_plus ** 2 + 4 * a ** 2 * sympy.coth(2 * delta) ** 2\n",
    "coeff_0"
   ]
  },
  {
   "cell_type": "code",
   "execution_count": 984,
   "metadata": {},
   "outputs": [
    {
     "data": {
      "image/png": "[encoded data removed]",
      "text/latex": [
       "$\\displaystyle 0$"
      ],
      "text/plain": [
       "0"
      ]
     },
     "execution_count": 984,
     "metadata": {},
     "output_type": "execute_result"
    }
   ],
   "source": [
    "(coeff_0 - coeffs_4[6]).subs({a: a_val, sympy.coth(2 * delta): coth_val}).expand().simplify()"
   ]
  },
  {
   "cell_type": "code",
   "execution_count": 1052,
   "metadata": {},
   "outputs": [
    {
     "data": {
      "image/png": "[encoded data removed]",
      "text/latex": [
       "$\\displaystyle \\tilde{r}^{6} + 2 \\tilde{r}^{5} \\tilde{r}_+ + \\tilde{r}^{4} \\cdot \\left(3 \\tilde{r}_+^{2} + 2 a^{2} + 2\\right) + 4 \\tilde{r}^{3} \\tilde{r}_+ \\left(\\tilde{r}_+^{2} - 2 a\\right) + \\tilde{r}^{2} \\cdot \\left(3 \\tilde{r}_+^{4} - 8 \\tilde{r}_+^{2} a + \\left(a^{2} + 1\\right)^{2}\\right) + 2 \\tilde{r} \\tilde{r}_+ \\left(\\tilde{r}_+^{2} + a^{2} + 1\\right) \\left(\\tilde{r}_+^{2} - a^{2} - 4 a - 1\\right) + \\tilde{r}_+^{6} + \\tilde{r}_+^{4} \\cdot \\left(2 a^{2} + 2\\right) + \\tilde{r}_+^{2} \\left(a^{2} + 1\\right)^{2} + 4 a^{2} \\coth^{2}{\\left(2 \\delta \\right)}$"
      ],
      "text/plain": [
       "                                                                              \n",
       "         6              5                       4 ⎛            2      2    ⎞  \n",
       "\\tilde{r}  + 2⋅\\tilde{r} ⋅\\tilde{r}₊ + \\tilde{r} ⋅⎝3⋅\\tilde{r}₊  + 2⋅a  + 2⎠ +\n",
       "\n",
       "                                                          ⎛                   \n",
       "            3            ⎛          2      ⎞            2 ⎜            4      \n",
       " 4⋅\\tilde{r} ⋅\\tilde{r}₊⋅⎝\\tilde{r}₊  - 2⋅a⎠ + \\tilde{r} ⋅⎝3⋅\\tilde{r}₊  - 8⋅\\\n",
       "\n",
       "                       2⎞                                                     \n",
       "         2     ⎛ 2    ⎞ ⎟                          ⎛          2    2    ⎞ ⎛   \n",
       "tilde{r}₊ ⋅a + ⎝a  + 1⎠ ⎠ + 2⋅\\tilde{r}⋅\\tilde{r}₊⋅⎝\\tilde{r}₊  + a  + 1⎠⋅⎝\\ti\n",
       "\n",
       "                                                                              \n",
       "       2    2          ⎞             6             4 ⎛   2    ⎞             2 \n",
       "lde{r}₊  - a  - 4⋅a - 1⎠ + \\tilde{r}₊  + \\tilde{r}₊ ⋅⎝2⋅a  + 2⎠ + \\tilde{r}₊ ⋅\n",
       "\n",
       "        2                       \n",
       "⎛ 2    ⎞       2     2          \n",
       "⎝a  + 1⎠  + 4⋅a ⋅coth (2⋅\\delta)"
      ]
     },
     "execution_count": 1052,
     "metadata": {},
     "output_type": "execute_result"
    }
   ],
   "source": [
    "g_final = coeff_6 * r_tilde ** 6 + coeff_5 * r_tilde ** 5 + coeff_4 * r_tilde ** 4 + coeff_3 * r_tilde ** 3 + coeff_2 * r_tilde ** 2 + coeff_1 * r_tilde + coeff_0\n",
    "g_final"
   ]
  },
  {
   "cell_type": "code",
   "execution_count": 1064,
   "metadata": {},
   "outputs": [
    {
     "data": {
      "image/png": "[encoded data removed]",
      "text/latex": [
       "$\\displaystyle \\left(\\tilde{r} - \\tilde{r}_+\\right)^{2} \\left(\\tilde{r}^{6} + 2 \\tilde{r}^{5} \\tilde{r}_+ + 3 \\tilde{r}^{4} \\tilde{r}_+^{2} - 4 \\tilde{r}^{4} a + 2 \\tilde{r}^{4} \\coth^{2}{\\left(2 \\delta \\right)} + 4 \\tilde{r}^{3} \\tilde{r}_+^{3} - 8 \\tilde{r}^{3} \\tilde{r}_+ a + 3 \\tilde{r}^{2} \\tilde{r}_+^{4} - 8 \\tilde{r}^{2} \\tilde{r}_+^{2} a + 4 \\tilde{r}^{2} a^{2} - 4 \\tilde{r}^{2} a \\coth^{2}{\\left(2 \\delta \\right)} + \\tilde{r}^{2} \\coth^{4}{\\left(2 \\delta \\right)} + 2 \\tilde{r} \\tilde{r}_+^{5} - 8 \\tilde{r} \\tilde{r}_+^{3} a + 8 \\tilde{r} \\tilde{r}_+ a^{2} - 2 \\tilde{r} \\tilde{r}_+ \\coth^{4}{\\left(2 \\delta \\right)} + \\tilde{r}_+^{6} - 4 \\tilde{r}_+^{4} a + 2 \\tilde{r}_+^{4} \\coth^{2}{\\left(2 \\delta \\right)} + 4 \\tilde{r}_+^{2} a^{2} + 4 \\tilde{r}_+^{2} a \\coth^{2}{\\left(2 \\delta \\right)} + \\tilde{r}_+^{2} \\coth^{4}{\\left(2 \\delta \\right)} - 8 \\tilde{r}_+^{2} \\coth^{3}{\\left(2 \\delta \\right)} + 8 \\tilde{r}_+^{2} \\coth^{2}{\\left(2 \\delta \\right)} + 4 \\coth^{4}{\\left(2 \\delta \\right)} - 8 \\coth^{3}{\\left(2 \\delta \\right)} + 4 \\coth^{2}{\\left(2 \\delta \\right)}\\right)$"
      ],
      "text/plain": [
       "                        2 ⎛         6              5                         4\n",
       "(\\tilde{r} - \\tilde{r}₊) ⋅⎝\\tilde{r}  + 2⋅\\tilde{r} ⋅\\tilde{r}₊ + 3⋅\\tilde{r} \n",
       "\n",
       "           2              4                4     2                        3   \n",
       "⋅\\tilde{r}₊  - 4⋅\\tilde{r} ⋅a + 2⋅\\tilde{r} ⋅coth (2⋅\\delta) + 4⋅\\tilde{r} ⋅\\t\n",
       "\n",
       "        3              3                           2           4              \n",
       "ilde{r}₊  - 8⋅\\tilde{r} ⋅\\tilde{r}₊⋅a + 3⋅\\tilde{r} ⋅\\tilde{r}₊  - 8⋅\\tilde{r}\n",
       "\n",
       "2           2                2  2              2       2                      \n",
       " ⋅\\tilde{r}₊ ⋅a + 4⋅\\tilde{r} ⋅a  - 4⋅\\tilde{r} ⋅a⋅coth (2⋅\\delta) + \\tilde{r}\n",
       "\n",
       "2     4                                   5                         3         \n",
       " ⋅coth (2⋅\\delta) + 2⋅\\tilde{r}⋅\\tilde{r}₊  - 8⋅\\tilde{r}⋅\\tilde{r}₊ ⋅a + 8⋅\\t\n",
       "\n",
       "                    2                              4                       6  \n",
       "ilde{r}⋅\\tilde{r}₊⋅a  - 2⋅\\tilde{r}⋅\\tilde{r}₊⋅coth (2⋅\\delta) + \\tilde{r}₊  -\n",
       "\n",
       "             4                 4     2                         2  2           \n",
       " 4⋅\\tilde{r}₊ ⋅a + 2⋅\\tilde{r}₊ ⋅coth (2⋅\\delta) + 4⋅\\tilde{r}₊ ⋅a  + 4⋅\\tilde\n",
       "\n",
       "    2       2                       2     4                         2     3   \n",
       "{r}₊ ⋅a⋅coth (2⋅\\delta) + \\tilde{r}₊ ⋅coth (2⋅\\delta) - 8⋅\\tilde{r}₊ ⋅coth (2⋅\n",
       "\n",
       "                      2     2                   4                   3         \n",
       "\\delta) + 8⋅\\tilde{r}₊ ⋅coth (2⋅\\delta) + 4⋅coth (2⋅\\delta) - 8⋅coth (2⋅\\delta\n",
       "\n",
       "          2          ⎞\n",
       ") + 4⋅coth (2⋅\\delta)⎠"
      ]
     },
     "execution_count": 1064,
     "metadata": {},
     "output_type": "execute_result"
    }
   ],
   "source": [
    "y.simplify()"
   ]
  },
  {
   "cell_type": "code",
   "execution_count": 1062,
   "metadata": {},
   "outputs": [
    {
     "data": {
      "image/png": "[encoded data removed]",
      "text/latex": [
       "$\\displaystyle -2.0 \\cdot 10^{-425}$"
      ],
      "text/plain": [
       "-0.e-425"
      ]
     },
     "execution_count": 1062,
     "metadata": {},
     "output_type": "execute_result"
    }
   ],
   "source": [
    "(y - g_final * (r_tilde - r_tilde_plus) ** 2).subs({a: a_val, sympy.coth(2 * delta): coth_val}).subs({delta: 244, r_tilde: 2343, r_tilde_plus: 13111}).evalf()"
   ]
  }
 ],
 "metadata": {
  "kernelspec": {
   "display_name": "env",
   "language": "python",
   "name": "python3"
  },
  "language_info": {
   "codemirror_mode": {
    "name": "ipython",
    "version": 3
   },
   "file_extension": ".py",
   "mimetype": "text/x-python",
   "name": "python",
   "nbconvert_exporter": "python",
   "pygments_lexer": "ipython3",
   "version": "3.10.3"
  },
  "orig_nbformat": 4,
  "vscode": {
   "interpreter": {
    "hash": "b8ffe4bcdb8163a2de2ac3e8ece00cd295cb95f4dc7f77baf7932af3cf10a1f7"
   }
  }
 },
 "nbformat": 4,
 "nbformat_minor": 2
}
