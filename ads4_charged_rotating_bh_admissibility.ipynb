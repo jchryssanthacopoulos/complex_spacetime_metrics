{
 "cells": [
  {
   "cell_type": "code",
   "execution_count": 1,
   "metadata": {},
   "outputs": [],
   "source": [
    "import sympy\n",
    "\n",
    "sympy.init_printing()"
   ]
  },
  {
   "cell_type": "code",
   "execution_count": 2,
   "metadata": {},
   "outputs": [],
   "source": [
    "r_tilde, r_tilde_plus = sympy.symbols(\"\\\\tilde{r} \\\\tilde{r}_+\")"
   ]
  },
  {
   "cell_type": "code",
   "execution_count": 3,
   "metadata": {},
   "outputs": [],
   "source": [
    "delta, a = sympy.symbols(\"\\delta a\")"
   ]
  },
  {
   "cell_type": "code",
   "execution_count": 4,
   "metadata": {},
   "outputs": [],
   "source": [
    "a_m, b_m = sympy.symbols(\"a_m b_m\")"
   ]
  },
  {
   "attachments": {},
   "cell_type": "markdown",
   "metadata": {},
   "source": [
    "#### Determinant"
   ]
  },
  {
   "cell_type": "code",
   "execution_count": 5,
   "metadata": {},
   "outputs": [
    {
     "data": {
      "image/png": "[encoded data removed]",
      "text/latex": [
       "$\\displaystyle - 2 \\tilde{r} a_{m} \\cosh{\\left(2 \\delta \\right)} + \\left(\\tilde{r}^{2} + 1\\right) \\left(\\tilde{r}^{2} + a^{2}\\right) + \\left(a_{m}^{2} - b_{m}^{2}\\right) \\sinh^{2}{\\left(2 \\delta \\right)}$"
      ],
      "text/plain": [
       "                                 ⎛         2    ⎞ ⎛         2    2⎞   ⎛  2    \n",
       "-2⋅\\tilde{r}⋅aₘ⋅cosh(2⋅\\delta) + ⎝\\tilde{r}  + 1⎠⋅⎝\\tilde{r}  + a ⎠ + ⎝aₘ  - b\n",
       "\n",
       " 2⎞     2          \n",
       "ₘ ⎠⋅sinh (2⋅\\delta)"
      ]
     },
     "execution_count": 5,
     "metadata": {},
     "output_type": "execute_result"
    }
   ],
   "source": [
    "det_g_r = (a_m ** 2 - b_m ** 2) * sympy.sinh(2 * delta) ** 2 - 2 * r_tilde * a_m * sympy.cosh(2 * delta) + (r_tilde ** 2 + 1) * (r_tilde ** 2 + a ** 2)\n",
    "det_g_r"
   ]
  },
  {
   "cell_type": "code",
   "execution_count": 6,
   "metadata": {},
   "outputs": [
    {
     "data": {
      "image/png": "[encoded data removed]",
      "text/latex": [
       "$\\displaystyle 2 b_{m} \\left(- \\tilde{r} \\cosh{\\left(2 \\delta \\right)} + a_{m} \\sinh^{2}{\\left(2 \\delta \\right)}\\right)$"
      ],
      "text/plain": [
       "     ⎛                                   2          ⎞\n",
       "2⋅bₘ⋅⎝-\\tilde{r}⋅cosh(2⋅\\delta) + aₘ⋅sinh (2⋅\\delta)⎠"
      ]
     },
     "execution_count": 6,
     "metadata": {},
     "output_type": "execute_result"
    }
   ],
   "source": [
    "det_g_i = 2 * b_m * (a_m * sympy.sinh(2 * delta) ** 2 - r_tilde * sympy.cosh(2 * delta))\n",
    "det_g_i"
   ]
  },
  {
   "attachments": {},
   "cell_type": "markdown",
   "metadata": {},
   "source": [
    "Evaluate $g_r$ when $b_m = 0$."
   ]
  },
  {
   "cell_type": "code",
   "execution_count": 7,
   "metadata": {},
   "outputs": [
    {
     "data": {
      "image/png": "[encoded data removed]",
      "text/latex": [
       "$\\displaystyle - 2 \\tilde{r} a_{m} \\cosh{\\left(2 \\delta \\right)} + a_{m}^{2} \\sinh^{2}{\\left(2 \\delta \\right)} + \\left(\\tilde{r}^{2} + 1\\right) \\left(\\tilde{r}^{2} + a^{2}\\right)$"
      ],
      "text/plain": [
       "                                   2     2             ⎛         2    ⎞ ⎛     \n",
       "-2⋅\\tilde{r}⋅aₘ⋅cosh(2⋅\\delta) + aₘ ⋅sinh (2⋅\\delta) + ⎝\\tilde{r}  + 1⎠⋅⎝\\tild\n",
       "\n",
       "    2    2⎞\n",
       "e{r}  + a ⎠"
      ]
     },
     "execution_count": 7,
     "metadata": {},
     "output_type": "execute_result"
    }
   ],
   "source": [
    "det_g_r_b_m_zero = det_g_r.subs({b_m: 0})\n",
    "det_g_r_b_m_zero"
   ]
  },
  {
   "attachments": {},
   "cell_type": "markdown",
   "metadata": {},
   "source": [
    "#### $m$"
   ]
  },
  {
   "cell_type": "code",
   "execution_count": 8,
   "metadata": {},
   "outputs": [
    {
     "data": {
      "image/png": "[encoded data removed]",
      "text/latex": [
       "$\\displaystyle \\frac{\\tilde{r}_+ \\coth{\\left(2 \\delta \\right)}}{\\sinh{\\left(2 \\delta \\right)}}$"
      ],
      "text/plain": [
       "\\tilde{r}₊⋅coth(2⋅\\delta)\n",
       "─────────────────────────\n",
       "      sinh(2⋅\\delta)     "
      ]
     },
     "execution_count": 8,
     "metadata": {},
     "output_type": "execute_result"
    }
   ],
   "source": [
    "a_m_val = r_tilde_plus * sympy.coth(2 * delta) / sympy.sinh(2 * delta)\n",
    "a_m_val"
   ]
  },
  {
   "cell_type": "code",
   "execution_count": 9,
   "metadata": {},
   "outputs": [
    {
     "data": {
      "image/png": "[encoded data removed]",
      "text/latex": [
       "$\\displaystyle \\frac{\\tilde{r}_+^{2} - \\coth{\\left(2 \\delta \\right)} + 1}{\\sinh{\\left(2 \\delta \\right)}}$"
      ],
      "text/plain": [
       "          2                     \n",
       "\\tilde{r}₊  - coth(2⋅\\delta) + 1\n",
       "────────────────────────────────\n",
       "         sinh(2⋅\\delta)         "
      ]
     },
     "execution_count": 9,
     "metadata": {},
     "output_type": "execute_result"
    }
   ],
   "source": [
    "b_m_val = (r_tilde_plus ** 2 - sympy.coth(2 * delta) + 1) / sympy.sinh(2 * delta)\n",
    "b_m_val"
   ]
  },
  {
   "attachments": {},
   "cell_type": "markdown",
   "metadata": {},
   "source": [
    "When $b_m = 0$, $\\tilde{r}_+$ equals:"
   ]
  },
  {
   "cell_type": "code",
   "execution_count": 10,
   "metadata": {},
   "outputs": [
    {
     "data": {
      "image/png": "[encoded data removed]",
      "text/latex": [
       "$\\displaystyle \\sqrt{\\coth{\\left(2 \\delta \\right)} - 1}$"
      ],
      "text/plain": [
       "  ____________________\n",
       "╲╱ coth(2⋅\\delta) - 1 "
      ]
     },
     "execution_count": 10,
     "metadata": {},
     "output_type": "execute_result"
    }
   ],
   "source": [
    "r_tilde_plus_b_m_zero = sympy.sqrt(sympy.coth(2 * delta) - 1)\n",
    "r_tilde_plus_b_m_zero"
   ]
  },
  {
   "cell_type": "code",
   "execution_count": 11,
   "metadata": {},
   "outputs": [
    {
     "data": {
      "image/png": "[encoded data removed]",
      "text/latex": [
       "$\\displaystyle \\tilde{r}_+^{2} + 1$"
      ],
      "text/plain": [
       "          2    \n",
       "\\tilde{r}₊  + 1"
      ]
     },
     "execution_count": 11,
     "metadata": {},
     "output_type": "execute_result"
    }
   ],
   "source": [
    "coth_2_delta_val = r_tilde_plus ** 2 + 1\n",
    "coth_2_delta_val"
   ]
  },
  {
   "attachments": {},
   "cell_type": "markdown",
   "metadata": {},
   "source": [
    "Write $a_m$ in terms of $\\delta$."
   ]
  },
  {
   "cell_type": "code",
   "execution_count": 12,
   "metadata": {},
   "outputs": [
    {
     "data": {
      "image/png": "[encoded data removed]",
      "text/latex": [
       "$\\displaystyle \\frac{\\sqrt{\\coth{\\left(2 \\delta \\right)} - 1} \\coth{\\left(2 \\delta \\right)}}{\\sinh{\\left(2 \\delta \\right)}}$"
      ],
      "text/plain": [
       "  ____________________               \n",
       "╲╱ coth(2⋅\\delta) - 1 ⋅coth(2⋅\\delta)\n",
       "─────────────────────────────────────\n",
       "            sinh(2⋅\\delta)           "
      ]
     },
     "execution_count": 12,
     "metadata": {},
     "output_type": "execute_result"
    }
   ],
   "source": [
    "a_m_in_delta = a_m_val.subs({r_tilde_plus: r_tilde_plus_b_m_zero})\n",
    "a_m_in_delta"
   ]
  },
  {
   "attachments": {},
   "cell_type": "markdown",
   "metadata": {},
   "source": [
    "Write $a_m$ in terms of $\\tilde{r}_+$."
   ]
  },
  {
   "cell_type": "code",
   "execution_count": 13,
   "metadata": {},
   "outputs": [
    {
     "data": {
      "image/png": "[encoded data removed]",
      "text/latex": [
       "$\\displaystyle \\tilde{r}_+^{2} - \\frac{\\sqrt{\\sinh^{2}{\\left(2 \\delta \\right)} + 1}}{\\sinh{\\left(2 \\delta \\right)}} + 1$"
      ],
      "text/plain": [
       "                 _____________________    \n",
       "                ╱     2                   \n",
       "          2   ╲╱  sinh (2⋅\\delta) + 1     \n",
       "\\tilde{r}₊  - ──────────────────────── + 1\n",
       "                   sinh(2⋅\\delta)         "
      ]
     },
     "execution_count": 13,
     "metadata": {},
     "output_type": "execute_result"
    }
   ],
   "source": [
    "b_m_zero_cond = (r_tilde_plus ** 2 - sympy.cosh(2 * delta) / sympy.sinh(2 * delta) + 1).subs({sympy.cosh(2 * delta): sympy.sqrt(1 + sympy.sinh(2 * delta) ** 2)})\n",
    "b_m_zero_cond"
   ]
  },
  {
   "cell_type": "code",
   "execution_count": 14,
   "metadata": {},
   "outputs": [
    {
     "data": {
      "image/png": "[encoded data removed]",
      "text/latex": [
       "$\\displaystyle \\tilde{r}_+^{2} + 1 - \\frac{\\sqrt{x^{2} + 1}}{x}$"
      ],
      "text/plain": [
       "                     ________\n",
       "                    ╱  2     \n",
       "          2       ╲╱  x  + 1 \n",
       "\\tilde{r}₊  + 1 - ───────────\n",
       "                       x     "
      ]
     },
     "execution_count": 14,
     "metadata": {},
     "output_type": "execute_result"
    }
   ],
   "source": [
    "x = sympy.symbols(\"x\")\n",
    "b_m_zero_cond = r_tilde_plus ** 2 - sympy.sqrt(1 + x ** 2) / x + 1\n",
    "b_m_zero_cond"
   ]
  },
  {
   "cell_type": "code",
   "execution_count": 15,
   "metadata": {},
   "outputs": [
    {
     "data": {
      "image/png": "[encoded data removed]",
      "text/latex": [
       "$\\displaystyle \\left[ - \\frac{\\sqrt{\\frac{1}{\\tilde{r}_+^{2} + 2}}}{\\tilde{r}_+}, \\  \\frac{\\sqrt{\\frac{1}{\\tilde{r}_+^{2} + 2}}}{\\tilde{r}_+}\\right]$"
      ],
      "text/plain": [
       "⎡      _________________        _________________⎤\n",
       "⎢     ╱        1               ╱        1        ⎥\n",
       "⎢-   ╱  ───────────────       ╱  ─────────────── ⎥\n",
       "⎢   ╱             2          ╱             2     ⎥\n",
       "⎢ ╲╱    \\tilde{r}₊  + 2    ╲╱    \\tilde{r}₊  + 2 ⎥\n",
       "⎢────────────────────────, ──────────────────────⎥\n",
       "⎣       \\tilde{r}₊               \\tilde{r}₊      ⎦"
      ]
     },
     "execution_count": 15,
     "metadata": {},
     "output_type": "execute_result"
    }
   ],
   "source": [
    "sinh_2_delta_vals = sympy.solve(b_m_zero_cond, x)\n",
    "sinh_2_delta_vals"
   ]
  },
  {
   "cell_type": "code",
   "execution_count": 16,
   "metadata": {},
   "outputs": [
    {
     "data": {
      "image/png": "[encoded data removed]",
      "text/latex": [
       "$\\displaystyle \\frac{\\sqrt{\\frac{1}{\\tilde{r}_+^{2} + 2}}}{\\tilde{r}_+}$"
      ],
      "text/plain": [
       "     _________________\n",
       "    ╱        1        \n",
       "   ╱  ─────────────── \n",
       "  ╱             2     \n",
       "╲╱    \\tilde{r}₊  + 2 \n",
       "──────────────────────\n",
       "      \\tilde{r}₊      "
      ]
     },
     "execution_count": 16,
     "metadata": {},
     "output_type": "execute_result"
    }
   ],
   "source": [
    "sinh_2_delta_vals[1]"
   ]
  },
  {
   "cell_type": "code",
   "execution_count": 17,
   "metadata": {},
   "outputs": [
    {
     "data": {
      "image/png": "[encoded data removed]",
      "text/latex": [
       "$\\displaystyle \\sqrt{\\frac{\\tilde{r}_+^{2} \\left(\\tilde{r}_+^{2} + 2\\right) + 1}{\\tilde{r}_+^{2} \\left(\\tilde{r}_+^{2} + 2\\right)}}$"
      ],
      "text/plain": [
       "      ___________________________________\n",
       "     ╱           2 ⎛          2    ⎞     \n",
       "    ╱  \\tilde{r}₊ ⋅⎝\\tilde{r}₊  + 2⎠ + 1 \n",
       "   ╱   ───────────────────────────────── \n",
       "  ╱                2 ⎛          2    ⎞   \n",
       "╲╱       \\tilde{r}₊ ⋅⎝\\tilde{r}₊  + 2⎠   "
      ]
     },
     "execution_count": 17,
     "metadata": {},
     "output_type": "execute_result"
    }
   ],
   "source": [
    "cosh_2_delta_val = sympy.sqrt(1 + sinh_2_delta_vals[1] ** 2).simplify()\n",
    "cosh_2_delta_val"
   ]
  },
  {
   "cell_type": "code",
   "execution_count": 18,
   "metadata": {},
   "outputs": [
    {
     "data": {
      "image/png": "[encoded data removed]",
      "text/latex": [
       "$\\displaystyle \\frac{\\tilde{r}_+^{2} \\left(\\tilde{r}_+^{2} + 1\\right)}{\\sqrt{\\frac{1}{\\tilde{r}_+^{2} + 2}}}$"
      ],
      "text/plain": [
       "          2 ⎛          2    ⎞\n",
       "\\tilde{r}₊ ⋅⎝\\tilde{r}₊  + 1⎠\n",
       "─────────────────────────────\n",
       "         _________________   \n",
       "        ╱        1           \n",
       "       ╱  ───────────────    \n",
       "      ╱             2        \n",
       "    ╲╱    \\tilde{r}₊  + 2    "
      ]
     },
     "execution_count": 18,
     "metadata": {},
     "output_type": "execute_result"
    }
   ],
   "source": [
    "a_m_in_r_tilde_plus = a_m_val.subs({sympy.coth(2 * delta): coth_2_delta_val, sympy.sinh(2 * delta): sinh_2_delta_vals[1]})\n",
    "a_m_in_r_tilde_plus"
   ]
  },
  {
   "cell_type": "code",
   "execution_count": 19,
   "metadata": {},
   "outputs": [
    {
     "data": {
      "image/png": "[encoded data removed]",
      "text/latex": [
       "$\\displaystyle \\tilde{r}_+^{2} \\left(\\tilde{r}_+^{2} + 1\\right) \\sqrt{\\tilde{r}_+^{2} + 2}$"
      ],
      "text/plain": [
       "                                 _________________\n",
       "          2 ⎛          2    ⎞   ╱           2     \n",
       "\\tilde{r}₊ ⋅⎝\\tilde{r}₊  + 1⎠⋅╲╱  \\tilde{r}₊  + 2 "
      ]
     },
     "execution_count": 19,
     "metadata": {},
     "output_type": "execute_result"
    }
   ],
   "source": [
    "a_m_in_r_tilde_plus = r_tilde_plus ** 2 * (r_tilde_plus ** 2 + 1) * sympy.sqrt(r_tilde_plus ** 2 + 2)\n",
    "a_m_in_r_tilde_plus"
   ]
  },
  {
   "attachments": {},
   "cell_type": "markdown",
   "metadata": {},
   "source": [
    "#### $a$"
   ]
  },
  {
   "cell_type": "code",
   "execution_count": 20,
   "metadata": {},
   "outputs": [
    {
     "data": {
      "image/png": "[encoded data removed]",
      "text/latex": [
       "$\\displaystyle \\frac{2}{e^{4 \\delta} - 1}$"
      ],
      "text/plain": [
       "      2      \n",
       "─────────────\n",
       " 4⋅\\delta    \n",
       "ℯ         - 1"
      ]
     },
     "execution_count": 20,
     "metadata": {},
     "output_type": "execute_result"
    }
   ],
   "source": [
    "a_val = 2 / (sympy.exp(4 * delta) - 1)\n",
    "a_val"
   ]
  },
  {
   "attachments": {},
   "cell_type": "markdown",
   "metadata": {},
   "source": [
    "Write in terms of $\\tilde{r}_+$."
   ]
  },
  {
   "cell_type": "code",
   "execution_count": 21,
   "metadata": {},
   "outputs": [
    {
     "data": {
      "image/png": "[encoded data removed]",
      "text/latex": [
       "$\\displaystyle \\frac{\\operatorname{acoth}{\\left(\\tilde{r}_+^{2} + 1 \\right)}}{2}$"
      ],
      "text/plain": [
       "     ⎛          2    ⎞\n",
       "acoth⎝\\tilde{r}₊  + 1⎠\n",
       "──────────────────────\n",
       "          2           "
      ]
     },
     "execution_count": 21,
     "metadata": {},
     "output_type": "execute_result"
    }
   ],
   "source": [
    "delta_val = sympy.acoth(r_tilde_plus ** 2 + 1) / 2\n",
    "delta_val"
   ]
  },
  {
   "attachments": {},
   "cell_type": "markdown",
   "metadata": {},
   "source": [
    "Use identity $\\text{arccoth}(x) = \\frac{1}{2}\\ln(\\frac{x + 1}{x-1})$."
   ]
  },
  {
   "cell_type": "code",
   "execution_count": 22,
   "metadata": {},
   "outputs": [
    {
     "data": {
      "image/png": "[encoded data removed]",
      "text/latex": [
       "$\\displaystyle \\frac{\\log{\\left(\\frac{\\tilde{r}_+^{2} + 2}{\\tilde{r}_+^{2}} \\right)}}{2}$"
      ],
      "text/plain": [
       "   ⎛          2    ⎞\n",
       "   ⎜\\tilde{r}₊  + 2⎟\n",
       "log⎜───────────────⎟\n",
       "   ⎜            2  ⎟\n",
       "   ⎝  \\tilde{r}₊   ⎠\n",
       "────────────────────\n",
       "         2          "
      ]
     },
     "execution_count": 22,
     "metadata": {},
     "output_type": "execute_result"
    }
   ],
   "source": [
    "acoth_val = sympy.ln((r_tilde_plus ** 2 + 2) / r_tilde_plus ** 2) / 2\n",
    "acoth_val"
   ]
  },
  {
   "cell_type": "code",
   "execution_count": 23,
   "metadata": {},
   "outputs": [
    {
     "data": {
      "image/png": "[encoded data removed]",
      "text/latex": [
       "$\\displaystyle \\frac{\\log{\\left(\\frac{\\tilde{r}_+^{2} + 2}{\\tilde{r}_+^{2}} \\right)}}{4}$"
      ],
      "text/plain": [
       "   ⎛          2    ⎞\n",
       "   ⎜\\tilde{r}₊  + 2⎟\n",
       "log⎜───────────────⎟\n",
       "   ⎜            2  ⎟\n",
       "   ⎝  \\tilde{r}₊   ⎠\n",
       "────────────────────\n",
       "         4          "
      ]
     },
     "execution_count": 23,
     "metadata": {},
     "output_type": "execute_result"
    }
   ],
   "source": [
    "delta_val = delta_val.subs({sympy.acoth(r_tilde_plus ** 2 + 1): acoth_val})\n",
    "delta_val"
   ]
  },
  {
   "cell_type": "code",
   "execution_count": 24,
   "metadata": {},
   "outputs": [
    {
     "data": {
      "image/png": "[encoded data removed]",
      "text/latex": [
       "$\\displaystyle \\tilde{r}_+^{2}$"
      ],
      "text/plain": [
       "          2\n",
       "\\tilde{r}₊ "
      ]
     },
     "execution_count": 24,
     "metadata": {},
     "output_type": "execute_result"
    }
   ],
   "source": [
    "a_in_r_tilde_plus = a_val.subs({delta: delta_val}).simplify()\n",
    "a_in_r_tilde_plus"
   ]
  },
  {
   "attachments": {},
   "cell_type": "markdown",
   "metadata": {},
   "source": [
    "$a$ is just $\\tilde{r}_+^2$."
   ]
  },
  {
   "attachments": {},
   "cell_type": "markdown",
   "metadata": {},
   "source": [
    "#### $g_r = 0$"
   ]
  },
  {
   "cell_type": "code",
   "execution_count": 25,
   "metadata": {},
   "outputs": [
    {
     "data": {
      "image/png": "[encoded data removed]",
      "text/latex": [
       "$\\displaystyle - 2 \\tilde{r} a_{m} \\cosh{\\left(2 \\delta \\right)} + a_{m}^{2} \\sinh^{2}{\\left(2 \\delta \\right)} + \\left(\\tilde{r}^{2} + 1\\right) \\left(\\tilde{r}^{2} + a^{2}\\right)$"
      ],
      "text/plain": [
       "                                   2     2             ⎛         2    ⎞ ⎛     \n",
       "-2⋅\\tilde{r}⋅aₘ⋅cosh(2⋅\\delta) + aₘ ⋅sinh (2⋅\\delta) + ⎝\\tilde{r}  + 1⎠⋅⎝\\tild\n",
       "\n",
       "    2    2⎞\n",
       "e{r}  + a ⎠"
      ]
     },
     "execution_count": 25,
     "metadata": {},
     "output_type": "execute_result"
    }
   ],
   "source": [
    "det_g_r_b_m_zero"
   ]
  },
  {
   "cell_type": "code",
   "execution_count": 26,
   "metadata": {},
   "outputs": [
    {
     "data": {
      "image/png": "[encoded data removed]",
      "text/latex": [
       "$\\displaystyle \\tilde{r}^{4} + \\tilde{r}^{2} \\left(\\tilde{r}_+^{4} + 1\\right) + \\tilde{r} \\left(- 2 \\tilde{r}_+^{5} - 4 \\tilde{r}_+^{3} - 2 \\tilde{r}_+\\right) + \\tilde{r}_+^{6} + 3 \\tilde{r}_+^{4} + \\tilde{r}_+^{2}$"
      ],
      "text/plain": [
       "         4            2 ⎛          4    ⎞             ⎛              5        \n",
       "\\tilde{r}  + \\tilde{r} ⋅⎝\\tilde{r}₊  + 1⎠ + \\tilde{r}⋅⎝- 2⋅\\tilde{r}₊  - 4⋅\\ti\n",
       "\n",
       "       3               ⎞             6               4             2\n",
       "lde{r}₊  - 2⋅\\tilde{r}₊⎠ + \\tilde{r}₊  + 3⋅\\tilde{r}₊  + \\tilde{r}₊ "
      ]
     },
     "execution_count": 26,
     "metadata": {},
     "output_type": "execute_result"
    }
   ],
   "source": [
    "det_g_r_simp = det_g_r_b_m_zero.subs({\n",
    "    a_m: a_m_in_r_tilde_plus,\n",
    "    a: a_in_r_tilde_plus,\n",
    "    sympy.sinh(2 * delta): sinh_2_delta_vals[1],\n",
    "    a_m * sympy.cosh(2 * delta): r_tilde_plus * (r_tilde_plus ** 2 + 1) ** 2\n",
    "})\n",
    "det_g_r_simp = det_g_r_simp.expand().collect([r_tilde, r_tilde ** 2, r_tilde ** 3, r_tilde ** 4])\n",
    "det_g_r_simp"
   ]
  },
  {
   "cell_type": "code",
   "execution_count": 27,
   "metadata": {},
   "outputs": [],
   "source": [
    "A_coeff_val = det_g_r_simp.coeff(r_tilde ** 4)\n",
    "B_coeff_val = det_g_r_simp.coeff(r_tilde ** 2)\n",
    "C_coeff_val = det_g_r_simp.coeff(r_tilde)\n",
    "D_coeff_val = det_g_r_simp - A_coeff_val * r_tilde ** 4 - B_coeff_val * r_tilde ** 2 - C_coeff_val * r_tilde"
   ]
  },
  {
   "cell_type": "code",
   "execution_count": 28,
   "metadata": {},
   "outputs": [
    {
     "data": {
      "image/png": "[encoded data removed]",
      "text/latex": [
       "$\\displaystyle \\tilde{r}_+^{4} + 1$"
      ],
      "text/plain": [
       "          4    \n",
       "\\tilde{r}₊  + 1"
      ]
     },
     "execution_count": 28,
     "metadata": {},
     "output_type": "execute_result"
    }
   ],
   "source": [
    "B_coeff_val"
   ]
  },
  {
   "cell_type": "code",
   "execution_count": 29,
   "metadata": {},
   "outputs": [
    {
     "data": {
      "image/png": "[encoded data removed]",
      "text/latex": [
       "$\\displaystyle - 2 \\tilde{r}_+^{5} - 4 \\tilde{r}_+^{3} - 2 \\tilde{r}_+$"
      ],
      "text/plain": [
       "              5               3               \n",
       "- 2⋅\\tilde{r}₊  - 4⋅\\tilde{r}₊  - 2⋅\\tilde{r}₊"
      ]
     },
     "execution_count": 29,
     "metadata": {},
     "output_type": "execute_result"
    }
   ],
   "source": [
    "C_coeff_val"
   ]
  },
  {
   "cell_type": "code",
   "execution_count": 30,
   "metadata": {},
   "outputs": [
    {
     "data": {
      "image/png": "[encoded data removed]",
      "text/latex": [
       "$\\displaystyle \\tilde{r}_+^{6} + 3 \\tilde{r}_+^{4} + \\tilde{r}_+^{2}$"
      ],
      "text/plain": [
       "          6               4             2\n",
       "\\tilde{r}₊  + 3⋅\\tilde{r}₊  + \\tilde{r}₊ "
      ]
     },
     "execution_count": 30,
     "metadata": {},
     "output_type": "execute_result"
    }
   ],
   "source": [
    "D_coeff_val"
   ]
  },
  {
   "cell_type": "code",
   "execution_count": 31,
   "metadata": {},
   "outputs": [],
   "source": [
    "A, B, C, D = sympy.symbols(\"A B C D\")"
   ]
  },
  {
   "cell_type": "code",
   "execution_count": 32,
   "metadata": {},
   "outputs": [
    {
     "data": {
      "image/png": "[encoded data removed]",
      "text/latex": [
       "$\\displaystyle B \\tilde{r}^{2} + C \\tilde{r} + D + \\tilde{r}^{4}$"
      ],
      "text/plain": [
       "           2                              4\n",
       "B⋅\\tilde{r}  + C⋅\\tilde{r} + D + \\tilde{r} "
      ]
     },
     "execution_count": 32,
     "metadata": {},
     "output_type": "execute_result"
    }
   ],
   "source": [
    "det_g_r_quartic = r_tilde ** 4 + B * r_tilde ** 2 + C * r_tilde + D\n",
    "det_g_r_quartic"
   ]
  },
  {
   "cell_type": "code",
   "execution_count": 33,
   "metadata": {},
   "outputs": [],
   "source": [
    "sol = sympy.solve(det_g_r_quartic, r_tilde)"
   ]
  },
  {
   "cell_type": "code",
   "execution_count": 34,
   "metadata": {},
   "outputs": [
    {
     "data": {
      "text/latex": [
       "$\\displaystyle \\begin{cases} \\frac{\\sqrt{- \\frac{2 B}{3} - 2 \\sqrt[3]{- \\frac{B^{3}}{108} + \\frac{B D}{3} - \\frac{C^{2}}{8}}}}{2} + \\frac{\\sqrt{- \\frac{4 B}{3} - \\frac{2 C}{\\sqrt{- \\frac{2 B}{3} - 2 \\sqrt[3]{- \\frac{B^{3}}{108} + \\frac{B D}{3} - \\frac{C^{2}}{8}}}} + 2 \\sqrt[3]{- \\frac{B^{3}}{108} + \\frac{B D}{3} - \\frac{C^{2}}{8}}}}{2} & \\text{for}\\: \\frac{B^{2}}{12} + D = 0 \\\\\\frac{\\sqrt{- \\frac{2 B}{3} - \\frac{2 \\left(- \\frac{B^{2}}{12} - D\\right)}{3 \\sqrt[3]{\\frac{B^{3}}{216} - \\frac{B D}{6} + \\frac{C^{2}}{16} + \\sqrt{\\frac{\\left(- \\frac{B^{2}}{12} - D\\right)^{3}}{27} + \\frac{\\left(- \\frac{B^{3}}{108} + \\frac{B D}{3} - \\frac{C^{2}}{8}\\right)^{2}}{4}}}} + 2 \\sqrt[3]{\\frac{B^{3}}{216} - \\frac{B D}{6} + \\frac{C^{2}}{16} + \\sqrt{\\frac{\\left(- \\frac{B^{2}}{12} - D\\right)^{3}}{27} + \\frac{\\left(- \\frac{B^{3}}{108} + \\frac{B D}{3} - \\frac{C^{2}}{8}\\right)^{2}}{4}}}}}{2} + \\frac{\\sqrt{- \\frac{4 B}{3} - \\frac{2 C}{\\sqrt{- \\frac{2 B}{3} - \\frac{2 \\left(- \\frac{B^{2}}{12} - D\\right)}{3 \\sqrt[3]{\\frac{B^{3}}{216} - \\frac{B D}{6} + \\frac{C^{2}}{16} + \\sqrt{\\frac{\\left(- \\frac{B^{2}}{12} - D\\right)^{3}}{27} + \\frac{\\left(- \\frac{B^{3}}{108} + \\frac{B D}{3} - \\frac{C^{2}}{8}\\right)^{2}}{4}}}} + 2 \\sqrt[3]{\\frac{B^{3}}{216} - \\frac{B D}{6} + \\frac{C^{2}}{16} + \\sqrt{\\frac{\\left(- \\frac{B^{2}}{12} - D\\right)^{3}}{27} + \\frac{\\left(- \\frac{B^{3}}{108} + \\frac{B D}{3} - \\frac{C^{2}}{8}\\right)^{2}}{4}}}}} + \\frac{2 \\left(- \\frac{B^{2}}{12} - D\\right)}{3 \\sqrt[3]{\\frac{B^{3}}{216} - \\frac{B D}{6} + \\frac{C^{2}}{16} + \\sqrt{\\frac{\\left(- \\frac{B^{2}}{12} - D\\right)^{3}}{27} + \\frac{\\left(- \\frac{B^{3}}{108} + \\frac{B D}{3} - \\frac{C^{2}}{8}\\right)^{2}}{4}}}} - 2 \\sqrt[3]{\\frac{B^{3}}{216} - \\frac{B D}{6} + \\frac{C^{2}}{16} + \\sqrt{\\frac{\\left(- \\frac{B^{2}}{12} - D\\right)^{3}}{27} + \\frac{\\left(- \\frac{B^{3}}{108} + \\frac{B D}{3} - \\frac{C^{2}}{8}\\right)^{2}}{4}}}}}{2} & \\text{otherwise} \\end{cases}$"
      ],
      "text/plain": [
       "⎧                                                                             \n",
       "⎪                                                                             \n",
       "⎪                                                                             \n",
       "⎪                                                                             \n",
       "⎪                                                                             \n",
       "⎪                                                                             \n",
       "⎪                                                                             \n",
       "⎪                                                                             \n",
       "⎪                                                                             \n",
       "⎪                                                                             \n",
       "⎪                                                                             \n",
       "⎪                                                                             \n",
       "⎪                                                                             \n",
       "⎪                                                                             \n",
       "⎪                                                                             \n",
       "⎪                                                                             \n",
       "⎪                                                                             \n",
       "⎪                                                                             \n",
       "⎪                                                                             \n",
       "⎪                                                                             \n",
       "⎪                                                                             \n",
       "⎨                                                                             \n",
       "⎪                                                                             \n",
       "⎪                  ___________________________________________________________\n",
       "⎪                 ╱                                                           \n",
       "⎪                ╱                                                            \n",
       "⎪               ╱                                                             \n",
       "⎪              ╱                                             ⎛   2    ⎞       \n",
       "⎪             ╱                                              ⎜  B     ⎟       \n",
       "⎪            ╱                                             2⋅⎜- ── - D⎟       \n",
       "⎪           ╱         2⋅B                                    ⎝  12    ⎠       \n",
       "⎪          ╱        - ─── - ──────────────────────────────────────────────────\n",
       "⎪         ╱            3               _______________________________________\n",
       "⎪        ╱                            ╱                          _____________\n",
       "⎪       ╱                            ╱                          ╱           3 \n",
       "⎪      ╱                            ╱                          ╱  ⎛   2    ⎞  \n",
       "⎪     ╱                            ╱                          ╱   ⎜  B     ⎟  \n",
       "⎪    ╱                            ╱       3          2       ╱    ⎜- ── - D⎟  \n",
       "⎪   ╱                            ╱       B    B⋅D   C       ╱     ⎝  12    ⎠  \n",
       "⎪  ╱                        3⋅3 ╱       ─── - ─── + ── +   ╱      ─────────── \n",
       "⎪╲╱                           ╲╱        216    6    16   ╲╱            27     \n",
       "⎪─────────────────────────────────────────────────────────────────────────────\n",
       "⎩                                                                             \n",
       "\n",
       "                                                                              \n",
       "                                                                              \n",
       "                                                                              \n",
       "                                                                              \n",
       "                                                                              \n",
       "                                                                              \n",
       "                                                                              \n",
       "                                                                              \n",
       "                                                                              \n",
       "                                                                              \n",
       "                                                                              \n",
       "                                                                              \n",
       "                                                                              \n",
       "                                                                              \n",
       "                                                                              \n",
       "                                                                              \n",
       "                                                                              \n",
       "                                                                              \n",
       "                                                                              \n",
       "                                                                              \n",
       "                                                                              \n",
       "                                                                              \n",
       "                                                                              \n",
       "______________________________________________________________________________\n",
       "                                     _________________________________________\n",
       "                                    ╱                          _______________\n",
       "                                   ╱                          ╱           3   \n",
       "                                  ╱                          ╱  ⎛   2    ⎞    \n",
       "                                 ╱                          ╱   ⎜  B     ⎟    \n",
       "                                ╱       3          2       ╱    ⎜- ── - D⎟    \n",
       "                               ╱       B    B⋅D   C       ╱     ⎝  12    ⎠    \n",
       "─────────────────────── + 2⋅3 ╱       ─── - ─── + ── +   ╱      ─────────── + \n",
       "_______________________     ╲╱        216    6    16   ╲╱            27       \n",
       "______________________                                                        \n",
       "                    2                                                         \n",
       "  ⎛    3          2⎞                                                          \n",
       "  ⎜   B    B⋅D   C ⎟                                                          \n",
       "  ⎜- ─── + ─── - ──⎟                                                          \n",
       "  ⎝  108    3    8 ⎠                                                          \n",
       "+ ───────────────────                                                         \n",
       "           4                                                                  \n",
       "──────────────────────────────────────────────────────────────────────────────\n",
       "           2                                                                  \n",
       "\n",
       "                                                                              \n",
       "                                                                              \n",
       "                                                                              \n",
       "                                                                              \n",
       "                                                                              \n",
       "                                                         _____________________\n",
       "                                                        ╱                _____\n",
       "                                                       ╱                ╱     \n",
       "                                                      ╱     2⋅B        ╱     B\n",
       "                                                     ╱    - ─── - 2⋅3 ╱   - ──\n",
       "                                                   ╲╱        3      ╲╱      10\n",
       "                                                   ───────────────────────────\n",
       "                                                                       2      \n",
       "                                                                              \n",
       "                                                    __________________________\n",
       "                                                   ╱                          \n",
       "                                                  ╱                           \n",
       "                                                 ╱                            \n",
       "                                                ╱                             \n",
       "                                               ╱                              \n",
       "                                              ╱                               \n",
       "                                             ╱         4⋅B                    \n",
       "                                            ╱        - ─── - ─────────────────\n",
       "______________________                     ╱            3                     \n",
       "_____________________                     ╱                                   \n",
       "____________________                     ╱                                   ╱\n",
       "                  2                     ╱                                   ╱ \n",
       "⎛    3          2⎞                     ╱                                   ╱  \n",
       "⎜   B    B⋅D   C ⎟                    ╱                                   ╱   \n",
       "⎜- ─── + ─── - ──⎟                   ╱                                   ╱    \n",
       "⎝  108    3    8 ⎠                  ╱                                   ╱     \n",
       "───────────────────                ╱                                   ╱      \n",
       "         4                        ╱                                   ╱       \n",
       "                                 ╱                                   ╱        \n",
       "                                ╱                                   ╱         \n",
       "                               ╱                                   ╱          \n",
       "                              ╱                                   ╱           \n",
       "                             ╱                                   ╱            \n",
       "                            ╱                                   ╱             \n",
       "                           ╱                                   ╱              \n",
       "                         ╲╱                                  ╲╱               \n",
       "────────────────────── + ─────────────────────────────────────────────────────\n",
       "                                                                              \n",
       "\n",
       "                            __________________________________________________\n",
       "                           ╱                                                  \n",
       "                          ╱                                                   \n",
       "                         ╱     4⋅B                      2⋅C                   \n",
       "                        ╱    - ─── - ─────────────────────────────────────────\n",
       "______________         ╱        3          ___________________________________\n",
       "_____________         ╱                   ╱                __________________ \n",
       "3          2         ╱                   ╱                ╱     3          2  \n",
       "    B⋅D   C         ╱                   ╱     2⋅B        ╱     B    B⋅D   C   \n",
       "─ + ─── - ──       ╱                   ╱    - ─── - 2⋅3 ╱   - ─── + ─── - ──  \n",
       "8    3    8      ╲╱                  ╲╱        3      ╲╱      108    3    8   \n",
       "────────────── + ─────────────────────────────────────────────────────────────\n",
       "                                                             2                \n",
       "                                                                              \n",
       "______________________________________________________________________________\n",
       "                                                                              \n",
       "                                                                              \n",
       "                                                                              \n",
       "                                                                              \n",
       "                                                                              \n",
       "                                                                              \n",
       "                                                                      2⋅C     \n",
       "──────────────────────────────────────────────────────────────────────────────\n",
       " _____________________________________________________________________________\n",
       "╱                                                                             \n",
       "                                                                              \n",
       "                                                                              \n",
       "                                           ⎛   2    ⎞                         \n",
       "                                           ⎜  B     ⎟                         \n",
       "                                         2⋅⎜- ── - D⎟                         \n",
       "    2⋅B                                    ⎝  12    ⎠                         \n",
       "  - ─── - ────────────────────────────────────────────────────────────────────\n",
       "     3               _________________________________________________________\n",
       "                    ╱                          _______________________________\n",
       "                   ╱                          ╱           3                   \n",
       "                  ╱                          ╱  ⎛   2    ⎞    ⎛    3          \n",
       "                 ╱                          ╱   ⎜  B     ⎟    ⎜   B    B⋅D   C\n",
       "                ╱       3          2       ╱    ⎜- ── - D⎟    ⎜- ─── + ─── - ─\n",
       "               ╱       B    B⋅D   C       ╱     ⎝  12    ⎠    ⎝  108    3    8\n",
       "          3⋅3 ╱       ─── - ─── + ── +   ╱      ─────────── + ────────────────\n",
       "            ╲╱        216    6    16   ╲╱            27                4      \n",
       "──────────────────────────────────────────────────────────────────────────────\n",
       "                                                                              \n",
       "\n",
       "_____________________________                                                 \n",
       "          __________________                                                  \n",
       "         ╱     3          2                                                   \n",
       "        ╱     B    B⋅D   C                                                    \n",
       " + 2⋅3 ╱   - ─── + ─── - ──                                                   \n",
       "     ╲╱      108    3    8                                                    \n",
       "                                                                              \n",
       "                                                                              \n",
       "                                                                              \n",
       "                                                                              \n",
       "                                                                              \n",
       "─────────────────────────────                                                 \n",
       "                                                                              \n",
       "                                                                              \n",
       "______________________________________________________________________________\n",
       "                                                                              \n",
       "                                                                              \n",
       "                                                                              \n",
       "                                                                              \n",
       "                                                                              \n",
       "                                                                              \n",
       "                                                                              \n",
       "──────────────────────────────────────────────────────────────────────────────\n",
       "______________________________________________________________________________\n",
       "                   ___________________________________________________________\n",
       "                  ╱                          _________________________________\n",
       "                 ╱                          ╱           3                     \n",
       "                ╱                          ╱  ⎛   2    ⎞    ⎛    3          2⎞\n",
       "               ╱                          ╱   ⎜  B     ⎟    ⎜   B    B⋅D   C ⎟\n",
       "              ╱       3          2       ╱    ⎜- ── - D⎟    ⎜- ─── + ─── - ──⎟\n",
       "             ╱       B    B⋅D   C       ╱     ⎝  12    ⎠    ⎝  108    3    8 ⎠\n",
       "───── + 2⋅3 ╱       ─── - ─── + ── +   ╱      ─────────── + ──────────────────\n",
       "_____     ╲╱        216    6    16   ╲╱            27                4        \n",
       "____                                                                          \n",
       "  2                                                                           \n",
       "2⎞                                                                            \n",
       " ⎟                                                                            \n",
       "─⎟                                                                            \n",
       " ⎠                                                                            \n",
       "───                                                                           \n",
       "                                                                              \n",
       "──────────────────────────────────────────────────────────────────────────────\n",
       "                                                   2                          \n",
       "\n",
       "                                                                              \n",
       "                                                                              \n",
       "                                                                              \n",
       "                                                                              \n",
       "                                                                              \n",
       "                                                                              \n",
       "                                                                              \n",
       "                                                                              \n",
       "                                                                              \n",
       "                                                                              \n",
       "                                                                              \n",
       "                                                                              \n",
       "                                                                              \n",
       "                                                                              \n",
       "______________________________________________________________________________\n",
       "                                                                              \n",
       "                                                                              \n",
       "                                                                              \n",
       "                                        ⎛   2    ⎞                            \n",
       "                                        ⎜  B     ⎟                            \n",
       "                                      2⋅⎜- ── - D⎟                            \n",
       "                                        ⎝  12    ⎠                            \n",
       "──── + ───────────────────────────────────────────────────────────────────────\n",
       "____              ____________________________________________________________\n",
       "___              ╱                          __________________________________\n",
       "__              ╱                          ╱           3                     2\n",
       "2              ╱                          ╱  ⎛   2    ⎞    ⎛    3          2⎞ \n",
       "              ╱                          ╱   ⎜  B     ⎟    ⎜   B    B⋅D   C ⎟ \n",
       "             ╱       3          2       ╱    ⎜- ── - D⎟    ⎜- ─── + ─── - ──⎟ \n",
       "            ╱       B    B⋅D   C       ╱     ⎝  12    ⎠    ⎝  108    3    8 ⎠ \n",
       "       3⋅3 ╱       ─── - ─── + ── +   ╱      ─────────── + ───────────────────\n",
       "─        ╲╱        216    6    16   ╲╱            27                4         \n",
       "                                                                              \n",
       "                                                                              \n",
       "                                                                              \n",
       "                                                                              \n",
       "                                                                              \n",
       "                                                                              \n",
       "                                                                              \n",
       "                                                                              \n",
       "                                                                              \n",
       "──────────────────────────────────────────────────────────────────────────────\n",
       "                                                                              \n",
       "\n",
       "                                                                              \n",
       "                                                                              \n",
       "                                                                              \n",
       "                                                                              \n",
       "                                                                              \n",
       "                                                                              \n",
       "                                                                              \n",
       "                                                                              \n",
       "                                                                              \n",
       "                                                                              \n",
       "                                                                              \n",
       "                                                                              \n",
       "                                                                              \n",
       "                                                                              \n",
       "______________________________________________________________________________\n",
       "                ______________________________________________________________\n",
       "               ╱                          ___________________________________ \n",
       "              ╱                          ╱           3                     2  \n",
       "             ╱                          ╱  ⎛   2    ⎞    ⎛    3          2⎞   \n",
       "            ╱                          ╱   ⎜  B     ⎟    ⎜   B    B⋅D   C ⎟   \n",
       "           ╱       3          2       ╱    ⎜- ── - D⎟    ⎜- ─── + ─── - ──⎟   \n",
       "          ╱       B    B⋅D   C       ╱     ⎝  12    ⎠    ⎝  108    3    8 ⎠   \n",
       "── - 2⋅3 ╱       ─── - ─── + ── +   ╱      ─────────── + ───────────────────  \n",
       "__     ╲╱        216    6    16   ╲╱            27                4           \n",
       "_                                                                             \n",
       "                                                                              \n",
       "                                                                              \n",
       "                                                                              \n",
       "                                                                              \n",
       "                                                                              \n",
       "                                                                              \n",
       "                                                                              \n",
       "                                                                              \n",
       "                                                                              \n",
       "                                                                              \n",
       "                                                                              \n",
       "                                                                              \n",
       "                                                                              \n",
       "                                                                              \n",
       "                                                                              \n",
       "                                                                              \n",
       "──────────────────────────────────────────────────────────────────────────────\n",
       "                                                                              \n",
       "\n",
       "                 \n",
       "                 \n",
       "                 \n",
       "                 \n",
       "                 \n",
       "                 \n",
       "                 \n",
       "                 \n",
       "                 \n",
       "        2        \n",
       "       B         \n",
       "   for ── + D = 0\n",
       "       12        \n",
       "                 \n",
       "_                \n",
       "                 \n",
       "                 \n",
       "                 \n",
       "                 \n",
       "                 \n",
       "                 \n",
       "                 \n",
       "                 \n",
       "                 \n",
       "                 \n",
       "                 \n",
       "                 \n",
       "                 \n",
       "                 \n",
       "                 \n",
       "                 \n",
       "                 \n",
       "                 \n",
       "                 \n",
       "                 \n",
       "                 \n",
       "                 \n",
       "                 \n",
       "                 \n",
       "                 \n",
       "                 \n",
       "─    otherwise   \n",
       "                 "
      ]
     },
     "execution_count": 34,
     "metadata": {},
     "output_type": "execute_result"
    }
   ],
   "source": [
    "sol[3]"
   ]
  },
  {
   "cell_type": "code",
   "execution_count": 35,
   "metadata": {},
   "outputs": [],
   "source": [
    "roots = {}\n",
    "\n",
    "r_tilde_plus_vals = range(1, 21)\n",
    "\n",
    "for r_tilde_plus_val in r_tilde_plus_vals:\n",
    "    root_vals = []\n",
    "    for i in range(4):\n",
    "        root = sol[i].subs({B: B_coeff_val, C: C_coeff_val, D: D_coeff_val}).subs({r_tilde_plus: r_tilde_plus_val})\n",
    "        root_vals.append(root)\n",
    "    roots[r_tilde_plus_val] = root_vals"
   ]
  },
  {
   "cell_type": "code",
   "execution_count": 36,
   "metadata": {},
   "outputs": [
    {
     "data": {
      "image/png": "[encoded data removed]",
      "text/latex": [
       "$\\displaystyle \\left\\{ 1 : \\left[ -1 - 2 i, \\  -1 + 2 i, \\  1, \\  1\\right], \\  2 : \\left[ -2 - 5 i, \\  -2 + 5 i, \\  2, \\  2\\right], \\  3 : \\left[ -3 - 10 i, \\  -3 + 10 i, \\  3, \\  3\\right], \\  4 : \\left[ -4 - 17 i, \\  -4 + 17 i, \\  4, \\  4\\right], \\  5 : \\left[ -5 - 26 i, \\  -5 + 26 i, \\  5, \\  5\\right], \\  6 : \\left[ -6 - 37 i, \\  -6 + 37 i, \\  6, \\  6\\right], \\  7 : \\left[ -7 - 50 i, \\  -7 + 50 i, \\  7, \\  7\\right], \\  8 : \\left[ -8 - 65 i, \\  -8 + 65 i, \\  8, \\  8\\right], \\  9 : \\left[ -9 - 82 i, \\  -9 + 82 i, \\  9, \\  9\\right], \\  10 : \\left[ -10 - 101 i, \\  -10 + 101 i, \\  10, \\  10\\right], \\  11 : \\left[ -11 - 122 i, \\  -11 + 122 i, \\  11, \\  11\\right], \\  12 : \\left[ -12 - 145 i, \\  -12 + 145 i, \\  12, \\  12\\right], \\  13 : \\left[ -13 - 170 i, \\  -13 + 170 i, \\  13, \\  13\\right], \\  14 : \\left[ -14 - 197 i, \\  -14 + 197 i, \\  14, \\  14\\right], \\  15 : \\left[ -15 - 226 i, \\  -15 + 226 i, \\  15, \\  15\\right], \\  16 : \\left[ -16 - 257 i, \\  -16 + 257 i, \\  16, \\  16\\right], \\  17 : \\left[ -17 - 290 i, \\  -17 + 290 i, \\  17, \\  17\\right], \\  18 : \\left[ -18 - 325 i, \\  -18 + 325 i, \\  18, \\  18\\right], \\  19 : \\left[ -19 - 362 i, \\  -19 + 362 i, \\  19, \\  19\\right], \\  20 : \\left[ -20 - 401 i, \\  -20 + 401 i, \\  20, \\  20\\right]\\right\\}$"
      ],
      "text/plain": [
       "{1: [-1 - 2⋅ⅈ, -1 + 2⋅ⅈ, 1, 1], 2: [-2 - 5⋅ⅈ, -2 + 5⋅ⅈ, 2, 2], 3: [-3 - 10⋅ⅈ, \n",
       "-3 + 10⋅ⅈ, 3, 3], 4: [-4 - 17⋅ⅈ, -4 + 17⋅ⅈ, 4, 4], 5: [-5 - 26⋅ⅈ, -5 + 26⋅ⅈ, 5\n",
       ", 5], 6: [-6 - 37⋅ⅈ, -6 + 37⋅ⅈ, 6, 6], 7: [-7 - 50⋅ⅈ, -7 + 50⋅ⅈ, 7, 7], 8: [-8\n",
       " - 65⋅ⅈ, -8 + 65⋅ⅈ, 8, 8], 9: [-9 - 82⋅ⅈ, -9 + 82⋅ⅈ, 9, 9], 10: [-10 - 101⋅ⅈ, \n",
       "-10 + 101⋅ⅈ, 10, 10], 11: [-11 - 122⋅ⅈ, -11 + 122⋅ⅈ, 11, 11], 12: [-12 - 145⋅ⅈ\n",
       ", -12 + 145⋅ⅈ, 12, 12], 13: [-13 - 170⋅ⅈ, -13 + 170⋅ⅈ, 13, 13], 14: [-14 - 197\n",
       "⋅ⅈ, -14 + 197⋅ⅈ, 14, 14], 15: [-15 - 226⋅ⅈ, -15 + 226⋅ⅈ, 15, 15], 16: [-16 - 2\n",
       "57⋅ⅈ, -16 + 257⋅ⅈ, 16, 16], 17: [-17 - 290⋅ⅈ, -17 + 290⋅ⅈ, 17, 17], 18: [-18 -\n",
       " 325⋅ⅈ, -18 + 325⋅ⅈ, 18, 18], 19: [-19 - 362⋅ⅈ, -19 + 362⋅ⅈ, 19, 19], 20: [-20\n",
       " - 401⋅ⅈ, -20 + 401⋅ⅈ, 20, 20]}"
      ]
     },
     "execution_count": 36,
     "metadata": {},
     "output_type": "execute_result"
    }
   ],
   "source": [
    "roots"
   ]
  },
  {
   "cell_type": "code",
   "execution_count": 37,
   "metadata": {},
   "outputs": [
    {
     "data": {
      "image/png": "[encoded data removed]",
      "text/latex": [
       "$\\displaystyle \\left[ 2, \\  5, \\  10, \\  17, \\  26, \\  37, \\  50, \\  65, \\  82, \\  101, \\  122, \\  145, \\  170, \\  197, \\  226, \\  257, \\  290, \\  325, \\  362, \\  401\\right]$"
      ],
      "text/plain": [
       "[2, 5, 10, 17, 26, 37, 50, 65, 82, 101, 122, 145, 170, 197, 226, 257, 290, 325\n",
       ", 362, 401]"
      ]
     },
     "execution_count": 37,
     "metadata": {},
     "output_type": "execute_result"
    }
   ],
   "source": [
    "root_imag_part = [int(r[1].coeff(sympy.I)) for r in roots.values()]\n",
    "root_imag_part"
   ]
  },
  {
   "cell_type": "code",
   "execution_count": 38,
   "metadata": {},
   "outputs": [],
   "source": [
    "import matplotlib.pyplot as plt"
   ]
  },
  {
   "cell_type": "code",
   "execution_count": 39,
   "metadata": {},
   "outputs": [
    {
     "data": {
      "image/png": "[encoded data removed]",
      "text/plain": [
       "<Figure size 640x480 with 1 Axes>"
      ]
     },
     "metadata": {},
     "output_type": "display_data"
    }
   ],
   "source": [
    "plt.plot(r_tilde_plus_vals, root_imag_part, 'x-');"
   ]
  },
  {
   "cell_type": "code",
   "execution_count": 40,
   "metadata": {},
   "outputs": [],
   "source": [
    "import numpy as np"
   ]
  },
  {
   "cell_type": "code",
   "execution_count": 41,
   "metadata": {},
   "outputs": [
    {
     "data": {
      "text/plain": [
       "array([1.00000000e+00, 1.43325764e-14, 1.00000000e+00])"
      ]
     },
     "execution_count": 41,
     "metadata": {},
     "output_type": "execute_result"
    }
   ],
   "source": [
    "np.polyfit(np.array(r_tilde_plus_vals), np.array(root_imag_part), deg=2)"
   ]
  },
  {
   "cell_type": "code",
   "execution_count": 42,
   "metadata": {},
   "outputs": [
    {
     "data": {
      "image/png": "[encoded data removed]",
      "text/latex": [
       "$\\displaystyle \\left[ 2, \\  5, \\  10, \\  17, \\  26, \\  37, \\  50, \\  65, \\  82, \\  101, \\  122, \\  145, \\  170, \\  197, \\  226, \\  257, \\  290, \\  325, \\  362, \\  401\\right]$"
      ],
      "text/plain": [
       "[2, 5, 10, 17, 26, 37, 50, 65, 82, 101, 122, 145, 170, 197, 226, 257, 290, 325\n",
       ", 362, 401]"
      ]
     },
     "execution_count": 42,
     "metadata": {},
     "output_type": "execute_result"
    }
   ],
   "source": [
    "[r ** 2 + 1 for r in r_tilde_plus_vals]"
   ]
  },
  {
   "attachments": {},
   "cell_type": "markdown",
   "metadata": {},
   "source": [
    "The roots are given by:"
   ]
  },
  {
   "cell_type": "code",
   "execution_count": 43,
   "metadata": {},
   "outputs": [
    {
     "data": {
      "image/png": "[encoded data removed]",
      "text/latex": [
       "$\\displaystyle \\left( - \\tilde{r}_+ - i \\left(\\tilde{r}_+^{2} + 1\\right), \\  - \\tilde{r}_+ + i \\left(\\tilde{r}_+^{2} + 1\\right), \\  \\tilde{r}_+\\right)$"
      ],
      "text/plain": [
       "⎛                ⎛          2    ⎞                  ⎛          2    ⎞         \n",
       "⎝-\\tilde{r}₊ - ⅈ⋅⎝\\tilde{r}₊  + 1⎠, -\\tilde{r}₊ + ⅈ⋅⎝\\tilde{r}₊  + 1⎠, \\tilde{\n",
       "\n",
       "   ⎞\n",
       "r}₊⎠"
      ]
     },
     "execution_count": 43,
     "metadata": {},
     "output_type": "execute_result"
    }
   ],
   "source": [
    "root_1 = -r_tilde_plus - (r_tilde_plus ** 2 + 1) * sympy.I\n",
    "root_2 = -r_tilde_plus + (r_tilde_plus ** 2 + 1) * sympy.I\n",
    "root_3 = r_tilde_plus\n",
    "root_1, root_2, root_3"
   ]
  },
  {
   "cell_type": "code",
   "execution_count": 44,
   "metadata": {},
   "outputs": [
    {
     "data": {
      "image/png": "[encoded data removed]",
      "text/latex": [
       "$\\displaystyle 0$"
      ],
      "text/plain": [
       "0"
      ]
     },
     "execution_count": 44,
     "metadata": {},
     "output_type": "execute_result"
    }
   ],
   "source": [
    "det_g_r_simp.subs({r_tilde: root_1}).simplify()"
   ]
  },
  {
   "cell_type": "code",
   "execution_count": 45,
   "metadata": {},
   "outputs": [
    {
     "data": {
      "image/png": "[encoded data removed]",
      "text/latex": [
       "$\\displaystyle 0$"
      ],
      "text/plain": [
       "0"
      ]
     },
     "execution_count": 45,
     "metadata": {},
     "output_type": "execute_result"
    }
   ],
   "source": [
    "det_g_r_simp.subs({r_tilde: root_2}).simplify()"
   ]
  },
  {
   "cell_type": "code",
   "execution_count": 46,
   "metadata": {},
   "outputs": [
    {
     "data": {
      "image/png": "[encoded data removed]",
      "text/latex": [
       "$\\displaystyle 0$"
      ],
      "text/plain": [
       "0"
      ]
     },
     "execution_count": 46,
     "metadata": {},
     "output_type": "execute_result"
    }
   ],
   "source": [
    "det_g_r_simp.subs({r_tilde: root_3}).simplify()"
   ]
  },
  {
   "cell_type": "code",
   "execution_count": 92,
   "metadata": {},
   "outputs": [],
   "source": [
    "r_tilde_plus_val = 5"
   ]
  },
  {
   "cell_type": "code",
   "execution_count": 95,
   "metadata": {},
   "outputs": [],
   "source": [
    "r_tilde_vals = range(0, 21)\n",
    "g_r_vals = []\n",
    "\n",
    "for r_tilde_val in r_tilde_vals:\n",
    "    g_r_vals.append(det_g_r_simp.subs({r_tilde_plus: r_tilde_plus_val, r_tilde: r_tilde_val}))"
   ]
  },
  {
   "cell_type": "code",
   "execution_count": 97,
   "metadata": {},
   "outputs": [
    {
     "data": {
      "image/png": "[encoded data removed]",
      "text/plain": [
       "<Figure size 640x480 with 1 Axes>"
      ]
     },
     "metadata": {},
     "output_type": "display_data"
    }
   ],
   "source": [
    "plt.plot([r_tilde_vals[0] - 5, r_tilde_vals[-1] + 5], [0, 0], '--', c='0.8')\n",
    "plt.plot(r_tilde_vals, g_r_vals, 'b-')\n",
    "plt.xlim([r_tilde_vals[0], r_tilde_vals[-1]])\n",
    "plt.grid()\n",
    "plt.savefig('figures/real_det_g_ads4_bh.png', bbox_inches='tight', dpi=300);"
   ]
  },
  {
   "attachments": {},
   "cell_type": "markdown",
   "metadata": {},
   "source": [
    "Conduct a sweep."
   ]
  },
  {
   "cell_type": "code",
   "execution_count": 77,
   "metadata": {},
   "outputs": [],
   "source": [
    "r_tilde_plus_vals = range(0, 101)\n",
    "\n",
    "num_evals = 0\n",
    "\n",
    "for r_tilde_plus_val in r_tilde_plus_vals:\n",
    "    r_tilde_vals = range(r_tilde_plus_val * -20, r_tilde_plus_val * 20)\n",
    "    for r_tilde_val in r_tilde_vals:\n",
    "        x = det_g_r_simp.subs({r_tilde_plus: r_tilde_plus_val, r_tilde: r_tilde_val})\n",
    "        num_evals = num_evals + 1\n",
    "        if x < 0:\n",
    "            print(r_tilde_plus_val, r_tilde_val)\n"
   ]
  },
  {
   "cell_type": "code",
   "execution_count": 78,
   "metadata": {},
   "outputs": [
    {
     "data": {
      "image/png": "[encoded data removed]",
      "text/latex": [
       "$\\displaystyle 202000$"
      ],
      "text/plain": [
       "202000"
      ]
     },
     "execution_count": 78,
     "metadata": {},
     "output_type": "execute_result"
    }
   ],
   "source": [
    "num_evals"
   ]
  },
  {
   "attachments": {},
   "cell_type": "markdown",
   "metadata": {},
   "source": [
    "Assume $\\tilde{r}$ is complex."
   ]
  },
  {
   "cell_type": "code",
   "execution_count": 82,
   "metadata": {},
   "outputs": [],
   "source": [
    "r_tilde_plus_val = 5"
   ]
  },
  {
   "cell_type": "code",
   "execution_count": 83,
   "metadata": {},
   "outputs": [],
   "source": [
    "r_tilde_real_vals = range(-40, 41)\n",
    "r_tilde_im_vals = range(-40, 41)\n",
    "\n",
    "X, Y = np.meshgrid(r_tilde_real_vals, r_tilde_im_vals)\n",
    "\n",
    "g_r_real_vals = np.zeros(X.shape)\n",
    "g_r_im_vals = np.zeros(X.shape)\n",
    "\n",
    "for i in range(X.shape[0]):\n",
    "    for j in range(X.shape[1]):\n",
    "        r_tilde_val = X[i, j] + sympy.I * Y[i, j]\n",
    "        g_r_val = det_g_r_simp.subs({r_tilde_plus: r_tilde_plus_val, r_tilde: r_tilde_val}).expand()\n",
    "        g_r_im_vals[i, j] = g_r_val.coeff(sympy.I)\n",
    "        g_r_real_vals[i, j] = g_r_val - g_r_im_vals[i, j] * sympy.I"
   ]
  },
  {
   "cell_type": "code",
   "execution_count": 84,
   "metadata": {},
   "outputs": [
    {
     "data": {
      "text/plain": [
       "(array([14, 40, 66]), array([35, 45, 35]))"
      ]
     },
     "execution_count": 84,
     "metadata": {},
     "output_type": "execute_result"
    }
   ],
   "source": [
    "np.where(np.logical_and(g_r_real_vals == 0, g_r_im_vals == 0))"
   ]
  },
  {
   "cell_type": "code",
   "execution_count": 85,
   "metadata": {},
   "outputs": [
    {
     "data": {
      "image/png": "[encoded data removed]",
      "text/latex": [
       "$\\displaystyle \\left( -5, \\  -26\\right)$"
      ],
      "text/plain": [
       "(-5, -26)"
      ]
     },
     "execution_count": 85,
     "metadata": {},
     "output_type": "execute_result"
    }
   ],
   "source": [
    "r_tilde_real_vals[35], r_tilde_im_vals[14]"
   ]
  },
  {
   "cell_type": "code",
   "execution_count": 86,
   "metadata": {},
   "outputs": [
    {
     "data": {
      "image/png": "[encoded data removed]",
      "text/latex": [
       "$\\displaystyle \\left( 5, \\  0\\right)$"
      ],
      "text/plain": [
       "(5, 0)"
      ]
     },
     "execution_count": 86,
     "metadata": {},
     "output_type": "execute_result"
    }
   ],
   "source": [
    "r_tilde_real_vals[45], r_tilde_im_vals[40]"
   ]
  },
  {
   "cell_type": "code",
   "execution_count": 87,
   "metadata": {},
   "outputs": [
    {
     "data": {
      "image/png": "[encoded data removed]",
      "text/latex": [
       "$\\displaystyle \\left( -5, \\  26\\right)$"
      ],
      "text/plain": [
       "(-5, 26)"
      ]
     },
     "execution_count": 87,
     "metadata": {},
     "output_type": "execute_result"
    }
   ],
   "source": [
    "r_tilde_real_vals[35], r_tilde_im_vals[66]"
   ]
  },
  {
   "cell_type": "code",
   "execution_count": 89,
   "metadata": {},
   "outputs": [
    {
     "data": {
      "text/plain": [
       "(array([], dtype=int64), array([], dtype=int64))"
      ]
     },
     "execution_count": 89,
     "metadata": {},
     "output_type": "execute_result"
    }
   ],
   "source": [
    "np.where(np.logical_and(g_r_real_vals < 0, g_r_im_vals == 0))"
   ]
  },
  {
   "cell_type": "code",
   "execution_count": 90,
   "metadata": {},
   "outputs": [],
   "source": [
    "clev = np.arange(g_r_real_vals.min() / 1e7, g_r_real_vals.max() / 1e7, 0.001)"
   ]
  },
  {
   "cell_type": "code",
   "execution_count": 91,
   "metadata": {},
   "outputs": [
    {
     "data": {
      "image/png": "[encoded data removed]",
      "text/plain": [
       "<Figure size 640x480 with 2 Axes>"
      ]
     },
     "metadata": {},
     "output_type": "display_data"
    }
   ],
   "source": [
    "import matplotlib.colors as colors\n",
    "\n",
    "plt.contourf(X, Y, g_r_real_vals / 1e7, norm=colors.CenteredNorm(), cmap='bwr')\n",
    "plt.plot([-5, -5, 5], [-26, 26, 0], 'kx')\n",
    "plt.xlabel(\"Real r tilde\")\n",
    "plt.ylabel(\"Imag r tilde\")\n",
    "plt.title(\"Real det g\")\n",
    "plt.colorbar();"
   ]
  },
  {
   "cell_type": "code",
   "execution_count": 102,
   "metadata": {},
   "outputs": [
    {
     "data": {
      "image/png": "[encoded data removed]",
      "text/plain": [
       "<Figure size 640x480 with 2 Axes>"
      ]
     },
     "metadata": {},
     "output_type": "display_data"
    }
   ],
   "source": [
    "plt.contourf(X, Y, g_r_im_vals, cmap='bwr')\n",
    "plt.plot([-5, -5, 5], [-26, 26, 0], 'kx')\n",
    "plt.xlabel(\"Real r tilde\")\n",
    "plt.ylabel(\"Imag r tilde\")\n",
    "plt.title(\"Real im g\")\n",
    "plt.colorbar();"
   ]
  }
 ],
 "metadata": {
  "kernelspec": {
   "display_name": "env",
   "language": "python",
   "name": "python3"
  },
  "language_info": {
   "codemirror_mode": {
    "name": "ipython",
    "version": 3
   },
   "file_extension": ".py",
   "mimetype": "text/x-python",
   "name": "python",
   "nbconvert_exporter": "python",
   "pygments_lexer": "ipython3",
   "version": "3.10.3"
  },
  "orig_nbformat": 4
 },
 "nbformat": 4,
 "nbformat_minor": 2
}
