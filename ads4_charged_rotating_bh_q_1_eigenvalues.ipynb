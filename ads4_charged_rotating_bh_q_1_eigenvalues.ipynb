{
 "cells": [
  {
   "cell_type": "code",
   "execution_count": 1,
   "metadata": {},
   "outputs": [],
   "source": [
    "import matplotlib.pyplot as plt\n",
    "import numpy as np\n",
    "import sympy\n",
    "\n",
    "sympy.init_printing()"
   ]
  },
  {
   "cell_type": "code",
   "execution_count": 2,
   "metadata": {},
   "outputs": [],
   "source": [
    "t, r, theta, phi, phi_tilde = sympy.symbols(\"t r theta phi \\\\tilde{\\phi}\")"
   ]
  },
  {
   "cell_type": "code",
   "execution_count": 3,
   "metadata": {},
   "outputs": [],
   "source": [
    "r_tilde, delta_r, delta_theta, W, xi = sympy.symbols(\"\\\\tilde{r} Delta_r Delta_theta W Xi\")"
   ]
  },
  {
   "cell_type": "code",
   "execution_count": 9,
   "metadata": {},
   "outputs": [],
   "source": [
    "dt, dr, dtheta, dphi, dphi_tilde, dr_tilde = sympy.symbols(r\"dt dr d\\theta d\\phi d\\tilde{\\phi} d\\tilde{r}\")"
   ]
  },
  {
   "cell_type": "code",
   "execution_count": 5,
   "metadata": {},
   "outputs": [],
   "source": [
    "a, r_tilde_plus, delta = sympy.symbols(\"a \\\\tilde{r}_+ \\delta\")"
   ]
  },
  {
   "cell_type": "code",
   "execution_count": 6,
   "metadata": {},
   "outputs": [],
   "source": [
    "tau, dtau = sympy.symbols(\"tau d\\\\tau\")"
   ]
  },
  {
   "cell_type": "code",
   "execution_count": 12,
   "metadata": {},
   "outputs": [
    {
     "data": {
      "image/png": "[encoded data removed]",
      "text/latex": [
       "$\\displaystyle - \\frac{\\Delta_{r} \\left(dt - \\frac{a d\\phi \\sin^{2}{\\left(\\theta \\right)}}{\\Xi}\\right)^{2}}{W} + \\frac{\\Delta_{\\theta} \\left(a dt - \\frac{d\\phi \\left(\\tilde{r}^{2} + a^{2}\\right)}{\\Xi}\\right)^{2} \\sin^{2}{\\left(\\theta \\right)}}{W} + \\frac{W d\\tilde{r}^{2}}{\\Delta_{r}}$"
      ],
      "text/plain": [
       "                           2                                          2       \n",
       "     ⎛                2   ⎞           ⎛             ⎛         2    2⎞⎞        \n",
       "     ⎜     a⋅d\\phi⋅sin (θ)⎟           ⎜       d\\phi⋅⎝\\tilde{r}  + a ⎠⎟     2  \n",
       "  Δᵣ⋅⎜dt - ───────────────⎟    Δₜₕₑₜₐ⋅⎜a⋅dt - ───────────────────────⎟ ⋅sin (θ\n",
       "     ⎝            Ξ       ⎠           ⎝                  Ξ           ⎠        \n",
       "- ────────────────────────── + ───────────────────────────────────────────────\n",
       "              W                                       W                       \n",
       "\n",
       "                 \n",
       "                 \n",
       "                 \n",
       ")               2\n",
       "    W⋅d\\tilde{r} \n",
       "─ + ─────────────\n",
       "          Δᵣ     "
      ]
     },
     "execution_count": 12,
     "metadata": {},
     "output_type": "execute_result"
    }
   ],
   "source": [
    "metric_orig = -delta_r / W * (dt - a * sympy.sin(theta) ** 2 * dphi / xi) ** 2\n",
    "metric_orig += delta_theta * sympy.sin(theta) ** 2 / W * (a * dt - (r_tilde ** 2 + a ** 2) * dphi / xi) ** 2\n",
    "metric_orig += W * dr_tilde ** 2 / delta_r\n",
    "metric_orig"
   ]
  },
  {
   "cell_type": "code",
   "execution_count": 13,
   "metadata": {},
   "outputs": [],
   "source": [
    "dt_val = sympy.I * dtau"
   ]
  },
  {
   "cell_type": "code",
   "execution_count": 14,
   "metadata": {},
   "outputs": [
    {
     "data": {
      "image/png": "[encoded data removed]",
      "text/latex": [
       "$\\displaystyle d\\phi^{2} \\left(- \\frac{\\Delta_{r} a^{2} \\sin^{4}{\\left(\\theta \\right)}}{W \\Xi^{2}} + \\frac{\\Delta_{\\theta} \\tilde{r}^{4} \\sin^{2}{\\left(\\theta \\right)}}{W \\Xi^{2}} + \\frac{2 \\Delta_{\\theta} \\tilde{r}^{2} a^{2} \\sin^{2}{\\left(\\theta \\right)}}{W \\Xi^{2}} + \\frac{\\Delta_{\\theta} a^{4} \\sin^{2}{\\left(\\theta \\right)}}{W \\Xi^{2}}\\right) + d\\phi d\\tau \\left(\\frac{2 i \\Delta_{r} a \\sin^{2}{\\left(\\theta \\right)}}{W \\Xi} - \\frac{2 i \\Delta_{\\theta} \\tilde{r}^{2} a \\sin^{2}{\\left(\\theta \\right)}}{W \\Xi} - \\frac{2 i \\Delta_{\\theta} a^{3} \\sin^{2}{\\left(\\theta \\right)}}{W \\Xi}\\right) + d\\tau^{2} \\left(\\frac{\\Delta_{r}}{W} - \\frac{\\Delta_{\\theta} a^{2} \\sin^{2}{\\left(\\theta \\right)}}{W}\\right) + \\frac{W d\\tilde{r}^{2}}{\\Delta_{r}}$"
      ],
      "text/plain": [
       "       ⎛      2    4                      4    2                        2  2  \n",
       "     2 ⎜  Δᵣ⋅a ⋅sin (θ)   Δₜₕₑₜₐ⋅\\tilde{r} ⋅sin (θ)   2⋅Δₜₕₑₜₐ⋅\\tilde{r} ⋅a ⋅s\n",
       "d\\phi ⋅⎜- ───────────── + ───────────────────────── + ────────────────────────\n",
       "       ⎜          2                     2                             2       \n",
       "       ⎝       W⋅Ξ                   W⋅Ξ                           W⋅Ξ        \n",
       "\n",
       "  2              4    2   ⎞               ⎛            2                      \n",
       "in (θ)   Δₜₕₑₜₐ⋅a ⋅sin (θ)⎟               ⎜2⋅ⅈ⋅Δᵣ⋅a⋅sin (θ)   2⋅ⅈ⋅Δₜₕₑₜₐ⋅\\tild\n",
       "────── + ─────────────────⎟ + d\\phi⋅d\\tau⋅⎜──────────────── - ────────────────\n",
       "                   2      ⎟               ⎝      W⋅Ξ                        W⋅\n",
       "                W⋅Ξ       ⎠                                                   \n",
       "\n",
       "    2      2                  3    2   ⎞          ⎛             2    2   ⎞    \n",
       "e{r} ⋅a⋅sin (θ)   2⋅ⅈ⋅Δₜₕₑₜₐ⋅a ⋅sin (θ)⎟        2 ⎜Δᵣ   Δₜₕₑₜₐ⋅a ⋅sin (θ)⎟   W\n",
       "─────────────── - ─────────────────────⎟ + d\\tau ⋅⎜── - ─────────────────⎟ + ─\n",
       "Ξ                          W⋅Ξ         ⎠          ⎝W            W        ⎠    \n",
       "                                                                              \n",
       "\n",
       "           2\n",
       "⋅d\\tilde{r} \n",
       "────────────\n",
       "     Δᵣ     \n",
       "            "
      ]
     },
     "execution_count": 14,
     "metadata": {},
     "output_type": "execute_result"
    }
   ],
   "source": [
    "euclidean_metric = metric_orig.subs({dt: dt_val}).expand().collect([dtau ** 2, dtau * dphi, dphi ** 2])\n",
    "euclidean_metric"
   ]
  },
  {
   "cell_type": "code",
   "execution_count": 15,
   "metadata": {},
   "outputs": [
    {
     "data": {
      "image/png": "[encoded data removed]",
      "text/latex": [
       "$\\displaystyle i \\Omega d\\tau + d\\tilde{\\phi}$"
      ],
      "text/plain": [
       "ⅈ⋅Ω⋅d\\tau + d\\tilde{\\phi}"
      ]
     },
     "execution_count": 15,
     "metadata": {},
     "output_type": "execute_result"
    }
   ],
   "source": [
    "omega = sympy.symbols(\"Omega\")\n",
    "dphi_val = dphi_tilde + omega * dt_val\n",
    "dphi_val"
   ]
  },
  {
   "cell_type": "code",
   "execution_count": 16,
   "metadata": {},
   "outputs": [
    {
     "data": {
      "image/png": "[encoded data removed]",
      "text/latex": [
       "$\\displaystyle d\\tau^{2} \\left(\\frac{\\Delta_{r} \\Omega^{2} a^{2} \\sin^{4}{\\left(\\theta \\right)}}{W \\Xi^{2}} - \\frac{2 \\Delta_{r} \\Omega a \\sin^{2}{\\left(\\theta \\right)}}{W \\Xi} + \\frac{\\Delta_{r}}{W} - \\frac{\\Delta_{\\theta} \\Omega^{2} \\tilde{r}^{4} \\sin^{2}{\\left(\\theta \\right)}}{W \\Xi^{2}} - \\frac{2 \\Delta_{\\theta} \\Omega^{2} \\tilde{r}^{2} a^{2} \\sin^{2}{\\left(\\theta \\right)}}{W \\Xi^{2}} - \\frac{\\Delta_{\\theta} \\Omega^{2} a^{4} \\sin^{2}{\\left(\\theta \\right)}}{W \\Xi^{2}} + \\frac{2 \\Delta_{\\theta} \\Omega \\tilde{r}^{2} a \\sin^{2}{\\left(\\theta \\right)}}{W \\Xi} + \\frac{2 \\Delta_{\\theta} \\Omega a^{3} \\sin^{2}{\\left(\\theta \\right)}}{W \\Xi} - \\frac{\\Delta_{\\theta} a^{2} \\sin^{2}{\\left(\\theta \\right)}}{W}\\right) + d\\tau d\\tilde{\\phi} \\left(- \\frac{2 i \\Delta_{r} \\Omega a^{2} \\sin^{4}{\\left(\\theta \\right)}}{W \\Xi^{2}} + \\frac{2 i \\Delta_{r} a \\sin^{2}{\\left(\\theta \\right)}}{W \\Xi} + \\frac{2 i \\Delta_{\\theta} \\Omega \\tilde{r}^{4} \\sin^{2}{\\left(\\theta \\right)}}{W \\Xi^{2}} + \\frac{4 i \\Delta_{\\theta} \\Omega \\tilde{r}^{2} a^{2} \\sin^{2}{\\left(\\theta \\right)}}{W \\Xi^{2}} + \\frac{2 i \\Delta_{\\theta} \\Omega a^{4} \\sin^{2}{\\left(\\theta \\right)}}{W \\Xi^{2}} - \\frac{2 i \\Delta_{\\theta} \\tilde{r}^{2} a \\sin^{2}{\\left(\\theta \\right)}}{W \\Xi} - \\frac{2 i \\Delta_{\\theta} a^{3} \\sin^{2}{\\left(\\theta \\right)}}{W \\Xi}\\right) + d\\tilde{\\phi}^{2} \\left(- \\frac{\\Delta_{r} a^{2} \\sin^{4}{\\left(\\theta \\right)}}{W \\Xi^{2}} + \\frac{\\Delta_{\\theta} \\tilde{r}^{4} \\sin^{2}{\\left(\\theta \\right)}}{W \\Xi^{2}} + \\frac{2 \\Delta_{\\theta} \\tilde{r}^{2} a^{2} \\sin^{2}{\\left(\\theta \\right)}}{W \\Xi^{2}} + \\frac{\\Delta_{\\theta} a^{4} \\sin^{2}{\\left(\\theta \\right)}}{W \\Xi^{2}}\\right) + \\frac{W d\\tilde{r}^{2}}{\\Delta_{r}}$"
      ],
      "text/plain": [
       "       ⎛    2  2    4                  2                   2          4    2  \n",
       "     2 ⎜Δᵣ⋅Ω ⋅a ⋅sin (θ)   2⋅Δᵣ⋅Ω⋅a⋅sin (θ)   Δᵣ   Δₜₕₑₜₐ⋅Ω ⋅\\tilde{r} ⋅sin (θ\n",
       "d\\tau ⋅⎜──────────────── - ──────────────── + ── - ───────────────────────────\n",
       "       ⎜         2               W⋅Ξ          W                   2           \n",
       "       ⎝      W⋅Ξ                                              W⋅Ξ            \n",
       "\n",
       "              2          2  2    2              2  4    2                     \n",
       ")   2⋅Δₜₕₑₜₐ⋅Ω ⋅\\tilde{r} ⋅a ⋅sin (θ)   Δₜₕₑₜₐ⋅Ω ⋅a ⋅sin (θ)   2⋅Δₜₕₑₜₐ⋅Ω⋅\\til\n",
       "─ - ───────────────────────────────── - ──────────────────── + ───────────────\n",
       "                      2                            2                         W\n",
       "                   W⋅Ξ                          W⋅Ξ                           \n",
       "\n",
       "     2      2                  3    2              2    2   ⎞                 \n",
       "de{r} ⋅a⋅sin (θ)   2⋅Δₜₕₑₜₐ⋅Ω⋅a ⋅sin (θ)   Δₜₕₑₜₐ⋅a ⋅sin (θ)⎟                 \n",
       "──────────────── + ───────────────────── - ─────────────────⎟ + d\\tau⋅d\\tilde{\n",
       "⋅Ξ                          W⋅Ξ                    W        ⎟                 \n",
       "                                                            ⎠                 \n",
       "\n",
       "      ⎛            2    4                  2                            4    2\n",
       "      ⎜  2⋅ⅈ⋅Δᵣ⋅Ω⋅a ⋅sin (θ)   2⋅ⅈ⋅Δᵣ⋅a⋅sin (θ)   2⋅ⅈ⋅Δₜₕₑₜₐ⋅Ω⋅\\tilde{r} ⋅sin \n",
       "\\phi}⋅⎜- ─────────────────── + ──────────────── + ────────────────────────────\n",
       "      ⎜             2                W⋅Ξ                           2          \n",
       "      ⎝          W⋅Ξ                                            W⋅Ξ           \n",
       "\n",
       "                            2  2    2                    4    2               \n",
       "(θ)   4⋅ⅈ⋅Δₜₕₑₜₐ⋅Ω⋅\\tilde{r} ⋅a ⋅sin (θ)   2⋅ⅈ⋅Δₜₕₑₜₐ⋅Ω⋅a ⋅sin (θ)   2⋅ⅈ⋅Δₜₕₑₜ\n",
       "─── + ────────────────────────────────── + ─────────────────────── - ─────────\n",
       "                        2                               2                     \n",
       "                     W⋅Ξ                             W⋅Ξ                      \n",
       "\n",
       "           2      2                  3    2   ⎞                  ⎛      2    4\n",
       "ₐ⋅\\tilde{r} ⋅a⋅sin (θ)   2⋅ⅈ⋅Δₜₕₑₜₐ⋅a ⋅sin (θ)⎟                2 ⎜  Δᵣ⋅a ⋅sin \n",
       "────────────────────── - ─────────────────────⎟ + d\\tilde{\\phi} ⋅⎜- ──────────\n",
       "     W⋅Ξ                          W⋅Ξ         ⎟                  ⎜          2 \n",
       "                                              ⎠                  ⎝       W⋅Ξ  \n",
       "\n",
       "                      4    2                        2  2    2              4  \n",
       "(θ)   Δₜₕₑₜₐ⋅\\tilde{r} ⋅sin (θ)   2⋅Δₜₕₑₜₐ⋅\\tilde{r} ⋅a ⋅sin (θ)   Δₜₕₑₜₐ⋅a ⋅s\n",
       "─── + ───────────────────────── + ────────────────────────────── + ───────────\n",
       "                    2                             2                          2\n",
       "                 W⋅Ξ                           W⋅Ξ                        W⋅Ξ \n",
       "\n",
       "  2   ⎞               2\n",
       "in (θ)⎟   W⋅d\\tilde{r} \n",
       "──────⎟ + ─────────────\n",
       "      ⎟         Δᵣ     \n",
       "      ⎠                "
      ]
     },
     "execution_count": 16,
     "metadata": {},
     "output_type": "execute_result"
    }
   ],
   "source": [
    "euclidean_metric_2 = euclidean_metric.subs({dphi: dphi_val}).expand().collect([dtau ** 2, dtau * dphi_tilde, dphi_tilde ** 2])\n",
    "euclidean_metric_2"
   ]
  },
  {
   "cell_type": "code",
   "execution_count": 17,
   "metadata": {},
   "outputs": [],
   "source": [
    "metric_list_matrix = [[0 for i in range(3)] for i in range(3)]\n",
    "\n",
    "# tau\n",
    "metric_list_matrix[0][0] = euclidean_metric_2.coeff(dtau ** 2)\n",
    "metric_list_matrix[0][1] = euclidean_metric_2.coeff(dtau * dr_tilde) / 2\n",
    "metric_list_matrix[0][2] = euclidean_metric_2.coeff(dtau * dphi_tilde) / 2\n",
    "\n",
    "# r_tilde\n",
    "metric_list_matrix[1][0] = euclidean_metric_2.coeff(dr_tilde * dtau) / 2\n",
    "metric_list_matrix[1][1] = euclidean_metric_2.coeff(dr_tilde ** 2)\n",
    "metric_list_matrix[1][2] = euclidean_metric_2.coeff(dr_tilde * dphi_tilde) / 2\n",
    "\n",
    "# phi_tilde\n",
    "metric_list_matrix[2][0] = euclidean_metric_2.coeff(dphi_tilde * dtau) / 2\n",
    "metric_list_matrix[2][1] = euclidean_metric_2.coeff(dphi_tilde * dr_tilde) / 2\n",
    "metric_list_matrix[2][2] = euclidean_metric_2.coeff(dphi_tilde ** 2)"
   ]
  },
  {
   "cell_type": "code",
   "execution_count": 18,
   "metadata": {},
   "outputs": [
    {
     "data": {
      "text/latex": [
       "$\\displaystyle \\left[\\begin{matrix}\\frac{\\Omega^{2} \\left(\\Delta_{r} a^{2} \\sin^{2}{\\left(\\theta \\right)} - \\Delta_{\\theta} \\tilde{r}^{4} - 2 \\Delta_{\\theta} \\tilde{r}^{2} a^{2} - \\Delta_{\\theta} a^{4}\\right) \\sin^{2}{\\left(\\theta \\right)} + 2 \\Omega \\Xi a \\left(- \\Delta_{r} + \\Delta_{\\theta} \\tilde{r}^{2} + \\Delta_{\\theta} a^{2}\\right) \\sin^{2}{\\left(\\theta \\right)} + \\Xi^{2} \\left(\\Delta_{r} - \\Delta_{\\theta} a^{2} \\sin^{2}{\\left(\\theta \\right)}\\right)}{W \\Xi^{2}} & 0 & \\frac{i \\left(\\Omega \\left(- \\Delta_{r} a^{2} \\sin^{2}{\\left(\\theta \\right)} + \\Delta_{\\theta} \\tilde{r}^{4} + 2 \\Delta_{\\theta} \\tilde{r}^{2} a^{2} + \\Delta_{\\theta} a^{4}\\right) + \\Xi a \\left(\\Delta_{r} - \\Delta_{\\theta} \\tilde{r}^{2} - \\Delta_{\\theta} a^{2}\\right)\\right) \\sin^{2}{\\left(\\theta \\right)}}{W \\Xi^{2}}\\\\0 & \\frac{W}{\\Delta_{r}} & 0\\\\\\frac{i \\left(\\Omega \\left(- \\Delta_{r} a^{2} \\sin^{2}{\\left(\\theta \\right)} + \\Delta_{\\theta} \\tilde{r}^{4} + 2 \\Delta_{\\theta} \\tilde{r}^{2} a^{2} + \\Delta_{\\theta} a^{4}\\right) + \\Xi a \\left(\\Delta_{r} - \\Delta_{\\theta} \\tilde{r}^{2} - \\Delta_{\\theta} a^{2}\\right)\\right) \\sin^{2}{\\left(\\theta \\right)}}{W \\Xi^{2}} & 0 & \\frac{\\left(- \\Delta_{r} a^{2} \\sin^{2}{\\left(\\theta \\right)} + \\Delta_{\\theta} \\tilde{r}^{4} + 2 \\Delta_{\\theta} \\tilde{r}^{2} a^{2} + \\Delta_{\\theta} a^{4}\\right) \\sin^{2}{\\left(\\theta \\right)}}{W \\Xi^{2}}\\end{matrix}\\right]$"
      ],
      "text/plain": [
       "⎡ 2 ⎛    2    2                      4                     2  2           4⎞  \n",
       "⎢Ω ⋅⎝Δᵣ⋅a ⋅sin (θ) - Δₜₕₑₜₐ⋅\\tilde{r}  - 2⋅Δₜₕₑₜₐ⋅\\tilde{r} ⋅a  - Δₜₕₑₜₐ⋅a ⎠⋅s\n",
       "⎢─────────────────────────────────────────────────────────────────────────────\n",
       "⎢                                                                             \n",
       "⎢                                                                             \n",
       "⎢                                                                             \n",
       "⎢                                                                             \n",
       "⎢                                                                             \n",
       "⎢                                                                             \n",
       "⎢                                                                             \n",
       "⎢                     ⎛  ⎛      2    2                      4                 \n",
       "⎢                   ⅈ⋅⎝Ω⋅⎝- Δᵣ⋅a ⋅sin (θ) + Δₜₕₑₜₐ⋅\\tilde{r}  + 2⋅Δₜₕₑₜₐ⋅\\tild\n",
       "⎢                   ──────────────────────────────────────────────────────────\n",
       "⎢                                                                             \n",
       "⎣                                                                             \n",
       "\n",
       "  2              ⎛                      2           2⎞    2       2 ⎛         \n",
       "in (θ) + 2⋅Ω⋅Ξ⋅a⋅⎝-Δᵣ + Δₜₕₑₜₐ⋅\\tilde{r}  + Δₜₕₑₜₐ⋅a ⎠⋅sin (θ) + Ξ ⋅⎝Δᵣ - Δₜₕₑ\n",
       "──────────────────────────────────────────────────────────────────────────────\n",
       "         2                                                                    \n",
       "      W⋅Ξ                                                                     \n",
       "                                                                              \n",
       "                                                                              \n",
       "       0                                                                      \n",
       "                                                                              \n",
       "                                                                              \n",
       "    2  2           4⎞       ⎛                     2           2⎞⎞    2        \n",
       "e{r} ⋅a  + Δₜₕₑₜₐ⋅a ⎠ + Ξ⋅a⋅⎝Δᵣ - Δₜₕₑₜₐ⋅\\tilde{r}  - Δₜₕₑₜₐ⋅a ⎠⎠⋅sin (θ)     \n",
       "─────────────────────────────────────────────────────────────────────────     \n",
       "         2                                                                    \n",
       "      W⋅Ξ                                                                     \n",
       "\n",
       "    2    2   ⎞        ⎛  ⎛      2    2                      4                 \n",
       "ₜₐ⋅a ⋅sin (θ)⎠      ⅈ⋅⎝Ω⋅⎝- Δᵣ⋅a ⋅sin (θ) + Δₜₕₑₜₐ⋅\\tilde{r}  + 2⋅Δₜₕₑₜₐ⋅\\tild\n",
       "──────────────  0   ──────────────────────────────────────────────────────────\n",
       "                                                                              \n",
       "                                                                              \n",
       "                                                                              \n",
       "                W                                                             \n",
       "                ──                                                            \n",
       "                Δᵣ                                                            \n",
       "                                                                              \n",
       "                                            ⎛      2    2                     \n",
       "                                            ⎝- Δᵣ⋅a ⋅sin (θ) + Δₜₕₑₜₐ⋅\\tilde{r\n",
       "                0                           ──────────────────────────────────\n",
       "                                                                              \n",
       "                                                                              \n",
       "\n",
       "    2  2           4⎞       ⎛                     2           2⎞⎞    2   ⎤\n",
       "e{r} ⋅a  + Δₜₕₑₜₐ⋅a ⎠ + Ξ⋅a⋅⎝Δᵣ - Δₜₕₑₜₐ⋅\\tilde{r}  - Δₜₕₑₜₐ⋅a ⎠⎠⋅sin (θ)⎥\n",
       "─────────────────────────────────────────────────────────────────────────⎥\n",
       "         2                                                               ⎥\n",
       "      W⋅Ξ                                                                ⎥\n",
       "                                                                         ⎥\n",
       "                                                                         ⎥\n",
       "       0                                                                 ⎥\n",
       "                                                                         ⎥\n",
       "                                                                         ⎥\n",
       " 4                     2  2           4⎞    2                            ⎥\n",
       "}  + 2⋅Δₜₕₑₜₐ⋅\\tilde{r} ⋅a  + Δₜₕₑₜₐ⋅a ⎠⋅sin (θ)                         ⎥\n",
       "────────────────────────────────────────────────                         ⎥\n",
       "        2                                                                ⎥\n",
       "     W⋅Ξ                                                                 ⎦"
      ]
     },
     "execution_count": 18,
     "metadata": {},
     "output_type": "execute_result"
    }
   ],
   "source": [
    "g_mat = sympy.Matrix(metric_list_matrix)\n",
    "g_mat.simplify()\n",
    "g_mat"
   ]
  },
  {
   "cell_type": "code",
   "execution_count": 76,
   "metadata": {},
   "outputs": [
    {
     "data": {
      "image/png": "[encoded data removed]",
      "text/latex": [
       "$\\displaystyle \\frac{\\Delta_{\\theta} \\left(\\tilde{r}^{2} + a^{2} \\cos^{2}{\\left(\\theta \\right)}\\right)^{2} \\sin^{2}{\\left(\\theta \\right)}}{W \\Xi^{2}}$"
      ],
      "text/plain": [
       "                                2        \n",
       "       ⎛         2    2    2   ⎞     2   \n",
       "Δₜₕₑₜₐ⋅⎝\\tilde{r}  + a ⋅cos (θ)⎠ ⋅sin (θ)\n",
       "─────────────────────────────────────────\n",
       "                      2                  \n",
       "                   W⋅Ξ                   "
      ]
     },
     "execution_count": 76,
     "metadata": {},
     "output_type": "execute_result"
    }
   ],
   "source": [
    "g_mat.det().simplify()"
   ]
  },
  {
   "attachments": {},
   "cell_type": "markdown",
   "metadata": {},
   "source": [
    "### Generic Metric"
   ]
  },
  {
   "cell_type": "code",
   "execution_count": 284,
   "metadata": {},
   "outputs": [],
   "source": [
    "A, B, C, D, E, F = sympy.symbols(\"A B C D E F\")"
   ]
  },
  {
   "cell_type": "code",
   "execution_count": 285,
   "metadata": {},
   "outputs": [
    {
     "data": {
      "text/latex": [
       "$\\displaystyle \\left[\\begin{matrix}A + i B & C + i D\\\\C + i D & E + i F\\end{matrix}\\right]$"
      ],
      "text/plain": [
       "⎡A + ⅈ⋅B  C + ⅈ⋅D⎤\n",
       "⎢                ⎥\n",
       "⎣C + ⅈ⋅D  E + ⅈ⋅F⎦"
      ]
     },
     "execution_count": 285,
     "metadata": {},
     "output_type": "execute_result"
    }
   ],
   "source": [
    "g_mat_simp = sympy.Matrix([[A + sympy.I * B, C + sympy.I * D], [C + sympy.I * D, E + sympy.I * F]])\n",
    "g_mat_simp"
   ]
  },
  {
   "cell_type": "code",
   "execution_count": 287,
   "metadata": {},
   "outputs": [
    {
     "data": {
      "image/png": "[encoded data removed]",
      "text/latex": [
       "$\\displaystyle A E - B F - C^{2} + D^{2} + i \\left(A F + B E - 2 C D\\right)$"
      ],
      "text/plain": [
       "             2    2                        \n",
       "A⋅E - B⋅F - C  + D  + ⅈ⋅(A⋅F + B⋅E - 2⋅C⋅D)"
      ]
     },
     "execution_count": 287,
     "metadata": {},
     "output_type": "execute_result"
    }
   ],
   "source": [
    "g_mat_simp.det().simplify().collect(sympy.I)"
   ]
  },
  {
   "cell_type": "code",
   "execution_count": 290,
   "metadata": {},
   "outputs": [
    {
     "data": {
      "image/png": "[encoded data removed]",
      "text/latex": [
       "$\\displaystyle \\frac{A F + B E}{2 D}$"
      ],
      "text/plain": [
       "A⋅F + B⋅E\n",
       "─────────\n",
       "   2⋅D   "
      ]
     },
     "execution_count": 290,
     "metadata": {},
     "output_type": "execute_result"
    }
   ],
   "source": [
    "C_sol = sympy.solve(A * F + B * E - 2 * C * D, C)[0]\n",
    "C_sol"
   ]
  },
  {
   "cell_type": "code",
   "execution_count": 131,
   "metadata": {},
   "outputs": [
    {
     "data": {
      "image/png": "[encoded data removed]",
      "text/latex": [
       "$\\displaystyle - A^{2} F^{2} - 2 A B E F + 4 A D^{2} E - B^{2} E^{2} - 4 B D^{2} F + 4 D^{4}$"
      ],
      "text/plain": [
       "   2  2                    2      2  2        2        4\n",
       "- A ⋅F  - 2⋅A⋅B⋅E⋅F + 4⋅A⋅D ⋅E - B ⋅E  - 4⋅B⋅D ⋅F + 4⋅D "
      ]
     },
     "execution_count": 131,
     "metadata": {},
     "output_type": "execute_result"
    }
   ],
   "source": [
    "sympy.fraction((A * E - B * F - C ** 2 + D ** 2).subs({C: C_sol}).expand().simplify())[0]"
   ]
  },
  {
   "cell_type": "code",
   "execution_count": 138,
   "metadata": {},
   "outputs": [
    {
     "data": {
      "image/png": "[encoded data removed]",
      "text/latex": [
       "$\\displaystyle 4 D^{2} \\left(A E - B F + D^{2}\\right) - \\left(A F + B E\\right)^{2}$"
      ],
      "text/plain": [
       "   2 ⎛             2⎞              2\n",
       "4⋅D ⋅⎝A⋅E - B⋅F + D ⎠ - (A⋅F + B⋅E) "
      ]
     },
     "execution_count": 138,
     "metadata": {},
     "output_type": "execute_result"
    }
   ],
   "source": [
    "4 * D ** 2 * (A * E - B * F + D ** 2) - (A * F + B * E) ** 2"
   ]
  },
  {
   "cell_type": "code",
   "execution_count": 294,
   "metadata": {},
   "outputs": [
    {
     "data": {
      "image/png": "[encoded data removed]",
      "text/latex": [
       "$\\displaystyle 0$"
      ],
      "text/plain": [
       "0"
      ]
     },
     "execution_count": 294,
     "metadata": {},
     "output_type": "execute_result"
    }
   ],
   "source": [
    "(sympy.fraction((A * E - B * F - C ** 2 + D ** 2).subs({C: C_sol}).expand().simplify())[0] - (4 * D ** 2 * (A * E - B * F + D ** 2) - (A * F + B * E) ** 2)).simplify()"
   ]
  },
  {
   "cell_type": "code",
   "execution_count": 83,
   "metadata": {},
   "outputs": [
    {
     "data": {
      "text/latex": [
       "$\\displaystyle \\left[\\begin{matrix}A & C\\\\C & E\\end{matrix}\\right]$"
      ],
      "text/plain": [
       "⎡A  C⎤\n",
       "⎢    ⎥\n",
       "⎣C  E⎦"
      ]
     },
     "execution_count": 83,
     "metadata": {},
     "output_type": "execute_result"
    }
   ],
   "source": [
    "g_mat_real_simp = sympy.Matrix([[A, C], [C, E]])\n",
    "g_mat_real_simp"
   ]
  },
  {
   "cell_type": "code",
   "execution_count": 181,
   "metadata": {},
   "outputs": [
    {
     "data": {
      "text/latex": [
       "$\\displaystyle \\left[\\begin{matrix}B & D\\\\D & F\\end{matrix}\\right]$"
      ],
      "text/plain": [
       "⎡B  D⎤\n",
       "⎢    ⎥\n",
       "⎣D  F⎦"
      ]
     },
     "execution_count": 181,
     "metadata": {},
     "output_type": "execute_result"
    }
   ],
   "source": [
    "g_mat_imag_simp = sympy.Matrix([[B, D], [D, F]])\n",
    "g_mat_imag_simp"
   ]
  },
  {
   "cell_type": "code",
   "execution_count": 84,
   "metadata": {},
   "outputs": [
    {
     "data": {
      "image/png": "[encoded data removed]",
      "text/latex": [
       "$\\displaystyle \\left\\{ \\frac{A}{2} + \\frac{E}{2} - \\frac{\\sqrt{A^{2} - 2 A E + 4 C^{2} + E^{2}}}{2} : 1, \\  \\frac{A}{2} + \\frac{E}{2} + \\frac{\\sqrt{A^{2} - 2 A E + 4 C^{2} + E^{2}}}{2} : 1\\right\\}$"
      ],
      "text/plain": [
       "⎧           ________________________                ________________________  \n",
       "⎪          ╱  2              2    2                ╱  2              2    2   \n",
       "⎨A   E   ╲╱  A  - 2⋅A⋅E + 4⋅C  + E       A   E   ╲╱  A  - 2⋅A⋅E + 4⋅C  + E    \n",
       "⎪─ + ─ - ───────────────────────────: 1, ─ + ─ + ───────────────────────────: \n",
       "⎩2   2                2                  2   2                2               \n",
       "\n",
       " ⎫\n",
       " ⎪\n",
       " ⎬\n",
       "1⎪\n",
       " ⎭"
      ]
     },
     "execution_count": 84,
     "metadata": {},
     "output_type": "execute_result"
    }
   ],
   "source": [
    "g_mat_real_simp.eigenvals()"
   ]
  },
  {
   "cell_type": "code",
   "execution_count": 144,
   "metadata": {},
   "outputs": [
    {
     "data": {
      "image/png": "[encoded data removed]",
      "text/latex": [
       "$\\displaystyle A E - C^{2}$"
      ],
      "text/plain": [
       "       2\n",
       "A⋅E - C "
      ]
     },
     "execution_count": 144,
     "metadata": {},
     "output_type": "execute_result"
    }
   ],
   "source": [
    "((A + E) ** 2 / 4 - (C ** 2 + (A - E) ** 2 / 4)).simplify()"
   ]
  },
  {
   "cell_type": "code",
   "execution_count": 315,
   "metadata": {},
   "outputs": [
    {
     "data": {
      "image/png": "[encoded data removed]",
      "text/latex": [
       "$\\displaystyle \\frac{- A^{2} F^{2} - 2 A B E F + 4 A D^{2} E - B^{2} E^{2}}{4 D^{2}}$"
      ],
      "text/plain": [
       "   2  2                    2      2  2\n",
       "- A ⋅F  - 2⋅A⋅B⋅E⋅F + 4⋅A⋅D ⋅E - B ⋅E \n",
       "──────────────────────────────────────\n",
       "                    2                 \n",
       "                 4⋅D                  "
      ]
     },
     "execution_count": 315,
     "metadata": {},
     "output_type": "execute_result"
    }
   ],
   "source": [
    "(A * E - C ** 2).subs({C: C_sol}).expand().simplify()"
   ]
  },
  {
   "cell_type": "code",
   "execution_count": 316,
   "metadata": {},
   "outputs": [
    {
     "data": {
      "image/png": "[encoded data removed]",
      "text/latex": [
       "$\\displaystyle 4 A D^{2} E - \\left(A F + B E\\right)^{2}$"
      ],
      "text/plain": [
       "     2                2\n",
       "4⋅A⋅D ⋅E - (A⋅F + B⋅E) "
      ]
     },
     "execution_count": 316,
     "metadata": {},
     "output_type": "execute_result"
    }
   ],
   "source": [
    "4 * A * E * D ** 2 - (A * F + B * E) ** 2"
   ]
  },
  {
   "cell_type": "code",
   "execution_count": 295,
   "metadata": {},
   "outputs": [
    {
     "data": {
      "image/png": "[encoded data removed]",
      "text/latex": [
       "$\\displaystyle \\left\\{ \\frac{A}{2} + \\frac{i B}{2} + \\frac{E}{2} + \\frac{i F}{2} - \\frac{\\sqrt{\\left(A + i B - 2 i C + 2 D - E - i F\\right) \\left(A + i B + 2 i C - 2 D - E - i F\\right)}}{2} : 1, \\  \\frac{A}{2} + \\frac{i B}{2} + \\frac{E}{2} + \\frac{i F}{2} + \\frac{\\sqrt{\\left(A + i B - 2 i C + 2 D - E - i F\\right) \\left(A + i B + 2 i C - 2 D - E - i F\\right)}}{2} : 1\\right\\}$"
      ],
      "text/plain": [
       "⎧                      _______________________________________________________\n",
       "⎪A   ⅈ⋅B   E   ⅈ⋅F   ╲╱ (A + ⅈ⋅B - 2⋅ⅈ⋅C + 2⋅D - E - ⅈ⋅F)⋅(A + ⅈ⋅B + 2⋅ⅈ⋅C - 2\n",
       "⎨─ + ─── + ─ + ─── - ─────────────────────────────────────────────────────────\n",
       "⎪2    2    2    2                                       2                     \n",
       "⎩                                                                             \n",
       "\n",
       "______________                           _____________________________________\n",
       "⋅D - E - ⅈ⋅F)      A   ⅈ⋅B   E   ⅈ⋅F   ╲╱ (A + ⅈ⋅B - 2⋅ⅈ⋅C + 2⋅D - E - ⅈ⋅F)⋅(A\n",
       "──────────────: 1, ─ + ─── + ─ + ─── + ───────────────────────────────────────\n",
       "                   2    2    2    2                                       2   \n",
       "                                                                              \n",
       "\n",
       "________________________________   ⎫\n",
       " + ⅈ⋅B + 2⋅ⅈ⋅C - 2⋅D - E - ⅈ⋅F)    ⎪\n",
       "────────────────────────────────: 1⎬\n",
       "                                   ⎪\n",
       "                                   ⎭"
      ]
     },
     "execution_count": 295,
     "metadata": {},
     "output_type": "execute_result"
    }
   ],
   "source": [
    "g_mat_simp.eigenvals()"
   ]
  },
  {
   "cell_type": "code",
   "execution_count": 99,
   "metadata": {},
   "outputs": [
    {
     "data": {
      "image/png": "[encoded data removed]",
      "text/latex": [
       "$\\displaystyle A^{2} - 2 A E - B^{2} + 2 B F + 4 C^{2} - 4 D^{2} + E^{2} - F^{2} + i \\left(2 A B - 2 A F - 2 B E + 8 C D + 2 E F\\right)$"
      ],
      "text/plain": [
       " 2            2              2      2    2    2                               \n",
       "A  - 2⋅A⋅E - B  + 2⋅B⋅F + 4⋅C  - 4⋅D  + E  - F  + ⅈ⋅(2⋅A⋅B - 2⋅A⋅F - 2⋅B⋅E + 8\n",
       "\n",
       "             \n",
       "⋅C⋅D + 2⋅E⋅F)"
      ]
     },
     "execution_count": 99,
     "metadata": {},
     "output_type": "execute_result"
    }
   ],
   "source": [
    "list(g_mat_simp.eigenvals().keys())[0].args[2].args[1].args[0].simplify().expand().collect(sympy.I)"
   ]
  },
  {
   "cell_type": "code",
   "execution_count": 108,
   "metadata": {},
   "outputs": [
    {
     "data": {
      "image/png": "[encoded data removed]",
      "text/latex": [
       "$\\displaystyle 4 C^{2} - 4 D^{2} + \\left(A - E\\right)^{2} - \\left(B - F\\right)^{2}$"
      ],
      "text/plain": [
       "   2      2          2          2\n",
       "4⋅C  - 4⋅D  + (A - E)  - (B - F) "
      ]
     },
     "execution_count": 108,
     "metadata": {},
     "output_type": "execute_result"
    }
   ],
   "source": [
    "real_part_discrim = (A - E) ** 2 - (B - F) ** 2 + 4 * (C ** 2 - D ** 2)\n",
    "real_part_discrim"
   ]
  },
  {
   "cell_type": "code",
   "execution_count": 109,
   "metadata": {},
   "outputs": [
    {
     "data": {
      "image/png": "[encoded data removed]",
      "text/latex": [
       "$\\displaystyle 8 C D + 2 \\left(A - E\\right) \\left(B - F\\right)$"
      ],
      "text/plain": [
       "8⋅C⋅D + 2⋅(A - E)⋅(B - F)"
      ]
     },
     "execution_count": 109,
     "metadata": {},
     "output_type": "execute_result"
    }
   ],
   "source": [
    "imag_part_discrim = 2 * ((A - E) * (B - F) + 4 * C * D)\n",
    "imag_part_discrim"
   ]
  },
  {
   "cell_type": "code",
   "execution_count": 115,
   "metadata": {},
   "outputs": [
    {
     "data": {
      "image/png": "[encoded data removed]",
      "text/latex": [
       "$\\displaystyle \\frac{\\left(A - 2 D - E\\right) \\left(A + 2 D - E\\right) \\left(B^{2} - 2 B F + 4 D^{2} + F^{2}\\right)}{4 D^{2}}$"
      ],
      "text/plain": [
       "                            ⎛ 2              2    2⎞\n",
       "(A - 2⋅D - E)⋅(A + 2⋅D - E)⋅⎝B  - 2⋅B⋅F + 4⋅D  + F ⎠\n",
       "────────────────────────────────────────────────────\n",
       "                           2                        \n",
       "                        4⋅D                         "
      ]
     },
     "execution_count": 115,
     "metadata": {},
     "output_type": "execute_result"
    }
   ],
   "source": [
    "real_part_discrim.subs({C: sympy.solve(imag_part_discrim, C)[0]}).expand().simplify().factor()"
   ]
  },
  {
   "attachments": {},
   "cell_type": "markdown",
   "metadata": {},
   "source": [
    "### Generic Metric Inverse"
   ]
  },
  {
   "cell_type": "code",
   "execution_count": 300,
   "metadata": {},
   "outputs": [
    {
     "data": {
      "text/latex": [
       "$\\displaystyle \\left[\\begin{matrix}\\frac{E + i F}{A E + i A F + i B E - B F - C^{2} - 2 i C D + D^{2}} & \\frac{- C - i D}{A E + i A F + i B E - B F - C^{2} - 2 i C D + D^{2}}\\\\\\frac{- C - i D}{A E + i A F + i B E - B F - C^{2} - 2 i C D + D^{2}} & \\frac{A + i B}{A E + i A F + i B E - B F - C^{2} - 2 i C D + D^{2}}\\end{matrix}\\right]$"
      ],
      "text/plain": [
       "⎡                   E + ⅈ⋅F                                        -C - ⅈ⋅D   \n",
       "⎢─────────────────────────────────────────────  ──────────────────────────────\n",
       "⎢                             2              2                               2\n",
       "⎢A⋅E + ⅈ⋅A⋅F + ⅈ⋅B⋅E - B⋅F - C  - 2⋅ⅈ⋅C⋅D + D   A⋅E + ⅈ⋅A⋅F + ⅈ⋅B⋅E - B⋅F - C \n",
       "⎢                                                                             \n",
       "⎢                   -C - ⅈ⋅D                                       A + ⅈ⋅B    \n",
       "⎢─────────────────────────────────────────────  ──────────────────────────────\n",
       "⎢                             2              2                               2\n",
       "⎣A⋅E + ⅈ⋅A⋅F + ⅈ⋅B⋅E - B⋅F - C  - 2⋅ⅈ⋅C⋅D + D   A⋅E + ⅈ⋅A⋅F + ⅈ⋅B⋅E - B⋅F - C \n",
       "\n",
       "               ⎤\n",
       "───────────────⎥\n",
       "              2⎥\n",
       " - 2⋅ⅈ⋅C⋅D + D ⎥\n",
       "               ⎥\n",
       "               ⎥\n",
       "───────────────⎥\n",
       "              2⎥\n",
       " - 2⋅ⅈ⋅C⋅D + D ⎦"
      ]
     },
     "execution_count": 300,
     "metadata": {},
     "output_type": "execute_result"
    }
   ],
   "source": [
    "g_mat_simp_inv = g_mat_simp.inv()\n",
    "g_mat_simp_inv.simplify()\n",
    "g_mat_simp_inv"
   ]
  },
  {
   "cell_type": "code",
   "execution_count": 302,
   "metadata": {},
   "outputs": [
    {
     "data": {
      "image/png": "[encoded data removed]",
      "text/latex": [
       "$\\displaystyle A E - B F - C^{2} + D^{2} + i \\left(A F + B E - 2 C D\\right)$"
      ],
      "text/plain": [
       "             2    2                        \n",
       "A⋅E - B⋅F - C  + D  + ⅈ⋅(A⋅F + B⋅E - 2⋅C⋅D)"
      ]
     },
     "execution_count": 302,
     "metadata": {},
     "output_type": "execute_result"
    }
   ],
   "source": [
    "denom = g_mat_simp_inv[0, 0].args[0].args[0].collect(sympy.I)\n",
    "denom"
   ]
  },
  {
   "cell_type": "code",
   "execution_count": 303,
   "metadata": {},
   "outputs": [
    {
     "data": {
      "image/png": "[encoded data removed]",
      "text/latex": [
       "$\\displaystyle A E - B F - C^{2} + D^{2} - i \\left(A F + B E - 2 C D\\right)$"
      ],
      "text/plain": [
       "             2    2                        \n",
       "A⋅E - B⋅F - C  + D  - ⅈ⋅(A⋅F + B⋅E - 2⋅C⋅D)"
      ]
     },
     "execution_count": 303,
     "metadata": {},
     "output_type": "execute_result"
    }
   ],
   "source": [
    "denom_conj = A * E - B * F - C ** 2 + D ** 2 - sympy.I * (A * F + B * E - 2 * C * D)\n",
    "denom_conj"
   ]
  },
  {
   "cell_type": "code",
   "execution_count": 204,
   "metadata": {},
   "outputs": [
    {
     "data": {
      "image/png": "[encoded data removed]",
      "text/latex": [
       "$\\displaystyle A^{2} E^{2} + A^{2} F^{2} - 2 A C^{2} E - 4 A C D F + 2 A D^{2} E + B^{2} E^{2} + B^{2} F^{2} + 2 B C^{2} F - 4 B C D E - 2 B D^{2} F + C^{4} + 2 C^{2} D^{2} + D^{4}$"
      ],
      "text/plain": [
       " 2  2    2  2        2                      2      2  2    2  2        2      \n",
       "A ⋅E  + A ⋅F  - 2⋅A⋅C ⋅E - 4⋅A⋅C⋅D⋅F + 2⋅A⋅D ⋅E + B ⋅E  + B ⋅F  + 2⋅B⋅C ⋅F - 4\n",
       "\n",
       "                2      4      2  2    4\n",
       "⋅B⋅C⋅D⋅E - 2⋅B⋅D ⋅F + C  + 2⋅C ⋅D  + D "
      ]
     },
     "execution_count": 204,
     "metadata": {},
     "output_type": "execute_result"
    }
   ],
   "source": [
    "(denom * denom_conj).expand().simplify().factor()"
   ]
  },
  {
   "cell_type": "code",
   "execution_count": 304,
   "metadata": {},
   "outputs": [
    {
     "data": {
      "text/latex": [
       "$\\displaystyle \\left[\\begin{matrix}A E^{2} + A F^{2} - C^{2} E - 2 C D F + D^{2} E + i \\left(- B E^{2} - B F^{2} - C^{2} F + 2 C D E + D^{2} F\\right) & - A C E - A D F + B C F - B D E + C^{3} + C D^{2} + i \\left(A C F - A D E + B C E + B D F - C^{2} D - D^{3}\\right)\\\\- A C E - A D F + B C F - B D E + C^{3} + C D^{2} + i \\left(A C F - A D E + B C E + B D F - C^{2} D - D^{3}\\right) & A^{2} E - A C^{2} + A D^{2} + B^{2} E - 2 B C D + i \\left(- A^{2} F + 2 A C D - B^{2} F - B C^{2} + B D^{2}\\right)\\end{matrix}\\right]$"
      ],
      "text/plain": [
       "⎡        2      2    2                2       ⎛     2      2    2             \n",
       "⎢     A⋅E  + A⋅F  - C ⋅E - 2⋅C⋅D⋅F + D ⋅E + ⅈ⋅⎝- B⋅E  - B⋅F  - C ⋅F + 2⋅C⋅D⋅E \n",
       "⎢                                                                             \n",
       "⎢                                  3      2     ⎛                             \n",
       "⎣-A⋅C⋅E - A⋅D⋅F + B⋅C⋅F - B⋅D⋅E + C  + C⋅D  + ⅈ⋅⎝A⋅C⋅F - A⋅D⋅E + B⋅C⋅E + B⋅D⋅F\n",
       "\n",
       "   2  ⎞                                          3      2     ⎛               \n",
       "+ D ⋅F⎠        -A⋅C⋅E - A⋅D⋅F + B⋅C⋅F - B⋅D⋅E + C  + C⋅D  + ⅈ⋅⎝A⋅C⋅F - A⋅D⋅E +\n",
       "                                                                              \n",
       "    2      3⎞        2        2      2    2                 ⎛   2             \n",
       " - C ⋅D - D ⎠       A ⋅E - A⋅C  + A⋅D  + B ⋅E - 2⋅B⋅C⋅D + ⅈ⋅⎝- A ⋅F + 2⋅A⋅C⋅D \n",
       "\n",
       "                  2      3⎞⎤\n",
       " B⋅C⋅E + B⋅D⋅F - C ⋅D - D ⎠⎥\n",
       "                           ⎥\n",
       "   2        2      2⎞      ⎥\n",
       "- B ⋅F - B⋅C  + B⋅D ⎠      ⎦"
      ]
     },
     "execution_count": 304,
     "metadata": {},
     "output_type": "execute_result"
    }
   ],
   "source": [
    "metric_list_matrix = [[0 for i in range(2)] for i in range(2)]\n",
    "\n",
    "metric_list_matrix[0][0] = ((E + sympy.I * F) * denom_conj).expand().simplify().collect(sympy.I)\n",
    "metric_list_matrix[0][1] = ((-C - sympy.I * D) * denom_conj).expand().simplify().collect(sympy.I)\n",
    "metric_list_matrix[1][0] = ((-C - sympy.I * D) * denom_conj).expand().simplify().collect(sympy.I)\n",
    "metric_list_matrix[1][1] = ((A + sympy.I * B) * denom_conj).expand().simplify().collect(sympy.I)\n",
    "\n",
    "g_mat_simp_inv = sympy.Matrix(metric_list_matrix)\n",
    "g_mat_simp_inv"
   ]
  },
  {
   "cell_type": "code",
   "execution_count": 309,
   "metadata": {},
   "outputs": [
    {
     "data": {
      "text/latex": [
       "$\\displaystyle \\left[\\begin{matrix}1 & 0\\\\0 & 1\\end{matrix}\\right]$"
      ],
      "text/plain": [
       "⎡1  0⎤\n",
       "⎢    ⎥\n",
       "⎣0  1⎦"
      ]
     },
     "execution_count": 309,
     "metadata": {},
     "output_type": "execute_result"
    }
   ],
   "source": [
    "id = g_mat_simp_inv @ g_mat_simp / (denom * denom_conj)\n",
    "id.simplify()\n",
    "id"
   ]
  },
  {
   "cell_type": "code",
   "execution_count": 307,
   "metadata": {},
   "outputs": [
    {
     "data": {
      "text/latex": [
       "$\\displaystyle \\left[\\begin{matrix}A E^{2} + A F^{2} - C^{2} E - 2 C D F + D^{2} E & - A C E - A D F + B C F - B D E + C^{3} + C D^{2}\\\\- A C E - A D F + B C F - B D E + C^{3} + C D^{2} & A^{2} E - A C^{2} + A D^{2} + B^{2} E - 2 B C D\\end{matrix}\\right]$"
      ],
      "text/plain": [
       "⎡      2      2    2                2                                         \n",
       "⎢   A⋅E  + A⋅F  - C ⋅E - 2⋅C⋅D⋅F + D ⋅E      -A⋅C⋅E - A⋅D⋅F + B⋅C⋅F - B⋅D⋅E + \n",
       "⎢                                                                             \n",
       "⎢                                  3      2      2        2      2    2       \n",
       "⎣-A⋅C⋅E - A⋅D⋅F + B⋅C⋅F - B⋅D⋅E + C  + C⋅D      A ⋅E - A⋅C  + A⋅D  + B ⋅E - 2⋅\n",
       "\n",
       " 3      2⎤\n",
       "C  + C⋅D ⎥\n",
       "         ⎥\n",
       "         ⎥\n",
       "B⋅C⋅D    ⎦"
      ]
     },
     "execution_count": 307,
     "metadata": {},
     "output_type": "execute_result"
    }
   ],
   "source": [
    "g_mat_real_simp_inv = [\n",
    "    [A * E ** 2 + A * F ** 2 - C ** 2 * E - 2 * C * D * F + D ** 2 * E, -A * C * E - A * D * F + B * C * F - B * D * E + C ** 3 + C * D ** 2],\n",
    "    [-A * C * E - A * D * F + B * C * F - B * D * E + C ** 3 + C * D ** 2, A ** 2 * E - A * C ** 2 + A * D ** 2 + B ** 2 * E - 2 * B * C * D]\n",
    "]\n",
    "g_mat_real_simp_inv = sympy.Matrix(g_mat_real_simp_inv)\n",
    "g_mat_real_simp_inv"
   ]
  },
  {
   "cell_type": "code",
   "execution_count": 308,
   "metadata": {},
   "outputs": [
    {
     "data": {
      "image/png": "[encoded data removed]",
      "text/latex": [
       "$\\displaystyle \\frac{E \\left(- A^{2} F^{2} - 2 A B E F - B^{2} E^{2} + 4 D^{2} \\left(A E - B F + D^{2}\\right)\\right)}{4 D^{2}}$"
      ],
      "text/plain": [
       "  ⎛   2  2                2  2      2 ⎛             2⎞⎞\n",
       "E⋅⎝- A ⋅F  - 2⋅A⋅B⋅E⋅F - B ⋅E  + 4⋅D ⋅⎝A⋅E - B⋅F + D ⎠⎠\n",
       "───────────────────────────────────────────────────────\n",
       "                             2                         \n",
       "                          4⋅D                          "
      ]
     },
     "execution_count": 308,
     "metadata": {},
     "output_type": "execute_result"
    }
   ],
   "source": [
    "g_mat_real_simp_inv[0, 0].subs({C: C_sol}).expand().simplify()"
   ]
  },
  {
   "cell_type": "code",
   "execution_count": 227,
   "metadata": {},
   "outputs": [
    {
     "data": {
      "image/png": "[encoded data removed]",
      "text/latex": [
       "$\\displaystyle \\frac{A \\left(- A^{2} F^{2} - 2 A B E F - B^{2} E^{2} + 4 D^{2} \\left(A E - B F + D^{2}\\right)\\right)}{4 D^{2}}$"
      ],
      "text/plain": [
       "  ⎛   2  2                2  2      2 ⎛             2⎞⎞\n",
       "A⋅⎝- A ⋅F  - 2⋅A⋅B⋅E⋅F - B ⋅E  + 4⋅D ⋅⎝A⋅E - B⋅F + D ⎠⎠\n",
       "───────────────────────────────────────────────────────\n",
       "                             2                         \n",
       "                          4⋅D                          "
      ]
     },
     "execution_count": 227,
     "metadata": {},
     "output_type": "execute_result"
    }
   ],
   "source": [
    "g_mat_real_simp_inv[1, 1].subs({C: C_sol[0]}).expand().simplify()"
   ]
  },
  {
   "cell_type": "code",
   "execution_count": 191,
   "metadata": {},
   "outputs": [
    {
     "data": {
      "image/png": "[encoded data removed]",
      "text/latex": [
       "$\\displaystyle \\left\\{ \\frac{A^{2} E}{2} - \\frac{A C^{2}}{2} + \\frac{A D^{2}}{2} + \\frac{A E^{2}}{2} + \\frac{A F^{2}}{2} + \\frac{B^{2} E}{2} - B C D - \\frac{C^{2} E}{2} - C D F + \\frac{D^{2} E}{2} - \\frac{\\sqrt{A^{4} E^{2} - 2 A^{3} C^{2} E + 2 A^{3} D^{2} E - 2 A^{3} E^{3} - 2 A^{3} E F^{2} + 2 A^{2} B^{2} E^{2} - 4 A^{2} B C D E + A^{2} C^{4} - 2 A^{2} C^{2} D^{2} + 8 A^{2} C^{2} E^{2} + 2 A^{2} C^{2} F^{2} + 12 A^{2} C D E F + A^{2} D^{4} - 4 A^{2} D^{2} E^{2} + 2 A^{2} D^{2} F^{2} + A^{2} E^{4} + 2 A^{2} E^{2} F^{2} + A^{2} F^{4} - 2 A B^{2} C^{2} E + 2 A B^{2} D^{2} E - 2 A B^{2} E^{3} - 2 A B^{2} E F^{2} + 4 A B C^{3} D - 8 A B C^{2} E F - 4 A B C D^{3} + 12 A B C D E^{2} - 4 A B C D F^{2} + 8 A B D^{2} E F - 10 A C^{4} E - 12 A C^{3} D F - 4 A C^{2} D^{2} E - 2 A C^{2} E^{3} - 2 A C^{2} E F^{2} - 4 A C D^{3} F - 4 A C D E^{2} F - 4 A C D F^{3} - 2 A D^{4} E + 2 A D^{2} E^{3} + 2 A D^{2} E F^{2} + B^{4} E^{2} - 4 B^{3} C D E + 4 B^{2} C^{2} D^{2} + 2 B^{2} C^{2} E^{2} + 4 B^{2} C^{2} F^{2} - 4 B^{2} C D E F + 2 B^{2} D^{2} E^{2} + 8 B C^{4} F - 12 B C^{3} D E - 4 B C D^{3} E + 4 C^{6} + 8 C^{4} D^{2} + C^{4} E^{2} + 4 C^{3} D E F + 4 C^{2} D^{4} - 2 C^{2} D^{2} E^{2} + 4 C^{2} D^{2} F^{2} - 4 C D^{3} E F + D^{4} E^{2}}}{2} : 1, \\  \\frac{A^{2} E}{2} - \\frac{A C^{2}}{2} + \\frac{A D^{2}}{2} + \\frac{A E^{2}}{2} + \\frac{A F^{2}}{2} + \\frac{B^{2} E}{2} - B C D - \\frac{C^{2} E}{2} - C D F + \\frac{D^{2} E}{2} + \\frac{\\sqrt{A^{4} E^{2} - 2 A^{3} C^{2} E + 2 A^{3} D^{2} E - 2 A^{3} E^{3} - 2 A^{3} E F^{2} + 2 A^{2} B^{2} E^{2} - 4 A^{2} B C D E + A^{2} C^{4} - 2 A^{2} C^{2} D^{2} + 8 A^{2} C^{2} E^{2} + 2 A^{2} C^{2} F^{2} + 12 A^{2} C D E F + A^{2} D^{4} - 4 A^{2} D^{2} E^{2} + 2 A^{2} D^{2} F^{2} + A^{2} E^{4} + 2 A^{2} E^{2} F^{2} + A^{2} F^{4} - 2 A B^{2} C^{2} E + 2 A B^{2} D^{2} E - 2 A B^{2} E^{3} - 2 A B^{2} E F^{2} + 4 A B C^{3} D - 8 A B C^{2} E F - 4 A B C D^{3} + 12 A B C D E^{2} - 4 A B C D F^{2} + 8 A B D^{2} E F - 10 A C^{4} E - 12 A C^{3} D F - 4 A C^{2} D^{2} E - 2 A C^{2} E^{3} - 2 A C^{2} E F^{2} - 4 A C D^{3} F - 4 A C D E^{2} F - 4 A C D F^{3} - 2 A D^{4} E + 2 A D^{2} E^{3} + 2 A D^{2} E F^{2} + B^{4} E^{2} - 4 B^{3} C D E + 4 B^{2} C^{2} D^{2} + 2 B^{2} C^{2} E^{2} + 4 B^{2} C^{2} F^{2} - 4 B^{2} C D E F + 2 B^{2} D^{2} E^{2} + 8 B C^{4} F - 12 B C^{3} D E - 4 B C D^{3} E + 4 C^{6} + 8 C^{4} D^{2} + C^{4} E^{2} + 4 C^{3} D E F + 4 C^{2} D^{4} - 2 C^{2} D^{2} E^{2} + 4 C^{2} D^{2} F^{2} - 4 C D^{3} E F + D^{4} E^{2}}}{2} : 1\\right\\}$"
      ],
      "text/plain": [
       "⎧                                                                           __\n",
       "⎪ 2        2      2      2      2    2              2              2       ╱  \n",
       "⎨A ⋅E   A⋅C    A⋅D    A⋅E    A⋅F    B ⋅E           C ⋅E           D ⋅E   ╲╱  A\n",
       "⎪──── - ──── + ──── + ──── + ──── + ──── - B⋅C⋅D - ──── - C⋅D⋅F + ──── - ─────\n",
       "⎩ 2      2      2      2      2      2              2              2          \n",
       "\n",
       "______________________________________________________________________________\n",
       "4  2      3  2        3  2        3  3      3    2      2  2  2      2        \n",
       " ⋅E  - 2⋅A ⋅C ⋅E + 2⋅A ⋅D ⋅E - 2⋅A ⋅E  - 2⋅A ⋅E⋅F  + 2⋅A ⋅B ⋅E  - 4⋅A ⋅B⋅C⋅D⋅E\n",
       "──────────────────────────────────────────────────────────────────────────────\n",
       "                                                                              \n",
       "\n",
       "______________________________________________________________________________\n",
       "    2  4      2  2  2      2  2  2      2  2  2       2            2  4      2\n",
       " + A ⋅C  - 2⋅A ⋅C ⋅D  + 8⋅A ⋅C ⋅E  + 2⋅A ⋅C ⋅F  + 12⋅A ⋅C⋅D⋅E⋅F + A ⋅D  - 4⋅A \n",
       "──────────────────────────────────────────────────────────────────────────────\n",
       "                                                                              \n",
       "\n",
       "______________________________________________________________________________\n",
       "  2  2      2  2  2    2  4      2  2  2    2  4        2  2          2  2    \n",
       "⋅D ⋅E  + 2⋅A ⋅D ⋅F  + A ⋅E  + 2⋅A ⋅E ⋅F  + A ⋅F  - 2⋅A⋅B ⋅C ⋅E + 2⋅A⋅B ⋅D ⋅E -\n",
       "──────────────────────────────────────────────────────────────────────────────\n",
       "                                                                              \n",
       "\n",
       "______________________________________________________________________________\n",
       "      2  3        2    2          3            2                3             \n",
       " 2⋅A⋅B ⋅E  - 2⋅A⋅B ⋅E⋅F  + 4⋅A⋅B⋅C ⋅D - 8⋅A⋅B⋅C ⋅E⋅F - 4⋅A⋅B⋅C⋅D  + 12⋅A⋅B⋅C⋅D\n",
       "──────────────────────────────────────────────────────────────────────────────\n",
       "                                                                              \n",
       "\n",
       "______________________________________________________________________________\n",
       "  2              2          2             4           3            2  2       \n",
       "⋅E  - 4⋅A⋅B⋅C⋅D⋅F  + 8⋅A⋅B⋅D ⋅E⋅F - 10⋅A⋅C ⋅E - 12⋅A⋅C ⋅D⋅F - 4⋅A⋅C ⋅D ⋅E - 2⋅\n",
       "──────────────────────────────────────────────────────────────────────────────\n",
       "                                        2                                     \n",
       "\n",
       "______________________________________________________________________________\n",
       "   2  3        2    2          3              2              3        4       \n",
       "A⋅C ⋅E  - 2⋅A⋅C ⋅E⋅F  - 4⋅A⋅C⋅D ⋅F - 4⋅A⋅C⋅D⋅E ⋅F - 4⋅A⋅C⋅D⋅F  - 2⋅A⋅D ⋅E + 2⋅\n",
       "──────────────────────────────────────────────────────────────────────────────\n",
       "                                                                              \n",
       "\n",
       "______________________________________________________________________________\n",
       "   2  3        2    2    4  2      3            2  2  2      2  2  2      2  2\n",
       "A⋅D ⋅E  + 2⋅A⋅D ⋅E⋅F  + B ⋅E  - 4⋅B ⋅C⋅D⋅E + 4⋅B ⋅C ⋅D  + 2⋅B ⋅C ⋅E  + 4⋅B ⋅C \n",
       "──────────────────────────────────────────────────────────────────────────────\n",
       "                                                                              \n",
       "\n",
       "______________________________________________________________________________\n",
       "  2      2              2  2  2        4           3              3        6  \n",
       "⋅F  - 4⋅B ⋅C⋅D⋅E⋅F + 2⋅B ⋅D ⋅E  + 8⋅B⋅C ⋅F - 12⋅B⋅C ⋅D⋅E - 4⋅B⋅C⋅D ⋅E + 4⋅C  +\n",
       "──────────────────────────────────────────────────────────────────────────────\n",
       "                                                                              \n",
       "\n",
       "______________________________________________________________________________\n",
       "    4  2    4  2      3            2  4      2  2  2      2  2  2        3    \n",
       " 8⋅C ⋅D  + C ⋅E  + 4⋅C ⋅D⋅E⋅F + 4⋅C ⋅D  - 2⋅C ⋅D ⋅E  + 4⋅C ⋅D ⋅F  - 4⋅C⋅D ⋅E⋅F\n",
       "──────────────────────────────────────────────────────────────────────────────\n",
       "                                                                              \n",
       "\n",
       "_________                                                                     \n",
       "    4  2       2        2      2      2      2    2              2            \n",
       " + D ⋅E       A ⋅E   A⋅C    A⋅D    A⋅E    A⋅F    B ⋅E           C ⋅E          \n",
       "─────────: 1, ──── - ──── + ──── + ──── + ──── + ──── - B⋅C⋅D - ──── - C⋅D⋅F +\n",
       "               2      2      2      2      2      2              2            \n",
       "\n",
       "           ___________________________________________________________________\n",
       "  2       ╱  4  2      3  2        3  2        3  3      3    2      2  2  2  \n",
       " D ⋅E   ╲╱  A ⋅E  - 2⋅A ⋅C ⋅E + 2⋅A ⋅D ⋅E - 2⋅A ⋅E  - 2⋅A ⋅E⋅F  + 2⋅A ⋅B ⋅E  -\n",
       " ──── + ──────────────────────────────────────────────────────────────────────\n",
       "  2                                                                           \n",
       "\n",
       "______________________________________________________________________________\n",
       "    2            2  4      2  2  2      2  2  2      2  2  2       2          \n",
       " 4⋅A ⋅B⋅C⋅D⋅E + A ⋅C  - 2⋅A ⋅C ⋅D  + 8⋅A ⋅C ⋅E  + 2⋅A ⋅C ⋅F  + 12⋅A ⋅C⋅D⋅E⋅F +\n",
       "──────────────────────────────────────────────────────────────────────────────\n",
       "                                                                              \n",
       "\n",
       "______________________________________________________________________________\n",
       "  2  4      2  2  2      2  2  2    2  4      2  2  2    2  4        2  2     \n",
       " A ⋅D  - 4⋅A ⋅D ⋅E  + 2⋅A ⋅D ⋅F  + A ⋅E  + 2⋅A ⋅E ⋅F  + A ⋅F  - 2⋅A⋅B ⋅C ⋅E + \n",
       "──────────────────────────────────────────────────────────────────────────────\n",
       "                                                                              \n",
       "\n",
       "______________________________________________________________________________\n",
       "     2  2          2  3        2    2          3            2                3\n",
       "2⋅A⋅B ⋅D ⋅E - 2⋅A⋅B ⋅E  - 2⋅A⋅B ⋅E⋅F  + 4⋅A⋅B⋅C ⋅D - 8⋅A⋅B⋅C ⋅E⋅F - 4⋅A⋅B⋅C⋅D \n",
       "──────────────────────────────────────────────────────────────────────────────\n",
       "                                                                              \n",
       "\n",
       "______________________________________________________________________________\n",
       "               2              2          2             4           3          \n",
       " + 12⋅A⋅B⋅C⋅D⋅E  - 4⋅A⋅B⋅C⋅D⋅F  + 8⋅A⋅B⋅D ⋅E⋅F - 10⋅A⋅C ⋅E - 12⋅A⋅C ⋅D⋅F - 4⋅A\n",
       "──────────────────────────────────────────────────────────────────────────────\n",
       "                                                     2                        \n",
       "\n",
       "______________________________________________________________________________\n",
       "  2  2          2  3        2    2          3              2              3   \n",
       "⋅C ⋅D ⋅E - 2⋅A⋅C ⋅E  - 2⋅A⋅C ⋅E⋅F  - 4⋅A⋅C⋅D ⋅F - 4⋅A⋅C⋅D⋅E ⋅F - 4⋅A⋅C⋅D⋅F  - \n",
       "──────────────────────────────────────────────────────────────────────────────\n",
       "                                                                              \n",
       "\n",
       "______________________________________________________________________________\n",
       "     4          2  3        2    2    4  2      3            2  2  2      2  2\n",
       "2⋅A⋅D ⋅E + 2⋅A⋅D ⋅E  + 2⋅A⋅D ⋅E⋅F  + B ⋅E  - 4⋅B ⋅C⋅D⋅E + 4⋅B ⋅C ⋅D  + 2⋅B ⋅C \n",
       "──────────────────────────────────────────────────────────────────────────────\n",
       "                                                                              \n",
       "\n",
       "______________________________________________________________________________\n",
       "  2      2  2  2      2              2  2  2        4           3             \n",
       "⋅E  + 4⋅B ⋅C ⋅F  - 4⋅B ⋅C⋅D⋅E⋅F + 2⋅B ⋅D ⋅E  + 8⋅B⋅C ⋅F - 12⋅B⋅C ⋅D⋅E - 4⋅B⋅C⋅\n",
       "──────────────────────────────────────────────────────────────────────────────\n",
       "                                                                              \n",
       "\n",
       "______________________________________________________________________________\n",
       " 3        6      4  2    4  2      3            2  4      2  2  2      2  2  2\n",
       "D ⋅E + 4⋅C  + 8⋅C ⋅D  + C ⋅E  + 4⋅C ⋅D⋅E⋅F + 4⋅C ⋅D  - 2⋅C ⋅D ⋅E  + 4⋅C ⋅D ⋅F \n",
       "──────────────────────────────────────────────────────────────────────────────\n",
       "                                                                              \n",
       "\n",
       "______________________   ⎫\n",
       "        3        4  2    ⎪\n",
       " - 4⋅C⋅D ⋅E⋅F + D ⋅E     ⎬\n",
       "──────────────────────: 1⎪\n",
       "                         ⎭"
      ]
     },
     "execution_count": 191,
     "metadata": {},
     "output_type": "execute_result"
    }
   ],
   "source": [
    "g_mat_real_simp_inv.eigenvals()"
   ]
  },
  {
   "cell_type": "code",
   "execution_count": 312,
   "metadata": {},
   "outputs": [
    {
     "data": {
      "image/png": "[encoded data removed]",
      "text/latex": [
       "$\\displaystyle - \\frac{\\left(A + E\\right) \\left(A^{2} F^{2} + 2 A B E F - 4 A D^{2} E + B^{2} E^{2} + 4 B D^{2} F - 4 D^{4}\\right)}{8 D^{2}}$"
      ],
      "text/plain": [
       "         ⎛ 2  2                    2      2  2        2        4⎞ \n",
       "-(A + E)⋅⎝A ⋅F  + 2⋅A⋅B⋅E⋅F - 4⋅A⋅D ⋅E + B ⋅E  + 4⋅B⋅D ⋅F - 4⋅D ⎠ \n",
       "──────────────────────────────────────────────────────────────────\n",
       "                                  2                               \n",
       "                               8⋅D                                "
      ]
     },
     "execution_count": 312,
     "metadata": {},
     "output_type": "execute_result"
    }
   ],
   "source": [
    "sum(list(g_mat_real_simp_inv.eigenvals().keys())[0].args[1:]).subs({C: C_sol}).factor()"
   ]
  },
  {
   "cell_type": "code",
   "execution_count": 313,
   "metadata": {},
   "outputs": [
    {
     "data": {
      "image/png": "[encoded data removed]",
      "text/latex": [
       "$\\displaystyle \\frac{\\left(A^{2} D^{2} + A^{2} F^{2} + 2 A B E F - 2 A D^{2} E + B^{2} E^{2} + D^{2} E^{2}\\right) \\left(A^{2} F^{2} + 2 A B E F - 4 A D^{2} E + B^{2} E^{2} + 4 B D^{2} F - 4 D^{4}\\right)^{2}}{16 D^{6}}$"
      ],
      "text/plain": [
       "                                                                              \n",
       "⎛ 2  2    2  2                    2      2  2    2  2⎞ ⎛ 2  2                 \n",
       "⎝A ⋅D  + A ⋅F  + 2⋅A⋅B⋅E⋅F - 2⋅A⋅D ⋅E + B ⋅E  + D ⋅E ⎠⋅⎝A ⋅F  + 2⋅A⋅B⋅E⋅F - 4⋅\n",
       "──────────────────────────────────────────────────────────────────────────────\n",
       "                                                         6                    \n",
       "                                                     16⋅D                     \n",
       "\n",
       "                                 2\n",
       "   2      2  2        2        4⎞ \n",
       "A⋅D ⋅E + B ⋅E  + 4⋅B⋅D ⋅F - 4⋅D ⎠ \n",
       "──────────────────────────────────\n",
       "                                  \n",
       "                                  "
      ]
     },
     "execution_count": 313,
     "metadata": {},
     "output_type": "execute_result"
    }
   ],
   "source": [
    "(-2 * list(g_mat_real_simp_inv.eigenvals().keys())[0].args[0]).args[0].subs({C: C_sol}).factor()"
   ]
  },
  {
   "cell_type": "code",
   "execution_count": 278,
   "metadata": {},
   "outputs": [
    {
     "data": {
      "image/png": "[encoded data removed]",
      "text/latex": [
       "$\\displaystyle - A^{2} F^{2} - 2 A B E F + 4 A D^{2} E - B^{2} E^{2}$"
      ],
      "text/plain": [
       "   2  2                    2      2  2\n",
       "- A ⋅F  - 2⋅A⋅B⋅E⋅F + 4⋅A⋅D ⋅E - B ⋅E "
      ]
     },
     "execution_count": 278,
     "metadata": {},
     "output_type": "execute_result"
    }
   ],
   "source": [
    "(D ** 2 * (A + E) ** 2 - D ** 2 * (A - E) ** 2 - (A * F + B * E) ** 2).expand().simplify()"
   ]
  },
  {
   "cell_type": "code",
   "execution_count": 52,
   "metadata": {},
   "outputs": [
    {
     "data": {
      "image/png": "[encoded data removed]",
      "text/latex": [
       "$\\displaystyle \\frac{\\Delta_{\\theta} \\left(\\tilde{r}^{2} + a^{2} \\cos^{2}{\\left(\\theta \\right)}\\right)^{2} \\sin^{2}{\\left(\\theta \\right)}}{W \\Xi^{2}}$"
      ],
      "text/plain": [
       "                                2        \n",
       "       ⎛         2    2    2   ⎞     2   \n",
       "Δₜₕₑₜₐ⋅⎝\\tilde{r}  + a ⋅cos (θ)⎠ ⋅sin (θ)\n",
       "─────────────────────────────────────────\n",
       "                      2                  \n",
       "                   W⋅Ξ                   "
      ]
     },
     "execution_count": 52,
     "metadata": {},
     "output_type": "execute_result"
    }
   ],
   "source": [
    "g_mat.det().simplify()"
   ]
  },
  {
   "cell_type": "code",
   "execution_count": 32,
   "metadata": {},
   "outputs": [
    {
     "data": {
      "text/latex": [
       "$\\displaystyle \\left[\\begin{matrix}\\frac{- \\Delta_{r} W a^{2} \\sin^{2}{\\left(\\theta \\right)} + \\Delta_{\\theta} W \\tilde{r}^{4} + 2 \\Delta_{\\theta} W \\tilde{r}^{2} a^{2} + \\Delta_{\\theta} W a^{4}}{\\Delta_{r} \\Delta_{\\theta} \\tilde{r}^{4} - 2 \\Delta_{r} \\Delta_{\\theta} \\tilde{r}^{2} a^{2} \\sin^{2}{\\left(\\theta \\right)} + 2 \\Delta_{r} \\Delta_{\\theta} \\tilde{r}^{2} a^{2} + \\Delta_{r} \\Delta_{\\theta} a^{4} \\sin^{4}{\\left(\\theta \\right)} - 2 \\Delta_{r} \\Delta_{\\theta} a^{4} \\sin^{2}{\\left(\\theta \\right)} + \\Delta_{r} \\Delta_{\\theta} a^{4}} & 0 & \\frac{i \\Delta_{r} \\Omega W a^{2} \\sin^{2}{\\left(\\theta \\right)} - i \\Delta_{r} W \\Xi a - i \\Delta_{\\theta} \\Omega W \\tilde{r}^{4} - 2 i \\Delta_{\\theta} \\Omega W \\tilde{r}^{2} a^{2} - i \\Delta_{\\theta} \\Omega W a^{4} + i \\Delta_{\\theta} W \\Xi \\tilde{r}^{2} a + i \\Delta_{\\theta} W \\Xi a^{3}}{\\Delta_{r} \\Delta_{\\theta} \\tilde{r}^{4} - 2 \\Delta_{r} \\Delta_{\\theta} \\tilde{r}^{2} a^{2} \\sin^{2}{\\left(\\theta \\right)} + 2 \\Delta_{r} \\Delta_{\\theta} \\tilde{r}^{2} a^{2} + \\Delta_{r} \\Delta_{\\theta} a^{4} \\sin^{4}{\\left(\\theta \\right)} - 2 \\Delta_{r} \\Delta_{\\theta} a^{4} \\sin^{2}{\\left(\\theta \\right)} + \\Delta_{r} \\Delta_{\\theta} a^{4}}\\\\0 & \\frac{\\Delta_{r}}{W} & 0\\\\\\frac{i \\Delta_{r} \\Omega W a^{2} \\sin^{2}{\\left(\\theta \\right)} - i \\Delta_{r} W \\Xi a - i \\Delta_{\\theta} \\Omega W \\tilde{r}^{4} - 2 i \\Delta_{\\theta} \\Omega W \\tilde{r}^{2} a^{2} - i \\Delta_{\\theta} \\Omega W a^{4} + i \\Delta_{\\theta} W \\Xi \\tilde{r}^{2} a + i \\Delta_{\\theta} W \\Xi a^{3}}{\\Delta_{r} \\Delta_{\\theta} \\tilde{r}^{4} - 2 \\Delta_{r} \\Delta_{\\theta} \\tilde{r}^{2} a^{2} \\sin^{2}{\\left(\\theta \\right)} + 2 \\Delta_{r} \\Delta_{\\theta} \\tilde{r}^{2} a^{2} + \\Delta_{r} \\Delta_{\\theta} a^{4} \\sin^{4}{\\left(\\theta \\right)} - 2 \\Delta_{r} \\Delta_{\\theta} a^{4} \\sin^{2}{\\left(\\theta \\right)} + \\Delta_{r} \\Delta_{\\theta} a^{4}} & 0 & \\frac{\\Delta_{r} \\Omega^{2} W a^{2} \\sin^{4}{\\left(\\theta \\right)} - 2 \\Delta_{r} \\Omega W \\Xi a \\sin^{2}{\\left(\\theta \\right)} + \\Delta_{r} W \\Xi^{2} - \\Delta_{\\theta} \\Omega^{2} W \\tilde{r}^{4} \\sin^{2}{\\left(\\theta \\right)} - 2 \\Delta_{\\theta} \\Omega^{2} W \\tilde{r}^{2} a^{2} \\sin^{2}{\\left(\\theta \\right)} - \\Delta_{\\theta} \\Omega^{2} W a^{4} \\sin^{2}{\\left(\\theta \\right)} + 2 \\Delta_{\\theta} \\Omega W \\Xi \\tilde{r}^{2} a \\sin^{2}{\\left(\\theta \\right)} + 2 \\Delta_{\\theta} \\Omega W \\Xi a^{3} \\sin^{2}{\\left(\\theta \\right)} - \\Delta_{\\theta} W \\Xi^{2} a^{2} \\sin^{2}{\\left(\\theta \\right)}}{\\Delta_{r} \\Delta_{\\theta} \\tilde{r}^{4} \\sin^{2}{\\left(\\theta \\right)} - 2 \\Delta_{r} \\Delta_{\\theta} \\tilde{r}^{2} a^{2} \\sin^{4}{\\left(\\theta \\right)} + 2 \\Delta_{r} \\Delta_{\\theta} \\tilde{r}^{2} a^{2} \\sin^{2}{\\left(\\theta \\right)} + \\Delta_{r} \\Delta_{\\theta} a^{4} \\sin^{6}{\\left(\\theta \\right)} - 2 \\Delta_{r} \\Delta_{\\theta} a^{4} \\sin^{4}{\\left(\\theta \\right)} + \\Delta_{r} \\Delta_{\\theta} a^{4} \\sin^{2}{\\left(\\theta \\right)}}\\end{matrix}\\right]$"
      ],
      "text/plain": [
       "⎡                                             2    2                        4 \n",
       "⎢                                     - Δᵣ⋅W⋅a ⋅sin (θ) + Δₜₕₑₜₐ⋅W⋅\\tilde{r}  \n",
       "⎢   ──────────────────────────────────────────────────────────────────────────\n",
       "⎢                      4                        2  2    2                     \n",
       "⎢   Δᵣ⋅Δₜₕₑₜₐ⋅\\tilde{r}  - 2⋅Δᵣ⋅Δₜₕₑₜₐ⋅\\tilde{r} ⋅a ⋅sin (θ) + 2⋅Δᵣ⋅Δₜₕₑₜₐ⋅\\ti\n",
       "⎢                                                                             \n",
       "⎢                                                                             \n",
       "⎢                                                                            0\n",
       "⎢                                                                             \n",
       "⎢                                                                             \n",
       "⎢          2    2                                         4                   \n",
       "⎢ⅈ⋅Δᵣ⋅Ω⋅W⋅a ⋅sin (θ) - ⅈ⋅Δᵣ⋅W⋅Ξ⋅a - ⅈ⋅Δₜₕₑₜₐ⋅Ω⋅W⋅\\tilde{r}  - 2⋅ⅈ⋅Δₜₕₑₜₐ⋅Ω⋅W⋅\\\n",
       "⎢─────────────────────────────────────────────────────────────────────────────\n",
       "⎢                      4                        2  2    2                     \n",
       "⎣   Δᵣ⋅Δₜₕₑₜₐ⋅\\tilde{r}  - 2⋅Δᵣ⋅Δₜₕₑₜₐ⋅\\tilde{r} ⋅a ⋅sin (θ) + 2⋅Δᵣ⋅Δₜₕₑₜₐ⋅\\ti\n",
       "\n",
       "                      2  2             4                                      \n",
       "+ 2⋅Δₜₕₑₜₐ⋅W⋅\\tilde{r} ⋅a  + Δₜₕₑₜₐ⋅W⋅a                                       \n",
       "─────────────────────────────────────────────────────────────────────────     \n",
       "      2  2              4    4                   4    2                 4     \n",
       "lde{r} ⋅a  + Δᵣ⋅Δₜₕₑₜₐ⋅a ⋅sin (θ) - 2⋅Δᵣ⋅Δₜₕₑₜₐ⋅a ⋅sin (θ) + Δᵣ⋅Δₜₕₑₜₐ⋅a      \n",
       "                                                                              \n",
       "                                                                              \n",
       "                                                                              \n",
       "                                                                              \n",
       "                                                                              \n",
       "        2  2                 4                         2                   3  \n",
       "tilde{r} ⋅a  - ⅈ⋅Δₜₕₑₜₐ⋅Ω⋅W⋅a  + ⅈ⋅Δₜₕₑₜₐ⋅W⋅Ξ⋅\\tilde{r} ⋅a + ⅈ⋅Δₜₕₑₜₐ⋅W⋅Ξ⋅a   \n",
       "────────────────────────────────────────────────────────────────────────────  \n",
       "      2  2              4    4                   4    2                 4     \n",
       "lde{r} ⋅a  + Δᵣ⋅Δₜₕₑₜₐ⋅a ⋅sin (θ) - 2⋅Δᵣ⋅Δₜₕₑₜₐ⋅a ⋅sin (θ) + Δᵣ⋅Δₜₕₑₜₐ⋅a      \n",
       "\n",
       "                                                        2    2                \n",
       "                                              ⅈ⋅Δᵣ⋅Ω⋅W⋅a ⋅sin (θ) - ⅈ⋅Δᵣ⋅W⋅Ξ⋅a\n",
       "0                                             ────────────────────────────────\n",
       "                                                                    4         \n",
       "                                                 Δᵣ⋅Δₜₕₑₜₐ⋅\\tilde{r}  - 2⋅Δᵣ⋅Δ\n",
       "                                                                              \n",
       "Δᵣ                                                                            \n",
       "──                                                                            \n",
       "W                                                                             \n",
       "                                                                              \n",
       "        2    2    4                      2            2           2           \n",
       "    Δᵣ⋅Ω ⋅W⋅a ⋅sin (θ) - 2⋅Δᵣ⋅Ω⋅W⋅Ξ⋅a⋅sin (θ) + Δᵣ⋅W⋅Ξ  - Δₜₕₑₜₐ⋅Ω ⋅W⋅\\tilde{r\n",
       "0   ──────────────────────────────────────────────────────────────────────────\n",
       "                                                        4    2                \n",
       "                                     Δᵣ⋅Δₜₕₑₜₐ⋅\\tilde{r} ⋅sin (θ) - 2⋅Δᵣ⋅Δₜₕₑₜ\n",
       "\n",
       "                         4                           2  2                 4   \n",
       " - ⅈ⋅Δₜₕₑₜₐ⋅Ω⋅W⋅\\tilde{r}  - 2⋅ⅈ⋅Δₜₕₑₜₐ⋅Ω⋅W⋅\\tilde{r} ⋅a  - ⅈ⋅Δₜₕₑₜₐ⋅Ω⋅W⋅a  + \n",
       "──────────────────────────────────────────────────────────────────────────────\n",
       "               2  2    2                           2  2              4    4   \n",
       "ₜₕₑₜₐ⋅\\tilde{r} ⋅a ⋅sin (θ) + 2⋅Δᵣ⋅Δₜₕₑₜₐ⋅\\tilde{r} ⋅a  + Δᵣ⋅Δₜₕₑₜₐ⋅a ⋅sin (θ)\n",
       "                                                                              \n",
       "                                                                              \n",
       "                                            0                                 \n",
       "                                                                              \n",
       "                                                                              \n",
       " 4    2                2            2  2    2              2    4    2        \n",
       "} ⋅sin (θ) - 2⋅Δₜₕₑₜₐ⋅Ω ⋅W⋅\\tilde{r} ⋅a ⋅sin (θ) - Δₜₕₑₜₐ⋅Ω ⋅W⋅a ⋅sin (θ) + 2⋅\n",
       "──────────────────────────────────────────────────────────────────────────────\n",
       "           2  2    4                           2  2    2                 4    \n",
       "ₐ⋅\\tilde{r} ⋅a ⋅sin (θ) + 2⋅Δᵣ⋅Δₜₕₑₜₐ⋅\\tilde{r} ⋅a ⋅sin (θ) + Δᵣ⋅Δₜₕₑₜₐ⋅a ⋅sin\n",
       "\n",
       "                      2                   3                                   \n",
       "ⅈ⋅Δₜₕₑₜₐ⋅W⋅Ξ⋅\\tilde{r} ⋅a + ⅈ⋅Δₜₕₑₜₐ⋅W⋅Ξ⋅a                                    \n",
       "───────────────────────────────────────────                                   \n",
       "                4    2                 4                                      \n",
       " - 2⋅Δᵣ⋅Δₜₕₑₜₐ⋅a ⋅sin (θ) + Δᵣ⋅Δₜₕₑₜₐ⋅a                                       \n",
       "                                                                              \n",
       "                                                                              \n",
       "                                                                              \n",
       "                                                                              \n",
       "                                                                              \n",
       "                      2      2                      3    2                2  2\n",
       "Δₜₕₑₜₐ⋅Ω⋅W⋅Ξ⋅\\tilde{r} ⋅a⋅sin (θ) + 2⋅Δₜₕₑₜₐ⋅Ω⋅W⋅Ξ⋅a ⋅sin (θ) - Δₜₕₑₜₐ⋅W⋅Ξ ⋅a \n",
       "──────────────────────────────────────────────────────────────────────────────\n",
       "6                   4    4                 4    2                             \n",
       " (θ) - 2⋅Δᵣ⋅Δₜₕₑₜₐ⋅a ⋅sin (θ) + Δᵣ⋅Δₜₕₑₜₐ⋅a ⋅sin (θ)                          \n",
       "\n",
       "        ⎤\n",
       "        ⎥\n",
       "        ⎥\n",
       "        ⎥\n",
       "        ⎥\n",
       "        ⎥\n",
       "        ⎥\n",
       "        ⎥\n",
       "        ⎥\n",
       "        ⎥\n",
       "    2   ⎥\n",
       "⋅sin (θ)⎥\n",
       "────────⎥\n",
       "        ⎥\n",
       "        ⎦"
      ]
     },
     "execution_count": 32,
     "metadata": {},
     "output_type": "execute_result"
    }
   ],
   "source": [
    "g_mat.inv()"
   ]
  },
  {
   "cell_type": "code",
   "execution_count": 20,
   "metadata": {},
   "outputs": [],
   "source": [
    "eigs = g_mat.inv().eigenvals()"
   ]
  },
  {
   "cell_type": "code",
   "execution_count": 21,
   "metadata": {},
   "outputs": [
    {
     "data": {
      "image/png": "[encoded data removed]",
      "text/latex": [
       "$\\displaystyle \\left\\{ \\frac{\\Delta_{r}}{W} : 1, \\  - \\frac{W \\sqrt{- 4 \\Delta_{r} \\Delta_{\\theta} \\Xi^{2} \\left(\\tilde{r}^{2} + a^{2} \\cos^{2}{\\left(\\theta \\right)}\\right)^{6} \\sin^{2}{\\left(\\theta \\right)} + \\left(- \\tilde{r}^{2} + a^{2} \\sin^{2}{\\left(\\theta \\right)} - a^{2}\\right)^{4} \\left(\\Delta_{r} \\Omega^{2} a^{2} \\sin^{4}{\\left(\\theta \\right)} - 2 \\Delta_{r} \\Omega \\Xi a \\sin^{2}{\\left(\\theta \\right)} + \\Delta_{r} \\Xi^{2} - \\Delta_{r} a^{2} \\sin^{4}{\\left(\\theta \\right)} - \\Delta_{\\theta} \\Omega^{2} \\tilde{r}^{4} \\sin^{2}{\\left(\\theta \\right)} - 2 \\Delta_{\\theta} \\Omega^{2} \\tilde{r}^{2} a^{2} \\sin^{2}{\\left(\\theta \\right)} - \\Delta_{\\theta} \\Omega^{2} a^{4} \\sin^{2}{\\left(\\theta \\right)} + 2 \\Delta_{\\theta} \\Omega \\Xi \\tilde{r}^{2} a \\sin^{2}{\\left(\\theta \\right)} + 2 \\Delta_{\\theta} \\Omega \\Xi a^{3} \\sin^{2}{\\left(\\theta \\right)} - \\Delta_{\\theta} \\Xi^{2} a^{2} \\sin^{2}{\\left(\\theta \\right)} + \\Delta_{\\theta} \\tilde{r}^{4} \\sin^{2}{\\left(\\theta \\right)} + 2 \\Delta_{\\theta} \\tilde{r}^{2} a^{2} \\sin^{2}{\\left(\\theta \\right)} + \\Delta_{\\theta} a^{4} \\sin^{2}{\\left(\\theta \\right)}\\right)^{2}}}{2 \\Delta_{r} \\Delta_{\\theta} \\left(\\tilde{r}^{8} - 2 \\tilde{r}^{6} a^{2} \\sin^{2}{\\left(\\theta \\right)} + 2 \\tilde{r}^{6} a^{2} \\cos^{2}{\\left(\\theta \\right)} + 2 \\tilde{r}^{6} a^{2} + \\tilde{r}^{4} a^{4} \\sin^{4}{\\left(\\theta \\right)} - 4 \\tilde{r}^{4} a^{4} \\sin^{2}{\\left(\\theta \\right)} \\cos^{2}{\\left(\\theta \\right)} - 2 \\tilde{r}^{4} a^{4} \\sin^{2}{\\left(\\theta \\right)} + \\tilde{r}^{4} a^{4} \\cos^{4}{\\left(\\theta \\right)} + 4 \\tilde{r}^{4} a^{4} \\cos^{2}{\\left(\\theta \\right)} + \\tilde{r}^{4} a^{4} + 2 \\tilde{r}^{2} a^{6} \\sin^{4}{\\left(\\theta \\right)} \\cos^{2}{\\left(\\theta \\right)} - 2 \\tilde{r}^{2} a^{6} \\sin^{2}{\\left(\\theta \\right)} \\cos^{4}{\\left(\\theta \\right)} - 4 \\tilde{r}^{2} a^{6} \\sin^{2}{\\left(\\theta \\right)} \\cos^{2}{\\left(\\theta \\right)} + 2 \\tilde{r}^{2} a^{6} \\cos^{4}{\\left(\\theta \\right)} + 2 \\tilde{r}^{2} a^{6} \\cos^{2}{\\left(\\theta \\right)} + a^{8} \\sin^{4}{\\left(\\theta \\right)} \\cos^{4}{\\left(\\theta \\right)} - 2 a^{8} \\sin^{2}{\\left(\\theta \\right)} \\cos^{4}{\\left(\\theta \\right)} + a^{8} \\cos^{4}{\\left(\\theta \\right)}\\right) \\sin^{2}{\\left(\\theta \\right)}} + \\frac{W \\left(\\Delta_{r} \\Omega^{2} a^{2} \\sin^{2}{\\left(\\theta \\right)} - 2 \\Delta_{r} \\Omega \\Xi a + \\frac{\\Delta_{r} \\Xi^{2}}{\\sin^{2}{\\left(\\theta \\right)}} - \\Delta_{r} a^{2} \\sin^{2}{\\left(\\theta \\right)} - \\Delta_{\\theta} \\Omega^{2} \\tilde{r}^{4} - 2 \\Delta_{\\theta} \\Omega^{2} \\tilde{r}^{2} a^{2} - \\Delta_{\\theta} \\Omega^{2} a^{4} + 2 \\Delta_{\\theta} \\Omega \\Xi \\tilde{r}^{2} a + 2 \\Delta_{\\theta} \\Omega \\Xi a^{3} - \\Delta_{\\theta} \\Xi^{2} a^{2} + \\Delta_{\\theta} \\tilde{r}^{4} + 2 \\Delta_{\\theta} \\tilde{r}^{2} a^{2} + \\Delta_{\\theta} a^{4}\\right)}{2 \\Delta_{r} \\Delta_{\\theta} \\left(- \\tilde{r}^{2} + a^{2} \\sin^{2}{\\left(\\theta \\right)} - a^{2}\\right)^{2}} : 1, \\  \\frac{W \\sqrt{- 4 \\Delta_{r} \\Delta_{\\theta} \\Xi^{2} \\left(\\tilde{r}^{2} + a^{2} \\cos^{2}{\\left(\\theta \\right)}\\right)^{6} \\sin^{2}{\\left(\\theta \\right)} + \\left(- \\tilde{r}^{2} + a^{2} \\sin^{2}{\\left(\\theta \\right)} - a^{2}\\right)^{4} \\left(\\Delta_{r} \\Omega^{2} a^{2} \\sin^{4}{\\left(\\theta \\right)} - 2 \\Delta_{r} \\Omega \\Xi a \\sin^{2}{\\left(\\theta \\right)} + \\Delta_{r} \\Xi^{2} - \\Delta_{r} a^{2} \\sin^{4}{\\left(\\theta \\right)} - \\Delta_{\\theta} \\Omega^{2} \\tilde{r}^{4} \\sin^{2}{\\left(\\theta \\right)} - 2 \\Delta_{\\theta} \\Omega^{2} \\tilde{r}^{2} a^{2} \\sin^{2}{\\left(\\theta \\right)} - \\Delta_{\\theta} \\Omega^{2} a^{4} \\sin^{2}{\\left(\\theta \\right)} + 2 \\Delta_{\\theta} \\Omega \\Xi \\tilde{r}^{2} a \\sin^{2}{\\left(\\theta \\right)} + 2 \\Delta_{\\theta} \\Omega \\Xi a^{3} \\sin^{2}{\\left(\\theta \\right)} - \\Delta_{\\theta} \\Xi^{2} a^{2} \\sin^{2}{\\left(\\theta \\right)} + \\Delta_{\\theta} \\tilde{r}^{4} \\sin^{2}{\\left(\\theta \\right)} + 2 \\Delta_{\\theta} \\tilde{r}^{2} a^{2} \\sin^{2}{\\left(\\theta \\right)} + \\Delta_{\\theta} a^{4} \\sin^{2}{\\left(\\theta \\right)}\\right)^{2}}}{2 \\Delta_{r} \\Delta_{\\theta} \\left(\\tilde{r}^{8} - 2 \\tilde{r}^{6} a^{2} \\sin^{2}{\\left(\\theta \\right)} + 2 \\tilde{r}^{6} a^{2} \\cos^{2}{\\left(\\theta \\right)} + 2 \\tilde{r}^{6} a^{2} + \\tilde{r}^{4} a^{4} \\sin^{4}{\\left(\\theta \\right)} - 4 \\tilde{r}^{4} a^{4} \\sin^{2}{\\left(\\theta \\right)} \\cos^{2}{\\left(\\theta \\right)} - 2 \\tilde{r}^{4} a^{4} \\sin^{2}{\\left(\\theta \\right)} + \\tilde{r}^{4} a^{4} \\cos^{4}{\\left(\\theta \\right)} + 4 \\tilde{r}^{4} a^{4} \\cos^{2}{\\left(\\theta \\right)} + \\tilde{r}^{4} a^{4} + 2 \\tilde{r}^{2} a^{6} \\sin^{4}{\\left(\\theta \\right)} \\cos^{2}{\\left(\\theta \\right)} - 2 \\tilde{r}^{2} a^{6} \\sin^{2}{\\left(\\theta \\right)} \\cos^{4}{\\left(\\theta \\right)} - 4 \\tilde{r}^{2} a^{6} \\sin^{2}{\\left(\\theta \\right)} \\cos^{2}{\\left(\\theta \\right)} + 2 \\tilde{r}^{2} a^{6} \\cos^{4}{\\left(\\theta \\right)} + 2 \\tilde{r}^{2} a^{6} \\cos^{2}{\\left(\\theta \\right)} + a^{8} \\sin^{4}{\\left(\\theta \\right)} \\cos^{4}{\\left(\\theta \\right)} - 2 a^{8} \\sin^{2}{\\left(\\theta \\right)} \\cos^{4}{\\left(\\theta \\right)} + a^{8} \\cos^{4}{\\left(\\theta \\right)}\\right) \\sin^{2}{\\left(\\theta \\right)}} + \\frac{W \\left(\\Delta_{r} \\Omega^{2} a^{2} \\sin^{2}{\\left(\\theta \\right)} - 2 \\Delta_{r} \\Omega \\Xi a + \\frac{\\Delta_{r} \\Xi^{2}}{\\sin^{2}{\\left(\\theta \\right)}} - \\Delta_{r} a^{2} \\sin^{2}{\\left(\\theta \\right)} - \\Delta_{\\theta} \\Omega^{2} \\tilde{r}^{4} - 2 \\Delta_{\\theta} \\Omega^{2} \\tilde{r}^{2} a^{2} - \\Delta_{\\theta} \\Omega^{2} a^{4} + 2 \\Delta_{\\theta} \\Omega \\Xi \\tilde{r}^{2} a + 2 \\Delta_{\\theta} \\Omega \\Xi a^{3} - \\Delta_{\\theta} \\Xi^{2} a^{2} + \\Delta_{\\theta} \\tilde{r}^{4} + 2 \\Delta_{\\theta} \\tilde{r}^{2} a^{2} + \\Delta_{\\theta} a^{4}\\right)}{2 \\Delta_{r} \\Delta_{\\theta} \\left(- \\tilde{r}^{2} + a^{2} \\sin^{2}{\\left(\\theta \\right)} - a^{2}\\right)^{2}} : 1\\right\\}$"
      ],
      "text/plain": [
       "⎧                                                                             \n",
       "⎪                                       ______________________________________\n",
       "⎪                                      ╱                                      \n",
       "⎪                                     ╱                 2 ⎛         2    2    \n",
       "⎨Δᵣ                               W⋅╲╱   - 4⋅Δᵣ⋅Δₜₕₑₜₐ⋅Ξ ⋅⎝\\tilde{r}  + a ⋅cos\n",
       "⎪──: 1, - ────────────────────────────────────────────────────────────────────\n",
       "⎪W                    ⎛         8              6  2    2                 6  2 \n",
       "⎪         2⋅Δᵣ⋅Δₜₕₑₜₐ⋅⎝\\tilde{r}  - 2⋅\\tilde{r} ⋅a ⋅sin (θ) + 2⋅\\tilde{r} ⋅a ⋅\n",
       "⎩                                                                             \n",
       "\n",
       "                                                                              \n",
       "______________________________________________________________________________\n",
       "     6                                           4                            \n",
       "2   ⎞     2      ⎛           2    2    2       2⎞  ⎛    2  2    4             \n",
       " (θ)⎠ ⋅sin (θ) + ⎝- \\tilde{r}  + a ⋅sin (θ) - a ⎠ ⋅⎝Δᵣ⋅Ω ⋅a ⋅sin (θ) - 2⋅Δᵣ⋅Ω⋅\n",
       "──────────────────────────────────────────────────────────────────────────────\n",
       "   2                 6  2            4  4    4                 4  4    2      \n",
       "cos (θ) + 2⋅\\tilde{r} ⋅a  + \\tilde{r} ⋅a ⋅sin (θ) - 4⋅\\tilde{r} ⋅a ⋅sin (θ)⋅co\n",
       "                                                                              \n",
       "\n",
       "                                                                              \n",
       "______________________________________________________________________________\n",
       "                                                                              \n",
       "       2          2       2    4              2          4    2               \n",
       "Ξ⋅a⋅sin (θ) + Δᵣ⋅Ξ  - Δᵣ⋅a ⋅sin (θ) - Δₜₕₑₜₐ⋅Ω ⋅\\tilde{r} ⋅sin (θ) - 2⋅Δₜₕₑₜₐ⋅\n",
       "──────────────────────────────────────────────────────────────────────────────\n",
       " 2                 4  4    2               4  4    4                 4  4    2\n",
       "s (θ) - 2⋅\\tilde{r} ⋅a ⋅sin (θ) + \\tilde{r} ⋅a ⋅cos (θ) + 4⋅\\tilde{r} ⋅a ⋅cos \n",
       "                                                                              \n",
       "\n",
       "                                                                              \n",
       "______________________________________________________________________________\n",
       "                                                                              \n",
       " 2          2  2    2              2  4    2                            2     \n",
       "Ω ⋅\\tilde{r} ⋅a ⋅sin (θ) - Δₜₕₑₜₐ⋅Ω ⋅a ⋅sin (θ) + 2⋅Δₜₕₑₜₐ⋅Ω⋅Ξ⋅\\tilde{r} ⋅a⋅si\n",
       "──────────────────────────────────────────────────────────────────────────────\n",
       "               4  4              2  6    4       2                 2  6    2  \n",
       "(θ) + \\tilde{r} ⋅a  + 2⋅\\tilde{r} ⋅a ⋅sin (θ)⋅cos (θ) - 2⋅\\tilde{r} ⋅a ⋅sin (θ\n",
       "                                                                              \n",
       "\n",
       "                                                                              \n",
       "______________________________________________________________________________\n",
       "                                                                              \n",
       " 2                    3    2              2  2    2                      4    \n",
       "n (θ) + 2⋅Δₜₕₑₜₐ⋅Ω⋅Ξ⋅a ⋅sin (θ) - Δₜₕₑₜₐ⋅Ξ ⋅a ⋅sin (θ) + Δₜₕₑₜₐ⋅\\tilde{r} ⋅sin\n",
       "──────────────────────────────────────────────────────────────────────────────\n",
       "     4                 2  6    2       2                 2  6    4            \n",
       ")⋅cos (θ) - 4⋅\\tilde{r} ⋅a ⋅sin (θ)⋅cos (θ) + 2⋅\\tilde{r} ⋅a ⋅cos (θ) + 2⋅\\til\n",
       "                                                                              \n",
       "\n",
       "                                                                              \n",
       "____________________________________________________________                  \n",
       "                                                          2                   \n",
       "2                        2  2    2              4    2   ⎞                    \n",
       " (θ) + 2⋅Δₜₕₑₜₐ⋅\\tilde{r} ⋅a ⋅sin (θ) + Δₜₕₑₜₐ⋅a ⋅sin (θ)⎠                    \n",
       "──────────────────────────────────────────────────────────────────────────────\n",
       "     2  6    2       8    4       4         8    2       4       8    4   ⎞   \n",
       "de{r} ⋅a ⋅cos (θ) + a ⋅sin (θ)⋅cos (θ) - 2⋅a ⋅sin (θ)⋅cos (θ) + a ⋅cos (θ)⎠⋅si\n",
       "                                                                              \n",
       "\n",
       "          ⎛                                     2                             \n",
       "          ⎜    2  2    2                    Δᵣ⋅Ξ         2    2              2\n",
       "        W⋅⎜Δᵣ⋅Ω ⋅a ⋅sin (θ) - 2⋅Δᵣ⋅Ω⋅Ξ⋅a + ─────── - Δᵣ⋅a ⋅sin (θ) - Δₜₕₑₜₐ⋅Ω \n",
       "          ⎜                                   2                               \n",
       "          ⎝                                sin (θ)                            \n",
       "───── + ──────────────────────────────────────────────────────────────────────\n",
       " 2                                                                            \n",
       "n (θ)                                                                         \n",
       "                                                                              \n",
       "\n",
       "                                                                              \n",
       "          4             2          2  2           2  4                        \n",
       "⋅\\tilde{r}  - 2⋅Δₜₕₑₜₐ⋅Ω ⋅\\tilde{r} ⋅a  - Δₜₕₑₜₐ⋅Ω ⋅a  + 2⋅Δₜₕₑₜₐ⋅Ω⋅Ξ⋅\\tilde{r\n",
       "                                                                              \n",
       "                                                                              \n",
       "──────────────────────────────────────────────────────────────────────────────\n",
       "                                                                         2    \n",
       "                                         ⎛           2    2    2       2⎞     \n",
       "                             2⋅Δᵣ⋅Δₜₕₑₜₐ⋅⎝- \\tilde{r}  + a ⋅sin (θ) - a ⎠     \n",
       "\n",
       "                                                                              \n",
       " 2                   3           2  2                   4                     \n",
       "} ⋅a + 2⋅Δₜₕₑₜₐ⋅Ω⋅Ξ⋅a  - Δₜₕₑₜₐ⋅Ξ ⋅a  + Δₜₕₑₜₐ⋅\\tilde{r}  + 2⋅Δₜₕₑₜₐ⋅\\tilde{r}\n",
       "                                                                              \n",
       "                                                                              \n",
       "──────────────────────────────────────────────────────────────────────────────\n",
       "                                                                              \n",
       "                                                                              \n",
       "                                                                              \n",
       "\n",
       "                ⎞                                                             \n",
       "2  2           4⎟                                   __________________________\n",
       " ⋅a  + Δₜₕₑₜₐ⋅a ⎟                                  ╱                          \n",
       "                ⎟                                 ╱                 2 ⎛       \n",
       "                ⎠                             W⋅╲╱   - 4⋅Δᵣ⋅Δₜₕₑₜₐ⋅Ξ ⋅⎝\\tilde{\n",
       "─────────────────: 1, ────────────────────────────────────────────────────────\n",
       "                                  ⎛         8              6  2    2          \n",
       "                      2⋅Δᵣ⋅Δₜₕₑₜₐ⋅⎝\\tilde{r}  - 2⋅\\tilde{r} ⋅a ⋅sin (θ) + 2⋅\\t\n",
       "                                                                              \n",
       "\n",
       "                                                                              \n",
       "______________________________________________________________________________\n",
       "                 6                                           4                \n",
       "  2    2    2   ⎞     2      ⎛           2    2    2       2⎞  ⎛    2  2    4 \n",
       "r}  + a ⋅cos (θ)⎠ ⋅sin (θ) + ⎝- \\tilde{r}  + a ⋅sin (θ) - a ⎠ ⋅⎝Δᵣ⋅Ω ⋅a ⋅sin (\n",
       "──────────────────────────────────────────────────────────────────────────────\n",
       "       6  2    2                 6  2            4  4    4                 4  \n",
       "ilde{r} ⋅a ⋅cos (θ) + 2⋅\\tilde{r} ⋅a  + \\tilde{r} ⋅a ⋅sin (θ) - 4⋅\\tilde{r} ⋅a\n",
       "                                                                              \n",
       "\n",
       "                                                                              \n",
       "______________________________________________________________________________\n",
       "                                                                              \n",
       "                   2          2       2    4              2          4    2   \n",
       "θ) - 2⋅Δᵣ⋅Ω⋅Ξ⋅a⋅sin (θ) + Δᵣ⋅Ξ  - Δᵣ⋅a ⋅sin (θ) - Δₜₕₑₜₐ⋅Ω ⋅\\tilde{r} ⋅sin (θ)\n",
       "──────────────────────────────────────────────────────────────────────────────\n",
       "4    2       2                 4  4    2               4  4    4              \n",
       " ⋅sin (θ)⋅cos (θ) - 2⋅\\tilde{r} ⋅a ⋅sin (θ) + \\tilde{r} ⋅a ⋅cos (θ) + 4⋅\\tilde\n",
       "                                                                              \n",
       "\n",
       "                                                                              \n",
       "______________________________________________________________________________\n",
       "                                                                              \n",
       "             2          2  2    2              2  4    2                      \n",
       " - 2⋅Δₜₕₑₜₐ⋅Ω ⋅\\tilde{r} ⋅a ⋅sin (θ) - Δₜₕₑₜₐ⋅Ω ⋅a ⋅sin (θ) + 2⋅Δₜₕₑₜₐ⋅Ω⋅Ξ⋅\\ti\n",
       "──────────────────────────────────────────────────────────────────────────────\n",
       "   4  4    2               4  4              2  6    4       2                \n",
       "{r} ⋅a ⋅cos (θ) + \\tilde{r} ⋅a  + 2⋅\\tilde{r} ⋅a ⋅sin (θ)⋅cos (θ) - 2⋅\\tilde{r\n",
       "                                                                              \n",
       "\n",
       "                                                                              \n",
       "______________________________________________________________________________\n",
       "                                                                              \n",
       "      2      2                    3    2              2  2    2               \n",
       "lde{r} ⋅a⋅sin (θ) + 2⋅Δₜₕₑₜₐ⋅Ω⋅Ξ⋅a ⋅sin (θ) - Δₜₕₑₜₐ⋅Ξ ⋅a ⋅sin (θ) + Δₜₕₑₜₐ⋅\\t\n",
       "──────────────────────────────────────────────────────────────────────────────\n",
       " 2  6    2       4                 2  6    2       2                 2  6    4\n",
       "} ⋅a ⋅sin (θ)⋅cos (θ) - 4⋅\\tilde{r} ⋅a ⋅sin (θ)⋅cos (θ) + 2⋅\\tilde{r} ⋅a ⋅cos \n",
       "                                                                              \n",
       "\n",
       "                                                                              \n",
       "________________________________________________________________________      \n",
       "                                                                      2       \n",
       "       4    2                        2  2    2              4    2   ⎞        \n",
       "ilde{r} ⋅sin (θ) + 2⋅Δₜₕₑₜₐ⋅\\tilde{r} ⋅a ⋅sin (θ) + Δₜₕₑₜₐ⋅a ⋅sin (θ)⎠        \n",
       "──────────────────────────────────────────────────────────────────────────────\n",
       "                 2  6    2       8    4       4         8    2       4       8\n",
       "(θ) + 2⋅\\tilde{r} ⋅a ⋅cos (θ) + a ⋅sin (θ)⋅cos (θ) - 2⋅a ⋅sin (θ)⋅cos (θ) + a \n",
       "                                                                              \n",
       "\n",
       "                      ⎛                                     2                 \n",
       "                      ⎜    2  2    2                    Δᵣ⋅Ξ         2    2   \n",
       "                    W⋅⎜Δᵣ⋅Ω ⋅a ⋅sin (θ) - 2⋅Δᵣ⋅Ω⋅Ξ⋅a + ─────── - Δᵣ⋅a ⋅sin (θ)\n",
       "                      ⎜                                   2                   \n",
       "                      ⎝                                sin (θ)                \n",
       "───────────────── + ──────────────────────────────────────────────────────────\n",
       "    4   ⎞    2                                                                \n",
       "⋅cos (θ)⎠⋅sin (θ)                                                             \n",
       "                                                                              \n",
       "\n",
       "                                                                              \n",
       "           2          4             2          2  2           2  4            \n",
       " - Δₜₕₑₜₐ⋅Ω ⋅\\tilde{r}  - 2⋅Δₜₕₑₜₐ⋅Ω ⋅\\tilde{r} ⋅a  - Δₜₕₑₜₐ⋅Ω ⋅a  + 2⋅Δₜₕₑₜₐ⋅\n",
       "                                                                              \n",
       "                                                                              \n",
       "──────────────────────────────────────────────────────────────────────────────\n",
       "                                                                              \n",
       "                                                     ⎛           2    2    2  \n",
       "                                         2⋅Δᵣ⋅Δₜₕₑₜₐ⋅⎝- \\tilde{r}  + a ⋅sin (θ\n",
       "\n",
       "                                                                              \n",
       "             2                   3           2  2                   4         \n",
       "Ω⋅Ξ⋅\\tilde{r} ⋅a + 2⋅Δₜₕₑₜₐ⋅Ω⋅Ξ⋅a  - Δₜₕₑₜₐ⋅Ξ ⋅a  + Δₜₕₑₜₐ⋅\\tilde{r}  + 2⋅Δₜₕₑ\n",
       "                                                                              \n",
       "                                                                              \n",
       "──────────────────────────────────────────────────────────────────────────────\n",
       "       2                                                                      \n",
       "     2⎞                                                                       \n",
       ") - a ⎠                                                                       \n",
       "\n",
       "                            ⎞   ⎫\n",
       "            2  2           4⎟   ⎪\n",
       "ₜₐ⋅\\tilde{r} ⋅a  + Δₜₕₑₜₐ⋅a ⎟   ⎪\n",
       "                            ⎟   ⎪\n",
       "                            ⎠   ⎬\n",
       "─────────────────────────────: 1⎪\n",
       "                                ⎪\n",
       "                                ⎪\n",
       "                                ⎭"
      ]
     },
     "execution_count": 21,
     "metadata": {},
     "output_type": "execute_result"
    }
   ],
   "source": [
    "eigs"
   ]
  },
  {
   "cell_type": "code",
   "execution_count": 24,
   "metadata": {},
   "outputs": [
    {
     "data": {
      "image/png": "[encoded data removed]",
      "text/latex": [
       "$\\displaystyle \\frac{\\Delta_{r}}{W}$"
      ],
      "text/plain": [
       "Δᵣ\n",
       "──\n",
       "W "
      ]
     },
     "execution_count": 24,
     "metadata": {},
     "output_type": "execute_result"
    }
   ],
   "source": [
    "list(eigs.keys())[2]"
   ]
  },
  {
   "cell_type": "code",
   "execution_count": 25,
   "metadata": {},
   "outputs": [],
   "source": [
    "eigs_2 = g_mat.eigenvals()"
   ]
  },
  {
   "cell_type": "code",
   "execution_count": 27,
   "metadata": {},
   "outputs": [
    {
     "data": {
      "image/png": "[encoded data removed]",
      "text/latex": [
       "$\\displaystyle - \\frac{\\sqrt{- 4 \\Delta_{r} \\Delta_{\\theta} \\Xi^{2} \\left(\\tilde{r}^{2} + a^{2} \\cos^{2}{\\left(\\theta \\right)}\\right)^{2} \\sin^{2}{\\left(\\theta \\right)} + \\left(\\Delta_{r} \\Omega^{2} a^{2} \\sin^{4}{\\left(\\theta \\right)} - 2 \\Delta_{r} \\Omega \\Xi a \\sin^{2}{\\left(\\theta \\right)} + \\Delta_{r} \\Xi^{2} - \\Delta_{r} a^{2} \\sin^{4}{\\left(\\theta \\right)} - \\Delta_{\\theta} \\Omega^{2} \\tilde{r}^{4} \\sin^{2}{\\left(\\theta \\right)} - 2 \\Delta_{\\theta} \\Omega^{2} \\tilde{r}^{2} a^{2} \\sin^{2}{\\left(\\theta \\right)} - \\Delta_{\\theta} \\Omega^{2} a^{4} \\sin^{2}{\\left(\\theta \\right)} + 2 \\Delta_{\\theta} \\Omega \\Xi \\tilde{r}^{2} a \\sin^{2}{\\left(\\theta \\right)} + 2 \\Delta_{\\theta} \\Omega \\Xi a^{3} \\sin^{2}{\\left(\\theta \\right)} - \\Delta_{\\theta} \\Xi^{2} a^{2} \\sin^{2}{\\left(\\theta \\right)} + \\Delta_{\\theta} \\tilde{r}^{4} \\sin^{2}{\\left(\\theta \\right)} + 2 \\Delta_{\\theta} \\tilde{r}^{2} a^{2} \\sin^{2}{\\left(\\theta \\right)} + \\Delta_{\\theta} a^{4} \\sin^{2}{\\left(\\theta \\right)}\\right)^{2}}}{2 W \\Xi^{2}} + \\frac{\\Delta_{r} \\Omega^{2} a^{2} \\sin^{4}{\\left(\\theta \\right)} - 2 \\Delta_{r} \\Omega \\Xi a \\sin^{2}{\\left(\\theta \\right)} + \\Delta_{r} \\Xi^{2} - \\Delta_{r} a^{2} \\sin^{4}{\\left(\\theta \\right)} - \\Delta_{\\theta} \\Omega^{2} \\tilde{r}^{4} \\sin^{2}{\\left(\\theta \\right)} - 2 \\Delta_{\\theta} \\Omega^{2} \\tilde{r}^{2} a^{2} \\sin^{2}{\\left(\\theta \\right)} - \\Delta_{\\theta} \\Omega^{2} a^{4} \\sin^{2}{\\left(\\theta \\right)} + 2 \\Delta_{\\theta} \\Omega \\Xi \\tilde{r}^{2} a \\sin^{2}{\\left(\\theta \\right)} + 2 \\Delta_{\\theta} \\Omega \\Xi a^{3} \\sin^{2}{\\left(\\theta \\right)} - \\Delta_{\\theta} \\Xi^{2} a^{2} \\sin^{2}{\\left(\\theta \\right)} + \\Delta_{\\theta} \\tilde{r}^{4} \\sin^{2}{\\left(\\theta \\right)} + 2 \\Delta_{\\theta} \\tilde{r}^{2} a^{2} \\sin^{2}{\\left(\\theta \\right)} + \\Delta_{\\theta} a^{4} \\sin^{2}{\\left(\\theta \\right)}}{2 W \\Xi^{2}}$"
      ],
      "text/plain": [
       "      ________________________________________________________________________\n",
       "     ╱                                           2                            \n",
       "    ╱                 2 ⎛         2    2    2   ⎞     2      ⎛    2  2    4   \n",
       "  ╲╱   - 4⋅Δᵣ⋅Δₜₕₑₜₐ⋅Ξ ⋅⎝\\tilde{r}  + a ⋅cos (θ)⎠ ⋅sin (θ) + ⎝Δᵣ⋅Ω ⋅a ⋅sin (θ)\n",
       "- ────────────────────────────────────────────────────────────────────────────\n",
       "                                                                              \n",
       "                                                                              \n",
       "\n",
       "______________________________________________________________________________\n",
       "                                                                              \n",
       "                 2          2       2    4              2          4    2     \n",
       " - 2⋅Δᵣ⋅Ω⋅Ξ⋅a⋅sin (θ) + Δᵣ⋅Ξ  - Δᵣ⋅a ⋅sin (θ) - Δₜₕₑₜₐ⋅Ω ⋅\\tilde{r} ⋅sin (θ) -\n",
       "──────────────────────────────────────────────────────────────────────────────\n",
       "                                                                              \n",
       "                                                                              \n",
       "\n",
       "______________________________________________________________________________\n",
       "                                                                              \n",
       "           2          2  2    2              2  4    2                        \n",
       " 2⋅Δₜₕₑₜₐ⋅Ω ⋅\\tilde{r} ⋅a ⋅sin (θ) - Δₜₕₑₜₐ⋅Ω ⋅a ⋅sin (θ) + 2⋅Δₜₕₑₜₐ⋅Ω⋅Ξ⋅\\tild\n",
       "──────────────────────────────────────────────────────────────────────────────\n",
       "                                      2                                       \n",
       "                                 2⋅W⋅Ξ                                        \n",
       "\n",
       "______________________________________________________________________________\n",
       "                                                                              \n",
       "    2      2                    3    2              2  2    2                 \n",
       "e{r} ⋅a⋅sin (θ) + 2⋅Δₜₕₑₜₐ⋅Ω⋅Ξ⋅a ⋅sin (θ) - Δₜₕₑₜₐ⋅Ξ ⋅a ⋅sin (θ) + Δₜₕₑₜₐ⋅\\til\n",
       "──────────────────────────────────────────────────────────────────────────────\n",
       "                                                                              \n",
       "                                                                              \n",
       "\n",
       "______________________________________________________________________        \n",
       "                                                                    2         \n",
       "     4    2                        2  2    2              4    2   ⎞         2\n",
       "de{r} ⋅sin (θ) + 2⋅Δₜₕₑₜₐ⋅\\tilde{r} ⋅a ⋅sin (θ) + Δₜₕₑₜₐ⋅a ⋅sin (θ)⎠     Δᵣ⋅Ω \n",
       "────────────────────────────────────────────────────────────────────── + ─────\n",
       "                                                                              \n",
       "                                                                              \n",
       "\n",
       "                                                                              \n",
       "                                                                              \n",
       "  2    4                    2          2       2    4              2          \n",
       "⋅a ⋅sin (θ) - 2⋅Δᵣ⋅Ω⋅Ξ⋅a⋅sin (θ) + Δᵣ⋅Ξ  - Δᵣ⋅a ⋅sin (θ) - Δₜₕₑₜₐ⋅Ω ⋅\\tilde{r}\n",
       "──────────────────────────────────────────────────────────────────────────────\n",
       "                                                                              \n",
       "                                                                              \n",
       "\n",
       "                                                                              \n",
       "                                                                              \n",
       "4    2                2          2  2    2              2  4    2             \n",
       " ⋅sin (θ) - 2⋅Δₜₕₑₜₐ⋅Ω ⋅\\tilde{r} ⋅a ⋅sin (θ) - Δₜₕₑₜₐ⋅Ω ⋅a ⋅sin (θ) + 2⋅Δₜₕₑₜ\n",
       "──────────────────────────────────────────────────────────────────────────────\n",
       "                                                                              \n",
       "                                                                         2⋅W⋅Ξ\n",
       "\n",
       "                                                                              \n",
       "                                                                              \n",
       "               2      2                    3    2              2  2    2      \n",
       "ₐ⋅Ω⋅Ξ⋅\\tilde{r} ⋅a⋅sin (θ) + 2⋅Δₜₕₑₜₐ⋅Ω⋅Ξ⋅a ⋅sin (θ) - Δₜₕₑₜₐ⋅Ξ ⋅a ⋅sin (θ) + \n",
       "──────────────────────────────────────────────────────────────────────────────\n",
       "2                                                                             \n",
       "                                                                              \n",
       "\n",
       "                                                                              \n",
       "                                                                              \n",
       "                4    2                        2  2    2              4    2   \n",
       "Δₜₕₑₜₐ⋅\\tilde{r} ⋅sin (θ) + 2⋅Δₜₕₑₜₐ⋅\\tilde{r} ⋅a ⋅sin (θ) + Δₜₕₑₜₐ⋅a ⋅sin (θ)\n",
       "──────────────────────────────────────────────────────────────────────────────\n",
       "                                                                              \n",
       "                                                                              "
      ]
     },
     "execution_count": 27,
     "metadata": {},
     "output_type": "execute_result"
    }
   ],
   "source": [
    "list(eigs_2.keys())[0]"
   ]
  },
  {
   "cell_type": "code",
   "execution_count": 29,
   "metadata": {},
   "outputs": [
    {
     "data": {
      "image/png": "[encoded data removed]",
      "text/latex": [
       "$\\displaystyle \\frac{W \\left(- \\sqrt{\\left(\\tilde{r}^{2} + a^{2} \\cos^{2}{\\left(\\theta \\right)}\\right)^{4} \\left(- 4 \\Delta_{r} \\Delta_{\\theta} \\Xi^{2} \\left(\\tilde{r}^{2} + a^{2} \\cos^{2}{\\left(\\theta \\right)}\\right)^{2} \\sin^{2}{\\left(\\theta \\right)} + \\left(\\Delta_{r} \\Omega^{2} a^{2} \\sin^{4}{\\left(\\theta \\right)} - 2 \\Delta_{r} \\Omega \\Xi a \\sin^{2}{\\left(\\theta \\right)} + \\Delta_{r} \\Xi^{2} - \\Delta_{r} a^{2} \\sin^{4}{\\left(\\theta \\right)} - \\Delta_{\\theta} \\Omega^{2} \\tilde{r}^{4} \\sin^{2}{\\left(\\theta \\right)} - 2 \\Delta_{\\theta} \\Omega^{2} \\tilde{r}^{2} a^{2} \\sin^{2}{\\left(\\theta \\right)} - \\Delta_{\\theta} \\Omega^{2} a^{4} \\sin^{2}{\\left(\\theta \\right)} + 2 \\Delta_{\\theta} \\Omega \\Xi \\tilde{r}^{2} a \\sin^{2}{\\left(\\theta \\right)} + 2 \\Delta_{\\theta} \\Omega \\Xi a^{3} \\sin^{2}{\\left(\\theta \\right)} - \\Delta_{\\theta} \\Xi^{2} a^{2} \\sin^{2}{\\left(\\theta \\right)} + \\Delta_{\\theta} \\tilde{r}^{4} \\sin^{2}{\\left(\\theta \\right)} + 2 \\Delta_{\\theta} \\tilde{r}^{2} a^{2} \\sin^{2}{\\left(\\theta \\right)} + \\Delta_{\\theta} a^{4} \\sin^{2}{\\left(\\theta \\right)}\\right)^{2}\\right)} + \\left(\\tilde{r}^{2} + a^{2} \\cos^{2}{\\left(\\theta \\right)}\\right)^{2} \\left(\\Delta_{r} \\Xi^{2} + \\left(\\Delta_{r} \\Omega^{2} a^{2} \\sin^{2}{\\left(\\theta \\right)} - 2 \\Delta_{r} \\Omega \\Xi a - \\Delta_{r} a^{2} \\sin^{2}{\\left(\\theta \\right)} - \\Delta_{\\theta} \\Omega^{2} \\tilde{r}^{4} - 2 \\Delta_{\\theta} \\Omega^{2} \\tilde{r}^{2} a^{2} - \\Delta_{\\theta} \\Omega^{2} a^{4} + 2 \\Delta_{\\theta} \\Omega \\Xi \\tilde{r}^{2} a + 2 \\Delta_{\\theta} \\Omega \\Xi a^{3} - \\Delta_{\\theta} \\Xi^{2} a^{2} + \\Delta_{\\theta} \\tilde{r}^{4} + 2 \\Delta_{\\theta} \\tilde{r}^{2} a^{2} + \\Delta_{\\theta} a^{4}\\right) \\sin^{2}{\\left(\\theta \\right)}\\right)\\right)}{2 \\Delta_{r} \\Delta_{\\theta} \\left(\\tilde{r}^{2} + a^{2} \\cos^{2}{\\left(\\theta \\right)}\\right)^{4} \\sin^{2}{\\left(\\theta \\right)}}$"
      ],
      "text/plain": [
       "  ⎛      _____________________________________________________________________\n",
       "  ⎜     ╱                          4 ⎛                                        \n",
       "  ⎜    ╱  ⎛         2    2    2   ⎞  ⎜               2 ⎛         2    2    2  \n",
       "W⋅⎝- ╲╱   ⎝\\tilde{r}  + a ⋅cos (θ)⎠ ⋅⎝- 4⋅Δᵣ⋅Δₜₕₑₜₐ⋅Ξ ⋅⎝\\tilde{r}  + a ⋅cos (θ\n",
       "──────────────────────────────────────────────────────────────────────────────\n",
       "                                                                              \n",
       "                                                                              \n",
       "                                                                              \n",
       "\n",
       "______________________________________________________________________________\n",
       "  2                                                                           \n",
       " ⎞     2      ⎛    2  2    4                    2          2       2    4     \n",
       ")⎠ ⋅sin (θ) + ⎝Δᵣ⋅Ω ⋅a ⋅sin (θ) - 2⋅Δᵣ⋅Ω⋅Ξ⋅a⋅sin (θ) + Δᵣ⋅Ξ  - Δᵣ⋅a ⋅sin (θ) -\n",
       "──────────────────────────────────────────────────────────────────────────────\n",
       "                                                                              \n",
       "                                                                              \n",
       "                                                                              \n",
       "\n",
       "______________________________________________________________________________\n",
       "                                                                              \n",
       "         2          4    2                2          2  2    2              2 \n",
       " Δₜₕₑₜₐ⋅Ω ⋅\\tilde{r} ⋅sin (θ) - 2⋅Δₜₕₑₜₐ⋅Ω ⋅\\tilde{r} ⋅a ⋅sin (θ) - Δₜₕₑₜₐ⋅Ω ⋅\n",
       "──────────────────────────────────────────────────────────────────────────────\n",
       "                                                                              \n",
       "                                                                              \n",
       "                                                                              \n",
       "\n",
       "______________________________________________________________________________\n",
       "                                                                              \n",
       " 4    2                            2      2                    3    2         \n",
       "a ⋅sin (θ) + 2⋅Δₜₕₑₜₐ⋅Ω⋅Ξ⋅\\tilde{r} ⋅a⋅sin (θ) + 2⋅Δₜₕₑₜₐ⋅Ω⋅Ξ⋅a ⋅sin (θ) - Δₜₕ\n",
       "──────────────────────────────────────────────────────────────────────────────\n",
       "                                                                              \n",
       "                                                                              \n",
       "                                                                              \n",
       "\n",
       "______________________________________________________________________________\n",
       "                                                                              \n",
       "     2  2    2                      4    2                        2  2    2   \n",
       "ₑₜₐ⋅Ξ ⋅a ⋅sin (θ) + Δₜₕₑₜₐ⋅\\tilde{r} ⋅sin (θ) + 2⋅Δₜₕₑₜₐ⋅\\tilde{r} ⋅a ⋅sin (θ)\n",
       "──────────────────────────────────────────────────────────────────────────────\n",
       "                                                 4                            \n",
       "                        ⎛         2    2    2   ⎞     2                       \n",
       "            2⋅Δᵣ⋅Δₜₕₑₜₐ⋅⎝\\tilde{r}  + a ⋅cos (θ)⎠ ⋅sin (θ)                    \n",
       "\n",
       "________________________                                                      \n",
       "                     2⎞                             2                         \n",
       "           4    2   ⎞ ⎟    ⎛         2    2    2   ⎞  ⎛    2   ⎛    2  2    2 \n",
       " + Δₜₕₑₜₐ⋅a ⋅sin (θ)⎠ ⎠  + ⎝\\tilde{r}  + a ⋅cos (θ)⎠ ⋅⎝Δᵣ⋅Ξ  + ⎝Δᵣ⋅Ω ⋅a ⋅sin (\n",
       "──────────────────────────────────────────────────────────────────────────────\n",
       "                                                                              \n",
       "                                                                              \n",
       "                                                                              \n",
       "\n",
       "                                                                              \n",
       "                                                                              \n",
       "                      2    2              2          4             2          \n",
       "θ) - 2⋅Δᵣ⋅Ω⋅Ξ⋅a - Δᵣ⋅a ⋅sin (θ) - Δₜₕₑₜₐ⋅Ω ⋅\\tilde{r}  - 2⋅Δₜₕₑₜₐ⋅Ω ⋅\\tilde{r}\n",
       "──────────────────────────────────────────────────────────────────────────────\n",
       "                                                                              \n",
       "                                                                              \n",
       "                                                                              \n",
       "\n",
       "                                                                              \n",
       "                                                                              \n",
       "2  2           2  4                         2                   3           2 \n",
       " ⋅a  - Δₜₕₑₜₐ⋅Ω ⋅a  + 2⋅Δₜₕₑₜₐ⋅Ω⋅Ξ⋅\\tilde{r} ⋅a + 2⋅Δₜₕₑₜₐ⋅Ω⋅Ξ⋅a  - Δₜₕₑₜₐ⋅Ξ ⋅\n",
       "──────────────────────────────────────────────────────────────────────────────\n",
       "                                                                              \n",
       "                                                                              \n",
       "                                                                              \n",
       "\n",
       "                                                                     ⎞\n",
       "                                                                     ⎟\n",
       " 2                   4                     2  2           4⎞    2   ⎞⎟\n",
       "a  + Δₜₕₑₜₐ⋅\\tilde{r}  + 2⋅Δₜₕₑₜₐ⋅\\tilde{r} ⋅a  + Δₜₕₑₜₐ⋅a ⎠⋅sin (θ)⎠⎠\n",
       "──────────────────────────────────────────────────────────────────────\n",
       "                                                                      \n",
       "                                                                      \n",
       "                                                                      "
      ]
     },
     "execution_count": 29,
     "metadata": {},
     "output_type": "execute_result"
    }
   ],
   "source": [
    "list(eigs.keys())[0].simplify()"
   ]
  },
  {
   "cell_type": "code",
   "execution_count": 31,
   "metadata": {},
   "outputs": [
    {
     "data": {
      "image/png": "[encoded data removed]",
      "text/latex": [
       "$\\displaystyle \\frac{\\Delta_{r}}{W}$"
      ],
      "text/plain": [
       "Δᵣ\n",
       "──\n",
       "W "
      ]
     },
     "execution_count": 31,
     "metadata": {},
     "output_type": "execute_result"
    }
   ],
   "source": [
    "list(eigs.keys())[2]"
   ]
  }
 ],
 "metadata": {
  "kernelspec": {
   "display_name": "env",
   "language": "python",
   "name": "python3"
  },
  "language_info": {
   "codemirror_mode": {
    "name": "ipython",
    "version": 3
   },
   "file_extension": ".py",
   "mimetype": "text/x-python",
   "name": "python",
   "nbconvert_exporter": "python",
   "pygments_lexer": "ipython3",
   "version": "3.10.3"
  },
  "orig_nbformat": 4
 },
 "nbformat": 4,
 "nbformat_minor": 2
}
