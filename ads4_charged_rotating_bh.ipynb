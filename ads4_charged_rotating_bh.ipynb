{
 "cells": [
  {
   "cell_type": "code",
   "execution_count": 1,
   "metadata": {},
   "outputs": [],
   "source": [
    "import sympy\n",
    "\n",
    "sympy.init_printing()"
   ]
  },
  {
   "attachments": {},
   "cell_type": "markdown",
   "metadata": {},
   "source": [
    "### Variable Definitions"
   ]
  },
  {
   "cell_type": "code",
   "execution_count": 2,
   "metadata": {},
   "outputs": [],
   "source": [
    "t, r, theta, phi, phi_tilde = sympy.symbols(\"t r theta phi \\\\tilde{\\phi}\")"
   ]
  },
  {
   "cell_type": "code",
   "execution_count": 3,
   "metadata": {},
   "outputs": [],
   "source": [
    "dt, dr, dtheta, dphi, dphi_tilde = sympy.symbols(r\"dt dr d\\theta d\\phi d\\tilde{\\phi}\")"
   ]
  },
  {
   "cell_type": "code",
   "execution_count": 4,
   "metadata": {},
   "outputs": [],
   "source": [
    "a, delta, m, alpha = sympy.symbols(\"a delta m alpha\")"
   ]
  },
  {
   "cell_type": "code",
   "execution_count": 5,
   "metadata": {},
   "outputs": [],
   "source": [
    "r_tilde, delta_r, delta_theta, W, xi = sympy.symbols(\"\\\\tilde{r} Delta_r Delta_theta W Xi\")"
   ]
  },
  {
   "attachments": {},
   "cell_type": "markdown",
   "metadata": {},
   "source": [
    "### Metric"
   ]
  },
  {
   "cell_type": "code",
   "execution_count": 6,
   "metadata": {},
   "outputs": [],
   "source": [
    "metric_orig = -delta_r / W * (dt - a * sympy.sin(theta) ** 2 * dphi / xi) ** 2\n",
    "metric_orig += delta_theta * sympy.sin(theta) ** 2 / W * (a * dt - (r_tilde ** 2 + a ** 2) * dphi / xi) ** 2"
   ]
  },
  {
   "cell_type": "code",
   "execution_count": 7,
   "metadata": {},
   "outputs": [
    {
     "data": {
      "image/png": "[encoded data removed]",
      "text/latex": [
       "$\\displaystyle - \\frac{\\Delta_{r} \\left(dt - \\frac{a d\\phi \\sin^{2}{\\left(\\theta \\right)}}{\\Xi}\\right)^{2}}{W} + \\frac{\\Delta_{\\theta} \\left(a dt - \\frac{d\\phi \\left(\\tilde{r}^{2} + a^{2}\\right)}{\\Xi}\\right)^{2} \\sin^{2}{\\left(\\theta \\right)}}{W}$"
      ],
      "text/plain": [
       "                           2                                          2       \n",
       "     ⎛                2   ⎞           ⎛             ⎛         2    2⎞⎞        \n",
       "     ⎜     a⋅d\\phi⋅sin (θ)⎟           ⎜       d\\phi⋅⎝\\tilde{r}  + a ⎠⎟     2  \n",
       "  Δᵣ⋅⎜dt - ───────────────⎟    Δₜₕₑₜₐ⋅⎜a⋅dt - ───────────────────────⎟ ⋅sin (θ\n",
       "     ⎝            Ξ       ⎠           ⎝                  Ξ           ⎠        \n",
       "- ────────────────────────── + ───────────────────────────────────────────────\n",
       "              W                                       W                       \n",
       "\n",
       " \n",
       " \n",
       " \n",
       ")\n",
       " \n",
       "─\n",
       " "
      ]
     },
     "execution_count": 7,
     "metadata": {},
     "output_type": "execute_result"
    }
   ],
   "source": [
    "metric_orig"
   ]
  },
  {
   "attachments": {},
   "cell_type": "markdown",
   "metadata": {},
   "source": [
    "Make change of variables."
   ]
  },
  {
   "cell_type": "code",
   "execution_count": 8,
   "metadata": {},
   "outputs": [],
   "source": [
    "omega = sympy.symbols(\"Omega\")\n",
    "dphi_val = dphi_tilde - omega * dt"
   ]
  },
  {
   "cell_type": "code",
   "execution_count": 9,
   "metadata": {},
   "outputs": [
    {
     "data": {
      "image/png": "[encoded data removed]",
      "text/latex": [
       "$\\displaystyle - \\Omega dt + d\\tilde{\\phi}$"
      ],
      "text/plain": [
       "-Ω⋅dt + d\\tilde{\\phi}"
      ]
     },
     "execution_count": 9,
     "metadata": {},
     "output_type": "execute_result"
    }
   ],
   "source": [
    "dphi_val"
   ]
  },
  {
   "cell_type": "code",
   "execution_count": 10,
   "metadata": {},
   "outputs": [
    {
     "data": {
      "image/png": "[encoded data removed]",
      "text/latex": [
       "$\\displaystyle - \\frac{\\Delta_{r} \\Omega^{2} a^{2} dt^{2} \\sin^{4}{\\left(\\theta \\right)}}{W \\Xi^{2}} - \\frac{2 \\Delta_{r} \\Omega a dt^{2} \\sin^{2}{\\left(\\theta \\right)}}{W \\Xi} + \\frac{2 \\Delta_{r} \\Omega a^{2} d\\tilde{\\phi} dt \\sin^{4}{\\left(\\theta \\right)}}{W \\Xi^{2}} - \\frac{\\Delta_{r} dt^{2}}{W} + \\frac{2 \\Delta_{r} a d\\tilde{\\phi} dt \\sin^{2}{\\left(\\theta \\right)}}{W \\Xi} - \\frac{\\Delta_{r} a^{2} d\\tilde{\\phi}^{2} \\sin^{4}{\\left(\\theta \\right)}}{W \\Xi^{2}} + \\frac{\\Delta_{\\theta} \\Omega^{2} \\tilde{r}^{4} dt^{2} \\sin^{2}{\\left(\\theta \\right)}}{W \\Xi^{2}} + \\frac{2 \\Delta_{\\theta} \\Omega^{2} \\tilde{r}^{2} a^{2} dt^{2} \\sin^{2}{\\left(\\theta \\right)}}{W \\Xi^{2}} + \\frac{\\Delta_{\\theta} \\Omega^{2} a^{4} dt^{2} \\sin^{2}{\\left(\\theta \\right)}}{W \\Xi^{2}} + \\frac{2 \\Delta_{\\theta} \\Omega \\tilde{r}^{2} a dt^{2} \\sin^{2}{\\left(\\theta \\right)}}{W \\Xi} + \\frac{2 \\Delta_{\\theta} \\Omega a^{3} dt^{2} \\sin^{2}{\\left(\\theta \\right)}}{W \\Xi} - \\frac{2 \\Delta_{\\theta} \\Omega \\tilde{r}^{4} d\\tilde{\\phi} dt \\sin^{2}{\\left(\\theta \\right)}}{W \\Xi^{2}} - \\frac{4 \\Delta_{\\theta} \\Omega \\tilde{r}^{2} a^{2} d\\tilde{\\phi} dt \\sin^{2}{\\left(\\theta \\right)}}{W \\Xi^{2}} - \\frac{2 \\Delta_{\\theta} \\Omega a^{4} d\\tilde{\\phi} dt \\sin^{2}{\\left(\\theta \\right)}}{W \\Xi^{2}} + \\frac{\\Delta_{\\theta} a^{2} dt^{2} \\sin^{2}{\\left(\\theta \\right)}}{W} - \\frac{2 \\Delta_{\\theta} \\tilde{r}^{2} a d\\tilde{\\phi} dt \\sin^{2}{\\left(\\theta \\right)}}{W \\Xi} - \\frac{2 \\Delta_{\\theta} a^{3} d\\tilde{\\phi} dt \\sin^{2}{\\left(\\theta \\right)}}{W \\Xi} + \\frac{\\Delta_{\\theta} \\tilde{r}^{4} d\\tilde{\\phi}^{2} \\sin^{2}{\\left(\\theta \\right)}}{W \\Xi^{2}} + \\frac{2 \\Delta_{\\theta} \\tilde{r}^{2} a^{2} d\\tilde{\\phi}^{2} \\sin^{2}{\\left(\\theta \\right)}}{W \\Xi^{2}} + \\frac{\\Delta_{\\theta} a^{4} d\\tilde{\\phi}^{2} \\sin^{2}{\\left(\\theta \\right)}}{W \\Xi^{2}}$"
      ],
      "text/plain": [
       "      2  2   2    4                 2    2              2                     \n",
       "  Δᵣ⋅Ω ⋅a ⋅dt ⋅sin (θ)   2⋅Δᵣ⋅Ω⋅a⋅dt ⋅sin (θ)   2⋅Δᵣ⋅Ω⋅a ⋅d\\tilde{\\phi}⋅dt⋅sin\n",
       "- ──────────────────── - ──────────────────── + ──────────────────────────────\n",
       "             2                   W⋅Ξ                              2           \n",
       "          W⋅Ξ                                                  W⋅Ξ            \n",
       "\n",
       "4           2                              2          2              2    4   \n",
       " (θ)   Δᵣ⋅dt    2⋅Δᵣ⋅a⋅d\\tilde{\\phi}⋅dt⋅sin (θ)   Δᵣ⋅a ⋅d\\tilde{\\phi} ⋅sin (θ)\n",
       "──── - ────── + ─────────────────────────────── - ────────────────────────────\n",
       "         W                    W⋅Ξ                                2            \n",
       "                                                              W⋅Ξ             \n",
       "\n",
       "           2          4   2    2                2          2  2   2    2      \n",
       "   Δₜₕₑₜₐ⋅Ω ⋅\\tilde{r} ⋅dt ⋅sin (θ)   2⋅Δₜₕₑₜₐ⋅Ω ⋅\\tilde{r} ⋅a ⋅dt ⋅sin (θ)   \n",
       " + ──────────────────────────────── + ───────────────────────────────────── + \n",
       "                    2                                     2                   \n",
       "                 W⋅Ξ                                   W⋅Ξ                    \n",
       "\n",
       "        2  4   2    2                          2     2    2                  3\n",
       "Δₜₕₑₜₐ⋅Ω ⋅a ⋅dt ⋅sin (θ)   2⋅Δₜₕₑₜₐ⋅Ω⋅\\tilde{r} ⋅a⋅dt ⋅sin (θ)   2⋅Δₜₕₑₜₐ⋅Ω⋅a \n",
       "──────────────────────── + ─────────────────────────────────── + ─────────────\n",
       "             2                             W⋅Ξ                              W⋅\n",
       "          W⋅Ξ                                                                 \n",
       "\n",
       "   2    2                          4                     2                    \n",
       "⋅dt ⋅sin (θ)   2⋅Δₜₕₑₜₐ⋅Ω⋅\\tilde{r} ⋅d\\tilde{\\phi}⋅dt⋅sin (θ)   4⋅Δₜₕₑₜₐ⋅Ω⋅\\ti\n",
       "──────────── - ────────────────────────────────────────────── - ──────────────\n",
       "Ξ                                      2                                      \n",
       "                                    W⋅Ξ                                       \n",
       "\n",
       "      2  2                     2                  4                     2     \n",
       "lde{r} ⋅a ⋅d\\tilde{\\phi}⋅dt⋅sin (θ)   2⋅Δₜₕₑₜₐ⋅Ω⋅a ⋅d\\tilde{\\phi}⋅dt⋅sin (θ)  \n",
       "─────────────────────────────────── - ────────────────────────────────────── +\n",
       "            2                                             2                   \n",
       "         W⋅Ξ                                           W⋅Ξ                    \n",
       "\n",
       "         2   2    2                        2                       2          \n",
       " Δₜₕₑₜₐ⋅a ⋅dt ⋅sin (θ)   2⋅Δₜₕₑₜₐ⋅\\tilde{r} ⋅a⋅d\\tilde{\\phi}⋅dt⋅sin (θ)   2⋅Δₜ\n",
       " ───────────────────── - ────────────────────────────────────────────── - ────\n",
       "           W                                  W⋅Ξ                             \n",
       "                                                                              \n",
       "\n",
       "      3                     2                      4              2    2      \n",
       "ₕₑₜₐ⋅a ⋅d\\tilde{\\phi}⋅dt⋅sin (θ)   Δₜₕₑₜₐ⋅\\tilde{r} ⋅d\\tilde{\\phi} ⋅sin (θ)   \n",
       "──────────────────────────────── + ──────────────────────────────────────── + \n",
       "            W⋅Ξ                                         2                     \n",
       "                                                     W⋅Ξ                      \n",
       "\n",
       "                  2  2              2    2              4              2    2 \n",
       "2⋅Δₜₕₑₜₐ⋅\\tilde{r} ⋅a ⋅d\\tilde{\\phi} ⋅sin (θ)   Δₜₕₑₜₐ⋅a ⋅d\\tilde{\\phi} ⋅sin (\n",
       "───────────────────────────────────────────── + ──────────────────────────────\n",
       "                        2                                        2            \n",
       "                     W⋅Ξ                                      W⋅Ξ             \n",
       "\n",
       "  \n",
       "θ)\n",
       "──\n",
       "  \n",
       "  "
      ]
     },
     "execution_count": 10,
     "metadata": {},
     "output_type": "execute_result"
    }
   ],
   "source": [
    "metric = metric_orig.subs({dphi: dphi_val}).expand()\n",
    "metric"
   ]
  },
  {
   "attachments": {},
   "cell_type": "markdown",
   "metadata": {},
   "source": [
    "### Timelike Killing Vector Field"
   ]
  },
  {
   "cell_type": "code",
   "execution_count": 11,
   "metadata": {},
   "outputs": [
    {
     "data": {
      "image/png": "[encoded data removed]",
      "text/latex": [
       "$\\displaystyle \\frac{\\Omega^{2} \\left(- \\Delta_{r} a^{2} \\sin^{2}{\\left(\\theta \\right)} + \\Delta_{\\theta} \\tilde{r}^{4} + 2 \\Delta_{\\theta} \\tilde{r}^{2} a^{2} + \\Delta_{\\theta} a^{4}\\right) \\sin^{2}{\\left(\\theta \\right)} + 2 \\Omega \\Xi a \\left(- \\Delta_{r} + \\Delta_{\\theta} \\tilde{r}^{2} + \\Delta_{\\theta} a^{2}\\right) \\sin^{2}{\\left(\\theta \\right)} + \\Xi^{2} \\left(- \\Delta_{r} + \\Delta_{\\theta} a^{2} \\sin^{2}{\\left(\\theta \\right)}\\right)}{W \\Xi^{2}}$"
      ],
      "text/plain": [
       " 2 ⎛      2    2                      4                     2  2           4⎞ \n",
       "Ω ⋅⎝- Δᵣ⋅a ⋅sin (θ) + Δₜₕₑₜₐ⋅\\tilde{r}  + 2⋅Δₜₕₑₜₐ⋅\\tilde{r} ⋅a  + Δₜₕₑₜₐ⋅a ⎠⋅\n",
       "──────────────────────────────────────────────────────────────────────────────\n",
       "                                                                              \n",
       "                                                                              \n",
       "\n",
       "   2              ⎛                      2           2⎞    2       2 ⎛        \n",
       "sin (θ) + 2⋅Ω⋅Ξ⋅a⋅⎝-Δᵣ + Δₜₕₑₜₐ⋅\\tilde{r}  + Δₜₕₑₜₐ⋅a ⎠⋅sin (θ) + Ξ ⋅⎝-Δᵣ + Δₜ\n",
       "──────────────────────────────────────────────────────────────────────────────\n",
       "         2                                                                    \n",
       "      W⋅Ξ                                                                     \n",
       "\n",
       "      2    2   ⎞\n",
       "ₕₑₜₐ⋅a ⋅sin (θ)⎠\n",
       "────────────────\n",
       "                \n",
       "                "
      ]
     },
     "execution_count": 11,
     "metadata": {},
     "output_type": "execute_result"
    }
   ],
   "source": [
    "g_tt = metric.coeff(dt * dt).simplify()\n",
    "g_tt"
   ]
  },
  {
   "attachments": {},
   "cell_type": "markdown",
   "metadata": {},
   "source": [
    "For there to be a timelike Killing vector field outside the horizon, this quantity must be less than zero:"
   ]
  },
  {
   "cell_type": "code",
   "execution_count": 12,
   "metadata": {},
   "outputs": [
    {
     "data": {
      "image/png": "[encoded data removed]",
      "text/latex": [
       "$\\displaystyle \\Omega^{2} \\left(- \\Delta_{r} a^{2} \\sin^{2}{\\left(\\theta \\right)} + \\Delta_{\\theta} \\tilde{r}^{4} + 2 \\Delta_{\\theta} \\tilde{r}^{2} a^{2} + \\Delta_{\\theta} a^{4}\\right) \\sin^{2}{\\left(\\theta \\right)} + 2 \\Omega \\Xi a \\left(- \\Delta_{r} + \\Delta_{\\theta} \\tilde{r}^{2} + \\Delta_{\\theta} a^{2}\\right) \\sin^{2}{\\left(\\theta \\right)} + \\Xi^{2} \\left(- \\Delta_{r} + \\Delta_{\\theta} a^{2} \\sin^{2}{\\left(\\theta \\right)}\\right)$"
      ],
      "text/plain": [
       " 2 ⎛      2    2                      4                     2  2           4⎞ \n",
       "Ω ⋅⎝- Δᵣ⋅a ⋅sin (θ) + Δₜₕₑₜₐ⋅\\tilde{r}  + 2⋅Δₜₕₑₜₐ⋅\\tilde{r} ⋅a  + Δₜₕₑₜₐ⋅a ⎠⋅\n",
       "\n",
       "   2              ⎛                      2           2⎞    2       2 ⎛        \n",
       "sin (θ) + 2⋅Ω⋅Ξ⋅a⋅⎝-Δᵣ + Δₜₕₑₜₐ⋅\\tilde{r}  + Δₜₕₑₜₐ⋅a ⎠⋅sin (θ) + Ξ ⋅⎝-Δᵣ + Δₜ\n",
       "\n",
       "      2    2   ⎞\n",
       "ₕₑₜₐ⋅a ⋅sin (θ)⎠"
      ]
     },
     "execution_count": 12,
     "metadata": {},
     "output_type": "execute_result"
    }
   ],
   "source": [
    "sympy.fraction(g_tt)[0].simplify()"
   ]
  },
  {
   "attachments": {},
   "cell_type": "markdown",
   "metadata": {},
   "source": [
    "### Allowable Metric"
   ]
  },
  {
   "cell_type": "code",
   "execution_count": 13,
   "metadata": {},
   "outputs": [],
   "source": [
    "tau, dtau = sympy.symbols(\"tau d\\\\tau\")"
   ]
  },
  {
   "cell_type": "code",
   "execution_count": 14,
   "metadata": {},
   "outputs": [],
   "source": [
    "dt_val = sympy.I * dtau"
   ]
  },
  {
   "cell_type": "code",
   "execution_count": 15,
   "metadata": {},
   "outputs": [
    {
     "data": {
      "image/png": "[encoded data removed]",
      "text/latex": [
       "$\\displaystyle d\\tau^{2} \\left(\\frac{\\Delta_{r} \\Omega^{2} a^{2} \\sin^{4}{\\left(\\theta \\right)}}{W \\Xi^{2}} + \\frac{2 \\Delta_{r} \\Omega a \\sin^{2}{\\left(\\theta \\right)}}{W \\Xi} + \\frac{\\Delta_{r}}{W} - \\frac{\\Delta_{\\theta} \\Omega^{2} \\tilde{r}^{4} \\sin^{2}{\\left(\\theta \\right)}}{W \\Xi^{2}} - \\frac{2 \\Delta_{\\theta} \\Omega^{2} \\tilde{r}^{2} a^{2} \\sin^{2}{\\left(\\theta \\right)}}{W \\Xi^{2}} - \\frac{\\Delta_{\\theta} \\Omega^{2} a^{4} \\sin^{2}{\\left(\\theta \\right)}}{W \\Xi^{2}} - \\frac{2 \\Delta_{\\theta} \\Omega \\tilde{r}^{2} a \\sin^{2}{\\left(\\theta \\right)}}{W \\Xi} - \\frac{2 \\Delta_{\\theta} \\Omega a^{3} \\sin^{2}{\\left(\\theta \\right)}}{W \\Xi} - \\frac{\\Delta_{\\theta} a^{2} \\sin^{2}{\\left(\\theta \\right)}}{W}\\right) + d\\tau d\\tilde{\\phi} \\left(\\frac{2 i \\Delta_{r} \\Omega a^{2} \\sin^{4}{\\left(\\theta \\right)}}{W \\Xi^{2}} + \\frac{2 i \\Delta_{r} a \\sin^{2}{\\left(\\theta \\right)}}{W \\Xi} - \\frac{2 i \\Delta_{\\theta} \\Omega \\tilde{r}^{4} \\sin^{2}{\\left(\\theta \\right)}}{W \\Xi^{2}} - \\frac{4 i \\Delta_{\\theta} \\Omega \\tilde{r}^{2} a^{2} \\sin^{2}{\\left(\\theta \\right)}}{W \\Xi^{2}} - \\frac{2 i \\Delta_{\\theta} \\Omega a^{4} \\sin^{2}{\\left(\\theta \\right)}}{W \\Xi^{2}} - \\frac{2 i \\Delta_{\\theta} \\tilde{r}^{2} a \\sin^{2}{\\left(\\theta \\right)}}{W \\Xi} - \\frac{2 i \\Delta_{\\theta} a^{3} \\sin^{2}{\\left(\\theta \\right)}}{W \\Xi}\\right) + d\\tilde{\\phi}^{2} \\left(- \\frac{\\Delta_{r} a^{2} \\sin^{4}{\\left(\\theta \\right)}}{W \\Xi^{2}} + \\frac{\\Delta_{\\theta} \\tilde{r}^{4} \\sin^{2}{\\left(\\theta \\right)}}{W \\Xi^{2}} + \\frac{2 \\Delta_{\\theta} \\tilde{r}^{2} a^{2} \\sin^{2}{\\left(\\theta \\right)}}{W \\Xi^{2}} + \\frac{\\Delta_{\\theta} a^{4} \\sin^{2}{\\left(\\theta \\right)}}{W \\Xi^{2}}\\right)$"
      ],
      "text/plain": [
       "       ⎛    2  2    4                  2                   2          4    2  \n",
       "     2 ⎜Δᵣ⋅Ω ⋅a ⋅sin (θ)   2⋅Δᵣ⋅Ω⋅a⋅sin (θ)   Δᵣ   Δₜₕₑₜₐ⋅Ω ⋅\\tilde{r} ⋅sin (θ\n",
       "d\\tau ⋅⎜──────────────── + ──────────────── + ── - ───────────────────────────\n",
       "       ⎜         2               W⋅Ξ          W                   2           \n",
       "       ⎝      W⋅Ξ                                              W⋅Ξ            \n",
       "\n",
       "              2          2  2    2              2  4    2                     \n",
       ")   2⋅Δₜₕₑₜₐ⋅Ω ⋅\\tilde{r} ⋅a ⋅sin (θ)   Δₜₕₑₜₐ⋅Ω ⋅a ⋅sin (θ)   2⋅Δₜₕₑₜₐ⋅Ω⋅\\til\n",
       "─ - ───────────────────────────────── - ──────────────────── - ───────────────\n",
       "                      2                            2                         W\n",
       "                   W⋅Ξ                          W⋅Ξ                           \n",
       "\n",
       "     2      2                  3    2              2    2   ⎞                 \n",
       "de{r} ⋅a⋅sin (θ)   2⋅Δₜₕₑₜₐ⋅Ω⋅a ⋅sin (θ)   Δₜₕₑₜₐ⋅a ⋅sin (θ)⎟                 \n",
       "──────────────── - ───────────────────── - ─────────────────⎟ + d\\tau⋅d\\tilde{\n",
       "⋅Ξ                          W⋅Ξ                    W        ⎟                 \n",
       "                                                            ⎠                 \n",
       "\n",
       "      ⎛          2    4                  2                            4    2  \n",
       "      ⎜2⋅ⅈ⋅Δᵣ⋅Ω⋅a ⋅sin (θ)   2⋅ⅈ⋅Δᵣ⋅a⋅sin (θ)   2⋅ⅈ⋅Δₜₕₑₜₐ⋅Ω⋅\\tilde{r} ⋅sin (θ\n",
       "\\phi}⋅⎜─────────────────── + ──────────────── - ──────────────────────────────\n",
       "      ⎜           2                W⋅Ξ                           2            \n",
       "      ⎝        W⋅Ξ                                            W⋅Ξ             \n",
       "\n",
       "                          2  2    2                    4    2                 \n",
       ")   4⋅ⅈ⋅Δₜₕₑₜₐ⋅Ω⋅\\tilde{r} ⋅a ⋅sin (θ)   2⋅ⅈ⋅Δₜₕₑₜₐ⋅Ω⋅a ⋅sin (θ)   2⋅ⅈ⋅Δₜₕₑₜₐ⋅\n",
       "─ - ────────────────────────────────── - ─────────────────────── - ───────────\n",
       "                      2                               2                       \n",
       "                   W⋅Ξ                             W⋅Ξ                        \n",
       "\n",
       "         2      2                  3    2   ⎞                  ⎛      2    4  \n",
       "\\tilde{r} ⋅a⋅sin (θ)   2⋅ⅈ⋅Δₜₕₑₜₐ⋅a ⋅sin (θ)⎟                2 ⎜  Δᵣ⋅a ⋅sin (θ\n",
       "──────────────────── - ─────────────────────⎟ + d\\tilde{\\phi} ⋅⎜- ────────────\n",
       "   W⋅Ξ                          W⋅Ξ         ⎟                  ⎜          2   \n",
       "                                            ⎠                  ⎝       W⋅Ξ    \n",
       "\n",
       "                    4    2                        2  2    2              4    \n",
       ")   Δₜₕₑₜₐ⋅\\tilde{r} ⋅sin (θ)   2⋅Δₜₕₑₜₐ⋅\\tilde{r} ⋅a ⋅sin (θ)   Δₜₕₑₜₐ⋅a ⋅sin\n",
       "─ + ───────────────────────── + ────────────────────────────── + ─────────────\n",
       "                  2                             2                          2  \n",
       "               W⋅Ξ                           W⋅Ξ                        W⋅Ξ   \n",
       "\n",
       "2   ⎞\n",
       " (θ)⎟\n",
       "────⎟\n",
       "    ⎟\n",
       "    ⎠"
      ]
     },
     "execution_count": 15,
     "metadata": {},
     "output_type": "execute_result"
    }
   ],
   "source": [
    "euclidean_metric = metric.subs({dt: dt_val}).collect([dtau ** 2, dtau * dphi_tilde, dphi_tilde ** 2])\n",
    "euclidean_metric"
   ]
  },
  {
   "cell_type": "code",
   "execution_count": 16,
   "metadata": {},
   "outputs": [
    {
     "data": {
      "image/png": "[encoded data removed]",
      "text/latex": [
       "$\\displaystyle \\frac{2 i \\Delta_{r} \\Omega a^{2} \\sin^{4}{\\left(\\theta \\right)}}{W \\Xi^{2}} + \\frac{2 i \\Delta_{r} a \\sin^{2}{\\left(\\theta \\right)}}{W \\Xi} - \\frac{2 i \\Delta_{\\theta} \\Omega \\tilde{r}^{4} \\sin^{2}{\\left(\\theta \\right)}}{W \\Xi^{2}} - \\frac{4 i \\Delta_{\\theta} \\Omega \\tilde{r}^{2} a^{2} \\sin^{2}{\\left(\\theta \\right)}}{W \\Xi^{2}} - \\frac{2 i \\Delta_{\\theta} \\Omega a^{4} \\sin^{2}{\\left(\\theta \\right)}}{W \\Xi^{2}} - \\frac{2 i \\Delta_{\\theta} \\tilde{r}^{2} a \\sin^{2}{\\left(\\theta \\right)}}{W \\Xi} - \\frac{2 i \\Delta_{\\theta} a^{3} \\sin^{2}{\\left(\\theta \\right)}}{W \\Xi}$"
      ],
      "text/plain": [
       "          2    4                  2                            4    2         \n",
       "2⋅ⅈ⋅Δᵣ⋅Ω⋅a ⋅sin (θ)   2⋅ⅈ⋅Δᵣ⋅a⋅sin (θ)   2⋅ⅈ⋅Δₜₕₑₜₐ⋅Ω⋅\\tilde{r} ⋅sin (θ)   4⋅ⅈ\n",
       "─────────────────── + ──────────────── - ─────────────────────────────── - ───\n",
       "           2                W⋅Ξ                           2                   \n",
       "        W⋅Ξ                                            W⋅Ξ                    \n",
       "\n",
       "                   2  2    2                    4    2                        \n",
       "⋅Δₜₕₑₜₐ⋅Ω⋅\\tilde{r} ⋅a ⋅sin (θ)   2⋅ⅈ⋅Δₜₕₑₜₐ⋅Ω⋅a ⋅sin (θ)   2⋅ⅈ⋅Δₜₕₑₜₐ⋅\\tilde{\n",
       "─────────────────────────────── - ─────────────────────── - ──────────────────\n",
       "               2                               2                          W⋅Ξ \n",
       "            W⋅Ξ                             W⋅Ξ                               \n",
       "\n",
       "  2      2                  3    2   \n",
       "r} ⋅a⋅sin (θ)   2⋅ⅈ⋅Δₜₕₑₜₐ⋅a ⋅sin (θ)\n",
       "───────────── - ─────────────────────\n",
       "                         W⋅Ξ         \n",
       "                                     "
      ]
     },
     "execution_count": 16,
     "metadata": {},
     "output_type": "execute_result"
    }
   ],
   "source": [
    "euclidean_metric.coeff(dphi_tilde * dtau)"
   ]
  },
  {
   "cell_type": "code",
   "execution_count": 17,
   "metadata": {},
   "outputs": [],
   "source": [
    "metric_list_matrix = [[0 for i in range(2)] for i in range(2)]\n",
    "metric_list_matrix[0][0] = euclidean_metric.coeff(dtau ** 2)\n",
    "metric_list_matrix[0][1] = euclidean_metric.coeff(dtau * dphi_tilde) / 2\n",
    "metric_list_matrix[1][0] = metric_list_matrix[0][1]\n",
    "metric_list_matrix[1][1] = euclidean_metric.coeff(dphi_tilde ** 2)"
   ]
  },
  {
   "cell_type": "code",
   "execution_count": 18,
   "metadata": {},
   "outputs": [
    {
     "data": {
      "text/latex": [
       "$\\displaystyle \\left[\\begin{matrix}\\frac{\\Delta_{r} \\Omega^{2} a^{2} \\sin^{4}{\\left(\\theta \\right)}}{W \\Xi^{2}} + \\frac{2 \\Delta_{r} \\Omega a \\sin^{2}{\\left(\\theta \\right)}}{W \\Xi} + \\frac{\\Delta_{r}}{W} - \\frac{\\Delta_{\\theta} \\Omega^{2} \\tilde{r}^{4} \\sin^{2}{\\left(\\theta \\right)}}{W \\Xi^{2}} - \\frac{2 \\Delta_{\\theta} \\Omega^{2} \\tilde{r}^{2} a^{2} \\sin^{2}{\\left(\\theta \\right)}}{W \\Xi^{2}} - \\frac{\\Delta_{\\theta} \\Omega^{2} a^{4} \\sin^{2}{\\left(\\theta \\right)}}{W \\Xi^{2}} - \\frac{2 \\Delta_{\\theta} \\Omega \\tilde{r}^{2} a \\sin^{2}{\\left(\\theta \\right)}}{W \\Xi} - \\frac{2 \\Delta_{\\theta} \\Omega a^{3} \\sin^{2}{\\left(\\theta \\right)}}{W \\Xi} - \\frac{\\Delta_{\\theta} a^{2} \\sin^{2}{\\left(\\theta \\right)}}{W} & \\frac{i \\Delta_{r} \\Omega a^{2} \\sin^{4}{\\left(\\theta \\right)}}{W \\Xi^{2}} + \\frac{i \\Delta_{r} a \\sin^{2}{\\left(\\theta \\right)}}{W \\Xi} - \\frac{i \\Delta_{\\theta} \\Omega \\tilde{r}^{4} \\sin^{2}{\\left(\\theta \\right)}}{W \\Xi^{2}} - \\frac{2 i \\Delta_{\\theta} \\Omega \\tilde{r}^{2} a^{2} \\sin^{2}{\\left(\\theta \\right)}}{W \\Xi^{2}} - \\frac{i \\Delta_{\\theta} \\Omega a^{4} \\sin^{2}{\\left(\\theta \\right)}}{W \\Xi^{2}} - \\frac{i \\Delta_{\\theta} \\tilde{r}^{2} a \\sin^{2}{\\left(\\theta \\right)}}{W \\Xi} - \\frac{i \\Delta_{\\theta} a^{3} \\sin^{2}{\\left(\\theta \\right)}}{W \\Xi}\\\\\\frac{i \\Delta_{r} \\Omega a^{2} \\sin^{4}{\\left(\\theta \\right)}}{W \\Xi^{2}} + \\frac{i \\Delta_{r} a \\sin^{2}{\\left(\\theta \\right)}}{W \\Xi} - \\frac{i \\Delta_{\\theta} \\Omega \\tilde{r}^{4} \\sin^{2}{\\left(\\theta \\right)}}{W \\Xi^{2}} - \\frac{2 i \\Delta_{\\theta} \\Omega \\tilde{r}^{2} a^{2} \\sin^{2}{\\left(\\theta \\right)}}{W \\Xi^{2}} - \\frac{i \\Delta_{\\theta} \\Omega a^{4} \\sin^{2}{\\left(\\theta \\right)}}{W \\Xi^{2}} - \\frac{i \\Delta_{\\theta} \\tilde{r}^{2} a \\sin^{2}{\\left(\\theta \\right)}}{W \\Xi} - \\frac{i \\Delta_{\\theta} a^{3} \\sin^{2}{\\left(\\theta \\right)}}{W \\Xi} & - \\frac{\\Delta_{r} a^{2} \\sin^{4}{\\left(\\theta \\right)}}{W \\Xi^{2}} + \\frac{\\Delta_{\\theta} \\tilde{r}^{4} \\sin^{2}{\\left(\\theta \\right)}}{W \\Xi^{2}} + \\frac{2 \\Delta_{\\theta} \\tilde{r}^{2} a^{2} \\sin^{2}{\\left(\\theta \\right)}}{W \\Xi^{2}} + \\frac{\\Delta_{\\theta} a^{4} \\sin^{2}{\\left(\\theta \\right)}}{W \\Xi^{2}}\\end{matrix}\\right]$"
      ],
      "text/plain": [
       "⎡    2  2    4                  2                   2          4    2         \n",
       "⎢Δᵣ⋅Ω ⋅a ⋅sin (θ)   2⋅Δᵣ⋅Ω⋅a⋅sin (θ)   Δᵣ   Δₜₕₑₜₐ⋅Ω ⋅\\tilde{r} ⋅sin (θ)   2⋅Δ\n",
       "⎢──────────────── + ──────────────── + ── - ──────────────────────────── - ───\n",
       "⎢         2               W⋅Ξ          W                   2                  \n",
       "⎢      W⋅Ξ                                              W⋅Ξ                   \n",
       "⎢                                                                             \n",
       "⎢                     2    4                2                          4    2 \n",
       "⎢             ⅈ⋅Δᵣ⋅Ω⋅a ⋅sin (θ)   ⅈ⋅Δᵣ⋅a⋅sin (θ)   ⅈ⋅Δₜₕₑₜₐ⋅Ω⋅\\tilde{r} ⋅sin (\n",
       "⎢             ───────────────── + ────────────── - ───────────────────────────\n",
       "⎢                       2              W⋅Ξ                         2          \n",
       "⎣                    W⋅Ξ                                        W⋅Ξ           \n",
       "\n",
       "       2          2  2    2              2  4    2                          2 \n",
       "ₜₕₑₜₐ⋅Ω ⋅\\tilde{r} ⋅a ⋅sin (θ)   Δₜₕₑₜₐ⋅Ω ⋅a ⋅sin (θ)   2⋅Δₜₕₑₜₐ⋅Ω⋅\\tilde{r} ⋅\n",
       "────────────────────────────── - ──────────────────── - ──────────────────────\n",
       "               2                            2                         W⋅Ξ     \n",
       "            W⋅Ξ                          W⋅Ξ                                  \n",
       "                                                                              \n",
       "                           2  2    2                  4    2                  \n",
       "θ)   2⋅ⅈ⋅Δₜₕₑₜₐ⋅Ω⋅\\tilde{r} ⋅a ⋅sin (θ)   ⅈ⋅Δₜₕₑₜₐ⋅Ω⋅a ⋅sin (θ)   ⅈ⋅Δₜₕₑₜₐ⋅\\ti\n",
       "── - ────────────────────────────────── - ───────────────────── - ────────────\n",
       "                       2                              2                       \n",
       "                    W⋅Ξ                            W⋅Ξ                        \n",
       "\n",
       "     2                  3    2              2    2             2    4         \n",
       "a⋅sin (θ)   2⋅Δₜₕₑₜₐ⋅Ω⋅a ⋅sin (θ)   Δₜₕₑₜₐ⋅a ⋅sin (θ)  ⅈ⋅Δᵣ⋅Ω⋅a ⋅sin (θ)   ⅈ⋅Δ\n",
       "───────── - ───────────────────── - ─────────────────  ───────────────── + ───\n",
       "                     W⋅Ξ                    W                    2            \n",
       "                                                              W⋅Ξ             \n",
       "                                                                              \n",
       "      2      2                3    2                                          \n",
       "lde{r} ⋅a⋅sin (θ)   ⅈ⋅Δₜₕₑₜₐ⋅a ⋅sin (θ)                                       \n",
       "───────────────── - ───────────────────                                       \n",
       " W⋅Ξ                        W⋅Ξ                                               \n",
       "                                                                              \n",
       "\n",
       "       2                          4    2                            2  2    2 \n",
       "ᵣ⋅a⋅sin (θ)   ⅈ⋅Δₜₕₑₜₐ⋅Ω⋅\\tilde{r} ⋅sin (θ)   2⋅ⅈ⋅Δₜₕₑₜₐ⋅Ω⋅\\tilde{r} ⋅a ⋅sin (\n",
       "─────────── - ───────────────────────────── - ────────────────────────────────\n",
       "  W⋅Ξ                         2                                 2             \n",
       "                           W⋅Ξ                               W⋅Ξ              \n",
       "                                                                              \n",
       "                         2    4                      4    2                   \n",
       "                     Δᵣ⋅a ⋅sin (θ)   Δₜₕₑₜₐ⋅\\tilde{r} ⋅sin (θ)   2⋅Δₜₕₑₜₐ⋅\\til\n",
       "                   - ───────────── + ───────────────────────── + ─────────────\n",
       "                             2                     2                          \n",
       "                          W⋅Ξ                   W⋅Ξ                           \n",
       "\n",
       "                 4    2                        2      2                3    2 \n",
       "θ)   ⅈ⋅Δₜₕₑₜₐ⋅Ω⋅a ⋅sin (θ)   ⅈ⋅Δₜₕₑₜₐ⋅\\tilde{r} ⋅a⋅sin (θ)   ⅈ⋅Δₜₕₑₜₐ⋅a ⋅sin (\n",
       "── - ───────────────────── - ───────────────────────────── - ─────────────────\n",
       "                 2                        W⋅Ξ                        W⋅Ξ      \n",
       "              W⋅Ξ                                                             \n",
       "                                                                              \n",
       "     2  2    2              4    2                                            \n",
       "de{r} ⋅a ⋅sin (θ)   Δₜₕₑₜₐ⋅a ⋅sin (θ)                                         \n",
       "───────────────── + ─────────────────                                         \n",
       "   2                          2                                               \n",
       "W⋅Ξ                        W⋅Ξ                                                \n",
       "\n",
       "  ⎤\n",
       "θ)⎥\n",
       "──⎥\n",
       "  ⎥\n",
       "  ⎥\n",
       "  ⎥\n",
       "  ⎥\n",
       "  ⎥\n",
       "  ⎥\n",
       "  ⎥\n",
       "  ⎦"
      ]
     },
     "execution_count": 18,
     "metadata": {},
     "output_type": "execute_result"
    }
   ],
   "source": [
    "g_mat = sympy.Matrix(metric_list_matrix)\n",
    "g_mat"
   ]
  },
  {
   "cell_type": "code",
   "execution_count": 19,
   "metadata": {},
   "outputs": [
    {
     "data": {
      "text/latex": [
       "$\\displaystyle \\left[\\begin{matrix}\\frac{\\Omega^{2} \\left(\\Delta_{r} a^{2} \\sin^{2}{\\left(\\theta \\right)} - \\Delta_{\\theta} \\tilde{r}^{4} - 2 \\Delta_{\\theta} \\tilde{r}^{2} a^{2} - \\Delta_{\\theta} a^{4}\\right) \\sin^{2}{\\left(\\theta \\right)} + 2 \\Omega \\Xi a \\left(\\Delta_{r} - \\Delta_{\\theta} \\tilde{r}^{2} - \\Delta_{\\theta} a^{2}\\right) \\sin^{2}{\\left(\\theta \\right)} + \\Xi^{2} \\left(\\Delta_{r} - \\Delta_{\\theta} a^{2} \\sin^{2}{\\left(\\theta \\right)}\\right)}{W \\Xi^{2}} & \\frac{i \\left(\\Omega \\left(\\Delta_{r} a^{2} \\sin^{2}{\\left(\\theta \\right)} - \\Delta_{\\theta} \\tilde{r}^{4} - 2 \\Delta_{\\theta} \\tilde{r}^{2} a^{2} - \\Delta_{\\theta} a^{4}\\right) + \\Xi a \\left(\\Delta_{r} - \\Delta_{\\theta} \\tilde{r}^{2} - \\Delta_{\\theta} a^{2}\\right)\\right) \\sin^{2}{\\left(\\theta \\right)}}{W \\Xi^{2}}\\\\\\frac{i \\left(\\Omega \\left(\\Delta_{r} a^{2} \\sin^{2}{\\left(\\theta \\right)} - \\Delta_{\\theta} \\tilde{r}^{4} - 2 \\Delta_{\\theta} \\tilde{r}^{2} a^{2} - \\Delta_{\\theta} a^{4}\\right) + \\Xi a \\left(\\Delta_{r} - \\Delta_{\\theta} \\tilde{r}^{2} - \\Delta_{\\theta} a^{2}\\right)\\right) \\sin^{2}{\\left(\\theta \\right)}}{W \\Xi^{2}} & \\frac{\\left(- \\Delta_{r} a^{2} \\sin^{2}{\\left(\\theta \\right)} + \\Delta_{\\theta} \\tilde{r}^{4} + 2 \\Delta_{\\theta} \\tilde{r}^{2} a^{2} + \\Delta_{\\theta} a^{4}\\right) \\sin^{2}{\\left(\\theta \\right)}}{W \\Xi^{2}}\\end{matrix}\\right]$"
      ],
      "text/plain": [
       "⎡ 2 ⎛    2    2                      4                     2  2           4⎞  \n",
       "⎢Ω ⋅⎝Δᵣ⋅a ⋅sin (θ) - Δₜₕₑₜₐ⋅\\tilde{r}  - 2⋅Δₜₕₑₜₐ⋅\\tilde{r} ⋅a  - Δₜₕₑₜₐ⋅a ⎠⋅s\n",
       "⎢─────────────────────────────────────────────────────────────────────────────\n",
       "⎢                                                                             \n",
       "⎢                                                                             \n",
       "⎢                                                                             \n",
       "⎢                     ⎛  ⎛    2    2                      4                   \n",
       "⎢                   ⅈ⋅⎝Ω⋅⎝Δᵣ⋅a ⋅sin (θ) - Δₜₕₑₜₐ⋅\\tilde{r}  - 2⋅Δₜₕₑₜₐ⋅\\tilde{\n",
       "⎢                   ──────────────────────────────────────────────────────────\n",
       "⎢                                                                             \n",
       "⎣                                                                             \n",
       "\n",
       "  2              ⎛                     2           2⎞    2       2 ⎛          \n",
       "in (θ) + 2⋅Ω⋅Ξ⋅a⋅⎝Δᵣ - Δₜₕₑₜₐ⋅\\tilde{r}  - Δₜₕₑₜₐ⋅a ⎠⋅sin (θ) + Ξ ⋅⎝Δᵣ - Δₜₕₑₜ\n",
       "──────────────────────────────────────────────────────────────────────────────\n",
       "        2                                                                     \n",
       "     W⋅Ξ                                                                      \n",
       "                                                                              \n",
       "  2  2           4⎞       ⎛                     2           2⎞⎞    2          \n",
       "r} ⋅a  - Δₜₕₑₜₐ⋅a ⎠ + Ξ⋅a⋅⎝Δᵣ - Δₜₕₑₜₐ⋅\\tilde{r}  - Δₜₕₑₜₐ⋅a ⎠⎠⋅sin (θ)       \n",
       "───────────────────────────────────────────────────────────────────────       \n",
       "        2                                                                     \n",
       "     W⋅Ξ                                                                      \n",
       "\n",
       "   2    2   ⎞    ⎛  ⎛    2    2                      4                     2  \n",
       "ₐ⋅a ⋅sin (θ)⎠  ⅈ⋅⎝Ω⋅⎝Δᵣ⋅a ⋅sin (θ) - Δₜₕₑₜₐ⋅\\tilde{r}  - 2⋅Δₜₕₑₜₐ⋅\\tilde{r} ⋅a\n",
       "─────────────  ───────────────────────────────────────────────────────────────\n",
       "                                                                              \n",
       "                                                                              \n",
       "                                                                              \n",
       "                                      ⎛      2    2                      4    \n",
       "                                      ⎝- Δᵣ⋅a ⋅sin (θ) + Δₜₕₑₜₐ⋅\\tilde{r}  + 2\n",
       "                                      ────────────────────────────────────────\n",
       "                                                                              \n",
       "                                                                             W\n",
       "\n",
       "2           4⎞       ⎛                     2           2⎞⎞    2   ⎤\n",
       "  - Δₜₕₑₜₐ⋅a ⎠ + Ξ⋅a⋅⎝Δᵣ - Δₜₕₑₜₐ⋅\\tilde{r}  - Δₜₕₑₜₐ⋅a ⎠⎠⋅sin (θ)⎥\n",
       "──────────────────────────────────────────────────────────────────⎥\n",
       "   2                                                              ⎥\n",
       "W⋅Ξ                                                               ⎥\n",
       "                                                                  ⎥\n",
       "                 2  2           4⎞    2                           ⎥\n",
       "⋅Δₜₕₑₜₐ⋅\\tilde{r} ⋅a  + Δₜₕₑₜₐ⋅a ⎠⋅sin (θ)                        ⎥\n",
       "──────────────────────────────────────────                        ⎥\n",
       "  2                                                               ⎥\n",
       "⋅Ξ                                                                ⎦"
      ]
     },
     "execution_count": 19,
     "metadata": {},
     "output_type": "execute_result"
    }
   ],
   "source": [
    "g_mat.simplify()\n",
    "g_mat"
   ]
  },
  {
   "cell_type": "code",
   "execution_count": 20,
   "metadata": {},
   "outputs": [
    {
     "data": {
      "image/png": "[encoded data removed]",
      "text/latex": [
       "$\\displaystyle \\frac{\\Delta_{r} \\Delta_{\\theta} \\left(\\tilde{r}^{2} + a^{2} \\cos^{2}{\\left(\\theta \\right)}\\right)^{2} \\sin^{2}{\\left(\\theta \\right)}}{W^{2} \\Xi^{2}}$"
      ],
      "text/plain": [
       "                                   2        \n",
       "          ⎛         2    2    2   ⎞     2   \n",
       "Δᵣ⋅Δₜₕₑₜₐ⋅⎝\\tilde{r}  + a ⋅cos (θ)⎠ ⋅sin (θ)\n",
       "────────────────────────────────────────────\n",
       "                    2  2                    \n",
       "                   W ⋅Ξ                     "
      ]
     },
     "execution_count": 20,
     "metadata": {},
     "output_type": "execute_result"
    }
   ],
   "source": [
    "g_mat.det().simplify()"
   ]
  },
  {
   "attachments": {},
   "cell_type": "markdown",
   "metadata": {},
   "source": [
    "Assuming the parameters are real, the determinant is positive. Then requiring g_00 > 0 leads to the same condition as having a timelike Killing vector field outside the horizon, but you still need to ensure g_11 > 0."
   ]
  },
  {
   "cell_type": "code",
   "execution_count": 21,
   "metadata": {},
   "outputs": [
    {
     "data": {
      "image/png": "[encoded data removed]",
      "text/latex": [
       "$\\displaystyle \\frac{\\left(- \\Delta_{r} a^{2} \\sin^{2}{\\left(\\theta \\right)} + \\Delta_{\\theta} \\tilde{r}^{4} + 2 \\Delta_{\\theta} \\tilde{r}^{2} a^{2} + \\Delta_{\\theta} a^{4}\\right) \\sin^{2}{\\left(\\theta \\right)}}{W \\Xi^{2}}$"
      ],
      "text/plain": [
       "⎛      2    2                      4                     2  2           4⎞    \n",
       "⎝- Δᵣ⋅a ⋅sin (θ) + Δₜₕₑₜₐ⋅\\tilde{r}  + 2⋅Δₜₕₑₜₐ⋅\\tilde{r} ⋅a  + Δₜₕₑₜₐ⋅a ⎠⋅sin\n",
       "──────────────────────────────────────────────────────────────────────────────\n",
       "                                          2                                   \n",
       "                                       W⋅Ξ                                    \n",
       "\n",
       "2   \n",
       " (θ)\n",
       "────\n",
       "    \n",
       "    "
      ]
     },
     "execution_count": 21,
     "metadata": {},
     "output_type": "execute_result"
    }
   ],
   "source": [
    "g_mat[1, 1]"
   ]
  },
  {
   "cell_type": "code",
   "execution_count": 22,
   "metadata": {},
   "outputs": [],
   "source": [
    "r_tilde_val = r + 2 * m * sympy.sinh(delta) ** 2\n",
    "delta_r_val = r ** 2 + a ** 2 - 2 * m * r + r_tilde ** 2 * (r_tilde ** 2 + a ** 2)\n",
    "delta_theta_val = 1 - a ** 2 * sympy.cos(theta) ** 2"
   ]
  },
  {
   "cell_type": "code",
   "execution_count": 23,
   "metadata": {},
   "outputs": [
    {
     "data": {
      "image/png": "[encoded data removed]",
      "text/latex": [
       "$\\displaystyle - \\Delta_{r} a^{2} \\sin^{2}{\\left(\\theta \\right)} + \\Delta_{\\theta} \\tilde{r}^{4} + 2 \\Delta_{\\theta} \\tilde{r}^{2} a^{2} + \\Delta_{\\theta} a^{4}$"
      ],
      "text/plain": [
       "      2    2                      4                     2  2           4\n",
       "- Δᵣ⋅a ⋅sin (θ) + Δₜₕₑₜₐ⋅\\tilde{r}  + 2⋅Δₜₕₑₜₐ⋅\\tilde{r} ⋅a  + Δₜₕₑₜₐ⋅a "
      ]
     },
     "execution_count": 23,
     "metadata": {},
     "output_type": "execute_result"
    }
   ],
   "source": [
    "g_11_num = g_mat[1, 1] * W * xi ** 2 / sympy.sin(theta) ** 2\n",
    "g_11_num"
   ]
  },
  {
   "attachments": {},
   "cell_type": "markdown",
   "metadata": {},
   "source": [
    "This is $\\Sigma$ in the paper, but by the same logic as in the Witten paper, it must be greater than zero if the metric is still to be Lorentzian outside the horizon."
   ]
  },
  {
   "cell_type": "code",
   "execution_count": 24,
   "metadata": {},
   "outputs": [
    {
     "data": {
      "image/png": "[encoded data removed]",
      "text/latex": [
       "$\\displaystyle - \\Delta_{r} a^{2} \\sin^{2}{\\left(\\theta \\right)} + \\Delta_{\\theta} \\left(\\tilde{r}^{2} + a^{2}\\right)^{2}$"
      ],
      "text/plain": [
       "                                          2\n",
       "      2    2             ⎛         2    2⎞ \n",
       "- Δᵣ⋅a ⋅sin (θ) + Δₜₕₑₜₐ⋅⎝\\tilde{r}  + a ⎠ "
      ]
     },
     "execution_count": 24,
     "metadata": {},
     "output_type": "execute_result"
    }
   ],
   "source": [
    "sigma = sympy.symbols(\"Sigma\")\n",
    "sigma_val = (r_tilde ** 2 + a ** 2) ** 2 * delta_theta - delta_r * a ** 2 * sympy.sin(theta) ** 2\n",
    "sigma_val"
   ]
  },
  {
   "cell_type": "code",
   "execution_count": 25,
   "metadata": {},
   "outputs": [
    {
     "data": {
      "image/png": "[encoded data removed]",
      "text/latex": [
       "$\\displaystyle - \\frac{\\Delta_{r} \\Delta_{\\theta} W dt^{2}}{\\Sigma} + \\frac{\\Sigma \\left(d\\phi - \\frac{\\Xi a dt \\left(- \\Delta_{r} + \\Delta_{\\theta} \\left(\\tilde{r}^{2} + a^{2}\\right)\\right)}{\\Sigma}\\right)^{2} \\sin^{2}{\\left(\\theta \\right)}}{W \\Xi^{2}}$"
      ],
      "text/plain": [
       "                                                                       2      \n",
       "                      ⎛               ⎛             ⎛         2    2⎞⎞⎞       \n",
       "                      ⎜        Ξ⋅a⋅dt⋅⎝-Δᵣ + Δₜₕₑₜₐ⋅⎝\\tilde{r}  + a ⎠⎠⎟     2 \n",
       "                2   Σ⋅⎜d\\phi - ───────────────────────────────────────⎟ ⋅sin (\n",
       "  Δᵣ⋅Δₜₕₑₜₐ⋅W⋅dt      ⎝                           Σ                   ⎠       \n",
       "- ─────────────── + ──────────────────────────────────────────────────────────\n",
       "         Σ                                         2                          \n",
       "                                                W⋅Ξ                           \n",
       "\n",
       "  \n",
       "  \n",
       "  \n",
       "θ)\n",
       "  \n",
       "──\n",
       "  \n",
       "  "
      ]
     },
     "execution_count": 25,
     "metadata": {},
     "output_type": "execute_result"
    }
   ],
   "source": [
    "metric_trans = -W * delta_r * delta_theta / sigma * dt ** 2\n",
    "metric_trans += sigma * sympy.sin(theta) ** 2 / (W * xi ** 2) * (dphi - (a * xi * (delta_theta * (r_tilde ** 2 + a ** 2) - delta_r) * dt / sigma)) ** 2\n",
    "metric_trans"
   ]
  },
  {
   "cell_type": "code",
   "execution_count": 26,
   "metadata": {},
   "outputs": [
    {
     "data": {
      "image/png": "[encoded data removed]",
      "text/latex": [
       "$\\displaystyle \\frac{\\Sigma^{2} d\\phi^{2} \\sin^{2}{\\left(\\theta \\right)} + 2 \\Sigma \\Xi a d\\phi dt \\left(\\Delta_{r} - \\Delta_{\\theta} \\tilde{r}^{2} - \\Delta_{\\theta} a^{2}\\right) \\sin^{2}{\\left(\\theta \\right)} + dt^{2} \\left(- \\Delta_{r} \\Delta_{\\theta} W^{2} \\Xi^{2} + \\Xi^{2} a^{2} \\left(\\Delta_{r}^{2} - 2 \\Delta_{r} \\Delta_{\\theta} \\tilde{r}^{2} - 2 \\Delta_{r} \\Delta_{\\theta} a^{2} + \\Delta_{\\theta}^{2} \\tilde{r}^{4} + 2 \\Delta_{\\theta}^{2} \\tilde{r}^{2} a^{2} + \\Delta_{\\theta}^{2} a^{4}\\right) \\sin^{2}{\\left(\\theta \\right)}\\right)}{\\Sigma W \\Xi^{2}}$"
      ],
      "text/plain": [
       " 2      2    2                       ⎛                     2           2⎞    2\n",
       "Σ ⋅d\\phi ⋅sin (θ) + 2⋅Σ⋅Ξ⋅a⋅d\\phi⋅dt⋅⎝Δᵣ - Δₜₕₑₜₐ⋅\\tilde{r}  - Δₜₕₑₜₐ⋅a ⎠⋅sin \n",
       "──────────────────────────────────────────────────────────────────────────────\n",
       "                                                                              \n",
       "                                                                              \n",
       "\n",
       "        2 ⎛             2  2    2  2 ⎛  2                        2            \n",
       "(θ) + dt ⋅⎝- Δᵣ⋅Δₜₕₑₜₐ⋅W ⋅Ξ  + Ξ ⋅a ⋅⎝Δᵣ  - 2⋅Δᵣ⋅Δₜₕₑₜₐ⋅\\tilde{r}  - 2⋅Δᵣ⋅Δₜₕₑ\n",
       "──────────────────────────────────────────────────────────────────────────────\n",
       "                                        2                                     \n",
       "                                   Σ⋅W⋅Ξ                                      \n",
       "\n",
       "    2         2          4           2          2  2         2  4⎞    2   ⎞\n",
       "ₜₐ⋅a  + Δₜₕₑₜₐ ⋅\\tilde{r}  + 2⋅Δₜₕₑₜₐ ⋅\\tilde{r} ⋅a  + Δₜₕₑₜₐ ⋅a ⎠⋅sin (θ)⎠\n",
       "───────────────────────────────────────────────────────────────────────────\n",
       "                                                                           \n",
       "                                                                           "
      ]
     },
     "execution_count": 26,
     "metadata": {},
     "output_type": "execute_result"
    }
   ],
   "source": [
    "metric_trans_expanded = metric_trans.expand().simplify().collect([dt ** 2, dt * dphi, dphi ** 2])\n",
    "metric_trans_expanded"
   ]
  },
  {
   "attachments": {},
   "cell_type": "markdown",
   "metadata": {},
   "source": [
    "This is the same as the original metric."
   ]
  },
  {
   "cell_type": "code",
   "execution_count": 27,
   "metadata": {},
   "outputs": [
    {
     "data": {
      "image/png": "[encoded data removed]",
      "text/latex": [
       "$\\displaystyle \\frac{\\Xi^{2} dt^{2} \\left(- \\Delta_{r} + \\Delta_{\\theta} a^{2} \\sin^{2}{\\left(\\theta \\right)}\\right) + 2 \\Xi a d\\phi dt \\left(\\Delta_{r} - \\Delta_{\\theta} \\tilde{r}^{2} - \\Delta_{\\theta} a^{2}\\right) \\sin^{2}{\\left(\\theta \\right)} + d\\phi^{2} \\left(- \\Delta_{r} a^{2} \\sin^{2}{\\left(\\theta \\right)} + \\Delta_{\\theta} \\tilde{r}^{4} + 2 \\Delta_{\\theta} \\tilde{r}^{2} a^{2} + \\Delta_{\\theta} a^{4}\\right) \\sin^{2}{\\left(\\theta \\right)}}{W \\Xi^{2}}$"
      ],
      "text/plain": [
       " 2   2 ⎛              2    2   ⎞                  ⎛                     2     \n",
       "Ξ ⋅dt ⋅⎝-Δᵣ + Δₜₕₑₜₐ⋅a ⋅sin (θ)⎠ + 2⋅Ξ⋅a⋅d\\phi⋅dt⋅⎝Δᵣ - Δₜₕₑₜₐ⋅\\tilde{r}  - Δₜ\n",
       "──────────────────────────────────────────────────────────────────────────────\n",
       "                                                                              \n",
       "                                                                              \n",
       "\n",
       "      2⎞    2           2 ⎛      2    2                      4                \n",
       "ₕₑₜₐ⋅a ⎠⋅sin (θ) + d\\phi ⋅⎝- Δᵣ⋅a ⋅sin (θ) + Δₜₕₑₜₐ⋅\\tilde{r}  + 2⋅Δₜₕₑₜₐ⋅\\til\n",
       "──────────────────────────────────────────────────────────────────────────────\n",
       "                2                                                             \n",
       "             W⋅Ξ                                                              \n",
       "\n",
       "     2  2           4⎞    2   \n",
       "de{r} ⋅a  + Δₜₕₑₜₐ⋅a ⎠⋅sin (θ)\n",
       "──────────────────────────────\n",
       "                              \n",
       "                              "
      ]
     },
     "execution_count": 27,
     "metadata": {},
     "output_type": "execute_result"
    }
   ],
   "source": [
    "metric_orig.expand().simplify().collect([dt ** 2, dt * dphi, dphi ** 2])"
   ]
  },
  {
   "attachments": {},
   "cell_type": "markdown",
   "metadata": {},
   "source": [
    "The $dtd\\phi$ and $d\\phi^2$ components can be seen right away. To see that the $dt^2$ components are the same:"
   ]
  },
  {
   "cell_type": "code",
   "execution_count": 28,
   "metadata": {},
   "outputs": [
    {
     "data": {
      "image/png": "[encoded data removed]",
      "text/latex": [
       "$\\displaystyle \\tilde{r}^{2} + a^{2} \\cos^{2}{\\left(\\theta \\right)}$"
      ],
      "text/plain": [
       "         2    2    2   \n",
       "\\tilde{r}  + a ⋅cos (θ)"
      ]
     },
     "execution_count": 28,
     "metadata": {},
     "output_type": "execute_result"
    }
   ],
   "source": [
    "W_val = r_tilde ** 2 + a ** 2 * sympy.cos(theta) ** 2\n",
    "W_val"
   ]
  },
  {
   "attachments": {},
   "cell_type": "markdown",
   "metadata": {},
   "source": [
    "From the transformed metric above, you have:"
   ]
  },
  {
   "cell_type": "code",
   "execution_count": 29,
   "metadata": {},
   "outputs": [
    {
     "data": {
      "image/png": "[encoded data removed]",
      "text/latex": [
       "$\\displaystyle \\Delta_{r}^{2} a^{2} \\sin^{2}{\\left(\\theta \\right)} - \\Delta_{r} \\Delta_{\\theta} \\tilde{r}^{4} - 2 \\Delta_{r} \\Delta_{\\theta} \\tilde{r}^{2} a^{2} - \\Delta_{r} \\Delta_{\\theta} a^{4} \\sin^{4}{\\left(\\theta \\right)} - \\Delta_{r} \\Delta_{\\theta} a^{4} + \\Delta_{\\theta}^{2} \\tilde{r}^{4} a^{2} \\sin^{2}{\\left(\\theta \\right)} + 2 \\Delta_{\\theta}^{2} \\tilde{r}^{2} a^{4} \\sin^{2}{\\left(\\theta \\right)} + \\Delta_{\\theta}^{2} a^{6} \\sin^{2}{\\left(\\theta \\right)}$"
      ],
      "text/plain": [
       "  2  2    2                         4                        2  2             \n",
       "Δᵣ ⋅a ⋅sin (θ) - Δᵣ⋅Δₜₕₑₜₐ⋅\\tilde{r}  - 2⋅Δᵣ⋅Δₜₕₑₜₐ⋅\\tilde{r} ⋅a  - Δᵣ⋅Δₜₕₑₜₐ⋅\n",
       "\n",
       " 4    4                 4         2          4  2    2              2         \n",
       "a ⋅sin (θ) - Δᵣ⋅Δₜₕₑₜₐ⋅a  + Δₜₕₑₜₐ ⋅\\tilde{r} ⋅a ⋅sin (θ) + 2⋅Δₜₕₑₜₐ ⋅\\tilde{r\n",
       "\n",
       " 2  4    2            2  6    2   \n",
       "} ⋅a ⋅sin (θ) + Δₜₕₑₜₐ ⋅a ⋅sin (θ)"
      ]
     },
     "execution_count": 29,
     "metadata": {},
     "output_type": "execute_result"
    }
   ],
   "source": [
    "sympy.fraction(metric_trans_expanded)[0].coeff(dt ** 2).subs({W: W_val}).expand().simplify() / xi ** 2"
   ]
  },
  {
   "attachments": {},
   "cell_type": "markdown",
   "metadata": {},
   "source": [
    "This is equal to this, which is the component of the original metric."
   ]
  },
  {
   "cell_type": "code",
   "execution_count": 30,
   "metadata": {},
   "outputs": [
    {
     "data": {
      "image/png": "[encoded data removed]",
      "text/latex": [
       "$\\displaystyle \\Delta_{r}^{2} a^{2} \\sin^{2}{\\left(\\theta \\right)} - \\Delta_{r} \\Delta_{\\theta} \\tilde{r}^{4} - 2 \\Delta_{r} \\Delta_{\\theta} \\tilde{r}^{2} a^{2} - \\Delta_{r} \\Delta_{\\theta} a^{4} \\sin^{4}{\\left(\\theta \\right)} - \\Delta_{r} \\Delta_{\\theta} a^{4} + \\Delta_{\\theta}^{2} \\tilde{r}^{4} a^{2} \\sin^{2}{\\left(\\theta \\right)} + 2 \\Delta_{\\theta}^{2} \\tilde{r}^{2} a^{4} \\sin^{2}{\\left(\\theta \\right)} + \\Delta_{\\theta}^{2} a^{6} \\sin^{2}{\\left(\\theta \\right)}$"
      ],
      "text/plain": [
       "  2  2    2                         4                        2  2             \n",
       "Δᵣ ⋅a ⋅sin (θ) - Δᵣ⋅Δₜₕₑₜₐ⋅\\tilde{r}  - 2⋅Δᵣ⋅Δₜₕₑₜₐ⋅\\tilde{r} ⋅a  - Δᵣ⋅Δₜₕₑₜₐ⋅\n",
       "\n",
       " 4    4                 4         2          4  2    2              2         \n",
       "a ⋅sin (θ) - Δᵣ⋅Δₜₕₑₜₐ⋅a  + Δₜₕₑₜₐ ⋅\\tilde{r} ⋅a ⋅sin (θ) + 2⋅Δₜₕₑₜₐ ⋅\\tilde{r\n",
       "\n",
       " 2  4    2            2  6    2   \n",
       "} ⋅a ⋅sin (θ) + Δₜₕₑₜₐ ⋅a ⋅sin (θ)"
      ]
     },
     "execution_count": 30,
     "metadata": {},
     "output_type": "execute_result"
    }
   ],
   "source": [
    "((-delta_r + delta_theta * a ** 2 * sympy.sin(theta) ** 2) * sigma_val).expand()"
   ]
  },
  {
   "attachments": {},
   "cell_type": "markdown",
   "metadata": {},
   "source": [
    "### SUSY Condition"
   ]
  },
  {
   "cell_type": "code",
   "execution_count": 31,
   "metadata": {},
   "outputs": [
    {
     "data": {
      "image/png": "[encoded data removed]",
      "text/latex": [
       "$\\displaystyle R - 2 m \\sinh^{2}{\\left(\\delta \\right)}$"
      ],
      "text/plain": [
       "            2   \n",
       "R - 2⋅m⋅sinh (δ)"
      ]
     },
     "execution_count": 31,
     "metadata": {},
     "output_type": "execute_result"
    }
   ],
   "source": [
    "R = sympy.symbols(\"R\")\n",
    "r_val = R - 2 * m * sympy.sinh(delta) ** 2\n",
    "r_val"
   ]
  },
  {
   "cell_type": "code",
   "execution_count": 32,
   "metadata": {},
   "outputs": [
    {
     "data": {
      "image/png": "[encoded data removed]",
      "text/latex": [
       "$\\displaystyle \\frac{2}{e^{4 \\delta} - 1}$"
      ],
      "text/plain": [
       "   2    \n",
       "────────\n",
       " 4⋅δ    \n",
       "ℯ    - 1"
      ]
     },
     "execution_count": 32,
     "metadata": {},
     "output_type": "execute_result"
    }
   ],
   "source": [
    "a_val = 2 / (sympy.exp(4 * delta) - 1)\n",
    "a_val"
   ]
  },
  {
   "cell_type": "code",
   "execution_count": 33,
   "metadata": {},
   "outputs": [
    {
     "data": {
      "image/png": "[encoded data removed]",
      "text/latex": [
       "$\\displaystyle R^{2} \\left(R^{2} + \\frac{4}{\\left(e^{4 \\delta} - 1\\right)^{2}}\\right) - 2 m \\left(R - 2 m \\sinh^{2}{\\left(\\delta \\right)}\\right) + \\left(R - 2 m \\sinh^{2}{\\left(\\delta \\right)}\\right)^{2} + \\frac{4}{\\left(e^{4 \\delta} - 1\\right)^{2}}$"
      ],
      "text/plain": [
       "                                                                   2          \n",
       " 2 ⎛ 2        4     ⎞       ⎛            2   ⎞   ⎛            2   ⎞         4 \n",
       "R ⋅⎜R  + ───────────⎟ - 2⋅m⋅⎝R - 2⋅m⋅sinh (δ)⎠ + ⎝R - 2⋅m⋅sinh (δ)⎠  + ───────\n",
       "   ⎜               2⎟                                                         \n",
       "   ⎜     ⎛ 4⋅δ    ⎞ ⎟                                                  ⎛ 4⋅δ  \n",
       "   ⎝     ⎝ℯ    - 1⎠ ⎠                                                  ⎝ℯ    -\n",
       "\n",
       "    \n",
       "    \n",
       "────\n",
       "   2\n",
       "  ⎞ \n",
       " 1⎠ "
      ]
     },
     "execution_count": 33,
     "metadata": {},
     "output_type": "execute_result"
    }
   ],
   "source": [
    "delta_r_in_R = delta_r_val.subs({r_tilde: r_tilde_val}).subs({r: r_val, a: a_val})\n",
    "delta_r_in_R"
   ]
  },
  {
   "cell_type": "code",
   "execution_count": 34,
   "metadata": {},
   "outputs": [
    {
     "data": {
      "image/png": "[encoded data removed]",
      "text/latex": [
       "$\\displaystyle R^{4} + R^{2} + \\frac{4 R^{2}}{e^{8 \\delta} - 2 e^{4 \\delta} + 1} + m^{2} \\cdot \\left(4 \\sinh^{4}{\\left(\\delta \\right)} + 4 \\sinh^{2}{\\left(\\delta \\right)}\\right) + m \\left(- 4 R \\sinh^{2}{\\left(\\delta \\right)} - 2 R\\right) + \\frac{4}{e^{8 \\delta} - 2 e^{4 \\delta} + 1}$"
      ],
      "text/plain": [
       "                    2                                                         \n",
       " 4    2          4⋅R           2 ⎛      4            2   ⎞     ⎛          2   \n",
       "R  + R  + ───────────────── + m ⋅⎝4⋅sinh (δ) + 4⋅sinh (δ)⎠ + m⋅⎝- 4⋅R⋅sinh (δ)\n",
       "           8⋅δ      4⋅δ                                                       \n",
       "          ℯ    - 2⋅ℯ    + 1                                                   \n",
       "\n",
       "                           \n",
       "      ⎞           4        \n",
       " - 2⋅R⎠ + ─────────────────\n",
       "           8⋅δ      4⋅δ    \n",
       "          ℯ    - 2⋅ℯ    + 1"
      ]
     },
     "execution_count": 34,
     "metadata": {},
     "output_type": "execute_result"
    }
   ],
   "source": [
    "delta_r_in_R = delta_r_in_R.expand().collect([m, m ** 2])\n",
    "delta_r_in_R"
   ]
  },
  {
   "cell_type": "code",
   "execution_count": 35,
   "metadata": {},
   "outputs": [],
   "source": [
    "a_coeff = delta_r_in_R.coeff(m ** 2)\n",
    "b_coeff = delta_r_in_R.coeff(m)\n",
    "c_coeff = delta_r_in_R - a_coeff * m ** 2 - b_coeff * m"
   ]
  },
  {
   "cell_type": "code",
   "execution_count": 36,
   "metadata": {},
   "outputs": [],
   "source": [
    "sinh_val = (sympy.exp(delta) - sympy.exp(-delta)) / 2\n",
    "cosh_val = (sympy.exp(delta) + sympy.exp(-delta)) / 2\n",
    "coth_val = (sympy.exp(2 * delta) + sympy.exp(-2 * delta)) / (sympy.exp(2 * delta) - sympy.exp(-2 * delta))"
   ]
  },
  {
   "attachments": {},
   "cell_type": "markdown",
   "metadata": {},
   "source": [
    "The real and imaginary parts of $m$ are the following."
   ]
  },
  {
   "cell_type": "code",
   "execution_count": 37,
   "metadata": {},
   "outputs": [
    {
     "data": {
      "image/png": "[encoded data removed]",
      "text/latex": [
       "$\\displaystyle \\frac{2 R \\left(e^{4 \\delta} + 1\\right) e^{2 \\delta}}{\\left(e^{4 \\delta} - 2\\right) e^{4 \\delta} + 1}$"
      ],
      "text/plain": [
       "    ⎛ 4⋅δ    ⎞  2⋅δ\n",
       "2⋅R⋅⎝ℯ    + 1⎠⋅ℯ   \n",
       "───────────────────\n",
       "⎛ 4⋅δ    ⎞  4⋅δ    \n",
       "⎝ℯ    - 2⎠⋅ℯ    + 1"
      ]
     },
     "execution_count": 37,
     "metadata": {},
     "output_type": "execute_result"
    }
   ],
   "source": [
    "real_part = -b_coeff / (2 * a_coeff)\n",
    "real_part = real_part.subs({sympy.sinh(delta): sinh_val})\n",
    "real_part.expand().simplify()"
   ]
  },
  {
   "cell_type": "code",
   "execution_count": 38,
   "metadata": {},
   "outputs": [
    {
     "data": {
      "image/png": "[encoded data removed]",
      "text/latex": [
       "$\\displaystyle - \\frac{4 \\left(R^{2} e^{4 \\delta} - R^{2} - 2\\right)^{2} e^{4 \\delta}}{\\left(e^{\\delta} - 1\\right)^{4} \\left(e^{\\delta} + 1\\right)^{4} \\left(e^{2 \\delta} + 1\\right)^{4}}$"
      ],
      "text/plain": [
       "                       2       \n",
       "     ⎛ 2  4⋅δ    2    ⎞   4⋅δ  \n",
       "  -4⋅⎝R ⋅ℯ    - R  - 2⎠ ⋅ℯ     \n",
       "───────────────────────────────\n",
       "        4         4           4\n",
       "⎛ δ    ⎞  ⎛ δ    ⎞  ⎛ 2⋅δ    ⎞ \n",
       "⎝ℯ  - 1⎠ ⋅⎝ℯ  + 1⎠ ⋅⎝ℯ    + 1⎠ "
      ]
     },
     "execution_count": 38,
     "metadata": {},
     "output_type": "execute_result"
    }
   ],
   "source": [
    "imag_part_square = b_coeff ** 2 / (4 * a_coeff ** 2) - c_coeff / a_coeff\n",
    "imag_part_square = imag_part_square.subs({sympy.sinh(delta): (sympy.exp(delta) - sympy.exp(-delta)) / 2})\n",
    "imag_part_square.expand().simplify().factor()"
   ]
  },
  {
   "attachments": {},
   "cell_type": "markdown",
   "metadata": {},
   "source": [
    "These match the paper."
   ]
  },
  {
   "cell_type": "code",
   "execution_count": 39,
   "metadata": {},
   "outputs": [
    {
     "data": {
      "image/png": "[encoded data removed]",
      "text/latex": [
       "$\\displaystyle \\frac{2 R \\left(e^{4 \\delta} + 1\\right) e^{2 \\delta}}{\\left(e^{4 \\delta} - 2\\right) e^{4 \\delta} + 1}$"
      ],
      "text/plain": [
       "    ⎛ 4⋅δ    ⎞  2⋅δ\n",
       "2⋅R⋅⎝ℯ    + 1⎠⋅ℯ   \n",
       "───────────────────\n",
       "⎛ 4⋅δ    ⎞  4⋅δ    \n",
       "⎝ℯ    - 2⎠⋅ℯ    + 1"
      ]
     },
     "execution_count": 39,
     "metadata": {},
     "output_type": "execute_result"
    }
   ],
   "source": [
    "real_part_paper = R * sympy.coth(2 * delta) / (2 * sympy.sinh(delta) * sympy.cosh(delta))\n",
    "real_part_paper = real_part_paper.subs({sympy.sinh(delta): sinh_val})\n",
    "real_part_paper = real_part_paper.subs({sympy.cosh(delta): cosh_val})\n",
    "real_part_paper = real_part_paper.subs({sympy.coth(2 * delta): coth_val})\n",
    "real_part_paper.expand().simplify()"
   ]
  },
  {
   "cell_type": "code",
   "execution_count": 40,
   "metadata": {},
   "outputs": [
    {
     "data": {
      "image/png": "[encoded data removed]",
      "text/latex": [
       "$\\displaystyle \\frac{2 \\left(R^{2} e^{4 \\delta} - R^{2} - 2\\right) e^{2 \\delta}}{\\left(e^{\\delta} - 1\\right)^{2} \\left(e^{\\delta} + 1\\right)^{2} \\left(e^{2 \\delta} + 1\\right)^{2}}$"
      ],
      "text/plain": [
       "     ⎛ 2  4⋅δ    2    ⎞  2⋅δ   \n",
       "   2⋅⎝R ⋅ℯ    - R  - 2⎠⋅ℯ      \n",
       "───────────────────────────────\n",
       "        2         2           2\n",
       "⎛ δ    ⎞  ⎛ δ    ⎞  ⎛ 2⋅δ    ⎞ \n",
       "⎝ℯ  - 1⎠ ⋅⎝ℯ  + 1⎠ ⋅⎝ℯ    + 1⎠ "
      ]
     },
     "execution_count": 40,
     "metadata": {},
     "output_type": "execute_result"
    }
   ],
   "source": [
    "imag_part_paper = (R ** 2 + 1 - sympy.coth(2 * delta)) / (2 * sympy.sinh(delta) * sympy.cosh(delta))\n",
    "imag_part_paper = imag_part_paper.subs({sympy.coth(2 * delta): (sympy.exp(2 * delta) + sympy.exp(-2 * delta)) / (sympy.exp(2 * delta) - sympy.exp(-2 * delta))})\n",
    "imag_part_paper = imag_part_paper.subs({sympy.sinh(delta): (sympy.exp(delta) - sympy.exp(-delta)) / 2})\n",
    "imag_part_paper = imag_part_paper.subs({sympy.cosh(delta): (sympy.exp(delta) + sympy.exp(-delta)) / 2})\n",
    "imag_part_paper.expand().simplify().factor()"
   ]
  },
  {
   "attachments": {},
   "cell_type": "markdown",
   "metadata": {},
   "source": [
    "### Allowable Metric with SUSY Condition"
   ]
  },
  {
   "cell_type": "code",
   "execution_count": 41,
   "metadata": {},
   "outputs": [],
   "source": [
    "metric_list_matrix_2 = [[0 for i in range(2)] for i in range(2)]\n",
    "metric_list_matrix_2[0][0] = metric.coeff(dt ** 2)\n",
    "metric_list_matrix_2[0][1] = metric.coeff(dt * dphi_tilde) / 2\n",
    "metric_list_matrix_2[1][0] = metric_list_matrix_2[0][1]\n",
    "metric_list_matrix_2[1][1] = metric.coeff(dphi_tilde ** 2)"
   ]
  },
  {
   "cell_type": "code",
   "execution_count": 42,
   "metadata": {},
   "outputs": [
    {
     "data": {
      "text/latex": [
       "$\\displaystyle \\left[\\begin{matrix}\\frac{\\Omega^{2} \\left(- \\Delta_{r} a^{2} \\sin^{2}{\\left(\\theta \\right)} + \\Delta_{\\theta} \\tilde{r}^{4} + 2 \\Delta_{\\theta} \\tilde{r}^{2} a^{2} + \\Delta_{\\theta} a^{4}\\right) \\sin^{2}{\\left(\\theta \\right)} + 2 \\Omega \\Xi a \\left(- \\Delta_{r} + \\Delta_{\\theta} \\tilde{r}^{2} + \\Delta_{\\theta} a^{2}\\right) \\sin^{2}{\\left(\\theta \\right)} + \\Xi^{2} \\left(- \\Delta_{r} + \\Delta_{\\theta} a^{2} \\sin^{2}{\\left(\\theta \\right)}\\right)}{W \\Xi^{2}} & \\frac{\\left(\\Omega \\left(\\Delta_{r} a^{2} \\sin^{2}{\\left(\\theta \\right)} - \\Delta_{\\theta} \\tilde{r}^{4} - 2 \\Delta_{\\theta} \\tilde{r}^{2} a^{2} - \\Delta_{\\theta} a^{4}\\right) + \\Xi a \\left(\\Delta_{r} - \\Delta_{\\theta} \\tilde{r}^{2} - \\Delta_{\\theta} a^{2}\\right)\\right) \\sin^{2}{\\left(\\theta \\right)}}{W \\Xi^{2}}\\\\\\frac{\\left(\\Omega \\left(\\Delta_{r} a^{2} \\sin^{2}{\\left(\\theta \\right)} - \\Delta_{\\theta} \\tilde{r}^{4} - 2 \\Delta_{\\theta} \\tilde{r}^{2} a^{2} - \\Delta_{\\theta} a^{4}\\right) + \\Xi a \\left(\\Delta_{r} - \\Delta_{\\theta} \\tilde{r}^{2} - \\Delta_{\\theta} a^{2}\\right)\\right) \\sin^{2}{\\left(\\theta \\right)}}{W \\Xi^{2}} & \\frac{\\left(- \\Delta_{r} a^{2} \\sin^{2}{\\left(\\theta \\right)} + \\Delta_{\\theta} \\tilde{r}^{4} + 2 \\Delta_{\\theta} \\tilde{r}^{2} a^{2} + \\Delta_{\\theta} a^{4}\\right) \\sin^{2}{\\left(\\theta \\right)}}{W \\Xi^{2}}\\end{matrix}\\right]$"
      ],
      "text/plain": [
       "⎡ 2 ⎛      2    2                      4                     2  2           4⎞\n",
       "⎢Ω ⋅⎝- Δᵣ⋅a ⋅sin (θ) + Δₜₕₑₜₐ⋅\\tilde{r}  + 2⋅Δₜₕₑₜₐ⋅\\tilde{r} ⋅a  + Δₜₕₑₜₐ⋅a ⎠\n",
       "⎢─────────────────────────────────────────────────────────────────────────────\n",
       "⎢                                                                             \n",
       "⎢                                                                             \n",
       "⎢                                                                             \n",
       "⎢                      ⎛  ⎛    2    2                      4                  \n",
       "⎢                      ⎝Ω⋅⎝Δᵣ⋅a ⋅sin (θ) - Δₜₕₑₜₐ⋅\\tilde{r}  - 2⋅Δₜₕₑₜₐ⋅\\tilde\n",
       "⎢                      ───────────────────────────────────────────────────────\n",
       "⎢                                                                             \n",
       "⎣                                                                             \n",
       "\n",
       "    2              ⎛                      2           2⎞    2       2 ⎛       \n",
       "⋅sin (θ) + 2⋅Ω⋅Ξ⋅a⋅⎝-Δᵣ + Δₜₕₑₜₐ⋅\\tilde{r}  + Δₜₕₑₜₐ⋅a ⎠⋅sin (θ) + Ξ ⋅⎝-Δᵣ + Δ\n",
       "──────────────────────────────────────────────────────────────────────────────\n",
       "          2                                                                   \n",
       "       W⋅Ξ                                                                    \n",
       "                                                                              \n",
       "   2  2           4⎞       ⎛                     2           2⎞⎞    2         \n",
       "{r} ⋅a  - Δₜₕₑₜₐ⋅a ⎠ + Ξ⋅a⋅⎝Δᵣ - Δₜₕₑₜₐ⋅\\tilde{r}  - Δₜₕₑₜₐ⋅a ⎠⎠⋅sin (θ)      \n",
       "────────────────────────────────────────────────────────────────────────      \n",
       "          2                                                                   \n",
       "       W⋅Ξ                                                                    \n",
       "\n",
       "       2    2   ⎞  ⎛  ⎛    2    2                      4                     2\n",
       "ₜₕₑₜₐ⋅a ⋅sin (θ)⎠  ⎝Ω⋅⎝Δᵣ⋅a ⋅sin (θ) - Δₜₕₑₜₐ⋅\\tilde{r}  - 2⋅Δₜₕₑₜₐ⋅\\tilde{r} \n",
       "─────────────────  ───────────────────────────────────────────────────────────\n",
       "                                                                              \n",
       "                                                                              \n",
       "                                                                              \n",
       "                                         ⎛      2    2                      4 \n",
       "                                         ⎝- Δᵣ⋅a ⋅sin (θ) + Δₜₕₑₜₐ⋅\\tilde{r}  \n",
       "                                         ─────────────────────────────────────\n",
       "                                                                              \n",
       "                                                                              \n",
       "\n",
       "  2           4⎞       ⎛                     2           2⎞⎞    2   ⎤\n",
       "⋅a  - Δₜₕₑₜₐ⋅a ⎠ + Ξ⋅a⋅⎝Δᵣ - Δₜₕₑₜₐ⋅\\tilde{r}  - Δₜₕₑₜₐ⋅a ⎠⎠⋅sin (θ)⎥\n",
       "────────────────────────────────────────────────────────────────────⎥\n",
       "      2                                                             ⎥\n",
       "   W⋅Ξ                                                              ⎥\n",
       "                                                                    ⎥\n",
       "                    2  2           4⎞    2                          ⎥\n",
       "+ 2⋅Δₜₕₑₜₐ⋅\\tilde{r} ⋅a  + Δₜₕₑₜₐ⋅a ⎠⋅sin (θ)                       ⎥\n",
       "─────────────────────────────────────────────                       ⎥\n",
       "     2                                                              ⎥\n",
       "  W⋅Ξ                                                               ⎦"
      ]
     },
     "execution_count": 42,
     "metadata": {},
     "output_type": "execute_result"
    }
   ],
   "source": [
    "g_mat_orig = sympy.Matrix(metric_list_matrix_2)\n",
    "g_mat_orig.simplify()\n",
    "g_mat_orig"
   ]
  },
  {
   "cell_type": "code",
   "execution_count": 43,
   "metadata": {},
   "outputs": [
    {
     "data": {
      "image/png": "[encoded data removed]",
      "text/latex": [
       "$\\displaystyle - \\frac{\\Delta_{r} \\Delta_{\\theta} \\left(\\tilde{r}^{2} + a^{2} \\cos^{2}{\\left(\\theta \\right)}\\right)^{2} \\sin^{2}{\\left(\\theta \\right)}}{W^{2} \\Xi^{2}}$"
      ],
      "text/plain": [
       "                                    2         \n",
       "           ⎛         2    2    2   ⎞     2    \n",
       "-Δᵣ⋅Δₜₕₑₜₐ⋅⎝\\tilde{r}  + a ⋅cos (θ)⎠ ⋅sin (θ) \n",
       "──────────────────────────────────────────────\n",
       "                     2  2                     \n",
       "                    W ⋅Ξ                      "
      ]
     },
     "execution_count": 43,
     "metadata": {},
     "output_type": "execute_result"
    }
   ],
   "source": [
    "g_mat_det_orig = g_mat_orig.det().simplify()\n",
    "g_mat_det_orig"
   ]
  },
  {
   "attachments": {},
   "cell_type": "markdown",
   "metadata": {},
   "source": [
    "$\\Delta_r$ in terms of $m$ and $R$ is given by:"
   ]
  },
  {
   "cell_type": "code",
   "execution_count": 44,
   "metadata": {},
   "outputs": [
    {
     "data": {
      "image/png": "[encoded data removed]",
      "text/latex": [
       "$\\displaystyle R^{4} + R^{2} a^{2} + R^{2} + a^{2} + m^{2} \\cdot \\left(4 \\sinh^{4}{\\left(\\delta \\right)} + 4 \\sinh^{2}{\\left(\\delta \\right)}\\right) + m \\left(- 4 R \\sinh^{2}{\\left(\\delta \\right)} - 2 R\\right)$"
      ],
      "text/plain": [
       " 4    2  2    2    2    2 ⎛      4            2   ⎞     ⎛          2         ⎞\n",
       "R  + R ⋅a  + R  + a  + m ⋅⎝4⋅sinh (δ) + 4⋅sinh (δ)⎠ + m⋅⎝- 4⋅R⋅sinh (δ) - 2⋅R⎠"
      ]
     },
     "execution_count": 44,
     "metadata": {},
     "output_type": "execute_result"
    }
   ],
   "source": [
    "delta_r_val.subs({r_tilde: r_tilde_val}).subs({r: r_val}).expand().collect([m, m ** 2])"
   ]
  },
  {
   "attachments": {},
   "cell_type": "markdown",
   "metadata": {},
   "source": [
    "which simplifies to:"
   ]
  },
  {
   "cell_type": "code",
   "execution_count": 45,
   "metadata": {},
   "outputs": [
    {
     "data": {
      "image/png": "[encoded data removed]",
      "text/latex": [
       "$\\displaystyle - 2 R m \\cosh{\\left(2 \\delta \\right)} + m^{2} \\sinh^{2}{\\left(2 \\delta \\right)} + \\left(R^{2} + 1\\right) \\left(R^{2} + a^{2}\\right)$"
      ],
      "text/plain": [
       "                    2     2        ⎛ 2    ⎞ ⎛ 2    2⎞\n",
       "-2⋅R⋅m⋅cosh(2⋅δ) + m ⋅sinh (2⋅δ) + ⎝R  + 1⎠⋅⎝R  + a ⎠"
      ]
     },
     "execution_count": 45,
     "metadata": {},
     "output_type": "execute_result"
    }
   ],
   "source": [
    "delta_r_val_in_m = sympy.sinh(2 * delta) ** 2 * m ** 2 - 2 * R * m * sympy.cosh(2 * delta) + (R ** 2 + 1) * (R ** 2 + a ** 2)\n",
    "delta_r_val_in_m"
   ]
  },
  {
   "cell_type": "code",
   "execution_count": 46,
   "metadata": {},
   "outputs": [
    {
     "data": {
      "image/png": "[encoded data removed]",
      "text/latex": [
       "$\\displaystyle R^{2} + a^{2} \\cos^{2}{\\left(\\theta \\right)}$"
      ],
      "text/plain": [
       " 2    2    2   \n",
       "R  + a ⋅cos (θ)"
      ]
     },
     "execution_count": 46,
     "metadata": {},
     "output_type": "execute_result"
    }
   ],
   "source": [
    "W_val_in_R = W_val.subs({r_tilde: R})\n",
    "W_val_in_R"
   ]
  },
  {
   "cell_type": "code",
   "execution_count": 47,
   "metadata": {},
   "outputs": [
    {
     "data": {
      "image/png": "[encoded data removed]",
      "text/latex": [
       "$\\displaystyle - \\frac{\\Delta_{\\theta} \\left(- 2 R m \\cosh{\\left(2 \\delta \\right)} + m^{2} \\sinh^{2}{\\left(2 \\delta \\right)} + \\left(R^{2} + 1\\right) \\left(R^{2} + a^{2}\\right)\\right) \\sin^{2}{\\left(\\theta \\right)}}{\\Xi^{2}}$"
      ],
      "text/plain": [
       "        ⎛                    2     2        ⎛ 2    ⎞ ⎛ 2    2⎞⎞    2    \n",
       "-Δₜₕₑₜₐ⋅⎝-2⋅R⋅m⋅cosh(2⋅δ) + m ⋅sinh (2⋅δ) + ⎝R  + 1⎠⋅⎝R  + a ⎠⎠⋅sin (θ) \n",
       "────────────────────────────────────────────────────────────────────────\n",
       "                                    2                                   \n",
       "                                   Ξ                                    "
      ]
     },
     "execution_count": 47,
     "metadata": {},
     "output_type": "execute_result"
    }
   ],
   "source": [
    "g_mat_det_orig.subs({delta_r: delta_r_val_in_m}).subs({r_tilde: R, W: W_val_in_R})"
   ]
  },
  {
   "cell_type": "code",
   "execution_count": 48,
   "metadata": {},
   "outputs": [
    {
     "data": {
      "image/png": "[encoded data removed]",
      "text/latex": [
       "$\\displaystyle a_{m} + i b_{m}$"
      ],
      "text/plain": [
       "aₘ + ⅈ⋅bₘ"
      ]
     },
     "execution_count": 48,
     "metadata": {},
     "output_type": "execute_result"
    }
   ],
   "source": [
    "a_m, b_m = sympy.symbols(\"a_m b_m\")\n",
    "m_val = a_m + sympy.I * b_m\n",
    "m_val"
   ]
  },
  {
   "attachments": {},
   "cell_type": "markdown",
   "metadata": {},
   "source": [
    "The determinant is given by:"
   ]
  },
  {
   "cell_type": "code",
   "execution_count": 49,
   "metadata": {},
   "outputs": [
    {
     "data": {
      "image/png": "[encoded data removed]",
      "text/latex": [
       "$\\displaystyle - R^{4} - R^{2} a^{2} - R^{2} + 2 R a_{m} \\cosh{\\left(2 \\delta \\right)} - a^{2} - a_{m}^{2} \\sinh^{2}{\\left(2 \\delta \\right)} + b_{m}^{2} \\sinh^{2}{\\left(2 \\delta \\right)} + 2 i b_{m} \\left(R \\cosh{\\left(2 \\delta \\right)} - a_{m} \\sinh^{2}{\\left(2 \\delta \\right)}\\right)$"
      ],
      "text/plain": [
       "   4    2  2    2                       2     2     2          2     2        \n",
       "- R  - R ⋅a  - R  + 2⋅R⋅aₘ⋅cosh(2⋅δ) - a  - aₘ ⋅sinh (2⋅δ) + bₘ ⋅sinh (2⋅δ) + \n",
       "\n",
       "       ⎛                     2     ⎞\n",
       "2⋅ⅈ⋅bₘ⋅⎝R⋅cosh(2⋅δ) - aₘ⋅sinh (2⋅δ)⎠"
      ]
     },
     "execution_count": 49,
     "metadata": {},
     "output_type": "execute_result"
    }
   ],
   "source": [
    "delta_r_with_m = -delta_r_val_in_m.subs({m: m_val}).expand().factor().collect([sympy.I]).simplify()\n",
    "delta_r_with_m"
   ]
  },
  {
   "cell_type": "code",
   "execution_count": 50,
   "metadata": {},
   "outputs": [
    {
     "data": {
      "image/png": "[encoded data removed]",
      "text/latex": [
       "$\\displaystyle 2 b_{m} \\left(R \\cosh{\\left(2 \\delta \\right)} - a_{m} \\sinh^{2}{\\left(2 \\delta \\right)}\\right)$"
      ],
      "text/plain": [
       "     ⎛                     2     ⎞\n",
       "2⋅bₘ⋅⎝R⋅cosh(2⋅δ) - aₘ⋅sinh (2⋅δ)⎠"
      ]
     },
     "execution_count": 50,
     "metadata": {},
     "output_type": "execute_result"
    }
   ],
   "source": [
    "det_g_i = delta_r_with_m.coeff(sympy.I)\n",
    "det_g_i"
   ]
  },
  {
   "cell_type": "code",
   "execution_count": 51,
   "metadata": {},
   "outputs": [
    {
     "data": {
      "image/png": "[encoded data removed]",
      "text/latex": [
       "$\\displaystyle - R^{4} - R^{2} a^{2} - R^{2} + 2 R a_{m} \\cosh{\\left(2 \\delta \\right)} - a^{2} - a_{m}^{2} \\sinh^{2}{\\left(2 \\delta \\right)} + b_{m}^{2} \\sinh^{2}{\\left(2 \\delta \\right)}$"
      ],
      "text/plain": [
       "   4    2  2    2                       2     2     2          2     2     \n",
       "- R  - R ⋅a  - R  + 2⋅R⋅aₘ⋅cosh(2⋅δ) - a  - aₘ ⋅sinh (2⋅δ) + bₘ ⋅sinh (2⋅δ)"
      ]
     },
     "execution_count": 51,
     "metadata": {},
     "output_type": "execute_result"
    }
   ],
   "source": [
    "det_g_r = delta_r_with_m - det_g_i * sympy.I\n",
    "det_g_r"
   ]
  },
  {
   "cell_type": "code",
   "execution_count": 52,
   "metadata": {},
   "outputs": [
    {
     "data": {
      "image/png": "[encoded data removed]",
      "text/latex": [
       "$\\displaystyle 2 R a_{m} \\cosh{\\left(2 \\delta \\right)} - \\left(R^{2} + 1\\right) \\left(R^{2} + a^{2}\\right) + \\left(- a_{m}^{2} + b_{m}^{2}\\right) \\sinh^{2}{\\left(2 \\delta \\right)}$"
      ],
      "text/plain": [
       "                   ⎛ 2    ⎞ ⎛ 2    2⎞   ⎛    2     2⎞     2     \n",
       "2⋅R⋅aₘ⋅cosh(2⋅δ) - ⎝R  + 1⎠⋅⎝R  + a ⎠ + ⎝- aₘ  + bₘ ⎠⋅sinh (2⋅δ)"
      ]
     },
     "execution_count": 52,
     "metadata": {},
     "output_type": "execute_result"
    }
   ],
   "source": [
    "det_g_r = (b_m ** 2 - a_m ** 2) * sympy.sinh(2 * delta) ** 2 + 2 * R * a_m * sympy.cosh(2 * delta) - (R ** 2 + 1) * (R ** 2 + a ** 2)\n",
    "det_g_r"
   ]
  },
  {
   "attachments": {},
   "cell_type": "markdown",
   "metadata": {},
   "source": [
    "There are two cases where $\\text{Re}\\sqrt{\\det g} > 0$: (1) $g_i = 0, g_r > 0$ and (2) $g_i \\neq 0$."
   ]
  },
  {
   "attachments": {},
   "cell_type": "markdown",
   "metadata": {},
   "source": [
    "#### Case 1"
   ]
  },
  {
   "cell_type": "code",
   "execution_count": 53,
   "metadata": {},
   "outputs": [
    {
     "data": {
      "image/png": "[encoded data removed]",
      "text/latex": [
       "$\\displaystyle \\frac{R \\coth{\\left(2 \\delta \\right)}}{\\sinh{\\left(2 \\delta \\right)}}$"
      ],
      "text/plain": [
       "R⋅coth(2⋅δ)\n",
       "───────────\n",
       " sinh(2⋅δ) "
      ]
     },
     "execution_count": 53,
     "metadata": {},
     "output_type": "execute_result"
    }
   ],
   "source": [
    "a_m_val = R * sympy.coth(2 * delta) / sympy.sinh(2 * delta)\n",
    "a_m_val"
   ]
  },
  {
   "cell_type": "code",
   "execution_count": 54,
   "metadata": {},
   "outputs": [
    {
     "data": {
      "image/png": "[encoded data removed]",
      "text/latex": [
       "$\\displaystyle - R^{4} - R^{2} a^{2} + \\frac{R^{2}}{\\sinh^{2}{\\left(2 \\delta \\right)}} - a^{2} + 4 b_{m}^{2} \\sinh^{4}{\\left(\\delta \\right)} + 4 b_{m}^{2} \\sinh^{2}{\\left(\\delta \\right)}$"
      ],
      "text/plain": [
       "                    2                                           \n",
       "   4    2  2       R         2       2     4          2     2   \n",
       "- R  - R ⋅a  + ────────── - a  + 4⋅bₘ ⋅sinh (δ) + 4⋅bₘ ⋅sinh (δ)\n",
       "                   2                                            \n",
       "               sinh (2⋅δ)                                       "
      ]
     },
     "execution_count": 54,
     "metadata": {},
     "output_type": "execute_result"
    }
   ],
   "source": [
    "det_g_r.subs({a_m: a_m_val}).simplify()"
   ]
  },
  {
   "cell_type": "code",
   "execution_count": 55,
   "metadata": {},
   "outputs": [
    {
     "data": {
      "image/png": "[encoded data removed]",
      "text/latex": [
       "$\\displaystyle \\frac{R^{2} - \\coth{\\left(2 \\delta \\right)} + 1}{\\sinh{\\left(2 \\delta \\right)}}$"
      ],
      "text/plain": [
       " 2                \n",
       "R  - coth(2⋅δ) + 1\n",
       "──────────────────\n",
       "    sinh(2⋅δ)     "
      ]
     },
     "execution_count": 55,
     "metadata": {},
     "output_type": "execute_result"
    }
   ],
   "source": [
    "b_m_val = (R ** 2 - sympy.coth(2 * delta) + 1) / sympy.sinh(2 * delta)\n",
    "b_m_val"
   ]
  },
  {
   "cell_type": "code",
   "execution_count": 56,
   "metadata": {},
   "outputs": [
    {
     "data": {
      "image/png": "[encoded data removed]",
      "text/latex": [
       "$\\displaystyle \\frac{e^{2 \\delta}}{2} - \\frac{e^{- 2 \\delta}}{2}$"
      ],
      "text/plain": [
       " 2⋅δ    -2⋅δ\n",
       "ℯ      ℯ    \n",
       "──── - ─────\n",
       " 2       2  "
      ]
     },
     "execution_count": 56,
     "metadata": {},
     "output_type": "execute_result"
    }
   ],
   "source": [
    "sinh_2delta_val = (sympy.exp(2 * delta) - sympy.exp(-2 * delta)) / 2\n",
    "sinh_2delta_val"
   ]
  },
  {
   "cell_type": "code",
   "execution_count": 57,
   "metadata": {},
   "outputs": [
    {
     "data": {
      "image/png": "[encoded data removed]",
      "text/latex": [
       "$\\displaystyle \\frac{4 R^{2} e^{4 \\delta} - 4 R^{2} + \\left(e^{4 \\delta} - 1\\right)^{2} \\left(- R^{4} + 4 b_{m}^{2} \\sinh^{4}{\\left(\\delta \\right)} + 4 b_{m}^{2} \\sinh^{2}{\\left(\\delta \\right)}\\right) - 4}{\\left(e^{4 \\delta} - 1\\right)^{2}}$"
      ],
      "text/plain": [
       "                             2                                             \n",
       "   2  4⋅δ      2   ⎛ 4⋅δ    ⎞  ⎛   4       2     4          2     2   ⎞    \n",
       "4⋅R ⋅ℯ    - 4⋅R  + ⎝ℯ    - 1⎠ ⋅⎝- R  + 4⋅bₘ ⋅sinh (δ) + 4⋅bₘ ⋅sinh (δ)⎠ - 4\n",
       "───────────────────────────────────────────────────────────────────────────\n",
       "                                          2                                \n",
       "                                ⎛ 4⋅δ    ⎞                                 \n",
       "                                ⎝ℯ    - 1⎠                                 "
      ]
     },
     "execution_count": 57,
     "metadata": {},
     "output_type": "execute_result"
    }
   ],
   "source": [
    "z = det_g_r.subs({a_m: a_m_val}).simplify().subs({a: a_val, sympy.sinh(2 * delta): sinh_2delta_val}).simplify()\n",
    "z"
   ]
  },
  {
   "cell_type": "code",
   "execution_count": 58,
   "metadata": {},
   "outputs": [
    {
     "data": {
      "image/png": "[encoded data removed]",
      "text/latex": [
       "$\\displaystyle - R^{4} e^{8 \\delta} + 2 R^{4} e^{4 \\delta} - R^{4} + 4 R^{2} e^{4 \\delta} - 4 R^{2} + b_{m}^{2} \\left(\\frac{e^{12 \\delta}}{4} - e^{8 \\delta} + \\frac{3 e^{4 \\delta}}{2} - 1 + \\frac{e^{- 4 \\delta}}{4}\\right) - 4$"
      ],
      "text/plain": [
       "                                                    ⎛ 12⋅δ             4⋅δ    \n",
       "   4  8⋅δ      4  4⋅δ    4      2  4⋅δ      2     2 ⎜ℯ        8⋅δ   3⋅ℯ       \n",
       "- R ⋅ℯ    + 2⋅R ⋅ℯ    - R  + 4⋅R ⋅ℯ    - 4⋅R  + bₘ ⋅⎜───── - ℯ    + ────── - 1\n",
       "                                                    ⎝  4              2       \n",
       "\n",
       "    -4⋅δ⎞    \n",
       "   ℯ    ⎟    \n",
       " + ─────⎟ - 4\n",
       "     4  ⎠    "
      ]
     },
     "execution_count": 58,
     "metadata": {},
     "output_type": "execute_result"
    }
   ],
   "source": [
    "z2 = sympy.fraction(z)[0].subs({sympy.sinh(delta): sinh_val}).expand().simplify().collect([b_m ** 2])\n",
    "z2"
   ]
  },
  {
   "cell_type": "code",
   "execution_count": 59,
   "metadata": {},
   "outputs": [
    {
     "data": {
      "image/png": "[encoded data removed]",
      "text/latex": [
       "$\\displaystyle \\frac{\\left(R^{2} e^{4 \\delta} - R^{2} - 2\\right)^{2}}{4 \\left(e^{\\delta} - 1\\right)^{4} \\left(e^{\\delta} + 1\\right)^{4} \\cosh^{4}{\\left(\\delta \\right)}}$"
      ],
      "text/plain": [
       "                       2      \n",
       "     ⎛ 2  4⋅δ    2    ⎞       \n",
       "     ⎝R ⋅ℯ    - R  - 2⎠       \n",
       "──────────────────────────────\n",
       "          4         4         \n",
       "  ⎛ δ    ⎞  ⎛ δ    ⎞      4   \n",
       "4⋅⎝ℯ  - 1⎠ ⋅⎝ℯ  + 1⎠ ⋅cosh (δ)"
      ]
     },
     "execution_count": 59,
     "metadata": {},
     "output_type": "execute_result"
    }
   ],
   "source": [
    "z3 = (-(z2 - z2.coeff(b_m ** 2) * b_m ** 2) / z2.coeff(b_m ** 2)).factor().simplify().factor()\n",
    "z3"
   ]
  },
  {
   "attachments": {},
   "cell_type": "markdown",
   "metadata": {},
   "source": [
    "### $q = 1$"
   ]
  },
  {
   "attachments": {},
   "cell_type": "markdown",
   "metadata": {},
   "source": [
    "#### Case I"
   ]
  },
  {
   "attachments": {},
   "cell_type": "markdown",
   "metadata": {},
   "source": [
    "##### $\\text{Re}\\,g_{00}>0$"
   ]
  },
  {
   "cell_type": "code",
   "execution_count": 60,
   "metadata": {},
   "outputs": [
    {
     "data": {
      "text/latex": [
       "$\\displaystyle \\left[\\begin{matrix}\\frac{\\Omega^{2} \\left(- \\Delta_{r} a^{2} \\sin^{2}{\\left(\\theta \\right)} + \\Delta_{\\theta} \\tilde{r}^{4} + 2 \\Delta_{\\theta} \\tilde{r}^{2} a^{2} + \\Delta_{\\theta} a^{4}\\right) \\sin^{2}{\\left(\\theta \\right)} + 2 \\Omega \\Xi a \\left(- \\Delta_{r} + \\Delta_{\\theta} \\tilde{r}^{2} + \\Delta_{\\theta} a^{2}\\right) \\sin^{2}{\\left(\\theta \\right)} + \\Xi^{2} \\left(- \\Delta_{r} + \\Delta_{\\theta} a^{2} \\sin^{2}{\\left(\\theta \\right)}\\right)}{W \\Xi^{2}} & \\frac{\\left(\\Omega \\left(\\Delta_{r} a^{2} \\sin^{2}{\\left(\\theta \\right)} - \\Delta_{\\theta} \\tilde{r}^{4} - 2 \\Delta_{\\theta} \\tilde{r}^{2} a^{2} - \\Delta_{\\theta} a^{4}\\right) + \\Xi a \\left(\\Delta_{r} - \\Delta_{\\theta} \\tilde{r}^{2} - \\Delta_{\\theta} a^{2}\\right)\\right) \\sin^{2}{\\left(\\theta \\right)}}{W \\Xi^{2}}\\\\\\frac{\\left(\\Omega \\left(\\Delta_{r} a^{2} \\sin^{2}{\\left(\\theta \\right)} - \\Delta_{\\theta} \\tilde{r}^{4} - 2 \\Delta_{\\theta} \\tilde{r}^{2} a^{2} - \\Delta_{\\theta} a^{4}\\right) + \\Xi a \\left(\\Delta_{r} - \\Delta_{\\theta} \\tilde{r}^{2} - \\Delta_{\\theta} a^{2}\\right)\\right) \\sin^{2}{\\left(\\theta \\right)}}{W \\Xi^{2}} & \\frac{\\left(- \\Delta_{r} a^{2} \\sin^{2}{\\left(\\theta \\right)} + \\Delta_{\\theta} \\tilde{r}^{4} + 2 \\Delta_{\\theta} \\tilde{r}^{2} a^{2} + \\Delta_{\\theta} a^{4}\\right) \\sin^{2}{\\left(\\theta \\right)}}{W \\Xi^{2}}\\end{matrix}\\right]$"
      ],
      "text/plain": [
       "⎡ 2 ⎛      2    2                      4                     2  2           4⎞\n",
       "⎢Ω ⋅⎝- Δᵣ⋅a ⋅sin (θ) + Δₜₕₑₜₐ⋅\\tilde{r}  + 2⋅Δₜₕₑₜₐ⋅\\tilde{r} ⋅a  + Δₜₕₑₜₐ⋅a ⎠\n",
       "⎢─────────────────────────────────────────────────────────────────────────────\n",
       "⎢                                                                             \n",
       "⎢                                                                             \n",
       "⎢                                                                             \n",
       "⎢                      ⎛  ⎛    2    2                      4                  \n",
       "⎢                      ⎝Ω⋅⎝Δᵣ⋅a ⋅sin (θ) - Δₜₕₑₜₐ⋅\\tilde{r}  - 2⋅Δₜₕₑₜₐ⋅\\tilde\n",
       "⎢                      ───────────────────────────────────────────────────────\n",
       "⎢                                                                             \n",
       "⎣                                                                             \n",
       "\n",
       "    2              ⎛                      2           2⎞    2       2 ⎛       \n",
       "⋅sin (θ) + 2⋅Ω⋅Ξ⋅a⋅⎝-Δᵣ + Δₜₕₑₜₐ⋅\\tilde{r}  + Δₜₕₑₜₐ⋅a ⎠⋅sin (θ) + Ξ ⋅⎝-Δᵣ + Δ\n",
       "──────────────────────────────────────────────────────────────────────────────\n",
       "          2                                                                   \n",
       "       W⋅Ξ                                                                    \n",
       "                                                                              \n",
       "   2  2           4⎞       ⎛                     2           2⎞⎞    2         \n",
       "{r} ⋅a  - Δₜₕₑₜₐ⋅a ⎠ + Ξ⋅a⋅⎝Δᵣ - Δₜₕₑₜₐ⋅\\tilde{r}  - Δₜₕₑₜₐ⋅a ⎠⎠⋅sin (θ)      \n",
       "────────────────────────────────────────────────────────────────────────      \n",
       "          2                                                                   \n",
       "       W⋅Ξ                                                                    \n",
       "\n",
       "       2    2   ⎞  ⎛  ⎛    2    2                      4                     2\n",
       "ₜₕₑₜₐ⋅a ⋅sin (θ)⎠  ⎝Ω⋅⎝Δᵣ⋅a ⋅sin (θ) - Δₜₕₑₜₐ⋅\\tilde{r}  - 2⋅Δₜₕₑₜₐ⋅\\tilde{r} \n",
       "─────────────────  ───────────────────────────────────────────────────────────\n",
       "                                                                              \n",
       "                                                                              \n",
       "                                                                              \n",
       "                                         ⎛      2    2                      4 \n",
       "                                         ⎝- Δᵣ⋅a ⋅sin (θ) + Δₜₕₑₜₐ⋅\\tilde{r}  \n",
       "                                         ─────────────────────────────────────\n",
       "                                                                              \n",
       "                                                                              \n",
       "\n",
       "  2           4⎞       ⎛                     2           2⎞⎞    2   ⎤\n",
       "⋅a  - Δₜₕₑₜₐ⋅a ⎠ + Ξ⋅a⋅⎝Δᵣ - Δₜₕₑₜₐ⋅\\tilde{r}  - Δₜₕₑₜₐ⋅a ⎠⎠⋅sin (θ)⎥\n",
       "────────────────────────────────────────────────────────────────────⎥\n",
       "      2                                                             ⎥\n",
       "   W⋅Ξ                                                              ⎥\n",
       "                                                                    ⎥\n",
       "                    2  2           4⎞    2                          ⎥\n",
       "+ 2⋅Δₜₕₑₜₐ⋅\\tilde{r} ⋅a  + Δₜₕₑₜₐ⋅a ⎠⋅sin (θ)                       ⎥\n",
       "─────────────────────────────────────────────                       ⎥\n",
       "     2                                                              ⎥\n",
       "  W⋅Ξ                                                               ⎦"
      ]
     },
     "execution_count": 60,
     "metadata": {},
     "output_type": "execute_result"
    }
   ],
   "source": [
    "g_mat_orig"
   ]
  },
  {
   "cell_type": "code",
   "execution_count": 61,
   "metadata": {},
   "outputs": [
    {
     "data": {
      "image/png": "[encoded data removed]",
      "text/latex": [
       "$\\displaystyle \\frac{\\Omega^{2} \\left(- \\Delta_{r} a^{2} \\sin^{2}{\\left(\\theta \\right)} + \\Delta_{\\theta} \\tilde{r}^{4} + 2 \\Delta_{\\theta} \\tilde{r}^{2} a^{2} + \\Delta_{\\theta} a^{4}\\right) \\sin^{2}{\\left(\\theta \\right)} + 2 \\Omega \\Xi a \\left(- \\Delta_{r} + \\Delta_{\\theta} \\tilde{r}^{2} + \\Delta_{\\theta} a^{2}\\right) \\sin^{2}{\\left(\\theta \\right)} + \\Xi^{2} \\left(- \\Delta_{r} + \\Delta_{\\theta} a^{2} \\sin^{2}{\\left(\\theta \\right)}\\right)}{W \\Xi^{2}}$"
      ],
      "text/plain": [
       " 2 ⎛      2    2                      4                     2  2           4⎞ \n",
       "Ω ⋅⎝- Δᵣ⋅a ⋅sin (θ) + Δₜₕₑₜₐ⋅\\tilde{r}  + 2⋅Δₜₕₑₜₐ⋅\\tilde{r} ⋅a  + Δₜₕₑₜₐ⋅a ⎠⋅\n",
       "──────────────────────────────────────────────────────────────────────────────\n",
       "                                                                              \n",
       "                                                                              \n",
       "\n",
       "   2              ⎛                      2           2⎞    2       2 ⎛        \n",
       "sin (θ) + 2⋅Ω⋅Ξ⋅a⋅⎝-Δᵣ + Δₜₕₑₜₐ⋅\\tilde{r}  + Δₜₕₑₜₐ⋅a ⎠⋅sin (θ) + Ξ ⋅⎝-Δᵣ + Δₜ\n",
       "──────────────────────────────────────────────────────────────────────────────\n",
       "         2                                                                    \n",
       "      W⋅Ξ                                                                     \n",
       "\n",
       "      2    2   ⎞\n",
       "ₕₑₜₐ⋅a ⋅sin (θ)⎠\n",
       "────────────────\n",
       "                \n",
       "                "
      ]
     },
     "execution_count": 61,
     "metadata": {},
     "output_type": "execute_result"
    }
   ],
   "source": [
    "g_mat_orig[0, 0]"
   ]
  },
  {
   "cell_type": "code",
   "execution_count": 62,
   "metadata": {},
   "outputs": [
    {
     "data": {
      "image/png": "[encoded data removed]",
      "text/latex": [
       "$\\displaystyle - \\frac{\\Delta_{r} \\left(\\frac{\\Omega a \\sin^{2}{\\left(\\theta \\right)}}{\\Xi} + 1\\right)^{2}}{W} + \\frac{\\Delta_{\\theta} \\left(\\frac{\\Omega \\left(\\tilde{r}^{2} + a^{2}\\right)}{\\Xi} + a\\right)^{2} \\sin^{2}{\\left(\\theta \\right)}}{W}$"
      ],
      "text/plain": [
       "                      2                                   2        \n",
       "     ⎛       2       ⎞           ⎛  ⎛         2    2⎞    ⎞         \n",
       "     ⎜Ω⋅a⋅sin (θ)    ⎟           ⎜Ω⋅⎝\\tilde{r}  + a ⎠    ⎟     2   \n",
       "  Δᵣ⋅⎜─────────── + 1⎟    Δₜₕₑₜₐ⋅⎜─────────────────── + a⎟ ⋅sin (θ)\n",
       "     ⎝     Ξ         ⎠           ⎝         Ξ             ⎠         \n",
       "- ───────────────────── + ─────────────────────────────────────────\n",
       "            W                                 W                    "
      ]
     },
     "execution_count": 62,
     "metadata": {},
     "output_type": "execute_result"
    }
   ],
   "source": [
    "g_00_new = -delta_r / W * (1 + a * sympy.sin(theta) ** 2 * omega / xi) ** 2 + delta_theta * sympy.sin(theta) ** 2 / W * (a + (r_tilde ** 2 + a ** 2) * omega / xi) ** 2\n",
    "g_00_new"
   ]
  },
  {
   "cell_type": "code",
   "execution_count": 63,
   "metadata": {},
   "outputs": [
    {
     "data": {
      "image/png": "[encoded data removed]",
      "text/latex": [
       "$\\displaystyle - \\Delta_{r} \\left(\\Omega a \\sin^{2}{\\left(\\theta \\right)} + \\Xi\\right)^{2} + \\Delta_{\\theta} \\left(\\Omega \\left(\\tilde{r}^{2} + a^{2}\\right) + \\Xi a\\right)^{2} \\sin^{2}{\\left(\\theta \\right)}$"
      ],
      "text/plain": [
       "                      2                                     2        \n",
       "     ⎛       2       ⎞           ⎛  ⎛         2    2⎞      ⎞     2   \n",
       "- Δᵣ⋅⎝Ω⋅a⋅sin (θ) + Ξ⎠  + Δₜₕₑₜₐ⋅⎝Ω⋅⎝\\tilde{r}  + a ⎠ + Ξ⋅a⎠ ⋅sin (θ)"
      ]
     },
     "execution_count": 63,
     "metadata": {},
     "output_type": "execute_result"
    }
   ],
   "source": [
    "(g_00_new * W * xi ** 2).simplify()"
   ]
  },
  {
   "cell_type": "code",
   "execution_count": 64,
   "metadata": {},
   "outputs": [
    {
     "data": {
      "image/png": "[encoded data removed]",
      "text/latex": [
       "$\\displaystyle - R^{4} - R^{2} a^{2} - R^{2} + 2 R a_{m} \\cosh{\\left(2 \\delta \\right)} - a^{2} - a_{m}^{2} \\sinh^{2}{\\left(2 \\delta \\right)} + b_{m}^{2} \\sinh^{2}{\\left(2 \\delta \\right)} - i \\left(- 2 R b_{m} \\cosh{\\left(2 \\delta \\right)} + 2 a_{m} b_{m} \\sinh^{2}{\\left(2 \\delta \\right)}\\right)$"
      ],
      "text/plain": [
       "   4    2  2    2                       2     2     2          2     2        \n",
       "- R  - R ⋅a  - R  + 2⋅R⋅aₘ⋅cosh(2⋅δ) - a  - aₘ ⋅sinh (2⋅δ) + bₘ ⋅sinh (2⋅δ) - \n",
       "\n",
       "  ⎛                                2     ⎞\n",
       "ⅈ⋅⎝-2⋅R⋅bₘ⋅cosh(2⋅δ) + 2⋅aₘ⋅bₘ⋅sinh (2⋅δ)⎠"
      ]
     },
     "execution_count": 64,
     "metadata": {},
     "output_type": "execute_result"
    }
   ],
   "source": [
    "-delta_r_val_in_m.subs({m: m_val}).expand().collect([sympy.I])"
   ]
  },
  {
   "attachments": {},
   "cell_type": "markdown",
   "metadata": {},
   "source": [
    "##### $\\text{Re}\\,g_{11}>0$"
   ]
  },
  {
   "cell_type": "code",
   "execution_count": 65,
   "metadata": {},
   "outputs": [
    {
     "data": {
      "image/png": "[encoded data removed]",
      "text/latex": [
       "$\\displaystyle \\frac{\\left(- \\Delta_{r} a^{2} \\sin^{2}{\\left(\\theta \\right)} + \\Delta_{\\theta} \\tilde{r}^{4} + 2 \\Delta_{\\theta} \\tilde{r}^{2} a^{2} + \\Delta_{\\theta} a^{4}\\right) \\sin^{2}{\\left(\\theta \\right)}}{W \\Xi^{2}}$"
      ],
      "text/plain": [
       "⎛      2    2                      4                     2  2           4⎞    \n",
       "⎝- Δᵣ⋅a ⋅sin (θ) + Δₜₕₑₜₐ⋅\\tilde{r}  + 2⋅Δₜₕₑₜₐ⋅\\tilde{r} ⋅a  + Δₜₕₑₜₐ⋅a ⎠⋅sin\n",
       "──────────────────────────────────────────────────────────────────────────────\n",
       "                                          2                                   \n",
       "                                       W⋅Ξ                                    \n",
       "\n",
       "2   \n",
       " (θ)\n",
       "────\n",
       "    \n",
       "    "
      ]
     },
     "execution_count": 65,
     "metadata": {},
     "output_type": "execute_result"
    }
   ],
   "source": [
    "g_mat_orig[1, 1]"
   ]
  },
  {
   "cell_type": "code",
   "execution_count": 66,
   "metadata": {},
   "outputs": [
    {
     "data": {
      "image/png": "[encoded data removed]",
      "text/latex": [
       "$\\displaystyle - \\Delta_{r} a^{2} \\sin^{2}{\\left(\\theta \\right)} + \\Delta_{\\theta} \\tilde{r}^{4} + 2 \\Delta_{\\theta} \\tilde{r}^{2} a^{2} + \\Delta_{\\theta} a^{4}$"
      ],
      "text/plain": [
       "      2    2                      4                     2  2           4\n",
       "- Δᵣ⋅a ⋅sin (θ) + Δₜₕₑₜₐ⋅\\tilde{r}  + 2⋅Δₜₕₑₜₐ⋅\\tilde{r} ⋅a  + Δₜₕₑₜₐ⋅a "
      ]
     },
     "execution_count": 66,
     "metadata": {},
     "output_type": "execute_result"
    }
   ],
   "source": [
    "(sympy.fraction(g_mat_orig[1, 1])[0] / sympy.sin(theta) ** 2).factor()"
   ]
  },
  {
   "attachments": {},
   "cell_type": "markdown",
   "metadata": {},
   "source": [
    "##### $\\text{Re}\\,g_{01}>0$"
   ]
  },
  {
   "cell_type": "code",
   "execution_count": 67,
   "metadata": {},
   "outputs": [
    {
     "data": {
      "image/png": "[encoded data removed]",
      "text/latex": [
       "$\\displaystyle \\Delta_{r} \\left(\\Omega a^{2} \\sin^{2}{\\left(\\theta \\right)} + \\Xi a\\right) - \\Delta_{\\theta} \\Omega \\tilde{r}^{4} - 2 \\Delta_{\\theta} \\Omega \\tilde{r}^{2} a^{2} - \\Delta_{\\theta} \\Omega a^{4} - \\Delta_{\\theta} \\Xi \\tilde{r}^{2} a - \\Delta_{\\theta} \\Xi a^{3}$"
      ],
      "text/plain": [
       "   ⎛   2    2         ⎞                     4                       2  2      \n",
       "Δᵣ⋅⎝Ω⋅a ⋅sin (θ) + Ξ⋅a⎠ - Δₜₕₑₜₐ⋅Ω⋅\\tilde{r}  - 2⋅Δₜₕₑₜₐ⋅Ω⋅\\tilde{r} ⋅a  - Δₜₕ\n",
       "\n",
       "       4                     2               3\n",
       "ₑₜₐ⋅Ω⋅a  - Δₜₕₑₜₐ⋅Ξ⋅\\tilde{r} ⋅a - Δₜₕₑₜₐ⋅Ξ⋅a "
      ]
     },
     "execution_count": 67,
     "metadata": {},
     "output_type": "execute_result"
    }
   ],
   "source": [
    "g_01 = (sympy.fraction(g_mat_orig[0, 1])[0] / sympy.sin(theta) ** 2).expand().collect([delta_r])\n",
    "g_01"
   ]
  },
  {
   "cell_type": "code",
   "execution_count": 68,
   "metadata": {},
   "outputs": [
    {
     "data": {
      "image/png": "[encoded data removed]",
      "text/latex": [
       "$\\displaystyle - \\Delta_{\\theta} \\left(\\tilde{r}^{2} + a^{2}\\right) \\left(\\Omega \\tilde{r}^{2} + \\Omega a^{2} + \\Xi a\\right)$"
      ],
      "text/plain": [
       "        ⎛         2    2⎞ ⎛           2      2      ⎞\n",
       "-Δₜₕₑₜₐ⋅⎝\\tilde{r}  + a ⎠⋅⎝Ω⋅\\tilde{r}  + Ω⋅a  + Ξ⋅a⎠"
      ]
     },
     "execution_count": 68,
     "metadata": {},
     "output_type": "execute_result"
    }
   ],
   "source": [
    "(g_01 - g_01.coeff(delta_r) * delta_r).factor()"
   ]
  },
  {
   "attachments": {},
   "cell_type": "markdown",
   "metadata": {},
   "source": [
    "#### Case II"
   ]
  },
  {
   "attachments": {},
   "cell_type": "markdown",
   "metadata": {},
   "source": [
    "### Eigenvalues"
   ]
  },
  {
   "cell_type": "code",
   "execution_count": 69,
   "metadata": {},
   "outputs": [],
   "source": [
    "A_1, A_2, A_3, A_4, A_5, A_6 = sympy.symbols(\"A_1 A_2 A_3 A_4 A_5 A_6\")"
   ]
  },
  {
   "cell_type": "code",
   "execution_count": 70,
   "metadata": {},
   "outputs": [],
   "source": [
    "metric_list_matrix_2 = [[0 for i in range(2)] for i in range(2)]\n",
    "metric_list_matrix_2[0][0] = A_1 + A_2 * delta_r\n",
    "metric_list_matrix_2[0][1] = A_3 + A_4 * delta_r\n",
    "metric_list_matrix_2[1][0] = metric_list_matrix_2[0][1]\n",
    "metric_list_matrix_2[1][1] = A_5 + A_6 * delta_r"
   ]
  },
  {
   "cell_type": "code",
   "execution_count": 71,
   "metadata": {},
   "outputs": [
    {
     "data": {
      "text/latex": [
       "$\\displaystyle \\left[\\begin{matrix}A_{1} + A_{2} \\Delta_{r} & A_{3} + A_{4} \\Delta_{r}\\\\A_{3} + A_{4} \\Delta_{r} & A_{5} + A_{6} \\Delta_{r}\\end{matrix}\\right]$"
      ],
      "text/plain": [
       "⎡A₁ + A₂⋅Δᵣ  A₃ + A₄⋅Δᵣ⎤\n",
       "⎢                      ⎥\n",
       "⎣A₃ + A₄⋅Δᵣ  A₅ + A₆⋅Δᵣ⎦"
      ]
     },
     "execution_count": 71,
     "metadata": {},
     "output_type": "execute_result"
    }
   ],
   "source": [
    "g_mat_simp = sympy.Matrix(metric_list_matrix_2)\n",
    "g_mat_simp"
   ]
  },
  {
   "cell_type": "code",
   "execution_count": 72,
   "metadata": {},
   "outputs": [
    {
     "data": {
      "image/png": "[encoded data removed]",
      "text/latex": [
       "$\\displaystyle \\left\\{ \\frac{A_{1}}{2} + \\frac{A_{2} \\Delta_{r}}{2} + \\frac{A_{5}}{2} + \\frac{A_{6} \\Delta_{r}}{2} - \\frac{\\sqrt{A_{1}^{2} + 2 A_{1} A_{2} \\Delta_{r} - 2 A_{1} A_{5} - 2 A_{1} A_{6} \\Delta_{r} + A_{2}^{2} \\Delta_{r}^{2} - 2 A_{2} A_{5} \\Delta_{r} - 2 A_{2} A_{6} \\Delta_{r}^{2} + 4 A_{3}^{2} + 8 A_{3} A_{4} \\Delta_{r} + 4 A_{4}^{2} \\Delta_{r}^{2} + A_{5}^{2} + 2 A_{5} A_{6} \\Delta_{r} + A_{6}^{2} \\Delta_{r}^{2}}}{2} : 1, \\  \\frac{A_{1}}{2} + \\frac{A_{2} \\Delta_{r}}{2} + \\frac{A_{5}}{2} + \\frac{A_{6} \\Delta_{r}}{2} + \\frac{\\sqrt{A_{1}^{2} + 2 A_{1} A_{2} \\Delta_{r} - 2 A_{1} A_{5} - 2 A_{1} A_{6} \\Delta_{r} + A_{2}^{2} \\Delta_{r}^{2} - 2 A_{2} A_{5} \\Delta_{r} - 2 A_{2} A_{6} \\Delta_{r}^{2} + 4 A_{3}^{2} + 8 A_{3} A_{4} \\Delta_{r} + 4 A_{4}^{2} \\Delta_{r}^{2} + A_{5}^{2} + 2 A_{5} A_{6} \\Delta_{r} + A_{6}^{2} \\Delta_{r}^{2}}}{2} : 1\\right\\}$"
      ],
      "text/plain": [
       "⎧                             ________________________________________________\n",
       "⎪                            ╱   2                                         2  \n",
       "⎨A₁   A₂⋅Δᵣ   A₅   A₆⋅Δᵣ   ╲╱  A₁  + 2⋅A₁⋅A₂⋅Δᵣ - 2⋅A₁⋅A₅ - 2⋅A₁⋅A₆⋅Δᵣ + A₂ ⋅Δ\n",
       "⎪── + ───── + ── + ───── - ───────────────────────────────────────────────────\n",
       "⎩2      2     2      2                                                        \n",
       "\n",
       "______________________________________________________________________________\n",
       " 2                          2       2                    2   2     2          \n",
       "ᵣ  - 2⋅A₂⋅A₅⋅Δᵣ - 2⋅A₂⋅A₆⋅Δᵣ  + 4⋅A₃  + 8⋅A₃⋅A₄⋅Δᵣ + 4⋅A₄ ⋅Δᵣ  + A₅  + 2⋅A₅⋅A₆\n",
       "──────────────────────────────────────────────────────────────────────────────\n",
       "                    2                                                         \n",
       "\n",
       "______________                                  ______________________________\n",
       "        2   2                                  ╱   2                          \n",
       "⋅Δᵣ + A₆ ⋅Δᵣ       A₁   A₂⋅Δᵣ   A₅   A₆⋅Δᵣ   ╲╱  A₁  + 2⋅A₁⋅A₂⋅Δᵣ - 2⋅A₁⋅A₅ - \n",
       "──────────────: 1, ── + ───── + ── + ───── + ─────────────────────────────────\n",
       "                   2      2     2      2                                      \n",
       "\n",
       "______________________________________________________________________________\n",
       "               2   2                          2       2                    2  \n",
       "2⋅A₁⋅A₆⋅Δᵣ + A₂ ⋅Δᵣ  - 2⋅A₂⋅A₅⋅Δᵣ - 2⋅A₂⋅A₆⋅Δᵣ  + 4⋅A₃  + 8⋅A₃⋅A₄⋅Δᵣ + 4⋅A₄ ⋅Δ\n",
       "──────────────────────────────────────────────────────────────────────────────\n",
       "                                      2                                       \n",
       "\n",
       "________________________________   ⎫\n",
       " 2     2                  2   2    ⎪\n",
       "ᵣ  + A₅  + 2⋅A₅⋅A₆⋅Δᵣ + A₆ ⋅Δᵣ     ⎬\n",
       "────────────────────────────────: 1⎪\n",
       "                                   ⎭"
      ]
     },
     "execution_count": 72,
     "metadata": {},
     "output_type": "execute_result"
    }
   ],
   "source": [
    "eigs = g_mat_simp.eigenvals()\n",
    "eigs"
   ]
  },
  {
   "cell_type": "code",
   "execution_count": 73,
   "metadata": {},
   "outputs": [
    {
     "data": {
      "image/png": "[encoded data removed]",
      "text/latex": [
       "$\\displaystyle \\Delta_{r} \\left(- \\Omega^{2} a^{2} \\sin^{4}{\\left(\\theta \\right)} - 2 \\Omega \\Xi a \\sin^{2}{\\left(\\theta \\right)} - \\Xi^{2}\\right) + \\Delta_{\\theta} \\Omega^{2} \\tilde{r}^{4} \\sin^{2}{\\left(\\theta \\right)} + 2 \\Delta_{\\theta} \\Omega^{2} \\tilde{r}^{2} a^{2} \\sin^{2}{\\left(\\theta \\right)} + \\Delta_{\\theta} \\Omega^{2} a^{4} \\sin^{2}{\\left(\\theta \\right)} + 2 \\Delta_{\\theta} \\Omega \\Xi \\tilde{r}^{2} a \\sin^{2}{\\left(\\theta \\right)} + 2 \\Delta_{\\theta} \\Omega \\Xi a^{3} \\sin^{2}{\\left(\\theta \\right)} + \\Delta_{\\theta} \\Xi^{2} a^{2} \\sin^{2}{\\left(\\theta \\right)}$"
      ],
      "text/plain": [
       "   ⎛   2  2    4                 2       2⎞           2          4    2       \n",
       "Δᵣ⋅⎝- Ω ⋅a ⋅sin (θ) - 2⋅Ω⋅Ξ⋅a⋅sin (θ) - Ξ ⎠ + Δₜₕₑₜₐ⋅Ω ⋅\\tilde{r} ⋅sin (θ) + 2\n",
       "\n",
       "         2          2  2    2              2  4    2                          \n",
       "⋅Δₜₕₑₜₐ⋅Ω ⋅\\tilde{r} ⋅a ⋅sin (θ) + Δₜₕₑₜₐ⋅Ω ⋅a ⋅sin (θ) + 2⋅Δₜₕₑₜₐ⋅Ω⋅Ξ⋅\\tilde{\n",
       "\n",
       "  2      2                    3    2              2  2    2   \n",
       "r} ⋅a⋅sin (θ) + 2⋅Δₜₕₑₜₐ⋅Ω⋅Ξ⋅a ⋅sin (θ) + Δₜₕₑₜₐ⋅Ξ ⋅a ⋅sin (θ)"
      ]
     },
     "execution_count": 73,
     "metadata": {},
     "output_type": "execute_result"
    }
   ],
   "source": [
    "g_00_simp = (g_mat_orig[0, 0] * W * xi ** 2).expand().collect(delta_r)\n",
    "g_00_simp"
   ]
  },
  {
   "cell_type": "code",
   "execution_count": 74,
   "metadata": {},
   "outputs": [],
   "source": [
    "A_2_val = g_00_simp.coeff(delta_r).simplify()\n",
    "A_1_val = (g_00_simp - A_2_val * delta_r).simplify().factor()"
   ]
  },
  {
   "cell_type": "code",
   "execution_count": 75,
   "metadata": {},
   "outputs": [
    {
     "data": {
      "image/png": "[encoded data removed]",
      "text/latex": [
       "$\\displaystyle - \\Delta_{r} a^{2} \\sin^{4}{\\left(\\theta \\right)} + \\Delta_{\\theta} \\tilde{r}^{4} \\sin^{2}{\\left(\\theta \\right)} + 2 \\Delta_{\\theta} \\tilde{r}^{2} a^{2} \\sin^{2}{\\left(\\theta \\right)} + \\Delta_{\\theta} a^{4} \\sin^{2}{\\left(\\theta \\right)}$"
      ],
      "text/plain": [
       "      2    4                      4    2                        2  2    2     \n",
       "- Δᵣ⋅a ⋅sin (θ) + Δₜₕₑₜₐ⋅\\tilde{r} ⋅sin (θ) + 2⋅Δₜₕₑₜₐ⋅\\tilde{r} ⋅a ⋅sin (θ) +\n",
       "\n",
       "         4    2   \n",
       " Δₜₕₑₜₐ⋅a ⋅sin (θ)"
      ]
     },
     "execution_count": 75,
     "metadata": {},
     "output_type": "execute_result"
    }
   ],
   "source": [
    "g_11_simp = (g_mat_orig[1, 1] * W * xi ** 2).expand().collect(delta_r)\n",
    "g_11_simp"
   ]
  },
  {
   "cell_type": "code",
   "execution_count": 76,
   "metadata": {},
   "outputs": [],
   "source": [
    "A_6_val = g_11_simp.coeff(delta_r).simplify()\n",
    "A_5_val = (g_11_simp - A_6_val * delta_r).simplify().factor()"
   ]
  },
  {
   "cell_type": "code",
   "execution_count": 77,
   "metadata": {},
   "outputs": [
    {
     "data": {
      "image/png": "[encoded data removed]",
      "text/latex": [
       "$\\displaystyle \\frac{\\Delta_{\\theta} \\left(- \\left(\\tilde{r}^{2} + a^{2}\\right)^{2} - \\left(\\Omega \\tilde{r}^{2} + \\Omega a^{2} + \\Xi a\\right)^{2}\\right) \\sin^{2}{\\left(\\theta \\right)}}{a^{2} \\sin^{4}{\\left(\\theta \\right)} + \\left(\\Omega a \\sin^{2}{\\left(\\theta \\right)} + \\Xi\\right)^{2}}$"
      ],
      "text/plain": [
       "       ⎛                   2                              2⎞        \n",
       "       ⎜  ⎛         2    2⎞    ⎛           2      2      ⎞ ⎟    2   \n",
       "Δₜₕₑₜₐ⋅⎝- ⎝\\tilde{r}  + a ⎠  - ⎝Ω⋅\\tilde{r}  + Ω⋅a  + Ξ⋅a⎠ ⎠⋅sin (θ)\n",
       "────────────────────────────────────────────────────────────────────\n",
       "                                                2                   \n",
       "                   2    4      ⎛       2       ⎞                    \n",
       "                  a ⋅sin (θ) + ⎝Ω⋅a⋅sin (θ) + Ξ⎠                    "
      ]
     },
     "execution_count": 77,
     "metadata": {},
     "output_type": "execute_result"
    }
   ],
   "source": [
    "((A_1_val + A_5_val) / (A_2_val + A_6_val)).simplify()"
   ]
  }
 ],
 "metadata": {
  "kernelspec": {
   "display_name": "env",
   "language": "python",
   "name": "python3"
  },
  "language_info": {
   "codemirror_mode": {
    "name": "ipython",
    "version": 3
   },
   "file_extension": ".py",
   "mimetype": "text/x-python",
   "name": "python",
   "nbconvert_exporter": "python",
   "pygments_lexer": "ipython3",
   "version": "3.10.3"
  },
  "orig_nbformat": 4
 },
 "nbformat": 4,
 "nbformat_minor": 2
}
