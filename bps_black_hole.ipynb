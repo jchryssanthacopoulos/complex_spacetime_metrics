{
 "cells": [
  {
   "cell_type": "code",
   "execution_count": 1,
   "metadata": {},
   "outputs": [],
   "source": [
    "import sympy"
   ]
  },
  {
   "cell_type": "code",
   "execution_count": 10,
   "metadata": {},
   "outputs": [],
   "source": [
    "r, a, m, delta, r_tilde = sympy.symbols(\"r a m delta \\\\tilde{r}\")"
   ]
  },
  {
   "cell_type": "code",
   "execution_count": 11,
   "metadata": {},
   "outputs": [
    {
     "data": {
      "text/latex": [
       "$\\displaystyle 2 m \\sinh^{2}{\\left(\\delta \\right)} + r$"
      ],
      "text/plain": [
       "2*m*sinh(delta)**2 + r"
      ]
     },
     "execution_count": 11,
     "metadata": {},
     "output_type": "execute_result"
    }
   ],
   "source": [
    "r_tilde_val = r + 2 * m * sympy.sinh(delta) ** 2\n",
    "r_tilde_val"
   ]
  },
  {
   "cell_type": "code",
   "execution_count": 12,
   "metadata": {},
   "outputs": [
    {
     "data": {
      "text/latex": [
       "$\\displaystyle \\tilde{r}^{2} \\left(\\tilde{r}^{2} + a^{2}\\right) + a^{2} - 2 m r + r^{2}$"
      ],
      "text/plain": [
       "\\tilde{r}**2*(\\tilde{r}**2 + a**2) + a**2 - 2*m*r + r**2"
      ]
     },
     "execution_count": 12,
     "metadata": {},
     "output_type": "execute_result"
    }
   ],
   "source": [
    "delta_r = r ** 2 + a ** 2 - 2 * m * r + r_tilde ** 2 * (r_tilde ** 2 + a ** 2)\n",
    "delta_r"
   ]
  },
  {
   "cell_type": "code",
   "execution_count": 38,
   "metadata": {},
   "outputs": [
    {
     "data": {
      "text/latex": [
       "$\\displaystyle \\frac{2}{e^{4 \\delta} - 1}$"
      ],
      "text/plain": [
       "2/(exp(4*delta) - 1)"
      ]
     },
     "execution_count": 38,
     "metadata": {},
     "output_type": "execute_result"
    }
   ],
   "source": [
    "a_val = 2 / (sympy.exp(4 * delta) - 1)\n",
    "a_val"
   ]
  },
  {
   "cell_type": "code",
   "execution_count": 46,
   "metadata": {},
   "outputs": [
    {
     "data": {
      "text/latex": [
       "$\\displaystyle - 2 m r + r^{2} + \\left(2 m \\sinh^{2}{\\left(\\delta \\right)} + r\\right)^{2} \\left(\\left(2 m \\sinh^{2}{\\left(\\delta \\right)} + r\\right)^{2} + \\frac{4}{\\left(e^{4 \\delta} - 1\\right)^{2}}\\right) + \\frac{4}{\\left(e^{4 \\delta} - 1\\right)^{2}}$"
      ],
      "text/plain": [
       "-2*m*r + r**2 + (2*m*sinh(delta)**2 + r)**2*((2*m*sinh(delta)**2 + r)**2 + 4/(exp(4*delta) - 1)**2) + 4/(exp(4*delta) - 1)**2"
      ]
     },
     "execution_count": 46,
     "metadata": {},
     "output_type": "execute_result"
    }
   ],
   "source": [
    "delta_r_in_r = delta_r.subs({r_tilde: r_tilde_val, a: a_val}).expand().simplify().collect(r)\n",
    "delta_r_in_r"
   ]
  },
  {
   "cell_type": "code",
   "execution_count": 47,
   "metadata": {},
   "outputs": [
    {
     "data": {
      "text/latex": [
       "$\\displaystyle \\sinh{\\left(4 \\delta \\right)} + \\cosh{\\left(4 \\delta \\right)}$"
      ],
      "text/plain": [
       "sinh(4*delta) + cosh(4*delta)"
      ]
     },
     "execution_count": 47,
     "metadata": {},
     "output_type": "execute_result"
    }
   ],
   "source": [
    "exp_4delta_val = sympy.cosh(4 * delta) + sympy.sinh(4 * delta)\n",
    "exp_4delta_val"
   ]
  },
  {
   "cell_type": "code",
   "execution_count": 61,
   "metadata": {},
   "outputs": [
    {
     "data": {
      "text/latex": [
       "$\\displaystyle \\left(- \\frac{2 m \\sinh^{2}{\\left(\\delta \\right)}}{\\cosh{\\left(2 \\delta \\right)}} + r\\right)^{2} \\coth^{2}{\\left(2 \\delta \\right)} + \\left(\\left(2 m \\sinh^{2}{\\left(\\delta \\right)} + r\\right)^{2} - \\frac{2}{e^{4 \\delta} - 1}\\right)^{2}$"
      ],
      "text/plain": [
       "(-2*m*sinh(delta)**2/cosh(2*delta) + r)**2*coth(2*delta)**2 + ((2*m*sinh(delta)**2 + r)**2 - 2/(exp(4*delta) - 1))**2"
      ]
     },
     "execution_count": 61,
     "metadata": {},
     "output_type": "execute_result"
    }
   ],
   "source": [
    "delta_r_in_r_2 = (r_tilde_val ** 2 - 2 / (sympy.exp(4 * delta) - 1)) ** 2 + sympy.coth(2 * delta) ** 2 * (r - 2 * m * sympy.sinh(delta) ** 2 / sympy.cosh(2 * delta)) ** 2\n",
    "delta_r_in_r_2"
   ]
  },
  {
   "cell_type": "code",
   "execution_count": 67,
   "metadata": {},
   "outputs": [
    {
     "data": {
      "text/latex": [
       "$\\displaystyle 0$"
      ],
      "text/plain": [
       "0"
      ]
     },
     "execution_count": 67,
     "metadata": {},
     "output_type": "execute_result"
    }
   ],
   "source": [
    "(delta_r_in_r - delta_r_in_r_2).simplify().expand().simplify()"
   ]
  },
  {
   "cell_type": "code",
   "execution_count": 73,
   "metadata": {},
   "outputs": [
    {
     "data": {
      "text/latex": [
       "$\\displaystyle \\frac{2 m \\sinh^{2}{\\left(\\delta \\right)}}{\\cosh{\\left(2 \\delta \\right)}}$"
      ],
      "text/plain": [
       "2*m*sinh(delta)**2/cosh(2*delta)"
      ]
     },
     "execution_count": 73,
     "metadata": {},
     "output_type": "execute_result"
    }
   ],
   "source": [
    "r_val = 2 * m * sympy.sinh(delta) ** 2 / sympy.cosh(2 * delta)\n",
    "r_val"
   ]
  },
  {
   "cell_type": "code",
   "execution_count": 84,
   "metadata": {},
   "outputs": [
    {
     "data": {
      "text/latex": [
       "$\\displaystyle \\frac{e^{- \\delta} \\cosh{\\left(2 \\delta \\right)}}{\\sinh^{\\frac{5}{2}}{\\left(2 \\delta \\right)}}$"
      ],
      "text/plain": [
       "exp(-delta)*cosh(2*delta)/sinh(2*delta)**(5/2)"
      ]
     },
     "execution_count": 84,
     "metadata": {},
     "output_type": "execute_result"
    }
   ],
   "source": [
    "m_val = sympy.cosh(2 * delta) / (sympy.exp(delta) * sympy.sinh(2 * delta) ** 2 * sympy.sqrt(sympy.sinh(2 * delta)))\n",
    "m_val"
   ]
  },
  {
   "cell_type": "code",
   "execution_count": 79,
   "metadata": {},
   "outputs": [
    {
     "data": {
      "text/latex": [
       "$\\displaystyle \\left(2 m \\sinh^{2}{\\left(\\delta \\right)} + \\frac{2 m \\sinh^{2}{\\left(\\delta \\right)}}{\\cosh{\\left(2 \\delta \\right)}}\\right)^{2} - \\frac{2}{e^{4 \\delta} - 1}$"
      ],
      "text/plain": [
       "(2*m*sinh(delta)**2 + 2*m*sinh(delta)**2/cosh(2*delta))**2 - 2/(exp(4*delta) - 1)"
      ]
     },
     "execution_count": 79,
     "metadata": {},
     "output_type": "execute_result"
    }
   ],
   "source": [
    "expr = (r_tilde_val ** 2 - a).subs({r: r_val, a: a_val})\n",
    "expr"
   ]
  },
  {
   "cell_type": "code",
   "execution_count": 80,
   "metadata": {},
   "outputs": [],
   "source": [
    "m_roots = sympy.solve(expr, m)"
   ]
  },
  {
   "cell_type": "code",
   "execution_count": 100,
   "metadata": {},
   "outputs": [
    {
     "data": {
      "text/latex": [
       "$\\displaystyle \\frac{\\left(2 \\sinh^{2}{\\left(\\delta \\right)} + 1\\right)^{2}}{8 \\left(e^{4 \\delta} - 1\\right) \\sinh^{4}{\\left(\\delta \\right)} \\cosh^{4}{\\left(\\delta \\right)}}$"
      ],
      "text/plain": [
       "(2*sinh(delta)**2 + 1)**2/(8*(exp(4*delta) - 1)*sinh(delta)**4*cosh(delta)**4)"
      ]
     },
     "execution_count": 100,
     "metadata": {},
     "output_type": "execute_result"
    }
   ],
   "source": [
    "(m_roots[0] ** 2).simplify()"
   ]
  }
 ],
 "metadata": {
  "kernelspec": {
   "display_name": "env",
   "language": "python",
   "name": "python3"
  },
  "language_info": {
   "codemirror_mode": {
    "name": "ipython",
    "version": 3
   },
   "file_extension": ".py",
   "mimetype": "text/x-python",
   "name": "python",
   "nbconvert_exporter": "python",
   "pygments_lexer": "ipython3",
   "version": "3.10.3"
  },
  "orig_nbformat": 4
 },
 "nbformat": 4,
 "nbformat_minor": 2
}
